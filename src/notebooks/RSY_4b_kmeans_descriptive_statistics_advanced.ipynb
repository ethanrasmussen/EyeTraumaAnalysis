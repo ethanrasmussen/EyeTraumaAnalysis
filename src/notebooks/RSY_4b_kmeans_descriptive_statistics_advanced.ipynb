{
 "cells": [
  {
   "cell_type": "code",
   "execution_count": 1,
   "metadata": {
    "collapsed": true
   },
   "outputs": [
    {
     "name": "stdout",
     "output_type": "stream",
     "text": [
      "/Users/ryerrabelli/Library/CloudStorage/GoogleDrive-ryerrabelli@gmail.com/My Drive/Computer Backups/Rahul Yerrabelli drive/PythonProjects/EyeTraumaAnalysis/src\n"
     ]
    }
   ],
   "source": [
    "import os\n",
    "import sys\n",
    "import importlib\n",
    "import json\n",
    "import numpy as np\n",
    "import pandas as pd\n",
    "import scipy.ndimage as snd\n",
    "import skimage\n",
    "import uuid\n",
    "\n",
    "if os.getcwd().split(\"/\")[-1] == \"notebooks\":\n",
    "    os.chdir(\"../..\")\n",
    "directory_path = os.path.abspath(os.path.join(\"src\"))\n",
    "if directory_path not in sys.path:\n",
    "    sys.path.append(directory_path)\n",
    "\n",
    "import EyeTraumaAnalysis\n",
    "\n",
    "print(directory_path)\n",
    "importlib.reload(EyeTraumaAnalysis);\n",
    "import numpy as np\n",
    "import pandas as pd\n",
    "from matplotlib import pyplot as plt\n",
    "import matplotlib as mpl\n",
    "import cv2\n",
    "\n",
    "import plotly.express as px\n",
    "import plotly\n"
   ]
  },
  {
   "cell_type": "markdown",
   "source": [
    "# Load data from excel"
   ],
   "metadata": {
    "collapsed": false
   }
  },
  {
   "cell_type": "code",
   "execution_count": 2,
   "outputs": [],
   "source": [
    "kmeans_labels = pd.read_excel(\"data/01_raw/Ergonautus/Ergonautus_Clusters_Correct_Values.xlsx\", dtype={\n",
    "    \"Correct 1\" : \"Int64\",  # \"Int64\" is from pandas, unlike int64 and allows null\n",
    "    \"Correct 2\" : \"Int64\",\n",
    "    \"Correct 3\" : \"Int64\",\n",
    "    \"Borderline\": \"Int64\",\n",
    "    \"Notes\"     : str,\n",
    "    \"Filename\"  : str,\n",
    "}, na_filter=False)  # False na_filters make empty value for str column be \"\" instead of NaN"
   ],
   "metadata": {
    "collapsed": false
   }
  },
  {
   "cell_type": "markdown",
   "source": [
    "# Calculate metrics"
   ],
   "metadata": {
    "collapsed": false
   }
  },
  {
   "cell_type": "code",
   "execution_count": 3,
   "outputs": [],
   "source": [
    "all_metrics = []\n",
    "all_kmeans_masks = {}\n",
    "for ind, filename in enumerate(kmeans_labels[\"Filename\"]):\n",
    "    img_bgr = skimage.io.imread(os.path.join(\"data/01_raw/\", filename))\n",
    "    centers, ranges, res_bgr, kmeans_masks = EyeTraumaAnalysis.kmeans.create_kmeans(img_bgr)\n",
    "    metrics = EyeTraumaAnalysis.kmeans.get_kmeans_metrics(centers, ranges, kmeans_masks)\n",
    "    all_metrics.append(metrics)\n",
    "    all_kmeans_masks[filename] = kmeans_masks\n",
    "\n",
    "all_metrics = pd.concat(all_metrics, keys=kmeans_labels[\"Filename\"])"
   ],
   "metadata": {
    "collapsed": false
   }
  },
  {
   "cell_type": "code",
   "execution_count": 4,
   "outputs": [],
   "source": [
    "all_metrics.loc[:, (\"Labels\", \"Value\", \"\", \"\")] = \"False\"\n",
    "all_metrics.loc[:, (\"Labels\", \"Correct\", \"\", \"\")] = False\n",
    "all_metrics.loc[:, (\"Labels\", \"Borderline\", \"\", \"\")] = False\n",
    "for ind, row in kmeans_labels.iterrows():\n",
    "    filename = row[\"Filename\"]\n",
    "\n",
    "    correct_indices = row[[\"Correct 1\", \"Correct 2\", \"Correct 3\"]] - 1  # subtract by 1 to go from 1-10 to 0-9\n",
    "    correct_indices = correct_indices[~pd.isnull(correct_indices)].to_numpy().astype(int)\n",
    "    file_maskrow_correct_indices = [(filename, correct_index) for correct_index in correct_indices]\n",
    "    all_metrics.loc[file_maskrow_correct_indices, (\"Labels\", \"Correct\", \"\", \"\")] = True\n",
    "    all_metrics.loc[file_maskrow_correct_indices, (\"Labels\", \"Value\", \"\", \"\")] = \"True\"\n",
    "\n",
    "    borderline_indices = row[[\"Borderline\"]] - 1\n",
    "    borderline_indices = borderline_indices[~pd.isnull(borderline_indices)].to_numpy().astype(int)\n",
    "    file_maskrow_borderline_indices = [(filename, borderline_index) for borderline_index in borderline_indices]\n",
    "    all_metrics.loc[file_maskrow_borderline_indices, (\"Labels\", \"Borderline\", \"\", \"\")] = True\n",
    "    all_metrics.loc[file_maskrow_borderline_indices, (\"Labels\", \"Value\", \"\", \"\")] = \"Maybe\"\n",
    "\n",
    "# Reorder\n",
    "all_metrics = all_metrics[[\"Labels\", \"Ranks\", \"Values\"]]\n",
    "# Label the second index\n",
    "all_metrics.index.names = [all_metrics.index.names[0], \"Mask\"]"
   ],
   "metadata": {
    "collapsed": false
   }
  },
  {
   "cell_type": "code",
   "execution_count": 5,
   "outputs": [
    {
     "name": "stderr",
     "output_type": "stream",
     "text": [
      "/Users/ryerrabelli/opt/anaconda3/envs/EyeTraumaAnalysis/lib/python3.10/site-packages/IPython/core/interactiveshell.py:3135: PerformanceWarning: indexing past lexsort depth may impact performance.\n",
      "  has_raised = await self.run_ast_nodes(code_ast.body, cell_name,\n",
      "/Users/ryerrabelli/opt/anaconda3/envs/EyeTraumaAnalysis/lib/python3.10/site-packages/pandas/core/groupby/generic.py:979: PerformanceWarning: indexing past lexsort depth may impact performance.\n",
      "  result = op.agg()\n"
     ]
    }
   ],
   "source": [
    "all_metrics_agg = all_metrics.groupby([(\"Labels\", \"Value\")]).agg([\"median\"])[[\"Ranks\", \"Values\"]]\n"
   ],
   "metadata": {
    "collapsed": false
   }
  },
  {
   "cell_type": "markdown",
   "source": [
    "# Prepare for plot / Create flat version of df"
   ],
   "metadata": {
    "collapsed": false
   }
  },
  {
   "cell_type": "code",
   "execution_count": 6,
   "outputs": [],
   "source": [
    "all_metrics_flat = all_metrics.copy()\n",
    "all_metrics_flat.columns = [\"-\".join(multi_col).rstrip(\"-\") for multi_col in all_metrics.columns]\n",
    "all_metrics_flat = all_metrics_flat.reset_index()\n",
    "all_metrics_flat[\"Ranks-Color-Center-V>4\"] = all_metrics_flat[\"Ranks-Color-Center-V\"] > 4\n",
    "all_metrics_flat[\"Ranks-Color-Center-V>5\"] = all_metrics_flat[\"Ranks-Color-Center-V\"] > 5"
   ],
   "metadata": {
    "collapsed": false
   }
  },
  {
   "cell_type": "code",
   "execution_count": 7,
   "outputs": [],
   "source": [
    "import plotly.express as px\n",
    "\n",
    "var_labels = {\n",
    "    \"Labels-Value\"          : \"Conjunctiva cluster\",\n",
    "    \"Values-Color-Center-H\" : \"Center H\",\n",
    "    \"Values-Color-Center-S\" : \"Center S\",\n",
    "    \"Values-Color-Center-V\" : \"Center V\",\n",
    "    \"Values-Color-Range-H\"  : \"Range H\",\n",
    "    \"Values-Color-Range-S\"  : \"Range S\",\n",
    "    \"Values-Color-Range-V\"  : \"Range V\",\n",
    "    \"Values-Location-Mean-x\": \"Mean x\",\n",
    "    \"Values-Location-Mean-y\": \"Mean y\",\n",
    "    \"Values-Location-SD-x\"  : \"SD x\",\n",
    "    \"Values-Location-SD-y\"  : \"SD y\",\n",
    "    \"Ranks-Color-Mean-V>4\"  : \"V Rank >4\",\n",
    "    \"Ranks-Color-Mean-V>5\"  : \"V Rank >5\"\n",
    "}\n",
    "color_discrete_map = {\n",
    "    \"True\" : px.colors.qualitative.Safe[0],  # green\n",
    "    \"Maybe\": px.colors.qualitative.Safe[2],  # blue\n",
    "    \"False\": px.colors.qualitative.Safe[1],  # red\n",
    "}\n",
    "category_orders = {\n",
    "    \"Labels-Value\": [\"False\", \"Maybe\", \"True\"],\n",
    "}\n",
    "for var_label_key in var_labels.copy():\n",
    "    if var_label_key.startswith(\"Values-\"):\n",
    "        var_label_key_suffix = var_label_key.split(\"Values-\", maxsplit=1)[-1]\n",
    "        var_labels[f\"Ranks-{var_label_key_suffix}\"] = var_labels[var_label_key] + \" (Rank)\"\n",
    "plotly_template = \"plotly_dark\"  #\"simple_white\"\n",
    "\n",
    "\n",
    "def save_plotly_figure(fig, title):\n",
    "    fig.write_image(\"outputs/kmeans-descriptive/\" + title + \".png\")\n",
    "    fig.write_html(\"outputs/kmeans-descriptive/\" + title + \".html\",\n",
    "                   full_html=True,\n",
    "                   include_plotlyjs=\"directory\")"
   ],
   "metadata": {
    "collapsed": false
   }
  },
  {
   "cell_type": "code",
   "execution_count": 9,
   "outputs": [
    {
     "data": {
      "text/plain": "       Labels                     Ranks                                \\\n        Value Correct Borderline  Color                                 \n                                 Center             Range               \n                                      H     S     V     H     S     V   \nmin     False   False      False    1.0   1.0   1.0   1.0   1.0   1.0   \nmedian    NaN     0.0        0.0    5.5   5.5   5.5   5.5   5.5   5.5   \nmax      True    True       True   10.0  10.0  10.0  10.0  10.0  10.0   \n\n                 ... Values                                                  \\\n       Location  ...  Color                              Location             \n           Mean  ... Center         Range                    Mean             \n              x  ...      S      V      H      S      V         x         y   \nmin         1.0  ...    0.0    1.0    0.0    0.0    0.0  0.191721  0.126726   \nmedian      5.5  ...   92.0  112.0   75.5  120.5   94.0  0.491321  0.396362   \nmax        10.0  ...  255.0  253.0  255.0  254.0  249.0  0.797200  0.857627   \n\n                                      \n                                Area  \n              SD                      \n               x         y            \nmin     0.000000  0.000000  0.000045  \nmedian  0.168796  0.156880  0.062062  \nmax     0.381592  0.408404  0.478826  \n\n[3 rows x 25 columns]",
      "text/html": "<div>\n<style scoped>\n    .dataframe tbody tr th:only-of-type {\n        vertical-align: middle;\n    }\n\n    .dataframe tbody tr th {\n        vertical-align: top;\n    }\n\n    .dataframe thead tr th {\n        text-align: left;\n    }\n</style>\n<table border=\"1\" class=\"dataframe\">\n  <thead>\n    <tr>\n      <th></th>\n      <th colspan=\"3\" halign=\"left\">Labels</th>\n      <th colspan=\"7\" halign=\"left\">Ranks</th>\n      <th>...</th>\n      <th colspan=\"10\" halign=\"left\">Values</th>\n    </tr>\n    <tr>\n      <th></th>\n      <th>Value</th>\n      <th>Correct</th>\n      <th>Borderline</th>\n      <th colspan=\"6\" halign=\"left\">Color</th>\n      <th>Location</th>\n      <th>...</th>\n      <th colspan=\"5\" halign=\"left\">Color</th>\n      <th colspan=\"4\" halign=\"left\">Location</th>\n      <th>Area</th>\n    </tr>\n    <tr>\n      <th></th>\n      <th></th>\n      <th></th>\n      <th></th>\n      <th colspan=\"3\" halign=\"left\">Center</th>\n      <th colspan=\"3\" halign=\"left\">Range</th>\n      <th>Mean</th>\n      <th>...</th>\n      <th colspan=\"2\" halign=\"left\">Center</th>\n      <th colspan=\"3\" halign=\"left\">Range</th>\n      <th colspan=\"2\" halign=\"left\">Mean</th>\n      <th colspan=\"2\" halign=\"left\">SD</th>\n      <th></th>\n    </tr>\n    <tr>\n      <th></th>\n      <th></th>\n      <th></th>\n      <th></th>\n      <th>H</th>\n      <th>S</th>\n      <th>V</th>\n      <th>H</th>\n      <th>S</th>\n      <th>V</th>\n      <th>x</th>\n      <th>...</th>\n      <th>S</th>\n      <th>V</th>\n      <th>H</th>\n      <th>S</th>\n      <th>V</th>\n      <th>x</th>\n      <th>y</th>\n      <th>x</th>\n      <th>y</th>\n      <th></th>\n    </tr>\n  </thead>\n  <tbody>\n    <tr>\n      <th>min</th>\n      <td>False</td>\n      <td>False</td>\n      <td>False</td>\n      <td>1.0</td>\n      <td>1.0</td>\n      <td>1.0</td>\n      <td>1.0</td>\n      <td>1.0</td>\n      <td>1.0</td>\n      <td>1.0</td>\n      <td>...</td>\n      <td>0.0</td>\n      <td>1.0</td>\n      <td>0.0</td>\n      <td>0.0</td>\n      <td>0.0</td>\n      <td>0.191721</td>\n      <td>0.126726</td>\n      <td>0.000000</td>\n      <td>0.000000</td>\n      <td>0.000045</td>\n    </tr>\n    <tr>\n      <th>median</th>\n      <td>NaN</td>\n      <td>0.0</td>\n      <td>0.0</td>\n      <td>5.5</td>\n      <td>5.5</td>\n      <td>5.5</td>\n      <td>5.5</td>\n      <td>5.5</td>\n      <td>5.5</td>\n      <td>5.5</td>\n      <td>...</td>\n      <td>92.0</td>\n      <td>112.0</td>\n      <td>75.5</td>\n      <td>120.5</td>\n      <td>94.0</td>\n      <td>0.491321</td>\n      <td>0.396362</td>\n      <td>0.168796</td>\n      <td>0.156880</td>\n      <td>0.062062</td>\n    </tr>\n    <tr>\n      <th>max</th>\n      <td>True</td>\n      <td>True</td>\n      <td>True</td>\n      <td>10.0</td>\n      <td>10.0</td>\n      <td>10.0</td>\n      <td>10.0</td>\n      <td>10.0</td>\n      <td>10.0</td>\n      <td>10.0</td>\n      <td>...</td>\n      <td>255.0</td>\n      <td>253.0</td>\n      <td>255.0</td>\n      <td>254.0</td>\n      <td>249.0</td>\n      <td>0.797200</td>\n      <td>0.857627</td>\n      <td>0.381592</td>\n      <td>0.408404</td>\n      <td>0.478826</td>\n    </tr>\n  </tbody>\n</table>\n<p>3 rows × 25 columns</p>\n</div>"
     },
     "execution_count": 9,
     "metadata": {},
     "output_type": "execute_result"
    }
   ],
   "source": [
    "all_metrics_flat[all_metrics_flat[\"Labels-Value\"]==\"True\"]"
   ],
   "metadata": {
    "collapsed": false
   }
  },
  {
   "cell_type": "code",
   "execution_count": 12,
   "outputs": [
    {
     "name": "stderr",
     "output_type": "stream",
     "text": [
      "/Users/ryerrabelli/opt/anaconda3/envs/EyeTraumaAnalysis/lib/python3.10/site-packages/IPython/core/interactiveshell.py:3135: PerformanceWarning: indexing past lexsort depth may impact performance.\n",
      "  has_raised = await self.run_ast_nodes(code_ast.body, cell_name,\n",
      "/Users/ryerrabelli/opt/anaconda3/envs/EyeTraumaAnalysis/lib/python3.10/site-packages/pandas/core/groupby/generic.py:979: PerformanceWarning: indexing past lexsort depth may impact performance.\n",
      "  result = op.agg()\n"
     ]
    }
   ],
   "source": [
    "all_metrics.groupby([(\"Labels\",\"Value\")]).agg([\"min\",\"median\",\"max\"]).to_excel(\n",
    "    \"outputs/kmeans-descriptive/aggregate.xlsx\")"
   ],
   "metadata": {
    "collapsed": false
   }
  },
  {
   "cell_type": "markdown",
   "source": [],
   "metadata": {
    "collapsed": false
   }
  }
 ],
 "metadata": {
  "kernelspec": {
   "display_name": "Python 3",
   "language": "python",
   "name": "python3"
  },
  "language_info": {
   "codemirror_mode": {
    "name": "ipython",
    "version": 2
   },
   "file_extension": ".py",
   "mimetype": "text/x-python",
   "name": "python",
   "nbconvert_exporter": "python",
   "pygments_lexer": "ipython2",
   "version": "2.7.6"
  }
 },
 "nbformat": 4,
 "nbformat_minor": 0
}
