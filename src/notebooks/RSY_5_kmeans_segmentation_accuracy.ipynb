{
 "cells": [
  {
   "cell_type": "code",
   "execution_count": 1,
   "metadata": {
    "collapsed": true
   },
   "outputs": [
    {
     "name": "stdout",
     "output_type": "stream",
     "text": [
      "/Users/ryerrabelli/Library/CloudStorage/GoogleDrive-ryerrabelli@gmail.com/My Drive/Computer Backups/Rahul Yerrabelli drive/PythonProjects/EyeTraumaAnalysis/src\n"
     ]
    }
   ],
   "source": [
    "import os\n",
    "import sys\n",
    "import importlib\n",
    "import json\n",
    "import numpy as np\n",
    "import pandas as pd\n",
    "import scipy.ndimage as snd\n",
    "import skimage\n",
    "import uuid\n",
    "\n",
    "if os.getcwd().split(\"/\")[-1] == \"notebooks\":\n",
    "    os.chdir(\"../..\")\n",
    "directory_path = os.path.abspath(os.path.join(\"src\"))\n",
    "if directory_path not in sys.path:\n",
    "    sys.path.append(directory_path)\n",
    "\n",
    "import EyeTraumaAnalysis\n",
    "\n",
    "print(directory_path)\n",
    "importlib.reload(EyeTraumaAnalysis);\n",
    "import numpy as np\n",
    "import pandas as pd\n",
    "from matplotlib import pyplot as plt\n",
    "import matplotlib as mpl\n",
    "import cv2"
   ]
  },
  {
   "cell_type": "code",
   "execution_count": 2,
   "outputs": [],
   "source": [
    "kmeans_labels = pd.read_excel(\"data/01_raw/Ergonautus/Ergonautus_Clusters_Correct_Values.xlsx\", dtype={\n",
    "    \"Correct 1\":\"Int64\", # \"Int64\" is from pandas, unlike int64 and allows null\n",
    "    \"Correct 2\":\"Int64\",\n",
    "    \"Correct 3\":\"Int64\",\n",
    "    \"Borderline\":\"Int64\",\n",
    "    \"Notes\":str,\n",
    "    \"Filename\":str,\n",
    "}, na_filter=False) # False na_filters make empty value for str column be \"\" instead of NaN\n"
   ],
   "metadata": {
    "collapsed": false
   }
  },
  {
   "cell_type": "code",
   "execution_count": 3,
   "outputs": [],
   "source": [
    "all_metrics = []\n",
    "all_kmeans_masks = {}\n",
    "for ind, filename in enumerate(kmeans_labels[\"Filename\"]):\n",
    "    img_bgr = skimage.io.imread(os.path.join(\"data/01_raw/\",filename))\n",
    "    centers, ranges, res_bgr, kmeans_masks = EyeTraumaAnalysis.kmeans.create_kmeans(img_bgr)\n",
    "    metrics = EyeTraumaAnalysis.kmeans.get_kmeans_metrics(centers, ranges, kmeans_masks)\n",
    "    all_metrics.append(metrics)\n",
    "    all_kmeans_masks[filename] = kmeans_masks\n",
    "\n",
    "all_metrics = pd.concat(all_metrics, keys=kmeans_labels[\"Filename\"])\n"
   ],
   "metadata": {
    "collapsed": false
   }
  },
  {
   "cell_type": "code",
   "execution_count": null,
   "outputs": [],
   "source": [
    "all_metrics_agg = all_metrics.groupby([(\"Labels\",\"Value\")]).agg([\"median\"])[[\"Ranks\",\"Values\"]]\n"
   ],
   "metadata": {
    "collapsed": false
   }
  },
  {
   "cell_type": "code",
   "execution_count": null,
   "outputs": [],
   "source": [
    "# Test model\n",
    "segmentations_trues = {}\n",
    "clusters_trues = {}\n",
    "\n",
    "for ind, row in kmeans_labels.iterrows():\n",
    "    correct_indices = row[[\"Correct 1\", \"Correct 2\", \"Correct 3\"]] - 1  # subtract by 1 to go from 1-10 to 0-9\n",
    "    correct_indices = correct_indices[~pd.isnull(correct_indices)].to_numpy().astype(int)\n",
    "    filename = row[\"Filename\"]\n",
    "    kmeans_masks = all_kmeans_masks[filename]\n",
    "    # get combined masks of the clusters chosen. The .any() applies an OR so only a pixel needs to be in only one cluster\n",
    "    # to be included in the combined mask\n",
    "    segmentations_trues[filename] = np.any(kmeans_masks[correct_indices], axis=0)\n",
    "    clusters_trues[filename] = correct_indices\n",
    "segmentations_preds = {}\n",
    "clusters_preds = {}"
   ],
   "metadata": {
    "collapsed": false
   }
  },
  {
   "cell_type": "code",
   "execution_count": null,
   "outputs": [],
   "source": [
    "for ind, filename in enumerate(kmeans_labels[\"Filename\"]):\n",
    "    metrics = all_metrics.loc[filename]\n",
    "    kmeans_masks = all_kmeans_masks[filename]\n",
    "    chosen = EyeTraumaAnalysis.kmeans.choose_kmeans_cluster(metrics)\n",
    "\n",
    "    # get combined masks of the clusters chosen. The .any() applies an OR so only a pixel needs to be in only one cluster\n",
    "    # to be included in the combined mask\n",
    "    segmentations_preds[filename] = np.any(kmeans_masks[chosen.index], axis=0)\n",
    "    clusters_preds[filename] = np.array(chosen.index)\n"
   ],
   "metadata": {
    "collapsed": false
   }
  },
  {
   "cell_type": "code",
   "execution_count": 60,
   "outputs": [],
   "source": [
    "def calculate_prediction_statistics_areas(segmentations_trues, segmentations_preds):\n",
    "    prediction_statistics = {}\n",
    "    for filename in segmentations_trues.keys():\n",
    "        mask_true = segmentations_trues[filename]\n",
    "        mask_pred = segmentations_preds[filename]\n",
    "\n",
    "        total_area = np.prod(mask_true.shape)\n",
    "\n",
    "        intersection_area = true_positive_area = np.count_nonzero(mask_true & mask_pred) / total_area\n",
    "        false_positive_area = np.count_nonzero(mask_true & ~mask_pred) / total_area\n",
    "        false_negative_area = np.count_nonzero(~mask_true & mask_pred) / total_area\n",
    "        true_negative_area = np.count_nonzero(~mask_true & ~mask_pred) / total_area\n",
    "        union_area = true_positive_area + false_positive_area + false_negative_area\n",
    "\n",
    "        # https://towardsdatascience.com/how-accurate-is-image-segmentation-dd448f896388\n",
    "        # Jaccard's index: Intersection over union\n",
    "        jaccard_area = intersection_area / union_area\n",
    "        # dice index: Jaccard's index but double counting intersection\n",
    "        dice_area = 2 * intersection_area / (union_area + intersection_area)\n",
    "\n",
    "        prediction_statistics[filename] = {\n",
    "            \"jaccard\"       : jaccard_area,\n",
    "            \"dice\"          : dice_area,\n",
    "            \"true_positive\" : true_positive_area,\n",
    "            \"false_positive\": false_positive_area,\n",
    "            \"false_negative\": false_negative_area,\n",
    "            \"true_negative\" : true_negative_area,\n",
    "            \"union\"         : union_area,\n",
    "        }\n",
    "\n",
    "    prediction_statistics = pd.DataFrame.from_dict(prediction_statistics, orient=\"index\")\n",
    "    return prediction_statistics\n",
    "\n",
    "\n",
    "def calculate_prediction_statistics_clusters(clusters_true, clusters_pred, total_clusters=10):\n",
    "    prediction_statistics = {}\n",
    "    for filename in segmentations_trues.keys():\n",
    "        clusters_true = clusters_trues[filename]\n",
    "        clusters_pred = clusters_preds[filename]\n",
    "\n",
    "        #intersection_clusters = true_positive_clusters = len([cluster for cluster in clusters_true if cluster in clusters_pred])\n",
    "        intersection_clusters = true_positive_clusters = len([cluster for cluster in range(total_clusters)\n",
    "                                                              if cluster in clusters_true and cluster in clusters_pred])\n",
    "        false_positive_clusters = len([cluster for cluster in range(total_clusters)\n",
    "                                       if cluster not in clusters_true and cluster in clusters_pred])\n",
    "        false_negative_clusters = len([cluster for cluster in range(total_clusters)\n",
    "                                       if cluster in clusters_true and cluster not in clusters_pred])\n",
    "        true_negative_clusters = len([cluster for cluster in range(total_clusters)\n",
    "                                      if cluster not in clusters_true and cluster not in clusters_pred])\n",
    "        union_clusters = true_positive_clusters + false_positive_clusters + false_negative_clusters\n",
    "\n",
    "        # https://towardsdatascience.com/how-accurate-is-image-segmentation-dd448f896388\n",
    "        # Jaccard's index: Intersection over union\n",
    "        jaccard_clusters = intersection_clusters, union_clusters\n",
    "        # dice index: Jaccard's index but double counting intersection\n",
    "        dice_clusters = 2 * intersection_clusters, (union_clusters + intersection_clusters)\n",
    "        distribution_clusters = (\n",
    "        true_positive_clusters, false_positive_clusters, false_negative_clusters, true_negative_clusters)\n",
    "        prediction_statistics[filename] = jaccard_clusters\n",
    "\n",
    "        prediction_statistics[filename] = {\n",
    "            \"jaccard_raw\"       : jaccard_clusters,\n",
    "            \"jaccard\"  : jaccard_clusters[0]/jaccard_clusters[1],\n",
    "            \"dice_raw\"          : dice_clusters,\n",
    "            \"TP\" : true_positive_clusters,\n",
    "            \"FP\": false_positive_clusters,\n",
    "            \"FN\": false_negative_clusters,\n",
    "            \"TN\" : true_negative_clusters,\n",
    "            \"U\"         : union_clusters,\n",
    "        }\n",
    "\n",
    "    prediction_statistics = pd.DataFrame.from_dict(prediction_statistics, orient=\"index\")\n",
    "    return prediction_statistics\n"
   ],
   "metadata": {
    "collapsed": false
   }
  },
  {
   "cell_type": "code",
   "execution_count": 61,
   "outputs": [],
   "source": [
    "prediction_statistic_area = calculate_prediction_statistics_areas(segmentations_trues, segmentations_preds)\n",
    "prediction_statistic_clusters = calculate_prediction_statistics_clusters(clusters_trues, clusters_preds)\n",
    "\n",
    "#clusters_jaccards = [prediction_statistic[\"jaccard\"] for prediction_statistic in prediction_statistic_clusters\n",
    "# .values()]\n"
   ],
   "metadata": {
    "collapsed": false
   }
  },
  {
   "cell_type": "code",
   "execution_count": 82,
   "outputs": [
    {
     "data": {
      "text/plain": "(1, 3)    35\n(1, 2)    34\n(0, 3)    32\n(0, 4)    28\n(2, 2)     6\n(1, 1)     4\n(1, 4)     2\n(0, 2)     2\n(0, 5)     1\n(2, 3)     1\nName: jaccard_raw, dtype: int64"
     },
     "execution_count": 82,
     "metadata": {},
     "output_type": "execute_result"
    }
   ],
   "source": [
    "prediction_statistic_clusters[\"jaccard_raw\"].value_counts(sort=True, normalize=False)"
   ],
   "metadata": {
    "collapsed": false
   }
  },
  {
   "cell_type": "code",
   "execution_count": 80,
   "outputs": [
    {
     "data": {
      "text/plain": "mean      0.274713\nmedian    0.333333\nstd       0.288863\nmin       0.000000\nmax       1.000000\nName: jaccard, dtype: float64"
     },
     "execution_count": 80,
     "metadata": {},
     "output_type": "execute_result"
    }
   ],
   "source": [
    "prediction_statistic_clusters[\"jaccard\"].agg([\"mean\",\"median\",\"std\",\"min\",\"max\"])"
   ],
   "metadata": {
    "collapsed": false
   }
  },
  {
   "cell_type": "code",
   "execution_count": null,
   "outputs": [],
   "source": [],
   "metadata": {
    "collapsed": false
   }
  }
 ],
 "metadata": {
  "kernelspec": {
   "display_name": "Python 3",
   "language": "python",
   "name": "python3"
  },
  "language_info": {
   "codemirror_mode": {
    "name": "ipython",
    "version": 2
   },
   "file_extension": ".py",
   "mimetype": "text/x-python",
   "name": "python",
   "nbconvert_exporter": "python",
   "pygments_lexer": "ipython2",
   "version": "2.7.6"
  }
 },
 "nbformat": 4,
 "nbformat_minor": 0
}
