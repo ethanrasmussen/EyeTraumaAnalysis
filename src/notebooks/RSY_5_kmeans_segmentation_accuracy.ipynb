{
 "cells": [
  {
   "cell_type": "code",
   "execution_count": 2,
   "metadata": {
    "collapsed": true
   },
   "outputs": [
    {
     "name": "stdout",
     "output_type": "stream",
     "text": [
      "C:\\Users\\ethan\\PycharmProjects\\EyeTraumaAnalysis\\src\\notebooks\\src\n"
     ]
    }
   ],
   "source": [
    "import os\n",
    "import sys\n",
    "import importlib\n",
    "import json\n",
    "import numpy as np\n",
    "import pandas as pd\n",
    "import scipy.ndimage as snd\n",
    "import skimage\n",
    "import uuid\n",
    "\n",
    "if os.getcwd().split(\"/\")[-1] == \"notebooks\":\n",
    "    os.chdir(\"../..\")\n",
    "directory_path = os.path.abspath(os.path.join(\"src\"))\n",
    "if directory_path not in sys.path:\n",
    "    sys.path.append(directory_path)\n",
    "\n",
    "import src.EyeTraumaAnalysis\n",
    "\n",
    "print(directory_path)\n",
    "importlib.reload(src.EyeTraumaAnalysis);\n",
    "import numpy as np\n",
    "import pandas as pd\n",
    "from matplotlib import pyplot as plt\n",
    "import matplotlib as mpl\n",
    "import cv2"
   ]
  },
  {
   "cell_type": "code",
   "execution_count": 3,
   "outputs": [],
   "source": [
    "kmeans_labels = pd.read_excel(\"C:/Users/ethan/PycharmProjects/EyeTraumaAnalysis/data/01_raw/Ergonautus/Ergonautus_Clusters_Correct_Values.xlsx\", dtype={\n",
    "    \"Correct 1\":\"Int64\", # \"Int64\" is from pandas, unlike int64 and allows null\n",
    "    \"Correct 2\":\"Int64\",\n",
    "    \"Correct 3\":\"Int64\",\n",
    "    \"Borderline\":\"Int64\",\n",
    "    \"Notes\":str,\n",
    "    \"Filename\":str,\n",
    "}, na_filter=False) # False na_filters make empty value for str column be \"\" instead of NaN\n"
   ],
   "metadata": {
    "collapsed": false
   }
  },
  {
   "cell_type": "code",
   "execution_count": 5,
   "outputs": [],
   "source": [
    "all_metrics = []\n",
    "all_kmeans_masks = {}\n",
    "for ind, filename in enumerate(kmeans_labels[\"Filename\"]):\n",
    "    img_bgr = skimage.io.imread(os.path.join(\"C:/Users/ethan/PycharmProjects/EyeTraumaAnalysis/data/01_raw/\",filename))\n",
    "    centers, ranges, res_bgr, kmeans_masks = src.EyeTraumaAnalysis.kmeans.create_kmeans(img_bgr)\n",
    "    metrics = src.EyeTraumaAnalysis.kmeans.get_kmeans_metrics(centers, ranges, kmeans_masks)\n",
    "    all_metrics.append(metrics)\n",
    "    all_kmeans_masks[filename] = kmeans_masks\n",
    "\n",
    "all_metrics = pd.concat(all_metrics, keys=kmeans_labels[\"Filename\"])\n"
   ],
   "metadata": {
    "collapsed": false
   }
  },
  {
   "cell_type": "code",
   "execution_count": 6,
   "outputs": [
    {
     "ename": "KeyError",
     "evalue": "('Labels', 'Value')",
     "output_type": "error",
     "traceback": [
      "\u001B[1;31m---------------------------------------------------------------------------\u001B[0m",
      "\u001B[1;31mKeyError\u001B[0m                                  Traceback (most recent call last)",
      "Cell \u001B[1;32mIn[6], line 1\u001B[0m\n\u001B[1;32m----> 1\u001B[0m all_metrics_agg \u001B[38;5;241m=\u001B[39m \u001B[43mall_metrics\u001B[49m\u001B[38;5;241;43m.\u001B[39;49m\u001B[43mgroupby\u001B[49m\u001B[43m(\u001B[49m\u001B[43m[\u001B[49m\u001B[43m(\u001B[49m\u001B[38;5;124;43m\"\u001B[39;49m\u001B[38;5;124;43mLabels\u001B[39;49m\u001B[38;5;124;43m\"\u001B[39;49m\u001B[43m,\u001B[49m\u001B[38;5;124;43m\"\u001B[39;49m\u001B[38;5;124;43mValue\u001B[39;49m\u001B[38;5;124;43m\"\u001B[39;49m\u001B[43m)\u001B[49m\u001B[43m]\u001B[49m\u001B[43m)\u001B[49m\u001B[38;5;241m.\u001B[39magg([\u001B[38;5;124m\"\u001B[39m\u001B[38;5;124mmedian\u001B[39m\u001B[38;5;124m\"\u001B[39m])[[\u001B[38;5;124m\"\u001B[39m\u001B[38;5;124mRanks\u001B[39m\u001B[38;5;124m\"\u001B[39m,\u001B[38;5;124m\"\u001B[39m\u001B[38;5;124mValues\u001B[39m\u001B[38;5;124m\"\u001B[39m]]\n",
      "File \u001B[1;32m~\\AppData\\Local\\Programs\\Python\\Python311\\Lib\\site-packages\\pandas\\core\\frame.py:8402\u001B[0m, in \u001B[0;36mDataFrame.groupby\u001B[1;34m(self, by, axis, level, as_index, sort, group_keys, squeeze, observed, dropna)\u001B[0m\n\u001B[0;32m   8399\u001B[0m     \u001B[38;5;28;01mraise\u001B[39;00m \u001B[38;5;167;01mTypeError\u001B[39;00m(\u001B[38;5;124m\"\u001B[39m\u001B[38;5;124mYou have to supply one of \u001B[39m\u001B[38;5;124m'\u001B[39m\u001B[38;5;124mby\u001B[39m\u001B[38;5;124m'\u001B[39m\u001B[38;5;124m and \u001B[39m\u001B[38;5;124m'\u001B[39m\u001B[38;5;124mlevel\u001B[39m\u001B[38;5;124m'\u001B[39m\u001B[38;5;124m\"\u001B[39m)\n\u001B[0;32m   8400\u001B[0m axis \u001B[38;5;241m=\u001B[39m \u001B[38;5;28mself\u001B[39m\u001B[38;5;241m.\u001B[39m_get_axis_number(axis)\n\u001B[1;32m-> 8402\u001B[0m \u001B[38;5;28;01mreturn\u001B[39;00m \u001B[43mDataFrameGroupBy\u001B[49m\u001B[43m(\u001B[49m\n\u001B[0;32m   8403\u001B[0m \u001B[43m    \u001B[49m\u001B[43mobj\u001B[49m\u001B[38;5;241;43m=\u001B[39;49m\u001B[38;5;28;43mself\u001B[39;49m\u001B[43m,\u001B[49m\n\u001B[0;32m   8404\u001B[0m \u001B[43m    \u001B[49m\u001B[43mkeys\u001B[49m\u001B[38;5;241;43m=\u001B[39;49m\u001B[43mby\u001B[49m\u001B[43m,\u001B[49m\n\u001B[0;32m   8405\u001B[0m \u001B[43m    \u001B[49m\u001B[43maxis\u001B[49m\u001B[38;5;241;43m=\u001B[39;49m\u001B[43maxis\u001B[49m\u001B[43m,\u001B[49m\n\u001B[0;32m   8406\u001B[0m \u001B[43m    \u001B[49m\u001B[43mlevel\u001B[49m\u001B[38;5;241;43m=\u001B[39;49m\u001B[43mlevel\u001B[49m\u001B[43m,\u001B[49m\n\u001B[0;32m   8407\u001B[0m \u001B[43m    \u001B[49m\u001B[43mas_index\u001B[49m\u001B[38;5;241;43m=\u001B[39;49m\u001B[43mas_index\u001B[49m\u001B[43m,\u001B[49m\n\u001B[0;32m   8408\u001B[0m \u001B[43m    \u001B[49m\u001B[43msort\u001B[49m\u001B[38;5;241;43m=\u001B[39;49m\u001B[43msort\u001B[49m\u001B[43m,\u001B[49m\n\u001B[0;32m   8409\u001B[0m \u001B[43m    \u001B[49m\u001B[43mgroup_keys\u001B[49m\u001B[38;5;241;43m=\u001B[39;49m\u001B[43mgroup_keys\u001B[49m\u001B[43m,\u001B[49m\n\u001B[0;32m   8410\u001B[0m \u001B[43m    \u001B[49m\u001B[43msqueeze\u001B[49m\u001B[38;5;241;43m=\u001B[39;49m\u001B[43msqueeze\u001B[49m\u001B[43m,\u001B[49m\n\u001B[0;32m   8411\u001B[0m \u001B[43m    \u001B[49m\u001B[43mobserved\u001B[49m\u001B[38;5;241;43m=\u001B[39;49m\u001B[43mobserved\u001B[49m\u001B[43m,\u001B[49m\n\u001B[0;32m   8412\u001B[0m \u001B[43m    \u001B[49m\u001B[43mdropna\u001B[49m\u001B[38;5;241;43m=\u001B[39;49m\u001B[43mdropna\u001B[49m\u001B[43m,\u001B[49m\n\u001B[0;32m   8413\u001B[0m \u001B[43m\u001B[49m\u001B[43m)\u001B[49m\n",
      "File \u001B[1;32m~\\AppData\\Local\\Programs\\Python\\Python311\\Lib\\site-packages\\pandas\\core\\groupby\\groupby.py:965\u001B[0m, in \u001B[0;36mGroupBy.__init__\u001B[1;34m(self, obj, keys, axis, level, grouper, exclusions, selection, as_index, sort, group_keys, squeeze, observed, mutated, dropna)\u001B[0m\n\u001B[0;32m    962\u001B[0m \u001B[38;5;28;01mif\u001B[39;00m grouper \u001B[38;5;129;01mis\u001B[39;00m \u001B[38;5;28;01mNone\u001B[39;00m:\n\u001B[0;32m    963\u001B[0m     \u001B[38;5;28;01mfrom\u001B[39;00m \u001B[38;5;21;01mpandas\u001B[39;00m\u001B[38;5;21;01m.\u001B[39;00m\u001B[38;5;21;01mcore\u001B[39;00m\u001B[38;5;21;01m.\u001B[39;00m\u001B[38;5;21;01mgroupby\u001B[39;00m\u001B[38;5;21;01m.\u001B[39;00m\u001B[38;5;21;01mgrouper\u001B[39;00m \u001B[38;5;28;01mimport\u001B[39;00m get_grouper\n\u001B[1;32m--> 965\u001B[0m     grouper, exclusions, obj \u001B[38;5;241m=\u001B[39m \u001B[43mget_grouper\u001B[49m\u001B[43m(\u001B[49m\n\u001B[0;32m    966\u001B[0m \u001B[43m        \u001B[49m\u001B[43mobj\u001B[49m\u001B[43m,\u001B[49m\n\u001B[0;32m    967\u001B[0m \u001B[43m        \u001B[49m\u001B[43mkeys\u001B[49m\u001B[43m,\u001B[49m\n\u001B[0;32m    968\u001B[0m \u001B[43m        \u001B[49m\u001B[43maxis\u001B[49m\u001B[38;5;241;43m=\u001B[39;49m\u001B[43maxis\u001B[49m\u001B[43m,\u001B[49m\n\u001B[0;32m    969\u001B[0m \u001B[43m        \u001B[49m\u001B[43mlevel\u001B[49m\u001B[38;5;241;43m=\u001B[39;49m\u001B[43mlevel\u001B[49m\u001B[43m,\u001B[49m\n\u001B[0;32m    970\u001B[0m \u001B[43m        \u001B[49m\u001B[43msort\u001B[49m\u001B[38;5;241;43m=\u001B[39;49m\u001B[43msort\u001B[49m\u001B[43m,\u001B[49m\n\u001B[0;32m    971\u001B[0m \u001B[43m        \u001B[49m\u001B[43mobserved\u001B[49m\u001B[38;5;241;43m=\u001B[39;49m\u001B[43mobserved\u001B[49m\u001B[43m,\u001B[49m\n\u001B[0;32m    972\u001B[0m \u001B[43m        \u001B[49m\u001B[43mmutated\u001B[49m\u001B[38;5;241;43m=\u001B[39;49m\u001B[38;5;28;43mself\u001B[39;49m\u001B[38;5;241;43m.\u001B[39;49m\u001B[43mmutated\u001B[49m\u001B[43m,\u001B[49m\n\u001B[0;32m    973\u001B[0m \u001B[43m        \u001B[49m\u001B[43mdropna\u001B[49m\u001B[38;5;241;43m=\u001B[39;49m\u001B[38;5;28;43mself\u001B[39;49m\u001B[38;5;241;43m.\u001B[39;49m\u001B[43mdropna\u001B[49m\u001B[43m,\u001B[49m\n\u001B[0;32m    974\u001B[0m \u001B[43m    \u001B[49m\u001B[43m)\u001B[49m\n\u001B[0;32m    976\u001B[0m \u001B[38;5;28mself\u001B[39m\u001B[38;5;241m.\u001B[39mobj \u001B[38;5;241m=\u001B[39m obj\n\u001B[0;32m    977\u001B[0m \u001B[38;5;28mself\u001B[39m\u001B[38;5;241m.\u001B[39maxis \u001B[38;5;241m=\u001B[39m obj\u001B[38;5;241m.\u001B[39m_get_axis_number(axis)\n",
      "File \u001B[1;32m~\\AppData\\Local\\Programs\\Python\\Python311\\Lib\\site-packages\\pandas\\core\\groupby\\grouper.py:888\u001B[0m, in \u001B[0;36mget_grouper\u001B[1;34m(obj, key, axis, level, sort, observed, mutated, validate, dropna)\u001B[0m\n\u001B[0;32m    886\u001B[0m         in_axis, level, gpr \u001B[38;5;241m=\u001B[39m \u001B[38;5;28;01mFalse\u001B[39;00m, gpr, \u001B[38;5;28;01mNone\u001B[39;00m\n\u001B[0;32m    887\u001B[0m     \u001B[38;5;28;01melse\u001B[39;00m:\n\u001B[1;32m--> 888\u001B[0m         \u001B[38;5;28;01mraise\u001B[39;00m \u001B[38;5;167;01mKeyError\u001B[39;00m(gpr)\n\u001B[0;32m    889\u001B[0m \u001B[38;5;28;01melif\u001B[39;00m \u001B[38;5;28misinstance\u001B[39m(gpr, Grouper) \u001B[38;5;129;01mand\u001B[39;00m gpr\u001B[38;5;241m.\u001B[39mkey \u001B[38;5;129;01mis\u001B[39;00m \u001B[38;5;129;01mnot\u001B[39;00m \u001B[38;5;28;01mNone\u001B[39;00m:\n\u001B[0;32m    890\u001B[0m     \u001B[38;5;66;03m# Add key to exclusions\u001B[39;00m\n\u001B[0;32m    891\u001B[0m     exclusions\u001B[38;5;241m.\u001B[39madd(gpr\u001B[38;5;241m.\u001B[39mkey)\n",
      "\u001B[1;31mKeyError\u001B[0m: ('Labels', 'Value')"
     ]
    }
   ],
   "source": [
    "all_metrics_agg = all_metrics.groupby([(\"Labels\",\"Value\")]).agg([\"median\"])[[\"Ranks\",\"Values\"]]\n"
   ],
   "metadata": {
    "collapsed": false
   }
  },
  {
   "cell_type": "code",
   "execution_count": 7,
   "outputs": [],
   "source": [
    "# Test model\n",
    "segmentations_trues = {}\n",
    "clusters_trues = {}\n",
    "\n",
    "for ind, row in kmeans_labels.iterrows():\n",
    "    correct_indices = row[[\"Correct 1\", \"Correct 2\", \"Correct 3\"]] - 1  # subtract by 1 to go from 1-10 to 0-9\n",
    "    correct_indices = correct_indices[~pd.isnull(correct_indices)].to_numpy().astype(int)\n",
    "    filename = row[\"Filename\"]\n",
    "    kmeans_masks = all_kmeans_masks[filename]\n",
    "    # get combined masks of the clusters chosen. The .any() applies an OR so only a pixel needs to be in only one cluster\n",
    "    # to be included in the combined mask\n",
    "    segmentations_trues[filename] = np.any(kmeans_masks[correct_indices], axis=0)\n",
    "    clusters_trues[filename] = correct_indices\n"
   ],
   "metadata": {
    "collapsed": false
   }
  },
  {
   "cell_type": "code",
   "execution_count": 8,
   "outputs": [],
   "source": [
    "segmentations_preds = {}\n",
    "clusters_preds = {}\n",
    "for ind, filename in enumerate(kmeans_labels[\"Filename\"]):\n",
    "    metrics = all_metrics.loc[filename]\n",
    "    kmeans_masks = all_kmeans_masks[filename]\n",
    "    chosen = src.EyeTraumaAnalysis.kmeans.choose_kmeans_cluster(metrics)\n",
    "\n",
    "    # get combined masks of the clusters chosen. The .any() applies an OR so only a pixel needs to be in only one cluster\n",
    "    # to be included in the combined mask\n",
    "    segmentations_preds[filename] = np.any(kmeans_masks[chosen.index], axis=0)\n",
    "    clusters_preds[filename] = np.array(chosen.index)\n"
   ],
   "metadata": {
    "collapsed": false
   }
  },
  {
   "cell_type": "code",
   "execution_count": 9,
   "outputs": [],
   "source": [
    "def calculate_prediction_statistics_areas(segmentations_trues, segmentations_preds):\n",
    "    prediction_statistics = {}\n",
    "    for filename in segmentations_trues.keys():\n",
    "        mask_true = segmentations_trues[filename]\n",
    "        mask_pred = segmentations_preds[filename]\n",
    "\n",
    "        total_area = np.prod(mask_true.shape)\n",
    "\n",
    "        intersection_area = true_positive_area = np.count_nonzero(mask_true & mask_pred) / total_area\n",
    "        false_positive_area = np.count_nonzero(mask_true & ~mask_pred) / total_area\n",
    "        false_negative_area = np.count_nonzero(~mask_true & mask_pred) / total_area\n",
    "        true_negative_area = np.count_nonzero(~mask_true & ~mask_pred) / total_area\n",
    "        union_area = true_positive_area + false_positive_area + false_negative_area\n",
    "\n",
    "        # https://towardsdatascience.com/how-accurate-is-image-segmentation-dd448f896388\n",
    "        # Jaccard's index: Intersection over union\n",
    "        jaccard_area = intersection_area / union_area\n",
    "        # dice index: Jaccard's index but double counting intersection\n",
    "        dice_area = 2 * intersection_area / (union_area + intersection_area)\n",
    "\n",
    "        prediction_statistics[filename] = {\n",
    "            \"jaccard\"       : jaccard_area,\n",
    "            \"dice\"          : dice_area,\n",
    "            \"true_positive\" : true_positive_area,\n",
    "            \"false_positive\": false_positive_area,\n",
    "            \"false_negative\": false_negative_area,\n",
    "            \"true_negative\" : true_negative_area,\n",
    "            \"union\"         : union_area,\n",
    "        }\n",
    "\n",
    "    prediction_statistics = pd.DataFrame.from_dict(prediction_statistics, orient=\"index\")\n",
    "    return prediction_statistics\n",
    "\n",
    "\n",
    "def calculate_prediction_statistics_clusters(clusters_true, clusters_pred, total_clusters=10):\n",
    "    prediction_statistics = {}\n",
    "    for filename in segmentations_trues.keys():\n",
    "        clusters_true = clusters_trues[filename]\n",
    "        clusters_pred = clusters_preds[filename]\n",
    "\n",
    "        #intersection_clusters = true_positive_clusters = len([cluster for cluster in clusters_true if cluster in clusters_pred])\n",
    "        intersection_clusters = true_pos_clusters = [cluster for cluster in range(total_clusters)\n",
    "                                                              if cluster in clusters_true and cluster in clusters_pred]\n",
    "        false_pos_clusters = [cluster for cluster in range(total_clusters)\n",
    "                                       if cluster not in clusters_true and cluster in clusters_pred]\n",
    "        false_neg_clusters = [cluster for cluster in range(total_clusters)\n",
    "                                       if cluster in clusters_true and cluster not in clusters_pred]\n",
    "        true_neg_clusters = [cluster for cluster in range(total_clusters)\n",
    "                                      if cluster not in clusters_true and cluster not in clusters_pred]\n",
    "        union_clusters = true_pos_clusters + false_pos_clusters + false_neg_clusters\n",
    "\n",
    "        true_pos_ct = len(true_pos_clusters)\n",
    "        true_neg_ct = len(true_neg_clusters)\n",
    "        false_neg_ct = len(false_neg_clusters)\n",
    "        false_pos_ct = len(false_pos_clusters)\n",
    "\n",
    "        accuracy = true_pos_ct + true_neg_ct / ( true_pos_ct + false_pos_ct + false_neg_ct + true_neg_ct )\n",
    "        # Sensitivity aka Recall aka True positive rate (TPR)\n",
    "        sensitivity = tpr = true_pos_ct / ( true_pos_ct + false_neg_ct )\n",
    "        # Specificity aka True negative rate (TNR)\n",
    "        specificity = tnr = true_neg_ct / ( true_neg_ct + false_pos_ct )\n",
    "        # Positive predictive value (PPV) aka Precision\n",
    "        ppv = true_pos_ct / ( true_pos_ct + false_pos_ct )\n",
    "        # Negative predictive value (NPV)\n",
    "        npv = true_neg_ct / ( true_neg_ct + false_neg_ct )\n",
    "        # False discovery rate (FDR)\n",
    "        fdr = 1 - ppv\n",
    "        # False omission rate (FOR, called FOMR in code)\n",
    "        fomr = 1 - npv\n",
    "        # False negative rate (FNR)\n",
    "        fnr = 1 - tpr\n",
    "        # False positive rate (FPR) aka 1-specificity\n",
    "        fpr = 1 - tnr\n",
    "\n",
    "        # https://towardsdatascience.com/how-accurate-is-image-segmentation-dd448f896388\n",
    "        # Jaccard's index: Intersection over union\n",
    "        jaccard_clusters = intersection_clusters, union_clusters\n",
    "        # dice index: Jaccard's index but double counting intersection\n",
    "        dice_clusters = 2 * intersection_clusters, (union_clusters + intersection_clusters)\n",
    "        distribution_clusters = (\n",
    "        true_positive_clusters, false_positive_clusters, false_negative_clusters, true_negative_clusters)\n",
    "        prediction_statistics[filename] = jaccard_clusters\n",
    "\n",
    "        prediction_statistics[filename] = {\n",
    "            \"jaccard_raw\"       : jaccard_clusters,\n",
    "            \"jaccard\"  : jaccard_clusters[0]/jaccard_clusters[1],\n",
    "            \"dice_raw\"          : dice_clusters,\n",
    "            \"TP\" : true_positive_clusters,\n",
    "            \"FP\": false_positive_clusters,\n",
    "            \"FN\": false_negative_clusters,\n",
    "            \"TN\" : true_negative_clusters,\n",
    "            \"U\"         : union_clusters,\n",
    "        }\n",
    "\n",
    "    prediction_statistics = pd.DataFrame.from_dict(prediction_statistics, orient=\"index\")\n",
    "    return prediction_statistics\n"
   ],
   "metadata": {
    "collapsed": false
   }
  },
  {
   "cell_type": "code",
   "execution_count": 10,
   "outputs": [
    {
     "ename": "NameError",
     "evalue": "name 'true_positive_clusters' is not defined",
     "output_type": "error",
     "traceback": [
      "\u001B[1;31m---------------------------------------------------------------------------\u001B[0m",
      "\u001B[1;31mNameError\u001B[0m                                 Traceback (most recent call last)",
      "Cell \u001B[1;32mIn[10], line 2\u001B[0m\n\u001B[0;32m      1\u001B[0m prediction_statistic_area \u001B[38;5;241m=\u001B[39m calculate_prediction_statistics_areas(segmentations_trues, segmentations_preds)\n\u001B[1;32m----> 2\u001B[0m prediction_statistic_clusters \u001B[38;5;241m=\u001B[39m \u001B[43mcalculate_prediction_statistics_clusters\u001B[49m\u001B[43m(\u001B[49m\u001B[43mclusters_trues\u001B[49m\u001B[43m,\u001B[49m\u001B[43m \u001B[49m\u001B[43mclusters_preds\u001B[49m\u001B[43m)\u001B[49m\n\u001B[0;32m      4\u001B[0m \u001B[38;5;66;03m#clusters_jaccards = [prediction_statistic[\"jaccard\"] for prediction_statistic in prediction_statistic_clusters\u001B[39;00m\n\u001B[0;32m      5\u001B[0m \u001B[38;5;66;03m# .values()]\u001B[39;00m\n",
      "Cell \u001B[1;32mIn[9], line 81\u001B[0m, in \u001B[0;36mcalculate_prediction_statistics_clusters\u001B[1;34m(clusters_true, clusters_pred, total_clusters)\u001B[0m\n\u001B[0;32m     78\u001B[0m \u001B[38;5;66;03m# dice index: Jaccard's index but double counting intersection\u001B[39;00m\n\u001B[0;32m     79\u001B[0m dice_clusters \u001B[38;5;241m=\u001B[39m \u001B[38;5;241m2\u001B[39m \u001B[38;5;241m*\u001B[39m intersection_clusters, (union_clusters \u001B[38;5;241m+\u001B[39m intersection_clusters)\n\u001B[0;32m     80\u001B[0m distribution_clusters \u001B[38;5;241m=\u001B[39m (\n\u001B[1;32m---> 81\u001B[0m \u001B[43mtrue_positive_clusters\u001B[49m, false_positive_clusters, false_negative_clusters, true_negative_clusters)\n\u001B[0;32m     82\u001B[0m prediction_statistics[filename] \u001B[38;5;241m=\u001B[39m jaccard_clusters\n\u001B[0;32m     84\u001B[0m prediction_statistics[filename] \u001B[38;5;241m=\u001B[39m {\n\u001B[0;32m     85\u001B[0m     \u001B[38;5;124m\"\u001B[39m\u001B[38;5;124mjaccard_raw\u001B[39m\u001B[38;5;124m\"\u001B[39m       : jaccard_clusters,\n\u001B[0;32m     86\u001B[0m     \u001B[38;5;124m\"\u001B[39m\u001B[38;5;124mjaccard\u001B[39m\u001B[38;5;124m\"\u001B[39m  : jaccard_clusters[\u001B[38;5;241m0\u001B[39m]\u001B[38;5;241m/\u001B[39mjaccard_clusters[\u001B[38;5;241m1\u001B[39m],\n\u001B[1;32m   (...)\u001B[0m\n\u001B[0;32m     92\u001B[0m     \u001B[38;5;124m\"\u001B[39m\u001B[38;5;124mU\u001B[39m\u001B[38;5;124m\"\u001B[39m         : union_clusters,\n\u001B[0;32m     93\u001B[0m }\n",
      "\u001B[1;31mNameError\u001B[0m: name 'true_positive_clusters' is not defined"
     ]
    }
   ],
   "source": [
    "prediction_statistic_area = calculate_prediction_statistics_areas(segmentations_trues, segmentations_preds)\n",
    "prediction_statistic_clusters = calculate_prediction_statistics_clusters(clusters_trues, clusters_preds)\n",
    "\n",
    "#clusters_jaccards = [prediction_statistic[\"jaccard\"] for prediction_statistic in prediction_statistic_clusters\n",
    "# .values()]\n"
   ],
   "metadata": {
    "collapsed": false
   }
  },
  {
   "cell_type": "code",
   "execution_count": 11,
   "outputs": [
    {
     "ename": "NameError",
     "evalue": "name 'prediction_statistic_clusters' is not defined",
     "output_type": "error",
     "traceback": [
      "\u001B[1;31m---------------------------------------------------------------------------\u001B[0m",
      "\u001B[1;31mNameError\u001B[0m                                 Traceback (most recent call last)",
      "Cell \u001B[1;32mIn[11], line 1\u001B[0m\n\u001B[1;32m----> 1\u001B[0m \u001B[43mprediction_statistic_clusters\u001B[49m[\u001B[38;5;124m\"\u001B[39m\u001B[38;5;124mjaccard_raw\u001B[39m\u001B[38;5;124m\"\u001B[39m]\u001B[38;5;241m.\u001B[39mvalue_counts(sort\u001B[38;5;241m=\u001B[39m\u001B[38;5;28;01mTrue\u001B[39;00m, normalize\u001B[38;5;241m=\u001B[39m\u001B[38;5;28;01mFalse\u001B[39;00m)\n",
      "\u001B[1;31mNameError\u001B[0m: name 'prediction_statistic_clusters' is not defined"
     ]
    }
   ],
   "source": [
    "prediction_statistic_clusters[\"jaccard_raw\"].value_counts(sort=True, normalize=False)"
   ],
   "metadata": {
    "collapsed": false
   }
  },
  {
   "cell_type": "code",
   "execution_count": 12,
   "outputs": [
    {
     "ename": "NameError",
     "evalue": "name 'prediction_statistic_clusters' is not defined",
     "output_type": "error",
     "traceback": [
      "\u001B[1;31m---------------------------------------------------------------------------\u001B[0m",
      "\u001B[1;31mNameError\u001B[0m                                 Traceback (most recent call last)",
      "Cell \u001B[1;32mIn[12], line 1\u001B[0m\n\u001B[1;32m----> 1\u001B[0m \u001B[43mprediction_statistic_clusters\u001B[49m[\u001B[38;5;124m\"\u001B[39m\u001B[38;5;124mjaccard\u001B[39m\u001B[38;5;124m\"\u001B[39m]\u001B[38;5;241m.\u001B[39magg([\u001B[38;5;124m\"\u001B[39m\u001B[38;5;124mmean\u001B[39m\u001B[38;5;124m\"\u001B[39m,\u001B[38;5;124m\"\u001B[39m\u001B[38;5;124mmedian\u001B[39m\u001B[38;5;124m\"\u001B[39m,\u001B[38;5;124m\"\u001B[39m\u001B[38;5;124mstd\u001B[39m\u001B[38;5;124m\"\u001B[39m,\u001B[38;5;124m\"\u001B[39m\u001B[38;5;124mmin\u001B[39m\u001B[38;5;124m\"\u001B[39m,\u001B[38;5;124m\"\u001B[39m\u001B[38;5;124mmax\u001B[39m\u001B[38;5;124m\"\u001B[39m])\n",
      "\u001B[1;31mNameError\u001B[0m: name 'prediction_statistic_clusters' is not defined"
     ]
    }
   ],
   "source": [
    "prediction_statistic_clusters[\"jaccard\"].agg([\"mean\",\"median\",\"std\",\"min\",\"max\"])"
   ],
   "metadata": {
    "collapsed": false
   }
  },
  {
   "cell_type": "code",
   "execution_count": null,
   "outputs": [],
   "source": [],
   "metadata": {
    "collapsed": false
   }
  }
 ],
 "metadata": {
  "kernelspec": {
   "display_name": "Python 3",
   "language": "python",
   "name": "python3"
  },
  "language_info": {
   "codemirror_mode": {
    "name": "ipython",
    "version": 2
   },
   "file_extension": ".py",
   "mimetype": "text/x-python",
   "name": "python",
   "nbconvert_exporter": "python",
   "pygments_lexer": "ipython2",
   "version": "2.7.6"
  }
 },
 "nbformat": 4,
 "nbformat_minor": 0
}
