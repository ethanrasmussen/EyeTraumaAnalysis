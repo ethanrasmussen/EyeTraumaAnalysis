{
 "cells": [
  {
   "cell_type": "code",
   "execution_count": null,
   "metadata": {
    "collapsed": true
   },
   "outputs": [],
   "source": [
    "import os\n",
    "import sys\n",
    "import importlib\n",
    "import json\n",
    "import numpy as np\n",
    "import pandas as pd\n",
    "import scipy.ndimage as snd\n",
    "import skimage\n",
    "import uuid\n",
    "\n",
    "if os.getcwd().split(\"/\")[-1] == \"notebooks\":\n",
    "    os.chdir(\"../..\")\n",
    "directory_path = os.path.abspath(os.path.join(\"src\"))\n",
    "if directory_path not in sys.path:\n",
    "    sys.path.append(directory_path)\n",
    "\n",
    "import EyeTraumaAnalysis\n",
    "\n",
    "print(directory_path)\n",
    "importlib.reload(EyeTraumaAnalysis);\n",
    "import numpy as np\n",
    "import pandas as pd\n",
    "from matplotlib import pyplot as plt\n",
    "import matplotlib as mpl\n",
    "import cv2"
   ]
  },
  {
   "cell_type": "code",
   "execution_count": null,
   "outputs": [],
   "source": [
    "kmeans_labels = pd.read_excel(\"data/01_raw/Ergonautus/Ergonautus_Clusters_Correct_Values.xlsx\", dtype={\n",
    "    \"Correct 1\":\"Int64\", # \"Int64\" is from pandas, unlike int64 and allows null\n",
    "    \"Correct 2\":\"Int64\",\n",
    "    \"Correct 3\":\"Int64\",\n",
    "    \"Borderline\":\"Int64\",\n",
    "    \"Notes\":str,\n",
    "    \"Filename\":str,\n",
    "}, na_filter=False) # False na_filters make empty value for str column be \"\" instead of NaN\n"
   ],
   "metadata": {
    "collapsed": false
   }
  },
  {
   "cell_type": "code",
   "execution_count": null,
   "outputs": [],
   "source": [
    "all_metrics = []\n",
    "all_kmeans_masks = {}\n",
    "for ind, filename in enumerate(kmeans_labels[\"Filename\"]):\n",
    "    img_bgr = skimage.io.imread(os.path.join(\"data/01_raw/\",filename))\n",
    "    centers, ranges, res_bgr, kmeans_masks = EyeTraumaAnalysis.kmeans.create_kmeans(img_bgr)\n",
    "    metrics = EyeTraumaAnalysis.kmeans.get_kmeans_metrics(centers, ranges, kmeans_masks)\n",
    "    all_metrics.append(metrics)\n",
    "    all_kmeans_masks[filename] = kmeans_masks\n",
    "\n",
    "all_metrics = pd.concat(all_metrics, keys=kmeans_labels[\"Filename\"])\n"
   ],
   "metadata": {
    "collapsed": false
   }
  },
  {
   "cell_type": "code",
   "execution_count": null,
   "outputs": [],
   "source": [
    "all_metrics_agg = all_metrics.groupby([(\"Labels\",\"Value\")]).agg([\"median\"])[[\"Ranks\",\"Values\"]]\n"
   ],
   "metadata": {
    "collapsed": false
   }
  }
 ],
 "metadata": {
  "kernelspec": {
   "display_name": "Python 3",
   "language": "python",
   "name": "python3"
  },
  "language_info": {
   "codemirror_mode": {
    "name": "ipython",
    "version": 2
   },
   "file_extension": ".py",
   "mimetype": "text/x-python",
   "name": "python",
   "nbconvert_exporter": "python",
   "pygments_lexer": "ipython2",
   "version": "2.7.6"
  }
 },
 "nbformat": 4,
 "nbformat_minor": 0
}
