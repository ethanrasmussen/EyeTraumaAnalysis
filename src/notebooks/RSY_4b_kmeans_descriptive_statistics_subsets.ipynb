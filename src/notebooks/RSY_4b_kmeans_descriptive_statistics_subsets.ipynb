{
 "cells": [
  {
   "cell_type": "code",
   "execution_count": 143,
   "metadata": {
    "collapsed": true
   },
   "outputs": [
    {
     "name": "stdout",
     "output_type": "stream",
     "text": [
      "/Users/ryerrabelli/Library/CloudStorage/GoogleDrive-ryerrabelli@gmail.com/My Drive/Computer Backups/Rahul Yerrabelli drive/PythonProjects/EyeTraumaAnalysis/src\n"
     ]
    }
   ],
   "source": [
    "import os\n",
    "import sys\n",
    "import importlib\n",
    "import json\n",
    "import numpy as np\n",
    "import pandas as pd\n",
    "import scipy.ndimage as snd\n",
    "import skimage\n",
    "import uuid\n",
    "\n",
    "if os.getcwd().split(\"/\")[-1] == \"notebooks\":\n",
    "    os.chdir(\"../..\")\n",
    "directory_path = os.path.abspath(os.path.join(\"src\"))\n",
    "if directory_path not in sys.path:\n",
    "    sys.path.append(directory_path)\n",
    "\n",
    "import EyeTraumaAnalysis\n",
    "\n",
    "print(directory_path)\n",
    "importlib.reload(EyeTraumaAnalysis);\n",
    "import numpy as np\n",
    "import pandas as pd\n",
    "from matplotlib import pyplot as plt\n",
    "import matplotlib as mpl\n",
    "import cv2\n",
    "\n",
    "import plotly.express as px\n",
    "import plotly\n"
   ]
  },
  {
   "cell_type": "markdown",
   "source": [
    "# Load metrics"
   ],
   "metadata": {
    "collapsed": false
   }
  },
  {
   "cell_type": "code",
   "execution_count": 144,
   "outputs": [],
   "source": [
    "all_metrics = pd.read_pickle(\"data/03_first_25percent_metrics/color_and_spatial_metrics\" + \".pkl\")\n",
    "all_metrics_flat = pd.read_pickle(\"data/03_first_25percent_metrics/color_and_spatial_metrics_flat\" + \".pkl\")\n",
    "all_metrics_agg = pd.read_pickle(\"data/03_first_25percent_metrics/color_and_spatial_metrics_agg\" + \".pkl\")"
   ],
   "metadata": {
    "collapsed": false
   }
  },
  {
   "cell_type": "markdown",
   "source": [
    "# Create function for calculating roc metrics"
   ],
   "metadata": {
    "collapsed": false
   }
  },
  {
   "cell_type": "code",
   "execution_count": 183,
   "outputs": [
    {
     "ename": "TypeError",
     "evalue": "logical_or() takes from 2 to 3 positional arguments but 1 were given",
     "output_type": "error",
     "traceback": [
      "\u001B[0;31m---------------------------------------------------------------------------\u001B[0m",
      "\u001B[0;31mTypeError\u001B[0m                                 Traceback (most recent call last)",
      "Input \u001B[0;32mIn [183]\u001B[0m, in \u001B[0;36m<cell line: 1>\u001B[0;34m()\u001B[0m\n\u001B[0;32m----> 1\u001B[0m \u001B[43mnp\u001B[49m\u001B[38;5;241;43m.\u001B[39;49m\u001B[43mlogical_or\u001B[49m\u001B[43m(\u001B[49m\u001B[43m \u001B[49m\u001B[43m[\u001B[49m\u001B[43mnp\u001B[49m\u001B[38;5;241;43m.\u001B[39;49m\u001B[43marray\u001B[49m\u001B[43m(\u001B[49m\u001B[43m[\u001B[49m\u001B[38;5;241;43m1\u001B[39;49m\u001B[43m,\u001B[49m\u001B[38;5;241;43m2\u001B[39;49m\u001B[43m,\u001B[49m\u001B[38;5;241;43m3\u001B[39;49m\u001B[43m]\u001B[49m\u001B[43m)\u001B[49m\u001B[43m,\u001B[49m\u001B[43m \u001B[49m\u001B[43mnp\u001B[49m\u001B[38;5;241;43m.\u001B[39;49m\u001B[43marray\u001B[49m\u001B[43m(\u001B[49m\u001B[43m[\u001B[49m\u001B[38;5;241;43m1\u001B[39;49m\u001B[43m,\u001B[49m\u001B[38;5;241;43m2\u001B[39;49m\u001B[43m,\u001B[49m\u001B[38;5;241;43m3\u001B[39;49m\u001B[43m]\u001B[49m\u001B[43m)\u001B[49m\u001B[43m]\u001B[49m\u001B[43m)\u001B[49m\n",
      "\u001B[0;31mTypeError\u001B[0m: logical_or() takes from 2 to 3 positional arguments but 1 were given"
     ]
    }
   ],
   "source": [],
   "metadata": {
    "collapsed": false
   }
  },
  {
   "cell_type": "code",
   "execution_count": 221,
   "outputs": [],
   "source": [
    "def calculate_roc(truths, predict_scores, true_value=None):\n",
    "    if true_value is None:\n",
    "        truths = np.array(truths, dtype=bool)\n",
    "    elif isinstance(true_value,(list,dict,tuple,set,pd.Series,pd.DataFrame,np.ndarray)):\n",
    "        truths = np.array(truths) #== true_value  # check if values equal the whole collection\n",
    "        truths_temp = np.zeros(truths.shape, dtype=bool)  # start with false and then apply the | (or) operator\n",
    "        for each_true_value in true_value:  # check if values equal any of the elements in the collection\n",
    "            truths_temp = truths_temp | (truths == each_true_value)\n",
    "        truths = truths_temp\n",
    "    else:\n",
    "        truths = np.array(truths) == true_value\n",
    "    predict_scores = np.array(predict_scores)\n",
    "    predict_scores_sorted = np.sort(np.unique(predict_scores))\n",
    "    #thresholds = np.concatenate( ([np.min(predict_scores)-0.01], predict_scores) )\n",
    "    thresholds = np.concatenate( (\n",
    "        [predict_scores_sorted[0]-0.01],\n",
    "        (predict_scores_sorted[1:]+predict_scores_sorted[:-1])/2,\n",
    "        [predict_scores_sorted[-1]+0.01]\n",
    "    ))\n",
    "    predictions = predict_scores >= thresholds[...,np.newaxis]\n",
    "    # predictions has one more dimension than predict_scores\n",
    "    true_pos  =  truths &  predictions\n",
    "    false_pos = ~truths &  predictions\n",
    "    false_neg =  truths & ~predictions\n",
    "    true_neg  = ~truths & ~predictions\n",
    "\n",
    "    true_pos_ct  = np.count_nonzero(true_pos,  axis=-1)\n",
    "    false_pos_ct = np.count_nonzero(false_pos, axis=-1)\n",
    "    false_neg_ct = np.count_nonzero(false_neg, axis=-1)\n",
    "    true_neg_ct  = np.count_nonzero(true_neg,  axis=-1)\n",
    "\n",
    "    # Below is a good paper to review the formulas\n",
    "    # https://www.frontiersin.org/articles/10.3389/fpubh.2017.00307/full\n",
    "    accuracy = true_pos_ct + true_neg_ct / ( true_pos_ct + false_pos_ct + false_neg_ct + true_neg_ct )\n",
    "    # Sensitivity aka Recall aka True positive rate (TPR)\n",
    "    sensitivity = tpr = true_pos_ct / ( true_pos_ct + false_neg_ct )\n",
    "    # Specificity aka True negative rate (TNR)\n",
    "    specificity = tnr = true_neg_ct / ( true_neg_ct + false_pos_ct )\n",
    "    # Positive predictive value (PPV) aka Precision\n",
    "    ppv = true_pos_ct / ( true_pos_ct + false_pos_ct )\n",
    "    # Negative predictive value (NPV)\n",
    "    npv = true_neg_ct / ( true_neg_ct + false_neg_ct )\n",
    "    # False discovery rate (FDR)\n",
    "    fdr = 1 - ppv\n",
    "    # False omission rate (FOR, called FOMR in code)\n",
    "    fomr = 1 - npv\n",
    "    # False negative rate (FNR)\n",
    "    fnr = 1 - tpr\n",
    "    # False positive rate (FPR) aka 1-specificity\n",
    "    fpr = 1 - tnr\n",
    "\n",
    "    return pd.DataFrame({\n",
    "        \"threshold\": thresholds,\n",
    "        \"sensitivity\": sensitivity,\n",
    "        \"specificity\": specificity,\n",
    "        \"1-specificity\": fpr,\n",
    "    })\n"
   ],
   "metadata": {
    "collapsed": false
   }
  },
  {
   "cell_type": "code",
   "execution_count": 197,
   "outputs": [
    {
     "data": {
      "text/plain": "array([False, False,  True,  True,  True])"
     },
     "execution_count": 197,
     "metadata": {},
     "output_type": "execute_result"
    }
   ],
   "source": [
    "np.equal( np.array([0,0,1,1,1]), [1])"
   ],
   "metadata": {
    "collapsed": false
   }
  },
  {
   "cell_type": "markdown",
   "source": [
    "# Prepare for plotting"
   ],
   "metadata": {
    "collapsed": false
   }
  },
  {
   "cell_type": "code",
   "execution_count": 145,
   "outputs": [],
   "source": [
    "def save_plotly_figure(fig: plotly.graph_objs.Figure, title: str):\n",
    "    fig.write_image(\"outputs/kmeans-descriptive-subsets/\" + title + \".png\")\n",
    "    fig.write_html( \"outputs/kmeans-descriptive-subsets/\" + title + \".html\",\n",
    "                        full_html=True, include_plotlyjs=\"directory\" )"
   ],
   "metadata": {
    "collapsed": false
   }
  },
  {
   "cell_type": "code",
   "execution_count": 166,
   "outputs": [],
   "source": [
    "color_discrete_map = {\n",
    "    \"True\":           px.colors.qualitative.Plotly[2], # green\n",
    "    \"Maybe\":          px.colors.qualitative.Plotly[0], # blue\n",
    "    \"False\":          px.colors.qualitative.Plotly[1], # red\n",
    "}\n",
    "pattern_shape_map = {}\n",
    "category_orders = {\n",
    "    \"Labels-Value\": [\"False\", \"Maybe\", \"True\"],\n",
    "    \"facet_col\": [False, True],\n",
    "    \"facet_row\": [False, True],\n",
    "}\n",
    "\n",
    "# This is only the start. It will be added to programmatically later\n",
    "var_labels = {\n",
    "    \"Labels-Value\": \"Conjunctiva cluster\",\n",
    "    \"Values-Color-Center-H\": \"Center H\",\n",
    "    \"Values-Color-Center-S\": \"Center S\",\n",
    "    \"Values-Color-Center-V\": \"Center V\",\n",
    "    \"Values-Color-Range-H\": \"Range H\",\n",
    "    \"Values-Color-Range-S\": \"Range S\",\n",
    "    \"Values-Color-Range-V\": \"Range V\",\n",
    "    \"Values-Location-Mean-x\": \"Mean x\",\n",
    "    \"Values-Location-Mean-y\": \"Mean y\",\n",
    "    \"Values-Location-SD-x\": \"SD x\",\n",
    "    \"Values-Location-SD-y\": \"SD y\",\n",
    "}\n",
    "\n",
    "var_labels_copy = var_labels.copy()\n",
    "suffixes = [\"-H\",\"-x\"]\n",
    "for var_label_key in var_labels_copy:\n",
    "    for suffix in suffixes:\n",
    "        if var_label_key.endswith(suffix):\n",
    "            sep = suffix[:1]  # should be \"-\"\n",
    "            suffix_letter = suffix[1:]  # should be \"-H\" or \"-x\"\n",
    "            # Get name up to suffix letter e.g. \"Values-Color-Center-\"\n",
    "            var_label_key_prefix = var_label_key[0:-len(suffix_letter)]\n",
    "            # Get all possible suffixes for the prefix i.e. \"H\", \"S\", \"V\"\n",
    "            suffix_letter_options = [var_label_key[len(var_label_key_prefix):] for var_label_key in var_labels_copy\n",
    "                                          if var_label_key.startswith(var_label_key_prefix)]\n",
    "            combined_suffix_letters = \"\".join(suffix_letter_options)\n",
    "            # Get combined value\n",
    "            var_label_val_prefix = var_labels[var_label_key_prefix + suffix_letter][:-len(suffix_letter)]\n",
    "            combined_var_label_key = var_label_key_prefix + combined_suffix_letters\n",
    "            combined_var_label_val = var_label_val_prefix + combined_suffix_letters\n",
    "            var_labels[combined_var_label_key] = combined_var_label_val\n",
    "\n",
    "\n",
    "# Add labels for ranks\n",
    "var_labels_copy = var_labels.copy()\n",
    "for var_label_key in var_labels_copy:\n",
    "    if var_label_key.startswith(\"Values-\"):\n",
    "        var_label_key_suffix = var_label_key.split(\"Values-\",maxsplit=1)[-1]\n",
    "        var_labels[f\"Ranks-{var_label_key_suffix}\"] = var_labels[var_label_key] + \" (Rank)\"\n",
    "\n",
    "# Add labels\n",
    "for var_label_key in all_metrics_flat.columns:\n",
    "    for comparator in [\">\",\"<\"]:\n",
    "        if comparator in var_label_key:\n",
    "            stem, comparison = var_label_key.split(comparator, maxsplit=1)\n",
    "            if stem in var_labels:\n",
    "                var_labels[var_label_key] = \\\n",
    "                    (var_labels[stem] + comparator + comparison).replace(\">=\",\"≥\").replace(\"<=\",\"≤\")\n",
    "            else:\n",
    "                print(var_label_key, stem)\n",
    "                print(var_labels_copy)\n",
    "                raise KeyError\n",
    "\n",
    "#point_hover_data = [\"Values-Color-Center-HSV\",\"Ranks-Color-Center-HSV\",\n",
    "#                    \"Values-Location-Mean-xy\",\"Ranks-Location-Mean-xy\",\n",
    "#                    \"Values-Location-SD-xy\",\"Ranks-Location-SD-xy\"]\n",
    "point_hover_data = {\n",
    "    \"Values-Color-Center-H\": False,\n",
    "    \"Values-Color-Center-S\": False,\n",
    "    \"Values-Color-Center-V\": False,\n",
    "    \"Ranks-Color-Center-H\": False,\n",
    "    \"Ranks-Color-Center-S\": False,\n",
    "    \"Ranks-Color-Center-V\": False,\n",
    "    \"Values-Color-Center-HSV\":True,\n",
    "    \"Ranks-Color-Center-HSV\":True,\n",
    "    \"Values-Location-Mean-xy\":True,\n",
    "    \"Ranks-Location-Mean-xy\":True,\n",
    "    \"Values-Location-SD-xy\":True,\n",
    "    \"Ranks-Location-SD-xy\":True,\n",
    "}\n",
    "roc_hover_data = {\n",
    "    \"sensitivity\":\":0.2%\",\n",
    "    \"1-specificity\":\":0.2%\",\n",
    "    \"threshold\":True\n",
    "}\n",
    "\n",
    "plotly_template = \"plotly_dark\"  #\"simple_white\"\n"
   ],
   "metadata": {
    "collapsed": false
   }
  },
  {
   "cell_type": "markdown",
   "source": [
    "# Plot"
   ],
   "metadata": {
    "collapsed": false
   }
  },
  {
   "cell_type": "code",
   "execution_count": 32,
   "outputs": [
    {
     "data": {
      "application/vnd.plotly.v1+json": {
       "data": [
        {
         "alignmentgroup": "True",
         "bingroup": "x",
         "histnorm": "percent",
         "hovertemplate": "Conjunctiva cluster=False<br>Center H≥100=True<br>Center H=%{x}<br>percent=%{y}<extra></extra>",
         "legendgroup": "False",
         "marker": {
          "color": "#EF553B",
          "opacity": 0.6,
          "pattern": {
           "shape": ""
          }
         },
         "name": "False",
         "offsetgroup": "False",
         "orientation": "v",
         "showlegend": true,
         "x": [
          145,
          121,
          117,
          127,
          114,
          117,
          123,
          110,
          127,
          132,
          111,
          113,
          121,
          111,
          109,
          109,
          118,
          117,
          112,
          109,
          111,
          118,
          118,
          124,
          114,
          120,
          112,
          125,
          109,
          119,
          131,
          118,
          115,
          126,
          111,
          110,
          109,
          123,
          113,
          122,
          112,
          111,
          109,
          109,
          145,
          120,
          113,
          111,
          109,
          113,
          109,
          107,
          108,
          127,
          111,
          110,
          109,
          109,
          111,
          108,
          108,
          137,
          116,
          128,
          111,
          110,
          120,
          110,
          109,
          128,
          114,
          122,
          113,
          111,
          116,
          110,
          109,
          130,
          118,
          113,
          129,
          115,
          111,
          122,
          109,
          112,
          111,
          109,
          110,
          110,
          110,
          107,
          109,
          119,
          126,
          114,
          112,
          120,
          109,
          119,
          133,
          124,
          113,
          113,
          110,
          109,
          108,
          107,
          123,
          127,
          111,
          116,
          113,
          121,
          110,
          117,
          122,
          110,
          111,
          110,
          111,
          109,
          106,
          118,
          118,
          117,
          120,
          122,
          112,
          120,
          109,
          108,
          118,
          123,
          113,
          119,
          112,
          110,
          157,
          107,
          118,
          119,
          129,
          112,
          124,
          110,
          117,
          109,
          133,
          124,
          133,
          114,
          111,
          110,
          116,
          109,
          133,
          123,
          120,
          126,
          129,
          112,
          115,
          162,
          116,
          111,
          111,
          111,
          111,
          109,
          106,
          106,
          127,
          109,
          110,
          111,
          109,
          107,
          106,
          106,
          128,
          122,
          128,
          144,
          113,
          121,
          109,
          108,
          123,
          108,
          112,
          113,
          113,
          113,
          106,
          106,
          120,
          122,
          117,
          121,
          128,
          110,
          108,
          121,
          110,
          111,
          111,
          108,
          106,
          107,
          125,
          140,
          109,
          107,
          108,
          148,
          122,
          125,
          135,
          112,
          111,
          119,
          120,
          112,
          111,
          111,
          110,
          109,
          108,
          126,
          115,
          129,
          109,
          109,
          108,
          109,
          144,
          120,
          112,
          111,
          113,
          110,
          110,
          166,
          120,
          118,
          138,
          111,
          112,
          111,
          111,
          126,
          111,
          150,
          108,
          109,
          107,
          108,
          135,
          119,
          109,
          126,
          109,
          108,
          141,
          113,
          112,
          110,
          111,
          110,
          110,
          111,
          143,
          118,
          133,
          109,
          110,
          108,
          140,
          120,
          118,
          132,
          111,
          111,
          130,
          129,
          110,
          110,
          107,
          108,
          126,
          120,
          116,
          121,
          110,
          109,
          111,
          107,
          131,
          115,
          110,
          111,
          109,
          109,
          108,
          137,
          123,
          112,
          132,
          112,
          111,
          118,
          113,
          119,
          109,
          108,
          111,
          124,
          127,
          132,
          111,
          109,
          107,
          108,
          107,
          113,
          130,
          151,
          112,
          109,
          117,
          108,
          107,
          121,
          113,
          119,
          110,
          110,
          109,
          109,
          109,
          118,
          112,
          109,
          110,
          109,
          109,
          108,
          108,
          147,
          111,
          116,
          129,
          110,
          111,
          117,
          120,
          115,
          109,
          120,
          110,
          109,
          131,
          128,
          119,
          125,
          127,
          114,
          112,
          111,
          127,
          122,
          111,
          138,
          108,
          110,
          107,
          117,
          128,
          138,
          123,
          109,
          108,
          108,
          108,
          145,
          129,
          125,
          113,
          110,
          108,
          123,
          107,
          132,
          134,
          110,
          129,
          109,
          117,
          116,
          122,
          115,
          118,
          109,
          107,
          108,
          117,
          122,
          109,
          109,
          108,
          111,
          106,
          122,
          116,
          119,
          110,
          110,
          112,
          109,
          110,
          125,
          112,
          121,
          110,
          110,
          122,
          110,
          135,
          120,
          111,
          109,
          108,
          121,
          108,
          126,
          119,
          126,
          111,
          109,
          119,
          109,
          108,
          108,
          122,
          131,
          112,
          110,
          110,
          108,
          110,
          113,
          137,
          114,
          111,
          112,
          154,
          109,
          112,
          130,
          125,
          111,
          109,
          132,
          109,
          107,
          109,
          121,
          121,
          119,
          129,
          108,
          108,
          107,
          109,
          168,
          149,
          133,
          114,
          110,
          108,
          111,
          108,
          170,
          122,
          115,
          143,
          110,
          111,
          108,
          110,
          171,
          147,
          116,
          122,
          109,
          109,
          109,
          129,
          124,
          142,
          110,
          108,
          134,
          109,
          124,
          122,
          109,
          125,
          109,
          107,
          110,
          115,
          143,
          123,
          126,
          112,
          113,
          119,
          111,
          111,
          140,
          123,
          113,
          151,
          109,
          109,
          110,
          128,
          123,
          129,
          110,
          111,
          108,
          110,
          132,
          121,
          125,
          112,
          111,
          109,
          117,
          110,
          128,
          117,
          111,
          122,
          113,
          120,
          111,
          118,
          133,
          133,
          110,
          112,
          113,
          113,
          112,
          111,
          130,
          118,
          121,
          115,
          121,
          113,
          111,
          111,
          121,
          112,
          110,
          112,
          109,
          109,
          108,
          107,
          108,
          145,
          141,
          114,
          116,
          123,
          112,
          112,
          109,
          119,
          113,
          110,
          109,
          112,
          108,
          107,
          107,
          131,
          116,
          117,
          113,
          113,
          113,
          111,
          117,
          112,
          111,
          110,
          110,
          108,
          107,
          112,
          130,
          118,
          113,
          119,
          111,
          116,
          110,
          121,
          110,
          110,
          109,
          109,
          108,
          107,
          106,
          117,
          120,
          115,
          117,
          111,
          112,
          109,
          118,
          111,
          110,
          110,
          110,
          108,
          109,
          108,
          140,
          127,
          116,
          117,
          120,
          114,
          120,
          126,
          120,
          116,
          116,
          120,
          113,
          124,
          111,
          143,
          116,
          113,
          121,
          113,
          118,
          117,
          117,
          114,
          115,
          118,
          111,
          115,
          110,
          109,
          110,
          139,
          119,
          124,
          114,
          117,
          112,
          111,
          131,
          111,
          111,
          109,
          109,
          109,
          109,
          108,
          108,
          123,
          114,
          116,
          121,
          111,
          110,
          109,
          109,
          137,
          116,
          119,
          113,
          110,
          112,
          122,
          109,
          134,
          121,
          117,
          113,
          114,
          112,
          116,
          110,
          115,
          109,
          109,
          109,
          110,
          109,
          107,
          107,
          120,
          114,
          111,
          112,
          110,
          108,
          107,
          108,
          140,
          119,
          119,
          124,
          112,
          118,
          110,
          113,
          121,
          120,
          126,
          117,
          113,
          118,
          126,
          116,
          114,
          113,
          112,
          112,
          111,
          117,
          110,
          109,
          165,
          150,
          112,
          111,
          128,
          117,
          119,
          121,
          113,
          117,
          116,
          122,
          115,
          113,
          124,
          108,
          105,
          107,
          111,
          110,
          112,
          109,
          108,
          146,
          115,
          112,
          122,
          114,
          102,
          113,
          111,
          112,
          158,
          113,
          110,
          109,
          108,
          108,
          117,
          110,
          108,
          108,
          108,
          108,
          107,
          106,
          126,
          111,
          111,
          111,
          110,
          110,
          108,
          154,
          136,
          157,
          117,
          115,
          113,
          113,
          118,
          127,
          109,
          108,
          108,
          116,
          137,
          117,
          118,
          114,
          119,
          113,
          117,
          111,
          108,
          109,
          108,
          107,
          107,
          120,
          149,
          114,
          115,
          113,
          111,
          112,
          169,
          155,
          113,
          111,
          127,
          109,
          120,
          159,
          114,
          113,
          130,
          162,
          126,
          114,
          113,
          111,
          163,
          113,
          110,
          111,
          109,
          115,
          105,
          136,
          111,
          107,
          108,
          114,
          111,
          111,
          122,
          108,
          113,
          109,
          110,
          107,
          145,
          123,
          114,
          124,
          114,
          111,
          116,
          109,
          120,
          114,
          111,
          110,
          114,
          135,
          115,
          115,
          118,
          114,
          117,
          128,
          117,
          115,
          116,
          108,
          114,
          115,
          112,
          112,
          112,
          116,
          107,
          107,
          105,
          112,
          110,
          110,
          111,
          108,
          109,
          115,
          120,
          113,
          112,
          122,
          124,
          111,
          110,
          111,
          109,
          110,
          109,
          107,
          138,
          114,
          114,
          114,
          117,
          113,
          131,
          108,
          108,
          110,
          109,
          108,
          108,
          110,
          123,
          105,
          109,
          112,
          124,
          108,
          169,
          113,
          115,
          110,
          117,
          107,
          105,
          143,
          111,
          108,
          109,
          108,
          116,
          108,
          133,
          117,
          118,
          113,
          115,
          114,
          113,
          130,
          117,
          111,
          122,
          111,
          111,
          109,
          115,
          113,
          115,
          120,
          115,
          113,
          116,
          137,
          122,
          111,
          109,
          117,
          108,
          106,
          110,
          113,
          108,
          114,
          112,
          111,
          111,
          140,
          117,
          113,
          114,
          115,
          113,
          112,
          113,
          124,
          126,
          110,
          109,
          109,
          109,
          113,
          111,
          111,
          109,
          135,
          123,
          112,
          124,
          122,
          111,
          105,
          125,
          115,
          112,
          108,
          114,
          110,
          109,
          106,
          131,
          112,
          110,
          110,
          110,
          109,
          107,
          115,
          112,
          115,
          125,
          116,
          130,
          114,
          119,
          102,
          108,
          111,
          109,
          109,
          158,
          108,
          112,
          110,
          124,
          110,
          134,
          115,
          112,
          112,
          112,
          116,
          145,
          108,
          107,
          109,
          115,
          108
         ],
         "xaxis": "x",
         "yaxis": "y",
         "type": "histogram"
        },
        {
         "alignmentgroup": "True",
         "hovertemplate": "Conjunctiva cluster=False<br>Center H≥100=True<br>Center H=%{x}<extra></extra>",
         "legendgroup": "False",
         "marker": {
          "color": "#EF553B"
         },
         "name": "False",
         "notched": true,
         "offsetgroup": "False",
         "showlegend": false,
         "x": [
          145,
          121,
          117,
          127,
          114,
          117,
          123,
          110,
          127,
          132,
          111,
          113,
          121,
          111,
          109,
          109,
          118,
          117,
          112,
          109,
          111,
          118,
          118,
          124,
          114,
          120,
          112,
          125,
          109,
          119,
          131,
          118,
          115,
          126,
          111,
          110,
          109,
          123,
          113,
          122,
          112,
          111,
          109,
          109,
          145,
          120,
          113,
          111,
          109,
          113,
          109,
          107,
          108,
          127,
          111,
          110,
          109,
          109,
          111,
          108,
          108,
          137,
          116,
          128,
          111,
          110,
          120,
          110,
          109,
          128,
          114,
          122,
          113,
          111,
          116,
          110,
          109,
          130,
          118,
          113,
          129,
          115,
          111,
          122,
          109,
          112,
          111,
          109,
          110,
          110,
          110,
          107,
          109,
          119,
          126,
          114,
          112,
          120,
          109,
          119,
          133,
          124,
          113,
          113,
          110,
          109,
          108,
          107,
          123,
          127,
          111,
          116,
          113,
          121,
          110,
          117,
          122,
          110,
          111,
          110,
          111,
          109,
          106,
          118,
          118,
          117,
          120,
          122,
          112,
          120,
          109,
          108,
          118,
          123,
          113,
          119,
          112,
          110,
          157,
          107,
          118,
          119,
          129,
          112,
          124,
          110,
          117,
          109,
          133,
          124,
          133,
          114,
          111,
          110,
          116,
          109,
          133,
          123,
          120,
          126,
          129,
          112,
          115,
          162,
          116,
          111,
          111,
          111,
          111,
          109,
          106,
          106,
          127,
          109,
          110,
          111,
          109,
          107,
          106,
          106,
          128,
          122,
          128,
          144,
          113,
          121,
          109,
          108,
          123,
          108,
          112,
          113,
          113,
          113,
          106,
          106,
          120,
          122,
          117,
          121,
          128,
          110,
          108,
          121,
          110,
          111,
          111,
          108,
          106,
          107,
          125,
          140,
          109,
          107,
          108,
          148,
          122,
          125,
          135,
          112,
          111,
          119,
          120,
          112,
          111,
          111,
          110,
          109,
          108,
          126,
          115,
          129,
          109,
          109,
          108,
          109,
          144,
          120,
          112,
          111,
          113,
          110,
          110,
          166,
          120,
          118,
          138,
          111,
          112,
          111,
          111,
          126,
          111,
          150,
          108,
          109,
          107,
          108,
          135,
          119,
          109,
          126,
          109,
          108,
          141,
          113,
          112,
          110,
          111,
          110,
          110,
          111,
          143,
          118,
          133,
          109,
          110,
          108,
          140,
          120,
          118,
          132,
          111,
          111,
          130,
          129,
          110,
          110,
          107,
          108,
          126,
          120,
          116,
          121,
          110,
          109,
          111,
          107,
          131,
          115,
          110,
          111,
          109,
          109,
          108,
          137,
          123,
          112,
          132,
          112,
          111,
          118,
          113,
          119,
          109,
          108,
          111,
          124,
          127,
          132,
          111,
          109,
          107,
          108,
          107,
          113,
          130,
          151,
          112,
          109,
          117,
          108,
          107,
          121,
          113,
          119,
          110,
          110,
          109,
          109,
          109,
          118,
          112,
          109,
          110,
          109,
          109,
          108,
          108,
          147,
          111,
          116,
          129,
          110,
          111,
          117,
          120,
          115,
          109,
          120,
          110,
          109,
          131,
          128,
          119,
          125,
          127,
          114,
          112,
          111,
          127,
          122,
          111,
          138,
          108,
          110,
          107,
          117,
          128,
          138,
          123,
          109,
          108,
          108,
          108,
          145,
          129,
          125,
          113,
          110,
          108,
          123,
          107,
          132,
          134,
          110,
          129,
          109,
          117,
          116,
          122,
          115,
          118,
          109,
          107,
          108,
          117,
          122,
          109,
          109,
          108,
          111,
          106,
          122,
          116,
          119,
          110,
          110,
          112,
          109,
          110,
          125,
          112,
          121,
          110,
          110,
          122,
          110,
          135,
          120,
          111,
          109,
          108,
          121,
          108,
          126,
          119,
          126,
          111,
          109,
          119,
          109,
          108,
          108,
          122,
          131,
          112,
          110,
          110,
          108,
          110,
          113,
          137,
          114,
          111,
          112,
          154,
          109,
          112,
          130,
          125,
          111,
          109,
          132,
          109,
          107,
          109,
          121,
          121,
          119,
          129,
          108,
          108,
          107,
          109,
          168,
          149,
          133,
          114,
          110,
          108,
          111,
          108,
          170,
          122,
          115,
          143,
          110,
          111,
          108,
          110,
          171,
          147,
          116,
          122,
          109,
          109,
          109,
          129,
          124,
          142,
          110,
          108,
          134,
          109,
          124,
          122,
          109,
          125,
          109,
          107,
          110,
          115,
          143,
          123,
          126,
          112,
          113,
          119,
          111,
          111,
          140,
          123,
          113,
          151,
          109,
          109,
          110,
          128,
          123,
          129,
          110,
          111,
          108,
          110,
          132,
          121,
          125,
          112,
          111,
          109,
          117,
          110,
          128,
          117,
          111,
          122,
          113,
          120,
          111,
          118,
          133,
          133,
          110,
          112,
          113,
          113,
          112,
          111,
          130,
          118,
          121,
          115,
          121,
          113,
          111,
          111,
          121,
          112,
          110,
          112,
          109,
          109,
          108,
          107,
          108,
          145,
          141,
          114,
          116,
          123,
          112,
          112,
          109,
          119,
          113,
          110,
          109,
          112,
          108,
          107,
          107,
          131,
          116,
          117,
          113,
          113,
          113,
          111,
          117,
          112,
          111,
          110,
          110,
          108,
          107,
          112,
          130,
          118,
          113,
          119,
          111,
          116,
          110,
          121,
          110,
          110,
          109,
          109,
          108,
          107,
          106,
          117,
          120,
          115,
          117,
          111,
          112,
          109,
          118,
          111,
          110,
          110,
          110,
          108,
          109,
          108,
          140,
          127,
          116,
          117,
          120,
          114,
          120,
          126,
          120,
          116,
          116,
          120,
          113,
          124,
          111,
          143,
          116,
          113,
          121,
          113,
          118,
          117,
          117,
          114,
          115,
          118,
          111,
          115,
          110,
          109,
          110,
          139,
          119,
          124,
          114,
          117,
          112,
          111,
          131,
          111,
          111,
          109,
          109,
          109,
          109,
          108,
          108,
          123,
          114,
          116,
          121,
          111,
          110,
          109,
          109,
          137,
          116,
          119,
          113,
          110,
          112,
          122,
          109,
          134,
          121,
          117,
          113,
          114,
          112,
          116,
          110,
          115,
          109,
          109,
          109,
          110,
          109,
          107,
          107,
          120,
          114,
          111,
          112,
          110,
          108,
          107,
          108,
          140,
          119,
          119,
          124,
          112,
          118,
          110,
          113,
          121,
          120,
          126,
          117,
          113,
          118,
          126,
          116,
          114,
          113,
          112,
          112,
          111,
          117,
          110,
          109,
          165,
          150,
          112,
          111,
          128,
          117,
          119,
          121,
          113,
          117,
          116,
          122,
          115,
          113,
          124,
          108,
          105,
          107,
          111,
          110,
          112,
          109,
          108,
          146,
          115,
          112,
          122,
          114,
          102,
          113,
          111,
          112,
          158,
          113,
          110,
          109,
          108,
          108,
          117,
          110,
          108,
          108,
          108,
          108,
          107,
          106,
          126,
          111,
          111,
          111,
          110,
          110,
          108,
          154,
          136,
          157,
          117,
          115,
          113,
          113,
          118,
          127,
          109,
          108,
          108,
          116,
          137,
          117,
          118,
          114,
          119,
          113,
          117,
          111,
          108,
          109,
          108,
          107,
          107,
          120,
          149,
          114,
          115,
          113,
          111,
          112,
          169,
          155,
          113,
          111,
          127,
          109,
          120,
          159,
          114,
          113,
          130,
          162,
          126,
          114,
          113,
          111,
          163,
          113,
          110,
          111,
          109,
          115,
          105,
          136,
          111,
          107,
          108,
          114,
          111,
          111,
          122,
          108,
          113,
          109,
          110,
          107,
          145,
          123,
          114,
          124,
          114,
          111,
          116,
          109,
          120,
          114,
          111,
          110,
          114,
          135,
          115,
          115,
          118,
          114,
          117,
          128,
          117,
          115,
          116,
          108,
          114,
          115,
          112,
          112,
          112,
          116,
          107,
          107,
          105,
          112,
          110,
          110,
          111,
          108,
          109,
          115,
          120,
          113,
          112,
          122,
          124,
          111,
          110,
          111,
          109,
          110,
          109,
          107,
          138,
          114,
          114,
          114,
          117,
          113,
          131,
          108,
          108,
          110,
          109,
          108,
          108,
          110,
          123,
          105,
          109,
          112,
          124,
          108,
          169,
          113,
          115,
          110,
          117,
          107,
          105,
          143,
          111,
          108,
          109,
          108,
          116,
          108,
          133,
          117,
          118,
          113,
          115,
          114,
          113,
          130,
          117,
          111,
          122,
          111,
          111,
          109,
          115,
          113,
          115,
          120,
          115,
          113,
          116,
          137,
          122,
          111,
          109,
          117,
          108,
          106,
          110,
          113,
          108,
          114,
          112,
          111,
          111,
          140,
          117,
          113,
          114,
          115,
          113,
          112,
          113,
          124,
          126,
          110,
          109,
          109,
          109,
          113,
          111,
          111,
          109,
          135,
          123,
          112,
          124,
          122,
          111,
          105,
          125,
          115,
          112,
          108,
          114,
          110,
          109,
          106,
          131,
          112,
          110,
          110,
          110,
          109,
          107,
          115,
          112,
          115,
          125,
          116,
          130,
          114,
          119,
          102,
          108,
          111,
          109,
          109,
          158,
          108,
          112,
          110,
          124,
          110,
          134,
          115,
          112,
          112,
          112,
          116,
          145,
          108,
          107,
          109,
          115,
          108
         ],
         "xaxis": "x3",
         "yaxis": "y3",
         "type": "box"
        },
        {
         "alignmentgroup": "True",
         "bingroup": "x",
         "histnorm": "percent",
         "hovertemplate": "Conjunctiva cluster=False<br>Center H≥100=False<br>Center H=%{x}<br>percent=%{y}<extra></extra>",
         "legendgroup": "False",
         "marker": {
          "color": "#EF553B",
          "opacity": 0.6,
          "pattern": {
           "shape": ""
          }
         },
         "name": "False",
         "offsetgroup": "False",
         "orientation": "v",
         "showlegend": false,
         "x": [
          2,
          12,
          11,
          4,
          4,
          8,
          2,
          3,
          4,
          9,
          2,
          8,
          0,
          3,
          11,
          2,
          7,
          5,
          10,
          2,
          7,
          5,
          0,
          0,
          6,
          4,
          3,
          0,
          4,
          6,
          0,
          2,
          12,
          7,
          4,
          5,
          3,
          9,
          24,
          9,
          4,
          8,
          2,
          6,
          2,
          4,
          3,
          9,
          21,
          0,
          3,
          3,
          0,
          0,
          0,
          0,
          1,
          4,
          10,
          9,
          14,
          18,
          5,
          2,
          6,
          22,
          19,
          5,
          5,
          5,
          11,
          16,
          7,
          9,
          11,
          8,
          9,
          12,
          5,
          71,
          0,
          1,
          9,
          9,
          2,
          6,
          17,
          15,
          17,
          8,
          4,
          9,
          12,
          7,
          6,
          29,
          6,
          26,
          84,
          4,
          3,
          21,
          19,
          0,
          4,
          16,
          18,
          6,
          6,
          0,
          11,
          6,
          17,
          10,
          8,
          12,
          30,
          3,
          0
         ],
         "xaxis": "x2",
         "yaxis": "y2",
         "type": "histogram"
        },
        {
         "alignmentgroup": "True",
         "hovertemplate": "Conjunctiva cluster=False<br>Center H≥100=False<br>Center H=%{x}<extra></extra>",
         "legendgroup": "False",
         "marker": {
          "color": "#EF553B"
         },
         "name": "False",
         "notched": true,
         "offsetgroup": "False",
         "showlegend": false,
         "x": [
          2,
          12,
          11,
          4,
          4,
          8,
          2,
          3,
          4,
          9,
          2,
          8,
          0,
          3,
          11,
          2,
          7,
          5,
          10,
          2,
          7,
          5,
          0,
          0,
          6,
          4,
          3,
          0,
          4,
          6,
          0,
          2,
          12,
          7,
          4,
          5,
          3,
          9,
          24,
          9,
          4,
          8,
          2,
          6,
          2,
          4,
          3,
          9,
          21,
          0,
          3,
          3,
          0,
          0,
          0,
          0,
          1,
          4,
          10,
          9,
          14,
          18,
          5,
          2,
          6,
          22,
          19,
          5,
          5,
          5,
          11,
          16,
          7,
          9,
          11,
          8,
          9,
          12,
          5,
          71,
          0,
          1,
          9,
          9,
          2,
          6,
          17,
          15,
          17,
          8,
          4,
          9,
          12,
          7,
          6,
          29,
          6,
          26,
          84,
          4,
          3,
          21,
          19,
          0,
          4,
          16,
          18,
          6,
          6,
          0,
          11,
          6,
          17,
          10,
          8,
          12,
          30,
          3,
          0
         ],
         "xaxis": "x4",
         "yaxis": "y4",
         "type": "box"
        },
        {
         "alignmentgroup": "True",
         "bingroup": "x",
         "histnorm": "percent",
         "hovertemplate": "Conjunctiva cluster=Maybe<br>Center H≥100=True<br>Center H=%{x}<br>percent=%{y}<extra></extra>",
         "legendgroup": "Maybe",
         "marker": {
          "color": "#636EFA",
          "opacity": 0.6,
          "pattern": {
           "shape": ""
          }
         },
         "name": "Maybe",
         "offsetgroup": "Maybe",
         "orientation": "v",
         "showlegend": true,
         "x": [
          115,
          111,
          113,
          109,
          108,
          121,
          110,
          109,
          109,
          109,
          109,
          109,
          109,
          110,
          119,
          109,
          108,
          110,
          117,
          117,
          113,
          108,
          109,
          114,
          114,
          108,
          113,
          108,
          111,
          114,
          110,
          110,
          110,
          117,
          113,
          113,
          108,
          112,
          117,
          108,
          113,
          110
         ],
         "xaxis": "x",
         "yaxis": "y",
         "type": "histogram"
        },
        {
         "alignmentgroup": "True",
         "hovertemplate": "Conjunctiva cluster=Maybe<br>Center H≥100=True<br>Center H=%{x}<extra></extra>",
         "legendgroup": "Maybe",
         "marker": {
          "color": "#636EFA"
         },
         "name": "Maybe",
         "notched": true,
         "offsetgroup": "Maybe",
         "showlegend": false,
         "x": [
          115,
          111,
          113,
          109,
          108,
          121,
          110,
          109,
          109,
          109,
          109,
          109,
          109,
          110,
          119,
          109,
          108,
          110,
          117,
          117,
          113,
          108,
          109,
          114,
          114,
          108,
          113,
          108,
          111,
          114,
          110,
          110,
          110,
          117,
          113,
          113,
          108,
          112,
          117,
          108,
          113,
          110
         ],
         "xaxis": "x3",
         "yaxis": "y3",
         "type": "box"
        },
        {
         "alignmentgroup": "True",
         "bingroup": "x",
         "histnorm": "percent",
         "hovertemplate": "Conjunctiva cluster=Maybe<br>Center H≥100=False<br>Center H=%{x}<br>percent=%{y}<extra></extra>",
         "legendgroup": "Maybe",
         "marker": {
          "color": "#636EFA",
          "opacity": 0.6,
          "pattern": {
           "shape": ""
          }
         },
         "name": "Maybe",
         "offsetgroup": "Maybe",
         "orientation": "v",
         "showlegend": false,
         "x": [
          20,
          7,
          27
         ],
         "xaxis": "x2",
         "yaxis": "y2",
         "type": "histogram"
        },
        {
         "alignmentgroup": "True",
         "hovertemplate": "Conjunctiva cluster=Maybe<br>Center H≥100=False<br>Center H=%{x}<extra></extra>",
         "legendgroup": "Maybe",
         "marker": {
          "color": "#636EFA"
         },
         "name": "Maybe",
         "notched": true,
         "offsetgroup": "Maybe",
         "showlegend": false,
         "x": [
          20,
          7,
          27
         ],
         "xaxis": "x4",
         "yaxis": "y4",
         "type": "box"
        },
        {
         "alignmentgroup": "True",
         "bingroup": "x",
         "histnorm": "percent",
         "hovertemplate": "Conjunctiva cluster=True<br>Center H≥100=True<br>Center H=%{x}<br>percent=%{y}<extra></extra>",
         "legendgroup": "True",
         "marker": {
          "color": "#00CC96",
          "opacity": 0.6,
          "pattern": {
           "shape": ""
          }
         },
         "name": "True",
         "offsetgroup": "True",
         "orientation": "v",
         "showlegend": true,
         "x": [
          111,
          117,
          111,
          114,
          120,
          110,
          108,
          110,
          120,
          119,
          118,
          120,
          117,
          108,
          107,
          107,
          107,
          114,
          116,
          111,
          113,
          111,
          108,
          108,
          110,
          111,
          108,
          112,
          110,
          112,
          108,
          105,
          113,
          115,
          109,
          113,
          109,
          109,
          109,
          109,
          107,
          110,
          106,
          111,
          110,
          107,
          114,
          123,
          107,
          106,
          108,
          115,
          112,
          119,
          110,
          110,
          113,
          112,
          109,
          113,
          111,
          112,
          111,
          111,
          112,
          117,
          109,
          106,
          108,
          110,
          117,
          108,
          107,
          106,
          109,
          115,
          111,
          117,
          105,
          112,
          108,
          112,
          109,
          111,
          114,
          107,
          115,
          115,
          108,
          107,
          111,
          110,
          108,
          106,
          104,
          104,
          123,
          114,
          152,
          173,
          110,
          111,
          111,
          114,
          112,
          110,
          117,
          115,
          130,
          108,
          112,
          112,
          109,
          109,
          116,
          109,
          107,
          118,
          109,
          113,
          113,
          112,
          110,
          112,
          111,
          112,
          112,
          111,
          111,
          110,
          139,
          108,
          111,
          121,
          110,
          110,
          115,
          108,
          109,
          108,
          112,
          109,
          112,
          112,
          115,
          111,
          126,
          109,
          113,
          109,
          108,
          105,
          108,
          108,
          128,
          110,
          108,
          116,
          123,
          108,
          107,
          106,
          116,
          110,
          109,
          113,
          111,
          110,
          117,
          108,
          116,
          107,
          116,
          113,
          109,
          114,
          113,
          118,
          108,
          113,
          113,
          109,
          108,
          109,
          109,
          114,
          117,
          118,
          115,
          157,
          128,
          109,
          146,
          119,
          118,
          116,
          114,
          111,
          111,
          110,
          119,
          111,
          109,
          114,
          116,
          111,
          132,
          111,
          118
         ],
         "xaxis": "x",
         "yaxis": "y",
         "type": "histogram"
        },
        {
         "alignmentgroup": "True",
         "hovertemplate": "Conjunctiva cluster=True<br>Center H≥100=True<br>Center H=%{x}<extra></extra>",
         "legendgroup": "True",
         "marker": {
          "color": "#00CC96"
         },
         "name": "True",
         "notched": true,
         "offsetgroup": "True",
         "showlegend": false,
         "x": [
          111,
          117,
          111,
          114,
          120,
          110,
          108,
          110,
          120,
          119,
          118,
          120,
          117,
          108,
          107,
          107,
          107,
          114,
          116,
          111,
          113,
          111,
          108,
          108,
          110,
          111,
          108,
          112,
          110,
          112,
          108,
          105,
          113,
          115,
          109,
          113,
          109,
          109,
          109,
          109,
          107,
          110,
          106,
          111,
          110,
          107,
          114,
          123,
          107,
          106,
          108,
          115,
          112,
          119,
          110,
          110,
          113,
          112,
          109,
          113,
          111,
          112,
          111,
          111,
          112,
          117,
          109,
          106,
          108,
          110,
          117,
          108,
          107,
          106,
          109,
          115,
          111,
          117,
          105,
          112,
          108,
          112,
          109,
          111,
          114,
          107,
          115,
          115,
          108,
          107,
          111,
          110,
          108,
          106,
          104,
          104,
          123,
          114,
          152,
          173,
          110,
          111,
          111,
          114,
          112,
          110,
          117,
          115,
          130,
          108,
          112,
          112,
          109,
          109,
          116,
          109,
          107,
          118,
          109,
          113,
          113,
          112,
          110,
          112,
          111,
          112,
          112,
          111,
          111,
          110,
          139,
          108,
          111,
          121,
          110,
          110,
          115,
          108,
          109,
          108,
          112,
          109,
          112,
          112,
          115,
          111,
          126,
          109,
          113,
          109,
          108,
          105,
          108,
          108,
          128,
          110,
          108,
          116,
          123,
          108,
          107,
          106,
          116,
          110,
          109,
          113,
          111,
          110,
          117,
          108,
          116,
          107,
          116,
          113,
          109,
          114,
          113,
          118,
          108,
          113,
          113,
          109,
          108,
          109,
          109,
          114,
          117,
          118,
          115,
          157,
          128,
          109,
          146,
          119,
          118,
          116,
          114,
          111,
          111,
          110,
          119,
          111,
          109,
          114,
          116,
          111,
          132,
          111,
          118
         ],
         "xaxis": "x3",
         "yaxis": "y3",
         "type": "box"
        },
        {
         "alignmentgroup": "True",
         "bingroup": "x",
         "histnorm": "percent",
         "hovertemplate": "Conjunctiva cluster=True<br>Center H≥100=False<br>Center H=%{x}<br>percent=%{y}<extra></extra>",
         "legendgroup": "True",
         "marker": {
          "color": "#00CC96",
          "opacity": 0.6,
          "pattern": {
           "shape": ""
          }
         },
         "name": "True",
         "offsetgroup": "True",
         "orientation": "v",
         "showlegend": false,
         "x": [
          6,
          0,
          6,
          12,
          6,
          5,
          4,
          3,
          4,
          0,
          6,
          53,
          6,
          5,
          0
         ],
         "xaxis": "x2",
         "yaxis": "y2",
         "type": "histogram"
        },
        {
         "alignmentgroup": "True",
         "hovertemplate": "Conjunctiva cluster=True<br>Center H≥100=False<br>Center H=%{x}<extra></extra>",
         "legendgroup": "True",
         "marker": {
          "color": "#00CC96"
         },
         "name": "True",
         "notched": true,
         "offsetgroup": "True",
         "showlegend": false,
         "x": [
          6,
          0,
          6,
          12,
          6,
          5,
          4,
          3,
          4,
          0,
          6,
          53,
          6,
          5,
          0
         ],
         "xaxis": "x4",
         "yaxis": "y4",
         "type": "box"
        }
       ],
       "layout": {
        "template": {
         "data": {
          "barpolar": [
           {
            "marker": {
             "line": {
              "color": "rgb(17,17,17)",
              "width": 0.5
             },
             "pattern": {
              "fillmode": "overlay",
              "size": 10,
              "solidity": 0.2
             }
            },
            "type": "barpolar"
           }
          ],
          "bar": [
           {
            "error_x": {
             "color": "#f2f5fa"
            },
            "error_y": {
             "color": "#f2f5fa"
            },
            "marker": {
             "line": {
              "color": "rgb(17,17,17)",
              "width": 0.5
             },
             "pattern": {
              "fillmode": "overlay",
              "size": 10,
              "solidity": 0.2
             }
            },
            "type": "bar"
           }
          ],
          "carpet": [
           {
            "aaxis": {
             "endlinecolor": "#A2B1C6",
             "gridcolor": "#506784",
             "linecolor": "#506784",
             "minorgridcolor": "#506784",
             "startlinecolor": "#A2B1C6"
            },
            "baxis": {
             "endlinecolor": "#A2B1C6",
             "gridcolor": "#506784",
             "linecolor": "#506784",
             "minorgridcolor": "#506784",
             "startlinecolor": "#A2B1C6"
            },
            "type": "carpet"
           }
          ],
          "choropleth": [
           {
            "colorbar": {
             "outlinewidth": 0,
             "ticks": ""
            },
            "type": "choropleth"
           }
          ],
          "contourcarpet": [
           {
            "colorbar": {
             "outlinewidth": 0,
             "ticks": ""
            },
            "type": "contourcarpet"
           }
          ],
          "contour": [
           {
            "colorbar": {
             "outlinewidth": 0,
             "ticks": ""
            },
            "colorscale": [
             [
              0.0,
              "#0d0887"
             ],
             [
              0.1111111111111111,
              "#46039f"
             ],
             [
              0.2222222222222222,
              "#7201a8"
             ],
             [
              0.3333333333333333,
              "#9c179e"
             ],
             [
              0.4444444444444444,
              "#bd3786"
             ],
             [
              0.5555555555555556,
              "#d8576b"
             ],
             [
              0.6666666666666666,
              "#ed7953"
             ],
             [
              0.7777777777777778,
              "#fb9f3a"
             ],
             [
              0.8888888888888888,
              "#fdca26"
             ],
             [
              1.0,
              "#f0f921"
             ]
            ],
            "type": "contour"
           }
          ],
          "heatmapgl": [
           {
            "colorbar": {
             "outlinewidth": 0,
             "ticks": ""
            },
            "colorscale": [
             [
              0.0,
              "#0d0887"
             ],
             [
              0.1111111111111111,
              "#46039f"
             ],
             [
              0.2222222222222222,
              "#7201a8"
             ],
             [
              0.3333333333333333,
              "#9c179e"
             ],
             [
              0.4444444444444444,
              "#bd3786"
             ],
             [
              0.5555555555555556,
              "#d8576b"
             ],
             [
              0.6666666666666666,
              "#ed7953"
             ],
             [
              0.7777777777777778,
              "#fb9f3a"
             ],
             [
              0.8888888888888888,
              "#fdca26"
             ],
             [
              1.0,
              "#f0f921"
             ]
            ],
            "type": "heatmapgl"
           }
          ],
          "heatmap": [
           {
            "colorbar": {
             "outlinewidth": 0,
             "ticks": ""
            },
            "colorscale": [
             [
              0.0,
              "#0d0887"
             ],
             [
              0.1111111111111111,
              "#46039f"
             ],
             [
              0.2222222222222222,
              "#7201a8"
             ],
             [
              0.3333333333333333,
              "#9c179e"
             ],
             [
              0.4444444444444444,
              "#bd3786"
             ],
             [
              0.5555555555555556,
              "#d8576b"
             ],
             [
              0.6666666666666666,
              "#ed7953"
             ],
             [
              0.7777777777777778,
              "#fb9f3a"
             ],
             [
              0.8888888888888888,
              "#fdca26"
             ],
             [
              1.0,
              "#f0f921"
             ]
            ],
            "type": "heatmap"
           }
          ],
          "histogram2dcontour": [
           {
            "colorbar": {
             "outlinewidth": 0,
             "ticks": ""
            },
            "colorscale": [
             [
              0.0,
              "#0d0887"
             ],
             [
              0.1111111111111111,
              "#46039f"
             ],
             [
              0.2222222222222222,
              "#7201a8"
             ],
             [
              0.3333333333333333,
              "#9c179e"
             ],
             [
              0.4444444444444444,
              "#bd3786"
             ],
             [
              0.5555555555555556,
              "#d8576b"
             ],
             [
              0.6666666666666666,
              "#ed7953"
             ],
             [
              0.7777777777777778,
              "#fb9f3a"
             ],
             [
              0.8888888888888888,
              "#fdca26"
             ],
             [
              1.0,
              "#f0f921"
             ]
            ],
            "type": "histogram2dcontour"
           }
          ],
          "histogram2d": [
           {
            "colorbar": {
             "outlinewidth": 0,
             "ticks": ""
            },
            "colorscale": [
             [
              0.0,
              "#0d0887"
             ],
             [
              0.1111111111111111,
              "#46039f"
             ],
             [
              0.2222222222222222,
              "#7201a8"
             ],
             [
              0.3333333333333333,
              "#9c179e"
             ],
             [
              0.4444444444444444,
              "#bd3786"
             ],
             [
              0.5555555555555556,
              "#d8576b"
             ],
             [
              0.6666666666666666,
              "#ed7953"
             ],
             [
              0.7777777777777778,
              "#fb9f3a"
             ],
             [
              0.8888888888888888,
              "#fdca26"
             ],
             [
              1.0,
              "#f0f921"
             ]
            ],
            "type": "histogram2d"
           }
          ],
          "histogram": [
           {
            "marker": {
             "pattern": {
              "fillmode": "overlay",
              "size": 10,
              "solidity": 0.2
             }
            },
            "type": "histogram"
           }
          ],
          "mesh3d": [
           {
            "colorbar": {
             "outlinewidth": 0,
             "ticks": ""
            },
            "type": "mesh3d"
           }
          ],
          "parcoords": [
           {
            "line": {
             "colorbar": {
              "outlinewidth": 0,
              "ticks": ""
             }
            },
            "type": "parcoords"
           }
          ],
          "pie": [
           {
            "automargin": true,
            "type": "pie"
           }
          ],
          "scatter3d": [
           {
            "line": {
             "colorbar": {
              "outlinewidth": 0,
              "ticks": ""
             }
            },
            "marker": {
             "colorbar": {
              "outlinewidth": 0,
              "ticks": ""
             }
            },
            "type": "scatter3d"
           }
          ],
          "scattercarpet": [
           {
            "marker": {
             "colorbar": {
              "outlinewidth": 0,
              "ticks": ""
             }
            },
            "type": "scattercarpet"
           }
          ],
          "scattergeo": [
           {
            "marker": {
             "colorbar": {
              "outlinewidth": 0,
              "ticks": ""
             }
            },
            "type": "scattergeo"
           }
          ],
          "scattergl": [
           {
            "marker": {
             "line": {
              "color": "#283442"
             }
            },
            "type": "scattergl"
           }
          ],
          "scattermapbox": [
           {
            "marker": {
             "colorbar": {
              "outlinewidth": 0,
              "ticks": ""
             }
            },
            "type": "scattermapbox"
           }
          ],
          "scatterpolargl": [
           {
            "marker": {
             "colorbar": {
              "outlinewidth": 0,
              "ticks": ""
             }
            },
            "type": "scatterpolargl"
           }
          ],
          "scatterpolar": [
           {
            "marker": {
             "colorbar": {
              "outlinewidth": 0,
              "ticks": ""
             }
            },
            "type": "scatterpolar"
           }
          ],
          "scatter": [
           {
            "marker": {
             "line": {
              "color": "#283442"
             }
            },
            "type": "scatter"
           }
          ],
          "scatterternary": [
           {
            "marker": {
             "colorbar": {
              "outlinewidth": 0,
              "ticks": ""
             }
            },
            "type": "scatterternary"
           }
          ],
          "surface": [
           {
            "colorbar": {
             "outlinewidth": 0,
             "ticks": ""
            },
            "colorscale": [
             [
              0.0,
              "#0d0887"
             ],
             [
              0.1111111111111111,
              "#46039f"
             ],
             [
              0.2222222222222222,
              "#7201a8"
             ],
             [
              0.3333333333333333,
              "#9c179e"
             ],
             [
              0.4444444444444444,
              "#bd3786"
             ],
             [
              0.5555555555555556,
              "#d8576b"
             ],
             [
              0.6666666666666666,
              "#ed7953"
             ],
             [
              0.7777777777777778,
              "#fb9f3a"
             ],
             [
              0.8888888888888888,
              "#fdca26"
             ],
             [
              1.0,
              "#f0f921"
             ]
            ],
            "type": "surface"
           }
          ],
          "table": [
           {
            "cells": {
             "fill": {
              "color": "#506784"
             },
             "line": {
              "color": "rgb(17,17,17)"
             }
            },
            "header": {
             "fill": {
              "color": "#2a3f5f"
             },
             "line": {
              "color": "rgb(17,17,17)"
             }
            },
            "type": "table"
           }
          ]
         },
         "layout": {
          "annotationdefaults": {
           "arrowcolor": "#f2f5fa",
           "arrowhead": 0,
           "arrowwidth": 1
          },
          "autotypenumbers": "strict",
          "coloraxis": {
           "colorbar": {
            "outlinewidth": 0,
            "ticks": ""
           }
          },
          "colorscale": {
           "diverging": [
            [
             0,
             "#8e0152"
            ],
            [
             0.1,
             "#c51b7d"
            ],
            [
             0.2,
             "#de77ae"
            ],
            [
             0.3,
             "#f1b6da"
            ],
            [
             0.4,
             "#fde0ef"
            ],
            [
             0.5,
             "#f7f7f7"
            ],
            [
             0.6,
             "#e6f5d0"
            ],
            [
             0.7,
             "#b8e186"
            ],
            [
             0.8,
             "#7fbc41"
            ],
            [
             0.9,
             "#4d9221"
            ],
            [
             1,
             "#276419"
            ]
           ],
           "sequential": [
            [
             0.0,
             "#0d0887"
            ],
            [
             0.1111111111111111,
             "#46039f"
            ],
            [
             0.2222222222222222,
             "#7201a8"
            ],
            [
             0.3333333333333333,
             "#9c179e"
            ],
            [
             0.4444444444444444,
             "#bd3786"
            ],
            [
             0.5555555555555556,
             "#d8576b"
            ],
            [
             0.6666666666666666,
             "#ed7953"
            ],
            [
             0.7777777777777778,
             "#fb9f3a"
            ],
            [
             0.8888888888888888,
             "#fdca26"
            ],
            [
             1.0,
             "#f0f921"
            ]
           ],
           "sequentialminus": [
            [
             0.0,
             "#0d0887"
            ],
            [
             0.1111111111111111,
             "#46039f"
            ],
            [
             0.2222222222222222,
             "#7201a8"
            ],
            [
             0.3333333333333333,
             "#9c179e"
            ],
            [
             0.4444444444444444,
             "#bd3786"
            ],
            [
             0.5555555555555556,
             "#d8576b"
            ],
            [
             0.6666666666666666,
             "#ed7953"
            ],
            [
             0.7777777777777778,
             "#fb9f3a"
            ],
            [
             0.8888888888888888,
             "#fdca26"
            ],
            [
             1.0,
             "#f0f921"
            ]
           ]
          },
          "colorway": [
           "#636efa",
           "#EF553B",
           "#00cc96",
           "#ab63fa",
           "#FFA15A",
           "#19d3f3",
           "#FF6692",
           "#B6E880",
           "#FF97FF",
           "#FECB52"
          ],
          "font": {
           "color": "#f2f5fa"
          },
          "geo": {
           "bgcolor": "rgb(17,17,17)",
           "lakecolor": "rgb(17,17,17)",
           "landcolor": "rgb(17,17,17)",
           "showlakes": true,
           "showland": true,
           "subunitcolor": "#506784"
          },
          "hoverlabel": {
           "align": "left"
          },
          "hovermode": "closest",
          "mapbox": {
           "style": "dark"
          },
          "paper_bgcolor": "rgb(17,17,17)",
          "plot_bgcolor": "rgb(17,17,17)",
          "polar": {
           "angularaxis": {
            "gridcolor": "#506784",
            "linecolor": "#506784",
            "ticks": ""
           },
           "bgcolor": "rgb(17,17,17)",
           "radialaxis": {
            "gridcolor": "#506784",
            "linecolor": "#506784",
            "ticks": ""
           }
          },
          "scene": {
           "xaxis": {
            "backgroundcolor": "rgb(17,17,17)",
            "gridcolor": "#506784",
            "gridwidth": 2,
            "linecolor": "#506784",
            "showbackground": true,
            "ticks": "",
            "zerolinecolor": "#C8D4E3"
           },
           "yaxis": {
            "backgroundcolor": "rgb(17,17,17)",
            "gridcolor": "#506784",
            "gridwidth": 2,
            "linecolor": "#506784",
            "showbackground": true,
            "ticks": "",
            "zerolinecolor": "#C8D4E3"
           },
           "zaxis": {
            "backgroundcolor": "rgb(17,17,17)",
            "gridcolor": "#506784",
            "gridwidth": 2,
            "linecolor": "#506784",
            "showbackground": true,
            "ticks": "",
            "zerolinecolor": "#C8D4E3"
           }
          },
          "shapedefaults": {
           "line": {
            "color": "#f2f5fa"
           }
          },
          "sliderdefaults": {
           "bgcolor": "#C8D4E3",
           "bordercolor": "rgb(17,17,17)",
           "borderwidth": 1,
           "tickwidth": 0
          },
          "ternary": {
           "aaxis": {
            "gridcolor": "#506784",
            "linecolor": "#506784",
            "ticks": ""
           },
           "baxis": {
            "gridcolor": "#506784",
            "linecolor": "#506784",
            "ticks": ""
           },
           "bgcolor": "rgb(17,17,17)",
           "caxis": {
            "gridcolor": "#506784",
            "linecolor": "#506784",
            "ticks": ""
           }
          },
          "title": {
           "x": 0.05
          },
          "updatemenudefaults": {
           "bgcolor": "#506784",
           "borderwidth": 0
          },
          "xaxis": {
           "automargin": true,
           "gridcolor": "#283442",
           "linecolor": "#506784",
           "ticks": "",
           "title": {
            "standoff": 15
           },
           "zerolinecolor": "#283442",
           "zerolinewidth": 2
          },
          "yaxis": {
           "automargin": true,
           "gridcolor": "#283442",
           "linecolor": "#506784",
           "ticks": "",
           "title": {
            "standoff": 15
           },
           "zerolinecolor": "#283442",
           "zerolinewidth": 2
          }
         }
        },
        "xaxis": {
         "anchor": "y",
         "domain": [
          0.0,
          0.49
         ],
         "title": {
          "text": "Center H"
         },
         "showticklabels": true
        },
        "yaxis": {
         "anchor": "x",
         "domain": [
          0.0,
          0.7326
         ],
         "title": {
          "text": "percent"
         }
        },
        "xaxis2": {
         "anchor": "y2",
         "domain": [
          0.51,
          1.0
         ],
         "title": {
          "text": "Center H"
         },
         "showticklabels": true
        },
        "yaxis2": {
         "anchor": "x2",
         "domain": [
          0.0,
          0.7326
         ],
         "matches": "y",
         "showticklabels": false
        },
        "xaxis3": {
         "anchor": "y3",
         "domain": [
          0.0,
          0.49
         ],
         "showticklabels": true,
         "showgrid": true
        },
        "yaxis3": {
         "anchor": "x3",
         "domain": [
          0.7426,
          1.0
         ],
         "matches": "y3",
         "showticklabels": false,
         "showline": false,
         "ticks": "",
         "showgrid": false
        },
        "xaxis4": {
         "anchor": "y4",
         "domain": [
          0.51,
          1.0
         ],
         "showticklabels": true,
         "showgrid": true
        },
        "yaxis4": {
         "anchor": "x4",
         "domain": [
          0.7426,
          1.0
         ],
         "matches": "y3",
         "showticklabels": false,
         "showline": false,
         "ticks": "",
         "showgrid": false
        },
        "annotations": [
         {
          "font": {},
          "showarrow": false,
          "text": "Center H≥100=True",
          "x": 0.245,
          "xanchor": "center",
          "xref": "paper",
          "y": 1.0,
          "yanchor": "bottom",
          "yref": "paper"
         },
         {
          "font": {},
          "showarrow": false,
          "text": "Center H≥100=False",
          "x": 0.755,
          "xanchor": "center",
          "xref": "paper",
          "y": 1.0,
          "yanchor": "bottom",
          "yref": "paper"
         }
        ],
        "legend": {
         "title": {
          "text": "Conjunctiva cluster"
         },
         "tracegroupgap": 0
        },
        "margin": {
         "t": 20,
         "l": 20,
         "r": 20,
         "b": 20
        },
        "barmode": "group",
        "bargap": 0.04,
        "font": {
         "family": "Arial",
         "size": 16
        }
       },
       "config": {
        "plotlyServerURL": "https://plot.ly"
       }
      },
      "text/html": "<div>                            <div id=\"cbbc9c58-fa0b-42dd-a7da-70b9d6261e04\" class=\"plotly-graph-div\" style=\"height:525px; width:100%;\"></div>            <script type=\"text/javascript\">                require([\"plotly\"], function(Plotly) {                    window.PLOTLYENV=window.PLOTLYENV || {};                                    if (document.getElementById(\"cbbc9c58-fa0b-42dd-a7da-70b9d6261e04\")) {                    Plotly.newPlot(                        \"cbbc9c58-fa0b-42dd-a7da-70b9d6261e04\",                        [{\"alignmentgroup\":\"True\",\"bingroup\":\"x\",\"histnorm\":\"percent\",\"hovertemplate\":\"Conjunctiva cluster=False<br>Center H\\u2265100=True<br>Center H=%{x}<br>percent=%{y}<extra></extra>\",\"legendgroup\":\"False\",\"marker\":{\"color\":\"#EF553B\",\"opacity\":0.6,\"pattern\":{\"shape\":\"\"}},\"name\":\"False\",\"offsetgroup\":\"False\",\"orientation\":\"v\",\"showlegend\":true,\"x\":[145,121,117,127,114,117,123,110,127,132,111,113,121,111,109,109,118,117,112,109,111,118,118,124,114,120,112,125,109,119,131,118,115,126,111,110,109,123,113,122,112,111,109,109,145,120,113,111,109,113,109,107,108,127,111,110,109,109,111,108,108,137,116,128,111,110,120,110,109,128,114,122,113,111,116,110,109,130,118,113,129,115,111,122,109,112,111,109,110,110,110,107,109,119,126,114,112,120,109,119,133,124,113,113,110,109,108,107,123,127,111,116,113,121,110,117,122,110,111,110,111,109,106,118,118,117,120,122,112,120,109,108,118,123,113,119,112,110,157,107,118,119,129,112,124,110,117,109,133,124,133,114,111,110,116,109,133,123,120,126,129,112,115,162,116,111,111,111,111,109,106,106,127,109,110,111,109,107,106,106,128,122,128,144,113,121,109,108,123,108,112,113,113,113,106,106,120,122,117,121,128,110,108,121,110,111,111,108,106,107,125,140,109,107,108,148,122,125,135,112,111,119,120,112,111,111,110,109,108,126,115,129,109,109,108,109,144,120,112,111,113,110,110,166,120,118,138,111,112,111,111,126,111,150,108,109,107,108,135,119,109,126,109,108,141,113,112,110,111,110,110,111,143,118,133,109,110,108,140,120,118,132,111,111,130,129,110,110,107,108,126,120,116,121,110,109,111,107,131,115,110,111,109,109,108,137,123,112,132,112,111,118,113,119,109,108,111,124,127,132,111,109,107,108,107,113,130,151,112,109,117,108,107,121,113,119,110,110,109,109,109,118,112,109,110,109,109,108,108,147,111,116,129,110,111,117,120,115,109,120,110,109,131,128,119,125,127,114,112,111,127,122,111,138,108,110,107,117,128,138,123,109,108,108,108,145,129,125,113,110,108,123,107,132,134,110,129,109,117,116,122,115,118,109,107,108,117,122,109,109,108,111,106,122,116,119,110,110,112,109,110,125,112,121,110,110,122,110,135,120,111,109,108,121,108,126,119,126,111,109,119,109,108,108,122,131,112,110,110,108,110,113,137,114,111,112,154,109,112,130,125,111,109,132,109,107,109,121,121,119,129,108,108,107,109,168,149,133,114,110,108,111,108,170,122,115,143,110,111,108,110,171,147,116,122,109,109,109,129,124,142,110,108,134,109,124,122,109,125,109,107,110,115,143,123,126,112,113,119,111,111,140,123,113,151,109,109,110,128,123,129,110,111,108,110,132,121,125,112,111,109,117,110,128,117,111,122,113,120,111,118,133,133,110,112,113,113,112,111,130,118,121,115,121,113,111,111,121,112,110,112,109,109,108,107,108,145,141,114,116,123,112,112,109,119,113,110,109,112,108,107,107,131,116,117,113,113,113,111,117,112,111,110,110,108,107,112,130,118,113,119,111,116,110,121,110,110,109,109,108,107,106,117,120,115,117,111,112,109,118,111,110,110,110,108,109,108,140,127,116,117,120,114,120,126,120,116,116,120,113,124,111,143,116,113,121,113,118,117,117,114,115,118,111,115,110,109,110,139,119,124,114,117,112,111,131,111,111,109,109,109,109,108,108,123,114,116,121,111,110,109,109,137,116,119,113,110,112,122,109,134,121,117,113,114,112,116,110,115,109,109,109,110,109,107,107,120,114,111,112,110,108,107,108,140,119,119,124,112,118,110,113,121,120,126,117,113,118,126,116,114,113,112,112,111,117,110,109,165,150,112,111,128,117,119,121,113,117,116,122,115,113,124,108,105,107,111,110,112,109,108,146,115,112,122,114,102,113,111,112,158,113,110,109,108,108,117,110,108,108,108,108,107,106,126,111,111,111,110,110,108,154,136,157,117,115,113,113,118,127,109,108,108,116,137,117,118,114,119,113,117,111,108,109,108,107,107,120,149,114,115,113,111,112,169,155,113,111,127,109,120,159,114,113,130,162,126,114,113,111,163,113,110,111,109,115,105,136,111,107,108,114,111,111,122,108,113,109,110,107,145,123,114,124,114,111,116,109,120,114,111,110,114,135,115,115,118,114,117,128,117,115,116,108,114,115,112,112,112,116,107,107,105,112,110,110,111,108,109,115,120,113,112,122,124,111,110,111,109,110,109,107,138,114,114,114,117,113,131,108,108,110,109,108,108,110,123,105,109,112,124,108,169,113,115,110,117,107,105,143,111,108,109,108,116,108,133,117,118,113,115,114,113,130,117,111,122,111,111,109,115,113,115,120,115,113,116,137,122,111,109,117,108,106,110,113,108,114,112,111,111,140,117,113,114,115,113,112,113,124,126,110,109,109,109,113,111,111,109,135,123,112,124,122,111,105,125,115,112,108,114,110,109,106,131,112,110,110,110,109,107,115,112,115,125,116,130,114,119,102,108,111,109,109,158,108,112,110,124,110,134,115,112,112,112,116,145,108,107,109,115,108],\"xaxis\":\"x\",\"yaxis\":\"y\",\"type\":\"histogram\"},{\"alignmentgroup\":\"True\",\"hovertemplate\":\"Conjunctiva cluster=False<br>Center H\\u2265100=True<br>Center H=%{x}<extra></extra>\",\"legendgroup\":\"False\",\"marker\":{\"color\":\"#EF553B\"},\"name\":\"False\",\"notched\":true,\"offsetgroup\":\"False\",\"showlegend\":false,\"x\":[145,121,117,127,114,117,123,110,127,132,111,113,121,111,109,109,118,117,112,109,111,118,118,124,114,120,112,125,109,119,131,118,115,126,111,110,109,123,113,122,112,111,109,109,145,120,113,111,109,113,109,107,108,127,111,110,109,109,111,108,108,137,116,128,111,110,120,110,109,128,114,122,113,111,116,110,109,130,118,113,129,115,111,122,109,112,111,109,110,110,110,107,109,119,126,114,112,120,109,119,133,124,113,113,110,109,108,107,123,127,111,116,113,121,110,117,122,110,111,110,111,109,106,118,118,117,120,122,112,120,109,108,118,123,113,119,112,110,157,107,118,119,129,112,124,110,117,109,133,124,133,114,111,110,116,109,133,123,120,126,129,112,115,162,116,111,111,111,111,109,106,106,127,109,110,111,109,107,106,106,128,122,128,144,113,121,109,108,123,108,112,113,113,113,106,106,120,122,117,121,128,110,108,121,110,111,111,108,106,107,125,140,109,107,108,148,122,125,135,112,111,119,120,112,111,111,110,109,108,126,115,129,109,109,108,109,144,120,112,111,113,110,110,166,120,118,138,111,112,111,111,126,111,150,108,109,107,108,135,119,109,126,109,108,141,113,112,110,111,110,110,111,143,118,133,109,110,108,140,120,118,132,111,111,130,129,110,110,107,108,126,120,116,121,110,109,111,107,131,115,110,111,109,109,108,137,123,112,132,112,111,118,113,119,109,108,111,124,127,132,111,109,107,108,107,113,130,151,112,109,117,108,107,121,113,119,110,110,109,109,109,118,112,109,110,109,109,108,108,147,111,116,129,110,111,117,120,115,109,120,110,109,131,128,119,125,127,114,112,111,127,122,111,138,108,110,107,117,128,138,123,109,108,108,108,145,129,125,113,110,108,123,107,132,134,110,129,109,117,116,122,115,118,109,107,108,117,122,109,109,108,111,106,122,116,119,110,110,112,109,110,125,112,121,110,110,122,110,135,120,111,109,108,121,108,126,119,126,111,109,119,109,108,108,122,131,112,110,110,108,110,113,137,114,111,112,154,109,112,130,125,111,109,132,109,107,109,121,121,119,129,108,108,107,109,168,149,133,114,110,108,111,108,170,122,115,143,110,111,108,110,171,147,116,122,109,109,109,129,124,142,110,108,134,109,124,122,109,125,109,107,110,115,143,123,126,112,113,119,111,111,140,123,113,151,109,109,110,128,123,129,110,111,108,110,132,121,125,112,111,109,117,110,128,117,111,122,113,120,111,118,133,133,110,112,113,113,112,111,130,118,121,115,121,113,111,111,121,112,110,112,109,109,108,107,108,145,141,114,116,123,112,112,109,119,113,110,109,112,108,107,107,131,116,117,113,113,113,111,117,112,111,110,110,108,107,112,130,118,113,119,111,116,110,121,110,110,109,109,108,107,106,117,120,115,117,111,112,109,118,111,110,110,110,108,109,108,140,127,116,117,120,114,120,126,120,116,116,120,113,124,111,143,116,113,121,113,118,117,117,114,115,118,111,115,110,109,110,139,119,124,114,117,112,111,131,111,111,109,109,109,109,108,108,123,114,116,121,111,110,109,109,137,116,119,113,110,112,122,109,134,121,117,113,114,112,116,110,115,109,109,109,110,109,107,107,120,114,111,112,110,108,107,108,140,119,119,124,112,118,110,113,121,120,126,117,113,118,126,116,114,113,112,112,111,117,110,109,165,150,112,111,128,117,119,121,113,117,116,122,115,113,124,108,105,107,111,110,112,109,108,146,115,112,122,114,102,113,111,112,158,113,110,109,108,108,117,110,108,108,108,108,107,106,126,111,111,111,110,110,108,154,136,157,117,115,113,113,118,127,109,108,108,116,137,117,118,114,119,113,117,111,108,109,108,107,107,120,149,114,115,113,111,112,169,155,113,111,127,109,120,159,114,113,130,162,126,114,113,111,163,113,110,111,109,115,105,136,111,107,108,114,111,111,122,108,113,109,110,107,145,123,114,124,114,111,116,109,120,114,111,110,114,135,115,115,118,114,117,128,117,115,116,108,114,115,112,112,112,116,107,107,105,112,110,110,111,108,109,115,120,113,112,122,124,111,110,111,109,110,109,107,138,114,114,114,117,113,131,108,108,110,109,108,108,110,123,105,109,112,124,108,169,113,115,110,117,107,105,143,111,108,109,108,116,108,133,117,118,113,115,114,113,130,117,111,122,111,111,109,115,113,115,120,115,113,116,137,122,111,109,117,108,106,110,113,108,114,112,111,111,140,117,113,114,115,113,112,113,124,126,110,109,109,109,113,111,111,109,135,123,112,124,122,111,105,125,115,112,108,114,110,109,106,131,112,110,110,110,109,107,115,112,115,125,116,130,114,119,102,108,111,109,109,158,108,112,110,124,110,134,115,112,112,112,116,145,108,107,109,115,108],\"xaxis\":\"x3\",\"yaxis\":\"y3\",\"type\":\"box\"},{\"alignmentgroup\":\"True\",\"bingroup\":\"x\",\"histnorm\":\"percent\",\"hovertemplate\":\"Conjunctiva cluster=False<br>Center H\\u2265100=False<br>Center H=%{x}<br>percent=%{y}<extra></extra>\",\"legendgroup\":\"False\",\"marker\":{\"color\":\"#EF553B\",\"opacity\":0.6,\"pattern\":{\"shape\":\"\"}},\"name\":\"False\",\"offsetgroup\":\"False\",\"orientation\":\"v\",\"showlegend\":false,\"x\":[2,12,11,4,4,8,2,3,4,9,2,8,0,3,11,2,7,5,10,2,7,5,0,0,6,4,3,0,4,6,0,2,12,7,4,5,3,9,24,9,4,8,2,6,2,4,3,9,21,0,3,3,0,0,0,0,1,4,10,9,14,18,5,2,6,22,19,5,5,5,11,16,7,9,11,8,9,12,5,71,0,1,9,9,2,6,17,15,17,8,4,9,12,7,6,29,6,26,84,4,3,21,19,0,4,16,18,6,6,0,11,6,17,10,8,12,30,3,0],\"xaxis\":\"x2\",\"yaxis\":\"y2\",\"type\":\"histogram\"},{\"alignmentgroup\":\"True\",\"hovertemplate\":\"Conjunctiva cluster=False<br>Center H\\u2265100=False<br>Center H=%{x}<extra></extra>\",\"legendgroup\":\"False\",\"marker\":{\"color\":\"#EF553B\"},\"name\":\"False\",\"notched\":true,\"offsetgroup\":\"False\",\"showlegend\":false,\"x\":[2,12,11,4,4,8,2,3,4,9,2,8,0,3,11,2,7,5,10,2,7,5,0,0,6,4,3,0,4,6,0,2,12,7,4,5,3,9,24,9,4,8,2,6,2,4,3,9,21,0,3,3,0,0,0,0,1,4,10,9,14,18,5,2,6,22,19,5,5,5,11,16,7,9,11,8,9,12,5,71,0,1,9,9,2,6,17,15,17,8,4,9,12,7,6,29,6,26,84,4,3,21,19,0,4,16,18,6,6,0,11,6,17,10,8,12,30,3,0],\"xaxis\":\"x4\",\"yaxis\":\"y4\",\"type\":\"box\"},{\"alignmentgroup\":\"True\",\"bingroup\":\"x\",\"histnorm\":\"percent\",\"hovertemplate\":\"Conjunctiva cluster=Maybe<br>Center H\\u2265100=True<br>Center H=%{x}<br>percent=%{y}<extra></extra>\",\"legendgroup\":\"Maybe\",\"marker\":{\"color\":\"#636EFA\",\"opacity\":0.6,\"pattern\":{\"shape\":\"\"}},\"name\":\"Maybe\",\"offsetgroup\":\"Maybe\",\"orientation\":\"v\",\"showlegend\":true,\"x\":[115,111,113,109,108,121,110,109,109,109,109,109,109,110,119,109,108,110,117,117,113,108,109,114,114,108,113,108,111,114,110,110,110,117,113,113,108,112,117,108,113,110],\"xaxis\":\"x\",\"yaxis\":\"y\",\"type\":\"histogram\"},{\"alignmentgroup\":\"True\",\"hovertemplate\":\"Conjunctiva cluster=Maybe<br>Center H\\u2265100=True<br>Center H=%{x}<extra></extra>\",\"legendgroup\":\"Maybe\",\"marker\":{\"color\":\"#636EFA\"},\"name\":\"Maybe\",\"notched\":true,\"offsetgroup\":\"Maybe\",\"showlegend\":false,\"x\":[115,111,113,109,108,121,110,109,109,109,109,109,109,110,119,109,108,110,117,117,113,108,109,114,114,108,113,108,111,114,110,110,110,117,113,113,108,112,117,108,113,110],\"xaxis\":\"x3\",\"yaxis\":\"y3\",\"type\":\"box\"},{\"alignmentgroup\":\"True\",\"bingroup\":\"x\",\"histnorm\":\"percent\",\"hovertemplate\":\"Conjunctiva cluster=Maybe<br>Center H\\u2265100=False<br>Center H=%{x}<br>percent=%{y}<extra></extra>\",\"legendgroup\":\"Maybe\",\"marker\":{\"color\":\"#636EFA\",\"opacity\":0.6,\"pattern\":{\"shape\":\"\"}},\"name\":\"Maybe\",\"offsetgroup\":\"Maybe\",\"orientation\":\"v\",\"showlegend\":false,\"x\":[20,7,27],\"xaxis\":\"x2\",\"yaxis\":\"y2\",\"type\":\"histogram\"},{\"alignmentgroup\":\"True\",\"hovertemplate\":\"Conjunctiva cluster=Maybe<br>Center H\\u2265100=False<br>Center H=%{x}<extra></extra>\",\"legendgroup\":\"Maybe\",\"marker\":{\"color\":\"#636EFA\"},\"name\":\"Maybe\",\"notched\":true,\"offsetgroup\":\"Maybe\",\"showlegend\":false,\"x\":[20,7,27],\"xaxis\":\"x4\",\"yaxis\":\"y4\",\"type\":\"box\"},{\"alignmentgroup\":\"True\",\"bingroup\":\"x\",\"histnorm\":\"percent\",\"hovertemplate\":\"Conjunctiva cluster=True<br>Center H\\u2265100=True<br>Center H=%{x}<br>percent=%{y}<extra></extra>\",\"legendgroup\":\"True\",\"marker\":{\"color\":\"#00CC96\",\"opacity\":0.6,\"pattern\":{\"shape\":\"\"}},\"name\":\"True\",\"offsetgroup\":\"True\",\"orientation\":\"v\",\"showlegend\":true,\"x\":[111,117,111,114,120,110,108,110,120,119,118,120,117,108,107,107,107,114,116,111,113,111,108,108,110,111,108,112,110,112,108,105,113,115,109,113,109,109,109,109,107,110,106,111,110,107,114,123,107,106,108,115,112,119,110,110,113,112,109,113,111,112,111,111,112,117,109,106,108,110,117,108,107,106,109,115,111,117,105,112,108,112,109,111,114,107,115,115,108,107,111,110,108,106,104,104,123,114,152,173,110,111,111,114,112,110,117,115,130,108,112,112,109,109,116,109,107,118,109,113,113,112,110,112,111,112,112,111,111,110,139,108,111,121,110,110,115,108,109,108,112,109,112,112,115,111,126,109,113,109,108,105,108,108,128,110,108,116,123,108,107,106,116,110,109,113,111,110,117,108,116,107,116,113,109,114,113,118,108,113,113,109,108,109,109,114,117,118,115,157,128,109,146,119,118,116,114,111,111,110,119,111,109,114,116,111,132,111,118],\"xaxis\":\"x\",\"yaxis\":\"y\",\"type\":\"histogram\"},{\"alignmentgroup\":\"True\",\"hovertemplate\":\"Conjunctiva cluster=True<br>Center H\\u2265100=True<br>Center H=%{x}<extra></extra>\",\"legendgroup\":\"True\",\"marker\":{\"color\":\"#00CC96\"},\"name\":\"True\",\"notched\":true,\"offsetgroup\":\"True\",\"showlegend\":false,\"x\":[111,117,111,114,120,110,108,110,120,119,118,120,117,108,107,107,107,114,116,111,113,111,108,108,110,111,108,112,110,112,108,105,113,115,109,113,109,109,109,109,107,110,106,111,110,107,114,123,107,106,108,115,112,119,110,110,113,112,109,113,111,112,111,111,112,117,109,106,108,110,117,108,107,106,109,115,111,117,105,112,108,112,109,111,114,107,115,115,108,107,111,110,108,106,104,104,123,114,152,173,110,111,111,114,112,110,117,115,130,108,112,112,109,109,116,109,107,118,109,113,113,112,110,112,111,112,112,111,111,110,139,108,111,121,110,110,115,108,109,108,112,109,112,112,115,111,126,109,113,109,108,105,108,108,128,110,108,116,123,108,107,106,116,110,109,113,111,110,117,108,116,107,116,113,109,114,113,118,108,113,113,109,108,109,109,114,117,118,115,157,128,109,146,119,118,116,114,111,111,110,119,111,109,114,116,111,132,111,118],\"xaxis\":\"x3\",\"yaxis\":\"y3\",\"type\":\"box\"},{\"alignmentgroup\":\"True\",\"bingroup\":\"x\",\"histnorm\":\"percent\",\"hovertemplate\":\"Conjunctiva cluster=True<br>Center H\\u2265100=False<br>Center H=%{x}<br>percent=%{y}<extra></extra>\",\"legendgroup\":\"True\",\"marker\":{\"color\":\"#00CC96\",\"opacity\":0.6,\"pattern\":{\"shape\":\"\"}},\"name\":\"True\",\"offsetgroup\":\"True\",\"orientation\":\"v\",\"showlegend\":false,\"x\":[6,0,6,12,6,5,4,3,4,0,6,53,6,5,0],\"xaxis\":\"x2\",\"yaxis\":\"y2\",\"type\":\"histogram\"},{\"alignmentgroup\":\"True\",\"hovertemplate\":\"Conjunctiva cluster=True<br>Center H\\u2265100=False<br>Center H=%{x}<extra></extra>\",\"legendgroup\":\"True\",\"marker\":{\"color\":\"#00CC96\"},\"name\":\"True\",\"notched\":true,\"offsetgroup\":\"True\",\"showlegend\":false,\"x\":[6,0,6,12,6,5,4,3,4,0,6,53,6,5,0],\"xaxis\":\"x4\",\"yaxis\":\"y4\",\"type\":\"box\"}],                        {\"template\":{\"data\":{\"barpolar\":[{\"marker\":{\"line\":{\"color\":\"rgb(17,17,17)\",\"width\":0.5},\"pattern\":{\"fillmode\":\"overlay\",\"size\":10,\"solidity\":0.2}},\"type\":\"barpolar\"}],\"bar\":[{\"error_x\":{\"color\":\"#f2f5fa\"},\"error_y\":{\"color\":\"#f2f5fa\"},\"marker\":{\"line\":{\"color\":\"rgb(17,17,17)\",\"width\":0.5},\"pattern\":{\"fillmode\":\"overlay\",\"size\":10,\"solidity\":0.2}},\"type\":\"bar\"}],\"carpet\":[{\"aaxis\":{\"endlinecolor\":\"#A2B1C6\",\"gridcolor\":\"#506784\",\"linecolor\":\"#506784\",\"minorgridcolor\":\"#506784\",\"startlinecolor\":\"#A2B1C6\"},\"baxis\":{\"endlinecolor\":\"#A2B1C6\",\"gridcolor\":\"#506784\",\"linecolor\":\"#506784\",\"minorgridcolor\":\"#506784\",\"startlinecolor\":\"#A2B1C6\"},\"type\":\"carpet\"}],\"choropleth\":[{\"colorbar\":{\"outlinewidth\":0,\"ticks\":\"\"},\"type\":\"choropleth\"}],\"contourcarpet\":[{\"colorbar\":{\"outlinewidth\":0,\"ticks\":\"\"},\"type\":\"contourcarpet\"}],\"contour\":[{\"colorbar\":{\"outlinewidth\":0,\"ticks\":\"\"},\"colorscale\":[[0.0,\"#0d0887\"],[0.1111111111111111,\"#46039f\"],[0.2222222222222222,\"#7201a8\"],[0.3333333333333333,\"#9c179e\"],[0.4444444444444444,\"#bd3786\"],[0.5555555555555556,\"#d8576b\"],[0.6666666666666666,\"#ed7953\"],[0.7777777777777778,\"#fb9f3a\"],[0.8888888888888888,\"#fdca26\"],[1.0,\"#f0f921\"]],\"type\":\"contour\"}],\"heatmapgl\":[{\"colorbar\":{\"outlinewidth\":0,\"ticks\":\"\"},\"colorscale\":[[0.0,\"#0d0887\"],[0.1111111111111111,\"#46039f\"],[0.2222222222222222,\"#7201a8\"],[0.3333333333333333,\"#9c179e\"],[0.4444444444444444,\"#bd3786\"],[0.5555555555555556,\"#d8576b\"],[0.6666666666666666,\"#ed7953\"],[0.7777777777777778,\"#fb9f3a\"],[0.8888888888888888,\"#fdca26\"],[1.0,\"#f0f921\"]],\"type\":\"heatmapgl\"}],\"heatmap\":[{\"colorbar\":{\"outlinewidth\":0,\"ticks\":\"\"},\"colorscale\":[[0.0,\"#0d0887\"],[0.1111111111111111,\"#46039f\"],[0.2222222222222222,\"#7201a8\"],[0.3333333333333333,\"#9c179e\"],[0.4444444444444444,\"#bd3786\"],[0.5555555555555556,\"#d8576b\"],[0.6666666666666666,\"#ed7953\"],[0.7777777777777778,\"#fb9f3a\"],[0.8888888888888888,\"#fdca26\"],[1.0,\"#f0f921\"]],\"type\":\"heatmap\"}],\"histogram2dcontour\":[{\"colorbar\":{\"outlinewidth\":0,\"ticks\":\"\"},\"colorscale\":[[0.0,\"#0d0887\"],[0.1111111111111111,\"#46039f\"],[0.2222222222222222,\"#7201a8\"],[0.3333333333333333,\"#9c179e\"],[0.4444444444444444,\"#bd3786\"],[0.5555555555555556,\"#d8576b\"],[0.6666666666666666,\"#ed7953\"],[0.7777777777777778,\"#fb9f3a\"],[0.8888888888888888,\"#fdca26\"],[1.0,\"#f0f921\"]],\"type\":\"histogram2dcontour\"}],\"histogram2d\":[{\"colorbar\":{\"outlinewidth\":0,\"ticks\":\"\"},\"colorscale\":[[0.0,\"#0d0887\"],[0.1111111111111111,\"#46039f\"],[0.2222222222222222,\"#7201a8\"],[0.3333333333333333,\"#9c179e\"],[0.4444444444444444,\"#bd3786\"],[0.5555555555555556,\"#d8576b\"],[0.6666666666666666,\"#ed7953\"],[0.7777777777777778,\"#fb9f3a\"],[0.8888888888888888,\"#fdca26\"],[1.0,\"#f0f921\"]],\"type\":\"histogram2d\"}],\"histogram\":[{\"marker\":{\"pattern\":{\"fillmode\":\"overlay\",\"size\":10,\"solidity\":0.2}},\"type\":\"histogram\"}],\"mesh3d\":[{\"colorbar\":{\"outlinewidth\":0,\"ticks\":\"\"},\"type\":\"mesh3d\"}],\"parcoords\":[{\"line\":{\"colorbar\":{\"outlinewidth\":0,\"ticks\":\"\"}},\"type\":\"parcoords\"}],\"pie\":[{\"automargin\":true,\"type\":\"pie\"}],\"scatter3d\":[{\"line\":{\"colorbar\":{\"outlinewidth\":0,\"ticks\":\"\"}},\"marker\":{\"colorbar\":{\"outlinewidth\":0,\"ticks\":\"\"}},\"type\":\"scatter3d\"}],\"scattercarpet\":[{\"marker\":{\"colorbar\":{\"outlinewidth\":0,\"ticks\":\"\"}},\"type\":\"scattercarpet\"}],\"scattergeo\":[{\"marker\":{\"colorbar\":{\"outlinewidth\":0,\"ticks\":\"\"}},\"type\":\"scattergeo\"}],\"scattergl\":[{\"marker\":{\"line\":{\"color\":\"#283442\"}},\"type\":\"scattergl\"}],\"scattermapbox\":[{\"marker\":{\"colorbar\":{\"outlinewidth\":0,\"ticks\":\"\"}},\"type\":\"scattermapbox\"}],\"scatterpolargl\":[{\"marker\":{\"colorbar\":{\"outlinewidth\":0,\"ticks\":\"\"}},\"type\":\"scatterpolargl\"}],\"scatterpolar\":[{\"marker\":{\"colorbar\":{\"outlinewidth\":0,\"ticks\":\"\"}},\"type\":\"scatterpolar\"}],\"scatter\":[{\"marker\":{\"line\":{\"color\":\"#283442\"}},\"type\":\"scatter\"}],\"scatterternary\":[{\"marker\":{\"colorbar\":{\"outlinewidth\":0,\"ticks\":\"\"}},\"type\":\"scatterternary\"}],\"surface\":[{\"colorbar\":{\"outlinewidth\":0,\"ticks\":\"\"},\"colorscale\":[[0.0,\"#0d0887\"],[0.1111111111111111,\"#46039f\"],[0.2222222222222222,\"#7201a8\"],[0.3333333333333333,\"#9c179e\"],[0.4444444444444444,\"#bd3786\"],[0.5555555555555556,\"#d8576b\"],[0.6666666666666666,\"#ed7953\"],[0.7777777777777778,\"#fb9f3a\"],[0.8888888888888888,\"#fdca26\"],[1.0,\"#f0f921\"]],\"type\":\"surface\"}],\"table\":[{\"cells\":{\"fill\":{\"color\":\"#506784\"},\"line\":{\"color\":\"rgb(17,17,17)\"}},\"header\":{\"fill\":{\"color\":\"#2a3f5f\"},\"line\":{\"color\":\"rgb(17,17,17)\"}},\"type\":\"table\"}]},\"layout\":{\"annotationdefaults\":{\"arrowcolor\":\"#f2f5fa\",\"arrowhead\":0,\"arrowwidth\":1},\"autotypenumbers\":\"strict\",\"coloraxis\":{\"colorbar\":{\"outlinewidth\":0,\"ticks\":\"\"}},\"colorscale\":{\"diverging\":[[0,\"#8e0152\"],[0.1,\"#c51b7d\"],[0.2,\"#de77ae\"],[0.3,\"#f1b6da\"],[0.4,\"#fde0ef\"],[0.5,\"#f7f7f7\"],[0.6,\"#e6f5d0\"],[0.7,\"#b8e186\"],[0.8,\"#7fbc41\"],[0.9,\"#4d9221\"],[1,\"#276419\"]],\"sequential\":[[0.0,\"#0d0887\"],[0.1111111111111111,\"#46039f\"],[0.2222222222222222,\"#7201a8\"],[0.3333333333333333,\"#9c179e\"],[0.4444444444444444,\"#bd3786\"],[0.5555555555555556,\"#d8576b\"],[0.6666666666666666,\"#ed7953\"],[0.7777777777777778,\"#fb9f3a\"],[0.8888888888888888,\"#fdca26\"],[1.0,\"#f0f921\"]],\"sequentialminus\":[[0.0,\"#0d0887\"],[0.1111111111111111,\"#46039f\"],[0.2222222222222222,\"#7201a8\"],[0.3333333333333333,\"#9c179e\"],[0.4444444444444444,\"#bd3786\"],[0.5555555555555556,\"#d8576b\"],[0.6666666666666666,\"#ed7953\"],[0.7777777777777778,\"#fb9f3a\"],[0.8888888888888888,\"#fdca26\"],[1.0,\"#f0f921\"]]},\"colorway\":[\"#636efa\",\"#EF553B\",\"#00cc96\",\"#ab63fa\",\"#FFA15A\",\"#19d3f3\",\"#FF6692\",\"#B6E880\",\"#FF97FF\",\"#FECB52\"],\"font\":{\"color\":\"#f2f5fa\"},\"geo\":{\"bgcolor\":\"rgb(17,17,17)\",\"lakecolor\":\"rgb(17,17,17)\",\"landcolor\":\"rgb(17,17,17)\",\"showlakes\":true,\"showland\":true,\"subunitcolor\":\"#506784\"},\"hoverlabel\":{\"align\":\"left\"},\"hovermode\":\"closest\",\"mapbox\":{\"style\":\"dark\"},\"paper_bgcolor\":\"rgb(17,17,17)\",\"plot_bgcolor\":\"rgb(17,17,17)\",\"polar\":{\"angularaxis\":{\"gridcolor\":\"#506784\",\"linecolor\":\"#506784\",\"ticks\":\"\"},\"bgcolor\":\"rgb(17,17,17)\",\"radialaxis\":{\"gridcolor\":\"#506784\",\"linecolor\":\"#506784\",\"ticks\":\"\"}},\"scene\":{\"xaxis\":{\"backgroundcolor\":\"rgb(17,17,17)\",\"gridcolor\":\"#506784\",\"gridwidth\":2,\"linecolor\":\"#506784\",\"showbackground\":true,\"ticks\":\"\",\"zerolinecolor\":\"#C8D4E3\"},\"yaxis\":{\"backgroundcolor\":\"rgb(17,17,17)\",\"gridcolor\":\"#506784\",\"gridwidth\":2,\"linecolor\":\"#506784\",\"showbackground\":true,\"ticks\":\"\",\"zerolinecolor\":\"#C8D4E3\"},\"zaxis\":{\"backgroundcolor\":\"rgb(17,17,17)\",\"gridcolor\":\"#506784\",\"gridwidth\":2,\"linecolor\":\"#506784\",\"showbackground\":true,\"ticks\":\"\",\"zerolinecolor\":\"#C8D4E3\"}},\"shapedefaults\":{\"line\":{\"color\":\"#f2f5fa\"}},\"sliderdefaults\":{\"bgcolor\":\"#C8D4E3\",\"bordercolor\":\"rgb(17,17,17)\",\"borderwidth\":1,\"tickwidth\":0},\"ternary\":{\"aaxis\":{\"gridcolor\":\"#506784\",\"linecolor\":\"#506784\",\"ticks\":\"\"},\"baxis\":{\"gridcolor\":\"#506784\",\"linecolor\":\"#506784\",\"ticks\":\"\"},\"bgcolor\":\"rgb(17,17,17)\",\"caxis\":{\"gridcolor\":\"#506784\",\"linecolor\":\"#506784\",\"ticks\":\"\"}},\"title\":{\"x\":0.05},\"updatemenudefaults\":{\"bgcolor\":\"#506784\",\"borderwidth\":0},\"xaxis\":{\"automargin\":true,\"gridcolor\":\"#283442\",\"linecolor\":\"#506784\",\"ticks\":\"\",\"title\":{\"standoff\":15},\"zerolinecolor\":\"#283442\",\"zerolinewidth\":2},\"yaxis\":{\"automargin\":true,\"gridcolor\":\"#283442\",\"linecolor\":\"#506784\",\"ticks\":\"\",\"title\":{\"standoff\":15},\"zerolinecolor\":\"#283442\",\"zerolinewidth\":2}}},\"xaxis\":{\"anchor\":\"y\",\"domain\":[0.0,0.49],\"title\":{\"text\":\"Center H\"},\"showticklabels\":true},\"yaxis\":{\"anchor\":\"x\",\"domain\":[0.0,0.7326],\"title\":{\"text\":\"percent\"}},\"xaxis2\":{\"anchor\":\"y2\",\"domain\":[0.51,1.0],\"title\":{\"text\":\"Center H\"},\"showticklabels\":true},\"yaxis2\":{\"anchor\":\"x2\",\"domain\":[0.0,0.7326],\"matches\":\"y\",\"showticklabels\":false},\"xaxis3\":{\"anchor\":\"y3\",\"domain\":[0.0,0.49],\"showticklabels\":true,\"showgrid\":true},\"yaxis3\":{\"anchor\":\"x3\",\"domain\":[0.7426,1.0],\"matches\":\"y3\",\"showticklabels\":false,\"showline\":false,\"ticks\":\"\",\"showgrid\":false},\"xaxis4\":{\"anchor\":\"y4\",\"domain\":[0.51,1.0],\"showticklabels\":true,\"showgrid\":true},\"yaxis4\":{\"anchor\":\"x4\",\"domain\":[0.7426,1.0],\"matches\":\"y3\",\"showticklabels\":false,\"showline\":false,\"ticks\":\"\",\"showgrid\":false},\"annotations\":[{\"font\":{},\"showarrow\":false,\"text\":\"Center H\\u2265100=True\",\"x\":0.245,\"xanchor\":\"center\",\"xref\":\"paper\",\"y\":1.0,\"yanchor\":\"bottom\",\"yref\":\"paper\"},{\"font\":{},\"showarrow\":false,\"text\":\"Center H\\u2265100=False\",\"x\":0.755,\"xanchor\":\"center\",\"xref\":\"paper\",\"y\":1.0,\"yanchor\":\"bottom\",\"yref\":\"paper\"}],\"legend\":{\"title\":{\"text\":\"Conjunctiva cluster\"},\"tracegroupgap\":0},\"margin\":{\"t\":20,\"l\":20,\"r\":20,\"b\":20},\"barmode\":\"group\",\"bargap\":0.04,\"font\":{\"family\":\"Arial\",\"size\":16}},                        {\"responsive\": true}                    ).then(function(){\n                            \nvar gd = document.getElementById('cbbc9c58-fa0b-42dd-a7da-70b9d6261e04');\nvar x = new MutationObserver(function (mutations, observer) {{\n        var display = window.getComputedStyle(gd).display;\n        if (!display || display === 'none') {{\n            console.log([gd, 'removed!']);\n            Plotly.purge(gd);\n            observer.disconnect();\n        }}\n}});\n\n// Listen for the removal of the full notebook cells\nvar notebookContainer = gd.closest('#notebook-container');\nif (notebookContainer) {{\n    x.observe(notebookContainer, {childList: true});\n}}\n\n// Listen for the clearing of the current output cell\nvar outputEl = gd.closest('.output');\nif (outputEl) {{\n    x.observe(outputEl, {childList: true});\n}}\n\n                        })                };                });            </script>        </div>"
     },
     "metadata": {},
     "output_type": "display_data"
    }
   ],
   "source": [
    "fig = px.histogram(all_metrics_flat, x=\"Values-Color-Center-H\", marginal=\"box\", opacity=0.6,\n",
    "                   barmode=\"group\", histnorm=\"percent\",\n",
    "                   facet_col=\"Values-Color-Center-H>=100\",\n",
    "                   color=\"Labels-Value\", color_discrete_map=color_discrete_map,\n",
    "                    category_orders=category_orders, labels=var_labels, template=plotly_template)\n",
    "fig.update_layout(bargap=0.04)\n",
    "fig.update_layout(font=dict(family=\"Arial\",size=16,), margin=dict(l=20, r=20, t=20, b=20))\n",
    "fig.update_xaxes(matches=None)\n",
    "fig.for_each_xaxis(lambda axis: axis.update(showticklabels=True))\n",
    "fig.show()\n",
    "title = \"HSV histogram with box plot- H val split at >=100\"\n",
    "save_plotly_figure(fig, title)"
   ],
   "metadata": {
    "collapsed": false
   }
  },
  {
   "cell_type": "code",
   "execution_count": 33,
   "outputs": [
    {
     "data": {
      "application/vnd.plotly.v1+json": {
       "data": [
        {
         "alignmentgroup": "True",
         "bingroup": "x",
         "hovertemplate": "Conjunctiva cluster=False<br>Center V≥75=False<br>Center H (Rank)=%{x}<br>count=%{y}<extra></extra>",
         "legendgroup": "False",
         "marker": {
          "color": "#EF553B",
          "opacity": 0.6,
          "pattern": {
           "shape": ""
          }
         },
         "name": "False",
         "offsetgroup": "False",
         "orientation": "v",
         "showlegend": true,
         "x": [
          9,
          7,
          5,
          8,
          9,
          3,
          9,
          4,
          7,
          10,
          8,
          7,
          9,
          8,
          6,
          7,
          9,
          8,
          10,
          8,
          10,
          10,
          6,
          9,
          8,
          5,
          10,
          8,
          7,
          10,
          8,
          7,
          10,
          8,
          9,
          8,
          10,
          3,
          7,
          10,
          9,
          7,
          10,
          9,
          7,
          6,
          10,
          8,
          7,
          9,
          10,
          7,
          8,
          10,
          7,
          7,
          9,
          6,
          8,
          8,
          10,
          9,
          8,
          9,
          10,
          7,
          10,
          9,
          8,
          6,
          9,
          10,
          7,
          2,
          8,
          10,
          7,
          6,
          8,
          10,
          1,
          5,
          10,
          2,
          9,
          8,
          6,
          7,
          10,
          8,
          6,
          7,
          9,
          10,
          6,
          10,
          6,
          7,
          4,
          10,
          5,
          1,
          10,
          7,
          3,
          6,
          10,
          4,
          6,
          8,
          3,
          10,
          7,
          5,
          6,
          10,
          5,
          7,
          3,
          10,
          7,
          8,
          10,
          9,
          6,
          7,
          5,
          1,
          8,
          10,
          6,
          1,
          10,
          7,
          1,
          9,
          7,
          2,
          10,
          6,
          8,
          8,
          10,
          7,
          10,
          6,
          7,
          1,
          10,
          8,
          1,
          10,
          8,
          6,
          1,
          5,
          8,
          7,
          9,
          7,
          6,
          10,
          3,
          1,
          9,
          8,
          6,
          7,
          5,
          9,
          10,
          6,
          10,
          8,
          6,
          5,
          9,
          1,
          10,
          7,
          6,
          4,
          1,
          8,
          9,
          5,
          10,
          8,
          5,
          5,
          10,
          8,
          4,
          1,
          5,
          6,
          10,
          5,
          7,
          8,
          9,
          8,
          10,
          5,
          10,
          6,
          4,
          2,
          10,
          7,
          9,
          10,
          7,
          4,
          10,
          6,
          4,
          5,
          10,
          9,
          5,
          7,
          10,
          6,
          4,
          7,
          1,
          5,
          9,
          10,
          6,
          1,
          9,
          6,
          8,
          5,
          1,
          10,
          7,
          7,
          8,
          4,
          10,
          5,
          6,
          7,
          1,
          7,
          5,
          8,
          6,
          9,
          6,
          8,
          5,
          9,
          3,
          8,
          3,
          10,
          4,
          8,
          8,
          10,
          6,
          9,
          7,
          9,
          6,
          7,
          8,
          8,
          10,
          1,
          9,
          5,
          6,
          8,
          9,
          1,
          9,
          7,
          4,
          10,
          8,
          8,
          10,
          6,
          7,
          9,
          10,
          8,
          6,
          7,
          10,
          9,
          7,
          1,
          9,
          7,
          4,
          8,
          7,
          9,
          5,
          1,
          8,
          9,
          7,
          8,
          9,
          8,
          10,
          7,
          10,
          5,
          6,
          9,
          2,
          10,
          8,
          8,
          8,
          7,
          9,
          8,
          5,
          10,
          8,
          9,
          8,
          3,
          1,
          5,
          10,
          4,
          10,
          3,
          4,
          6,
          9,
          1,
          7,
          9,
          10,
          8,
          3,
          8,
          1,
          10,
          1,
          9,
          5,
          8,
          9,
          7,
          3,
          10,
          1,
          4,
          7,
          1,
          1,
          1,
          5,
          6,
          10,
          1,
          10,
          7,
          5,
          10,
          1,
          6,
          9,
          4,
          7,
          10,
          4,
          1,
          10,
          10,
          8,
          6,
          1,
          7,
          5,
          10,
          10,
          3,
          7,
          2,
          5,
          10,
          10,
          3,
          4,
          9,
          7,
          10,
          7,
          9,
          2,
          1,
          10,
          5,
          9,
          6,
          1,
          4,
          2,
          1,
          10,
          4,
          1,
          5,
          10,
          9,
          10,
          1,
          2,
          1,
          6,
          10,
          10,
          4,
          9,
          10,
          9,
          1,
          3,
          7,
          9,
          1,
          9,
          9,
          2,
          3,
          5,
          5,
          10,
          9,
          1,
          4,
          3
         ],
         "xaxis": "x",
         "yaxis": "y",
         "type": "histogram"
        },
        {
         "alignmentgroup": "True",
         "hovertemplate": "Conjunctiva cluster=False<br>Center V≥75=False<br>Center H (Rank)=%{x}<extra></extra>",
         "legendgroup": "False",
         "marker": {
          "color": "#EF553B"
         },
         "name": "False",
         "notched": true,
         "offsetgroup": "False",
         "showlegend": false,
         "x": [
          9,
          7,
          5,
          8,
          9,
          3,
          9,
          4,
          7,
          10,
          8,
          7,
          9,
          8,
          6,
          7,
          9,
          8,
          10,
          8,
          10,
          10,
          6,
          9,
          8,
          5,
          10,
          8,
          7,
          10,
          8,
          7,
          10,
          8,
          9,
          8,
          10,
          3,
          7,
          10,
          9,
          7,
          10,
          9,
          7,
          6,
          10,
          8,
          7,
          9,
          10,
          7,
          8,
          10,
          7,
          7,
          9,
          6,
          8,
          8,
          10,
          9,
          8,
          9,
          10,
          7,
          10,
          9,
          8,
          6,
          9,
          10,
          7,
          2,
          8,
          10,
          7,
          6,
          8,
          10,
          1,
          5,
          10,
          2,
          9,
          8,
          6,
          7,
          10,
          8,
          6,
          7,
          9,
          10,
          6,
          10,
          6,
          7,
          4,
          10,
          5,
          1,
          10,
          7,
          3,
          6,
          10,
          4,
          6,
          8,
          3,
          10,
          7,
          5,
          6,
          10,
          5,
          7,
          3,
          10,
          7,
          8,
          10,
          9,
          6,
          7,
          5,
          1,
          8,
          10,
          6,
          1,
          10,
          7,
          1,
          9,
          7,
          2,
          10,
          6,
          8,
          8,
          10,
          7,
          10,
          6,
          7,
          1,
          10,
          8,
          1,
          10,
          8,
          6,
          1,
          5,
          8,
          7,
          9,
          7,
          6,
          10,
          3,
          1,
          9,
          8,
          6,
          7,
          5,
          9,
          10,
          6,
          10,
          8,
          6,
          5,
          9,
          1,
          10,
          7,
          6,
          4,
          1,
          8,
          9,
          5,
          10,
          8,
          5,
          5,
          10,
          8,
          4,
          1,
          5,
          6,
          10,
          5,
          7,
          8,
          9,
          8,
          10,
          5,
          10,
          6,
          4,
          2,
          10,
          7,
          9,
          10,
          7,
          4,
          10,
          6,
          4,
          5,
          10,
          9,
          5,
          7,
          10,
          6,
          4,
          7,
          1,
          5,
          9,
          10,
          6,
          1,
          9,
          6,
          8,
          5,
          1,
          10,
          7,
          7,
          8,
          4,
          10,
          5,
          6,
          7,
          1,
          7,
          5,
          8,
          6,
          9,
          6,
          8,
          5,
          9,
          3,
          8,
          3,
          10,
          4,
          8,
          8,
          10,
          6,
          9,
          7,
          9,
          6,
          7,
          8,
          8,
          10,
          1,
          9,
          5,
          6,
          8,
          9,
          1,
          9,
          7,
          4,
          10,
          8,
          8,
          10,
          6,
          7,
          9,
          10,
          8,
          6,
          7,
          10,
          9,
          7,
          1,
          9,
          7,
          4,
          8,
          7,
          9,
          5,
          1,
          8,
          9,
          7,
          8,
          9,
          8,
          10,
          7,
          10,
          5,
          6,
          9,
          2,
          10,
          8,
          8,
          8,
          7,
          9,
          8,
          5,
          10,
          8,
          9,
          8,
          3,
          1,
          5,
          10,
          4,
          10,
          3,
          4,
          6,
          9,
          1,
          7,
          9,
          10,
          8,
          3,
          8,
          1,
          10,
          1,
          9,
          5,
          8,
          9,
          7,
          3,
          10,
          1,
          4,
          7,
          1,
          1,
          1,
          5,
          6,
          10,
          1,
          10,
          7,
          5,
          10,
          1,
          6,
          9,
          4,
          7,
          10,
          4,
          1,
          10,
          10,
          8,
          6,
          1,
          7,
          5,
          10,
          10,
          3,
          7,
          2,
          5,
          10,
          10,
          3,
          4,
          9,
          7,
          10,
          7,
          9,
          2,
          1,
          10,
          5,
          9,
          6,
          1,
          4,
          2,
          1,
          10,
          4,
          1,
          5,
          10,
          9,
          10,
          1,
          2,
          1,
          6,
          10,
          10,
          4,
          9,
          10,
          9,
          1,
          3,
          7,
          9,
          1,
          9,
          9,
          2,
          3,
          5,
          5,
          10,
          9,
          1,
          4,
          3
         ],
         "xaxis": "x3",
         "yaxis": "y3",
         "type": "box"
        },
        {
         "alignmentgroup": "True",
         "bingroup": "x",
         "hovertemplate": "Conjunctiva cluster=False<br>Center V≥75=True<br>Center H (Rank)=%{x}<br>count=%{y}<extra></extra>",
         "legendgroup": "False",
         "marker": {
          "color": "#EF553B",
          "opacity": 0.6,
          "pattern": {
           "shape": ""
          }
         },
         "name": "False",
         "offsetgroup": "False",
         "orientation": "v",
         "showlegend": false,
         "x": [
          3,
          6,
          10,
          8,
          4,
          6,
          7,
          10,
          5,
          1,
          6,
          2,
          8,
          5,
          4,
          5,
          9,
          6,
          4,
          3,
          10,
          7,
          5,
          6,
          4,
          8,
          5,
          1,
          10,
          7,
          9,
          4,
          6,
          2,
          5,
          7,
          9,
          4,
          5,
          3,
          6,
          8,
          4,
          2,
          9,
          7,
          1,
          5,
          6,
          4,
          2,
          7,
          3,
          7,
          8,
          6,
          2,
          4,
          1,
          10,
          3,
          9,
          4,
          6,
          2,
          5,
          3,
          9,
          6,
          7,
          5,
          3,
          4,
          1,
          5,
          4,
          6,
          1,
          2,
          5,
          6,
          4,
          3,
          2,
          4,
          8,
          5,
          5,
          3,
          1,
          2,
          9,
          4,
          8,
          1,
          2,
          3,
          5,
          6,
          9,
          1,
          3,
          3,
          2,
          5,
          10,
          6,
          7,
          2,
          4,
          1,
          6,
          3,
          4,
          1,
          5,
          2,
          1,
          3,
          4,
          3,
          6,
          8,
          1,
          3,
          4,
          2,
          5,
          7,
          9,
          5,
          3,
          4,
          7,
          6,
          4,
          9,
          3,
          3,
          4,
          5,
          5,
          3,
          2,
          8,
          4,
          5,
          7,
          9,
          3,
          4,
          3,
          8,
          5,
          1,
          7,
          8,
          6,
          9,
          2,
          5,
          8,
          6,
          3,
          9,
          4,
          8,
          4,
          7,
          9,
          2,
          1,
          5,
          9,
          10,
          2,
          7,
          6,
          8,
          9,
          1,
          8,
          9,
          3,
          1,
          9,
          4,
          6,
          1,
          8,
          2,
          4,
          7,
          9,
          3,
          2,
          8,
          4,
          6,
          3,
          2,
          5,
          6,
          3,
          2,
          10,
          7,
          5,
          4,
          9,
          1,
          9,
          4,
          3,
          5,
          2,
          8,
          9,
          4,
          5,
          2,
          9,
          4,
          6,
          7,
          5,
          3,
          3,
          7,
          9,
          2,
          9,
          10,
          4,
          2,
          8,
          4,
          2,
          4,
          10,
          3,
          5,
          7,
          8,
          4,
          3,
          4,
          7,
          3,
          1,
          9,
          5,
          3,
          10,
          4,
          2,
          6,
          3,
          4,
          7,
          9,
          2,
          6,
          9,
          7,
          2,
          3,
          8,
          3,
          9,
          10,
          4,
          9,
          4,
          3,
          1,
          7,
          4,
          2,
          6,
          3,
          5,
          7,
          9,
          3,
          8,
          2,
          4,
          5,
          8,
          3,
          6,
          6,
          8,
          3,
          9,
          2,
          1,
          9,
          7,
          2,
          1,
          8,
          4,
          6,
          3,
          2,
          8,
          9,
          5,
          2,
          1,
          7,
          8,
          3,
          4,
          10,
          3,
          2,
          4,
          6,
          8,
          9,
          3,
          2,
          5,
          9,
          6,
          2,
          3,
          9,
          3,
          2,
          8,
          9,
          10,
          3,
          4,
          10,
          7,
          2,
          6,
          5,
          10,
          7,
          1,
          5,
          9,
          6,
          2,
          4,
          7,
          2,
          5,
          9,
          8,
          10,
          5,
          6,
          3,
          4,
          1,
          10,
          3,
          4,
          2,
          7,
          4,
          6,
          3,
          5,
          1,
          8,
          3,
          4,
          7,
          7,
          6,
          4,
          3,
          2,
          1,
          6,
          3,
          10,
          5,
          6,
          7,
          4,
          9,
          2,
          1,
          4,
          9,
          3,
          2,
          8,
          3,
          6,
          10,
          2,
          5,
          3,
          5,
          2,
          6,
          3,
          2,
          5,
          1,
          6,
          3,
          8,
          2,
          10,
          2,
          3,
          6,
          1,
          5,
          6,
          3,
          2,
          10,
          4,
          5,
          6,
          7,
          2,
          3,
          5,
          2,
          3,
          4,
          1,
          7,
          2,
          3,
          1,
          5,
          6,
          7,
          4,
          3,
          1,
          9,
          6,
          10,
          2,
          4,
          7,
          5,
          9,
          10,
          6,
          3,
          4,
          1,
          6,
          10,
          2,
          3,
          1,
          5,
          9,
          4,
          6,
          2,
          3,
          5,
          3,
          4,
          7,
          1,
          10,
          7,
          9,
          6,
          8,
          2,
          8,
          6,
          1,
          5,
          2,
          3,
          9,
          2,
          10,
          7,
          9,
          5,
          8,
          1,
          3,
          10,
          7,
          8,
          5,
          4,
          1,
          8,
          9,
          5,
          4,
          3,
          8,
          3,
          5,
          6,
          7,
          1,
          9,
          10,
          6,
          2,
          3,
          5,
          9,
          6,
          5,
          10,
          2,
          1,
          4,
          5,
          4,
          7,
          3,
          6,
          2,
          6,
          4,
          10,
          8,
          10,
          5,
          4,
          1,
          8,
          9,
          6,
          4,
          7,
          1,
          8,
          10,
          6,
          5,
          3,
          2,
          5,
          10,
          9,
          6,
          7,
          2,
          3,
          5,
          10,
          6,
          8,
          4,
          9,
          2,
          10,
          9,
          7,
          4,
          6,
          3,
          2,
          3,
          4,
          2,
          7,
          8,
          5,
          1,
          8,
          3,
          5,
          4,
          2,
          8,
          7,
          3,
          6,
          2,
          4,
          1,
          3,
          10,
          9,
          7,
          5,
          4,
          2,
          2,
          6,
          8,
          3,
          4,
          7,
          10,
          1,
          8,
          9,
          10,
          5,
          2,
          6,
          3,
          2,
          3,
          6,
          7,
          9,
          8,
          2,
          3,
          8,
          6,
          7,
          5,
          9,
          6,
          9,
          5,
          7,
          4,
          1,
          9,
          10,
          3,
          5,
          2,
          2,
          3,
          9,
          7,
          4,
          1,
          9,
          1,
          6,
          2,
          9,
          7,
          6,
          4,
          8,
          1,
          5,
          8,
          4,
          2,
          9,
          1,
          6,
          5,
          3,
          10,
          1,
          2,
          4,
          8,
          1,
          6,
          8,
          1,
          10,
          4,
          7,
          8,
          4,
          3,
          2,
          8,
          10,
          6,
          5,
          7,
          6,
          8,
          7,
          3,
          2,
          8,
          6,
          7,
          4,
          7,
          4,
          8,
          6,
          5,
          9,
          3,
          7,
          4,
          6,
          7,
          5,
          8,
          1,
          7,
          8,
          4,
          6,
          2,
          1,
          2,
          4,
          10,
          5,
          3,
          4,
          6,
          10,
          8,
          2,
          8,
          7,
          6,
          10,
          9,
          3,
          4,
          6,
          2,
          1,
          7,
          5,
          8,
          10
         ],
         "xaxis": "x2",
         "yaxis": "y2",
         "type": "histogram"
        },
        {
         "alignmentgroup": "True",
         "hovertemplate": "Conjunctiva cluster=False<br>Center V≥75=True<br>Center H (Rank)=%{x}<extra></extra>",
         "legendgroup": "False",
         "marker": {
          "color": "#EF553B"
         },
         "name": "False",
         "notched": true,
         "offsetgroup": "False",
         "showlegend": false,
         "x": [
          3,
          6,
          10,
          8,
          4,
          6,
          7,
          10,
          5,
          1,
          6,
          2,
          8,
          5,
          4,
          5,
          9,
          6,
          4,
          3,
          10,
          7,
          5,
          6,
          4,
          8,
          5,
          1,
          10,
          7,
          9,
          4,
          6,
          2,
          5,
          7,
          9,
          4,
          5,
          3,
          6,
          8,
          4,
          2,
          9,
          7,
          1,
          5,
          6,
          4,
          2,
          7,
          3,
          7,
          8,
          6,
          2,
          4,
          1,
          10,
          3,
          9,
          4,
          6,
          2,
          5,
          3,
          9,
          6,
          7,
          5,
          3,
          4,
          1,
          5,
          4,
          6,
          1,
          2,
          5,
          6,
          4,
          3,
          2,
          4,
          8,
          5,
          5,
          3,
          1,
          2,
          9,
          4,
          8,
          1,
          2,
          3,
          5,
          6,
          9,
          1,
          3,
          3,
          2,
          5,
          10,
          6,
          7,
          2,
          4,
          1,
          6,
          3,
          4,
          1,
          5,
          2,
          1,
          3,
          4,
          3,
          6,
          8,
          1,
          3,
          4,
          2,
          5,
          7,
          9,
          5,
          3,
          4,
          7,
          6,
          4,
          9,
          3,
          3,
          4,
          5,
          5,
          3,
          2,
          8,
          4,
          5,
          7,
          9,
          3,
          4,
          3,
          8,
          5,
          1,
          7,
          8,
          6,
          9,
          2,
          5,
          8,
          6,
          3,
          9,
          4,
          8,
          4,
          7,
          9,
          2,
          1,
          5,
          9,
          10,
          2,
          7,
          6,
          8,
          9,
          1,
          8,
          9,
          3,
          1,
          9,
          4,
          6,
          1,
          8,
          2,
          4,
          7,
          9,
          3,
          2,
          8,
          4,
          6,
          3,
          2,
          5,
          6,
          3,
          2,
          10,
          7,
          5,
          4,
          9,
          1,
          9,
          4,
          3,
          5,
          2,
          8,
          9,
          4,
          5,
          2,
          9,
          4,
          6,
          7,
          5,
          3,
          3,
          7,
          9,
          2,
          9,
          10,
          4,
          2,
          8,
          4,
          2,
          4,
          10,
          3,
          5,
          7,
          8,
          4,
          3,
          4,
          7,
          3,
          1,
          9,
          5,
          3,
          10,
          4,
          2,
          6,
          3,
          4,
          7,
          9,
          2,
          6,
          9,
          7,
          2,
          3,
          8,
          3,
          9,
          10,
          4,
          9,
          4,
          3,
          1,
          7,
          4,
          2,
          6,
          3,
          5,
          7,
          9,
          3,
          8,
          2,
          4,
          5,
          8,
          3,
          6,
          6,
          8,
          3,
          9,
          2,
          1,
          9,
          7,
          2,
          1,
          8,
          4,
          6,
          3,
          2,
          8,
          9,
          5,
          2,
          1,
          7,
          8,
          3,
          4,
          10,
          3,
          2,
          4,
          6,
          8,
          9,
          3,
          2,
          5,
          9,
          6,
          2,
          3,
          9,
          3,
          2,
          8,
          9,
          10,
          3,
          4,
          10,
          7,
          2,
          6,
          5,
          10,
          7,
          1,
          5,
          9,
          6,
          2,
          4,
          7,
          2,
          5,
          9,
          8,
          10,
          5,
          6,
          3,
          4,
          1,
          10,
          3,
          4,
          2,
          7,
          4,
          6,
          3,
          5,
          1,
          8,
          3,
          4,
          7,
          7,
          6,
          4,
          3,
          2,
          1,
          6,
          3,
          10,
          5,
          6,
          7,
          4,
          9,
          2,
          1,
          4,
          9,
          3,
          2,
          8,
          3,
          6,
          10,
          2,
          5,
          3,
          5,
          2,
          6,
          3,
          2,
          5,
          1,
          6,
          3,
          8,
          2,
          10,
          2,
          3,
          6,
          1,
          5,
          6,
          3,
          2,
          10,
          4,
          5,
          6,
          7,
          2,
          3,
          5,
          2,
          3,
          4,
          1,
          7,
          2,
          3,
          1,
          5,
          6,
          7,
          4,
          3,
          1,
          9,
          6,
          10,
          2,
          4,
          7,
          5,
          9,
          10,
          6,
          3,
          4,
          1,
          6,
          10,
          2,
          3,
          1,
          5,
          9,
          4,
          6,
          2,
          3,
          5,
          3,
          4,
          7,
          1,
          10,
          7,
          9,
          6,
          8,
          2,
          8,
          6,
          1,
          5,
          2,
          3,
          9,
          2,
          10,
          7,
          9,
          5,
          8,
          1,
          3,
          10,
          7,
          8,
          5,
          4,
          1,
          8,
          9,
          5,
          4,
          3,
          8,
          3,
          5,
          6,
          7,
          1,
          9,
          10,
          6,
          2,
          3,
          5,
          9,
          6,
          5,
          10,
          2,
          1,
          4,
          5,
          4,
          7,
          3,
          6,
          2,
          6,
          4,
          10,
          8,
          10,
          5,
          4,
          1,
          8,
          9,
          6,
          4,
          7,
          1,
          8,
          10,
          6,
          5,
          3,
          2,
          5,
          10,
          9,
          6,
          7,
          2,
          3,
          5,
          10,
          6,
          8,
          4,
          9,
          2,
          10,
          9,
          7,
          4,
          6,
          3,
          2,
          3,
          4,
          2,
          7,
          8,
          5,
          1,
          8,
          3,
          5,
          4,
          2,
          8,
          7,
          3,
          6,
          2,
          4,
          1,
          3,
          10,
          9,
          7,
          5,
          4,
          2,
          2,
          6,
          8,
          3,
          4,
          7,
          10,
          1,
          8,
          9,
          10,
          5,
          2,
          6,
          3,
          2,
          3,
          6,
          7,
          9,
          8,
          2,
          3,
          8,
          6,
          7,
          5,
          9,
          6,
          9,
          5,
          7,
          4,
          1,
          9,
          10,
          3,
          5,
          2,
          2,
          3,
          9,
          7,
          4,
          1,
          9,
          1,
          6,
          2,
          9,
          7,
          6,
          4,
          8,
          1,
          5,
          8,
          4,
          2,
          9,
          1,
          6,
          5,
          3,
          10,
          1,
          2,
          4,
          8,
          1,
          6,
          8,
          1,
          10,
          4,
          7,
          8,
          4,
          3,
          2,
          8,
          10,
          6,
          5,
          7,
          6,
          8,
          7,
          3,
          2,
          8,
          6,
          7,
          4,
          7,
          4,
          8,
          6,
          5,
          9,
          3,
          7,
          4,
          6,
          7,
          5,
          8,
          1,
          7,
          8,
          4,
          6,
          2,
          1,
          2,
          4,
          10,
          5,
          3,
          4,
          6,
          10,
          8,
          2,
          8,
          7,
          6,
          10,
          9,
          3,
          4,
          6,
          2,
          1,
          7,
          5,
          8,
          10
         ],
         "xaxis": "x4",
         "yaxis": "y4",
         "type": "box"
        },
        {
         "alignmentgroup": "True",
         "bingroup": "x",
         "hovertemplate": "Conjunctiva cluster=Maybe<br>Center V≥75=True<br>Center H (Rank)=%{x}<br>count=%{y}<extra></extra>",
         "legendgroup": "Maybe",
         "marker": {
          "color": "#636EFA",
          "opacity": 0.6,
          "pattern": {
           "shape": ""
          }
         },
         "name": "Maybe",
         "offsetgroup": "Maybe",
         "orientation": "v",
         "showlegend": true,
         "x": [
          2,
          4,
          5,
          6,
          2,
          3,
          2,
          5,
          3,
          4,
          8,
          6,
          3,
          3,
          5,
          1,
          6,
          2,
          3,
          7,
          3,
          10,
          8,
          5,
          1,
          4,
          4,
          3,
          2,
          4,
          7,
          7,
          5,
          3,
          8,
          4,
          6,
          3,
          5,
          3,
          3,
          8,
          7,
          7,
          6
         ],
         "xaxis": "x2",
         "yaxis": "y2",
         "type": "histogram"
        },
        {
         "alignmentgroup": "True",
         "hovertemplate": "Conjunctiva cluster=Maybe<br>Center V≥75=True<br>Center H (Rank)=%{x}<extra></extra>",
         "legendgroup": "Maybe",
         "marker": {
          "color": "#636EFA"
         },
         "name": "Maybe",
         "notched": true,
         "offsetgroup": "Maybe",
         "showlegend": false,
         "x": [
          2,
          4,
          5,
          6,
          2,
          3,
          2,
          5,
          3,
          4,
          8,
          6,
          3,
          3,
          5,
          1,
          6,
          2,
          3,
          7,
          3,
          10,
          8,
          5,
          1,
          4,
          4,
          3,
          2,
          4,
          7,
          7,
          5,
          3,
          8,
          4,
          6,
          3,
          5,
          3,
          3,
          8,
          7,
          7,
          6
         ],
         "xaxis": "x4",
         "yaxis": "y4",
         "type": "box"
        },
        {
         "alignmentgroup": "True",
         "bingroup": "x",
         "hovertemplate": "Conjunctiva cluster=True<br>Center V≥75=True<br>Center H (Rank)=%{x}<br>count=%{y}<extra></extra>",
         "legendgroup": "True",
         "marker": {
          "color": "#00CC96",
          "opacity": 0.6,
          "pattern": {
           "shape": ""
          }
         },
         "name": "True",
         "offsetgroup": "True",
         "orientation": "v",
         "showlegend": true,
         "x": [
          2,
          1,
          4,
          2,
          3,
          1,
          10,
          3,
          1,
          1,
          2,
          2,
          3,
          3,
          1,
          2,
          1,
          5,
          3,
          10,
          1,
          3,
          9,
          5,
          1,
          1,
          2,
          6,
          2,
          9,
          2,
          8,
          3,
          1,
          1,
          6,
          4,
          6,
          4,
          2,
          4,
          1,
          3,
          5,
          2,
          5,
          7,
          5,
          4,
          1,
          9,
          2,
          1,
          8,
          2,
          10,
          1,
          4,
          1,
          1,
          2,
          9,
          1,
          3,
          2,
          5,
          1,
          4,
          2,
          4,
          2,
          1,
          5,
          9,
          5,
          4,
          3,
          1,
          1,
          2,
          4,
          5,
          6,
          1,
          2,
          2,
          2,
          8,
          2,
          7,
          3,
          1,
          1,
          7,
          2,
          6,
          1,
          1,
          1,
          5,
          3,
          1,
          8,
          2,
          4,
          5,
          1,
          10,
          1,
          4,
          2,
          4,
          3,
          1,
          2,
          4,
          7,
          1,
          1,
          2,
          5,
          1,
          9,
          2,
          2,
          5,
          10,
          2,
          3,
          7,
          5,
          4,
          1,
          9,
          1,
          8,
          10,
          5,
          4,
          4,
          10,
          1,
          6,
          9,
          4,
          8,
          9,
          1,
          5,
          2,
          7,
          4,
          1,
          7,
          2,
          6,
          4,
          7,
          6,
          2,
          6,
          10,
          2,
          4,
          1,
          7,
          9,
          8,
          3,
          2,
          3,
          6,
          2,
          5,
          2,
          9,
          4,
          8,
          7,
          3,
          8,
          9,
          6,
          9,
          9,
          8,
          5,
          1,
          1,
          4,
          2,
          4,
          8,
          6,
          5,
          8,
          3,
          6,
          7,
          2,
          8,
          5,
          3,
          9,
          5,
          7,
          3,
          9,
          9,
          2,
          5,
          9,
          8,
          2,
          3,
          2,
          3,
          5,
          6,
          5,
          4,
          1,
          8,
          2
         ],
         "xaxis": "x2",
         "yaxis": "y2",
         "type": "histogram"
        },
        {
         "alignmentgroup": "True",
         "hovertemplate": "Conjunctiva cluster=True<br>Center V≥75=True<br>Center H (Rank)=%{x}<extra></extra>",
         "legendgroup": "True",
         "marker": {
          "color": "#00CC96"
         },
         "name": "True",
         "notched": true,
         "offsetgroup": "True",
         "showlegend": false,
         "x": [
          2,
          1,
          4,
          2,
          3,
          1,
          10,
          3,
          1,
          1,
          2,
          2,
          3,
          3,
          1,
          2,
          1,
          5,
          3,
          10,
          1,
          3,
          9,
          5,
          1,
          1,
          2,
          6,
          2,
          9,
          2,
          8,
          3,
          1,
          1,
          6,
          4,
          6,
          4,
          2,
          4,
          1,
          3,
          5,
          2,
          5,
          7,
          5,
          4,
          1,
          9,
          2,
          1,
          8,
          2,
          10,
          1,
          4,
          1,
          1,
          2,
          9,
          1,
          3,
          2,
          5,
          1,
          4,
          2,
          4,
          2,
          1,
          5,
          9,
          5,
          4,
          3,
          1,
          1,
          2,
          4,
          5,
          6,
          1,
          2,
          2,
          2,
          8,
          2,
          7,
          3,
          1,
          1,
          7,
          2,
          6,
          1,
          1,
          1,
          5,
          3,
          1,
          8,
          2,
          4,
          5,
          1,
          10,
          1,
          4,
          2,
          4,
          3,
          1,
          2,
          4,
          7,
          1,
          1,
          2,
          5,
          1,
          9,
          2,
          2,
          5,
          10,
          2,
          3,
          7,
          5,
          4,
          1,
          9,
          1,
          8,
          10,
          5,
          4,
          4,
          10,
          1,
          6,
          9,
          4,
          8,
          9,
          1,
          5,
          2,
          7,
          4,
          1,
          7,
          2,
          6,
          4,
          7,
          6,
          2,
          6,
          10,
          2,
          4,
          1,
          7,
          9,
          8,
          3,
          2,
          3,
          6,
          2,
          5,
          2,
          9,
          4,
          8,
          7,
          3,
          8,
          9,
          6,
          9,
          9,
          8,
          5,
          1,
          1,
          4,
          2,
          4,
          8,
          6,
          5,
          8,
          3,
          6,
          7,
          2,
          8,
          5,
          3,
          9,
          5,
          7,
          3,
          9,
          9,
          2,
          5,
          9,
          8,
          2,
          3,
          2,
          3,
          5,
          6,
          5,
          4,
          1,
          8,
          2
         ],
         "xaxis": "x4",
         "yaxis": "y4",
         "type": "box"
        }
       ],
       "layout": {
        "template": {
         "data": {
          "barpolar": [
           {
            "marker": {
             "line": {
              "color": "rgb(17,17,17)",
              "width": 0.5
             },
             "pattern": {
              "fillmode": "overlay",
              "size": 10,
              "solidity": 0.2
             }
            },
            "type": "barpolar"
           }
          ],
          "bar": [
           {
            "error_x": {
             "color": "#f2f5fa"
            },
            "error_y": {
             "color": "#f2f5fa"
            },
            "marker": {
             "line": {
              "color": "rgb(17,17,17)",
              "width": 0.5
             },
             "pattern": {
              "fillmode": "overlay",
              "size": 10,
              "solidity": 0.2
             }
            },
            "type": "bar"
           }
          ],
          "carpet": [
           {
            "aaxis": {
             "endlinecolor": "#A2B1C6",
             "gridcolor": "#506784",
             "linecolor": "#506784",
             "minorgridcolor": "#506784",
             "startlinecolor": "#A2B1C6"
            },
            "baxis": {
             "endlinecolor": "#A2B1C6",
             "gridcolor": "#506784",
             "linecolor": "#506784",
             "minorgridcolor": "#506784",
             "startlinecolor": "#A2B1C6"
            },
            "type": "carpet"
           }
          ],
          "choropleth": [
           {
            "colorbar": {
             "outlinewidth": 0,
             "ticks": ""
            },
            "type": "choropleth"
           }
          ],
          "contourcarpet": [
           {
            "colorbar": {
             "outlinewidth": 0,
             "ticks": ""
            },
            "type": "contourcarpet"
           }
          ],
          "contour": [
           {
            "colorbar": {
             "outlinewidth": 0,
             "ticks": ""
            },
            "colorscale": [
             [
              0.0,
              "#0d0887"
             ],
             [
              0.1111111111111111,
              "#46039f"
             ],
             [
              0.2222222222222222,
              "#7201a8"
             ],
             [
              0.3333333333333333,
              "#9c179e"
             ],
             [
              0.4444444444444444,
              "#bd3786"
             ],
             [
              0.5555555555555556,
              "#d8576b"
             ],
             [
              0.6666666666666666,
              "#ed7953"
             ],
             [
              0.7777777777777778,
              "#fb9f3a"
             ],
             [
              0.8888888888888888,
              "#fdca26"
             ],
             [
              1.0,
              "#f0f921"
             ]
            ],
            "type": "contour"
           }
          ],
          "heatmapgl": [
           {
            "colorbar": {
             "outlinewidth": 0,
             "ticks": ""
            },
            "colorscale": [
             [
              0.0,
              "#0d0887"
             ],
             [
              0.1111111111111111,
              "#46039f"
             ],
             [
              0.2222222222222222,
              "#7201a8"
             ],
             [
              0.3333333333333333,
              "#9c179e"
             ],
             [
              0.4444444444444444,
              "#bd3786"
             ],
             [
              0.5555555555555556,
              "#d8576b"
             ],
             [
              0.6666666666666666,
              "#ed7953"
             ],
             [
              0.7777777777777778,
              "#fb9f3a"
             ],
             [
              0.8888888888888888,
              "#fdca26"
             ],
             [
              1.0,
              "#f0f921"
             ]
            ],
            "type": "heatmapgl"
           }
          ],
          "heatmap": [
           {
            "colorbar": {
             "outlinewidth": 0,
             "ticks": ""
            },
            "colorscale": [
             [
              0.0,
              "#0d0887"
             ],
             [
              0.1111111111111111,
              "#46039f"
             ],
             [
              0.2222222222222222,
              "#7201a8"
             ],
             [
              0.3333333333333333,
              "#9c179e"
             ],
             [
              0.4444444444444444,
              "#bd3786"
             ],
             [
              0.5555555555555556,
              "#d8576b"
             ],
             [
              0.6666666666666666,
              "#ed7953"
             ],
             [
              0.7777777777777778,
              "#fb9f3a"
             ],
             [
              0.8888888888888888,
              "#fdca26"
             ],
             [
              1.0,
              "#f0f921"
             ]
            ],
            "type": "heatmap"
           }
          ],
          "histogram2dcontour": [
           {
            "colorbar": {
             "outlinewidth": 0,
             "ticks": ""
            },
            "colorscale": [
             [
              0.0,
              "#0d0887"
             ],
             [
              0.1111111111111111,
              "#46039f"
             ],
             [
              0.2222222222222222,
              "#7201a8"
             ],
             [
              0.3333333333333333,
              "#9c179e"
             ],
             [
              0.4444444444444444,
              "#bd3786"
             ],
             [
              0.5555555555555556,
              "#d8576b"
             ],
             [
              0.6666666666666666,
              "#ed7953"
             ],
             [
              0.7777777777777778,
              "#fb9f3a"
             ],
             [
              0.8888888888888888,
              "#fdca26"
             ],
             [
              1.0,
              "#f0f921"
             ]
            ],
            "type": "histogram2dcontour"
           }
          ],
          "histogram2d": [
           {
            "colorbar": {
             "outlinewidth": 0,
             "ticks": ""
            },
            "colorscale": [
             [
              0.0,
              "#0d0887"
             ],
             [
              0.1111111111111111,
              "#46039f"
             ],
             [
              0.2222222222222222,
              "#7201a8"
             ],
             [
              0.3333333333333333,
              "#9c179e"
             ],
             [
              0.4444444444444444,
              "#bd3786"
             ],
             [
              0.5555555555555556,
              "#d8576b"
             ],
             [
              0.6666666666666666,
              "#ed7953"
             ],
             [
              0.7777777777777778,
              "#fb9f3a"
             ],
             [
              0.8888888888888888,
              "#fdca26"
             ],
             [
              1.0,
              "#f0f921"
             ]
            ],
            "type": "histogram2d"
           }
          ],
          "histogram": [
           {
            "marker": {
             "pattern": {
              "fillmode": "overlay",
              "size": 10,
              "solidity": 0.2
             }
            },
            "type": "histogram"
           }
          ],
          "mesh3d": [
           {
            "colorbar": {
             "outlinewidth": 0,
             "ticks": ""
            },
            "type": "mesh3d"
           }
          ],
          "parcoords": [
           {
            "line": {
             "colorbar": {
              "outlinewidth": 0,
              "ticks": ""
             }
            },
            "type": "parcoords"
           }
          ],
          "pie": [
           {
            "automargin": true,
            "type": "pie"
           }
          ],
          "scatter3d": [
           {
            "line": {
             "colorbar": {
              "outlinewidth": 0,
              "ticks": ""
             }
            },
            "marker": {
             "colorbar": {
              "outlinewidth": 0,
              "ticks": ""
             }
            },
            "type": "scatter3d"
           }
          ],
          "scattercarpet": [
           {
            "marker": {
             "colorbar": {
              "outlinewidth": 0,
              "ticks": ""
             }
            },
            "type": "scattercarpet"
           }
          ],
          "scattergeo": [
           {
            "marker": {
             "colorbar": {
              "outlinewidth": 0,
              "ticks": ""
             }
            },
            "type": "scattergeo"
           }
          ],
          "scattergl": [
           {
            "marker": {
             "line": {
              "color": "#283442"
             }
            },
            "type": "scattergl"
           }
          ],
          "scattermapbox": [
           {
            "marker": {
             "colorbar": {
              "outlinewidth": 0,
              "ticks": ""
             }
            },
            "type": "scattermapbox"
           }
          ],
          "scatterpolargl": [
           {
            "marker": {
             "colorbar": {
              "outlinewidth": 0,
              "ticks": ""
             }
            },
            "type": "scatterpolargl"
           }
          ],
          "scatterpolar": [
           {
            "marker": {
             "colorbar": {
              "outlinewidth": 0,
              "ticks": ""
             }
            },
            "type": "scatterpolar"
           }
          ],
          "scatter": [
           {
            "marker": {
             "line": {
              "color": "#283442"
             }
            },
            "type": "scatter"
           }
          ],
          "scatterternary": [
           {
            "marker": {
             "colorbar": {
              "outlinewidth": 0,
              "ticks": ""
             }
            },
            "type": "scatterternary"
           }
          ],
          "surface": [
           {
            "colorbar": {
             "outlinewidth": 0,
             "ticks": ""
            },
            "colorscale": [
             [
              0.0,
              "#0d0887"
             ],
             [
              0.1111111111111111,
              "#46039f"
             ],
             [
              0.2222222222222222,
              "#7201a8"
             ],
             [
              0.3333333333333333,
              "#9c179e"
             ],
             [
              0.4444444444444444,
              "#bd3786"
             ],
             [
              0.5555555555555556,
              "#d8576b"
             ],
             [
              0.6666666666666666,
              "#ed7953"
             ],
             [
              0.7777777777777778,
              "#fb9f3a"
             ],
             [
              0.8888888888888888,
              "#fdca26"
             ],
             [
              1.0,
              "#f0f921"
             ]
            ],
            "type": "surface"
           }
          ],
          "table": [
           {
            "cells": {
             "fill": {
              "color": "#506784"
             },
             "line": {
              "color": "rgb(17,17,17)"
             }
            },
            "header": {
             "fill": {
              "color": "#2a3f5f"
             },
             "line": {
              "color": "rgb(17,17,17)"
             }
            },
            "type": "table"
           }
          ]
         },
         "layout": {
          "annotationdefaults": {
           "arrowcolor": "#f2f5fa",
           "arrowhead": 0,
           "arrowwidth": 1
          },
          "autotypenumbers": "strict",
          "coloraxis": {
           "colorbar": {
            "outlinewidth": 0,
            "ticks": ""
           }
          },
          "colorscale": {
           "diverging": [
            [
             0,
             "#8e0152"
            ],
            [
             0.1,
             "#c51b7d"
            ],
            [
             0.2,
             "#de77ae"
            ],
            [
             0.3,
             "#f1b6da"
            ],
            [
             0.4,
             "#fde0ef"
            ],
            [
             0.5,
             "#f7f7f7"
            ],
            [
             0.6,
             "#e6f5d0"
            ],
            [
             0.7,
             "#b8e186"
            ],
            [
             0.8,
             "#7fbc41"
            ],
            [
             0.9,
             "#4d9221"
            ],
            [
             1,
             "#276419"
            ]
           ],
           "sequential": [
            [
             0.0,
             "#0d0887"
            ],
            [
             0.1111111111111111,
             "#46039f"
            ],
            [
             0.2222222222222222,
             "#7201a8"
            ],
            [
             0.3333333333333333,
             "#9c179e"
            ],
            [
             0.4444444444444444,
             "#bd3786"
            ],
            [
             0.5555555555555556,
             "#d8576b"
            ],
            [
             0.6666666666666666,
             "#ed7953"
            ],
            [
             0.7777777777777778,
             "#fb9f3a"
            ],
            [
             0.8888888888888888,
             "#fdca26"
            ],
            [
             1.0,
             "#f0f921"
            ]
           ],
           "sequentialminus": [
            [
             0.0,
             "#0d0887"
            ],
            [
             0.1111111111111111,
             "#46039f"
            ],
            [
             0.2222222222222222,
             "#7201a8"
            ],
            [
             0.3333333333333333,
             "#9c179e"
            ],
            [
             0.4444444444444444,
             "#bd3786"
            ],
            [
             0.5555555555555556,
             "#d8576b"
            ],
            [
             0.6666666666666666,
             "#ed7953"
            ],
            [
             0.7777777777777778,
             "#fb9f3a"
            ],
            [
             0.8888888888888888,
             "#fdca26"
            ],
            [
             1.0,
             "#f0f921"
            ]
           ]
          },
          "colorway": [
           "#636efa",
           "#EF553B",
           "#00cc96",
           "#ab63fa",
           "#FFA15A",
           "#19d3f3",
           "#FF6692",
           "#B6E880",
           "#FF97FF",
           "#FECB52"
          ],
          "font": {
           "color": "#f2f5fa"
          },
          "geo": {
           "bgcolor": "rgb(17,17,17)",
           "lakecolor": "rgb(17,17,17)",
           "landcolor": "rgb(17,17,17)",
           "showlakes": true,
           "showland": true,
           "subunitcolor": "#506784"
          },
          "hoverlabel": {
           "align": "left"
          },
          "hovermode": "closest",
          "mapbox": {
           "style": "dark"
          },
          "paper_bgcolor": "rgb(17,17,17)",
          "plot_bgcolor": "rgb(17,17,17)",
          "polar": {
           "angularaxis": {
            "gridcolor": "#506784",
            "linecolor": "#506784",
            "ticks": ""
           },
           "bgcolor": "rgb(17,17,17)",
           "radialaxis": {
            "gridcolor": "#506784",
            "linecolor": "#506784",
            "ticks": ""
           }
          },
          "scene": {
           "xaxis": {
            "backgroundcolor": "rgb(17,17,17)",
            "gridcolor": "#506784",
            "gridwidth": 2,
            "linecolor": "#506784",
            "showbackground": true,
            "ticks": "",
            "zerolinecolor": "#C8D4E3"
           },
           "yaxis": {
            "backgroundcolor": "rgb(17,17,17)",
            "gridcolor": "#506784",
            "gridwidth": 2,
            "linecolor": "#506784",
            "showbackground": true,
            "ticks": "",
            "zerolinecolor": "#C8D4E3"
           },
           "zaxis": {
            "backgroundcolor": "rgb(17,17,17)",
            "gridcolor": "#506784",
            "gridwidth": 2,
            "linecolor": "#506784",
            "showbackground": true,
            "ticks": "",
            "zerolinecolor": "#C8D4E3"
           }
          },
          "shapedefaults": {
           "line": {
            "color": "#f2f5fa"
           }
          },
          "sliderdefaults": {
           "bgcolor": "#C8D4E3",
           "bordercolor": "rgb(17,17,17)",
           "borderwidth": 1,
           "tickwidth": 0
          },
          "ternary": {
           "aaxis": {
            "gridcolor": "#506784",
            "linecolor": "#506784",
            "ticks": ""
           },
           "baxis": {
            "gridcolor": "#506784",
            "linecolor": "#506784",
            "ticks": ""
           },
           "bgcolor": "rgb(17,17,17)",
           "caxis": {
            "gridcolor": "#506784",
            "linecolor": "#506784",
            "ticks": ""
           }
          },
          "title": {
           "x": 0.05
          },
          "updatemenudefaults": {
           "bgcolor": "#506784",
           "borderwidth": 0
          },
          "xaxis": {
           "automargin": true,
           "gridcolor": "#283442",
           "linecolor": "#506784",
           "ticks": "",
           "title": {
            "standoff": 15
           },
           "zerolinecolor": "#283442",
           "zerolinewidth": 2
          },
          "yaxis": {
           "automargin": true,
           "gridcolor": "#283442",
           "linecolor": "#506784",
           "ticks": "",
           "title": {
            "standoff": 15
           },
           "zerolinecolor": "#283442",
           "zerolinewidth": 2
          }
         }
        },
        "xaxis": {
         "anchor": "y",
         "domain": [
          0.0,
          0.49
         ],
         "title": {
          "text": "Center H (Rank)"
         }
        },
        "yaxis": {
         "anchor": "x",
         "domain": [
          0.0,
          0.7326
         ],
         "title": {
          "text": "count"
         }
        },
        "xaxis2": {
         "anchor": "y2",
         "domain": [
          0.51,
          1.0
         ],
         "matches": "x",
         "title": {
          "text": "Center H (Rank)"
         }
        },
        "yaxis2": {
         "anchor": "x2",
         "domain": [
          0.0,
          0.7326
         ],
         "matches": "y",
         "showticklabels": false
        },
        "xaxis3": {
         "anchor": "y3",
         "domain": [
          0.0,
          0.49
         ],
         "matches": "x",
         "showticklabels": false,
         "showgrid": true
        },
        "yaxis3": {
         "anchor": "x3",
         "domain": [
          0.7426,
          1.0
         ],
         "matches": "y3",
         "showticklabels": false,
         "showline": false,
         "ticks": "",
         "showgrid": false
        },
        "xaxis4": {
         "anchor": "y4",
         "domain": [
          0.51,
          1.0
         ],
         "matches": "x",
         "showticklabels": false,
         "showgrid": true
        },
        "yaxis4": {
         "anchor": "x4",
         "domain": [
          0.7426,
          1.0
         ],
         "matches": "y3",
         "showticklabels": false,
         "showline": false,
         "ticks": "",
         "showgrid": false
        },
        "annotations": [
         {
          "font": {},
          "showarrow": false,
          "text": "Center V≥75=False",
          "x": 0.245,
          "xanchor": "center",
          "xref": "paper",
          "y": 1.0,
          "yanchor": "bottom",
          "yref": "paper"
         },
         {
          "font": {},
          "showarrow": false,
          "text": "Center V≥75=True",
          "x": 0.755,
          "xanchor": "center",
          "xref": "paper",
          "y": 1.0,
          "yanchor": "bottom",
          "yref": "paper"
         }
        ],
        "legend": {
         "title": {
          "text": "Conjunctiva cluster"
         },
         "tracegroupgap": 0
        },
        "margin": {
         "t": 20,
         "l": 20,
         "r": 20,
         "b": 20
        },
        "barmode": "group",
        "bargap": 0.04,
        "font": {
         "family": "Arial",
         "size": 16
        }
       },
       "config": {
        "plotlyServerURL": "https://plot.ly"
       }
      },
      "text/html": "<div>                            <div id=\"ef516ab4-3c38-468e-8cf4-67358cc3f83b\" class=\"plotly-graph-div\" style=\"height:525px; width:100%;\"></div>            <script type=\"text/javascript\">                require([\"plotly\"], function(Plotly) {                    window.PLOTLYENV=window.PLOTLYENV || {};                                    if (document.getElementById(\"ef516ab4-3c38-468e-8cf4-67358cc3f83b\")) {                    Plotly.newPlot(                        \"ef516ab4-3c38-468e-8cf4-67358cc3f83b\",                        [{\"alignmentgroup\":\"True\",\"bingroup\":\"x\",\"hovertemplate\":\"Conjunctiva cluster=False<br>Center V\\u226575=False<br>Center H (Rank)=%{x}<br>count=%{y}<extra></extra>\",\"legendgroup\":\"False\",\"marker\":{\"color\":\"#EF553B\",\"opacity\":0.6,\"pattern\":{\"shape\":\"\"}},\"name\":\"False\",\"offsetgroup\":\"False\",\"orientation\":\"v\",\"showlegend\":true,\"x\":[9,7,5,8,9,3,9,4,7,10,8,7,9,8,6,7,9,8,10,8,10,10,6,9,8,5,10,8,7,10,8,7,10,8,9,8,10,3,7,10,9,7,10,9,7,6,10,8,7,9,10,7,8,10,7,7,9,6,8,8,10,9,8,9,10,7,10,9,8,6,9,10,7,2,8,10,7,6,8,10,1,5,10,2,9,8,6,7,10,8,6,7,9,10,6,10,6,7,4,10,5,1,10,7,3,6,10,4,6,8,3,10,7,5,6,10,5,7,3,10,7,8,10,9,6,7,5,1,8,10,6,1,10,7,1,9,7,2,10,6,8,8,10,7,10,6,7,1,10,8,1,10,8,6,1,5,8,7,9,7,6,10,3,1,9,8,6,7,5,9,10,6,10,8,6,5,9,1,10,7,6,4,1,8,9,5,10,8,5,5,10,8,4,1,5,6,10,5,7,8,9,8,10,5,10,6,4,2,10,7,9,10,7,4,10,6,4,5,10,9,5,7,10,6,4,7,1,5,9,10,6,1,9,6,8,5,1,10,7,7,8,4,10,5,6,7,1,7,5,8,6,9,6,8,5,9,3,8,3,10,4,8,8,10,6,9,7,9,6,7,8,8,10,1,9,5,6,8,9,1,9,7,4,10,8,8,10,6,7,9,10,8,6,7,10,9,7,1,9,7,4,8,7,9,5,1,8,9,7,8,9,8,10,7,10,5,6,9,2,10,8,8,8,7,9,8,5,10,8,9,8,3,1,5,10,4,10,3,4,6,9,1,7,9,10,8,3,8,1,10,1,9,5,8,9,7,3,10,1,4,7,1,1,1,5,6,10,1,10,7,5,10,1,6,9,4,7,10,4,1,10,10,8,6,1,7,5,10,10,3,7,2,5,10,10,3,4,9,7,10,7,9,2,1,10,5,9,6,1,4,2,1,10,4,1,5,10,9,10,1,2,1,6,10,10,4,9,10,9,1,3,7,9,1,9,9,2,3,5,5,10,9,1,4,3],\"xaxis\":\"x\",\"yaxis\":\"y\",\"type\":\"histogram\"},{\"alignmentgroup\":\"True\",\"hovertemplate\":\"Conjunctiva cluster=False<br>Center V\\u226575=False<br>Center H (Rank)=%{x}<extra></extra>\",\"legendgroup\":\"False\",\"marker\":{\"color\":\"#EF553B\"},\"name\":\"False\",\"notched\":true,\"offsetgroup\":\"False\",\"showlegend\":false,\"x\":[9,7,5,8,9,3,9,4,7,10,8,7,9,8,6,7,9,8,10,8,10,10,6,9,8,5,10,8,7,10,8,7,10,8,9,8,10,3,7,10,9,7,10,9,7,6,10,8,7,9,10,7,8,10,7,7,9,6,8,8,10,9,8,9,10,7,10,9,8,6,9,10,7,2,8,10,7,6,8,10,1,5,10,2,9,8,6,7,10,8,6,7,9,10,6,10,6,7,4,10,5,1,10,7,3,6,10,4,6,8,3,10,7,5,6,10,5,7,3,10,7,8,10,9,6,7,5,1,8,10,6,1,10,7,1,9,7,2,10,6,8,8,10,7,10,6,7,1,10,8,1,10,8,6,1,5,8,7,9,7,6,10,3,1,9,8,6,7,5,9,10,6,10,8,6,5,9,1,10,7,6,4,1,8,9,5,10,8,5,5,10,8,4,1,5,6,10,5,7,8,9,8,10,5,10,6,4,2,10,7,9,10,7,4,10,6,4,5,10,9,5,7,10,6,4,7,1,5,9,10,6,1,9,6,8,5,1,10,7,7,8,4,10,5,6,7,1,7,5,8,6,9,6,8,5,9,3,8,3,10,4,8,8,10,6,9,7,9,6,7,8,8,10,1,9,5,6,8,9,1,9,7,4,10,8,8,10,6,7,9,10,8,6,7,10,9,7,1,9,7,4,8,7,9,5,1,8,9,7,8,9,8,10,7,10,5,6,9,2,10,8,8,8,7,9,8,5,10,8,9,8,3,1,5,10,4,10,3,4,6,9,1,7,9,10,8,3,8,1,10,1,9,5,8,9,7,3,10,1,4,7,1,1,1,5,6,10,1,10,7,5,10,1,6,9,4,7,10,4,1,10,10,8,6,1,7,5,10,10,3,7,2,5,10,10,3,4,9,7,10,7,9,2,1,10,5,9,6,1,4,2,1,10,4,1,5,10,9,10,1,2,1,6,10,10,4,9,10,9,1,3,7,9,1,9,9,2,3,5,5,10,9,1,4,3],\"xaxis\":\"x3\",\"yaxis\":\"y3\",\"type\":\"box\"},{\"alignmentgroup\":\"True\",\"bingroup\":\"x\",\"hovertemplate\":\"Conjunctiva cluster=False<br>Center V\\u226575=True<br>Center H (Rank)=%{x}<br>count=%{y}<extra></extra>\",\"legendgroup\":\"False\",\"marker\":{\"color\":\"#EF553B\",\"opacity\":0.6,\"pattern\":{\"shape\":\"\"}},\"name\":\"False\",\"offsetgroup\":\"False\",\"orientation\":\"v\",\"showlegend\":false,\"x\":[3,6,10,8,4,6,7,10,5,1,6,2,8,5,4,5,9,6,4,3,10,7,5,6,4,8,5,1,10,7,9,4,6,2,5,7,9,4,5,3,6,8,4,2,9,7,1,5,6,4,2,7,3,7,8,6,2,4,1,10,3,9,4,6,2,5,3,9,6,7,5,3,4,1,5,4,6,1,2,5,6,4,3,2,4,8,5,5,3,1,2,9,4,8,1,2,3,5,6,9,1,3,3,2,5,10,6,7,2,4,1,6,3,4,1,5,2,1,3,4,3,6,8,1,3,4,2,5,7,9,5,3,4,7,6,4,9,3,3,4,5,5,3,2,8,4,5,7,9,3,4,3,8,5,1,7,8,6,9,2,5,8,6,3,9,4,8,4,7,9,2,1,5,9,10,2,7,6,8,9,1,8,9,3,1,9,4,6,1,8,2,4,7,9,3,2,8,4,6,3,2,5,6,3,2,10,7,5,4,9,1,9,4,3,5,2,8,9,4,5,2,9,4,6,7,5,3,3,7,9,2,9,10,4,2,8,4,2,4,10,3,5,7,8,4,3,4,7,3,1,9,5,3,10,4,2,6,3,4,7,9,2,6,9,7,2,3,8,3,9,10,4,9,4,3,1,7,4,2,6,3,5,7,9,3,8,2,4,5,8,3,6,6,8,3,9,2,1,9,7,2,1,8,4,6,3,2,8,9,5,2,1,7,8,3,4,10,3,2,4,6,8,9,3,2,5,9,6,2,3,9,3,2,8,9,10,3,4,10,7,2,6,5,10,7,1,5,9,6,2,4,7,2,5,9,8,10,5,6,3,4,1,10,3,4,2,7,4,6,3,5,1,8,3,4,7,7,6,4,3,2,1,6,3,10,5,6,7,4,9,2,1,4,9,3,2,8,3,6,10,2,5,3,5,2,6,3,2,5,1,6,3,8,2,10,2,3,6,1,5,6,3,2,10,4,5,6,7,2,3,5,2,3,4,1,7,2,3,1,5,6,7,4,3,1,9,6,10,2,4,7,5,9,10,6,3,4,1,6,10,2,3,1,5,9,4,6,2,3,5,3,4,7,1,10,7,9,6,8,2,8,6,1,5,2,3,9,2,10,7,9,5,8,1,3,10,7,8,5,4,1,8,9,5,4,3,8,3,5,6,7,1,9,10,6,2,3,5,9,6,5,10,2,1,4,5,4,7,3,6,2,6,4,10,8,10,5,4,1,8,9,6,4,7,1,8,10,6,5,3,2,5,10,9,6,7,2,3,5,10,6,8,4,9,2,10,9,7,4,6,3,2,3,4,2,7,8,5,1,8,3,5,4,2,8,7,3,6,2,4,1,3,10,9,7,5,4,2,2,6,8,3,4,7,10,1,8,9,10,5,2,6,3,2,3,6,7,9,8,2,3,8,6,7,5,9,6,9,5,7,4,1,9,10,3,5,2,2,3,9,7,4,1,9,1,6,2,9,7,6,4,8,1,5,8,4,2,9,1,6,5,3,10,1,2,4,8,1,6,8,1,10,4,7,8,4,3,2,8,10,6,5,7,6,8,7,3,2,8,6,7,4,7,4,8,6,5,9,3,7,4,6,7,5,8,1,7,8,4,6,2,1,2,4,10,5,3,4,6,10,8,2,8,7,6,10,9,3,4,6,2,1,7,5,8,10],\"xaxis\":\"x2\",\"yaxis\":\"y2\",\"type\":\"histogram\"},{\"alignmentgroup\":\"True\",\"hovertemplate\":\"Conjunctiva cluster=False<br>Center V\\u226575=True<br>Center H (Rank)=%{x}<extra></extra>\",\"legendgroup\":\"False\",\"marker\":{\"color\":\"#EF553B\"},\"name\":\"False\",\"notched\":true,\"offsetgroup\":\"False\",\"showlegend\":false,\"x\":[3,6,10,8,4,6,7,10,5,1,6,2,8,5,4,5,9,6,4,3,10,7,5,6,4,8,5,1,10,7,9,4,6,2,5,7,9,4,5,3,6,8,4,2,9,7,1,5,6,4,2,7,3,7,8,6,2,4,1,10,3,9,4,6,2,5,3,9,6,7,5,3,4,1,5,4,6,1,2,5,6,4,3,2,4,8,5,5,3,1,2,9,4,8,1,2,3,5,6,9,1,3,3,2,5,10,6,7,2,4,1,6,3,4,1,5,2,1,3,4,3,6,8,1,3,4,2,5,7,9,5,3,4,7,6,4,9,3,3,4,5,5,3,2,8,4,5,7,9,3,4,3,8,5,1,7,8,6,9,2,5,8,6,3,9,4,8,4,7,9,2,1,5,9,10,2,7,6,8,9,1,8,9,3,1,9,4,6,1,8,2,4,7,9,3,2,8,4,6,3,2,5,6,3,2,10,7,5,4,9,1,9,4,3,5,2,8,9,4,5,2,9,4,6,7,5,3,3,7,9,2,9,10,4,2,8,4,2,4,10,3,5,7,8,4,3,4,7,3,1,9,5,3,10,4,2,6,3,4,7,9,2,6,9,7,2,3,8,3,9,10,4,9,4,3,1,7,4,2,6,3,5,7,9,3,8,2,4,5,8,3,6,6,8,3,9,2,1,9,7,2,1,8,4,6,3,2,8,9,5,2,1,7,8,3,4,10,3,2,4,6,8,9,3,2,5,9,6,2,3,9,3,2,8,9,10,3,4,10,7,2,6,5,10,7,1,5,9,6,2,4,7,2,5,9,8,10,5,6,3,4,1,10,3,4,2,7,4,6,3,5,1,8,3,4,7,7,6,4,3,2,1,6,3,10,5,6,7,4,9,2,1,4,9,3,2,8,3,6,10,2,5,3,5,2,6,3,2,5,1,6,3,8,2,10,2,3,6,1,5,6,3,2,10,4,5,6,7,2,3,5,2,3,4,1,7,2,3,1,5,6,7,4,3,1,9,6,10,2,4,7,5,9,10,6,3,4,1,6,10,2,3,1,5,9,4,6,2,3,5,3,4,7,1,10,7,9,6,8,2,8,6,1,5,2,3,9,2,10,7,9,5,8,1,3,10,7,8,5,4,1,8,9,5,4,3,8,3,5,6,7,1,9,10,6,2,3,5,9,6,5,10,2,1,4,5,4,7,3,6,2,6,4,10,8,10,5,4,1,8,9,6,4,7,1,8,10,6,5,3,2,5,10,9,6,7,2,3,5,10,6,8,4,9,2,10,9,7,4,6,3,2,3,4,2,7,8,5,1,8,3,5,4,2,8,7,3,6,2,4,1,3,10,9,7,5,4,2,2,6,8,3,4,7,10,1,8,9,10,5,2,6,3,2,3,6,7,9,8,2,3,8,6,7,5,9,6,9,5,7,4,1,9,10,3,5,2,2,3,9,7,4,1,9,1,6,2,9,7,6,4,8,1,5,8,4,2,9,1,6,5,3,10,1,2,4,8,1,6,8,1,10,4,7,8,4,3,2,8,10,6,5,7,6,8,7,3,2,8,6,7,4,7,4,8,6,5,9,3,7,4,6,7,5,8,1,7,8,4,6,2,1,2,4,10,5,3,4,6,10,8,2,8,7,6,10,9,3,4,6,2,1,7,5,8,10],\"xaxis\":\"x4\",\"yaxis\":\"y4\",\"type\":\"box\"},{\"alignmentgroup\":\"True\",\"bingroup\":\"x\",\"hovertemplate\":\"Conjunctiva cluster=Maybe<br>Center V\\u226575=True<br>Center H (Rank)=%{x}<br>count=%{y}<extra></extra>\",\"legendgroup\":\"Maybe\",\"marker\":{\"color\":\"#636EFA\",\"opacity\":0.6,\"pattern\":{\"shape\":\"\"}},\"name\":\"Maybe\",\"offsetgroup\":\"Maybe\",\"orientation\":\"v\",\"showlegend\":true,\"x\":[2,4,5,6,2,3,2,5,3,4,8,6,3,3,5,1,6,2,3,7,3,10,8,5,1,4,4,3,2,4,7,7,5,3,8,4,6,3,5,3,3,8,7,7,6],\"xaxis\":\"x2\",\"yaxis\":\"y2\",\"type\":\"histogram\"},{\"alignmentgroup\":\"True\",\"hovertemplate\":\"Conjunctiva cluster=Maybe<br>Center V\\u226575=True<br>Center H (Rank)=%{x}<extra></extra>\",\"legendgroup\":\"Maybe\",\"marker\":{\"color\":\"#636EFA\"},\"name\":\"Maybe\",\"notched\":true,\"offsetgroup\":\"Maybe\",\"showlegend\":false,\"x\":[2,4,5,6,2,3,2,5,3,4,8,6,3,3,5,1,6,2,3,7,3,10,8,5,1,4,4,3,2,4,7,7,5,3,8,4,6,3,5,3,3,8,7,7,6],\"xaxis\":\"x4\",\"yaxis\":\"y4\",\"type\":\"box\"},{\"alignmentgroup\":\"True\",\"bingroup\":\"x\",\"hovertemplate\":\"Conjunctiva cluster=True<br>Center V\\u226575=True<br>Center H (Rank)=%{x}<br>count=%{y}<extra></extra>\",\"legendgroup\":\"True\",\"marker\":{\"color\":\"#00CC96\",\"opacity\":0.6,\"pattern\":{\"shape\":\"\"}},\"name\":\"True\",\"offsetgroup\":\"True\",\"orientation\":\"v\",\"showlegend\":true,\"x\":[2,1,4,2,3,1,10,3,1,1,2,2,3,3,1,2,1,5,3,10,1,3,9,5,1,1,2,6,2,9,2,8,3,1,1,6,4,6,4,2,4,1,3,5,2,5,7,5,4,1,9,2,1,8,2,10,1,4,1,1,2,9,1,3,2,5,1,4,2,4,2,1,5,9,5,4,3,1,1,2,4,5,6,1,2,2,2,8,2,7,3,1,1,7,2,6,1,1,1,5,3,1,8,2,4,5,1,10,1,4,2,4,3,1,2,4,7,1,1,2,5,1,9,2,2,5,10,2,3,7,5,4,1,9,1,8,10,5,4,4,10,1,6,9,4,8,9,1,5,2,7,4,1,7,2,6,4,7,6,2,6,10,2,4,1,7,9,8,3,2,3,6,2,5,2,9,4,8,7,3,8,9,6,9,9,8,5,1,1,4,2,4,8,6,5,8,3,6,7,2,8,5,3,9,5,7,3,9,9,2,5,9,8,2,3,2,3,5,6,5,4,1,8,2],\"xaxis\":\"x2\",\"yaxis\":\"y2\",\"type\":\"histogram\"},{\"alignmentgroup\":\"True\",\"hovertemplate\":\"Conjunctiva cluster=True<br>Center V\\u226575=True<br>Center H (Rank)=%{x}<extra></extra>\",\"legendgroup\":\"True\",\"marker\":{\"color\":\"#00CC96\"},\"name\":\"True\",\"notched\":true,\"offsetgroup\":\"True\",\"showlegend\":false,\"x\":[2,1,4,2,3,1,10,3,1,1,2,2,3,3,1,2,1,5,3,10,1,3,9,5,1,1,2,6,2,9,2,8,3,1,1,6,4,6,4,2,4,1,3,5,2,5,7,5,4,1,9,2,1,8,2,10,1,4,1,1,2,9,1,3,2,5,1,4,2,4,2,1,5,9,5,4,3,1,1,2,4,5,6,1,2,2,2,8,2,7,3,1,1,7,2,6,1,1,1,5,3,1,8,2,4,5,1,10,1,4,2,4,3,1,2,4,7,1,1,2,5,1,9,2,2,5,10,2,3,7,5,4,1,9,1,8,10,5,4,4,10,1,6,9,4,8,9,1,5,2,7,4,1,7,2,6,4,7,6,2,6,10,2,4,1,7,9,8,3,2,3,6,2,5,2,9,4,8,7,3,8,9,6,9,9,8,5,1,1,4,2,4,8,6,5,8,3,6,7,2,8,5,3,9,5,7,3,9,9,2,5,9,8,2,3,2,3,5,6,5,4,1,8,2],\"xaxis\":\"x4\",\"yaxis\":\"y4\",\"type\":\"box\"}],                        {\"template\":{\"data\":{\"barpolar\":[{\"marker\":{\"line\":{\"color\":\"rgb(17,17,17)\",\"width\":0.5},\"pattern\":{\"fillmode\":\"overlay\",\"size\":10,\"solidity\":0.2}},\"type\":\"barpolar\"}],\"bar\":[{\"error_x\":{\"color\":\"#f2f5fa\"},\"error_y\":{\"color\":\"#f2f5fa\"},\"marker\":{\"line\":{\"color\":\"rgb(17,17,17)\",\"width\":0.5},\"pattern\":{\"fillmode\":\"overlay\",\"size\":10,\"solidity\":0.2}},\"type\":\"bar\"}],\"carpet\":[{\"aaxis\":{\"endlinecolor\":\"#A2B1C6\",\"gridcolor\":\"#506784\",\"linecolor\":\"#506784\",\"minorgridcolor\":\"#506784\",\"startlinecolor\":\"#A2B1C6\"},\"baxis\":{\"endlinecolor\":\"#A2B1C6\",\"gridcolor\":\"#506784\",\"linecolor\":\"#506784\",\"minorgridcolor\":\"#506784\",\"startlinecolor\":\"#A2B1C6\"},\"type\":\"carpet\"}],\"choropleth\":[{\"colorbar\":{\"outlinewidth\":0,\"ticks\":\"\"},\"type\":\"choropleth\"}],\"contourcarpet\":[{\"colorbar\":{\"outlinewidth\":0,\"ticks\":\"\"},\"type\":\"contourcarpet\"}],\"contour\":[{\"colorbar\":{\"outlinewidth\":0,\"ticks\":\"\"},\"colorscale\":[[0.0,\"#0d0887\"],[0.1111111111111111,\"#46039f\"],[0.2222222222222222,\"#7201a8\"],[0.3333333333333333,\"#9c179e\"],[0.4444444444444444,\"#bd3786\"],[0.5555555555555556,\"#d8576b\"],[0.6666666666666666,\"#ed7953\"],[0.7777777777777778,\"#fb9f3a\"],[0.8888888888888888,\"#fdca26\"],[1.0,\"#f0f921\"]],\"type\":\"contour\"}],\"heatmapgl\":[{\"colorbar\":{\"outlinewidth\":0,\"ticks\":\"\"},\"colorscale\":[[0.0,\"#0d0887\"],[0.1111111111111111,\"#46039f\"],[0.2222222222222222,\"#7201a8\"],[0.3333333333333333,\"#9c179e\"],[0.4444444444444444,\"#bd3786\"],[0.5555555555555556,\"#d8576b\"],[0.6666666666666666,\"#ed7953\"],[0.7777777777777778,\"#fb9f3a\"],[0.8888888888888888,\"#fdca26\"],[1.0,\"#f0f921\"]],\"type\":\"heatmapgl\"}],\"heatmap\":[{\"colorbar\":{\"outlinewidth\":0,\"ticks\":\"\"},\"colorscale\":[[0.0,\"#0d0887\"],[0.1111111111111111,\"#46039f\"],[0.2222222222222222,\"#7201a8\"],[0.3333333333333333,\"#9c179e\"],[0.4444444444444444,\"#bd3786\"],[0.5555555555555556,\"#d8576b\"],[0.6666666666666666,\"#ed7953\"],[0.7777777777777778,\"#fb9f3a\"],[0.8888888888888888,\"#fdca26\"],[1.0,\"#f0f921\"]],\"type\":\"heatmap\"}],\"histogram2dcontour\":[{\"colorbar\":{\"outlinewidth\":0,\"ticks\":\"\"},\"colorscale\":[[0.0,\"#0d0887\"],[0.1111111111111111,\"#46039f\"],[0.2222222222222222,\"#7201a8\"],[0.3333333333333333,\"#9c179e\"],[0.4444444444444444,\"#bd3786\"],[0.5555555555555556,\"#d8576b\"],[0.6666666666666666,\"#ed7953\"],[0.7777777777777778,\"#fb9f3a\"],[0.8888888888888888,\"#fdca26\"],[1.0,\"#f0f921\"]],\"type\":\"histogram2dcontour\"}],\"histogram2d\":[{\"colorbar\":{\"outlinewidth\":0,\"ticks\":\"\"},\"colorscale\":[[0.0,\"#0d0887\"],[0.1111111111111111,\"#46039f\"],[0.2222222222222222,\"#7201a8\"],[0.3333333333333333,\"#9c179e\"],[0.4444444444444444,\"#bd3786\"],[0.5555555555555556,\"#d8576b\"],[0.6666666666666666,\"#ed7953\"],[0.7777777777777778,\"#fb9f3a\"],[0.8888888888888888,\"#fdca26\"],[1.0,\"#f0f921\"]],\"type\":\"histogram2d\"}],\"histogram\":[{\"marker\":{\"pattern\":{\"fillmode\":\"overlay\",\"size\":10,\"solidity\":0.2}},\"type\":\"histogram\"}],\"mesh3d\":[{\"colorbar\":{\"outlinewidth\":0,\"ticks\":\"\"},\"type\":\"mesh3d\"}],\"parcoords\":[{\"line\":{\"colorbar\":{\"outlinewidth\":0,\"ticks\":\"\"}},\"type\":\"parcoords\"}],\"pie\":[{\"automargin\":true,\"type\":\"pie\"}],\"scatter3d\":[{\"line\":{\"colorbar\":{\"outlinewidth\":0,\"ticks\":\"\"}},\"marker\":{\"colorbar\":{\"outlinewidth\":0,\"ticks\":\"\"}},\"type\":\"scatter3d\"}],\"scattercarpet\":[{\"marker\":{\"colorbar\":{\"outlinewidth\":0,\"ticks\":\"\"}},\"type\":\"scattercarpet\"}],\"scattergeo\":[{\"marker\":{\"colorbar\":{\"outlinewidth\":0,\"ticks\":\"\"}},\"type\":\"scattergeo\"}],\"scattergl\":[{\"marker\":{\"line\":{\"color\":\"#283442\"}},\"type\":\"scattergl\"}],\"scattermapbox\":[{\"marker\":{\"colorbar\":{\"outlinewidth\":0,\"ticks\":\"\"}},\"type\":\"scattermapbox\"}],\"scatterpolargl\":[{\"marker\":{\"colorbar\":{\"outlinewidth\":0,\"ticks\":\"\"}},\"type\":\"scatterpolargl\"}],\"scatterpolar\":[{\"marker\":{\"colorbar\":{\"outlinewidth\":0,\"ticks\":\"\"}},\"type\":\"scatterpolar\"}],\"scatter\":[{\"marker\":{\"line\":{\"color\":\"#283442\"}},\"type\":\"scatter\"}],\"scatterternary\":[{\"marker\":{\"colorbar\":{\"outlinewidth\":0,\"ticks\":\"\"}},\"type\":\"scatterternary\"}],\"surface\":[{\"colorbar\":{\"outlinewidth\":0,\"ticks\":\"\"},\"colorscale\":[[0.0,\"#0d0887\"],[0.1111111111111111,\"#46039f\"],[0.2222222222222222,\"#7201a8\"],[0.3333333333333333,\"#9c179e\"],[0.4444444444444444,\"#bd3786\"],[0.5555555555555556,\"#d8576b\"],[0.6666666666666666,\"#ed7953\"],[0.7777777777777778,\"#fb9f3a\"],[0.8888888888888888,\"#fdca26\"],[1.0,\"#f0f921\"]],\"type\":\"surface\"}],\"table\":[{\"cells\":{\"fill\":{\"color\":\"#506784\"},\"line\":{\"color\":\"rgb(17,17,17)\"}},\"header\":{\"fill\":{\"color\":\"#2a3f5f\"},\"line\":{\"color\":\"rgb(17,17,17)\"}},\"type\":\"table\"}]},\"layout\":{\"annotationdefaults\":{\"arrowcolor\":\"#f2f5fa\",\"arrowhead\":0,\"arrowwidth\":1},\"autotypenumbers\":\"strict\",\"coloraxis\":{\"colorbar\":{\"outlinewidth\":0,\"ticks\":\"\"}},\"colorscale\":{\"diverging\":[[0,\"#8e0152\"],[0.1,\"#c51b7d\"],[0.2,\"#de77ae\"],[0.3,\"#f1b6da\"],[0.4,\"#fde0ef\"],[0.5,\"#f7f7f7\"],[0.6,\"#e6f5d0\"],[0.7,\"#b8e186\"],[0.8,\"#7fbc41\"],[0.9,\"#4d9221\"],[1,\"#276419\"]],\"sequential\":[[0.0,\"#0d0887\"],[0.1111111111111111,\"#46039f\"],[0.2222222222222222,\"#7201a8\"],[0.3333333333333333,\"#9c179e\"],[0.4444444444444444,\"#bd3786\"],[0.5555555555555556,\"#d8576b\"],[0.6666666666666666,\"#ed7953\"],[0.7777777777777778,\"#fb9f3a\"],[0.8888888888888888,\"#fdca26\"],[1.0,\"#f0f921\"]],\"sequentialminus\":[[0.0,\"#0d0887\"],[0.1111111111111111,\"#46039f\"],[0.2222222222222222,\"#7201a8\"],[0.3333333333333333,\"#9c179e\"],[0.4444444444444444,\"#bd3786\"],[0.5555555555555556,\"#d8576b\"],[0.6666666666666666,\"#ed7953\"],[0.7777777777777778,\"#fb9f3a\"],[0.8888888888888888,\"#fdca26\"],[1.0,\"#f0f921\"]]},\"colorway\":[\"#636efa\",\"#EF553B\",\"#00cc96\",\"#ab63fa\",\"#FFA15A\",\"#19d3f3\",\"#FF6692\",\"#B6E880\",\"#FF97FF\",\"#FECB52\"],\"font\":{\"color\":\"#f2f5fa\"},\"geo\":{\"bgcolor\":\"rgb(17,17,17)\",\"lakecolor\":\"rgb(17,17,17)\",\"landcolor\":\"rgb(17,17,17)\",\"showlakes\":true,\"showland\":true,\"subunitcolor\":\"#506784\"},\"hoverlabel\":{\"align\":\"left\"},\"hovermode\":\"closest\",\"mapbox\":{\"style\":\"dark\"},\"paper_bgcolor\":\"rgb(17,17,17)\",\"plot_bgcolor\":\"rgb(17,17,17)\",\"polar\":{\"angularaxis\":{\"gridcolor\":\"#506784\",\"linecolor\":\"#506784\",\"ticks\":\"\"},\"bgcolor\":\"rgb(17,17,17)\",\"radialaxis\":{\"gridcolor\":\"#506784\",\"linecolor\":\"#506784\",\"ticks\":\"\"}},\"scene\":{\"xaxis\":{\"backgroundcolor\":\"rgb(17,17,17)\",\"gridcolor\":\"#506784\",\"gridwidth\":2,\"linecolor\":\"#506784\",\"showbackground\":true,\"ticks\":\"\",\"zerolinecolor\":\"#C8D4E3\"},\"yaxis\":{\"backgroundcolor\":\"rgb(17,17,17)\",\"gridcolor\":\"#506784\",\"gridwidth\":2,\"linecolor\":\"#506784\",\"showbackground\":true,\"ticks\":\"\",\"zerolinecolor\":\"#C8D4E3\"},\"zaxis\":{\"backgroundcolor\":\"rgb(17,17,17)\",\"gridcolor\":\"#506784\",\"gridwidth\":2,\"linecolor\":\"#506784\",\"showbackground\":true,\"ticks\":\"\",\"zerolinecolor\":\"#C8D4E3\"}},\"shapedefaults\":{\"line\":{\"color\":\"#f2f5fa\"}},\"sliderdefaults\":{\"bgcolor\":\"#C8D4E3\",\"bordercolor\":\"rgb(17,17,17)\",\"borderwidth\":1,\"tickwidth\":0},\"ternary\":{\"aaxis\":{\"gridcolor\":\"#506784\",\"linecolor\":\"#506784\",\"ticks\":\"\"},\"baxis\":{\"gridcolor\":\"#506784\",\"linecolor\":\"#506784\",\"ticks\":\"\"},\"bgcolor\":\"rgb(17,17,17)\",\"caxis\":{\"gridcolor\":\"#506784\",\"linecolor\":\"#506784\",\"ticks\":\"\"}},\"title\":{\"x\":0.05},\"updatemenudefaults\":{\"bgcolor\":\"#506784\",\"borderwidth\":0},\"xaxis\":{\"automargin\":true,\"gridcolor\":\"#283442\",\"linecolor\":\"#506784\",\"ticks\":\"\",\"title\":{\"standoff\":15},\"zerolinecolor\":\"#283442\",\"zerolinewidth\":2},\"yaxis\":{\"automargin\":true,\"gridcolor\":\"#283442\",\"linecolor\":\"#506784\",\"ticks\":\"\",\"title\":{\"standoff\":15},\"zerolinecolor\":\"#283442\",\"zerolinewidth\":2}}},\"xaxis\":{\"anchor\":\"y\",\"domain\":[0.0,0.49],\"title\":{\"text\":\"Center H (Rank)\"}},\"yaxis\":{\"anchor\":\"x\",\"domain\":[0.0,0.7326],\"title\":{\"text\":\"count\"}},\"xaxis2\":{\"anchor\":\"y2\",\"domain\":[0.51,1.0],\"matches\":\"x\",\"title\":{\"text\":\"Center H (Rank)\"}},\"yaxis2\":{\"anchor\":\"x2\",\"domain\":[0.0,0.7326],\"matches\":\"y\",\"showticklabels\":false},\"xaxis3\":{\"anchor\":\"y3\",\"domain\":[0.0,0.49],\"matches\":\"x\",\"showticklabels\":false,\"showgrid\":true},\"yaxis3\":{\"anchor\":\"x3\",\"domain\":[0.7426,1.0],\"matches\":\"y3\",\"showticklabels\":false,\"showline\":false,\"ticks\":\"\",\"showgrid\":false},\"xaxis4\":{\"anchor\":\"y4\",\"domain\":[0.51,1.0],\"matches\":\"x\",\"showticklabels\":false,\"showgrid\":true},\"yaxis4\":{\"anchor\":\"x4\",\"domain\":[0.7426,1.0],\"matches\":\"y3\",\"showticklabels\":false,\"showline\":false,\"ticks\":\"\",\"showgrid\":false},\"annotations\":[{\"font\":{},\"showarrow\":false,\"text\":\"Center V\\u226575=False\",\"x\":0.245,\"xanchor\":\"center\",\"xref\":\"paper\",\"y\":1.0,\"yanchor\":\"bottom\",\"yref\":\"paper\"},{\"font\":{},\"showarrow\":false,\"text\":\"Center V\\u226575=True\",\"x\":0.755,\"xanchor\":\"center\",\"xref\":\"paper\",\"y\":1.0,\"yanchor\":\"bottom\",\"yref\":\"paper\"}],\"legend\":{\"title\":{\"text\":\"Conjunctiva cluster\"},\"tracegroupgap\":0},\"margin\":{\"t\":20,\"l\":20,\"r\":20,\"b\":20},\"barmode\":\"group\",\"bargap\":0.04,\"font\":{\"family\":\"Arial\",\"size\":16}},                        {\"responsive\": true}                    ).then(function(){\n                            \nvar gd = document.getElementById('ef516ab4-3c38-468e-8cf4-67358cc3f83b');\nvar x = new MutationObserver(function (mutations, observer) {{\n        var display = window.getComputedStyle(gd).display;\n        if (!display || display === 'none') {{\n            console.log([gd, 'removed!']);\n            Plotly.purge(gd);\n            observer.disconnect();\n        }}\n}});\n\n// Listen for the removal of the full notebook cells\nvar notebookContainer = gd.closest('#notebook-container');\nif (notebookContainer) {{\n    x.observe(notebookContainer, {childList: true});\n}}\n\n// Listen for the clearing of the current output cell\nvar outputEl = gd.closest('.output');\nif (outputEl) {{\n    x.observe(outputEl, {childList: true});\n}}\n\n                        })                };                });            </script>        </div>"
     },
     "metadata": {},
     "output_type": "display_data"
    }
   ],
   "source": [
    "fig = px.histogram(all_metrics_flat, x=\"Ranks-Color-Center-H\", marginal=\"box\", opacity=0.6,\n",
    "                   barmode=\"group\",\n",
    "                   facet_col=\"Values-Color-Center-V>=75\",\n",
    "                   color=\"Labels-Value\", color_discrete_map=color_discrete_map,\n",
    "                category_orders=category_orders, labels=var_labels, template=plotly_template)\n",
    "fig.update_layout(bargap=0.04)\n",
    "fig.update_layout(font=dict(family=\"Arial\",size=16,), margin=dict(l=20, r=20, t=20, b=20))\n",
    "fig.show()\n",
    "title = \"HSV histogram with box plot- H rank split at V val>75\"\n",
    "save_plotly_figure(fig, title)"
   ],
   "metadata": {
    "collapsed": false
   }
  },
  {
   "cell_type": "code",
   "execution_count": 35,
   "outputs": [
    {
     "data": {
      "application/vnd.plotly.v1+json": {
       "data": [
        {
         "alignmentgroup": "True",
         "bingroup": "x",
         "hovertemplate": "Conjunctiva cluster=False<br>Center V (Rank)≥4=False<br>Center H (Rank)=%{x}<br>count=%{y}<extra></extra>",
         "legendgroup": "False",
         "marker": {
          "color": "#EF553B",
          "opacity": 0.6,
          "pattern": {
           "shape": ""
          }
         },
         "name": "False",
         "offsetgroup": "False",
         "orientation": "v",
         "showlegend": true,
         "x": [
          9,
          7,
          5,
          8,
          9,
          3,
          9,
          4,
          7,
          10,
          8,
          7,
          9,
          8,
          6,
          7,
          9,
          6,
          8,
          10,
          7,
          8,
          10,
          7,
          10,
          6,
          8,
          9,
          8,
          5,
          5,
          10,
          7,
          8,
          7,
          10,
          10,
          8,
          7,
          10,
          8,
          9,
          8,
          10,
          3,
          10,
          9,
          7,
          10,
          9,
          7,
          10,
          8,
          7,
          9,
          10,
          7,
          8,
          10,
          7,
          7,
          9,
          6,
          8,
          10,
          9,
          8,
          9,
          10,
          10,
          9,
          8,
          9,
          10,
          7,
          8,
          10,
          7,
          8,
          10,
          7,
          1,
          5,
          10,
          2,
          9,
          8,
          10,
          8,
          6,
          10,
          6,
          8,
          10,
          6,
          7,
          4,
          10,
          5,
          1,
          10,
          7,
          3,
          6,
          10,
          4,
          6,
          8,
          3,
          10,
          7,
          6,
          10,
          5,
          3,
          10,
          7,
          10,
          9,
          6,
          1,
          8,
          10,
          1,
          10,
          7,
          1,
          9,
          7,
          2,
          10,
          6,
          8,
          10,
          7,
          10,
          6,
          7,
          1,
          10,
          8,
          1,
          10,
          8,
          1,
          5,
          8,
          9,
          7,
          6,
          1,
          9,
          8,
          5,
          9,
          10,
          10,
          8,
          6,
          1,
          10,
          7,
          1,
          8,
          9,
          10,
          8,
          5,
          5,
          10,
          8,
          1,
          5,
          6,
          10,
          5,
          7,
          9,
          8,
          10,
          10,
          6,
          4,
          2,
          10,
          7,
          10,
          7,
          4,
          10,
          6,
          4,
          10,
          9,
          5,
          10,
          6,
          4,
          1,
          5,
          9,
          1,
          9,
          6,
          1,
          10,
          7,
          7,
          8,
          4,
          10,
          5,
          6,
          1,
          7,
          5,
          9,
          6,
          8,
          9,
          3,
          8,
          3,
          10,
          4,
          8,
          10,
          6,
          9,
          7,
          8,
          9,
          6,
          7,
          8,
          10,
          7,
          1,
          9,
          5,
          8,
          9,
          7,
          1,
          9,
          7,
          10,
          8,
          6,
          8,
          10,
          6,
          7,
          9,
          8,
          10,
          8,
          6,
          10,
          9,
          7,
          1,
          9,
          7,
          8,
          7,
          9,
          1,
          8,
          9,
          8,
          9,
          10,
          8,
          10,
          7,
          10,
          5,
          6,
          2,
          10,
          8,
          8,
          9,
          6,
          8,
          7,
          9,
          9,
          8,
          5,
          10,
          8,
          5,
          9,
          8,
          5,
          3,
          1,
          5,
          4,
          10,
          8,
          3,
          4,
          2,
          6,
          9,
          3,
          1,
          7,
          8,
          9,
          10,
          8,
          8,
          9,
          10,
          3,
          8,
          9,
          1,
          10,
          5,
          1,
          9,
          5,
          9,
          7,
          8,
          3,
          10,
          8,
          1,
          4,
          7,
          1,
          5,
          10,
          1,
          5,
          10,
          1,
          5,
          10,
          6,
          10,
          3,
          1,
          10,
          7,
          5,
          10,
          8,
          1,
          6,
          3,
          9,
          2,
          6,
          4,
          7,
          8,
          10,
          4,
          2,
          1,
          10,
          2,
          10,
          8,
          6,
          6,
          1,
          7,
          5,
          10,
          2,
          10,
          3,
          7,
          2,
          5,
          10,
          10,
          3,
          5,
          4,
          9,
          7,
          10,
          7,
          2,
          9,
          2,
          6,
          1,
          10,
          5,
          1,
          4,
          2,
          1,
          10,
          4,
          1,
          5,
          10,
          10,
          1,
          2,
          1,
          6,
          10,
          10,
          4,
          9,
          10,
          9,
          7,
          1,
          3,
          7,
          1,
          9,
          3,
          9,
          2,
          3,
          5,
          10,
          9,
          9,
          1,
          4
         ],
         "xaxis": "x",
         "yaxis": "y",
         "type": "histogram"
        },
        {
         "alignmentgroup": "True",
         "hovertemplate": "Conjunctiva cluster=False<br>Center V (Rank)≥4=False<br>Center H (Rank)=%{x}<extra></extra>",
         "legendgroup": "False",
         "marker": {
          "color": "#EF553B"
         },
         "name": "False",
         "notched": true,
         "offsetgroup": "False",
         "showlegend": false,
         "x": [
          9,
          7,
          5,
          8,
          9,
          3,
          9,
          4,
          7,
          10,
          8,
          7,
          9,
          8,
          6,
          7,
          9,
          6,
          8,
          10,
          7,
          8,
          10,
          7,
          10,
          6,
          8,
          9,
          8,
          5,
          5,
          10,
          7,
          8,
          7,
          10,
          10,
          8,
          7,
          10,
          8,
          9,
          8,
          10,
          3,
          10,
          9,
          7,
          10,
          9,
          7,
          10,
          8,
          7,
          9,
          10,
          7,
          8,
          10,
          7,
          7,
          9,
          6,
          8,
          10,
          9,
          8,
          9,
          10,
          10,
          9,
          8,
          9,
          10,
          7,
          8,
          10,
          7,
          8,
          10,
          7,
          1,
          5,
          10,
          2,
          9,
          8,
          10,
          8,
          6,
          10,
          6,
          8,
          10,
          6,
          7,
          4,
          10,
          5,
          1,
          10,
          7,
          3,
          6,
          10,
          4,
          6,
          8,
          3,
          10,
          7,
          6,
          10,
          5,
          3,
          10,
          7,
          10,
          9,
          6,
          1,
          8,
          10,
          1,
          10,
          7,
          1,
          9,
          7,
          2,
          10,
          6,
          8,
          10,
          7,
          10,
          6,
          7,
          1,
          10,
          8,
          1,
          10,
          8,
          1,
          5,
          8,
          9,
          7,
          6,
          1,
          9,
          8,
          5,
          9,
          10,
          10,
          8,
          6,
          1,
          10,
          7,
          1,
          8,
          9,
          10,
          8,
          5,
          5,
          10,
          8,
          1,
          5,
          6,
          10,
          5,
          7,
          9,
          8,
          10,
          10,
          6,
          4,
          2,
          10,
          7,
          10,
          7,
          4,
          10,
          6,
          4,
          10,
          9,
          5,
          10,
          6,
          4,
          1,
          5,
          9,
          1,
          9,
          6,
          1,
          10,
          7,
          7,
          8,
          4,
          10,
          5,
          6,
          1,
          7,
          5,
          9,
          6,
          8,
          9,
          3,
          8,
          3,
          10,
          4,
          8,
          10,
          6,
          9,
          7,
          8,
          9,
          6,
          7,
          8,
          10,
          7,
          1,
          9,
          5,
          8,
          9,
          7,
          1,
          9,
          7,
          10,
          8,
          6,
          8,
          10,
          6,
          7,
          9,
          8,
          10,
          8,
          6,
          10,
          9,
          7,
          1,
          9,
          7,
          8,
          7,
          9,
          1,
          8,
          9,
          8,
          9,
          10,
          8,
          10,
          7,
          10,
          5,
          6,
          2,
          10,
          8,
          8,
          9,
          6,
          8,
          7,
          9,
          9,
          8,
          5,
          10,
          8,
          5,
          9,
          8,
          5,
          3,
          1,
          5,
          4,
          10,
          8,
          3,
          4,
          2,
          6,
          9,
          3,
          1,
          7,
          8,
          9,
          10,
          8,
          8,
          9,
          10,
          3,
          8,
          9,
          1,
          10,
          5,
          1,
          9,
          5,
          9,
          7,
          8,
          3,
          10,
          8,
          1,
          4,
          7,
          1,
          5,
          10,
          1,
          5,
          10,
          1,
          5,
          10,
          6,
          10,
          3,
          1,
          10,
          7,
          5,
          10,
          8,
          1,
          6,
          3,
          9,
          2,
          6,
          4,
          7,
          8,
          10,
          4,
          2,
          1,
          10,
          2,
          10,
          8,
          6,
          6,
          1,
          7,
          5,
          10,
          2,
          10,
          3,
          7,
          2,
          5,
          10,
          10,
          3,
          5,
          4,
          9,
          7,
          10,
          7,
          2,
          9,
          2,
          6,
          1,
          10,
          5,
          1,
          4,
          2,
          1,
          10,
          4,
          1,
          5,
          10,
          10,
          1,
          2,
          1,
          6,
          10,
          10,
          4,
          9,
          10,
          9,
          7,
          1,
          3,
          7,
          1,
          9,
          3,
          9,
          2,
          3,
          5,
          10,
          9,
          9,
          1,
          4
         ],
         "xaxis": "x3",
         "yaxis": "y3",
         "type": "box"
        },
        {
         "alignmentgroup": "True",
         "bingroup": "x",
         "hovertemplate": "Conjunctiva cluster=False<br>Center V (Rank)≥4=True<br>Center H (Rank)=%{x}<br>count=%{y}<extra></extra>",
         "legendgroup": "False",
         "marker": {
          "color": "#EF553B",
          "opacity": 0.6,
          "pattern": {
           "shape": ""
          }
         },
         "name": "False",
         "offsetgroup": "False",
         "orientation": "v",
         "showlegend": false,
         "x": [
          3,
          6,
          10,
          8,
          4,
          6,
          7,
          10,
          5,
          1,
          6,
          2,
          8,
          5,
          4,
          5,
          9,
          6,
          4,
          3,
          10,
          7,
          5,
          4,
          8,
          5,
          1,
          10,
          9,
          4,
          6,
          2,
          5,
          9,
          4,
          5,
          3,
          6,
          4,
          2,
          9,
          7,
          1,
          6,
          4,
          2,
          7,
          3,
          8,
          6,
          2,
          4,
          1,
          3,
          9,
          4,
          6,
          2,
          5,
          3,
          9,
          6,
          7,
          5,
          3,
          4,
          1,
          7,
          5,
          4,
          6,
          1,
          2,
          5,
          6,
          4,
          6,
          3,
          2,
          4,
          8,
          5,
          5,
          3,
          1,
          2,
          9,
          4,
          8,
          1,
          2,
          3,
          5,
          6,
          9,
          1,
          3,
          8,
          3,
          2,
          5,
          10,
          6,
          7,
          2,
          4,
          1,
          7,
          6,
          3,
          4,
          1,
          6,
          5,
          2,
          1,
          3,
          4,
          2,
          3,
          6,
          8,
          1,
          6,
          3,
          4,
          2,
          5,
          9,
          5,
          3,
          4,
          7,
          6,
          4,
          9,
          3,
          6,
          7,
          3,
          4,
          5,
          7,
          9,
          5,
          3,
          2,
          4,
          5,
          7,
          9,
          3,
          4,
          3,
          8,
          5,
          1,
          7,
          8,
          6,
          9,
          2,
          5,
          8,
          6,
          3,
          9,
          4,
          8,
          4,
          7,
          9,
          2,
          1,
          5,
          9,
          10,
          2,
          7,
          5,
          6,
          8,
          9,
          1,
          7,
          8,
          9,
          3,
          1,
          8,
          9,
          4,
          6,
          1,
          7,
          5,
          8,
          2,
          4,
          6,
          7,
          9,
          3,
          2,
          8,
          4,
          6,
          3,
          2,
          5,
          6,
          3,
          2,
          10,
          8,
          7,
          5,
          4,
          9,
          1,
          9,
          4,
          3,
          5,
          2,
          8,
          9,
          4,
          5,
          2,
          9,
          4,
          6,
          7,
          5,
          3,
          6,
          3,
          7,
          9,
          2,
          7,
          9,
          10,
          4,
          2,
          10,
          3,
          8,
          4,
          2,
          6,
          7,
          4,
          10,
          3,
          5,
          6,
          7,
          8,
          4,
          3,
          5,
          9,
          4,
          7,
          3,
          1,
          6,
          4,
          9,
          5,
          3,
          5,
          10,
          4,
          2,
          6,
          3,
          4,
          7,
          9,
          2,
          4,
          6,
          9,
          7,
          2,
          3,
          8,
          3,
          9,
          10,
          4,
          8,
          9,
          4,
          3,
          1,
          5,
          7,
          4,
          2,
          6,
          3,
          5,
          7,
          9,
          3,
          8,
          2,
          9,
          4,
          5,
          8,
          3,
          6,
          6,
          8,
          3,
          9,
          2,
          1,
          5,
          9,
          7,
          2,
          1,
          8,
          7,
          4,
          6,
          3,
          2,
          8,
          7,
          9,
          5,
          2,
          1,
          10,
          6,
          7,
          8,
          3,
          4,
          8,
          5,
          10,
          3,
          2,
          4,
          6,
          8,
          9,
          3,
          2,
          5,
          9,
          6,
          2,
          3,
          7,
          9,
          3,
          2,
          8,
          8,
          6,
          9,
          10,
          3,
          5,
          4,
          10,
          7,
          2,
          6,
          5,
          10,
          7,
          1,
          8,
          5,
          9,
          6,
          2,
          4,
          7,
          2,
          5,
          9,
          10,
          5,
          6,
          3,
          4,
          1,
          8,
          10,
          3,
          4,
          2,
          4,
          6,
          3,
          5,
          1,
          6,
          8,
          3,
          4,
          7,
          6,
          4,
          3,
          2,
          1,
          4,
          6,
          3,
          10,
          5,
          7,
          4,
          9,
          2,
          1,
          4,
          9,
          3,
          2,
          3,
          6,
          10,
          2,
          5,
          7,
          3,
          5,
          2,
          6,
          3,
          2,
          5,
          1,
          4,
          6,
          3,
          8,
          2,
          5,
          10,
          2,
          3,
          6,
          1,
          7,
          5,
          6,
          3,
          2,
          4,
          5,
          6,
          7,
          2,
          3,
          5,
          2,
          3,
          4,
          1,
          9,
          7,
          2,
          3,
          1,
          5,
          6,
          7,
          4,
          3,
          1,
          10,
          2,
          4,
          7,
          5,
          10,
          6,
          3,
          4,
          1,
          6,
          10,
          2,
          3,
          1,
          9,
          4,
          6,
          2,
          3,
          3,
          4,
          7,
          1,
          10,
          10,
          7,
          9,
          6,
          8,
          2,
          6,
          1,
          5,
          2,
          3,
          9,
          10,
          7,
          9,
          5,
          8,
          1,
          10,
          7,
          8,
          5,
          4,
          1,
          9,
          5,
          4,
          3,
          3,
          5,
          6,
          7,
          1,
          6,
          2,
          3,
          5,
          6,
          5,
          10,
          2,
          1,
          4,
          4,
          7,
          3,
          6,
          2,
          8,
          6,
          4,
          10,
          10,
          5,
          4,
          1,
          9,
          6,
          4,
          7,
          1,
          8,
          10,
          6,
          5,
          3,
          2,
          9,
          6,
          7,
          2,
          3,
          6,
          8,
          4,
          9,
          2,
          9,
          7,
          4,
          6,
          3,
          2,
          4,
          2,
          7,
          8,
          5,
          1,
          8,
          3,
          5,
          4,
          2,
          7,
          3,
          6,
          2,
          4,
          1,
          10,
          9,
          7,
          5,
          4,
          2,
          8,
          3,
          4,
          7,
          10,
          1,
          9,
          10,
          5,
          2,
          6,
          3,
          3,
          6,
          7,
          9,
          8,
          3,
          8,
          6,
          7,
          5,
          9,
          9,
          5,
          7,
          4,
          1,
          9,
          10,
          3,
          5,
          2,
          3,
          9,
          7,
          4,
          1,
          9,
          1,
          6,
          2,
          9,
          7,
          6,
          4,
          8,
          1,
          8,
          4,
          2,
          9,
          1,
          6,
          5,
          3,
          10,
          1,
          4,
          8,
          1,
          8,
          1,
          10,
          4,
          7,
          9,
          6,
          8,
          4,
          3,
          2,
          8,
          10,
          6,
          5,
          7,
          6,
          8,
          7,
          3,
          2,
          9,
          8,
          6,
          7,
          4,
          7,
          4,
          8,
          6,
          5,
          9,
          3,
          7,
          4,
          6,
          7,
          5,
          8,
          1,
          8,
          4,
          6,
          2,
          1,
          9,
          2,
          4,
          10,
          5,
          4,
          6,
          10,
          8,
          2,
          5,
          8,
          7,
          6,
          10,
          3,
          4,
          6,
          2,
          1,
          3,
          7,
          5,
          8,
          10
         ],
         "xaxis": "x2",
         "yaxis": "y2",
         "type": "histogram"
        },
        {
         "alignmentgroup": "True",
         "hovertemplate": "Conjunctiva cluster=False<br>Center V (Rank)≥4=True<br>Center H (Rank)=%{x}<extra></extra>",
         "legendgroup": "False",
         "marker": {
          "color": "#EF553B"
         },
         "name": "False",
         "notched": true,
         "offsetgroup": "False",
         "showlegend": false,
         "x": [
          3,
          6,
          10,
          8,
          4,
          6,
          7,
          10,
          5,
          1,
          6,
          2,
          8,
          5,
          4,
          5,
          9,
          6,
          4,
          3,
          10,
          7,
          5,
          4,
          8,
          5,
          1,
          10,
          9,
          4,
          6,
          2,
          5,
          9,
          4,
          5,
          3,
          6,
          4,
          2,
          9,
          7,
          1,
          6,
          4,
          2,
          7,
          3,
          8,
          6,
          2,
          4,
          1,
          3,
          9,
          4,
          6,
          2,
          5,
          3,
          9,
          6,
          7,
          5,
          3,
          4,
          1,
          7,
          5,
          4,
          6,
          1,
          2,
          5,
          6,
          4,
          6,
          3,
          2,
          4,
          8,
          5,
          5,
          3,
          1,
          2,
          9,
          4,
          8,
          1,
          2,
          3,
          5,
          6,
          9,
          1,
          3,
          8,
          3,
          2,
          5,
          10,
          6,
          7,
          2,
          4,
          1,
          7,
          6,
          3,
          4,
          1,
          6,
          5,
          2,
          1,
          3,
          4,
          2,
          3,
          6,
          8,
          1,
          6,
          3,
          4,
          2,
          5,
          9,
          5,
          3,
          4,
          7,
          6,
          4,
          9,
          3,
          6,
          7,
          3,
          4,
          5,
          7,
          9,
          5,
          3,
          2,
          4,
          5,
          7,
          9,
          3,
          4,
          3,
          8,
          5,
          1,
          7,
          8,
          6,
          9,
          2,
          5,
          8,
          6,
          3,
          9,
          4,
          8,
          4,
          7,
          9,
          2,
          1,
          5,
          9,
          10,
          2,
          7,
          5,
          6,
          8,
          9,
          1,
          7,
          8,
          9,
          3,
          1,
          8,
          9,
          4,
          6,
          1,
          7,
          5,
          8,
          2,
          4,
          6,
          7,
          9,
          3,
          2,
          8,
          4,
          6,
          3,
          2,
          5,
          6,
          3,
          2,
          10,
          8,
          7,
          5,
          4,
          9,
          1,
          9,
          4,
          3,
          5,
          2,
          8,
          9,
          4,
          5,
          2,
          9,
          4,
          6,
          7,
          5,
          3,
          6,
          3,
          7,
          9,
          2,
          7,
          9,
          10,
          4,
          2,
          10,
          3,
          8,
          4,
          2,
          6,
          7,
          4,
          10,
          3,
          5,
          6,
          7,
          8,
          4,
          3,
          5,
          9,
          4,
          7,
          3,
          1,
          6,
          4,
          9,
          5,
          3,
          5,
          10,
          4,
          2,
          6,
          3,
          4,
          7,
          9,
          2,
          4,
          6,
          9,
          7,
          2,
          3,
          8,
          3,
          9,
          10,
          4,
          8,
          9,
          4,
          3,
          1,
          5,
          7,
          4,
          2,
          6,
          3,
          5,
          7,
          9,
          3,
          8,
          2,
          9,
          4,
          5,
          8,
          3,
          6,
          6,
          8,
          3,
          9,
          2,
          1,
          5,
          9,
          7,
          2,
          1,
          8,
          7,
          4,
          6,
          3,
          2,
          8,
          7,
          9,
          5,
          2,
          1,
          10,
          6,
          7,
          8,
          3,
          4,
          8,
          5,
          10,
          3,
          2,
          4,
          6,
          8,
          9,
          3,
          2,
          5,
          9,
          6,
          2,
          3,
          7,
          9,
          3,
          2,
          8,
          8,
          6,
          9,
          10,
          3,
          5,
          4,
          10,
          7,
          2,
          6,
          5,
          10,
          7,
          1,
          8,
          5,
          9,
          6,
          2,
          4,
          7,
          2,
          5,
          9,
          10,
          5,
          6,
          3,
          4,
          1,
          8,
          10,
          3,
          4,
          2,
          4,
          6,
          3,
          5,
          1,
          6,
          8,
          3,
          4,
          7,
          6,
          4,
          3,
          2,
          1,
          4,
          6,
          3,
          10,
          5,
          7,
          4,
          9,
          2,
          1,
          4,
          9,
          3,
          2,
          3,
          6,
          10,
          2,
          5,
          7,
          3,
          5,
          2,
          6,
          3,
          2,
          5,
          1,
          4,
          6,
          3,
          8,
          2,
          5,
          10,
          2,
          3,
          6,
          1,
          7,
          5,
          6,
          3,
          2,
          4,
          5,
          6,
          7,
          2,
          3,
          5,
          2,
          3,
          4,
          1,
          9,
          7,
          2,
          3,
          1,
          5,
          6,
          7,
          4,
          3,
          1,
          10,
          2,
          4,
          7,
          5,
          10,
          6,
          3,
          4,
          1,
          6,
          10,
          2,
          3,
          1,
          9,
          4,
          6,
          2,
          3,
          3,
          4,
          7,
          1,
          10,
          10,
          7,
          9,
          6,
          8,
          2,
          6,
          1,
          5,
          2,
          3,
          9,
          10,
          7,
          9,
          5,
          8,
          1,
          10,
          7,
          8,
          5,
          4,
          1,
          9,
          5,
          4,
          3,
          3,
          5,
          6,
          7,
          1,
          6,
          2,
          3,
          5,
          6,
          5,
          10,
          2,
          1,
          4,
          4,
          7,
          3,
          6,
          2,
          8,
          6,
          4,
          10,
          10,
          5,
          4,
          1,
          9,
          6,
          4,
          7,
          1,
          8,
          10,
          6,
          5,
          3,
          2,
          9,
          6,
          7,
          2,
          3,
          6,
          8,
          4,
          9,
          2,
          9,
          7,
          4,
          6,
          3,
          2,
          4,
          2,
          7,
          8,
          5,
          1,
          8,
          3,
          5,
          4,
          2,
          7,
          3,
          6,
          2,
          4,
          1,
          10,
          9,
          7,
          5,
          4,
          2,
          8,
          3,
          4,
          7,
          10,
          1,
          9,
          10,
          5,
          2,
          6,
          3,
          3,
          6,
          7,
          9,
          8,
          3,
          8,
          6,
          7,
          5,
          9,
          9,
          5,
          7,
          4,
          1,
          9,
          10,
          3,
          5,
          2,
          3,
          9,
          7,
          4,
          1,
          9,
          1,
          6,
          2,
          9,
          7,
          6,
          4,
          8,
          1,
          8,
          4,
          2,
          9,
          1,
          6,
          5,
          3,
          10,
          1,
          4,
          8,
          1,
          8,
          1,
          10,
          4,
          7,
          9,
          6,
          8,
          4,
          3,
          2,
          8,
          10,
          6,
          5,
          7,
          6,
          8,
          7,
          3,
          2,
          9,
          8,
          6,
          7,
          4,
          7,
          4,
          8,
          6,
          5,
          9,
          3,
          7,
          4,
          6,
          7,
          5,
          8,
          1,
          8,
          4,
          6,
          2,
          1,
          9,
          2,
          4,
          10,
          5,
          4,
          6,
          10,
          8,
          2,
          5,
          8,
          7,
          6,
          10,
          3,
          4,
          6,
          2,
          1,
          3,
          7,
          5,
          8,
          10
         ],
         "xaxis": "x4",
         "yaxis": "y4",
         "type": "box"
        },
        {
         "alignmentgroup": "True",
         "bingroup": "x",
         "hovertemplate": "Conjunctiva cluster=Maybe<br>Center V (Rank)≥4=True<br>Center H (Rank)=%{x}<br>count=%{y}<extra></extra>",
         "legendgroup": "Maybe",
         "marker": {
          "color": "#636EFA",
          "opacity": 0.6,
          "pattern": {
           "shape": ""
          }
         },
         "name": "Maybe",
         "offsetgroup": "Maybe",
         "orientation": "v",
         "showlegend": true,
         "x": [
          2,
          4,
          5,
          6,
          2,
          3,
          2,
          5,
          3,
          4,
          8,
          6,
          3,
          3,
          5,
          1,
          6,
          2,
          3,
          7,
          3,
          10,
          8,
          5,
          1,
          4,
          4,
          3,
          2,
          4,
          7,
          7,
          5,
          3,
          8,
          4,
          6,
          3,
          5,
          3,
          3,
          8,
          7,
          7,
          6
         ],
         "xaxis": "x2",
         "yaxis": "y2",
         "type": "histogram"
        },
        {
         "alignmentgroup": "True",
         "hovertemplate": "Conjunctiva cluster=Maybe<br>Center V (Rank)≥4=True<br>Center H (Rank)=%{x}<extra></extra>",
         "legendgroup": "Maybe",
         "marker": {
          "color": "#636EFA"
         },
         "name": "Maybe",
         "notched": true,
         "offsetgroup": "Maybe",
         "showlegend": false,
         "x": [
          2,
          4,
          5,
          6,
          2,
          3,
          2,
          5,
          3,
          4,
          8,
          6,
          3,
          3,
          5,
          1,
          6,
          2,
          3,
          7,
          3,
          10,
          8,
          5,
          1,
          4,
          4,
          3,
          2,
          4,
          7,
          7,
          5,
          3,
          8,
          4,
          6,
          3,
          5,
          3,
          3,
          8,
          7,
          7,
          6
         ],
         "xaxis": "x4",
         "yaxis": "y4",
         "type": "box"
        },
        {
         "alignmentgroup": "True",
         "bingroup": "x",
         "hovertemplate": "Conjunctiva cluster=True<br>Center V (Rank)≥4=True<br>Center H (Rank)=%{x}<br>count=%{y}<extra></extra>",
         "legendgroup": "True",
         "marker": {
          "color": "#00CC96",
          "opacity": 0.6,
          "pattern": {
           "shape": ""
          }
         },
         "name": "True",
         "offsetgroup": "True",
         "orientation": "v",
         "showlegend": true,
         "x": [
          2,
          1,
          4,
          2,
          3,
          1,
          10,
          3,
          1,
          1,
          2,
          2,
          3,
          3,
          1,
          2,
          1,
          5,
          3,
          10,
          1,
          3,
          9,
          5,
          1,
          1,
          2,
          6,
          2,
          9,
          2,
          8,
          3,
          1,
          1,
          6,
          4,
          6,
          4,
          2,
          4,
          1,
          3,
          5,
          2,
          5,
          7,
          5,
          4,
          1,
          9,
          2,
          1,
          8,
          2,
          10,
          1,
          4,
          1,
          1,
          2,
          9,
          1,
          3,
          2,
          5,
          1,
          4,
          2,
          4,
          2,
          1,
          5,
          9,
          5,
          4,
          3,
          1,
          1,
          2,
          4,
          5,
          6,
          1,
          2,
          2,
          2,
          8,
          2,
          7,
          3,
          1,
          1,
          7,
          2,
          6,
          1,
          1,
          1,
          5,
          3,
          1,
          8,
          2,
          4,
          5,
          1,
          10,
          1,
          4,
          2,
          4,
          3,
          1,
          2,
          4,
          7,
          1,
          1,
          2,
          5,
          1,
          9,
          2,
          2,
          5,
          10,
          2,
          3,
          7,
          5,
          4,
          1,
          9,
          1,
          8,
          10,
          5,
          4,
          4,
          10,
          1,
          6,
          9,
          4,
          8,
          9,
          1,
          5,
          2,
          7,
          4,
          1,
          7,
          2,
          6,
          4,
          7,
          6,
          2,
          6,
          10,
          2,
          4,
          1,
          7,
          9,
          8,
          3,
          2,
          3,
          6,
          2,
          5,
          2,
          9,
          4,
          8,
          7,
          3,
          8,
          9,
          6,
          9,
          9,
          8,
          5,
          1,
          1,
          4,
          2,
          4,
          8,
          6,
          5,
          8,
          3,
          6,
          7,
          2,
          8,
          5,
          3,
          9,
          5,
          7,
          3,
          9,
          9,
          2,
          5,
          9,
          8,
          2,
          3,
          2,
          3,
          5,
          6,
          5,
          4,
          1,
          8,
          2
         ],
         "xaxis": "x2",
         "yaxis": "y2",
         "type": "histogram"
        },
        {
         "alignmentgroup": "True",
         "hovertemplate": "Conjunctiva cluster=True<br>Center V (Rank)≥4=True<br>Center H (Rank)=%{x}<extra></extra>",
         "legendgroup": "True",
         "marker": {
          "color": "#00CC96"
         },
         "name": "True",
         "notched": true,
         "offsetgroup": "True",
         "showlegend": false,
         "x": [
          2,
          1,
          4,
          2,
          3,
          1,
          10,
          3,
          1,
          1,
          2,
          2,
          3,
          3,
          1,
          2,
          1,
          5,
          3,
          10,
          1,
          3,
          9,
          5,
          1,
          1,
          2,
          6,
          2,
          9,
          2,
          8,
          3,
          1,
          1,
          6,
          4,
          6,
          4,
          2,
          4,
          1,
          3,
          5,
          2,
          5,
          7,
          5,
          4,
          1,
          9,
          2,
          1,
          8,
          2,
          10,
          1,
          4,
          1,
          1,
          2,
          9,
          1,
          3,
          2,
          5,
          1,
          4,
          2,
          4,
          2,
          1,
          5,
          9,
          5,
          4,
          3,
          1,
          1,
          2,
          4,
          5,
          6,
          1,
          2,
          2,
          2,
          8,
          2,
          7,
          3,
          1,
          1,
          7,
          2,
          6,
          1,
          1,
          1,
          5,
          3,
          1,
          8,
          2,
          4,
          5,
          1,
          10,
          1,
          4,
          2,
          4,
          3,
          1,
          2,
          4,
          7,
          1,
          1,
          2,
          5,
          1,
          9,
          2,
          2,
          5,
          10,
          2,
          3,
          7,
          5,
          4,
          1,
          9,
          1,
          8,
          10,
          5,
          4,
          4,
          10,
          1,
          6,
          9,
          4,
          8,
          9,
          1,
          5,
          2,
          7,
          4,
          1,
          7,
          2,
          6,
          4,
          7,
          6,
          2,
          6,
          10,
          2,
          4,
          1,
          7,
          9,
          8,
          3,
          2,
          3,
          6,
          2,
          5,
          2,
          9,
          4,
          8,
          7,
          3,
          8,
          9,
          6,
          9,
          9,
          8,
          5,
          1,
          1,
          4,
          2,
          4,
          8,
          6,
          5,
          8,
          3,
          6,
          7,
          2,
          8,
          5,
          3,
          9,
          5,
          7,
          3,
          9,
          9,
          2,
          5,
          9,
          8,
          2,
          3,
          2,
          3,
          5,
          6,
          5,
          4,
          1,
          8,
          2
         ],
         "xaxis": "x4",
         "yaxis": "y4",
         "type": "box"
        }
       ],
       "layout": {
        "template": {
         "data": {
          "barpolar": [
           {
            "marker": {
             "line": {
              "color": "rgb(17,17,17)",
              "width": 0.5
             },
             "pattern": {
              "fillmode": "overlay",
              "size": 10,
              "solidity": 0.2
             }
            },
            "type": "barpolar"
           }
          ],
          "bar": [
           {
            "error_x": {
             "color": "#f2f5fa"
            },
            "error_y": {
             "color": "#f2f5fa"
            },
            "marker": {
             "line": {
              "color": "rgb(17,17,17)",
              "width": 0.5
             },
             "pattern": {
              "fillmode": "overlay",
              "size": 10,
              "solidity": 0.2
             }
            },
            "type": "bar"
           }
          ],
          "carpet": [
           {
            "aaxis": {
             "endlinecolor": "#A2B1C6",
             "gridcolor": "#506784",
             "linecolor": "#506784",
             "minorgridcolor": "#506784",
             "startlinecolor": "#A2B1C6"
            },
            "baxis": {
             "endlinecolor": "#A2B1C6",
             "gridcolor": "#506784",
             "linecolor": "#506784",
             "minorgridcolor": "#506784",
             "startlinecolor": "#A2B1C6"
            },
            "type": "carpet"
           }
          ],
          "choropleth": [
           {
            "colorbar": {
             "outlinewidth": 0,
             "ticks": ""
            },
            "type": "choropleth"
           }
          ],
          "contourcarpet": [
           {
            "colorbar": {
             "outlinewidth": 0,
             "ticks": ""
            },
            "type": "contourcarpet"
           }
          ],
          "contour": [
           {
            "colorbar": {
             "outlinewidth": 0,
             "ticks": ""
            },
            "colorscale": [
             [
              0.0,
              "#0d0887"
             ],
             [
              0.1111111111111111,
              "#46039f"
             ],
             [
              0.2222222222222222,
              "#7201a8"
             ],
             [
              0.3333333333333333,
              "#9c179e"
             ],
             [
              0.4444444444444444,
              "#bd3786"
             ],
             [
              0.5555555555555556,
              "#d8576b"
             ],
             [
              0.6666666666666666,
              "#ed7953"
             ],
             [
              0.7777777777777778,
              "#fb9f3a"
             ],
             [
              0.8888888888888888,
              "#fdca26"
             ],
             [
              1.0,
              "#f0f921"
             ]
            ],
            "type": "contour"
           }
          ],
          "heatmapgl": [
           {
            "colorbar": {
             "outlinewidth": 0,
             "ticks": ""
            },
            "colorscale": [
             [
              0.0,
              "#0d0887"
             ],
             [
              0.1111111111111111,
              "#46039f"
             ],
             [
              0.2222222222222222,
              "#7201a8"
             ],
             [
              0.3333333333333333,
              "#9c179e"
             ],
             [
              0.4444444444444444,
              "#bd3786"
             ],
             [
              0.5555555555555556,
              "#d8576b"
             ],
             [
              0.6666666666666666,
              "#ed7953"
             ],
             [
              0.7777777777777778,
              "#fb9f3a"
             ],
             [
              0.8888888888888888,
              "#fdca26"
             ],
             [
              1.0,
              "#f0f921"
             ]
            ],
            "type": "heatmapgl"
           }
          ],
          "heatmap": [
           {
            "colorbar": {
             "outlinewidth": 0,
             "ticks": ""
            },
            "colorscale": [
             [
              0.0,
              "#0d0887"
             ],
             [
              0.1111111111111111,
              "#46039f"
             ],
             [
              0.2222222222222222,
              "#7201a8"
             ],
             [
              0.3333333333333333,
              "#9c179e"
             ],
             [
              0.4444444444444444,
              "#bd3786"
             ],
             [
              0.5555555555555556,
              "#d8576b"
             ],
             [
              0.6666666666666666,
              "#ed7953"
             ],
             [
              0.7777777777777778,
              "#fb9f3a"
             ],
             [
              0.8888888888888888,
              "#fdca26"
             ],
             [
              1.0,
              "#f0f921"
             ]
            ],
            "type": "heatmap"
           }
          ],
          "histogram2dcontour": [
           {
            "colorbar": {
             "outlinewidth": 0,
             "ticks": ""
            },
            "colorscale": [
             [
              0.0,
              "#0d0887"
             ],
             [
              0.1111111111111111,
              "#46039f"
             ],
             [
              0.2222222222222222,
              "#7201a8"
             ],
             [
              0.3333333333333333,
              "#9c179e"
             ],
             [
              0.4444444444444444,
              "#bd3786"
             ],
             [
              0.5555555555555556,
              "#d8576b"
             ],
             [
              0.6666666666666666,
              "#ed7953"
             ],
             [
              0.7777777777777778,
              "#fb9f3a"
             ],
             [
              0.8888888888888888,
              "#fdca26"
             ],
             [
              1.0,
              "#f0f921"
             ]
            ],
            "type": "histogram2dcontour"
           }
          ],
          "histogram2d": [
           {
            "colorbar": {
             "outlinewidth": 0,
             "ticks": ""
            },
            "colorscale": [
             [
              0.0,
              "#0d0887"
             ],
             [
              0.1111111111111111,
              "#46039f"
             ],
             [
              0.2222222222222222,
              "#7201a8"
             ],
             [
              0.3333333333333333,
              "#9c179e"
             ],
             [
              0.4444444444444444,
              "#bd3786"
             ],
             [
              0.5555555555555556,
              "#d8576b"
             ],
             [
              0.6666666666666666,
              "#ed7953"
             ],
             [
              0.7777777777777778,
              "#fb9f3a"
             ],
             [
              0.8888888888888888,
              "#fdca26"
             ],
             [
              1.0,
              "#f0f921"
             ]
            ],
            "type": "histogram2d"
           }
          ],
          "histogram": [
           {
            "marker": {
             "pattern": {
              "fillmode": "overlay",
              "size": 10,
              "solidity": 0.2
             }
            },
            "type": "histogram"
           }
          ],
          "mesh3d": [
           {
            "colorbar": {
             "outlinewidth": 0,
             "ticks": ""
            },
            "type": "mesh3d"
           }
          ],
          "parcoords": [
           {
            "line": {
             "colorbar": {
              "outlinewidth": 0,
              "ticks": ""
             }
            },
            "type": "parcoords"
           }
          ],
          "pie": [
           {
            "automargin": true,
            "type": "pie"
           }
          ],
          "scatter3d": [
           {
            "line": {
             "colorbar": {
              "outlinewidth": 0,
              "ticks": ""
             }
            },
            "marker": {
             "colorbar": {
              "outlinewidth": 0,
              "ticks": ""
             }
            },
            "type": "scatter3d"
           }
          ],
          "scattercarpet": [
           {
            "marker": {
             "colorbar": {
              "outlinewidth": 0,
              "ticks": ""
             }
            },
            "type": "scattercarpet"
           }
          ],
          "scattergeo": [
           {
            "marker": {
             "colorbar": {
              "outlinewidth": 0,
              "ticks": ""
             }
            },
            "type": "scattergeo"
           }
          ],
          "scattergl": [
           {
            "marker": {
             "line": {
              "color": "#283442"
             }
            },
            "type": "scattergl"
           }
          ],
          "scattermapbox": [
           {
            "marker": {
             "colorbar": {
              "outlinewidth": 0,
              "ticks": ""
             }
            },
            "type": "scattermapbox"
           }
          ],
          "scatterpolargl": [
           {
            "marker": {
             "colorbar": {
              "outlinewidth": 0,
              "ticks": ""
             }
            },
            "type": "scatterpolargl"
           }
          ],
          "scatterpolar": [
           {
            "marker": {
             "colorbar": {
              "outlinewidth": 0,
              "ticks": ""
             }
            },
            "type": "scatterpolar"
           }
          ],
          "scatter": [
           {
            "marker": {
             "line": {
              "color": "#283442"
             }
            },
            "type": "scatter"
           }
          ],
          "scatterternary": [
           {
            "marker": {
             "colorbar": {
              "outlinewidth": 0,
              "ticks": ""
             }
            },
            "type": "scatterternary"
           }
          ],
          "surface": [
           {
            "colorbar": {
             "outlinewidth": 0,
             "ticks": ""
            },
            "colorscale": [
             [
              0.0,
              "#0d0887"
             ],
             [
              0.1111111111111111,
              "#46039f"
             ],
             [
              0.2222222222222222,
              "#7201a8"
             ],
             [
              0.3333333333333333,
              "#9c179e"
             ],
             [
              0.4444444444444444,
              "#bd3786"
             ],
             [
              0.5555555555555556,
              "#d8576b"
             ],
             [
              0.6666666666666666,
              "#ed7953"
             ],
             [
              0.7777777777777778,
              "#fb9f3a"
             ],
             [
              0.8888888888888888,
              "#fdca26"
             ],
             [
              1.0,
              "#f0f921"
             ]
            ],
            "type": "surface"
           }
          ],
          "table": [
           {
            "cells": {
             "fill": {
              "color": "#506784"
             },
             "line": {
              "color": "rgb(17,17,17)"
             }
            },
            "header": {
             "fill": {
              "color": "#2a3f5f"
             },
             "line": {
              "color": "rgb(17,17,17)"
             }
            },
            "type": "table"
           }
          ]
         },
         "layout": {
          "annotationdefaults": {
           "arrowcolor": "#f2f5fa",
           "arrowhead": 0,
           "arrowwidth": 1
          },
          "autotypenumbers": "strict",
          "coloraxis": {
           "colorbar": {
            "outlinewidth": 0,
            "ticks": ""
           }
          },
          "colorscale": {
           "diverging": [
            [
             0,
             "#8e0152"
            ],
            [
             0.1,
             "#c51b7d"
            ],
            [
             0.2,
             "#de77ae"
            ],
            [
             0.3,
             "#f1b6da"
            ],
            [
             0.4,
             "#fde0ef"
            ],
            [
             0.5,
             "#f7f7f7"
            ],
            [
             0.6,
             "#e6f5d0"
            ],
            [
             0.7,
             "#b8e186"
            ],
            [
             0.8,
             "#7fbc41"
            ],
            [
             0.9,
             "#4d9221"
            ],
            [
             1,
             "#276419"
            ]
           ],
           "sequential": [
            [
             0.0,
             "#0d0887"
            ],
            [
             0.1111111111111111,
             "#46039f"
            ],
            [
             0.2222222222222222,
             "#7201a8"
            ],
            [
             0.3333333333333333,
             "#9c179e"
            ],
            [
             0.4444444444444444,
             "#bd3786"
            ],
            [
             0.5555555555555556,
             "#d8576b"
            ],
            [
             0.6666666666666666,
             "#ed7953"
            ],
            [
             0.7777777777777778,
             "#fb9f3a"
            ],
            [
             0.8888888888888888,
             "#fdca26"
            ],
            [
             1.0,
             "#f0f921"
            ]
           ],
           "sequentialminus": [
            [
             0.0,
             "#0d0887"
            ],
            [
             0.1111111111111111,
             "#46039f"
            ],
            [
             0.2222222222222222,
             "#7201a8"
            ],
            [
             0.3333333333333333,
             "#9c179e"
            ],
            [
             0.4444444444444444,
             "#bd3786"
            ],
            [
             0.5555555555555556,
             "#d8576b"
            ],
            [
             0.6666666666666666,
             "#ed7953"
            ],
            [
             0.7777777777777778,
             "#fb9f3a"
            ],
            [
             0.8888888888888888,
             "#fdca26"
            ],
            [
             1.0,
             "#f0f921"
            ]
           ]
          },
          "colorway": [
           "#636efa",
           "#EF553B",
           "#00cc96",
           "#ab63fa",
           "#FFA15A",
           "#19d3f3",
           "#FF6692",
           "#B6E880",
           "#FF97FF",
           "#FECB52"
          ],
          "font": {
           "color": "#f2f5fa"
          },
          "geo": {
           "bgcolor": "rgb(17,17,17)",
           "lakecolor": "rgb(17,17,17)",
           "landcolor": "rgb(17,17,17)",
           "showlakes": true,
           "showland": true,
           "subunitcolor": "#506784"
          },
          "hoverlabel": {
           "align": "left"
          },
          "hovermode": "closest",
          "mapbox": {
           "style": "dark"
          },
          "paper_bgcolor": "rgb(17,17,17)",
          "plot_bgcolor": "rgb(17,17,17)",
          "polar": {
           "angularaxis": {
            "gridcolor": "#506784",
            "linecolor": "#506784",
            "ticks": ""
           },
           "bgcolor": "rgb(17,17,17)",
           "radialaxis": {
            "gridcolor": "#506784",
            "linecolor": "#506784",
            "ticks": ""
           }
          },
          "scene": {
           "xaxis": {
            "backgroundcolor": "rgb(17,17,17)",
            "gridcolor": "#506784",
            "gridwidth": 2,
            "linecolor": "#506784",
            "showbackground": true,
            "ticks": "",
            "zerolinecolor": "#C8D4E3"
           },
           "yaxis": {
            "backgroundcolor": "rgb(17,17,17)",
            "gridcolor": "#506784",
            "gridwidth": 2,
            "linecolor": "#506784",
            "showbackground": true,
            "ticks": "",
            "zerolinecolor": "#C8D4E3"
           },
           "zaxis": {
            "backgroundcolor": "rgb(17,17,17)",
            "gridcolor": "#506784",
            "gridwidth": 2,
            "linecolor": "#506784",
            "showbackground": true,
            "ticks": "",
            "zerolinecolor": "#C8D4E3"
           }
          },
          "shapedefaults": {
           "line": {
            "color": "#f2f5fa"
           }
          },
          "sliderdefaults": {
           "bgcolor": "#C8D4E3",
           "bordercolor": "rgb(17,17,17)",
           "borderwidth": 1,
           "tickwidth": 0
          },
          "ternary": {
           "aaxis": {
            "gridcolor": "#506784",
            "linecolor": "#506784",
            "ticks": ""
           },
           "baxis": {
            "gridcolor": "#506784",
            "linecolor": "#506784",
            "ticks": ""
           },
           "bgcolor": "rgb(17,17,17)",
           "caxis": {
            "gridcolor": "#506784",
            "linecolor": "#506784",
            "ticks": ""
           }
          },
          "title": {
           "x": 0.05
          },
          "updatemenudefaults": {
           "bgcolor": "#506784",
           "borderwidth": 0
          },
          "xaxis": {
           "automargin": true,
           "gridcolor": "#283442",
           "linecolor": "#506784",
           "ticks": "",
           "title": {
            "standoff": 15
           },
           "zerolinecolor": "#283442",
           "zerolinewidth": 2
          },
          "yaxis": {
           "automargin": true,
           "gridcolor": "#283442",
           "linecolor": "#506784",
           "ticks": "",
           "title": {
            "standoff": 15
           },
           "zerolinecolor": "#283442",
           "zerolinewidth": 2
          }
         }
        },
        "xaxis": {
         "anchor": "y",
         "domain": [
          0.0,
          0.49
         ],
         "title": {
          "text": "Center H (Rank)"
         }
        },
        "yaxis": {
         "anchor": "x",
         "domain": [
          0.0,
          0.7326
         ],
         "title": {
          "text": "count"
         }
        },
        "xaxis2": {
         "anchor": "y2",
         "domain": [
          0.51,
          1.0
         ],
         "matches": "x",
         "title": {
          "text": "Center H (Rank)"
         }
        },
        "yaxis2": {
         "anchor": "x2",
         "domain": [
          0.0,
          0.7326
         ],
         "matches": "y",
         "showticklabels": false
        },
        "xaxis3": {
         "anchor": "y3",
         "domain": [
          0.0,
          0.49
         ],
         "matches": "x",
         "showticklabels": false,
         "showgrid": true
        },
        "yaxis3": {
         "anchor": "x3",
         "domain": [
          0.7426,
          1.0
         ],
         "matches": "y3",
         "showticklabels": false,
         "showline": false,
         "ticks": "",
         "showgrid": false
        },
        "xaxis4": {
         "anchor": "y4",
         "domain": [
          0.51,
          1.0
         ],
         "matches": "x",
         "showticklabels": false,
         "showgrid": true
        },
        "yaxis4": {
         "anchor": "x4",
         "domain": [
          0.7426,
          1.0
         ],
         "matches": "y3",
         "showticklabels": false,
         "showline": false,
         "ticks": "",
         "showgrid": false
        },
        "annotations": [
         {
          "font": {},
          "showarrow": false,
          "text": "Center V (Rank)≥4=False",
          "x": 0.245,
          "xanchor": "center",
          "xref": "paper",
          "y": 1.0,
          "yanchor": "bottom",
          "yref": "paper"
         },
         {
          "font": {},
          "showarrow": false,
          "text": "Center V (Rank)≥4=True",
          "x": 0.755,
          "xanchor": "center",
          "xref": "paper",
          "y": 1.0,
          "yanchor": "bottom",
          "yref": "paper"
         }
        ],
        "legend": {
         "title": {
          "text": "Conjunctiva cluster"
         },
         "tracegroupgap": 0
        },
        "margin": {
         "t": 20,
         "l": 20,
         "r": 20,
         "b": 20
        },
        "barmode": "group",
        "bargap": 0.04,
        "font": {
         "family": "Arial",
         "size": 16
        }
       },
       "config": {
        "plotlyServerURL": "https://plot.ly"
       }
      },
      "text/html": "<div>                            <div id=\"5f2b9fc4-5a3c-4a13-b0b3-604e81baf514\" class=\"plotly-graph-div\" style=\"height:525px; width:100%;\"></div>            <script type=\"text/javascript\">                require([\"plotly\"], function(Plotly) {                    window.PLOTLYENV=window.PLOTLYENV || {};                                    if (document.getElementById(\"5f2b9fc4-5a3c-4a13-b0b3-604e81baf514\")) {                    Plotly.newPlot(                        \"5f2b9fc4-5a3c-4a13-b0b3-604e81baf514\",                        [{\"alignmentgroup\":\"True\",\"bingroup\":\"x\",\"hovertemplate\":\"Conjunctiva cluster=False<br>Center V (Rank)\\u22654=False<br>Center H (Rank)=%{x}<br>count=%{y}<extra></extra>\",\"legendgroup\":\"False\",\"marker\":{\"color\":\"#EF553B\",\"opacity\":0.6,\"pattern\":{\"shape\":\"\"}},\"name\":\"False\",\"offsetgroup\":\"False\",\"orientation\":\"v\",\"showlegend\":true,\"x\":[9,7,5,8,9,3,9,4,7,10,8,7,9,8,6,7,9,6,8,10,7,8,10,7,10,6,8,9,8,5,5,10,7,8,7,10,10,8,7,10,8,9,8,10,3,10,9,7,10,9,7,10,8,7,9,10,7,8,10,7,7,9,6,8,10,9,8,9,10,10,9,8,9,10,7,8,10,7,8,10,7,1,5,10,2,9,8,10,8,6,10,6,8,10,6,7,4,10,5,1,10,7,3,6,10,4,6,8,3,10,7,6,10,5,3,10,7,10,9,6,1,8,10,1,10,7,1,9,7,2,10,6,8,10,7,10,6,7,1,10,8,1,10,8,1,5,8,9,7,6,1,9,8,5,9,10,10,8,6,1,10,7,1,8,9,10,8,5,5,10,8,1,5,6,10,5,7,9,8,10,10,6,4,2,10,7,10,7,4,10,6,4,10,9,5,10,6,4,1,5,9,1,9,6,1,10,7,7,8,4,10,5,6,1,7,5,9,6,8,9,3,8,3,10,4,8,10,6,9,7,8,9,6,7,8,10,7,1,9,5,8,9,7,1,9,7,10,8,6,8,10,6,7,9,8,10,8,6,10,9,7,1,9,7,8,7,9,1,8,9,8,9,10,8,10,7,10,5,6,2,10,8,8,9,6,8,7,9,9,8,5,10,8,5,9,8,5,3,1,5,4,10,8,3,4,2,6,9,3,1,7,8,9,10,8,8,9,10,3,8,9,1,10,5,1,9,5,9,7,8,3,10,8,1,4,7,1,5,10,1,5,10,1,5,10,6,10,3,1,10,7,5,10,8,1,6,3,9,2,6,4,7,8,10,4,2,1,10,2,10,8,6,6,1,7,5,10,2,10,3,7,2,5,10,10,3,5,4,9,7,10,7,2,9,2,6,1,10,5,1,4,2,1,10,4,1,5,10,10,1,2,1,6,10,10,4,9,10,9,7,1,3,7,1,9,3,9,2,3,5,10,9,9,1,4],\"xaxis\":\"x\",\"yaxis\":\"y\",\"type\":\"histogram\"},{\"alignmentgroup\":\"True\",\"hovertemplate\":\"Conjunctiva cluster=False<br>Center V (Rank)\\u22654=False<br>Center H (Rank)=%{x}<extra></extra>\",\"legendgroup\":\"False\",\"marker\":{\"color\":\"#EF553B\"},\"name\":\"False\",\"notched\":true,\"offsetgroup\":\"False\",\"showlegend\":false,\"x\":[9,7,5,8,9,3,9,4,7,10,8,7,9,8,6,7,9,6,8,10,7,8,10,7,10,6,8,9,8,5,5,10,7,8,7,10,10,8,7,10,8,9,8,10,3,10,9,7,10,9,7,10,8,7,9,10,7,8,10,7,7,9,6,8,10,9,8,9,10,10,9,8,9,10,7,8,10,7,8,10,7,1,5,10,2,9,8,10,8,6,10,6,8,10,6,7,4,10,5,1,10,7,3,6,10,4,6,8,3,10,7,6,10,5,3,10,7,10,9,6,1,8,10,1,10,7,1,9,7,2,10,6,8,10,7,10,6,7,1,10,8,1,10,8,1,5,8,9,7,6,1,9,8,5,9,10,10,8,6,1,10,7,1,8,9,10,8,5,5,10,8,1,5,6,10,5,7,9,8,10,10,6,4,2,10,7,10,7,4,10,6,4,10,9,5,10,6,4,1,5,9,1,9,6,1,10,7,7,8,4,10,5,6,1,7,5,9,6,8,9,3,8,3,10,4,8,10,6,9,7,8,9,6,7,8,10,7,1,9,5,8,9,7,1,9,7,10,8,6,8,10,6,7,9,8,10,8,6,10,9,7,1,9,7,8,7,9,1,8,9,8,9,10,8,10,7,10,5,6,2,10,8,8,9,6,8,7,9,9,8,5,10,8,5,9,8,5,3,1,5,4,10,8,3,4,2,6,9,3,1,7,8,9,10,8,8,9,10,3,8,9,1,10,5,1,9,5,9,7,8,3,10,8,1,4,7,1,5,10,1,5,10,1,5,10,6,10,3,1,10,7,5,10,8,1,6,3,9,2,6,4,7,8,10,4,2,1,10,2,10,8,6,6,1,7,5,10,2,10,3,7,2,5,10,10,3,5,4,9,7,10,7,2,9,2,6,1,10,5,1,4,2,1,10,4,1,5,10,10,1,2,1,6,10,10,4,9,10,9,7,1,3,7,1,9,3,9,2,3,5,10,9,9,1,4],\"xaxis\":\"x3\",\"yaxis\":\"y3\",\"type\":\"box\"},{\"alignmentgroup\":\"True\",\"bingroup\":\"x\",\"hovertemplate\":\"Conjunctiva cluster=False<br>Center V (Rank)\\u22654=True<br>Center H (Rank)=%{x}<br>count=%{y}<extra></extra>\",\"legendgroup\":\"False\",\"marker\":{\"color\":\"#EF553B\",\"opacity\":0.6,\"pattern\":{\"shape\":\"\"}},\"name\":\"False\",\"offsetgroup\":\"False\",\"orientation\":\"v\",\"showlegend\":false,\"x\":[3,6,10,8,4,6,7,10,5,1,6,2,8,5,4,5,9,6,4,3,10,7,5,4,8,5,1,10,9,4,6,2,5,9,4,5,3,6,4,2,9,7,1,6,4,2,7,3,8,6,2,4,1,3,9,4,6,2,5,3,9,6,7,5,3,4,1,7,5,4,6,1,2,5,6,4,6,3,2,4,8,5,5,3,1,2,9,4,8,1,2,3,5,6,9,1,3,8,3,2,5,10,6,7,2,4,1,7,6,3,4,1,6,5,2,1,3,4,2,3,6,8,1,6,3,4,2,5,9,5,3,4,7,6,4,9,3,6,7,3,4,5,7,9,5,3,2,4,5,7,9,3,4,3,8,5,1,7,8,6,9,2,5,8,6,3,9,4,8,4,7,9,2,1,5,9,10,2,7,5,6,8,9,1,7,8,9,3,1,8,9,4,6,1,7,5,8,2,4,6,7,9,3,2,8,4,6,3,2,5,6,3,2,10,8,7,5,4,9,1,9,4,3,5,2,8,9,4,5,2,9,4,6,7,5,3,6,3,7,9,2,7,9,10,4,2,10,3,8,4,2,6,7,4,10,3,5,6,7,8,4,3,5,9,4,7,3,1,6,4,9,5,3,5,10,4,2,6,3,4,7,9,2,4,6,9,7,2,3,8,3,9,10,4,8,9,4,3,1,5,7,4,2,6,3,5,7,9,3,8,2,9,4,5,8,3,6,6,8,3,9,2,1,5,9,7,2,1,8,7,4,6,3,2,8,7,9,5,2,1,10,6,7,8,3,4,8,5,10,3,2,4,6,8,9,3,2,5,9,6,2,3,7,9,3,2,8,8,6,9,10,3,5,4,10,7,2,6,5,10,7,1,8,5,9,6,2,4,7,2,5,9,10,5,6,3,4,1,8,10,3,4,2,4,6,3,5,1,6,8,3,4,7,6,4,3,2,1,4,6,3,10,5,7,4,9,2,1,4,9,3,2,3,6,10,2,5,7,3,5,2,6,3,2,5,1,4,6,3,8,2,5,10,2,3,6,1,7,5,6,3,2,4,5,6,7,2,3,5,2,3,4,1,9,7,2,3,1,5,6,7,4,3,1,10,2,4,7,5,10,6,3,4,1,6,10,2,3,1,9,4,6,2,3,3,4,7,1,10,10,7,9,6,8,2,6,1,5,2,3,9,10,7,9,5,8,1,10,7,8,5,4,1,9,5,4,3,3,5,6,7,1,6,2,3,5,6,5,10,2,1,4,4,7,3,6,2,8,6,4,10,10,5,4,1,9,6,4,7,1,8,10,6,5,3,2,9,6,7,2,3,6,8,4,9,2,9,7,4,6,3,2,4,2,7,8,5,1,8,3,5,4,2,7,3,6,2,4,1,10,9,7,5,4,2,8,3,4,7,10,1,9,10,5,2,6,3,3,6,7,9,8,3,8,6,7,5,9,9,5,7,4,1,9,10,3,5,2,3,9,7,4,1,9,1,6,2,9,7,6,4,8,1,8,4,2,9,1,6,5,3,10,1,4,8,1,8,1,10,4,7,9,6,8,4,3,2,8,10,6,5,7,6,8,7,3,2,9,8,6,7,4,7,4,8,6,5,9,3,7,4,6,7,5,8,1,8,4,6,2,1,9,2,4,10,5,4,6,10,8,2,5,8,7,6,10,3,4,6,2,1,3,7,5,8,10],\"xaxis\":\"x2\",\"yaxis\":\"y2\",\"type\":\"histogram\"},{\"alignmentgroup\":\"True\",\"hovertemplate\":\"Conjunctiva cluster=False<br>Center V (Rank)\\u22654=True<br>Center H (Rank)=%{x}<extra></extra>\",\"legendgroup\":\"False\",\"marker\":{\"color\":\"#EF553B\"},\"name\":\"False\",\"notched\":true,\"offsetgroup\":\"False\",\"showlegend\":false,\"x\":[3,6,10,8,4,6,7,10,5,1,6,2,8,5,4,5,9,6,4,3,10,7,5,4,8,5,1,10,9,4,6,2,5,9,4,5,3,6,4,2,9,7,1,6,4,2,7,3,8,6,2,4,1,3,9,4,6,2,5,3,9,6,7,5,3,4,1,7,5,4,6,1,2,5,6,4,6,3,2,4,8,5,5,3,1,2,9,4,8,1,2,3,5,6,9,1,3,8,3,2,5,10,6,7,2,4,1,7,6,3,4,1,6,5,2,1,3,4,2,3,6,8,1,6,3,4,2,5,9,5,3,4,7,6,4,9,3,6,7,3,4,5,7,9,5,3,2,4,5,7,9,3,4,3,8,5,1,7,8,6,9,2,5,8,6,3,9,4,8,4,7,9,2,1,5,9,10,2,7,5,6,8,9,1,7,8,9,3,1,8,9,4,6,1,7,5,8,2,4,6,7,9,3,2,8,4,6,3,2,5,6,3,2,10,8,7,5,4,9,1,9,4,3,5,2,8,9,4,5,2,9,4,6,7,5,3,6,3,7,9,2,7,9,10,4,2,10,3,8,4,2,6,7,4,10,3,5,6,7,8,4,3,5,9,4,7,3,1,6,4,9,5,3,5,10,4,2,6,3,4,7,9,2,4,6,9,7,2,3,8,3,9,10,4,8,9,4,3,1,5,7,4,2,6,3,5,7,9,3,8,2,9,4,5,8,3,6,6,8,3,9,2,1,5,9,7,2,1,8,7,4,6,3,2,8,7,9,5,2,1,10,6,7,8,3,4,8,5,10,3,2,4,6,8,9,3,2,5,9,6,2,3,7,9,3,2,8,8,6,9,10,3,5,4,10,7,2,6,5,10,7,1,8,5,9,6,2,4,7,2,5,9,10,5,6,3,4,1,8,10,3,4,2,4,6,3,5,1,6,8,3,4,7,6,4,3,2,1,4,6,3,10,5,7,4,9,2,1,4,9,3,2,3,6,10,2,5,7,3,5,2,6,3,2,5,1,4,6,3,8,2,5,10,2,3,6,1,7,5,6,3,2,4,5,6,7,2,3,5,2,3,4,1,9,7,2,3,1,5,6,7,4,3,1,10,2,4,7,5,10,6,3,4,1,6,10,2,3,1,9,4,6,2,3,3,4,7,1,10,10,7,9,6,8,2,6,1,5,2,3,9,10,7,9,5,8,1,10,7,8,5,4,1,9,5,4,3,3,5,6,7,1,6,2,3,5,6,5,10,2,1,4,4,7,3,6,2,8,6,4,10,10,5,4,1,9,6,4,7,1,8,10,6,5,3,2,9,6,7,2,3,6,8,4,9,2,9,7,4,6,3,2,4,2,7,8,5,1,8,3,5,4,2,7,3,6,2,4,1,10,9,7,5,4,2,8,3,4,7,10,1,9,10,5,2,6,3,3,6,7,9,8,3,8,6,7,5,9,9,5,7,4,1,9,10,3,5,2,3,9,7,4,1,9,1,6,2,9,7,6,4,8,1,8,4,2,9,1,6,5,3,10,1,4,8,1,8,1,10,4,7,9,6,8,4,3,2,8,10,6,5,7,6,8,7,3,2,9,8,6,7,4,7,4,8,6,5,9,3,7,4,6,7,5,8,1,8,4,6,2,1,9,2,4,10,5,4,6,10,8,2,5,8,7,6,10,3,4,6,2,1,3,7,5,8,10],\"xaxis\":\"x4\",\"yaxis\":\"y4\",\"type\":\"box\"},{\"alignmentgroup\":\"True\",\"bingroup\":\"x\",\"hovertemplate\":\"Conjunctiva cluster=Maybe<br>Center V (Rank)\\u22654=True<br>Center H (Rank)=%{x}<br>count=%{y}<extra></extra>\",\"legendgroup\":\"Maybe\",\"marker\":{\"color\":\"#636EFA\",\"opacity\":0.6,\"pattern\":{\"shape\":\"\"}},\"name\":\"Maybe\",\"offsetgroup\":\"Maybe\",\"orientation\":\"v\",\"showlegend\":true,\"x\":[2,4,5,6,2,3,2,5,3,4,8,6,3,3,5,1,6,2,3,7,3,10,8,5,1,4,4,3,2,4,7,7,5,3,8,4,6,3,5,3,3,8,7,7,6],\"xaxis\":\"x2\",\"yaxis\":\"y2\",\"type\":\"histogram\"},{\"alignmentgroup\":\"True\",\"hovertemplate\":\"Conjunctiva cluster=Maybe<br>Center V (Rank)\\u22654=True<br>Center H (Rank)=%{x}<extra></extra>\",\"legendgroup\":\"Maybe\",\"marker\":{\"color\":\"#636EFA\"},\"name\":\"Maybe\",\"notched\":true,\"offsetgroup\":\"Maybe\",\"showlegend\":false,\"x\":[2,4,5,6,2,3,2,5,3,4,8,6,3,3,5,1,6,2,3,7,3,10,8,5,1,4,4,3,2,4,7,7,5,3,8,4,6,3,5,3,3,8,7,7,6],\"xaxis\":\"x4\",\"yaxis\":\"y4\",\"type\":\"box\"},{\"alignmentgroup\":\"True\",\"bingroup\":\"x\",\"hovertemplate\":\"Conjunctiva cluster=True<br>Center V (Rank)\\u22654=True<br>Center H (Rank)=%{x}<br>count=%{y}<extra></extra>\",\"legendgroup\":\"True\",\"marker\":{\"color\":\"#00CC96\",\"opacity\":0.6,\"pattern\":{\"shape\":\"\"}},\"name\":\"True\",\"offsetgroup\":\"True\",\"orientation\":\"v\",\"showlegend\":true,\"x\":[2,1,4,2,3,1,10,3,1,1,2,2,3,3,1,2,1,5,3,10,1,3,9,5,1,1,2,6,2,9,2,8,3,1,1,6,4,6,4,2,4,1,3,5,2,5,7,5,4,1,9,2,1,8,2,10,1,4,1,1,2,9,1,3,2,5,1,4,2,4,2,1,5,9,5,4,3,1,1,2,4,5,6,1,2,2,2,8,2,7,3,1,1,7,2,6,1,1,1,5,3,1,8,2,4,5,1,10,1,4,2,4,3,1,2,4,7,1,1,2,5,1,9,2,2,5,10,2,3,7,5,4,1,9,1,8,10,5,4,4,10,1,6,9,4,8,9,1,5,2,7,4,1,7,2,6,4,7,6,2,6,10,2,4,1,7,9,8,3,2,3,6,2,5,2,9,4,8,7,3,8,9,6,9,9,8,5,1,1,4,2,4,8,6,5,8,3,6,7,2,8,5,3,9,5,7,3,9,9,2,5,9,8,2,3,2,3,5,6,5,4,1,8,2],\"xaxis\":\"x2\",\"yaxis\":\"y2\",\"type\":\"histogram\"},{\"alignmentgroup\":\"True\",\"hovertemplate\":\"Conjunctiva cluster=True<br>Center V (Rank)\\u22654=True<br>Center H (Rank)=%{x}<extra></extra>\",\"legendgroup\":\"True\",\"marker\":{\"color\":\"#00CC96\"},\"name\":\"True\",\"notched\":true,\"offsetgroup\":\"True\",\"showlegend\":false,\"x\":[2,1,4,2,3,1,10,3,1,1,2,2,3,3,1,2,1,5,3,10,1,3,9,5,1,1,2,6,2,9,2,8,3,1,1,6,4,6,4,2,4,1,3,5,2,5,7,5,4,1,9,2,1,8,2,10,1,4,1,1,2,9,1,3,2,5,1,4,2,4,2,1,5,9,5,4,3,1,1,2,4,5,6,1,2,2,2,8,2,7,3,1,1,7,2,6,1,1,1,5,3,1,8,2,4,5,1,10,1,4,2,4,3,1,2,4,7,1,1,2,5,1,9,2,2,5,10,2,3,7,5,4,1,9,1,8,10,5,4,4,10,1,6,9,4,8,9,1,5,2,7,4,1,7,2,6,4,7,6,2,6,10,2,4,1,7,9,8,3,2,3,6,2,5,2,9,4,8,7,3,8,9,6,9,9,8,5,1,1,4,2,4,8,6,5,8,3,6,7,2,8,5,3,9,5,7,3,9,9,2,5,9,8,2,3,2,3,5,6,5,4,1,8,2],\"xaxis\":\"x4\",\"yaxis\":\"y4\",\"type\":\"box\"}],                        {\"template\":{\"data\":{\"barpolar\":[{\"marker\":{\"line\":{\"color\":\"rgb(17,17,17)\",\"width\":0.5},\"pattern\":{\"fillmode\":\"overlay\",\"size\":10,\"solidity\":0.2}},\"type\":\"barpolar\"}],\"bar\":[{\"error_x\":{\"color\":\"#f2f5fa\"},\"error_y\":{\"color\":\"#f2f5fa\"},\"marker\":{\"line\":{\"color\":\"rgb(17,17,17)\",\"width\":0.5},\"pattern\":{\"fillmode\":\"overlay\",\"size\":10,\"solidity\":0.2}},\"type\":\"bar\"}],\"carpet\":[{\"aaxis\":{\"endlinecolor\":\"#A2B1C6\",\"gridcolor\":\"#506784\",\"linecolor\":\"#506784\",\"minorgridcolor\":\"#506784\",\"startlinecolor\":\"#A2B1C6\"},\"baxis\":{\"endlinecolor\":\"#A2B1C6\",\"gridcolor\":\"#506784\",\"linecolor\":\"#506784\",\"minorgridcolor\":\"#506784\",\"startlinecolor\":\"#A2B1C6\"},\"type\":\"carpet\"}],\"choropleth\":[{\"colorbar\":{\"outlinewidth\":0,\"ticks\":\"\"},\"type\":\"choropleth\"}],\"contourcarpet\":[{\"colorbar\":{\"outlinewidth\":0,\"ticks\":\"\"},\"type\":\"contourcarpet\"}],\"contour\":[{\"colorbar\":{\"outlinewidth\":0,\"ticks\":\"\"},\"colorscale\":[[0.0,\"#0d0887\"],[0.1111111111111111,\"#46039f\"],[0.2222222222222222,\"#7201a8\"],[0.3333333333333333,\"#9c179e\"],[0.4444444444444444,\"#bd3786\"],[0.5555555555555556,\"#d8576b\"],[0.6666666666666666,\"#ed7953\"],[0.7777777777777778,\"#fb9f3a\"],[0.8888888888888888,\"#fdca26\"],[1.0,\"#f0f921\"]],\"type\":\"contour\"}],\"heatmapgl\":[{\"colorbar\":{\"outlinewidth\":0,\"ticks\":\"\"},\"colorscale\":[[0.0,\"#0d0887\"],[0.1111111111111111,\"#46039f\"],[0.2222222222222222,\"#7201a8\"],[0.3333333333333333,\"#9c179e\"],[0.4444444444444444,\"#bd3786\"],[0.5555555555555556,\"#d8576b\"],[0.6666666666666666,\"#ed7953\"],[0.7777777777777778,\"#fb9f3a\"],[0.8888888888888888,\"#fdca26\"],[1.0,\"#f0f921\"]],\"type\":\"heatmapgl\"}],\"heatmap\":[{\"colorbar\":{\"outlinewidth\":0,\"ticks\":\"\"},\"colorscale\":[[0.0,\"#0d0887\"],[0.1111111111111111,\"#46039f\"],[0.2222222222222222,\"#7201a8\"],[0.3333333333333333,\"#9c179e\"],[0.4444444444444444,\"#bd3786\"],[0.5555555555555556,\"#d8576b\"],[0.6666666666666666,\"#ed7953\"],[0.7777777777777778,\"#fb9f3a\"],[0.8888888888888888,\"#fdca26\"],[1.0,\"#f0f921\"]],\"type\":\"heatmap\"}],\"histogram2dcontour\":[{\"colorbar\":{\"outlinewidth\":0,\"ticks\":\"\"},\"colorscale\":[[0.0,\"#0d0887\"],[0.1111111111111111,\"#46039f\"],[0.2222222222222222,\"#7201a8\"],[0.3333333333333333,\"#9c179e\"],[0.4444444444444444,\"#bd3786\"],[0.5555555555555556,\"#d8576b\"],[0.6666666666666666,\"#ed7953\"],[0.7777777777777778,\"#fb9f3a\"],[0.8888888888888888,\"#fdca26\"],[1.0,\"#f0f921\"]],\"type\":\"histogram2dcontour\"}],\"histogram2d\":[{\"colorbar\":{\"outlinewidth\":0,\"ticks\":\"\"},\"colorscale\":[[0.0,\"#0d0887\"],[0.1111111111111111,\"#46039f\"],[0.2222222222222222,\"#7201a8\"],[0.3333333333333333,\"#9c179e\"],[0.4444444444444444,\"#bd3786\"],[0.5555555555555556,\"#d8576b\"],[0.6666666666666666,\"#ed7953\"],[0.7777777777777778,\"#fb9f3a\"],[0.8888888888888888,\"#fdca26\"],[1.0,\"#f0f921\"]],\"type\":\"histogram2d\"}],\"histogram\":[{\"marker\":{\"pattern\":{\"fillmode\":\"overlay\",\"size\":10,\"solidity\":0.2}},\"type\":\"histogram\"}],\"mesh3d\":[{\"colorbar\":{\"outlinewidth\":0,\"ticks\":\"\"},\"type\":\"mesh3d\"}],\"parcoords\":[{\"line\":{\"colorbar\":{\"outlinewidth\":0,\"ticks\":\"\"}},\"type\":\"parcoords\"}],\"pie\":[{\"automargin\":true,\"type\":\"pie\"}],\"scatter3d\":[{\"line\":{\"colorbar\":{\"outlinewidth\":0,\"ticks\":\"\"}},\"marker\":{\"colorbar\":{\"outlinewidth\":0,\"ticks\":\"\"}},\"type\":\"scatter3d\"}],\"scattercarpet\":[{\"marker\":{\"colorbar\":{\"outlinewidth\":0,\"ticks\":\"\"}},\"type\":\"scattercarpet\"}],\"scattergeo\":[{\"marker\":{\"colorbar\":{\"outlinewidth\":0,\"ticks\":\"\"}},\"type\":\"scattergeo\"}],\"scattergl\":[{\"marker\":{\"line\":{\"color\":\"#283442\"}},\"type\":\"scattergl\"}],\"scattermapbox\":[{\"marker\":{\"colorbar\":{\"outlinewidth\":0,\"ticks\":\"\"}},\"type\":\"scattermapbox\"}],\"scatterpolargl\":[{\"marker\":{\"colorbar\":{\"outlinewidth\":0,\"ticks\":\"\"}},\"type\":\"scatterpolargl\"}],\"scatterpolar\":[{\"marker\":{\"colorbar\":{\"outlinewidth\":0,\"ticks\":\"\"}},\"type\":\"scatterpolar\"}],\"scatter\":[{\"marker\":{\"line\":{\"color\":\"#283442\"}},\"type\":\"scatter\"}],\"scatterternary\":[{\"marker\":{\"colorbar\":{\"outlinewidth\":0,\"ticks\":\"\"}},\"type\":\"scatterternary\"}],\"surface\":[{\"colorbar\":{\"outlinewidth\":0,\"ticks\":\"\"},\"colorscale\":[[0.0,\"#0d0887\"],[0.1111111111111111,\"#46039f\"],[0.2222222222222222,\"#7201a8\"],[0.3333333333333333,\"#9c179e\"],[0.4444444444444444,\"#bd3786\"],[0.5555555555555556,\"#d8576b\"],[0.6666666666666666,\"#ed7953\"],[0.7777777777777778,\"#fb9f3a\"],[0.8888888888888888,\"#fdca26\"],[1.0,\"#f0f921\"]],\"type\":\"surface\"}],\"table\":[{\"cells\":{\"fill\":{\"color\":\"#506784\"},\"line\":{\"color\":\"rgb(17,17,17)\"}},\"header\":{\"fill\":{\"color\":\"#2a3f5f\"},\"line\":{\"color\":\"rgb(17,17,17)\"}},\"type\":\"table\"}]},\"layout\":{\"annotationdefaults\":{\"arrowcolor\":\"#f2f5fa\",\"arrowhead\":0,\"arrowwidth\":1},\"autotypenumbers\":\"strict\",\"coloraxis\":{\"colorbar\":{\"outlinewidth\":0,\"ticks\":\"\"}},\"colorscale\":{\"diverging\":[[0,\"#8e0152\"],[0.1,\"#c51b7d\"],[0.2,\"#de77ae\"],[0.3,\"#f1b6da\"],[0.4,\"#fde0ef\"],[0.5,\"#f7f7f7\"],[0.6,\"#e6f5d0\"],[0.7,\"#b8e186\"],[0.8,\"#7fbc41\"],[0.9,\"#4d9221\"],[1,\"#276419\"]],\"sequential\":[[0.0,\"#0d0887\"],[0.1111111111111111,\"#46039f\"],[0.2222222222222222,\"#7201a8\"],[0.3333333333333333,\"#9c179e\"],[0.4444444444444444,\"#bd3786\"],[0.5555555555555556,\"#d8576b\"],[0.6666666666666666,\"#ed7953\"],[0.7777777777777778,\"#fb9f3a\"],[0.8888888888888888,\"#fdca26\"],[1.0,\"#f0f921\"]],\"sequentialminus\":[[0.0,\"#0d0887\"],[0.1111111111111111,\"#46039f\"],[0.2222222222222222,\"#7201a8\"],[0.3333333333333333,\"#9c179e\"],[0.4444444444444444,\"#bd3786\"],[0.5555555555555556,\"#d8576b\"],[0.6666666666666666,\"#ed7953\"],[0.7777777777777778,\"#fb9f3a\"],[0.8888888888888888,\"#fdca26\"],[1.0,\"#f0f921\"]]},\"colorway\":[\"#636efa\",\"#EF553B\",\"#00cc96\",\"#ab63fa\",\"#FFA15A\",\"#19d3f3\",\"#FF6692\",\"#B6E880\",\"#FF97FF\",\"#FECB52\"],\"font\":{\"color\":\"#f2f5fa\"},\"geo\":{\"bgcolor\":\"rgb(17,17,17)\",\"lakecolor\":\"rgb(17,17,17)\",\"landcolor\":\"rgb(17,17,17)\",\"showlakes\":true,\"showland\":true,\"subunitcolor\":\"#506784\"},\"hoverlabel\":{\"align\":\"left\"},\"hovermode\":\"closest\",\"mapbox\":{\"style\":\"dark\"},\"paper_bgcolor\":\"rgb(17,17,17)\",\"plot_bgcolor\":\"rgb(17,17,17)\",\"polar\":{\"angularaxis\":{\"gridcolor\":\"#506784\",\"linecolor\":\"#506784\",\"ticks\":\"\"},\"bgcolor\":\"rgb(17,17,17)\",\"radialaxis\":{\"gridcolor\":\"#506784\",\"linecolor\":\"#506784\",\"ticks\":\"\"}},\"scene\":{\"xaxis\":{\"backgroundcolor\":\"rgb(17,17,17)\",\"gridcolor\":\"#506784\",\"gridwidth\":2,\"linecolor\":\"#506784\",\"showbackground\":true,\"ticks\":\"\",\"zerolinecolor\":\"#C8D4E3\"},\"yaxis\":{\"backgroundcolor\":\"rgb(17,17,17)\",\"gridcolor\":\"#506784\",\"gridwidth\":2,\"linecolor\":\"#506784\",\"showbackground\":true,\"ticks\":\"\",\"zerolinecolor\":\"#C8D4E3\"},\"zaxis\":{\"backgroundcolor\":\"rgb(17,17,17)\",\"gridcolor\":\"#506784\",\"gridwidth\":2,\"linecolor\":\"#506784\",\"showbackground\":true,\"ticks\":\"\",\"zerolinecolor\":\"#C8D4E3\"}},\"shapedefaults\":{\"line\":{\"color\":\"#f2f5fa\"}},\"sliderdefaults\":{\"bgcolor\":\"#C8D4E3\",\"bordercolor\":\"rgb(17,17,17)\",\"borderwidth\":1,\"tickwidth\":0},\"ternary\":{\"aaxis\":{\"gridcolor\":\"#506784\",\"linecolor\":\"#506784\",\"ticks\":\"\"},\"baxis\":{\"gridcolor\":\"#506784\",\"linecolor\":\"#506784\",\"ticks\":\"\"},\"bgcolor\":\"rgb(17,17,17)\",\"caxis\":{\"gridcolor\":\"#506784\",\"linecolor\":\"#506784\",\"ticks\":\"\"}},\"title\":{\"x\":0.05},\"updatemenudefaults\":{\"bgcolor\":\"#506784\",\"borderwidth\":0},\"xaxis\":{\"automargin\":true,\"gridcolor\":\"#283442\",\"linecolor\":\"#506784\",\"ticks\":\"\",\"title\":{\"standoff\":15},\"zerolinecolor\":\"#283442\",\"zerolinewidth\":2},\"yaxis\":{\"automargin\":true,\"gridcolor\":\"#283442\",\"linecolor\":\"#506784\",\"ticks\":\"\",\"title\":{\"standoff\":15},\"zerolinecolor\":\"#283442\",\"zerolinewidth\":2}}},\"xaxis\":{\"anchor\":\"y\",\"domain\":[0.0,0.49],\"title\":{\"text\":\"Center H (Rank)\"}},\"yaxis\":{\"anchor\":\"x\",\"domain\":[0.0,0.7326],\"title\":{\"text\":\"count\"}},\"xaxis2\":{\"anchor\":\"y2\",\"domain\":[0.51,1.0],\"matches\":\"x\",\"title\":{\"text\":\"Center H (Rank)\"}},\"yaxis2\":{\"anchor\":\"x2\",\"domain\":[0.0,0.7326],\"matches\":\"y\",\"showticklabels\":false},\"xaxis3\":{\"anchor\":\"y3\",\"domain\":[0.0,0.49],\"matches\":\"x\",\"showticklabels\":false,\"showgrid\":true},\"yaxis3\":{\"anchor\":\"x3\",\"domain\":[0.7426,1.0],\"matches\":\"y3\",\"showticklabels\":false,\"showline\":false,\"ticks\":\"\",\"showgrid\":false},\"xaxis4\":{\"anchor\":\"y4\",\"domain\":[0.51,1.0],\"matches\":\"x\",\"showticklabels\":false,\"showgrid\":true},\"yaxis4\":{\"anchor\":\"x4\",\"domain\":[0.7426,1.0],\"matches\":\"y3\",\"showticklabels\":false,\"showline\":false,\"ticks\":\"\",\"showgrid\":false},\"annotations\":[{\"font\":{},\"showarrow\":false,\"text\":\"Center V (Rank)\\u22654=False\",\"x\":0.245,\"xanchor\":\"center\",\"xref\":\"paper\",\"y\":1.0,\"yanchor\":\"bottom\",\"yref\":\"paper\"},{\"font\":{},\"showarrow\":false,\"text\":\"Center V (Rank)\\u22654=True\",\"x\":0.755,\"xanchor\":\"center\",\"xref\":\"paper\",\"y\":1.0,\"yanchor\":\"bottom\",\"yref\":\"paper\"}],\"legend\":{\"title\":{\"text\":\"Conjunctiva cluster\"},\"tracegroupgap\":0},\"margin\":{\"t\":20,\"l\":20,\"r\":20,\"b\":20},\"barmode\":\"group\",\"bargap\":0.04,\"font\":{\"family\":\"Arial\",\"size\":16}},                        {\"responsive\": true}                    ).then(function(){\n                            \nvar gd = document.getElementById('5f2b9fc4-5a3c-4a13-b0b3-604e81baf514');\nvar x = new MutationObserver(function (mutations, observer) {{\n        var display = window.getComputedStyle(gd).display;\n        if (!display || display === 'none') {{\n            console.log([gd, 'removed!']);\n            Plotly.purge(gd);\n            observer.disconnect();\n        }}\n}});\n\n// Listen for the removal of the full notebook cells\nvar notebookContainer = gd.closest('#notebook-container');\nif (notebookContainer) {{\n    x.observe(notebookContainer, {childList: true});\n}}\n\n// Listen for the clearing of the current output cell\nvar outputEl = gd.closest('.output');\nif (outputEl) {{\n    x.observe(outputEl, {childList: true});\n}}\n\n                        })                };                });            </script>        </div>"
     },
     "metadata": {},
     "output_type": "display_data"
    }
   ],
   "source": [
    "fig = px.histogram(all_metrics_flat, x=\"Ranks-Color-Center-H\", marginal=\"box\", opacity=0.6,\n",
    "                   barmode=\"group\",\n",
    "                   facet_col=\"Ranks-Color-Center-V>=4\",\n",
    "                   color=\"Labels-Value\", color_discrete_map=color_discrete_map,\n",
    "                category_orders=category_orders, labels=var_labels, template=plotly_template)\n",
    "fig.update_layout(bargap=0.04)\n",
    "fig.update_layout(font=dict(family=\"Arial\",size=16,), margin=dict(l=20, r=20, t=20, b=20))\n",
    "fig.show()\n",
    "title = \"HSV histogram with box plot- H val split at V rank>=4\"\n",
    "save_plotly_figure(fig, title)"
   ],
   "metadata": {
    "collapsed": false
   }
  },
  {
   "cell_type": "code",
   "execution_count": 37,
   "outputs": [
    {
     "data": {
      "application/vnd.plotly.v1+json": {
       "data": [
        {
         "alignmentgroup": "True",
         "bingroup": "x",
         "hovertemplate": "Conjunctiva cluster=False<br>Center V (Rank)≥5=False<br>Center H (Rank)=%{x}<br>count=%{y}<extra></extra>",
         "legendgroup": "False",
         "marker": {
          "color": "#EF553B",
          "opacity": 0.6,
          "pattern": {
           "shape": ""
          }
         },
         "name": "False",
         "offsetgroup": "False",
         "orientation": "v",
         "showlegend": true,
         "x": [
          9,
          7,
          5,
          3,
          8,
          9,
          3,
          6,
          9,
          4,
          7,
          6,
          10,
          8,
          7,
          4,
          9,
          8,
          6,
          4,
          7,
          9,
          6,
          4,
          8,
          10,
          7,
          9,
          8,
          10,
          7,
          9,
          10,
          6,
          8,
          4,
          9,
          8,
          5,
          6,
          5,
          10,
          7,
          8,
          8,
          7,
          10,
          3,
          10,
          8,
          7,
          5,
          10,
          8,
          9,
          7,
          8,
          10,
          3,
          7,
          10,
          9,
          7,
          10,
          9,
          7,
          6,
          10,
          8,
          7,
          5,
          9,
          10,
          7,
          4,
          8,
          10,
          7,
          5,
          7,
          9,
          6,
          8,
          8,
          10,
          9,
          6,
          8,
          9,
          10,
          7,
          10,
          9,
          8,
          6,
          9,
          10,
          7,
          2,
          8,
          10,
          7,
          6,
          8,
          10,
          7,
          9,
          1,
          5,
          10,
          7,
          2,
          9,
          8,
          6,
          10,
          8,
          6,
          7,
          10,
          6,
          8,
          4,
          10,
          6,
          7,
          4,
          4,
          10,
          5,
          7,
          1,
          10,
          7,
          5,
          3,
          6,
          10,
          8,
          4,
          6,
          8,
          5,
          3,
          10,
          7,
          5,
          6,
          10,
          5,
          7,
          3,
          10,
          7,
          8,
          10,
          9,
          6,
          7,
          1,
          8,
          10,
          6,
          1,
          10,
          7,
          8,
          1,
          9,
          7,
          5,
          2,
          10,
          6,
          8,
          8,
          10,
          7,
          9,
          10,
          6,
          7,
          8,
          1,
          10,
          8,
          9,
          1,
          10,
          8,
          6,
          1,
          5,
          8,
          7,
          9,
          7,
          6,
          10,
          1,
          9,
          8,
          6,
          5,
          9,
          10,
          6,
          10,
          8,
          6,
          5,
          1,
          10,
          7,
          6,
          1,
          8,
          9,
          5,
          10,
          8,
          5,
          3,
          5,
          10,
          8,
          4,
          1,
          5,
          6,
          8,
          10,
          5,
          7,
          8,
          9,
          8,
          10,
          5,
          10,
          6,
          4,
          5,
          2,
          10,
          7,
          9,
          10,
          7,
          4,
          6,
          10,
          6,
          4,
          5,
          10,
          9,
          5,
          7,
          10,
          6,
          4,
          7,
          1,
          5,
          9,
          10,
          1,
          9,
          6,
          8,
          1,
          10,
          7,
          4,
          7,
          8,
          4,
          5,
          10,
          5,
          6,
          7,
          1,
          7,
          5,
          8,
          9,
          6,
          8,
          5,
          9,
          3,
          8,
          6,
          3,
          10,
          4,
          8,
          8,
          10,
          6,
          4,
          9,
          7,
          8,
          10,
          9,
          6,
          7,
          8,
          8,
          10,
          7,
          4,
          1,
          9,
          5,
          6,
          8,
          9,
          7,
          6,
          1,
          9,
          7,
          4,
          10,
          8,
          6,
          7,
          8,
          10,
          6,
          7,
          9,
          8,
          3,
          10,
          8,
          6,
          7,
          10,
          9,
          7,
          6,
          1,
          9,
          7,
          4,
          8,
          7,
          9,
          5,
          1,
          8,
          9,
          7,
          8,
          9,
          10,
          4,
          8,
          10,
          7,
          5,
          10,
          5,
          6,
          9,
          2,
          10,
          8,
          5,
          8,
          9,
          6,
          10,
          8,
          7,
          9,
          10,
          9,
          8,
          5,
          6,
          10,
          8,
          5,
          9,
          9,
          8,
          5,
          3,
          3,
          1,
          5,
          10,
          4,
          10,
          8,
          6,
          3,
          4,
          2,
          10,
          6,
          9,
          3,
          10,
          1,
          7,
          8,
          9,
          9,
          10,
          8,
          3,
          8,
          9,
          10,
          6,
          3,
          8,
          9,
          6,
          1,
          10,
          5,
          4,
          1,
          9,
          5,
          8,
          9,
          7,
          8,
          10,
          3,
          10,
          8,
          9,
          1,
          4,
          7,
          8,
          1,
          5,
          10,
          9,
          1,
          5,
          10,
          6,
          1,
          5,
          10,
          9,
          6,
          10,
          3,
          4,
          1,
          10,
          7,
          8,
          5,
          10,
          8,
          7,
          1,
          6,
          3,
          10,
          9,
          2,
          6,
          8,
          4,
          7,
          8,
          9,
          10,
          4,
          2,
          3,
          1,
          10,
          2,
          3,
          10,
          8,
          6,
          9,
          6,
          1,
          7,
          9,
          5,
          10,
          2,
          3,
          10,
          3,
          7,
          9,
          2,
          5,
          10,
          9,
          10,
          3,
          5,
          8,
          4,
          9,
          7,
          6,
          10,
          7,
          2,
          4,
          9,
          2,
          6,
          8,
          1,
          10,
          5,
          9,
          1,
          4,
          2,
          8,
          1,
          10,
          4,
          6,
          1,
          5,
          10,
          9,
          10,
          1,
          2,
          7,
          1,
          6,
          10,
          5,
          10,
          4,
          9,
          6,
          10,
          9,
          7,
          8,
          1,
          3,
          7,
          9,
          1,
          9,
          3,
          4,
          9,
          2,
          3,
          5,
          5,
          10,
          9,
          3,
          9,
          1,
          4,
          3
         ],
         "xaxis": "x",
         "yaxis": "y",
         "type": "histogram"
        },
        {
         "alignmentgroup": "True",
         "hovertemplate": "Conjunctiva cluster=False<br>Center V (Rank)≥5=False<br>Center H (Rank)=%{x}<extra></extra>",
         "legendgroup": "False",
         "marker": {
          "color": "#EF553B"
         },
         "name": "False",
         "notched": true,
         "offsetgroup": "False",
         "showlegend": false,
         "x": [
          9,
          7,
          5,
          3,
          8,
          9,
          3,
          6,
          9,
          4,
          7,
          6,
          10,
          8,
          7,
          4,
          9,
          8,
          6,
          4,
          7,
          9,
          6,
          4,
          8,
          10,
          7,
          9,
          8,
          10,
          7,
          9,
          10,
          6,
          8,
          4,
          9,
          8,
          5,
          6,
          5,
          10,
          7,
          8,
          8,
          7,
          10,
          3,
          10,
          8,
          7,
          5,
          10,
          8,
          9,
          7,
          8,
          10,
          3,
          7,
          10,
          9,
          7,
          10,
          9,
          7,
          6,
          10,
          8,
          7,
          5,
          9,
          10,
          7,
          4,
          8,
          10,
          7,
          5,
          7,
          9,
          6,
          8,
          8,
          10,
          9,
          6,
          8,
          9,
          10,
          7,
          10,
          9,
          8,
          6,
          9,
          10,
          7,
          2,
          8,
          10,
          7,
          6,
          8,
          10,
          7,
          9,
          1,
          5,
          10,
          7,
          2,
          9,
          8,
          6,
          10,
          8,
          6,
          7,
          10,
          6,
          8,
          4,
          10,
          6,
          7,
          4,
          4,
          10,
          5,
          7,
          1,
          10,
          7,
          5,
          3,
          6,
          10,
          8,
          4,
          6,
          8,
          5,
          3,
          10,
          7,
          5,
          6,
          10,
          5,
          7,
          3,
          10,
          7,
          8,
          10,
          9,
          6,
          7,
          1,
          8,
          10,
          6,
          1,
          10,
          7,
          8,
          1,
          9,
          7,
          5,
          2,
          10,
          6,
          8,
          8,
          10,
          7,
          9,
          10,
          6,
          7,
          8,
          1,
          10,
          8,
          9,
          1,
          10,
          8,
          6,
          1,
          5,
          8,
          7,
          9,
          7,
          6,
          10,
          1,
          9,
          8,
          6,
          5,
          9,
          10,
          6,
          10,
          8,
          6,
          5,
          1,
          10,
          7,
          6,
          1,
          8,
          9,
          5,
          10,
          8,
          5,
          3,
          5,
          10,
          8,
          4,
          1,
          5,
          6,
          8,
          10,
          5,
          7,
          8,
          9,
          8,
          10,
          5,
          10,
          6,
          4,
          5,
          2,
          10,
          7,
          9,
          10,
          7,
          4,
          6,
          10,
          6,
          4,
          5,
          10,
          9,
          5,
          7,
          10,
          6,
          4,
          7,
          1,
          5,
          9,
          10,
          1,
          9,
          6,
          8,
          1,
          10,
          7,
          4,
          7,
          8,
          4,
          5,
          10,
          5,
          6,
          7,
          1,
          7,
          5,
          8,
          9,
          6,
          8,
          5,
          9,
          3,
          8,
          6,
          3,
          10,
          4,
          8,
          8,
          10,
          6,
          4,
          9,
          7,
          8,
          10,
          9,
          6,
          7,
          8,
          8,
          10,
          7,
          4,
          1,
          9,
          5,
          6,
          8,
          9,
          7,
          6,
          1,
          9,
          7,
          4,
          10,
          8,
          6,
          7,
          8,
          10,
          6,
          7,
          9,
          8,
          3,
          10,
          8,
          6,
          7,
          10,
          9,
          7,
          6,
          1,
          9,
          7,
          4,
          8,
          7,
          9,
          5,
          1,
          8,
          9,
          7,
          8,
          9,
          10,
          4,
          8,
          10,
          7,
          5,
          10,
          5,
          6,
          9,
          2,
          10,
          8,
          5,
          8,
          9,
          6,
          10,
          8,
          7,
          9,
          10,
          9,
          8,
          5,
          6,
          10,
          8,
          5,
          9,
          9,
          8,
          5,
          3,
          3,
          1,
          5,
          10,
          4,
          10,
          8,
          6,
          3,
          4,
          2,
          10,
          6,
          9,
          3,
          10,
          1,
          7,
          8,
          9,
          9,
          10,
          8,
          3,
          8,
          9,
          10,
          6,
          3,
          8,
          9,
          6,
          1,
          10,
          5,
          4,
          1,
          9,
          5,
          8,
          9,
          7,
          8,
          10,
          3,
          10,
          8,
          9,
          1,
          4,
          7,
          8,
          1,
          5,
          10,
          9,
          1,
          5,
          10,
          6,
          1,
          5,
          10,
          9,
          6,
          10,
          3,
          4,
          1,
          10,
          7,
          8,
          5,
          10,
          8,
          7,
          1,
          6,
          3,
          10,
          9,
          2,
          6,
          8,
          4,
          7,
          8,
          9,
          10,
          4,
          2,
          3,
          1,
          10,
          2,
          3,
          10,
          8,
          6,
          9,
          6,
          1,
          7,
          9,
          5,
          10,
          2,
          3,
          10,
          3,
          7,
          9,
          2,
          5,
          10,
          9,
          10,
          3,
          5,
          8,
          4,
          9,
          7,
          6,
          10,
          7,
          2,
          4,
          9,
          2,
          6,
          8,
          1,
          10,
          5,
          9,
          1,
          4,
          2,
          8,
          1,
          10,
          4,
          6,
          1,
          5,
          10,
          9,
          10,
          1,
          2,
          7,
          1,
          6,
          10,
          5,
          10,
          4,
          9,
          6,
          10,
          9,
          7,
          8,
          1,
          3,
          7,
          9,
          1,
          9,
          3,
          4,
          9,
          2,
          3,
          5,
          5,
          10,
          9,
          3,
          9,
          1,
          4,
          3
         ],
         "xaxis": "x3",
         "yaxis": "y3",
         "type": "box"
        },
        {
         "alignmentgroup": "True",
         "bingroup": "x",
         "hovertemplate": "Conjunctiva cluster=False<br>Center V (Rank)≥5=True<br>Center H (Rank)=%{x}<br>count=%{y}<extra></extra>",
         "legendgroup": "False",
         "marker": {
          "color": "#EF553B",
          "opacity": 0.6,
          "pattern": {
           "shape": ""
          }
         },
         "name": "False",
         "offsetgroup": "False",
         "orientation": "v",
         "showlegend": false,
         "x": [
          6,
          10,
          8,
          4,
          7,
          10,
          5,
          1,
          2,
          8,
          5,
          5,
          9,
          6,
          3,
          10,
          7,
          5,
          8,
          5,
          1,
          10,
          4,
          6,
          2,
          5,
          4,
          5,
          3,
          6,
          2,
          9,
          7,
          1,
          4,
          2,
          7,
          3,
          6,
          2,
          4,
          1,
          9,
          4,
          6,
          2,
          3,
          9,
          6,
          5,
          3,
          4,
          1,
          5,
          4,
          6,
          1,
          2,
          5,
          6,
          4,
          3,
          2,
          4,
          8,
          5,
          3,
          1,
          2,
          9,
          8,
          1,
          2,
          3,
          6,
          9,
          1,
          3,
          3,
          2,
          5,
          10,
          7,
          2,
          4,
          1,
          6,
          3,
          4,
          1,
          5,
          2,
          1,
          3,
          4,
          3,
          6,
          8,
          1,
          3,
          4,
          2,
          5,
          5,
          3,
          4,
          6,
          4,
          9,
          3,
          7,
          3,
          4,
          5,
          9,
          5,
          3,
          2,
          5,
          7,
          9,
          3,
          3,
          8,
          5,
          1,
          8,
          6,
          9,
          2,
          8,
          6,
          3,
          9,
          4,
          4,
          7,
          9,
          2,
          1,
          9,
          10,
          2,
          7,
          6,
          8,
          9,
          1,
          8,
          9,
          3,
          1,
          9,
          4,
          6,
          1,
          5,
          8,
          2,
          4,
          7,
          9,
          3,
          2,
          4,
          6,
          3,
          2,
          6,
          3,
          2,
          10,
          7,
          5,
          4,
          9,
          1,
          4,
          3,
          5,
          2,
          9,
          4,
          5,
          2,
          4,
          6,
          7,
          5,
          3,
          3,
          7,
          9,
          2,
          9,
          10,
          4,
          2,
          3,
          8,
          4,
          2,
          7,
          4,
          10,
          3,
          5,
          7,
          8,
          4,
          3,
          9,
          4,
          7,
          3,
          1,
          4,
          9,
          5,
          3,
          10,
          4,
          2,
          6,
          4,
          7,
          9,
          2,
          6,
          9,
          7,
          2,
          3,
          3,
          9,
          10,
          4,
          9,
          4,
          3,
          1,
          7,
          4,
          2,
          6,
          3,
          7,
          9,
          3,
          8,
          2,
          4,
          5,
          8,
          3,
          6,
          8,
          3,
          9,
          2,
          1,
          9,
          7,
          2,
          1,
          8,
          4,
          6,
          3,
          2,
          8,
          9,
          5,
          2,
          1,
          6,
          7,
          8,
          3,
          4,
          5,
          10,
          3,
          2,
          6,
          8,
          9,
          3,
          2,
          9,
          6,
          2,
          3,
          9,
          3,
          2,
          8,
          6,
          9,
          10,
          3,
          4,
          10,
          7,
          2,
          5,
          10,
          7,
          1,
          5,
          9,
          6,
          2,
          7,
          2,
          5,
          9,
          5,
          6,
          3,
          4,
          1,
          10,
          3,
          4,
          2,
          6,
          3,
          5,
          1,
          8,
          3,
          4,
          7,
          4,
          3,
          2,
          1,
          6,
          3,
          10,
          5,
          4,
          9,
          2,
          1,
          4,
          9,
          3,
          2,
          6,
          10,
          2,
          5,
          3,
          5,
          2,
          3,
          2,
          5,
          1,
          6,
          3,
          8,
          2,
          10,
          2,
          3,
          6,
          1,
          5,
          6,
          3,
          2,
          5,
          6,
          7,
          2,
          3,
          2,
          3,
          4,
          1,
          7,
          2,
          3,
          1,
          6,
          7,
          4,
          3,
          1,
          2,
          4,
          7,
          5,
          6,
          3,
          4,
          1,
          10,
          2,
          3,
          1,
          4,
          6,
          2,
          3,
          4,
          7,
          1,
          10,
          7,
          9,
          6,
          8,
          2,
          1,
          5,
          2,
          3,
          9,
          7,
          9,
          5,
          8,
          1,
          7,
          8,
          5,
          4,
          1,
          5,
          4,
          3,
          5,
          6,
          7,
          1,
          2,
          3,
          5,
          5,
          10,
          2,
          1,
          4,
          7,
          3,
          6,
          2,
          6,
          4,
          10,
          5,
          4,
          1,
          6,
          4,
          7,
          1,
          10,
          6,
          5,
          3,
          2,
          6,
          7,
          2,
          3,
          8,
          4,
          9,
          2,
          7,
          4,
          6,
          3,
          2,
          2,
          7,
          8,
          5,
          1,
          3,
          5,
          4,
          2,
          3,
          6,
          2,
          4,
          1,
          9,
          7,
          5,
          4,
          2,
          3,
          4,
          7,
          10,
          1,
          10,
          5,
          2,
          6,
          3,
          6,
          7,
          9,
          8,
          8,
          6,
          7,
          5,
          9,
          5,
          7,
          4,
          1,
          10,
          3,
          5,
          2,
          9,
          7,
          4,
          1,
          1,
          6,
          2,
          7,
          6,
          4,
          8,
          1,
          4,
          2,
          9,
          1,
          5,
          3,
          10,
          1,
          8,
          1,
          1,
          10,
          4,
          7,
          6,
          8,
          4,
          3,
          2,
          10,
          6,
          5,
          7,
          8,
          7,
          3,
          2,
          8,
          6,
          7,
          4,
          4,
          8,
          6,
          9,
          3,
          7,
          4,
          7,
          5,
          8,
          1,
          4,
          6,
          2,
          1,
          2,
          4,
          10,
          5,
          6,
          10,
          8,
          2,
          8,
          7,
          6,
          10,
          4,
          6,
          2,
          1,
          7,
          5,
          8,
          10
         ],
         "xaxis": "x2",
         "yaxis": "y2",
         "type": "histogram"
        },
        {
         "alignmentgroup": "True",
         "hovertemplate": "Conjunctiva cluster=False<br>Center V (Rank)≥5=True<br>Center H (Rank)=%{x}<extra></extra>",
         "legendgroup": "False",
         "marker": {
          "color": "#EF553B"
         },
         "name": "False",
         "notched": true,
         "offsetgroup": "False",
         "showlegend": false,
         "x": [
          6,
          10,
          8,
          4,
          7,
          10,
          5,
          1,
          2,
          8,
          5,
          5,
          9,
          6,
          3,
          10,
          7,
          5,
          8,
          5,
          1,
          10,
          4,
          6,
          2,
          5,
          4,
          5,
          3,
          6,
          2,
          9,
          7,
          1,
          4,
          2,
          7,
          3,
          6,
          2,
          4,
          1,
          9,
          4,
          6,
          2,
          3,
          9,
          6,
          5,
          3,
          4,
          1,
          5,
          4,
          6,
          1,
          2,
          5,
          6,
          4,
          3,
          2,
          4,
          8,
          5,
          3,
          1,
          2,
          9,
          8,
          1,
          2,
          3,
          6,
          9,
          1,
          3,
          3,
          2,
          5,
          10,
          7,
          2,
          4,
          1,
          6,
          3,
          4,
          1,
          5,
          2,
          1,
          3,
          4,
          3,
          6,
          8,
          1,
          3,
          4,
          2,
          5,
          5,
          3,
          4,
          6,
          4,
          9,
          3,
          7,
          3,
          4,
          5,
          9,
          5,
          3,
          2,
          5,
          7,
          9,
          3,
          3,
          8,
          5,
          1,
          8,
          6,
          9,
          2,
          8,
          6,
          3,
          9,
          4,
          4,
          7,
          9,
          2,
          1,
          9,
          10,
          2,
          7,
          6,
          8,
          9,
          1,
          8,
          9,
          3,
          1,
          9,
          4,
          6,
          1,
          5,
          8,
          2,
          4,
          7,
          9,
          3,
          2,
          4,
          6,
          3,
          2,
          6,
          3,
          2,
          10,
          7,
          5,
          4,
          9,
          1,
          4,
          3,
          5,
          2,
          9,
          4,
          5,
          2,
          4,
          6,
          7,
          5,
          3,
          3,
          7,
          9,
          2,
          9,
          10,
          4,
          2,
          3,
          8,
          4,
          2,
          7,
          4,
          10,
          3,
          5,
          7,
          8,
          4,
          3,
          9,
          4,
          7,
          3,
          1,
          4,
          9,
          5,
          3,
          10,
          4,
          2,
          6,
          4,
          7,
          9,
          2,
          6,
          9,
          7,
          2,
          3,
          3,
          9,
          10,
          4,
          9,
          4,
          3,
          1,
          7,
          4,
          2,
          6,
          3,
          7,
          9,
          3,
          8,
          2,
          4,
          5,
          8,
          3,
          6,
          8,
          3,
          9,
          2,
          1,
          9,
          7,
          2,
          1,
          8,
          4,
          6,
          3,
          2,
          8,
          9,
          5,
          2,
          1,
          6,
          7,
          8,
          3,
          4,
          5,
          10,
          3,
          2,
          6,
          8,
          9,
          3,
          2,
          9,
          6,
          2,
          3,
          9,
          3,
          2,
          8,
          6,
          9,
          10,
          3,
          4,
          10,
          7,
          2,
          5,
          10,
          7,
          1,
          5,
          9,
          6,
          2,
          7,
          2,
          5,
          9,
          5,
          6,
          3,
          4,
          1,
          10,
          3,
          4,
          2,
          6,
          3,
          5,
          1,
          8,
          3,
          4,
          7,
          4,
          3,
          2,
          1,
          6,
          3,
          10,
          5,
          4,
          9,
          2,
          1,
          4,
          9,
          3,
          2,
          6,
          10,
          2,
          5,
          3,
          5,
          2,
          3,
          2,
          5,
          1,
          6,
          3,
          8,
          2,
          10,
          2,
          3,
          6,
          1,
          5,
          6,
          3,
          2,
          5,
          6,
          7,
          2,
          3,
          2,
          3,
          4,
          1,
          7,
          2,
          3,
          1,
          6,
          7,
          4,
          3,
          1,
          2,
          4,
          7,
          5,
          6,
          3,
          4,
          1,
          10,
          2,
          3,
          1,
          4,
          6,
          2,
          3,
          4,
          7,
          1,
          10,
          7,
          9,
          6,
          8,
          2,
          1,
          5,
          2,
          3,
          9,
          7,
          9,
          5,
          8,
          1,
          7,
          8,
          5,
          4,
          1,
          5,
          4,
          3,
          5,
          6,
          7,
          1,
          2,
          3,
          5,
          5,
          10,
          2,
          1,
          4,
          7,
          3,
          6,
          2,
          6,
          4,
          10,
          5,
          4,
          1,
          6,
          4,
          7,
          1,
          10,
          6,
          5,
          3,
          2,
          6,
          7,
          2,
          3,
          8,
          4,
          9,
          2,
          7,
          4,
          6,
          3,
          2,
          2,
          7,
          8,
          5,
          1,
          3,
          5,
          4,
          2,
          3,
          6,
          2,
          4,
          1,
          9,
          7,
          5,
          4,
          2,
          3,
          4,
          7,
          10,
          1,
          10,
          5,
          2,
          6,
          3,
          6,
          7,
          9,
          8,
          8,
          6,
          7,
          5,
          9,
          5,
          7,
          4,
          1,
          10,
          3,
          5,
          2,
          9,
          7,
          4,
          1,
          1,
          6,
          2,
          7,
          6,
          4,
          8,
          1,
          4,
          2,
          9,
          1,
          5,
          3,
          10,
          1,
          8,
          1,
          1,
          10,
          4,
          7,
          6,
          8,
          4,
          3,
          2,
          10,
          6,
          5,
          7,
          8,
          7,
          3,
          2,
          8,
          6,
          7,
          4,
          4,
          8,
          6,
          9,
          3,
          7,
          4,
          7,
          5,
          8,
          1,
          4,
          6,
          2,
          1,
          2,
          4,
          10,
          5,
          6,
          10,
          8,
          2,
          8,
          7,
          6,
          10,
          4,
          6,
          2,
          1,
          7,
          5,
          8,
          10
         ],
         "xaxis": "x4",
         "yaxis": "y4",
         "type": "box"
        },
        {
         "alignmentgroup": "True",
         "bingroup": "x",
         "hovertemplate": "Conjunctiva cluster=Maybe<br>Center V (Rank)≥5=True<br>Center H (Rank)=%{x}<br>count=%{y}<extra></extra>",
         "legendgroup": "Maybe",
         "marker": {
          "color": "#636EFA",
          "opacity": 0.6,
          "pattern": {
           "shape": ""
          }
         },
         "name": "Maybe",
         "offsetgroup": "Maybe",
         "orientation": "v",
         "showlegend": true,
         "x": [
          2,
          4,
          5,
          6,
          2,
          3,
          2,
          5,
          3,
          4,
          8,
          6,
          3,
          3,
          5,
          1,
          6,
          2,
          3,
          7,
          3,
          10,
          8,
          5,
          1,
          4,
          4,
          3,
          2,
          4,
          7,
          7,
          5,
          3,
          8,
          4,
          6,
          3,
          5,
          3,
          3,
          8,
          7,
          7,
          6
         ],
         "xaxis": "x2",
         "yaxis": "y2",
         "type": "histogram"
        },
        {
         "alignmentgroup": "True",
         "hovertemplate": "Conjunctiva cluster=Maybe<br>Center V (Rank)≥5=True<br>Center H (Rank)=%{x}<extra></extra>",
         "legendgroup": "Maybe",
         "marker": {
          "color": "#636EFA"
         },
         "name": "Maybe",
         "notched": true,
         "offsetgroup": "Maybe",
         "showlegend": false,
         "x": [
          2,
          4,
          5,
          6,
          2,
          3,
          2,
          5,
          3,
          4,
          8,
          6,
          3,
          3,
          5,
          1,
          6,
          2,
          3,
          7,
          3,
          10,
          8,
          5,
          1,
          4,
          4,
          3,
          2,
          4,
          7,
          7,
          5,
          3,
          8,
          4,
          6,
          3,
          5,
          3,
          3,
          8,
          7,
          7,
          6
         ],
         "xaxis": "x4",
         "yaxis": "y4",
         "type": "box"
        },
        {
         "alignmentgroup": "True",
         "bingroup": "x",
         "hovertemplate": "Conjunctiva cluster=True<br>Center V (Rank)≥5=False<br>Center H (Rank)=%{x}<br>count=%{y}<extra></extra>",
         "legendgroup": "True",
         "marker": {
          "color": "#00CC96",
          "opacity": 0.6,
          "pattern": {
           "shape": ""
          }
         },
         "name": "True",
         "offsetgroup": "True",
         "orientation": "v",
         "showlegend": true,
         "x": [
          8,
          7
         ],
         "xaxis": "x",
         "yaxis": "y",
         "type": "histogram"
        },
        {
         "alignmentgroup": "True",
         "hovertemplate": "Conjunctiva cluster=True<br>Center V (Rank)≥5=False<br>Center H (Rank)=%{x}<extra></extra>",
         "legendgroup": "True",
         "marker": {
          "color": "#00CC96"
         },
         "name": "True",
         "notched": true,
         "offsetgroup": "True",
         "showlegend": false,
         "x": [
          8,
          7
         ],
         "xaxis": "x3",
         "yaxis": "y3",
         "type": "box"
        },
        {
         "alignmentgroup": "True",
         "bingroup": "x",
         "hovertemplate": "Conjunctiva cluster=True<br>Center V (Rank)≥5=True<br>Center H (Rank)=%{x}<br>count=%{y}<extra></extra>",
         "legendgroup": "True",
         "marker": {
          "color": "#00CC96",
          "opacity": 0.6,
          "pattern": {
           "shape": ""
          }
         },
         "name": "True",
         "offsetgroup": "True",
         "orientation": "v",
         "showlegend": false,
         "x": [
          2,
          1,
          4,
          2,
          3,
          1,
          10,
          3,
          1,
          1,
          2,
          2,
          3,
          3,
          1,
          2,
          1,
          5,
          3,
          10,
          1,
          3,
          9,
          5,
          1,
          1,
          2,
          6,
          2,
          9,
          2,
          3,
          1,
          1,
          6,
          4,
          6,
          4,
          2,
          4,
          1,
          3,
          5,
          2,
          5,
          7,
          5,
          4,
          1,
          9,
          2,
          1,
          8,
          2,
          10,
          1,
          4,
          1,
          1,
          2,
          9,
          1,
          3,
          2,
          5,
          1,
          4,
          2,
          4,
          2,
          1,
          5,
          9,
          5,
          4,
          3,
          1,
          1,
          2,
          4,
          5,
          6,
          1,
          2,
          2,
          2,
          8,
          2,
          7,
          3,
          1,
          1,
          7,
          2,
          6,
          1,
          1,
          1,
          5,
          3,
          1,
          8,
          2,
          4,
          5,
          1,
          10,
          1,
          4,
          2,
          4,
          3,
          1,
          2,
          4,
          7,
          1,
          1,
          2,
          5,
          1,
          9,
          2,
          2,
          5,
          10,
          2,
          3,
          5,
          4,
          1,
          9,
          1,
          8,
          10,
          5,
          4,
          4,
          10,
          1,
          6,
          9,
          4,
          8,
          9,
          1,
          5,
          2,
          7,
          4,
          1,
          7,
          2,
          6,
          4,
          7,
          6,
          2,
          6,
          10,
          2,
          4,
          1,
          7,
          9,
          8,
          3,
          2,
          3,
          6,
          2,
          5,
          2,
          9,
          4,
          8,
          7,
          3,
          8,
          9,
          6,
          9,
          9,
          8,
          5,
          1,
          1,
          4,
          2,
          4,
          8,
          6,
          5,
          8,
          3,
          6,
          7,
          2,
          8,
          5,
          3,
          9,
          5,
          7,
          3,
          9,
          9,
          2,
          5,
          9,
          8,
          2,
          3,
          2,
          3,
          5,
          6,
          5,
          4,
          1,
          8,
          2
         ],
         "xaxis": "x2",
         "yaxis": "y2",
         "type": "histogram"
        },
        {
         "alignmentgroup": "True",
         "hovertemplate": "Conjunctiva cluster=True<br>Center V (Rank)≥5=True<br>Center H (Rank)=%{x}<extra></extra>",
         "legendgroup": "True",
         "marker": {
          "color": "#00CC96"
         },
         "name": "True",
         "notched": true,
         "offsetgroup": "True",
         "showlegend": false,
         "x": [
          2,
          1,
          4,
          2,
          3,
          1,
          10,
          3,
          1,
          1,
          2,
          2,
          3,
          3,
          1,
          2,
          1,
          5,
          3,
          10,
          1,
          3,
          9,
          5,
          1,
          1,
          2,
          6,
          2,
          9,
          2,
          3,
          1,
          1,
          6,
          4,
          6,
          4,
          2,
          4,
          1,
          3,
          5,
          2,
          5,
          7,
          5,
          4,
          1,
          9,
          2,
          1,
          8,
          2,
          10,
          1,
          4,
          1,
          1,
          2,
          9,
          1,
          3,
          2,
          5,
          1,
          4,
          2,
          4,
          2,
          1,
          5,
          9,
          5,
          4,
          3,
          1,
          1,
          2,
          4,
          5,
          6,
          1,
          2,
          2,
          2,
          8,
          2,
          7,
          3,
          1,
          1,
          7,
          2,
          6,
          1,
          1,
          1,
          5,
          3,
          1,
          8,
          2,
          4,
          5,
          1,
          10,
          1,
          4,
          2,
          4,
          3,
          1,
          2,
          4,
          7,
          1,
          1,
          2,
          5,
          1,
          9,
          2,
          2,
          5,
          10,
          2,
          3,
          5,
          4,
          1,
          9,
          1,
          8,
          10,
          5,
          4,
          4,
          10,
          1,
          6,
          9,
          4,
          8,
          9,
          1,
          5,
          2,
          7,
          4,
          1,
          7,
          2,
          6,
          4,
          7,
          6,
          2,
          6,
          10,
          2,
          4,
          1,
          7,
          9,
          8,
          3,
          2,
          3,
          6,
          2,
          5,
          2,
          9,
          4,
          8,
          7,
          3,
          8,
          9,
          6,
          9,
          9,
          8,
          5,
          1,
          1,
          4,
          2,
          4,
          8,
          6,
          5,
          8,
          3,
          6,
          7,
          2,
          8,
          5,
          3,
          9,
          5,
          7,
          3,
          9,
          9,
          2,
          5,
          9,
          8,
          2,
          3,
          2,
          3,
          5,
          6,
          5,
          4,
          1,
          8,
          2
         ],
         "xaxis": "x4",
         "yaxis": "y4",
         "type": "box"
        }
       ],
       "layout": {
        "template": {
         "data": {
          "barpolar": [
           {
            "marker": {
             "line": {
              "color": "rgb(17,17,17)",
              "width": 0.5
             },
             "pattern": {
              "fillmode": "overlay",
              "size": 10,
              "solidity": 0.2
             }
            },
            "type": "barpolar"
           }
          ],
          "bar": [
           {
            "error_x": {
             "color": "#f2f5fa"
            },
            "error_y": {
             "color": "#f2f5fa"
            },
            "marker": {
             "line": {
              "color": "rgb(17,17,17)",
              "width": 0.5
             },
             "pattern": {
              "fillmode": "overlay",
              "size": 10,
              "solidity": 0.2
             }
            },
            "type": "bar"
           }
          ],
          "carpet": [
           {
            "aaxis": {
             "endlinecolor": "#A2B1C6",
             "gridcolor": "#506784",
             "linecolor": "#506784",
             "minorgridcolor": "#506784",
             "startlinecolor": "#A2B1C6"
            },
            "baxis": {
             "endlinecolor": "#A2B1C6",
             "gridcolor": "#506784",
             "linecolor": "#506784",
             "minorgridcolor": "#506784",
             "startlinecolor": "#A2B1C6"
            },
            "type": "carpet"
           }
          ],
          "choropleth": [
           {
            "colorbar": {
             "outlinewidth": 0,
             "ticks": ""
            },
            "type": "choropleth"
           }
          ],
          "contourcarpet": [
           {
            "colorbar": {
             "outlinewidth": 0,
             "ticks": ""
            },
            "type": "contourcarpet"
           }
          ],
          "contour": [
           {
            "colorbar": {
             "outlinewidth": 0,
             "ticks": ""
            },
            "colorscale": [
             [
              0.0,
              "#0d0887"
             ],
             [
              0.1111111111111111,
              "#46039f"
             ],
             [
              0.2222222222222222,
              "#7201a8"
             ],
             [
              0.3333333333333333,
              "#9c179e"
             ],
             [
              0.4444444444444444,
              "#bd3786"
             ],
             [
              0.5555555555555556,
              "#d8576b"
             ],
             [
              0.6666666666666666,
              "#ed7953"
             ],
             [
              0.7777777777777778,
              "#fb9f3a"
             ],
             [
              0.8888888888888888,
              "#fdca26"
             ],
             [
              1.0,
              "#f0f921"
             ]
            ],
            "type": "contour"
           }
          ],
          "heatmapgl": [
           {
            "colorbar": {
             "outlinewidth": 0,
             "ticks": ""
            },
            "colorscale": [
             [
              0.0,
              "#0d0887"
             ],
             [
              0.1111111111111111,
              "#46039f"
             ],
             [
              0.2222222222222222,
              "#7201a8"
             ],
             [
              0.3333333333333333,
              "#9c179e"
             ],
             [
              0.4444444444444444,
              "#bd3786"
             ],
             [
              0.5555555555555556,
              "#d8576b"
             ],
             [
              0.6666666666666666,
              "#ed7953"
             ],
             [
              0.7777777777777778,
              "#fb9f3a"
             ],
             [
              0.8888888888888888,
              "#fdca26"
             ],
             [
              1.0,
              "#f0f921"
             ]
            ],
            "type": "heatmapgl"
           }
          ],
          "heatmap": [
           {
            "colorbar": {
             "outlinewidth": 0,
             "ticks": ""
            },
            "colorscale": [
             [
              0.0,
              "#0d0887"
             ],
             [
              0.1111111111111111,
              "#46039f"
             ],
             [
              0.2222222222222222,
              "#7201a8"
             ],
             [
              0.3333333333333333,
              "#9c179e"
             ],
             [
              0.4444444444444444,
              "#bd3786"
             ],
             [
              0.5555555555555556,
              "#d8576b"
             ],
             [
              0.6666666666666666,
              "#ed7953"
             ],
             [
              0.7777777777777778,
              "#fb9f3a"
             ],
             [
              0.8888888888888888,
              "#fdca26"
             ],
             [
              1.0,
              "#f0f921"
             ]
            ],
            "type": "heatmap"
           }
          ],
          "histogram2dcontour": [
           {
            "colorbar": {
             "outlinewidth": 0,
             "ticks": ""
            },
            "colorscale": [
             [
              0.0,
              "#0d0887"
             ],
             [
              0.1111111111111111,
              "#46039f"
             ],
             [
              0.2222222222222222,
              "#7201a8"
             ],
             [
              0.3333333333333333,
              "#9c179e"
             ],
             [
              0.4444444444444444,
              "#bd3786"
             ],
             [
              0.5555555555555556,
              "#d8576b"
             ],
             [
              0.6666666666666666,
              "#ed7953"
             ],
             [
              0.7777777777777778,
              "#fb9f3a"
             ],
             [
              0.8888888888888888,
              "#fdca26"
             ],
             [
              1.0,
              "#f0f921"
             ]
            ],
            "type": "histogram2dcontour"
           }
          ],
          "histogram2d": [
           {
            "colorbar": {
             "outlinewidth": 0,
             "ticks": ""
            },
            "colorscale": [
             [
              0.0,
              "#0d0887"
             ],
             [
              0.1111111111111111,
              "#46039f"
             ],
             [
              0.2222222222222222,
              "#7201a8"
             ],
             [
              0.3333333333333333,
              "#9c179e"
             ],
             [
              0.4444444444444444,
              "#bd3786"
             ],
             [
              0.5555555555555556,
              "#d8576b"
             ],
             [
              0.6666666666666666,
              "#ed7953"
             ],
             [
              0.7777777777777778,
              "#fb9f3a"
             ],
             [
              0.8888888888888888,
              "#fdca26"
             ],
             [
              1.0,
              "#f0f921"
             ]
            ],
            "type": "histogram2d"
           }
          ],
          "histogram": [
           {
            "marker": {
             "pattern": {
              "fillmode": "overlay",
              "size": 10,
              "solidity": 0.2
             }
            },
            "type": "histogram"
           }
          ],
          "mesh3d": [
           {
            "colorbar": {
             "outlinewidth": 0,
             "ticks": ""
            },
            "type": "mesh3d"
           }
          ],
          "parcoords": [
           {
            "line": {
             "colorbar": {
              "outlinewidth": 0,
              "ticks": ""
             }
            },
            "type": "parcoords"
           }
          ],
          "pie": [
           {
            "automargin": true,
            "type": "pie"
           }
          ],
          "scatter3d": [
           {
            "line": {
             "colorbar": {
              "outlinewidth": 0,
              "ticks": ""
             }
            },
            "marker": {
             "colorbar": {
              "outlinewidth": 0,
              "ticks": ""
             }
            },
            "type": "scatter3d"
           }
          ],
          "scattercarpet": [
           {
            "marker": {
             "colorbar": {
              "outlinewidth": 0,
              "ticks": ""
             }
            },
            "type": "scattercarpet"
           }
          ],
          "scattergeo": [
           {
            "marker": {
             "colorbar": {
              "outlinewidth": 0,
              "ticks": ""
             }
            },
            "type": "scattergeo"
           }
          ],
          "scattergl": [
           {
            "marker": {
             "line": {
              "color": "#283442"
             }
            },
            "type": "scattergl"
           }
          ],
          "scattermapbox": [
           {
            "marker": {
             "colorbar": {
              "outlinewidth": 0,
              "ticks": ""
             }
            },
            "type": "scattermapbox"
           }
          ],
          "scatterpolargl": [
           {
            "marker": {
             "colorbar": {
              "outlinewidth": 0,
              "ticks": ""
             }
            },
            "type": "scatterpolargl"
           }
          ],
          "scatterpolar": [
           {
            "marker": {
             "colorbar": {
              "outlinewidth": 0,
              "ticks": ""
             }
            },
            "type": "scatterpolar"
           }
          ],
          "scatter": [
           {
            "marker": {
             "line": {
              "color": "#283442"
             }
            },
            "type": "scatter"
           }
          ],
          "scatterternary": [
           {
            "marker": {
             "colorbar": {
              "outlinewidth": 0,
              "ticks": ""
             }
            },
            "type": "scatterternary"
           }
          ],
          "surface": [
           {
            "colorbar": {
             "outlinewidth": 0,
             "ticks": ""
            },
            "colorscale": [
             [
              0.0,
              "#0d0887"
             ],
             [
              0.1111111111111111,
              "#46039f"
             ],
             [
              0.2222222222222222,
              "#7201a8"
             ],
             [
              0.3333333333333333,
              "#9c179e"
             ],
             [
              0.4444444444444444,
              "#bd3786"
             ],
             [
              0.5555555555555556,
              "#d8576b"
             ],
             [
              0.6666666666666666,
              "#ed7953"
             ],
             [
              0.7777777777777778,
              "#fb9f3a"
             ],
             [
              0.8888888888888888,
              "#fdca26"
             ],
             [
              1.0,
              "#f0f921"
             ]
            ],
            "type": "surface"
           }
          ],
          "table": [
           {
            "cells": {
             "fill": {
              "color": "#506784"
             },
             "line": {
              "color": "rgb(17,17,17)"
             }
            },
            "header": {
             "fill": {
              "color": "#2a3f5f"
             },
             "line": {
              "color": "rgb(17,17,17)"
             }
            },
            "type": "table"
           }
          ]
         },
         "layout": {
          "annotationdefaults": {
           "arrowcolor": "#f2f5fa",
           "arrowhead": 0,
           "arrowwidth": 1
          },
          "autotypenumbers": "strict",
          "coloraxis": {
           "colorbar": {
            "outlinewidth": 0,
            "ticks": ""
           }
          },
          "colorscale": {
           "diverging": [
            [
             0,
             "#8e0152"
            ],
            [
             0.1,
             "#c51b7d"
            ],
            [
             0.2,
             "#de77ae"
            ],
            [
             0.3,
             "#f1b6da"
            ],
            [
             0.4,
             "#fde0ef"
            ],
            [
             0.5,
             "#f7f7f7"
            ],
            [
             0.6,
             "#e6f5d0"
            ],
            [
             0.7,
             "#b8e186"
            ],
            [
             0.8,
             "#7fbc41"
            ],
            [
             0.9,
             "#4d9221"
            ],
            [
             1,
             "#276419"
            ]
           ],
           "sequential": [
            [
             0.0,
             "#0d0887"
            ],
            [
             0.1111111111111111,
             "#46039f"
            ],
            [
             0.2222222222222222,
             "#7201a8"
            ],
            [
             0.3333333333333333,
             "#9c179e"
            ],
            [
             0.4444444444444444,
             "#bd3786"
            ],
            [
             0.5555555555555556,
             "#d8576b"
            ],
            [
             0.6666666666666666,
             "#ed7953"
            ],
            [
             0.7777777777777778,
             "#fb9f3a"
            ],
            [
             0.8888888888888888,
             "#fdca26"
            ],
            [
             1.0,
             "#f0f921"
            ]
           ],
           "sequentialminus": [
            [
             0.0,
             "#0d0887"
            ],
            [
             0.1111111111111111,
             "#46039f"
            ],
            [
             0.2222222222222222,
             "#7201a8"
            ],
            [
             0.3333333333333333,
             "#9c179e"
            ],
            [
             0.4444444444444444,
             "#bd3786"
            ],
            [
             0.5555555555555556,
             "#d8576b"
            ],
            [
             0.6666666666666666,
             "#ed7953"
            ],
            [
             0.7777777777777778,
             "#fb9f3a"
            ],
            [
             0.8888888888888888,
             "#fdca26"
            ],
            [
             1.0,
             "#f0f921"
            ]
           ]
          },
          "colorway": [
           "#636efa",
           "#EF553B",
           "#00cc96",
           "#ab63fa",
           "#FFA15A",
           "#19d3f3",
           "#FF6692",
           "#B6E880",
           "#FF97FF",
           "#FECB52"
          ],
          "font": {
           "color": "#f2f5fa"
          },
          "geo": {
           "bgcolor": "rgb(17,17,17)",
           "lakecolor": "rgb(17,17,17)",
           "landcolor": "rgb(17,17,17)",
           "showlakes": true,
           "showland": true,
           "subunitcolor": "#506784"
          },
          "hoverlabel": {
           "align": "left"
          },
          "hovermode": "closest",
          "mapbox": {
           "style": "dark"
          },
          "paper_bgcolor": "rgb(17,17,17)",
          "plot_bgcolor": "rgb(17,17,17)",
          "polar": {
           "angularaxis": {
            "gridcolor": "#506784",
            "linecolor": "#506784",
            "ticks": ""
           },
           "bgcolor": "rgb(17,17,17)",
           "radialaxis": {
            "gridcolor": "#506784",
            "linecolor": "#506784",
            "ticks": ""
           }
          },
          "scene": {
           "xaxis": {
            "backgroundcolor": "rgb(17,17,17)",
            "gridcolor": "#506784",
            "gridwidth": 2,
            "linecolor": "#506784",
            "showbackground": true,
            "ticks": "",
            "zerolinecolor": "#C8D4E3"
           },
           "yaxis": {
            "backgroundcolor": "rgb(17,17,17)",
            "gridcolor": "#506784",
            "gridwidth": 2,
            "linecolor": "#506784",
            "showbackground": true,
            "ticks": "",
            "zerolinecolor": "#C8D4E3"
           },
           "zaxis": {
            "backgroundcolor": "rgb(17,17,17)",
            "gridcolor": "#506784",
            "gridwidth": 2,
            "linecolor": "#506784",
            "showbackground": true,
            "ticks": "",
            "zerolinecolor": "#C8D4E3"
           }
          },
          "shapedefaults": {
           "line": {
            "color": "#f2f5fa"
           }
          },
          "sliderdefaults": {
           "bgcolor": "#C8D4E3",
           "bordercolor": "rgb(17,17,17)",
           "borderwidth": 1,
           "tickwidth": 0
          },
          "ternary": {
           "aaxis": {
            "gridcolor": "#506784",
            "linecolor": "#506784",
            "ticks": ""
           },
           "baxis": {
            "gridcolor": "#506784",
            "linecolor": "#506784",
            "ticks": ""
           },
           "bgcolor": "rgb(17,17,17)",
           "caxis": {
            "gridcolor": "#506784",
            "linecolor": "#506784",
            "ticks": ""
           }
          },
          "title": {
           "x": 0.05
          },
          "updatemenudefaults": {
           "bgcolor": "#506784",
           "borderwidth": 0
          },
          "xaxis": {
           "automargin": true,
           "gridcolor": "#283442",
           "linecolor": "#506784",
           "ticks": "",
           "title": {
            "standoff": 15
           },
           "zerolinecolor": "#283442",
           "zerolinewidth": 2
          },
          "yaxis": {
           "automargin": true,
           "gridcolor": "#283442",
           "linecolor": "#506784",
           "ticks": "",
           "title": {
            "standoff": 15
           },
           "zerolinecolor": "#283442",
           "zerolinewidth": 2
          }
         }
        },
        "xaxis": {
         "anchor": "y",
         "domain": [
          0.0,
          0.49
         ],
         "title": {
          "text": "Center H (Rank)"
         }
        },
        "yaxis": {
         "anchor": "x",
         "domain": [
          0.0,
          0.7326
         ],
         "title": {
          "text": "count"
         }
        },
        "xaxis2": {
         "anchor": "y2",
         "domain": [
          0.51,
          1.0
         ],
         "matches": "x",
         "title": {
          "text": "Center H (Rank)"
         }
        },
        "yaxis2": {
         "anchor": "x2",
         "domain": [
          0.0,
          0.7326
         ],
         "matches": "y",
         "showticklabels": false
        },
        "xaxis3": {
         "anchor": "y3",
         "domain": [
          0.0,
          0.49
         ],
         "matches": "x",
         "showticklabels": false,
         "showgrid": true
        },
        "yaxis3": {
         "anchor": "x3",
         "domain": [
          0.7426,
          1.0
         ],
         "matches": "y3",
         "showticklabels": false,
         "showline": false,
         "ticks": "",
         "showgrid": false
        },
        "xaxis4": {
         "anchor": "y4",
         "domain": [
          0.51,
          1.0
         ],
         "matches": "x",
         "showticklabels": false,
         "showgrid": true
        },
        "yaxis4": {
         "anchor": "x4",
         "domain": [
          0.7426,
          1.0
         ],
         "matches": "y3",
         "showticklabels": false,
         "showline": false,
         "ticks": "",
         "showgrid": false
        },
        "annotations": [
         {
          "font": {},
          "showarrow": false,
          "text": "Center V (Rank)≥5=False",
          "x": 0.245,
          "xanchor": "center",
          "xref": "paper",
          "y": 1.0,
          "yanchor": "bottom",
          "yref": "paper"
         },
         {
          "font": {},
          "showarrow": false,
          "text": "Center V (Rank)≥5=True",
          "x": 0.755,
          "xanchor": "center",
          "xref": "paper",
          "y": 1.0,
          "yanchor": "bottom",
          "yref": "paper"
         }
        ],
        "legend": {
         "title": {
          "text": "Conjunctiva cluster"
         },
         "tracegroupgap": 0
        },
        "margin": {
         "t": 20,
         "l": 20,
         "r": 20,
         "b": 20
        },
        "barmode": "group",
        "bargap": 0.04,
        "font": {
         "family": "Arial",
         "size": 16
        }
       },
       "config": {
        "plotlyServerURL": "https://plot.ly"
       }
      },
      "text/html": "<div>                            <div id=\"089d27f4-85bc-4f3a-b394-549acad0523e\" class=\"plotly-graph-div\" style=\"height:525px; width:100%;\"></div>            <script type=\"text/javascript\">                require([\"plotly\"], function(Plotly) {                    window.PLOTLYENV=window.PLOTLYENV || {};                                    if (document.getElementById(\"089d27f4-85bc-4f3a-b394-549acad0523e\")) {                    Plotly.newPlot(                        \"089d27f4-85bc-4f3a-b394-549acad0523e\",                        [{\"alignmentgroup\":\"True\",\"bingroup\":\"x\",\"hovertemplate\":\"Conjunctiva cluster=False<br>Center V (Rank)\\u22655=False<br>Center H (Rank)=%{x}<br>count=%{y}<extra></extra>\",\"legendgroup\":\"False\",\"marker\":{\"color\":\"#EF553B\",\"opacity\":0.6,\"pattern\":{\"shape\":\"\"}},\"name\":\"False\",\"offsetgroup\":\"False\",\"orientation\":\"v\",\"showlegend\":true,\"x\":[9,7,5,3,8,9,3,6,9,4,7,6,10,8,7,4,9,8,6,4,7,9,6,4,8,10,7,9,8,10,7,9,10,6,8,4,9,8,5,6,5,10,7,8,8,7,10,3,10,8,7,5,10,8,9,7,8,10,3,7,10,9,7,10,9,7,6,10,8,7,5,9,10,7,4,8,10,7,5,7,9,6,8,8,10,9,6,8,9,10,7,10,9,8,6,9,10,7,2,8,10,7,6,8,10,7,9,1,5,10,7,2,9,8,6,10,8,6,7,10,6,8,4,10,6,7,4,4,10,5,7,1,10,7,5,3,6,10,8,4,6,8,5,3,10,7,5,6,10,5,7,3,10,7,8,10,9,6,7,1,8,10,6,1,10,7,8,1,9,7,5,2,10,6,8,8,10,7,9,10,6,7,8,1,10,8,9,1,10,8,6,1,5,8,7,9,7,6,10,1,9,8,6,5,9,10,6,10,8,6,5,1,10,7,6,1,8,9,5,10,8,5,3,5,10,8,4,1,5,6,8,10,5,7,8,9,8,10,5,10,6,4,5,2,10,7,9,10,7,4,6,10,6,4,5,10,9,5,7,10,6,4,7,1,5,9,10,1,9,6,8,1,10,7,4,7,8,4,5,10,5,6,7,1,7,5,8,9,6,8,5,9,3,8,6,3,10,4,8,8,10,6,4,9,7,8,10,9,6,7,8,8,10,7,4,1,9,5,6,8,9,7,6,1,9,7,4,10,8,6,7,8,10,6,7,9,8,3,10,8,6,7,10,9,7,6,1,9,7,4,8,7,9,5,1,8,9,7,8,9,10,4,8,10,7,5,10,5,6,9,2,10,8,5,8,9,6,10,8,7,9,10,9,8,5,6,10,8,5,9,9,8,5,3,3,1,5,10,4,10,8,6,3,4,2,10,6,9,3,10,1,7,8,9,9,10,8,3,8,9,10,6,3,8,9,6,1,10,5,4,1,9,5,8,9,7,8,10,3,10,8,9,1,4,7,8,1,5,10,9,1,5,10,6,1,5,10,9,6,10,3,4,1,10,7,8,5,10,8,7,1,6,3,10,9,2,6,8,4,7,8,9,10,4,2,3,1,10,2,3,10,8,6,9,6,1,7,9,5,10,2,3,10,3,7,9,2,5,10,9,10,3,5,8,4,9,7,6,10,7,2,4,9,2,6,8,1,10,5,9,1,4,2,8,1,10,4,6,1,5,10,9,10,1,2,7,1,6,10,5,10,4,9,6,10,9,7,8,1,3,7,9,1,9,3,4,9,2,3,5,5,10,9,3,9,1,4,3],\"xaxis\":\"x\",\"yaxis\":\"y\",\"type\":\"histogram\"},{\"alignmentgroup\":\"True\",\"hovertemplate\":\"Conjunctiva cluster=False<br>Center V (Rank)\\u22655=False<br>Center H (Rank)=%{x}<extra></extra>\",\"legendgroup\":\"False\",\"marker\":{\"color\":\"#EF553B\"},\"name\":\"False\",\"notched\":true,\"offsetgroup\":\"False\",\"showlegend\":false,\"x\":[9,7,5,3,8,9,3,6,9,4,7,6,10,8,7,4,9,8,6,4,7,9,6,4,8,10,7,9,8,10,7,9,10,6,8,4,9,8,5,6,5,10,7,8,8,7,10,3,10,8,7,5,10,8,9,7,8,10,3,7,10,9,7,10,9,7,6,10,8,7,5,9,10,7,4,8,10,7,5,7,9,6,8,8,10,9,6,8,9,10,7,10,9,8,6,9,10,7,2,8,10,7,6,8,10,7,9,1,5,10,7,2,9,8,6,10,8,6,7,10,6,8,4,10,6,7,4,4,10,5,7,1,10,7,5,3,6,10,8,4,6,8,5,3,10,7,5,6,10,5,7,3,10,7,8,10,9,6,7,1,8,10,6,1,10,7,8,1,9,7,5,2,10,6,8,8,10,7,9,10,6,7,8,1,10,8,9,1,10,8,6,1,5,8,7,9,7,6,10,1,9,8,6,5,9,10,6,10,8,6,5,1,10,7,6,1,8,9,5,10,8,5,3,5,10,8,4,1,5,6,8,10,5,7,8,9,8,10,5,10,6,4,5,2,10,7,9,10,7,4,6,10,6,4,5,10,9,5,7,10,6,4,7,1,5,9,10,1,9,6,8,1,10,7,4,7,8,4,5,10,5,6,7,1,7,5,8,9,6,8,5,9,3,8,6,3,10,4,8,8,10,6,4,9,7,8,10,9,6,7,8,8,10,7,4,1,9,5,6,8,9,7,6,1,9,7,4,10,8,6,7,8,10,6,7,9,8,3,10,8,6,7,10,9,7,6,1,9,7,4,8,7,9,5,1,8,9,7,8,9,10,4,8,10,7,5,10,5,6,9,2,10,8,5,8,9,6,10,8,7,9,10,9,8,5,6,10,8,5,9,9,8,5,3,3,1,5,10,4,10,8,6,3,4,2,10,6,9,3,10,1,7,8,9,9,10,8,3,8,9,10,6,3,8,9,6,1,10,5,4,1,9,5,8,9,7,8,10,3,10,8,9,1,4,7,8,1,5,10,9,1,5,10,6,1,5,10,9,6,10,3,4,1,10,7,8,5,10,8,7,1,6,3,10,9,2,6,8,4,7,8,9,10,4,2,3,1,10,2,3,10,8,6,9,6,1,7,9,5,10,2,3,10,3,7,9,2,5,10,9,10,3,5,8,4,9,7,6,10,7,2,4,9,2,6,8,1,10,5,9,1,4,2,8,1,10,4,6,1,5,10,9,10,1,2,7,1,6,10,5,10,4,9,6,10,9,7,8,1,3,7,9,1,9,3,4,9,2,3,5,5,10,9,3,9,1,4,3],\"xaxis\":\"x3\",\"yaxis\":\"y3\",\"type\":\"box\"},{\"alignmentgroup\":\"True\",\"bingroup\":\"x\",\"hovertemplate\":\"Conjunctiva cluster=False<br>Center V (Rank)\\u22655=True<br>Center H (Rank)=%{x}<br>count=%{y}<extra></extra>\",\"legendgroup\":\"False\",\"marker\":{\"color\":\"#EF553B\",\"opacity\":0.6,\"pattern\":{\"shape\":\"\"}},\"name\":\"False\",\"offsetgroup\":\"False\",\"orientation\":\"v\",\"showlegend\":false,\"x\":[6,10,8,4,7,10,5,1,2,8,5,5,9,6,3,10,7,5,8,5,1,10,4,6,2,5,4,5,3,6,2,9,7,1,4,2,7,3,6,2,4,1,9,4,6,2,3,9,6,5,3,4,1,5,4,6,1,2,5,6,4,3,2,4,8,5,3,1,2,9,8,1,2,3,6,9,1,3,3,2,5,10,7,2,4,1,6,3,4,1,5,2,1,3,4,3,6,8,1,3,4,2,5,5,3,4,6,4,9,3,7,3,4,5,9,5,3,2,5,7,9,3,3,8,5,1,8,6,9,2,8,6,3,9,4,4,7,9,2,1,9,10,2,7,6,8,9,1,8,9,3,1,9,4,6,1,5,8,2,4,7,9,3,2,4,6,3,2,6,3,2,10,7,5,4,9,1,4,3,5,2,9,4,5,2,4,6,7,5,3,3,7,9,2,9,10,4,2,3,8,4,2,7,4,10,3,5,7,8,4,3,9,4,7,3,1,4,9,5,3,10,4,2,6,4,7,9,2,6,9,7,2,3,3,9,10,4,9,4,3,1,7,4,2,6,3,7,9,3,8,2,4,5,8,3,6,8,3,9,2,1,9,7,2,1,8,4,6,3,2,8,9,5,2,1,6,7,8,3,4,5,10,3,2,6,8,9,3,2,9,6,2,3,9,3,2,8,6,9,10,3,4,10,7,2,5,10,7,1,5,9,6,2,7,2,5,9,5,6,3,4,1,10,3,4,2,6,3,5,1,8,3,4,7,4,3,2,1,6,3,10,5,4,9,2,1,4,9,3,2,6,10,2,5,3,5,2,3,2,5,1,6,3,8,2,10,2,3,6,1,5,6,3,2,5,6,7,2,3,2,3,4,1,7,2,3,1,6,7,4,3,1,2,4,7,5,6,3,4,1,10,2,3,1,4,6,2,3,4,7,1,10,7,9,6,8,2,1,5,2,3,9,7,9,5,8,1,7,8,5,4,1,5,4,3,5,6,7,1,2,3,5,5,10,2,1,4,7,3,6,2,6,4,10,5,4,1,6,4,7,1,10,6,5,3,2,6,7,2,3,8,4,9,2,7,4,6,3,2,2,7,8,5,1,3,5,4,2,3,6,2,4,1,9,7,5,4,2,3,4,7,10,1,10,5,2,6,3,6,7,9,8,8,6,7,5,9,5,7,4,1,10,3,5,2,9,7,4,1,1,6,2,7,6,4,8,1,4,2,9,1,5,3,10,1,8,1,1,10,4,7,6,8,4,3,2,10,6,5,7,8,7,3,2,8,6,7,4,4,8,6,9,3,7,4,7,5,8,1,4,6,2,1,2,4,10,5,6,10,8,2,8,7,6,10,4,6,2,1,7,5,8,10],\"xaxis\":\"x2\",\"yaxis\":\"y2\",\"type\":\"histogram\"},{\"alignmentgroup\":\"True\",\"hovertemplate\":\"Conjunctiva cluster=False<br>Center V (Rank)\\u22655=True<br>Center H (Rank)=%{x}<extra></extra>\",\"legendgroup\":\"False\",\"marker\":{\"color\":\"#EF553B\"},\"name\":\"False\",\"notched\":true,\"offsetgroup\":\"False\",\"showlegend\":false,\"x\":[6,10,8,4,7,10,5,1,2,8,5,5,9,6,3,10,7,5,8,5,1,10,4,6,2,5,4,5,3,6,2,9,7,1,4,2,7,3,6,2,4,1,9,4,6,2,3,9,6,5,3,4,1,5,4,6,1,2,5,6,4,3,2,4,8,5,3,1,2,9,8,1,2,3,6,9,1,3,3,2,5,10,7,2,4,1,6,3,4,1,5,2,1,3,4,3,6,8,1,3,4,2,5,5,3,4,6,4,9,3,7,3,4,5,9,5,3,2,5,7,9,3,3,8,5,1,8,6,9,2,8,6,3,9,4,4,7,9,2,1,9,10,2,7,6,8,9,1,8,9,3,1,9,4,6,1,5,8,2,4,7,9,3,2,4,6,3,2,6,3,2,10,7,5,4,9,1,4,3,5,2,9,4,5,2,4,6,7,5,3,3,7,9,2,9,10,4,2,3,8,4,2,7,4,10,3,5,7,8,4,3,9,4,7,3,1,4,9,5,3,10,4,2,6,4,7,9,2,6,9,7,2,3,3,9,10,4,9,4,3,1,7,4,2,6,3,7,9,3,8,2,4,5,8,3,6,8,3,9,2,1,9,7,2,1,8,4,6,3,2,8,9,5,2,1,6,7,8,3,4,5,10,3,2,6,8,9,3,2,9,6,2,3,9,3,2,8,6,9,10,3,4,10,7,2,5,10,7,1,5,9,6,2,7,2,5,9,5,6,3,4,1,10,3,4,2,6,3,5,1,8,3,4,7,4,3,2,1,6,3,10,5,4,9,2,1,4,9,3,2,6,10,2,5,3,5,2,3,2,5,1,6,3,8,2,10,2,3,6,1,5,6,3,2,5,6,7,2,3,2,3,4,1,7,2,3,1,6,7,4,3,1,2,4,7,5,6,3,4,1,10,2,3,1,4,6,2,3,4,7,1,10,7,9,6,8,2,1,5,2,3,9,7,9,5,8,1,7,8,5,4,1,5,4,3,5,6,7,1,2,3,5,5,10,2,1,4,7,3,6,2,6,4,10,5,4,1,6,4,7,1,10,6,5,3,2,6,7,2,3,8,4,9,2,7,4,6,3,2,2,7,8,5,1,3,5,4,2,3,6,2,4,1,9,7,5,4,2,3,4,7,10,1,10,5,2,6,3,6,7,9,8,8,6,7,5,9,5,7,4,1,10,3,5,2,9,7,4,1,1,6,2,7,6,4,8,1,4,2,9,1,5,3,10,1,8,1,1,10,4,7,6,8,4,3,2,10,6,5,7,8,7,3,2,8,6,7,4,4,8,6,9,3,7,4,7,5,8,1,4,6,2,1,2,4,10,5,6,10,8,2,8,7,6,10,4,6,2,1,7,5,8,10],\"xaxis\":\"x4\",\"yaxis\":\"y4\",\"type\":\"box\"},{\"alignmentgroup\":\"True\",\"bingroup\":\"x\",\"hovertemplate\":\"Conjunctiva cluster=Maybe<br>Center V (Rank)\\u22655=True<br>Center H (Rank)=%{x}<br>count=%{y}<extra></extra>\",\"legendgroup\":\"Maybe\",\"marker\":{\"color\":\"#636EFA\",\"opacity\":0.6,\"pattern\":{\"shape\":\"\"}},\"name\":\"Maybe\",\"offsetgroup\":\"Maybe\",\"orientation\":\"v\",\"showlegend\":true,\"x\":[2,4,5,6,2,3,2,5,3,4,8,6,3,3,5,1,6,2,3,7,3,10,8,5,1,4,4,3,2,4,7,7,5,3,8,4,6,3,5,3,3,8,7,7,6],\"xaxis\":\"x2\",\"yaxis\":\"y2\",\"type\":\"histogram\"},{\"alignmentgroup\":\"True\",\"hovertemplate\":\"Conjunctiva cluster=Maybe<br>Center V (Rank)\\u22655=True<br>Center H (Rank)=%{x}<extra></extra>\",\"legendgroup\":\"Maybe\",\"marker\":{\"color\":\"#636EFA\"},\"name\":\"Maybe\",\"notched\":true,\"offsetgroup\":\"Maybe\",\"showlegend\":false,\"x\":[2,4,5,6,2,3,2,5,3,4,8,6,3,3,5,1,6,2,3,7,3,10,8,5,1,4,4,3,2,4,7,7,5,3,8,4,6,3,5,3,3,8,7,7,6],\"xaxis\":\"x4\",\"yaxis\":\"y4\",\"type\":\"box\"},{\"alignmentgroup\":\"True\",\"bingroup\":\"x\",\"hovertemplate\":\"Conjunctiva cluster=True<br>Center V (Rank)\\u22655=False<br>Center H (Rank)=%{x}<br>count=%{y}<extra></extra>\",\"legendgroup\":\"True\",\"marker\":{\"color\":\"#00CC96\",\"opacity\":0.6,\"pattern\":{\"shape\":\"\"}},\"name\":\"True\",\"offsetgroup\":\"True\",\"orientation\":\"v\",\"showlegend\":true,\"x\":[8,7],\"xaxis\":\"x\",\"yaxis\":\"y\",\"type\":\"histogram\"},{\"alignmentgroup\":\"True\",\"hovertemplate\":\"Conjunctiva cluster=True<br>Center V (Rank)\\u22655=False<br>Center H (Rank)=%{x}<extra></extra>\",\"legendgroup\":\"True\",\"marker\":{\"color\":\"#00CC96\"},\"name\":\"True\",\"notched\":true,\"offsetgroup\":\"True\",\"showlegend\":false,\"x\":[8,7],\"xaxis\":\"x3\",\"yaxis\":\"y3\",\"type\":\"box\"},{\"alignmentgroup\":\"True\",\"bingroup\":\"x\",\"hovertemplate\":\"Conjunctiva cluster=True<br>Center V (Rank)\\u22655=True<br>Center H (Rank)=%{x}<br>count=%{y}<extra></extra>\",\"legendgroup\":\"True\",\"marker\":{\"color\":\"#00CC96\",\"opacity\":0.6,\"pattern\":{\"shape\":\"\"}},\"name\":\"True\",\"offsetgroup\":\"True\",\"orientation\":\"v\",\"showlegend\":false,\"x\":[2,1,4,2,3,1,10,3,1,1,2,2,3,3,1,2,1,5,3,10,1,3,9,5,1,1,2,6,2,9,2,3,1,1,6,4,6,4,2,4,1,3,5,2,5,7,5,4,1,9,2,1,8,2,10,1,4,1,1,2,9,1,3,2,5,1,4,2,4,2,1,5,9,5,4,3,1,1,2,4,5,6,1,2,2,2,8,2,7,3,1,1,7,2,6,1,1,1,5,3,1,8,2,4,5,1,10,1,4,2,4,3,1,2,4,7,1,1,2,5,1,9,2,2,5,10,2,3,5,4,1,9,1,8,10,5,4,4,10,1,6,9,4,8,9,1,5,2,7,4,1,7,2,6,4,7,6,2,6,10,2,4,1,7,9,8,3,2,3,6,2,5,2,9,4,8,7,3,8,9,6,9,9,8,5,1,1,4,2,4,8,6,5,8,3,6,7,2,8,5,3,9,5,7,3,9,9,2,5,9,8,2,3,2,3,5,6,5,4,1,8,2],\"xaxis\":\"x2\",\"yaxis\":\"y2\",\"type\":\"histogram\"},{\"alignmentgroup\":\"True\",\"hovertemplate\":\"Conjunctiva cluster=True<br>Center V (Rank)\\u22655=True<br>Center H (Rank)=%{x}<extra></extra>\",\"legendgroup\":\"True\",\"marker\":{\"color\":\"#00CC96\"},\"name\":\"True\",\"notched\":true,\"offsetgroup\":\"True\",\"showlegend\":false,\"x\":[2,1,4,2,3,1,10,3,1,1,2,2,3,3,1,2,1,5,3,10,1,3,9,5,1,1,2,6,2,9,2,3,1,1,6,4,6,4,2,4,1,3,5,2,5,7,5,4,1,9,2,1,8,2,10,1,4,1,1,2,9,1,3,2,5,1,4,2,4,2,1,5,9,5,4,3,1,1,2,4,5,6,1,2,2,2,8,2,7,3,1,1,7,2,6,1,1,1,5,3,1,8,2,4,5,1,10,1,4,2,4,3,1,2,4,7,1,1,2,5,1,9,2,2,5,10,2,3,5,4,1,9,1,8,10,5,4,4,10,1,6,9,4,8,9,1,5,2,7,4,1,7,2,6,4,7,6,2,6,10,2,4,1,7,9,8,3,2,3,6,2,5,2,9,4,8,7,3,8,9,6,9,9,8,5,1,1,4,2,4,8,6,5,8,3,6,7,2,8,5,3,9,5,7,3,9,9,2,5,9,8,2,3,2,3,5,6,5,4,1,8,2],\"xaxis\":\"x4\",\"yaxis\":\"y4\",\"type\":\"box\"}],                        {\"template\":{\"data\":{\"barpolar\":[{\"marker\":{\"line\":{\"color\":\"rgb(17,17,17)\",\"width\":0.5},\"pattern\":{\"fillmode\":\"overlay\",\"size\":10,\"solidity\":0.2}},\"type\":\"barpolar\"}],\"bar\":[{\"error_x\":{\"color\":\"#f2f5fa\"},\"error_y\":{\"color\":\"#f2f5fa\"},\"marker\":{\"line\":{\"color\":\"rgb(17,17,17)\",\"width\":0.5},\"pattern\":{\"fillmode\":\"overlay\",\"size\":10,\"solidity\":0.2}},\"type\":\"bar\"}],\"carpet\":[{\"aaxis\":{\"endlinecolor\":\"#A2B1C6\",\"gridcolor\":\"#506784\",\"linecolor\":\"#506784\",\"minorgridcolor\":\"#506784\",\"startlinecolor\":\"#A2B1C6\"},\"baxis\":{\"endlinecolor\":\"#A2B1C6\",\"gridcolor\":\"#506784\",\"linecolor\":\"#506784\",\"minorgridcolor\":\"#506784\",\"startlinecolor\":\"#A2B1C6\"},\"type\":\"carpet\"}],\"choropleth\":[{\"colorbar\":{\"outlinewidth\":0,\"ticks\":\"\"},\"type\":\"choropleth\"}],\"contourcarpet\":[{\"colorbar\":{\"outlinewidth\":0,\"ticks\":\"\"},\"type\":\"contourcarpet\"}],\"contour\":[{\"colorbar\":{\"outlinewidth\":0,\"ticks\":\"\"},\"colorscale\":[[0.0,\"#0d0887\"],[0.1111111111111111,\"#46039f\"],[0.2222222222222222,\"#7201a8\"],[0.3333333333333333,\"#9c179e\"],[0.4444444444444444,\"#bd3786\"],[0.5555555555555556,\"#d8576b\"],[0.6666666666666666,\"#ed7953\"],[0.7777777777777778,\"#fb9f3a\"],[0.8888888888888888,\"#fdca26\"],[1.0,\"#f0f921\"]],\"type\":\"contour\"}],\"heatmapgl\":[{\"colorbar\":{\"outlinewidth\":0,\"ticks\":\"\"},\"colorscale\":[[0.0,\"#0d0887\"],[0.1111111111111111,\"#46039f\"],[0.2222222222222222,\"#7201a8\"],[0.3333333333333333,\"#9c179e\"],[0.4444444444444444,\"#bd3786\"],[0.5555555555555556,\"#d8576b\"],[0.6666666666666666,\"#ed7953\"],[0.7777777777777778,\"#fb9f3a\"],[0.8888888888888888,\"#fdca26\"],[1.0,\"#f0f921\"]],\"type\":\"heatmapgl\"}],\"heatmap\":[{\"colorbar\":{\"outlinewidth\":0,\"ticks\":\"\"},\"colorscale\":[[0.0,\"#0d0887\"],[0.1111111111111111,\"#46039f\"],[0.2222222222222222,\"#7201a8\"],[0.3333333333333333,\"#9c179e\"],[0.4444444444444444,\"#bd3786\"],[0.5555555555555556,\"#d8576b\"],[0.6666666666666666,\"#ed7953\"],[0.7777777777777778,\"#fb9f3a\"],[0.8888888888888888,\"#fdca26\"],[1.0,\"#f0f921\"]],\"type\":\"heatmap\"}],\"histogram2dcontour\":[{\"colorbar\":{\"outlinewidth\":0,\"ticks\":\"\"},\"colorscale\":[[0.0,\"#0d0887\"],[0.1111111111111111,\"#46039f\"],[0.2222222222222222,\"#7201a8\"],[0.3333333333333333,\"#9c179e\"],[0.4444444444444444,\"#bd3786\"],[0.5555555555555556,\"#d8576b\"],[0.6666666666666666,\"#ed7953\"],[0.7777777777777778,\"#fb9f3a\"],[0.8888888888888888,\"#fdca26\"],[1.0,\"#f0f921\"]],\"type\":\"histogram2dcontour\"}],\"histogram2d\":[{\"colorbar\":{\"outlinewidth\":0,\"ticks\":\"\"},\"colorscale\":[[0.0,\"#0d0887\"],[0.1111111111111111,\"#46039f\"],[0.2222222222222222,\"#7201a8\"],[0.3333333333333333,\"#9c179e\"],[0.4444444444444444,\"#bd3786\"],[0.5555555555555556,\"#d8576b\"],[0.6666666666666666,\"#ed7953\"],[0.7777777777777778,\"#fb9f3a\"],[0.8888888888888888,\"#fdca26\"],[1.0,\"#f0f921\"]],\"type\":\"histogram2d\"}],\"histogram\":[{\"marker\":{\"pattern\":{\"fillmode\":\"overlay\",\"size\":10,\"solidity\":0.2}},\"type\":\"histogram\"}],\"mesh3d\":[{\"colorbar\":{\"outlinewidth\":0,\"ticks\":\"\"},\"type\":\"mesh3d\"}],\"parcoords\":[{\"line\":{\"colorbar\":{\"outlinewidth\":0,\"ticks\":\"\"}},\"type\":\"parcoords\"}],\"pie\":[{\"automargin\":true,\"type\":\"pie\"}],\"scatter3d\":[{\"line\":{\"colorbar\":{\"outlinewidth\":0,\"ticks\":\"\"}},\"marker\":{\"colorbar\":{\"outlinewidth\":0,\"ticks\":\"\"}},\"type\":\"scatter3d\"}],\"scattercarpet\":[{\"marker\":{\"colorbar\":{\"outlinewidth\":0,\"ticks\":\"\"}},\"type\":\"scattercarpet\"}],\"scattergeo\":[{\"marker\":{\"colorbar\":{\"outlinewidth\":0,\"ticks\":\"\"}},\"type\":\"scattergeo\"}],\"scattergl\":[{\"marker\":{\"line\":{\"color\":\"#283442\"}},\"type\":\"scattergl\"}],\"scattermapbox\":[{\"marker\":{\"colorbar\":{\"outlinewidth\":0,\"ticks\":\"\"}},\"type\":\"scattermapbox\"}],\"scatterpolargl\":[{\"marker\":{\"colorbar\":{\"outlinewidth\":0,\"ticks\":\"\"}},\"type\":\"scatterpolargl\"}],\"scatterpolar\":[{\"marker\":{\"colorbar\":{\"outlinewidth\":0,\"ticks\":\"\"}},\"type\":\"scatterpolar\"}],\"scatter\":[{\"marker\":{\"line\":{\"color\":\"#283442\"}},\"type\":\"scatter\"}],\"scatterternary\":[{\"marker\":{\"colorbar\":{\"outlinewidth\":0,\"ticks\":\"\"}},\"type\":\"scatterternary\"}],\"surface\":[{\"colorbar\":{\"outlinewidth\":0,\"ticks\":\"\"},\"colorscale\":[[0.0,\"#0d0887\"],[0.1111111111111111,\"#46039f\"],[0.2222222222222222,\"#7201a8\"],[0.3333333333333333,\"#9c179e\"],[0.4444444444444444,\"#bd3786\"],[0.5555555555555556,\"#d8576b\"],[0.6666666666666666,\"#ed7953\"],[0.7777777777777778,\"#fb9f3a\"],[0.8888888888888888,\"#fdca26\"],[1.0,\"#f0f921\"]],\"type\":\"surface\"}],\"table\":[{\"cells\":{\"fill\":{\"color\":\"#506784\"},\"line\":{\"color\":\"rgb(17,17,17)\"}},\"header\":{\"fill\":{\"color\":\"#2a3f5f\"},\"line\":{\"color\":\"rgb(17,17,17)\"}},\"type\":\"table\"}]},\"layout\":{\"annotationdefaults\":{\"arrowcolor\":\"#f2f5fa\",\"arrowhead\":0,\"arrowwidth\":1},\"autotypenumbers\":\"strict\",\"coloraxis\":{\"colorbar\":{\"outlinewidth\":0,\"ticks\":\"\"}},\"colorscale\":{\"diverging\":[[0,\"#8e0152\"],[0.1,\"#c51b7d\"],[0.2,\"#de77ae\"],[0.3,\"#f1b6da\"],[0.4,\"#fde0ef\"],[0.5,\"#f7f7f7\"],[0.6,\"#e6f5d0\"],[0.7,\"#b8e186\"],[0.8,\"#7fbc41\"],[0.9,\"#4d9221\"],[1,\"#276419\"]],\"sequential\":[[0.0,\"#0d0887\"],[0.1111111111111111,\"#46039f\"],[0.2222222222222222,\"#7201a8\"],[0.3333333333333333,\"#9c179e\"],[0.4444444444444444,\"#bd3786\"],[0.5555555555555556,\"#d8576b\"],[0.6666666666666666,\"#ed7953\"],[0.7777777777777778,\"#fb9f3a\"],[0.8888888888888888,\"#fdca26\"],[1.0,\"#f0f921\"]],\"sequentialminus\":[[0.0,\"#0d0887\"],[0.1111111111111111,\"#46039f\"],[0.2222222222222222,\"#7201a8\"],[0.3333333333333333,\"#9c179e\"],[0.4444444444444444,\"#bd3786\"],[0.5555555555555556,\"#d8576b\"],[0.6666666666666666,\"#ed7953\"],[0.7777777777777778,\"#fb9f3a\"],[0.8888888888888888,\"#fdca26\"],[1.0,\"#f0f921\"]]},\"colorway\":[\"#636efa\",\"#EF553B\",\"#00cc96\",\"#ab63fa\",\"#FFA15A\",\"#19d3f3\",\"#FF6692\",\"#B6E880\",\"#FF97FF\",\"#FECB52\"],\"font\":{\"color\":\"#f2f5fa\"},\"geo\":{\"bgcolor\":\"rgb(17,17,17)\",\"lakecolor\":\"rgb(17,17,17)\",\"landcolor\":\"rgb(17,17,17)\",\"showlakes\":true,\"showland\":true,\"subunitcolor\":\"#506784\"},\"hoverlabel\":{\"align\":\"left\"},\"hovermode\":\"closest\",\"mapbox\":{\"style\":\"dark\"},\"paper_bgcolor\":\"rgb(17,17,17)\",\"plot_bgcolor\":\"rgb(17,17,17)\",\"polar\":{\"angularaxis\":{\"gridcolor\":\"#506784\",\"linecolor\":\"#506784\",\"ticks\":\"\"},\"bgcolor\":\"rgb(17,17,17)\",\"radialaxis\":{\"gridcolor\":\"#506784\",\"linecolor\":\"#506784\",\"ticks\":\"\"}},\"scene\":{\"xaxis\":{\"backgroundcolor\":\"rgb(17,17,17)\",\"gridcolor\":\"#506784\",\"gridwidth\":2,\"linecolor\":\"#506784\",\"showbackground\":true,\"ticks\":\"\",\"zerolinecolor\":\"#C8D4E3\"},\"yaxis\":{\"backgroundcolor\":\"rgb(17,17,17)\",\"gridcolor\":\"#506784\",\"gridwidth\":2,\"linecolor\":\"#506784\",\"showbackground\":true,\"ticks\":\"\",\"zerolinecolor\":\"#C8D4E3\"},\"zaxis\":{\"backgroundcolor\":\"rgb(17,17,17)\",\"gridcolor\":\"#506784\",\"gridwidth\":2,\"linecolor\":\"#506784\",\"showbackground\":true,\"ticks\":\"\",\"zerolinecolor\":\"#C8D4E3\"}},\"shapedefaults\":{\"line\":{\"color\":\"#f2f5fa\"}},\"sliderdefaults\":{\"bgcolor\":\"#C8D4E3\",\"bordercolor\":\"rgb(17,17,17)\",\"borderwidth\":1,\"tickwidth\":0},\"ternary\":{\"aaxis\":{\"gridcolor\":\"#506784\",\"linecolor\":\"#506784\",\"ticks\":\"\"},\"baxis\":{\"gridcolor\":\"#506784\",\"linecolor\":\"#506784\",\"ticks\":\"\"},\"bgcolor\":\"rgb(17,17,17)\",\"caxis\":{\"gridcolor\":\"#506784\",\"linecolor\":\"#506784\",\"ticks\":\"\"}},\"title\":{\"x\":0.05},\"updatemenudefaults\":{\"bgcolor\":\"#506784\",\"borderwidth\":0},\"xaxis\":{\"automargin\":true,\"gridcolor\":\"#283442\",\"linecolor\":\"#506784\",\"ticks\":\"\",\"title\":{\"standoff\":15},\"zerolinecolor\":\"#283442\",\"zerolinewidth\":2},\"yaxis\":{\"automargin\":true,\"gridcolor\":\"#283442\",\"linecolor\":\"#506784\",\"ticks\":\"\",\"title\":{\"standoff\":15},\"zerolinecolor\":\"#283442\",\"zerolinewidth\":2}}},\"xaxis\":{\"anchor\":\"y\",\"domain\":[0.0,0.49],\"title\":{\"text\":\"Center H (Rank)\"}},\"yaxis\":{\"anchor\":\"x\",\"domain\":[0.0,0.7326],\"title\":{\"text\":\"count\"}},\"xaxis2\":{\"anchor\":\"y2\",\"domain\":[0.51,1.0],\"matches\":\"x\",\"title\":{\"text\":\"Center H (Rank)\"}},\"yaxis2\":{\"anchor\":\"x2\",\"domain\":[0.0,0.7326],\"matches\":\"y\",\"showticklabels\":false},\"xaxis3\":{\"anchor\":\"y3\",\"domain\":[0.0,0.49],\"matches\":\"x\",\"showticklabels\":false,\"showgrid\":true},\"yaxis3\":{\"anchor\":\"x3\",\"domain\":[0.7426,1.0],\"matches\":\"y3\",\"showticklabels\":false,\"showline\":false,\"ticks\":\"\",\"showgrid\":false},\"xaxis4\":{\"anchor\":\"y4\",\"domain\":[0.51,1.0],\"matches\":\"x\",\"showticklabels\":false,\"showgrid\":true},\"yaxis4\":{\"anchor\":\"x4\",\"domain\":[0.7426,1.0],\"matches\":\"y3\",\"showticklabels\":false,\"showline\":false,\"ticks\":\"\",\"showgrid\":false},\"annotations\":[{\"font\":{},\"showarrow\":false,\"text\":\"Center V (Rank)\\u22655=False\",\"x\":0.245,\"xanchor\":\"center\",\"xref\":\"paper\",\"y\":1.0,\"yanchor\":\"bottom\",\"yref\":\"paper\"},{\"font\":{},\"showarrow\":false,\"text\":\"Center V (Rank)\\u22655=True\",\"x\":0.755,\"xanchor\":\"center\",\"xref\":\"paper\",\"y\":1.0,\"yanchor\":\"bottom\",\"yref\":\"paper\"}],\"legend\":{\"title\":{\"text\":\"Conjunctiva cluster\"},\"tracegroupgap\":0},\"margin\":{\"t\":20,\"l\":20,\"r\":20,\"b\":20},\"barmode\":\"group\",\"bargap\":0.04,\"font\":{\"family\":\"Arial\",\"size\":16}},                        {\"responsive\": true}                    ).then(function(){\n                            \nvar gd = document.getElementById('089d27f4-85bc-4f3a-b394-549acad0523e');\nvar x = new MutationObserver(function (mutations, observer) {{\n        var display = window.getComputedStyle(gd).display;\n        if (!display || display === 'none') {{\n            console.log([gd, 'removed!']);\n            Plotly.purge(gd);\n            observer.disconnect();\n        }}\n}});\n\n// Listen for the removal of the full notebook cells\nvar notebookContainer = gd.closest('#notebook-container');\nif (notebookContainer) {{\n    x.observe(notebookContainer, {childList: true});\n}}\n\n// Listen for the clearing of the current output cell\nvar outputEl = gd.closest('.output');\nif (outputEl) {{\n    x.observe(outputEl, {childList: true});\n}}\n\n                        })                };                });            </script>        </div>"
     },
     "metadata": {},
     "output_type": "display_data"
    }
   ],
   "source": [
    "fig = px.histogram(all_metrics_flat, x=\"Ranks-Color-Center-H\", marginal=\"box\", opacity=0.6,\n",
    "                   barmode=\"group\",\n",
    "                   facet_col=\"Ranks-Color-Center-V>=5\",\n",
    "                   color=\"Labels-Value\", color_discrete_map=color_discrete_map,\n",
    "                category_orders=category_orders, labels=var_labels, template=plotly_template)\n",
    "fig.update_layout(bargap=0.04)\n",
    "fig.update_layout(font=dict(family=\"Arial\",size=16,), margin=dict(l=20, r=20, t=20, b=20))\n",
    "fig.show()\n",
    "title = \"HSV histogram with box plot- H val split at V rank>=5\"\n",
    "save_plotly_figure(fig, title)"
   ],
   "metadata": {
    "collapsed": false
   }
  },
  {
   "cell_type": "code",
   "execution_count": 40,
   "outputs": [
    {
     "data": {
      "application/vnd.plotly.v1+json": {
       "data": [
        {
         "alignmentgroup": "True",
         "bingroup": "x",
         "hovertemplate": "Conjunctiva cluster=False<br>Center V (Rank)≥6=False<br>Center H (Rank)=%{x}<br>count=%{y}<extra></extra>",
         "legendgroup": "False",
         "marker": {
          "color": "#EF553B",
          "opacity": 0.6,
          "pattern": {
           "shape": ""
          }
         },
         "name": "False",
         "offsetgroup": "False",
         "orientation": "v",
         "showlegend": true,
         "x": [
          9,
          7,
          5,
          3,
          6,
          8,
          9,
          3,
          6,
          7,
          9,
          4,
          7,
          6,
          10,
          8,
          7,
          4,
          9,
          8,
          6,
          4,
          3,
          7,
          9,
          6,
          4,
          8,
          10,
          7,
          9,
          4,
          8,
          10,
          7,
          9,
          4,
          10,
          6,
          8,
          4,
          9,
          8,
          5,
          6,
          4,
          5,
          10,
          7,
          8,
          8,
          7,
          10,
          3,
          9,
          10,
          8,
          7,
          5,
          10,
          8,
          9,
          7,
          5,
          8,
          10,
          3,
          7,
          5,
          10,
          9,
          7,
          2,
          10,
          9,
          7,
          6,
          3,
          10,
          8,
          7,
          5,
          3,
          9,
          10,
          7,
          4,
          8,
          10,
          7,
          5,
          6,
          7,
          9,
          6,
          8,
          3,
          8,
          10,
          9,
          6,
          7,
          8,
          9,
          10,
          7,
          10,
          9,
          8,
          6,
          5,
          9,
          10,
          7,
          2,
          8,
          10,
          7,
          6,
          3,
          8,
          10,
          7,
          9,
          1,
          5,
          10,
          7,
          6,
          2,
          9,
          8,
          6,
          7,
          10,
          8,
          6,
          7,
          9,
          10,
          6,
          8,
          4,
          5,
          10,
          6,
          7,
          4,
          3,
          4,
          10,
          5,
          7,
          8,
          1,
          10,
          7,
          5,
          8,
          3,
          6,
          10,
          8,
          4,
          4,
          6,
          8,
          5,
          9,
          3,
          10,
          7,
          5,
          6,
          6,
          10,
          5,
          7,
          8,
          3,
          10,
          7,
          8,
          10,
          9,
          6,
          7,
          5,
          1,
          8,
          10,
          6,
          7,
          1,
          10,
          7,
          8,
          4,
          1,
          9,
          7,
          5,
          6,
          2,
          10,
          6,
          8,
          7,
          8,
          10,
          7,
          9,
          4,
          10,
          6,
          7,
          8,
          9,
          1,
          10,
          8,
          9,
          4,
          1,
          10,
          8,
          6,
          3,
          1,
          5,
          8,
          7,
          9,
          9,
          7,
          6,
          10,
          3,
          1,
          9,
          8,
          6,
          7,
          5,
          9,
          10,
          6,
          7,
          10,
          8,
          6,
          5,
          9,
          1,
          10,
          7,
          6,
          4,
          1,
          8,
          9,
          5,
          10,
          8,
          5,
          3,
          4,
          5,
          10,
          8,
          4,
          6,
          1,
          5,
          6,
          8,
          3,
          10,
          5,
          7,
          8,
          9,
          9,
          8,
          10,
          5,
          7,
          10,
          6,
          4,
          5,
          7,
          2,
          10,
          7,
          9,
          4,
          10,
          7,
          4,
          6,
          8,
          10,
          6,
          4,
          5,
          9,
          10,
          9,
          5,
          7,
          4,
          10,
          6,
          4,
          7,
          9,
          1,
          5,
          9,
          10,
          6,
          1,
          9,
          6,
          8,
          5,
          1,
          10,
          7,
          4,
          6,
          7,
          8,
          4,
          5,
          9,
          10,
          5,
          6,
          7,
          9,
          1,
          7,
          5,
          8,
          6,
          9,
          6,
          8,
          5,
          4,
          9,
          3,
          8,
          6,
          5,
          3,
          10,
          4,
          8,
          5,
          8,
          10,
          6,
          4,
          7,
          9,
          7,
          8,
          10,
          5,
          9,
          6,
          7,
          8,
          10,
          8,
          10,
          7,
          4,
          6,
          1,
          9,
          5,
          6,
          8,
          8,
          9,
          7,
          6,
          4,
          1,
          9,
          7,
          4,
          6,
          10,
          8,
          6,
          7,
          4,
          8,
          10,
          6,
          4,
          7,
          9,
          8,
          3,
          10,
          8,
          6,
          7,
          3,
          10,
          9,
          7,
          6,
          3,
          1,
          9,
          7,
          4,
          6,
          8,
          7,
          9,
          5,
          10,
          1,
          8,
          9,
          7,
          5,
          8,
          9,
          10,
          4,
          5,
          8,
          10,
          7,
          5,
          10,
          5,
          6,
          9,
          7,
          2,
          10,
          8,
          5,
          6,
          8,
          9,
          6,
          10,
          2,
          8,
          7,
          9,
          10,
          6,
          9,
          8,
          5,
          6,
          10,
          10,
          8,
          5,
          9,
          4,
          9,
          8,
          5,
          3,
          4,
          3,
          1,
          5,
          10,
          7,
          4,
          10,
          8,
          6,
          1,
          3,
          4,
          2,
          10,
          7,
          6,
          9,
          3,
          10,
          7,
          1,
          7,
          8,
          9,
          5,
          9,
          10,
          8,
          3,
          8,
          9,
          10,
          6,
          3,
          8,
          9,
          6,
          5,
          1,
          10,
          5,
          4,
          7,
          1,
          9,
          5,
          8,
          6,
          9,
          7,
          8,
          10,
          3,
          10,
          8,
          9,
          6,
          1,
          4,
          7,
          8,
          10,
          1,
          5,
          10,
          9,
          6,
          1,
          5,
          10,
          6,
          8,
          1,
          5,
          10,
          9,
          7,
          6,
          10,
          3,
          4,
          2,
          1,
          10,
          7,
          8,
          3,
          5,
          10,
          8,
          7,
          3,
          1,
          6,
          3,
          10,
          9,
          9,
          2,
          6,
          8,
          3,
          4,
          7,
          8,
          9,
          10,
          10,
          4,
          2,
          3,
          6,
          1,
          10,
          2,
          3,
          8,
          10,
          8,
          6,
          9,
          6,
          1,
          7,
          9,
          10,
          5,
          10,
          2,
          3,
          10,
          3,
          7,
          9,
          2,
          5,
          10,
          9,
          7,
          10,
          3,
          5,
          8,
          4,
          4,
          9,
          7,
          6,
          10,
          7,
          2,
          4,
          9,
          2,
          6,
          8,
          1,
          1,
          10,
          5,
          9,
          6,
          1,
          4,
          2,
          8,
          10,
          1,
          10,
          4,
          6,
          8,
          1,
          5,
          10,
          9,
          8,
          10,
          1,
          2,
          7,
          4,
          1,
          6,
          10,
          5,
          10,
          4,
          9,
          6,
          7,
          10,
          9,
          7,
          8,
          1,
          3,
          7,
          9,
          2,
          1,
          9,
          3,
          4,
          6,
          9,
          2,
          3,
          5,
          8,
          5,
          10,
          9,
          3,
          4,
          9,
          1,
          4,
          3,
          7
         ],
         "xaxis": "x",
         "yaxis": "y",
         "type": "histogram"
        },
        {
         "alignmentgroup": "True",
         "hovertemplate": "Conjunctiva cluster=False<br>Center V (Rank)≥6=False<br>Center H (Rank)=%{x}<extra></extra>",
         "legendgroup": "False",
         "marker": {
          "color": "#EF553B"
         },
         "name": "False",
         "notched": true,
         "offsetgroup": "False",
         "showlegend": false,
         "x": [
          9,
          7,
          5,
          3,
          6,
          8,
          9,
          3,
          6,
          7,
          9,
          4,
          7,
          6,
          10,
          8,
          7,
          4,
          9,
          8,
          6,
          4,
          3,
          7,
          9,
          6,
          4,
          8,
          10,
          7,
          9,
          4,
          8,
          10,
          7,
          9,
          4,
          10,
          6,
          8,
          4,
          9,
          8,
          5,
          6,
          4,
          5,
          10,
          7,
          8,
          8,
          7,
          10,
          3,
          9,
          10,
          8,
          7,
          5,
          10,
          8,
          9,
          7,
          5,
          8,
          10,
          3,
          7,
          5,
          10,
          9,
          7,
          2,
          10,
          9,
          7,
          6,
          3,
          10,
          8,
          7,
          5,
          3,
          9,
          10,
          7,
          4,
          8,
          10,
          7,
          5,
          6,
          7,
          9,
          6,
          8,
          3,
          8,
          10,
          9,
          6,
          7,
          8,
          9,
          10,
          7,
          10,
          9,
          8,
          6,
          5,
          9,
          10,
          7,
          2,
          8,
          10,
          7,
          6,
          3,
          8,
          10,
          7,
          9,
          1,
          5,
          10,
          7,
          6,
          2,
          9,
          8,
          6,
          7,
          10,
          8,
          6,
          7,
          9,
          10,
          6,
          8,
          4,
          5,
          10,
          6,
          7,
          4,
          3,
          4,
          10,
          5,
          7,
          8,
          1,
          10,
          7,
          5,
          8,
          3,
          6,
          10,
          8,
          4,
          4,
          6,
          8,
          5,
          9,
          3,
          10,
          7,
          5,
          6,
          6,
          10,
          5,
          7,
          8,
          3,
          10,
          7,
          8,
          10,
          9,
          6,
          7,
          5,
          1,
          8,
          10,
          6,
          7,
          1,
          10,
          7,
          8,
          4,
          1,
          9,
          7,
          5,
          6,
          2,
          10,
          6,
          8,
          7,
          8,
          10,
          7,
          9,
          4,
          10,
          6,
          7,
          8,
          9,
          1,
          10,
          8,
          9,
          4,
          1,
          10,
          8,
          6,
          3,
          1,
          5,
          8,
          7,
          9,
          9,
          7,
          6,
          10,
          3,
          1,
          9,
          8,
          6,
          7,
          5,
          9,
          10,
          6,
          7,
          10,
          8,
          6,
          5,
          9,
          1,
          10,
          7,
          6,
          4,
          1,
          8,
          9,
          5,
          10,
          8,
          5,
          3,
          4,
          5,
          10,
          8,
          4,
          6,
          1,
          5,
          6,
          8,
          3,
          10,
          5,
          7,
          8,
          9,
          9,
          8,
          10,
          5,
          7,
          10,
          6,
          4,
          5,
          7,
          2,
          10,
          7,
          9,
          4,
          10,
          7,
          4,
          6,
          8,
          10,
          6,
          4,
          5,
          9,
          10,
          9,
          5,
          7,
          4,
          10,
          6,
          4,
          7,
          9,
          1,
          5,
          9,
          10,
          6,
          1,
          9,
          6,
          8,
          5,
          1,
          10,
          7,
          4,
          6,
          7,
          8,
          4,
          5,
          9,
          10,
          5,
          6,
          7,
          9,
          1,
          7,
          5,
          8,
          6,
          9,
          6,
          8,
          5,
          4,
          9,
          3,
          8,
          6,
          5,
          3,
          10,
          4,
          8,
          5,
          8,
          10,
          6,
          4,
          7,
          9,
          7,
          8,
          10,
          5,
          9,
          6,
          7,
          8,
          10,
          8,
          10,
          7,
          4,
          6,
          1,
          9,
          5,
          6,
          8,
          8,
          9,
          7,
          6,
          4,
          1,
          9,
          7,
          4,
          6,
          10,
          8,
          6,
          7,
          4,
          8,
          10,
          6,
          4,
          7,
          9,
          8,
          3,
          10,
          8,
          6,
          7,
          3,
          10,
          9,
          7,
          6,
          3,
          1,
          9,
          7,
          4,
          6,
          8,
          7,
          9,
          5,
          10,
          1,
          8,
          9,
          7,
          5,
          8,
          9,
          10,
          4,
          5,
          8,
          10,
          7,
          5,
          10,
          5,
          6,
          9,
          7,
          2,
          10,
          8,
          5,
          6,
          8,
          9,
          6,
          10,
          2,
          8,
          7,
          9,
          10,
          6,
          9,
          8,
          5,
          6,
          10,
          10,
          8,
          5,
          9,
          4,
          9,
          8,
          5,
          3,
          4,
          3,
          1,
          5,
          10,
          7,
          4,
          10,
          8,
          6,
          1,
          3,
          4,
          2,
          10,
          7,
          6,
          9,
          3,
          10,
          7,
          1,
          7,
          8,
          9,
          5,
          9,
          10,
          8,
          3,
          8,
          9,
          10,
          6,
          3,
          8,
          9,
          6,
          5,
          1,
          10,
          5,
          4,
          7,
          1,
          9,
          5,
          8,
          6,
          9,
          7,
          8,
          10,
          3,
          10,
          8,
          9,
          6,
          1,
          4,
          7,
          8,
          10,
          1,
          5,
          10,
          9,
          6,
          1,
          5,
          10,
          6,
          8,
          1,
          5,
          10,
          9,
          7,
          6,
          10,
          3,
          4,
          2,
          1,
          10,
          7,
          8,
          3,
          5,
          10,
          8,
          7,
          3,
          1,
          6,
          3,
          10,
          9,
          9,
          2,
          6,
          8,
          3,
          4,
          7,
          8,
          9,
          10,
          10,
          4,
          2,
          3,
          6,
          1,
          10,
          2,
          3,
          8,
          10,
          8,
          6,
          9,
          6,
          1,
          7,
          9,
          10,
          5,
          10,
          2,
          3,
          10,
          3,
          7,
          9,
          2,
          5,
          10,
          9,
          7,
          10,
          3,
          5,
          8,
          4,
          4,
          9,
          7,
          6,
          10,
          7,
          2,
          4,
          9,
          2,
          6,
          8,
          1,
          1,
          10,
          5,
          9,
          6,
          1,
          4,
          2,
          8,
          10,
          1,
          10,
          4,
          6,
          8,
          1,
          5,
          10,
          9,
          8,
          10,
          1,
          2,
          7,
          4,
          1,
          6,
          10,
          5,
          10,
          4,
          9,
          6,
          7,
          10,
          9,
          7,
          8,
          1,
          3,
          7,
          9,
          2,
          1,
          9,
          3,
          4,
          6,
          9,
          2,
          3,
          5,
          8,
          5,
          10,
          9,
          3,
          4,
          9,
          1,
          4,
          3,
          7
         ],
         "xaxis": "x3",
         "yaxis": "y3",
         "type": "box"
        },
        {
         "alignmentgroup": "True",
         "bingroup": "x",
         "hovertemplate": "Conjunctiva cluster=False<br>Center V (Rank)≥6=True<br>Center H (Rank)=%{x}<br>count=%{y}<extra></extra>",
         "legendgroup": "False",
         "marker": {
          "color": "#EF553B",
          "opacity": 0.6,
          "pattern": {
           "shape": ""
          }
         },
         "name": "False",
         "offsetgroup": "False",
         "orientation": "v",
         "showlegend": false,
         "x": [
          10,
          8,
          4,
          10,
          5,
          1,
          2,
          8,
          5,
          5,
          9,
          6,
          10,
          7,
          5,
          8,
          5,
          1,
          10,
          6,
          2,
          5,
          5,
          3,
          6,
          2,
          9,
          7,
          1,
          2,
          7,
          3,
          6,
          2,
          4,
          1,
          4,
          6,
          2,
          3,
          9,
          6,
          3,
          4,
          1,
          4,
          6,
          1,
          5,
          6,
          4,
          2,
          4,
          8,
          5,
          1,
          2,
          9,
          8,
          1,
          2,
          3,
          9,
          1,
          3,
          2,
          5,
          10,
          2,
          4,
          1,
          6,
          3,
          4,
          1,
          2,
          1,
          3,
          4,
          3,
          6,
          8,
          1,
          4,
          2,
          5,
          5,
          3,
          4,
          4,
          9,
          3,
          3,
          4,
          5,
          5,
          3,
          2,
          7,
          9,
          3,
          8,
          5,
          1,
          6,
          9,
          2,
          6,
          3,
          9,
          4,
          7,
          9,
          2,
          1,
          10,
          2,
          7,
          8,
          9,
          1,
          9,
          3,
          1,
          9,
          4,
          6,
          1,
          8,
          2,
          4,
          9,
          3,
          2,
          6,
          3,
          2,
          3,
          2,
          10,
          5,
          4,
          9,
          1,
          3,
          5,
          2,
          4,
          5,
          2,
          6,
          7,
          5,
          3,
          7,
          9,
          2,
          10,
          4,
          2,
          8,
          4,
          2,
          4,
          10,
          3,
          5,
          8,
          4,
          3,
          4,
          7,
          3,
          1,
          9,
          5,
          3,
          10,
          4,
          2,
          6,
          7,
          9,
          2,
          9,
          7,
          2,
          3,
          9,
          10,
          4,
          4,
          3,
          1,
          4,
          2,
          6,
          3,
          9,
          3,
          8,
          2,
          5,
          8,
          3,
          6,
          3,
          9,
          2,
          1,
          7,
          2,
          1,
          8,
          6,
          3,
          2,
          8,
          5,
          2,
          1,
          7,
          8,
          3,
          4,
          10,
          3,
          2,
          8,
          9,
          3,
          2,
          6,
          2,
          3,
          3,
          2,
          8,
          9,
          10,
          3,
          10,
          7,
          2,
          10,
          7,
          1,
          9,
          6,
          2,
          2,
          5,
          9,
          6,
          3,
          4,
          1,
          3,
          4,
          2,
          3,
          5,
          1,
          3,
          4,
          7,
          3,
          2,
          1,
          3,
          10,
          5,
          9,
          2,
          1,
          9,
          3,
          2,
          6,
          10,
          2,
          5,
          5,
          2,
          2,
          5,
          1,
          3,
          8,
          2,
          2,
          3,
          6,
          1,
          6,
          3,
          2,
          6,
          7,
          2,
          3,
          2,
          3,
          4,
          1,
          2,
          3,
          1,
          7,
          4,
          3,
          1,
          4,
          7,
          5,
          3,
          4,
          1,
          2,
          3,
          1,
          6,
          2,
          3,
          7,
          1,
          10,
          9,
          6,
          8,
          2,
          5,
          2,
          3,
          9,
          9,
          5,
          8,
          1,
          8,
          5,
          4,
          1,
          4,
          3,
          5,
          6,
          7,
          1,
          2,
          3,
          5,
          10,
          2,
          1,
          4,
          3,
          6,
          2,
          4,
          10,
          5,
          4,
          1,
          4,
          7,
          1,
          6,
          5,
          3,
          2,
          7,
          2,
          3,
          4,
          9,
          2,
          4,
          6,
          3,
          2,
          7,
          8,
          5,
          1,
          5,
          4,
          2,
          6,
          2,
          4,
          1,
          7,
          5,
          4,
          2,
          4,
          7,
          10,
          1,
          5,
          2,
          6,
          3,
          7,
          9,
          8,
          6,
          7,
          5,
          9,
          5,
          7,
          4,
          1,
          3,
          5,
          2,
          9,
          7,
          4,
          1,
          1,
          6,
          2,
          6,
          4,
          8,
          1,
          2,
          9,
          1,
          5,
          3,
          10,
          1,
          8,
          1,
          10,
          4,
          7,
          8,
          4,
          3,
          2,
          6,
          5,
          7,
          7,
          3,
          2,
          6,
          7,
          4,
          8,
          6,
          9,
          3,
          7,
          4,
          5,
          8,
          1,
          4,
          6,
          2,
          1,
          4,
          10,
          5,
          10,
          8,
          2,
          7,
          6,
          10,
          6,
          2,
          1,
          5,
          8,
          10
         ],
         "xaxis": "x2",
         "yaxis": "y2",
         "type": "histogram"
        },
        {
         "alignmentgroup": "True",
         "hovertemplate": "Conjunctiva cluster=False<br>Center V (Rank)≥6=True<br>Center H (Rank)=%{x}<extra></extra>",
         "legendgroup": "False",
         "marker": {
          "color": "#EF553B"
         },
         "name": "False",
         "notched": true,
         "offsetgroup": "False",
         "showlegend": false,
         "x": [
          10,
          8,
          4,
          10,
          5,
          1,
          2,
          8,
          5,
          5,
          9,
          6,
          10,
          7,
          5,
          8,
          5,
          1,
          10,
          6,
          2,
          5,
          5,
          3,
          6,
          2,
          9,
          7,
          1,
          2,
          7,
          3,
          6,
          2,
          4,
          1,
          4,
          6,
          2,
          3,
          9,
          6,
          3,
          4,
          1,
          4,
          6,
          1,
          5,
          6,
          4,
          2,
          4,
          8,
          5,
          1,
          2,
          9,
          8,
          1,
          2,
          3,
          9,
          1,
          3,
          2,
          5,
          10,
          2,
          4,
          1,
          6,
          3,
          4,
          1,
          2,
          1,
          3,
          4,
          3,
          6,
          8,
          1,
          4,
          2,
          5,
          5,
          3,
          4,
          4,
          9,
          3,
          3,
          4,
          5,
          5,
          3,
          2,
          7,
          9,
          3,
          8,
          5,
          1,
          6,
          9,
          2,
          6,
          3,
          9,
          4,
          7,
          9,
          2,
          1,
          10,
          2,
          7,
          8,
          9,
          1,
          9,
          3,
          1,
          9,
          4,
          6,
          1,
          8,
          2,
          4,
          9,
          3,
          2,
          6,
          3,
          2,
          3,
          2,
          10,
          5,
          4,
          9,
          1,
          3,
          5,
          2,
          4,
          5,
          2,
          6,
          7,
          5,
          3,
          7,
          9,
          2,
          10,
          4,
          2,
          8,
          4,
          2,
          4,
          10,
          3,
          5,
          8,
          4,
          3,
          4,
          7,
          3,
          1,
          9,
          5,
          3,
          10,
          4,
          2,
          6,
          7,
          9,
          2,
          9,
          7,
          2,
          3,
          9,
          10,
          4,
          4,
          3,
          1,
          4,
          2,
          6,
          3,
          9,
          3,
          8,
          2,
          5,
          8,
          3,
          6,
          3,
          9,
          2,
          1,
          7,
          2,
          1,
          8,
          6,
          3,
          2,
          8,
          5,
          2,
          1,
          7,
          8,
          3,
          4,
          10,
          3,
          2,
          8,
          9,
          3,
          2,
          6,
          2,
          3,
          3,
          2,
          8,
          9,
          10,
          3,
          10,
          7,
          2,
          10,
          7,
          1,
          9,
          6,
          2,
          2,
          5,
          9,
          6,
          3,
          4,
          1,
          3,
          4,
          2,
          3,
          5,
          1,
          3,
          4,
          7,
          3,
          2,
          1,
          3,
          10,
          5,
          9,
          2,
          1,
          9,
          3,
          2,
          6,
          10,
          2,
          5,
          5,
          2,
          2,
          5,
          1,
          3,
          8,
          2,
          2,
          3,
          6,
          1,
          6,
          3,
          2,
          6,
          7,
          2,
          3,
          2,
          3,
          4,
          1,
          2,
          3,
          1,
          7,
          4,
          3,
          1,
          4,
          7,
          5,
          3,
          4,
          1,
          2,
          3,
          1,
          6,
          2,
          3,
          7,
          1,
          10,
          9,
          6,
          8,
          2,
          5,
          2,
          3,
          9,
          9,
          5,
          8,
          1,
          8,
          5,
          4,
          1,
          4,
          3,
          5,
          6,
          7,
          1,
          2,
          3,
          5,
          10,
          2,
          1,
          4,
          3,
          6,
          2,
          4,
          10,
          5,
          4,
          1,
          4,
          7,
          1,
          6,
          5,
          3,
          2,
          7,
          2,
          3,
          4,
          9,
          2,
          4,
          6,
          3,
          2,
          7,
          8,
          5,
          1,
          5,
          4,
          2,
          6,
          2,
          4,
          1,
          7,
          5,
          4,
          2,
          4,
          7,
          10,
          1,
          5,
          2,
          6,
          3,
          7,
          9,
          8,
          6,
          7,
          5,
          9,
          5,
          7,
          4,
          1,
          3,
          5,
          2,
          9,
          7,
          4,
          1,
          1,
          6,
          2,
          6,
          4,
          8,
          1,
          2,
          9,
          1,
          5,
          3,
          10,
          1,
          8,
          1,
          10,
          4,
          7,
          8,
          4,
          3,
          2,
          6,
          5,
          7,
          7,
          3,
          2,
          6,
          7,
          4,
          8,
          6,
          9,
          3,
          7,
          4,
          5,
          8,
          1,
          4,
          6,
          2,
          1,
          4,
          10,
          5,
          10,
          8,
          2,
          7,
          6,
          10,
          6,
          2,
          1,
          5,
          8,
          10
         ],
         "xaxis": "x4",
         "yaxis": "y4",
         "type": "box"
        },
        {
         "alignmentgroup": "True",
         "bingroup": "x",
         "hovertemplate": "Conjunctiva cluster=Maybe<br>Center V (Rank)≥6=False<br>Center H (Rank)=%{x}<br>count=%{y}<extra></extra>",
         "legendgroup": "Maybe",
         "marker": {
          "color": "#636EFA",
          "opacity": 0.6,
          "pattern": {
           "shape": ""
          }
         },
         "name": "Maybe",
         "offsetgroup": "Maybe",
         "orientation": "v",
         "showlegend": true,
         "x": [
          2,
          4,
          5,
          6,
          5,
          4,
          7,
          3,
          8,
          4,
          6
         ],
         "xaxis": "x",
         "yaxis": "y",
         "type": "histogram"
        },
        {
         "alignmentgroup": "True",
         "hovertemplate": "Conjunctiva cluster=Maybe<br>Center V (Rank)≥6=False<br>Center H (Rank)=%{x}<extra></extra>",
         "legendgroup": "Maybe",
         "marker": {
          "color": "#636EFA"
         },
         "name": "Maybe",
         "notched": true,
         "offsetgroup": "Maybe",
         "showlegend": false,
         "x": [
          2,
          4,
          5,
          6,
          5,
          4,
          7,
          3,
          8,
          4,
          6
         ],
         "xaxis": "x3",
         "yaxis": "y3",
         "type": "box"
        },
        {
         "alignmentgroup": "True",
         "bingroup": "x",
         "hovertemplate": "Conjunctiva cluster=Maybe<br>Center V (Rank)≥6=True<br>Center H (Rank)=%{x}<br>count=%{y}<extra></extra>",
         "legendgroup": "Maybe",
         "marker": {
          "color": "#636EFA",
          "opacity": 0.6,
          "pattern": {
           "shape": ""
          }
         },
         "name": "Maybe",
         "offsetgroup": "Maybe",
         "orientation": "v",
         "showlegend": false,
         "x": [
          2,
          3,
          2,
          3,
          4,
          8,
          6,
          3,
          3,
          5,
          1,
          6,
          2,
          3,
          7,
          3,
          10,
          8,
          5,
          1,
          4,
          4,
          3,
          2,
          7,
          5,
          3,
          5,
          3,
          3,
          8,
          7,
          7,
          6
         ],
         "xaxis": "x2",
         "yaxis": "y2",
         "type": "histogram"
        },
        {
         "alignmentgroup": "True",
         "hovertemplate": "Conjunctiva cluster=Maybe<br>Center V (Rank)≥6=True<br>Center H (Rank)=%{x}<extra></extra>",
         "legendgroup": "Maybe",
         "marker": {
          "color": "#636EFA"
         },
         "name": "Maybe",
         "notched": true,
         "offsetgroup": "Maybe",
         "showlegend": false,
         "x": [
          2,
          3,
          2,
          3,
          4,
          8,
          6,
          3,
          3,
          5,
          1,
          6,
          2,
          3,
          7,
          3,
          10,
          8,
          5,
          1,
          4,
          4,
          3,
          2,
          7,
          5,
          3,
          5,
          3,
          3,
          8,
          7,
          7,
          6
         ],
         "xaxis": "x4",
         "yaxis": "y4",
         "type": "box"
        },
        {
         "alignmentgroup": "True",
         "bingroup": "x",
         "hovertemplate": "Conjunctiva cluster=True<br>Center V (Rank)≥6=False<br>Center H (Rank)=%{x}<br>count=%{y}<extra></extra>",
         "legendgroup": "True",
         "marker": {
          "color": "#00CC96",
          "opacity": 0.6,
          "pattern": {
           "shape": ""
          }
         },
         "name": "True",
         "offsetgroup": "True",
         "orientation": "v",
         "showlegend": true,
         "x": [
          3,
          2,
          5,
          3,
          8,
          2,
          5,
          7,
          7,
          4,
          6,
          3,
          2,
          8,
          3
         ],
         "xaxis": "x",
         "yaxis": "y",
         "type": "histogram"
        },
        {
         "alignmentgroup": "True",
         "hovertemplate": "Conjunctiva cluster=True<br>Center V (Rank)≥6=False<br>Center H (Rank)=%{x}<extra></extra>",
         "legendgroup": "True",
         "marker": {
          "color": "#00CC96"
         },
         "name": "True",
         "notched": true,
         "offsetgroup": "True",
         "showlegend": false,
         "x": [
          3,
          2,
          5,
          3,
          8,
          2,
          5,
          7,
          7,
          4,
          6,
          3,
          2,
          8,
          3
         ],
         "xaxis": "x3",
         "yaxis": "y3",
         "type": "box"
        },
        {
         "alignmentgroup": "True",
         "bingroup": "x",
         "hovertemplate": "Conjunctiva cluster=True<br>Center V (Rank)≥6=True<br>Center H (Rank)=%{x}<br>count=%{y}<extra></extra>",
         "legendgroup": "True",
         "marker": {
          "color": "#00CC96",
          "opacity": 0.6,
          "pattern": {
           "shape": ""
          }
         },
         "name": "True",
         "offsetgroup": "True",
         "orientation": "v",
         "showlegend": false,
         "x": [
          2,
          1,
          4,
          2,
          1,
          10,
          3,
          1,
          1,
          2,
          3,
          3,
          1,
          2,
          1,
          3,
          10,
          1,
          9,
          5,
          1,
          1,
          2,
          6,
          2,
          9,
          2,
          3,
          1,
          1,
          6,
          4,
          6,
          4,
          2,
          4,
          1,
          3,
          5,
          5,
          7,
          4,
          1,
          9,
          2,
          1,
          8,
          2,
          10,
          1,
          4,
          1,
          1,
          2,
          9,
          1,
          3,
          2,
          5,
          1,
          4,
          2,
          4,
          2,
          1,
          5,
          9,
          5,
          4,
          3,
          1,
          1,
          2,
          4,
          5,
          6,
          1,
          2,
          2,
          2,
          8,
          2,
          3,
          1,
          1,
          7,
          2,
          6,
          1,
          1,
          1,
          5,
          3,
          1,
          8,
          2,
          4,
          5,
          1,
          10,
          1,
          4,
          2,
          4,
          3,
          1,
          2,
          4,
          7,
          1,
          1,
          2,
          5,
          1,
          9,
          2,
          2,
          5,
          10,
          2,
          3,
          5,
          1,
          9,
          1,
          8,
          10,
          5,
          4,
          4,
          10,
          1,
          9,
          4,
          8,
          9,
          1,
          5,
          2,
          7,
          4,
          1,
          7,
          2,
          6,
          4,
          7,
          6,
          2,
          6,
          10,
          2,
          4,
          1,
          7,
          9,
          8,
          3,
          2,
          6,
          2,
          5,
          2,
          9,
          4,
          8,
          7,
          3,
          8,
          9,
          6,
          9,
          9,
          8,
          5,
          1,
          1,
          4,
          2,
          4,
          8,
          6,
          5,
          8,
          3,
          6,
          7,
          8,
          5,
          3,
          9,
          5,
          7,
          3,
          9,
          9,
          2,
          5,
          9,
          2,
          3,
          2,
          5,
          6,
          5,
          4,
          1,
          8,
          2
         ],
         "xaxis": "x2",
         "yaxis": "y2",
         "type": "histogram"
        },
        {
         "alignmentgroup": "True",
         "hovertemplate": "Conjunctiva cluster=True<br>Center V (Rank)≥6=True<br>Center H (Rank)=%{x}<extra></extra>",
         "legendgroup": "True",
         "marker": {
          "color": "#00CC96"
         },
         "name": "True",
         "notched": true,
         "offsetgroup": "True",
         "showlegend": false,
         "x": [
          2,
          1,
          4,
          2,
          1,
          10,
          3,
          1,
          1,
          2,
          3,
          3,
          1,
          2,
          1,
          3,
          10,
          1,
          9,
          5,
          1,
          1,
          2,
          6,
          2,
          9,
          2,
          3,
          1,
          1,
          6,
          4,
          6,
          4,
          2,
          4,
          1,
          3,
          5,
          5,
          7,
          4,
          1,
          9,
          2,
          1,
          8,
          2,
          10,
          1,
          4,
          1,
          1,
          2,
          9,
          1,
          3,
          2,
          5,
          1,
          4,
          2,
          4,
          2,
          1,
          5,
          9,
          5,
          4,
          3,
          1,
          1,
          2,
          4,
          5,
          6,
          1,
          2,
          2,
          2,
          8,
          2,
          3,
          1,
          1,
          7,
          2,
          6,
          1,
          1,
          1,
          5,
          3,
          1,
          8,
          2,
          4,
          5,
          1,
          10,
          1,
          4,
          2,
          4,
          3,
          1,
          2,
          4,
          7,
          1,
          1,
          2,
          5,
          1,
          9,
          2,
          2,
          5,
          10,
          2,
          3,
          5,
          1,
          9,
          1,
          8,
          10,
          5,
          4,
          4,
          10,
          1,
          9,
          4,
          8,
          9,
          1,
          5,
          2,
          7,
          4,
          1,
          7,
          2,
          6,
          4,
          7,
          6,
          2,
          6,
          10,
          2,
          4,
          1,
          7,
          9,
          8,
          3,
          2,
          6,
          2,
          5,
          2,
          9,
          4,
          8,
          7,
          3,
          8,
          9,
          6,
          9,
          9,
          8,
          5,
          1,
          1,
          4,
          2,
          4,
          8,
          6,
          5,
          8,
          3,
          6,
          7,
          8,
          5,
          3,
          9,
          5,
          7,
          3,
          9,
          9,
          2,
          5,
          9,
          2,
          3,
          2,
          5,
          6,
          5,
          4,
          1,
          8,
          2
         ],
         "xaxis": "x4",
         "yaxis": "y4",
         "type": "box"
        }
       ],
       "layout": {
        "template": {
         "data": {
          "barpolar": [
           {
            "marker": {
             "line": {
              "color": "rgb(17,17,17)",
              "width": 0.5
             },
             "pattern": {
              "fillmode": "overlay",
              "size": 10,
              "solidity": 0.2
             }
            },
            "type": "barpolar"
           }
          ],
          "bar": [
           {
            "error_x": {
             "color": "#f2f5fa"
            },
            "error_y": {
             "color": "#f2f5fa"
            },
            "marker": {
             "line": {
              "color": "rgb(17,17,17)",
              "width": 0.5
             },
             "pattern": {
              "fillmode": "overlay",
              "size": 10,
              "solidity": 0.2
             }
            },
            "type": "bar"
           }
          ],
          "carpet": [
           {
            "aaxis": {
             "endlinecolor": "#A2B1C6",
             "gridcolor": "#506784",
             "linecolor": "#506784",
             "minorgridcolor": "#506784",
             "startlinecolor": "#A2B1C6"
            },
            "baxis": {
             "endlinecolor": "#A2B1C6",
             "gridcolor": "#506784",
             "linecolor": "#506784",
             "minorgridcolor": "#506784",
             "startlinecolor": "#A2B1C6"
            },
            "type": "carpet"
           }
          ],
          "choropleth": [
           {
            "colorbar": {
             "outlinewidth": 0,
             "ticks": ""
            },
            "type": "choropleth"
           }
          ],
          "contourcarpet": [
           {
            "colorbar": {
             "outlinewidth": 0,
             "ticks": ""
            },
            "type": "contourcarpet"
           }
          ],
          "contour": [
           {
            "colorbar": {
             "outlinewidth": 0,
             "ticks": ""
            },
            "colorscale": [
             [
              0.0,
              "#0d0887"
             ],
             [
              0.1111111111111111,
              "#46039f"
             ],
             [
              0.2222222222222222,
              "#7201a8"
             ],
             [
              0.3333333333333333,
              "#9c179e"
             ],
             [
              0.4444444444444444,
              "#bd3786"
             ],
             [
              0.5555555555555556,
              "#d8576b"
             ],
             [
              0.6666666666666666,
              "#ed7953"
             ],
             [
              0.7777777777777778,
              "#fb9f3a"
             ],
             [
              0.8888888888888888,
              "#fdca26"
             ],
             [
              1.0,
              "#f0f921"
             ]
            ],
            "type": "contour"
           }
          ],
          "heatmapgl": [
           {
            "colorbar": {
             "outlinewidth": 0,
             "ticks": ""
            },
            "colorscale": [
             [
              0.0,
              "#0d0887"
             ],
             [
              0.1111111111111111,
              "#46039f"
             ],
             [
              0.2222222222222222,
              "#7201a8"
             ],
             [
              0.3333333333333333,
              "#9c179e"
             ],
             [
              0.4444444444444444,
              "#bd3786"
             ],
             [
              0.5555555555555556,
              "#d8576b"
             ],
             [
              0.6666666666666666,
              "#ed7953"
             ],
             [
              0.7777777777777778,
              "#fb9f3a"
             ],
             [
              0.8888888888888888,
              "#fdca26"
             ],
             [
              1.0,
              "#f0f921"
             ]
            ],
            "type": "heatmapgl"
           }
          ],
          "heatmap": [
           {
            "colorbar": {
             "outlinewidth": 0,
             "ticks": ""
            },
            "colorscale": [
             [
              0.0,
              "#0d0887"
             ],
             [
              0.1111111111111111,
              "#46039f"
             ],
             [
              0.2222222222222222,
              "#7201a8"
             ],
             [
              0.3333333333333333,
              "#9c179e"
             ],
             [
              0.4444444444444444,
              "#bd3786"
             ],
             [
              0.5555555555555556,
              "#d8576b"
             ],
             [
              0.6666666666666666,
              "#ed7953"
             ],
             [
              0.7777777777777778,
              "#fb9f3a"
             ],
             [
              0.8888888888888888,
              "#fdca26"
             ],
             [
              1.0,
              "#f0f921"
             ]
            ],
            "type": "heatmap"
           }
          ],
          "histogram2dcontour": [
           {
            "colorbar": {
             "outlinewidth": 0,
             "ticks": ""
            },
            "colorscale": [
             [
              0.0,
              "#0d0887"
             ],
             [
              0.1111111111111111,
              "#46039f"
             ],
             [
              0.2222222222222222,
              "#7201a8"
             ],
             [
              0.3333333333333333,
              "#9c179e"
             ],
             [
              0.4444444444444444,
              "#bd3786"
             ],
             [
              0.5555555555555556,
              "#d8576b"
             ],
             [
              0.6666666666666666,
              "#ed7953"
             ],
             [
              0.7777777777777778,
              "#fb9f3a"
             ],
             [
              0.8888888888888888,
              "#fdca26"
             ],
             [
              1.0,
              "#f0f921"
             ]
            ],
            "type": "histogram2dcontour"
           }
          ],
          "histogram2d": [
           {
            "colorbar": {
             "outlinewidth": 0,
             "ticks": ""
            },
            "colorscale": [
             [
              0.0,
              "#0d0887"
             ],
             [
              0.1111111111111111,
              "#46039f"
             ],
             [
              0.2222222222222222,
              "#7201a8"
             ],
             [
              0.3333333333333333,
              "#9c179e"
             ],
             [
              0.4444444444444444,
              "#bd3786"
             ],
             [
              0.5555555555555556,
              "#d8576b"
             ],
             [
              0.6666666666666666,
              "#ed7953"
             ],
             [
              0.7777777777777778,
              "#fb9f3a"
             ],
             [
              0.8888888888888888,
              "#fdca26"
             ],
             [
              1.0,
              "#f0f921"
             ]
            ],
            "type": "histogram2d"
           }
          ],
          "histogram": [
           {
            "marker": {
             "pattern": {
              "fillmode": "overlay",
              "size": 10,
              "solidity": 0.2
             }
            },
            "type": "histogram"
           }
          ],
          "mesh3d": [
           {
            "colorbar": {
             "outlinewidth": 0,
             "ticks": ""
            },
            "type": "mesh3d"
           }
          ],
          "parcoords": [
           {
            "line": {
             "colorbar": {
              "outlinewidth": 0,
              "ticks": ""
             }
            },
            "type": "parcoords"
           }
          ],
          "pie": [
           {
            "automargin": true,
            "type": "pie"
           }
          ],
          "scatter3d": [
           {
            "line": {
             "colorbar": {
              "outlinewidth": 0,
              "ticks": ""
             }
            },
            "marker": {
             "colorbar": {
              "outlinewidth": 0,
              "ticks": ""
             }
            },
            "type": "scatter3d"
           }
          ],
          "scattercarpet": [
           {
            "marker": {
             "colorbar": {
              "outlinewidth": 0,
              "ticks": ""
             }
            },
            "type": "scattercarpet"
           }
          ],
          "scattergeo": [
           {
            "marker": {
             "colorbar": {
              "outlinewidth": 0,
              "ticks": ""
             }
            },
            "type": "scattergeo"
           }
          ],
          "scattergl": [
           {
            "marker": {
             "line": {
              "color": "#283442"
             }
            },
            "type": "scattergl"
           }
          ],
          "scattermapbox": [
           {
            "marker": {
             "colorbar": {
              "outlinewidth": 0,
              "ticks": ""
             }
            },
            "type": "scattermapbox"
           }
          ],
          "scatterpolargl": [
           {
            "marker": {
             "colorbar": {
              "outlinewidth": 0,
              "ticks": ""
             }
            },
            "type": "scatterpolargl"
           }
          ],
          "scatterpolar": [
           {
            "marker": {
             "colorbar": {
              "outlinewidth": 0,
              "ticks": ""
             }
            },
            "type": "scatterpolar"
           }
          ],
          "scatter": [
           {
            "marker": {
             "line": {
              "color": "#283442"
             }
            },
            "type": "scatter"
           }
          ],
          "scatterternary": [
           {
            "marker": {
             "colorbar": {
              "outlinewidth": 0,
              "ticks": ""
             }
            },
            "type": "scatterternary"
           }
          ],
          "surface": [
           {
            "colorbar": {
             "outlinewidth": 0,
             "ticks": ""
            },
            "colorscale": [
             [
              0.0,
              "#0d0887"
             ],
             [
              0.1111111111111111,
              "#46039f"
             ],
             [
              0.2222222222222222,
              "#7201a8"
             ],
             [
              0.3333333333333333,
              "#9c179e"
             ],
             [
              0.4444444444444444,
              "#bd3786"
             ],
             [
              0.5555555555555556,
              "#d8576b"
             ],
             [
              0.6666666666666666,
              "#ed7953"
             ],
             [
              0.7777777777777778,
              "#fb9f3a"
             ],
             [
              0.8888888888888888,
              "#fdca26"
             ],
             [
              1.0,
              "#f0f921"
             ]
            ],
            "type": "surface"
           }
          ],
          "table": [
           {
            "cells": {
             "fill": {
              "color": "#506784"
             },
             "line": {
              "color": "rgb(17,17,17)"
             }
            },
            "header": {
             "fill": {
              "color": "#2a3f5f"
             },
             "line": {
              "color": "rgb(17,17,17)"
             }
            },
            "type": "table"
           }
          ]
         },
         "layout": {
          "annotationdefaults": {
           "arrowcolor": "#f2f5fa",
           "arrowhead": 0,
           "arrowwidth": 1
          },
          "autotypenumbers": "strict",
          "coloraxis": {
           "colorbar": {
            "outlinewidth": 0,
            "ticks": ""
           }
          },
          "colorscale": {
           "diverging": [
            [
             0,
             "#8e0152"
            ],
            [
             0.1,
             "#c51b7d"
            ],
            [
             0.2,
             "#de77ae"
            ],
            [
             0.3,
             "#f1b6da"
            ],
            [
             0.4,
             "#fde0ef"
            ],
            [
             0.5,
             "#f7f7f7"
            ],
            [
             0.6,
             "#e6f5d0"
            ],
            [
             0.7,
             "#b8e186"
            ],
            [
             0.8,
             "#7fbc41"
            ],
            [
             0.9,
             "#4d9221"
            ],
            [
             1,
             "#276419"
            ]
           ],
           "sequential": [
            [
             0.0,
             "#0d0887"
            ],
            [
             0.1111111111111111,
             "#46039f"
            ],
            [
             0.2222222222222222,
             "#7201a8"
            ],
            [
             0.3333333333333333,
             "#9c179e"
            ],
            [
             0.4444444444444444,
             "#bd3786"
            ],
            [
             0.5555555555555556,
             "#d8576b"
            ],
            [
             0.6666666666666666,
             "#ed7953"
            ],
            [
             0.7777777777777778,
             "#fb9f3a"
            ],
            [
             0.8888888888888888,
             "#fdca26"
            ],
            [
             1.0,
             "#f0f921"
            ]
           ],
           "sequentialminus": [
            [
             0.0,
             "#0d0887"
            ],
            [
             0.1111111111111111,
             "#46039f"
            ],
            [
             0.2222222222222222,
             "#7201a8"
            ],
            [
             0.3333333333333333,
             "#9c179e"
            ],
            [
             0.4444444444444444,
             "#bd3786"
            ],
            [
             0.5555555555555556,
             "#d8576b"
            ],
            [
             0.6666666666666666,
             "#ed7953"
            ],
            [
             0.7777777777777778,
             "#fb9f3a"
            ],
            [
             0.8888888888888888,
             "#fdca26"
            ],
            [
             1.0,
             "#f0f921"
            ]
           ]
          },
          "colorway": [
           "#636efa",
           "#EF553B",
           "#00cc96",
           "#ab63fa",
           "#FFA15A",
           "#19d3f3",
           "#FF6692",
           "#B6E880",
           "#FF97FF",
           "#FECB52"
          ],
          "font": {
           "color": "#f2f5fa"
          },
          "geo": {
           "bgcolor": "rgb(17,17,17)",
           "lakecolor": "rgb(17,17,17)",
           "landcolor": "rgb(17,17,17)",
           "showlakes": true,
           "showland": true,
           "subunitcolor": "#506784"
          },
          "hoverlabel": {
           "align": "left"
          },
          "hovermode": "closest",
          "mapbox": {
           "style": "dark"
          },
          "paper_bgcolor": "rgb(17,17,17)",
          "plot_bgcolor": "rgb(17,17,17)",
          "polar": {
           "angularaxis": {
            "gridcolor": "#506784",
            "linecolor": "#506784",
            "ticks": ""
           },
           "bgcolor": "rgb(17,17,17)",
           "radialaxis": {
            "gridcolor": "#506784",
            "linecolor": "#506784",
            "ticks": ""
           }
          },
          "scene": {
           "xaxis": {
            "backgroundcolor": "rgb(17,17,17)",
            "gridcolor": "#506784",
            "gridwidth": 2,
            "linecolor": "#506784",
            "showbackground": true,
            "ticks": "",
            "zerolinecolor": "#C8D4E3"
           },
           "yaxis": {
            "backgroundcolor": "rgb(17,17,17)",
            "gridcolor": "#506784",
            "gridwidth": 2,
            "linecolor": "#506784",
            "showbackground": true,
            "ticks": "",
            "zerolinecolor": "#C8D4E3"
           },
           "zaxis": {
            "backgroundcolor": "rgb(17,17,17)",
            "gridcolor": "#506784",
            "gridwidth": 2,
            "linecolor": "#506784",
            "showbackground": true,
            "ticks": "",
            "zerolinecolor": "#C8D4E3"
           }
          },
          "shapedefaults": {
           "line": {
            "color": "#f2f5fa"
           }
          },
          "sliderdefaults": {
           "bgcolor": "#C8D4E3",
           "bordercolor": "rgb(17,17,17)",
           "borderwidth": 1,
           "tickwidth": 0
          },
          "ternary": {
           "aaxis": {
            "gridcolor": "#506784",
            "linecolor": "#506784",
            "ticks": ""
           },
           "baxis": {
            "gridcolor": "#506784",
            "linecolor": "#506784",
            "ticks": ""
           },
           "bgcolor": "rgb(17,17,17)",
           "caxis": {
            "gridcolor": "#506784",
            "linecolor": "#506784",
            "ticks": ""
           }
          },
          "title": {
           "x": 0.05
          },
          "updatemenudefaults": {
           "bgcolor": "#506784",
           "borderwidth": 0
          },
          "xaxis": {
           "automargin": true,
           "gridcolor": "#283442",
           "linecolor": "#506784",
           "ticks": "",
           "title": {
            "standoff": 15
           },
           "zerolinecolor": "#283442",
           "zerolinewidth": 2
          },
          "yaxis": {
           "automargin": true,
           "gridcolor": "#283442",
           "linecolor": "#506784",
           "ticks": "",
           "title": {
            "standoff": 15
           },
           "zerolinecolor": "#283442",
           "zerolinewidth": 2
          }
         }
        },
        "xaxis": {
         "anchor": "y",
         "domain": [
          0.0,
          0.49
         ],
         "title": {
          "text": "Center H (Rank)"
         }
        },
        "yaxis": {
         "anchor": "x",
         "domain": [
          0.0,
          0.7326
         ],
         "title": {
          "text": "count"
         }
        },
        "xaxis2": {
         "anchor": "y2",
         "domain": [
          0.51,
          1.0
         ],
         "matches": "x",
         "title": {
          "text": "Center H (Rank)"
         }
        },
        "yaxis2": {
         "anchor": "x2",
         "domain": [
          0.0,
          0.7326
         ],
         "matches": "y",
         "showticklabels": false
        },
        "xaxis3": {
         "anchor": "y3",
         "domain": [
          0.0,
          0.49
         ],
         "matches": "x",
         "showticklabels": false,
         "showgrid": true
        },
        "yaxis3": {
         "anchor": "x3",
         "domain": [
          0.7426,
          1.0
         ],
         "matches": "y3",
         "showticklabels": false,
         "showline": false,
         "ticks": "",
         "showgrid": false
        },
        "xaxis4": {
         "anchor": "y4",
         "domain": [
          0.51,
          1.0
         ],
         "matches": "x",
         "showticklabels": false,
         "showgrid": true
        },
        "yaxis4": {
         "anchor": "x4",
         "domain": [
          0.7426,
          1.0
         ],
         "matches": "y3",
         "showticklabels": false,
         "showline": false,
         "ticks": "",
         "showgrid": false
        },
        "annotations": [
         {
          "font": {},
          "showarrow": false,
          "text": "Center V (Rank)≥6=False",
          "x": 0.245,
          "xanchor": "center",
          "xref": "paper",
          "y": 1.0,
          "yanchor": "bottom",
          "yref": "paper"
         },
         {
          "font": {},
          "showarrow": false,
          "text": "Center V (Rank)≥6=True",
          "x": 0.755,
          "xanchor": "center",
          "xref": "paper",
          "y": 1.0,
          "yanchor": "bottom",
          "yref": "paper"
         }
        ],
        "legend": {
         "title": {
          "text": "Conjunctiva cluster"
         },
         "tracegroupgap": 0
        },
        "margin": {
         "t": 20,
         "l": 20,
         "r": 20,
         "b": 20
        },
        "barmode": "group",
        "bargap": 0.04,
        "font": {
         "family": "Arial",
         "size": 16
        }
       },
       "config": {
        "plotlyServerURL": "https://plot.ly"
       }
      },
      "text/html": "<div>                            <div id=\"8c487a3c-e39a-41ac-a52b-5f744c1ea500\" class=\"plotly-graph-div\" style=\"height:525px; width:100%;\"></div>            <script type=\"text/javascript\">                require([\"plotly\"], function(Plotly) {                    window.PLOTLYENV=window.PLOTLYENV || {};                                    if (document.getElementById(\"8c487a3c-e39a-41ac-a52b-5f744c1ea500\")) {                    Plotly.newPlot(                        \"8c487a3c-e39a-41ac-a52b-5f744c1ea500\",                        [{\"alignmentgroup\":\"True\",\"bingroup\":\"x\",\"hovertemplate\":\"Conjunctiva cluster=False<br>Center V (Rank)\\u22656=False<br>Center H (Rank)=%{x}<br>count=%{y}<extra></extra>\",\"legendgroup\":\"False\",\"marker\":{\"color\":\"#EF553B\",\"opacity\":0.6,\"pattern\":{\"shape\":\"\"}},\"name\":\"False\",\"offsetgroup\":\"False\",\"orientation\":\"v\",\"showlegend\":true,\"x\":[9,7,5,3,6,8,9,3,6,7,9,4,7,6,10,8,7,4,9,8,6,4,3,7,9,6,4,8,10,7,9,4,8,10,7,9,4,10,6,8,4,9,8,5,6,4,5,10,7,8,8,7,10,3,9,10,8,7,5,10,8,9,7,5,8,10,3,7,5,10,9,7,2,10,9,7,6,3,10,8,7,5,3,9,10,7,4,8,10,7,5,6,7,9,6,8,3,8,10,9,6,7,8,9,10,7,10,9,8,6,5,9,10,7,2,8,10,7,6,3,8,10,7,9,1,5,10,7,6,2,9,8,6,7,10,8,6,7,9,10,6,8,4,5,10,6,7,4,3,4,10,5,7,8,1,10,7,5,8,3,6,10,8,4,4,6,8,5,9,3,10,7,5,6,6,10,5,7,8,3,10,7,8,10,9,6,7,5,1,8,10,6,7,1,10,7,8,4,1,9,7,5,6,2,10,6,8,7,8,10,7,9,4,10,6,7,8,9,1,10,8,9,4,1,10,8,6,3,1,5,8,7,9,9,7,6,10,3,1,9,8,6,7,5,9,10,6,7,10,8,6,5,9,1,10,7,6,4,1,8,9,5,10,8,5,3,4,5,10,8,4,6,1,5,6,8,3,10,5,7,8,9,9,8,10,5,7,10,6,4,5,7,2,10,7,9,4,10,7,4,6,8,10,6,4,5,9,10,9,5,7,4,10,6,4,7,9,1,5,9,10,6,1,9,6,8,5,1,10,7,4,6,7,8,4,5,9,10,5,6,7,9,1,7,5,8,6,9,6,8,5,4,9,3,8,6,5,3,10,4,8,5,8,10,6,4,7,9,7,8,10,5,9,6,7,8,10,8,10,7,4,6,1,9,5,6,8,8,9,7,6,4,1,9,7,4,6,10,8,6,7,4,8,10,6,4,7,9,8,3,10,8,6,7,3,10,9,7,6,3,1,9,7,4,6,8,7,9,5,10,1,8,9,7,5,8,9,10,4,5,8,10,7,5,10,5,6,9,7,2,10,8,5,6,8,9,6,10,2,8,7,9,10,6,9,8,5,6,10,10,8,5,9,4,9,8,5,3,4,3,1,5,10,7,4,10,8,6,1,3,4,2,10,7,6,9,3,10,7,1,7,8,9,5,9,10,8,3,8,9,10,6,3,8,9,6,5,1,10,5,4,7,1,9,5,8,6,9,7,8,10,3,10,8,9,6,1,4,7,8,10,1,5,10,9,6,1,5,10,6,8,1,5,10,9,7,6,10,3,4,2,1,10,7,8,3,5,10,8,7,3,1,6,3,10,9,9,2,6,8,3,4,7,8,9,10,10,4,2,3,6,1,10,2,3,8,10,8,6,9,6,1,7,9,10,5,10,2,3,10,3,7,9,2,5,10,9,7,10,3,5,8,4,4,9,7,6,10,7,2,4,9,2,6,8,1,1,10,5,9,6,1,4,2,8,10,1,10,4,6,8,1,5,10,9,8,10,1,2,7,4,1,6,10,5,10,4,9,6,7,10,9,7,8,1,3,7,9,2,1,9,3,4,6,9,2,3,5,8,5,10,9,3,4,9,1,4,3,7],\"xaxis\":\"x\",\"yaxis\":\"y\",\"type\":\"histogram\"},{\"alignmentgroup\":\"True\",\"hovertemplate\":\"Conjunctiva cluster=False<br>Center V (Rank)\\u22656=False<br>Center H (Rank)=%{x}<extra></extra>\",\"legendgroup\":\"False\",\"marker\":{\"color\":\"#EF553B\"},\"name\":\"False\",\"notched\":true,\"offsetgroup\":\"False\",\"showlegend\":false,\"x\":[9,7,5,3,6,8,9,3,6,7,9,4,7,6,10,8,7,4,9,8,6,4,3,7,9,6,4,8,10,7,9,4,8,10,7,9,4,10,6,8,4,9,8,5,6,4,5,10,7,8,8,7,10,3,9,10,8,7,5,10,8,9,7,5,8,10,3,7,5,10,9,7,2,10,9,7,6,3,10,8,7,5,3,9,10,7,4,8,10,7,5,6,7,9,6,8,3,8,10,9,6,7,8,9,10,7,10,9,8,6,5,9,10,7,2,8,10,7,6,3,8,10,7,9,1,5,10,7,6,2,9,8,6,7,10,8,6,7,9,10,6,8,4,5,10,6,7,4,3,4,10,5,7,8,1,10,7,5,8,3,6,10,8,4,4,6,8,5,9,3,10,7,5,6,6,10,5,7,8,3,10,7,8,10,9,6,7,5,1,8,10,6,7,1,10,7,8,4,1,9,7,5,6,2,10,6,8,7,8,10,7,9,4,10,6,7,8,9,1,10,8,9,4,1,10,8,6,3,1,5,8,7,9,9,7,6,10,3,1,9,8,6,7,5,9,10,6,7,10,8,6,5,9,1,10,7,6,4,1,8,9,5,10,8,5,3,4,5,10,8,4,6,1,5,6,8,3,10,5,7,8,9,9,8,10,5,7,10,6,4,5,7,2,10,7,9,4,10,7,4,6,8,10,6,4,5,9,10,9,5,7,4,10,6,4,7,9,1,5,9,10,6,1,9,6,8,5,1,10,7,4,6,7,8,4,5,9,10,5,6,7,9,1,7,5,8,6,9,6,8,5,4,9,3,8,6,5,3,10,4,8,5,8,10,6,4,7,9,7,8,10,5,9,6,7,8,10,8,10,7,4,6,1,9,5,6,8,8,9,7,6,4,1,9,7,4,6,10,8,6,7,4,8,10,6,4,7,9,8,3,10,8,6,7,3,10,9,7,6,3,1,9,7,4,6,8,7,9,5,10,1,8,9,7,5,8,9,10,4,5,8,10,7,5,10,5,6,9,7,2,10,8,5,6,8,9,6,10,2,8,7,9,10,6,9,8,5,6,10,10,8,5,9,4,9,8,5,3,4,3,1,5,10,7,4,10,8,6,1,3,4,2,10,7,6,9,3,10,7,1,7,8,9,5,9,10,8,3,8,9,10,6,3,8,9,6,5,1,10,5,4,7,1,9,5,8,6,9,7,8,10,3,10,8,9,6,1,4,7,8,10,1,5,10,9,6,1,5,10,6,8,1,5,10,9,7,6,10,3,4,2,1,10,7,8,3,5,10,8,7,3,1,6,3,10,9,9,2,6,8,3,4,7,8,9,10,10,4,2,3,6,1,10,2,3,8,10,8,6,9,6,1,7,9,10,5,10,2,3,10,3,7,9,2,5,10,9,7,10,3,5,8,4,4,9,7,6,10,7,2,4,9,2,6,8,1,1,10,5,9,6,1,4,2,8,10,1,10,4,6,8,1,5,10,9,8,10,1,2,7,4,1,6,10,5,10,4,9,6,7,10,9,7,8,1,3,7,9,2,1,9,3,4,6,9,2,3,5,8,5,10,9,3,4,9,1,4,3,7],\"xaxis\":\"x3\",\"yaxis\":\"y3\",\"type\":\"box\"},{\"alignmentgroup\":\"True\",\"bingroup\":\"x\",\"hovertemplate\":\"Conjunctiva cluster=False<br>Center V (Rank)\\u22656=True<br>Center H (Rank)=%{x}<br>count=%{y}<extra></extra>\",\"legendgroup\":\"False\",\"marker\":{\"color\":\"#EF553B\",\"opacity\":0.6,\"pattern\":{\"shape\":\"\"}},\"name\":\"False\",\"offsetgroup\":\"False\",\"orientation\":\"v\",\"showlegend\":false,\"x\":[10,8,4,10,5,1,2,8,5,5,9,6,10,7,5,8,5,1,10,6,2,5,5,3,6,2,9,7,1,2,7,3,6,2,4,1,4,6,2,3,9,6,3,4,1,4,6,1,5,6,4,2,4,8,5,1,2,9,8,1,2,3,9,1,3,2,5,10,2,4,1,6,3,4,1,2,1,3,4,3,6,8,1,4,2,5,5,3,4,4,9,3,3,4,5,5,3,2,7,9,3,8,5,1,6,9,2,6,3,9,4,7,9,2,1,10,2,7,8,9,1,9,3,1,9,4,6,1,8,2,4,9,3,2,6,3,2,3,2,10,5,4,9,1,3,5,2,4,5,2,6,7,5,3,7,9,2,10,4,2,8,4,2,4,10,3,5,8,4,3,4,7,3,1,9,5,3,10,4,2,6,7,9,2,9,7,2,3,9,10,4,4,3,1,4,2,6,3,9,3,8,2,5,8,3,6,3,9,2,1,7,2,1,8,6,3,2,8,5,2,1,7,8,3,4,10,3,2,8,9,3,2,6,2,3,3,2,8,9,10,3,10,7,2,10,7,1,9,6,2,2,5,9,6,3,4,1,3,4,2,3,5,1,3,4,7,3,2,1,3,10,5,9,2,1,9,3,2,6,10,2,5,5,2,2,5,1,3,8,2,2,3,6,1,6,3,2,6,7,2,3,2,3,4,1,2,3,1,7,4,3,1,4,7,5,3,4,1,2,3,1,6,2,3,7,1,10,9,6,8,2,5,2,3,9,9,5,8,1,8,5,4,1,4,3,5,6,7,1,2,3,5,10,2,1,4,3,6,2,4,10,5,4,1,4,7,1,6,5,3,2,7,2,3,4,9,2,4,6,3,2,7,8,5,1,5,4,2,6,2,4,1,7,5,4,2,4,7,10,1,5,2,6,3,7,9,8,6,7,5,9,5,7,4,1,3,5,2,9,7,4,1,1,6,2,6,4,8,1,2,9,1,5,3,10,1,8,1,10,4,7,8,4,3,2,6,5,7,7,3,2,6,7,4,8,6,9,3,7,4,5,8,1,4,6,2,1,4,10,5,10,8,2,7,6,10,6,2,1,5,8,10],\"xaxis\":\"x2\",\"yaxis\":\"y2\",\"type\":\"histogram\"},{\"alignmentgroup\":\"True\",\"hovertemplate\":\"Conjunctiva cluster=False<br>Center V (Rank)\\u22656=True<br>Center H (Rank)=%{x}<extra></extra>\",\"legendgroup\":\"False\",\"marker\":{\"color\":\"#EF553B\"},\"name\":\"False\",\"notched\":true,\"offsetgroup\":\"False\",\"showlegend\":false,\"x\":[10,8,4,10,5,1,2,8,5,5,9,6,10,7,5,8,5,1,10,6,2,5,5,3,6,2,9,7,1,2,7,3,6,2,4,1,4,6,2,3,9,6,3,4,1,4,6,1,5,6,4,2,4,8,5,1,2,9,8,1,2,3,9,1,3,2,5,10,2,4,1,6,3,4,1,2,1,3,4,3,6,8,1,4,2,5,5,3,4,4,9,3,3,4,5,5,3,2,7,9,3,8,5,1,6,9,2,6,3,9,4,7,9,2,1,10,2,7,8,9,1,9,3,1,9,4,6,1,8,2,4,9,3,2,6,3,2,3,2,10,5,4,9,1,3,5,2,4,5,2,6,7,5,3,7,9,2,10,4,2,8,4,2,4,10,3,5,8,4,3,4,7,3,1,9,5,3,10,4,2,6,7,9,2,9,7,2,3,9,10,4,4,3,1,4,2,6,3,9,3,8,2,5,8,3,6,3,9,2,1,7,2,1,8,6,3,2,8,5,2,1,7,8,3,4,10,3,2,8,9,3,2,6,2,3,3,2,8,9,10,3,10,7,2,10,7,1,9,6,2,2,5,9,6,3,4,1,3,4,2,3,5,1,3,4,7,3,2,1,3,10,5,9,2,1,9,3,2,6,10,2,5,5,2,2,5,1,3,8,2,2,3,6,1,6,3,2,6,7,2,3,2,3,4,1,2,3,1,7,4,3,1,4,7,5,3,4,1,2,3,1,6,2,3,7,1,10,9,6,8,2,5,2,3,9,9,5,8,1,8,5,4,1,4,3,5,6,7,1,2,3,5,10,2,1,4,3,6,2,4,10,5,4,1,4,7,1,6,5,3,2,7,2,3,4,9,2,4,6,3,2,7,8,5,1,5,4,2,6,2,4,1,7,5,4,2,4,7,10,1,5,2,6,3,7,9,8,6,7,5,9,5,7,4,1,3,5,2,9,7,4,1,1,6,2,6,4,8,1,2,9,1,5,3,10,1,8,1,10,4,7,8,4,3,2,6,5,7,7,3,2,6,7,4,8,6,9,3,7,4,5,8,1,4,6,2,1,4,10,5,10,8,2,7,6,10,6,2,1,5,8,10],\"xaxis\":\"x4\",\"yaxis\":\"y4\",\"type\":\"box\"},{\"alignmentgroup\":\"True\",\"bingroup\":\"x\",\"hovertemplate\":\"Conjunctiva cluster=Maybe<br>Center V (Rank)\\u22656=False<br>Center H (Rank)=%{x}<br>count=%{y}<extra></extra>\",\"legendgroup\":\"Maybe\",\"marker\":{\"color\":\"#636EFA\",\"opacity\":0.6,\"pattern\":{\"shape\":\"\"}},\"name\":\"Maybe\",\"offsetgroup\":\"Maybe\",\"orientation\":\"v\",\"showlegend\":true,\"x\":[2,4,5,6,5,4,7,3,8,4,6],\"xaxis\":\"x\",\"yaxis\":\"y\",\"type\":\"histogram\"},{\"alignmentgroup\":\"True\",\"hovertemplate\":\"Conjunctiva cluster=Maybe<br>Center V (Rank)\\u22656=False<br>Center H (Rank)=%{x}<extra></extra>\",\"legendgroup\":\"Maybe\",\"marker\":{\"color\":\"#636EFA\"},\"name\":\"Maybe\",\"notched\":true,\"offsetgroup\":\"Maybe\",\"showlegend\":false,\"x\":[2,4,5,6,5,4,7,3,8,4,6],\"xaxis\":\"x3\",\"yaxis\":\"y3\",\"type\":\"box\"},{\"alignmentgroup\":\"True\",\"bingroup\":\"x\",\"hovertemplate\":\"Conjunctiva cluster=Maybe<br>Center V (Rank)\\u22656=True<br>Center H (Rank)=%{x}<br>count=%{y}<extra></extra>\",\"legendgroup\":\"Maybe\",\"marker\":{\"color\":\"#636EFA\",\"opacity\":0.6,\"pattern\":{\"shape\":\"\"}},\"name\":\"Maybe\",\"offsetgroup\":\"Maybe\",\"orientation\":\"v\",\"showlegend\":false,\"x\":[2,3,2,3,4,8,6,3,3,5,1,6,2,3,7,3,10,8,5,1,4,4,3,2,7,5,3,5,3,3,8,7,7,6],\"xaxis\":\"x2\",\"yaxis\":\"y2\",\"type\":\"histogram\"},{\"alignmentgroup\":\"True\",\"hovertemplate\":\"Conjunctiva cluster=Maybe<br>Center V (Rank)\\u22656=True<br>Center H (Rank)=%{x}<extra></extra>\",\"legendgroup\":\"Maybe\",\"marker\":{\"color\":\"#636EFA\"},\"name\":\"Maybe\",\"notched\":true,\"offsetgroup\":\"Maybe\",\"showlegend\":false,\"x\":[2,3,2,3,4,8,6,3,3,5,1,6,2,3,7,3,10,8,5,1,4,4,3,2,7,5,3,5,3,3,8,7,7,6],\"xaxis\":\"x4\",\"yaxis\":\"y4\",\"type\":\"box\"},{\"alignmentgroup\":\"True\",\"bingroup\":\"x\",\"hovertemplate\":\"Conjunctiva cluster=True<br>Center V (Rank)\\u22656=False<br>Center H (Rank)=%{x}<br>count=%{y}<extra></extra>\",\"legendgroup\":\"True\",\"marker\":{\"color\":\"#00CC96\",\"opacity\":0.6,\"pattern\":{\"shape\":\"\"}},\"name\":\"True\",\"offsetgroup\":\"True\",\"orientation\":\"v\",\"showlegend\":true,\"x\":[3,2,5,3,8,2,5,7,7,4,6,3,2,8,3],\"xaxis\":\"x\",\"yaxis\":\"y\",\"type\":\"histogram\"},{\"alignmentgroup\":\"True\",\"hovertemplate\":\"Conjunctiva cluster=True<br>Center V (Rank)\\u22656=False<br>Center H (Rank)=%{x}<extra></extra>\",\"legendgroup\":\"True\",\"marker\":{\"color\":\"#00CC96\"},\"name\":\"True\",\"notched\":true,\"offsetgroup\":\"True\",\"showlegend\":false,\"x\":[3,2,5,3,8,2,5,7,7,4,6,3,2,8,3],\"xaxis\":\"x3\",\"yaxis\":\"y3\",\"type\":\"box\"},{\"alignmentgroup\":\"True\",\"bingroup\":\"x\",\"hovertemplate\":\"Conjunctiva cluster=True<br>Center V (Rank)\\u22656=True<br>Center H (Rank)=%{x}<br>count=%{y}<extra></extra>\",\"legendgroup\":\"True\",\"marker\":{\"color\":\"#00CC96\",\"opacity\":0.6,\"pattern\":{\"shape\":\"\"}},\"name\":\"True\",\"offsetgroup\":\"True\",\"orientation\":\"v\",\"showlegend\":false,\"x\":[2,1,4,2,1,10,3,1,1,2,3,3,1,2,1,3,10,1,9,5,1,1,2,6,2,9,2,3,1,1,6,4,6,4,2,4,1,3,5,5,7,4,1,9,2,1,8,2,10,1,4,1,1,2,9,1,3,2,5,1,4,2,4,2,1,5,9,5,4,3,1,1,2,4,5,6,1,2,2,2,8,2,3,1,1,7,2,6,1,1,1,5,3,1,8,2,4,5,1,10,1,4,2,4,3,1,2,4,7,1,1,2,5,1,9,2,2,5,10,2,3,5,1,9,1,8,10,5,4,4,10,1,9,4,8,9,1,5,2,7,4,1,7,2,6,4,7,6,2,6,10,2,4,1,7,9,8,3,2,6,2,5,2,9,4,8,7,3,8,9,6,9,9,8,5,1,1,4,2,4,8,6,5,8,3,6,7,8,5,3,9,5,7,3,9,9,2,5,9,2,3,2,5,6,5,4,1,8,2],\"xaxis\":\"x2\",\"yaxis\":\"y2\",\"type\":\"histogram\"},{\"alignmentgroup\":\"True\",\"hovertemplate\":\"Conjunctiva cluster=True<br>Center V (Rank)\\u22656=True<br>Center H (Rank)=%{x}<extra></extra>\",\"legendgroup\":\"True\",\"marker\":{\"color\":\"#00CC96\"},\"name\":\"True\",\"notched\":true,\"offsetgroup\":\"True\",\"showlegend\":false,\"x\":[2,1,4,2,1,10,3,1,1,2,3,3,1,2,1,3,10,1,9,5,1,1,2,6,2,9,2,3,1,1,6,4,6,4,2,4,1,3,5,5,7,4,1,9,2,1,8,2,10,1,4,1,1,2,9,1,3,2,5,1,4,2,4,2,1,5,9,5,4,3,1,1,2,4,5,6,1,2,2,2,8,2,3,1,1,7,2,6,1,1,1,5,3,1,8,2,4,5,1,10,1,4,2,4,3,1,2,4,7,1,1,2,5,1,9,2,2,5,10,2,3,5,1,9,1,8,10,5,4,4,10,1,9,4,8,9,1,5,2,7,4,1,7,2,6,4,7,6,2,6,10,2,4,1,7,9,8,3,2,6,2,5,2,9,4,8,7,3,8,9,6,9,9,8,5,1,1,4,2,4,8,6,5,8,3,6,7,8,5,3,9,5,7,3,9,9,2,5,9,2,3,2,5,6,5,4,1,8,2],\"xaxis\":\"x4\",\"yaxis\":\"y4\",\"type\":\"box\"}],                        {\"template\":{\"data\":{\"barpolar\":[{\"marker\":{\"line\":{\"color\":\"rgb(17,17,17)\",\"width\":0.5},\"pattern\":{\"fillmode\":\"overlay\",\"size\":10,\"solidity\":0.2}},\"type\":\"barpolar\"}],\"bar\":[{\"error_x\":{\"color\":\"#f2f5fa\"},\"error_y\":{\"color\":\"#f2f5fa\"},\"marker\":{\"line\":{\"color\":\"rgb(17,17,17)\",\"width\":0.5},\"pattern\":{\"fillmode\":\"overlay\",\"size\":10,\"solidity\":0.2}},\"type\":\"bar\"}],\"carpet\":[{\"aaxis\":{\"endlinecolor\":\"#A2B1C6\",\"gridcolor\":\"#506784\",\"linecolor\":\"#506784\",\"minorgridcolor\":\"#506784\",\"startlinecolor\":\"#A2B1C6\"},\"baxis\":{\"endlinecolor\":\"#A2B1C6\",\"gridcolor\":\"#506784\",\"linecolor\":\"#506784\",\"minorgridcolor\":\"#506784\",\"startlinecolor\":\"#A2B1C6\"},\"type\":\"carpet\"}],\"choropleth\":[{\"colorbar\":{\"outlinewidth\":0,\"ticks\":\"\"},\"type\":\"choropleth\"}],\"contourcarpet\":[{\"colorbar\":{\"outlinewidth\":0,\"ticks\":\"\"},\"type\":\"contourcarpet\"}],\"contour\":[{\"colorbar\":{\"outlinewidth\":0,\"ticks\":\"\"},\"colorscale\":[[0.0,\"#0d0887\"],[0.1111111111111111,\"#46039f\"],[0.2222222222222222,\"#7201a8\"],[0.3333333333333333,\"#9c179e\"],[0.4444444444444444,\"#bd3786\"],[0.5555555555555556,\"#d8576b\"],[0.6666666666666666,\"#ed7953\"],[0.7777777777777778,\"#fb9f3a\"],[0.8888888888888888,\"#fdca26\"],[1.0,\"#f0f921\"]],\"type\":\"contour\"}],\"heatmapgl\":[{\"colorbar\":{\"outlinewidth\":0,\"ticks\":\"\"},\"colorscale\":[[0.0,\"#0d0887\"],[0.1111111111111111,\"#46039f\"],[0.2222222222222222,\"#7201a8\"],[0.3333333333333333,\"#9c179e\"],[0.4444444444444444,\"#bd3786\"],[0.5555555555555556,\"#d8576b\"],[0.6666666666666666,\"#ed7953\"],[0.7777777777777778,\"#fb9f3a\"],[0.8888888888888888,\"#fdca26\"],[1.0,\"#f0f921\"]],\"type\":\"heatmapgl\"}],\"heatmap\":[{\"colorbar\":{\"outlinewidth\":0,\"ticks\":\"\"},\"colorscale\":[[0.0,\"#0d0887\"],[0.1111111111111111,\"#46039f\"],[0.2222222222222222,\"#7201a8\"],[0.3333333333333333,\"#9c179e\"],[0.4444444444444444,\"#bd3786\"],[0.5555555555555556,\"#d8576b\"],[0.6666666666666666,\"#ed7953\"],[0.7777777777777778,\"#fb9f3a\"],[0.8888888888888888,\"#fdca26\"],[1.0,\"#f0f921\"]],\"type\":\"heatmap\"}],\"histogram2dcontour\":[{\"colorbar\":{\"outlinewidth\":0,\"ticks\":\"\"},\"colorscale\":[[0.0,\"#0d0887\"],[0.1111111111111111,\"#46039f\"],[0.2222222222222222,\"#7201a8\"],[0.3333333333333333,\"#9c179e\"],[0.4444444444444444,\"#bd3786\"],[0.5555555555555556,\"#d8576b\"],[0.6666666666666666,\"#ed7953\"],[0.7777777777777778,\"#fb9f3a\"],[0.8888888888888888,\"#fdca26\"],[1.0,\"#f0f921\"]],\"type\":\"histogram2dcontour\"}],\"histogram2d\":[{\"colorbar\":{\"outlinewidth\":0,\"ticks\":\"\"},\"colorscale\":[[0.0,\"#0d0887\"],[0.1111111111111111,\"#46039f\"],[0.2222222222222222,\"#7201a8\"],[0.3333333333333333,\"#9c179e\"],[0.4444444444444444,\"#bd3786\"],[0.5555555555555556,\"#d8576b\"],[0.6666666666666666,\"#ed7953\"],[0.7777777777777778,\"#fb9f3a\"],[0.8888888888888888,\"#fdca26\"],[1.0,\"#f0f921\"]],\"type\":\"histogram2d\"}],\"histogram\":[{\"marker\":{\"pattern\":{\"fillmode\":\"overlay\",\"size\":10,\"solidity\":0.2}},\"type\":\"histogram\"}],\"mesh3d\":[{\"colorbar\":{\"outlinewidth\":0,\"ticks\":\"\"},\"type\":\"mesh3d\"}],\"parcoords\":[{\"line\":{\"colorbar\":{\"outlinewidth\":0,\"ticks\":\"\"}},\"type\":\"parcoords\"}],\"pie\":[{\"automargin\":true,\"type\":\"pie\"}],\"scatter3d\":[{\"line\":{\"colorbar\":{\"outlinewidth\":0,\"ticks\":\"\"}},\"marker\":{\"colorbar\":{\"outlinewidth\":0,\"ticks\":\"\"}},\"type\":\"scatter3d\"}],\"scattercarpet\":[{\"marker\":{\"colorbar\":{\"outlinewidth\":0,\"ticks\":\"\"}},\"type\":\"scattercarpet\"}],\"scattergeo\":[{\"marker\":{\"colorbar\":{\"outlinewidth\":0,\"ticks\":\"\"}},\"type\":\"scattergeo\"}],\"scattergl\":[{\"marker\":{\"line\":{\"color\":\"#283442\"}},\"type\":\"scattergl\"}],\"scattermapbox\":[{\"marker\":{\"colorbar\":{\"outlinewidth\":0,\"ticks\":\"\"}},\"type\":\"scattermapbox\"}],\"scatterpolargl\":[{\"marker\":{\"colorbar\":{\"outlinewidth\":0,\"ticks\":\"\"}},\"type\":\"scatterpolargl\"}],\"scatterpolar\":[{\"marker\":{\"colorbar\":{\"outlinewidth\":0,\"ticks\":\"\"}},\"type\":\"scatterpolar\"}],\"scatter\":[{\"marker\":{\"line\":{\"color\":\"#283442\"}},\"type\":\"scatter\"}],\"scatterternary\":[{\"marker\":{\"colorbar\":{\"outlinewidth\":0,\"ticks\":\"\"}},\"type\":\"scatterternary\"}],\"surface\":[{\"colorbar\":{\"outlinewidth\":0,\"ticks\":\"\"},\"colorscale\":[[0.0,\"#0d0887\"],[0.1111111111111111,\"#46039f\"],[0.2222222222222222,\"#7201a8\"],[0.3333333333333333,\"#9c179e\"],[0.4444444444444444,\"#bd3786\"],[0.5555555555555556,\"#d8576b\"],[0.6666666666666666,\"#ed7953\"],[0.7777777777777778,\"#fb9f3a\"],[0.8888888888888888,\"#fdca26\"],[1.0,\"#f0f921\"]],\"type\":\"surface\"}],\"table\":[{\"cells\":{\"fill\":{\"color\":\"#506784\"},\"line\":{\"color\":\"rgb(17,17,17)\"}},\"header\":{\"fill\":{\"color\":\"#2a3f5f\"},\"line\":{\"color\":\"rgb(17,17,17)\"}},\"type\":\"table\"}]},\"layout\":{\"annotationdefaults\":{\"arrowcolor\":\"#f2f5fa\",\"arrowhead\":0,\"arrowwidth\":1},\"autotypenumbers\":\"strict\",\"coloraxis\":{\"colorbar\":{\"outlinewidth\":0,\"ticks\":\"\"}},\"colorscale\":{\"diverging\":[[0,\"#8e0152\"],[0.1,\"#c51b7d\"],[0.2,\"#de77ae\"],[0.3,\"#f1b6da\"],[0.4,\"#fde0ef\"],[0.5,\"#f7f7f7\"],[0.6,\"#e6f5d0\"],[0.7,\"#b8e186\"],[0.8,\"#7fbc41\"],[0.9,\"#4d9221\"],[1,\"#276419\"]],\"sequential\":[[0.0,\"#0d0887\"],[0.1111111111111111,\"#46039f\"],[0.2222222222222222,\"#7201a8\"],[0.3333333333333333,\"#9c179e\"],[0.4444444444444444,\"#bd3786\"],[0.5555555555555556,\"#d8576b\"],[0.6666666666666666,\"#ed7953\"],[0.7777777777777778,\"#fb9f3a\"],[0.8888888888888888,\"#fdca26\"],[1.0,\"#f0f921\"]],\"sequentialminus\":[[0.0,\"#0d0887\"],[0.1111111111111111,\"#46039f\"],[0.2222222222222222,\"#7201a8\"],[0.3333333333333333,\"#9c179e\"],[0.4444444444444444,\"#bd3786\"],[0.5555555555555556,\"#d8576b\"],[0.6666666666666666,\"#ed7953\"],[0.7777777777777778,\"#fb9f3a\"],[0.8888888888888888,\"#fdca26\"],[1.0,\"#f0f921\"]]},\"colorway\":[\"#636efa\",\"#EF553B\",\"#00cc96\",\"#ab63fa\",\"#FFA15A\",\"#19d3f3\",\"#FF6692\",\"#B6E880\",\"#FF97FF\",\"#FECB52\"],\"font\":{\"color\":\"#f2f5fa\"},\"geo\":{\"bgcolor\":\"rgb(17,17,17)\",\"lakecolor\":\"rgb(17,17,17)\",\"landcolor\":\"rgb(17,17,17)\",\"showlakes\":true,\"showland\":true,\"subunitcolor\":\"#506784\"},\"hoverlabel\":{\"align\":\"left\"},\"hovermode\":\"closest\",\"mapbox\":{\"style\":\"dark\"},\"paper_bgcolor\":\"rgb(17,17,17)\",\"plot_bgcolor\":\"rgb(17,17,17)\",\"polar\":{\"angularaxis\":{\"gridcolor\":\"#506784\",\"linecolor\":\"#506784\",\"ticks\":\"\"},\"bgcolor\":\"rgb(17,17,17)\",\"radialaxis\":{\"gridcolor\":\"#506784\",\"linecolor\":\"#506784\",\"ticks\":\"\"}},\"scene\":{\"xaxis\":{\"backgroundcolor\":\"rgb(17,17,17)\",\"gridcolor\":\"#506784\",\"gridwidth\":2,\"linecolor\":\"#506784\",\"showbackground\":true,\"ticks\":\"\",\"zerolinecolor\":\"#C8D4E3\"},\"yaxis\":{\"backgroundcolor\":\"rgb(17,17,17)\",\"gridcolor\":\"#506784\",\"gridwidth\":2,\"linecolor\":\"#506784\",\"showbackground\":true,\"ticks\":\"\",\"zerolinecolor\":\"#C8D4E3\"},\"zaxis\":{\"backgroundcolor\":\"rgb(17,17,17)\",\"gridcolor\":\"#506784\",\"gridwidth\":2,\"linecolor\":\"#506784\",\"showbackground\":true,\"ticks\":\"\",\"zerolinecolor\":\"#C8D4E3\"}},\"shapedefaults\":{\"line\":{\"color\":\"#f2f5fa\"}},\"sliderdefaults\":{\"bgcolor\":\"#C8D4E3\",\"bordercolor\":\"rgb(17,17,17)\",\"borderwidth\":1,\"tickwidth\":0},\"ternary\":{\"aaxis\":{\"gridcolor\":\"#506784\",\"linecolor\":\"#506784\",\"ticks\":\"\"},\"baxis\":{\"gridcolor\":\"#506784\",\"linecolor\":\"#506784\",\"ticks\":\"\"},\"bgcolor\":\"rgb(17,17,17)\",\"caxis\":{\"gridcolor\":\"#506784\",\"linecolor\":\"#506784\",\"ticks\":\"\"}},\"title\":{\"x\":0.05},\"updatemenudefaults\":{\"bgcolor\":\"#506784\",\"borderwidth\":0},\"xaxis\":{\"automargin\":true,\"gridcolor\":\"#283442\",\"linecolor\":\"#506784\",\"ticks\":\"\",\"title\":{\"standoff\":15},\"zerolinecolor\":\"#283442\",\"zerolinewidth\":2},\"yaxis\":{\"automargin\":true,\"gridcolor\":\"#283442\",\"linecolor\":\"#506784\",\"ticks\":\"\",\"title\":{\"standoff\":15},\"zerolinecolor\":\"#283442\",\"zerolinewidth\":2}}},\"xaxis\":{\"anchor\":\"y\",\"domain\":[0.0,0.49],\"title\":{\"text\":\"Center H (Rank)\"}},\"yaxis\":{\"anchor\":\"x\",\"domain\":[0.0,0.7326],\"title\":{\"text\":\"count\"}},\"xaxis2\":{\"anchor\":\"y2\",\"domain\":[0.51,1.0],\"matches\":\"x\",\"title\":{\"text\":\"Center H (Rank)\"}},\"yaxis2\":{\"anchor\":\"x2\",\"domain\":[0.0,0.7326],\"matches\":\"y\",\"showticklabels\":false},\"xaxis3\":{\"anchor\":\"y3\",\"domain\":[0.0,0.49],\"matches\":\"x\",\"showticklabels\":false,\"showgrid\":true},\"yaxis3\":{\"anchor\":\"x3\",\"domain\":[0.7426,1.0],\"matches\":\"y3\",\"showticklabels\":false,\"showline\":false,\"ticks\":\"\",\"showgrid\":false},\"xaxis4\":{\"anchor\":\"y4\",\"domain\":[0.51,1.0],\"matches\":\"x\",\"showticklabels\":false,\"showgrid\":true},\"yaxis4\":{\"anchor\":\"x4\",\"domain\":[0.7426,1.0],\"matches\":\"y3\",\"showticklabels\":false,\"showline\":false,\"ticks\":\"\",\"showgrid\":false},\"annotations\":[{\"font\":{},\"showarrow\":false,\"text\":\"Center V (Rank)\\u22656=False\",\"x\":0.245,\"xanchor\":\"center\",\"xref\":\"paper\",\"y\":1.0,\"yanchor\":\"bottom\",\"yref\":\"paper\"},{\"font\":{},\"showarrow\":false,\"text\":\"Center V (Rank)\\u22656=True\",\"x\":0.755,\"xanchor\":\"center\",\"xref\":\"paper\",\"y\":1.0,\"yanchor\":\"bottom\",\"yref\":\"paper\"}],\"legend\":{\"title\":{\"text\":\"Conjunctiva cluster\"},\"tracegroupgap\":0},\"margin\":{\"t\":20,\"l\":20,\"r\":20,\"b\":20},\"barmode\":\"group\",\"bargap\":0.04,\"font\":{\"family\":\"Arial\",\"size\":16}},                        {\"responsive\": true}                    ).then(function(){\n                            \nvar gd = document.getElementById('8c487a3c-e39a-41ac-a52b-5f744c1ea500');\nvar x = new MutationObserver(function (mutations, observer) {{\n        var display = window.getComputedStyle(gd).display;\n        if (!display || display === 'none') {{\n            console.log([gd, 'removed!']);\n            Plotly.purge(gd);\n            observer.disconnect();\n        }}\n}});\n\n// Listen for the removal of the full notebook cells\nvar notebookContainer = gd.closest('#notebook-container');\nif (notebookContainer) {{\n    x.observe(notebookContainer, {childList: true});\n}}\n\n// Listen for the clearing of the current output cell\nvar outputEl = gd.closest('.output');\nif (outputEl) {{\n    x.observe(outputEl, {childList: true});\n}}\n\n                        })                };                });            </script>        </div>"
     },
     "metadata": {},
     "output_type": "display_data"
    }
   ],
   "source": [
    "fig = px.histogram(all_metrics_flat, x=\"Ranks-Color-Center-H\", marginal=\"box\", opacity=0.6,\n",
    "                   barmode=\"group\",\n",
    "                   facet_col=\"Ranks-Color-Center-V>=6\",\n",
    "                   color=\"Labels-Value\", color_discrete_map=color_discrete_map,\n",
    "                   category_orders=category_orders, labels=var_labels, template=plotly_template)\n",
    "fig.update_layout(bargap=0.04)\n",
    "fig.update_layout(font=dict(family=\"Arial\",size=16,), margin=dict(l=20, r=20, t=20, b=20))\n",
    "fig.show()\n",
    "title = \"HSV histogram with box plot- H val split at V rank>=6\"\n",
    "save_plotly_figure(fig, title)"
   ],
   "metadata": {
    "collapsed": false
   }
  },
  {
   "cell_type": "code",
   "execution_count": 44,
   "outputs": [
    {
     "data": {
      "application/vnd.plotly.v1+json": {
       "data": [
        {
         "alignmentgroup": "True",
         "bingroup": "x",
         "hovertemplate": "Conjunctiva cluster=False<br>Center S≥155=False<br>Center V≥75=False<br>Center H (Rank)=%{x}<br>count=%{y}<extra></extra>",
         "legendgroup": "False",
         "marker": {
          "color": "#EF553B",
          "opacity": 0.6,
          "pattern": {
           "shape": ""
          }
         },
         "name": "False",
         "offsetgroup": "False",
         "orientation": "v",
         "showlegend": true,
         "x": [
          9,
          7,
          5,
          8,
          9,
          3,
          4,
          7,
          8,
          7,
          9,
          8,
          6,
          7,
          9,
          8,
          10,
          8,
          10,
          10,
          6,
          9,
          8,
          5,
          10,
          8,
          7,
          10,
          8,
          7,
          10,
          8,
          9,
          8,
          10,
          3,
          7,
          10,
          7,
          9,
          7,
          6,
          8,
          7,
          10,
          7,
          10,
          7,
          6,
          8,
          8,
          9,
          8,
          10,
          7,
          9,
          8,
          6,
          9,
          7,
          2,
          7,
          6,
          8,
          1,
          5,
          10,
          8,
          6,
          7,
          10,
          8,
          7,
          9,
          10,
          6,
          10,
          6,
          7,
          10,
          5,
          1,
          10,
          7,
          3,
          6,
          10,
          4,
          8,
          3,
          10,
          7,
          5,
          5,
          7,
          3,
          10,
          7,
          6,
          7,
          1,
          8,
          10,
          7,
          1,
          9,
          2,
          10,
          6,
          8,
          8,
          10,
          10,
          6,
          7,
          1,
          10,
          8,
          1,
          10,
          8,
          6,
          1,
          8,
          6,
          10,
          3,
          8,
          7,
          9,
          10,
          6,
          10,
          8,
          5,
          9,
          10,
          7,
          4,
          8,
          9,
          10,
          8,
          10,
          8,
          1,
          5,
          6,
          10,
          5,
          8,
          8,
          10,
          10,
          6,
          2,
          10,
          7,
          9,
          7,
          4,
          6,
          4,
          5,
          10,
          9,
          5,
          7,
          10,
          4,
          7,
          9,
          10,
          6,
          1,
          6,
          8,
          1,
          10,
          8,
          4,
          5,
          6,
          7,
          5,
          8,
          6,
          8,
          3,
          10,
          8,
          10,
          6,
          9,
          7,
          6,
          7,
          8,
          8,
          10,
          5,
          6,
          8,
          9,
          7,
          10,
          8,
          10,
          6,
          7,
          9,
          8,
          7,
          9,
          7,
          7,
          4,
          9,
          5,
          9,
          7,
          8,
          9,
          7,
          6,
          9,
          8,
          8,
          7,
          8,
          5,
          8,
          8,
          1,
          5,
          10,
          10,
          4,
          9,
          1,
          7,
          9,
          10,
          8,
          3,
          8,
          1,
          10,
          5,
          8,
          9,
          7,
          3,
          10,
          1,
          4,
          7,
          1,
          1,
          1,
          10,
          1,
          10,
          7,
          5,
          10,
          1,
          6,
          7,
          4,
          1,
          10,
          10,
          8,
          6,
          7,
          10,
          10,
          3,
          7,
          2,
          5,
          10,
          3,
          7,
          10,
          7,
          2,
          5,
          9,
          6,
          1,
          4,
          2,
          5,
          9,
          10,
          1,
          2,
          10,
          4,
          9,
          10,
          9,
          7,
          9,
          1,
          9,
          9,
          2,
          3,
          5,
          10,
          9,
          1,
          4,
          3
         ],
         "xaxis": "x3",
         "yaxis": "y3",
         "type": "histogram"
        },
        {
         "alignmentgroup": "True",
         "bingroup": "x",
         "hovertemplate": "Conjunctiva cluster=False<br>Center S≥155=False<br>Center V≥75=True<br>Center H (Rank)=%{x}<br>count=%{y}<extra></extra>",
         "legendgroup": "False",
         "marker": {
          "color": "#EF553B",
          "opacity": 0.6,
          "pattern": {
           "shape": ""
          }
         },
         "name": "False",
         "offsetgroup": "False",
         "orientation": "v",
         "showlegend": false,
         "x": [
          3,
          6,
          10,
          8,
          4,
          6,
          7,
          10,
          5,
          1,
          2,
          8,
          5,
          4,
          5,
          9,
          6,
          4,
          3,
          10,
          7,
          5,
          6,
          4,
          8,
          5,
          1,
          10,
          7,
          9,
          4,
          6,
          2,
          5,
          7,
          9,
          4,
          5,
          3,
          6,
          8,
          4,
          2,
          9,
          7,
          1,
          5,
          6,
          4,
          2,
          7,
          3,
          7,
          8,
          6,
          2,
          4,
          1,
          10,
          3,
          9,
          4,
          6,
          2,
          5,
          3,
          9,
          6,
          7,
          5,
          3,
          4,
          1,
          5,
          4,
          6,
          1,
          2,
          5,
          6,
          4,
          3,
          2,
          4,
          8,
          5,
          5,
          3,
          1,
          2,
          9,
          4,
          8,
          1,
          2,
          3,
          5,
          6,
          9,
          1,
          3,
          3,
          2,
          5,
          10,
          6,
          7,
          2,
          4,
          1,
          6,
          3,
          4,
          1,
          5,
          2,
          1,
          3,
          4,
          3,
          6,
          8,
          1,
          3,
          4,
          2,
          5,
          7,
          9,
          5,
          3,
          4,
          7,
          6,
          4,
          9,
          3,
          3,
          4,
          5,
          5,
          3,
          2,
          8,
          4,
          7,
          9,
          3,
          4,
          3,
          8,
          5,
          1,
          7,
          8,
          6,
          9,
          2,
          5,
          8,
          6,
          3,
          9,
          4,
          8,
          4,
          7,
          9,
          2,
          1,
          5,
          9,
          10,
          2,
          7,
          6,
          8,
          9,
          1,
          8,
          9,
          3,
          1,
          9,
          4,
          6,
          1,
          8,
          2,
          4,
          7,
          9,
          3,
          2,
          8,
          4,
          6,
          3,
          2,
          5,
          6,
          3,
          2,
          10,
          7,
          5,
          4,
          9,
          1,
          9,
          4,
          3,
          5,
          2,
          9,
          4,
          5,
          2,
          9,
          4,
          6,
          7,
          5,
          3,
          3,
          7,
          9,
          2,
          10,
          4,
          2,
          8,
          4,
          2,
          4,
          10,
          3,
          5,
          7,
          8,
          4,
          3,
          4,
          7,
          3,
          1,
          9,
          5,
          3,
          10,
          4,
          2,
          6,
          3,
          4,
          7,
          9,
          2,
          6,
          9,
          7,
          2,
          3,
          8,
          3,
          9,
          10,
          4,
          9,
          4,
          3,
          1,
          7,
          4,
          2,
          6,
          3,
          5,
          7,
          9,
          3,
          8,
          2,
          4,
          5,
          8,
          3,
          6,
          6,
          8,
          3,
          9,
          2,
          1,
          9,
          7,
          2,
          1,
          8,
          4,
          6,
          3,
          2,
          8,
          9,
          5,
          2,
          1,
          7,
          8,
          3,
          4,
          10,
          3,
          2,
          4,
          6,
          8,
          9,
          3,
          2,
          5,
          9,
          6,
          2,
          3,
          9,
          3,
          2,
          8,
          9,
          10,
          3,
          4,
          10,
          7,
          2,
          6,
          5,
          10,
          7,
          1,
          5,
          9,
          6,
          2,
          4,
          7,
          2,
          5,
          9,
          8,
          10,
          5,
          6,
          3,
          4,
          1,
          10,
          3,
          4,
          2,
          7,
          4,
          6,
          3,
          5,
          1,
          8,
          3,
          4,
          7,
          7,
          6,
          4,
          3,
          2,
          1,
          6,
          3,
          10,
          5,
          6,
          7,
          4,
          9,
          2,
          1,
          4,
          9,
          3,
          2,
          8,
          3,
          6,
          10,
          2,
          5,
          3,
          5,
          2,
          6,
          3,
          2,
          5,
          1,
          6,
          3,
          8,
          2,
          10,
          2,
          3,
          6,
          1,
          5,
          6,
          3,
          2,
          10,
          5,
          6,
          7,
          2,
          3,
          5,
          2,
          3,
          4,
          1,
          2,
          3,
          1,
          5,
          6,
          7,
          4,
          3,
          1,
          9,
          6,
          10,
          2,
          4,
          7,
          5,
          9,
          10,
          6,
          3,
          4,
          1,
          6,
          10,
          2,
          3,
          1,
          5,
          9,
          4,
          6,
          2,
          3,
          5,
          3,
          4,
          7,
          1,
          10,
          7,
          9,
          6,
          8,
          2,
          8,
          6,
          1,
          5,
          2,
          3,
          9,
          2,
          10,
          7,
          9,
          5,
          8,
          1,
          3,
          10,
          7,
          8,
          5,
          4,
          1,
          8,
          9,
          5,
          4,
          3,
          3,
          5,
          6,
          7,
          1,
          9,
          10,
          6,
          2,
          3,
          5,
          9,
          6,
          5,
          10,
          2,
          1,
          4,
          5,
          4,
          7,
          3,
          6,
          2,
          6,
          4,
          10,
          8,
          10,
          5,
          4,
          1,
          8,
          9,
          6,
          4,
          7,
          1,
          8,
          10,
          6,
          5,
          3,
          2,
          5,
          10,
          9,
          6,
          7,
          2,
          3,
          5,
          10,
          6,
          8,
          4,
          9,
          2,
          10,
          9,
          7,
          4,
          6,
          3,
          2,
          3,
          4,
          2,
          7,
          8,
          5,
          1,
          8,
          3,
          5,
          4,
          2,
          8,
          7,
          3,
          6,
          2,
          4,
          1,
          3,
          10,
          9,
          7,
          5,
          4,
          2,
          2,
          6,
          8,
          3,
          4,
          7,
          10,
          1,
          8,
          9,
          10,
          5,
          2,
          6,
          3,
          2,
          3,
          6,
          7,
          9,
          8,
          2,
          3,
          8,
          6,
          7,
          5,
          9,
          6,
          9,
          5,
          7,
          4,
          1,
          9,
          10,
          3,
          5,
          2,
          2,
          3,
          9,
          7,
          4,
          1,
          9,
          1,
          6,
          2,
          9,
          7,
          6,
          4,
          8,
          1,
          5,
          8,
          4,
          2,
          9,
          1,
          6,
          5,
          3,
          10,
          1,
          2,
          4,
          8,
          1,
          6,
          8,
          1,
          10,
          4,
          7,
          8,
          4,
          3,
          2,
          8,
          10,
          6,
          5,
          7,
          6,
          8,
          7,
          3,
          2,
          8,
          6,
          7,
          4,
          7,
          4,
          8,
          6,
          5,
          9,
          3,
          7,
          4,
          6,
          7,
          5,
          8,
          1,
          7,
          8,
          4,
          6,
          2,
          1,
          2,
          4,
          10,
          5,
          3,
          4,
          6,
          10,
          8,
          2,
          8,
          7,
          6,
          10,
          9,
          3,
          4,
          6,
          2,
          1,
          7,
          5,
          8,
          10
         ],
         "xaxis": "x4",
         "yaxis": "y4",
         "type": "histogram"
        },
        {
         "alignmentgroup": "True",
         "bingroup": "x",
         "hovertemplate": "Conjunctiva cluster=False<br>Center S≥155=True<br>Center V≥75=False<br>Center H (Rank)=%{x}<br>count=%{y}<extra></extra>",
         "legendgroup": "False",
         "marker": {
          "color": "#EF553B",
          "opacity": 0.6,
          "pattern": {
           "shape": ""
          }
         },
         "name": "False",
         "offsetgroup": "False",
         "orientation": "v",
         "showlegend": false,
         "x": [
          9,
          10,
          9,
          10,
          10,
          9,
          8,
          7,
          9,
          10,
          9,
          10,
          10,
          8,
          10,
          10,
          2,
          9,
          6,
          4,
          6,
          6,
          10,
          8,
          10,
          9,
          5,
          6,
          1,
          10,
          7,
          7,
          5,
          7,
          9,
          7,
          1,
          9,
          6,
          5,
          6,
          1,
          6,
          1,
          5,
          5,
          5,
          4,
          7,
          9,
          5,
          4,
          10,
          10,
          6,
          1,
          5,
          9,
          5,
          7,
          7,
          10,
          1,
          7,
          6,
          9,
          5,
          9,
          8,
          3,
          4,
          8,
          9,
          1,
          9,
          1,
          9,
          4,
          8,
          10,
          6,
          10,
          1,
          9,
          8,
          7,
          1,
          8,
          8,
          10,
          10,
          5,
          2,
          10,
          8,
          9,
          10,
          9,
          3,
          4,
          3,
          6,
          1,
          9,
          5,
          6,
          9,
          4,
          10,
          1,
          5,
          10,
          4,
          9,
          9,
          1,
          10,
          1,
          10,
          4,
          1,
          10,
          1,
          6,
          10,
          1,
          3,
          5
         ],
         "xaxis": "x",
         "yaxis": "y",
         "type": "histogram"
        },
        {
         "alignmentgroup": "True",
         "bingroup": "x",
         "hovertemplate": "Conjunctiva cluster=False<br>Center S≥155=True<br>Center V≥75=True<br>Center H (Rank)=%{x}<br>count=%{y}<extra></extra>",
         "legendgroup": "False",
         "marker": {
          "color": "#EF553B",
          "opacity": 0.6,
          "pattern": {
           "shape": ""
          }
         },
         "name": "False",
         "offsetgroup": "False",
         "orientation": "v",
         "showlegend": false,
         "x": [
          6,
          5,
          8,
          9,
          4,
          7,
          8
         ],
         "xaxis": "x2",
         "yaxis": "y2",
         "type": "histogram"
        },
        {
         "alignmentgroup": "True",
         "bingroup": "x",
         "hovertemplate": "Conjunctiva cluster=Maybe<br>Center S≥155=False<br>Center V≥75=True<br>Center H (Rank)=%{x}<br>count=%{y}<extra></extra>",
         "legendgroup": "Maybe",
         "marker": {
          "color": "#636EFA",
          "opacity": 0.6,
          "pattern": {
           "shape": ""
          }
         },
         "name": "Maybe",
         "offsetgroup": "Maybe",
         "orientation": "v",
         "showlegend": true,
         "x": [
          2,
          4,
          5,
          6,
          2,
          3,
          2,
          5,
          3,
          4,
          8,
          6,
          3,
          3,
          5,
          1,
          6,
          2,
          3,
          7,
          3,
          10,
          8,
          5,
          1,
          4,
          4,
          3,
          2,
          4,
          7,
          7,
          5,
          3,
          8,
          4,
          6,
          3,
          5,
          3,
          3,
          8,
          7,
          7,
          6
         ],
         "xaxis": "x4",
         "yaxis": "y4",
         "type": "histogram"
        },
        {
         "alignmentgroup": "True",
         "bingroup": "x",
         "hovertemplate": "Conjunctiva cluster=True<br>Center S≥155=False<br>Center V≥75=True<br>Center H (Rank)=%{x}<br>count=%{y}<extra></extra>",
         "legendgroup": "True",
         "marker": {
          "color": "#00CC96",
          "opacity": 0.6,
          "pattern": {
           "shape": ""
          }
         },
         "name": "True",
         "offsetgroup": "True",
         "orientation": "v",
         "showlegend": true,
         "x": [
          2,
          1,
          4,
          2,
          3,
          1,
          10,
          3,
          1,
          1,
          2,
          2,
          3,
          3,
          1,
          2,
          1,
          5,
          3,
          10,
          1,
          3,
          9,
          5,
          1,
          1,
          2,
          6,
          2,
          9,
          2,
          8,
          3,
          1,
          1,
          6,
          4,
          6,
          4,
          2,
          4,
          1,
          3,
          5,
          2,
          5,
          7,
          5,
          4,
          1,
          9,
          2,
          1,
          8,
          2,
          10,
          1,
          4,
          1,
          1,
          2,
          9,
          1,
          3,
          2,
          5,
          1,
          4,
          2,
          4,
          2,
          1,
          5,
          9,
          5,
          4,
          3,
          1,
          1,
          2,
          4,
          5,
          6,
          1,
          2,
          2,
          2,
          8,
          2,
          7,
          3,
          1,
          1,
          7,
          2,
          6,
          1,
          1,
          1,
          5,
          3,
          1,
          8,
          2,
          4,
          5,
          1,
          10,
          1,
          4,
          2,
          4,
          3,
          1,
          2,
          4,
          7,
          1,
          1,
          2,
          5,
          1,
          9,
          2,
          2,
          5,
          10,
          2,
          3,
          7,
          5,
          4,
          1,
          9,
          1,
          8,
          10,
          5,
          4,
          4,
          10,
          1,
          9,
          4,
          8,
          9,
          1,
          5,
          2,
          7,
          4,
          1,
          7,
          2,
          6,
          4,
          7,
          6,
          2,
          6,
          10,
          2,
          4,
          1,
          7,
          9,
          8,
          3,
          2,
          3,
          6,
          2,
          5,
          2,
          9,
          4,
          8,
          7,
          3,
          8,
          9,
          6,
          9,
          9,
          8,
          5,
          1,
          1,
          4,
          2,
          4,
          8,
          6,
          5,
          8,
          3,
          6,
          7,
          2,
          8,
          5,
          3,
          9,
          5,
          7,
          3,
          9,
          9,
          2,
          5,
          9,
          8,
          2,
          3,
          2,
          3,
          5,
          6,
          5,
          4,
          1,
          8,
          2
         ],
         "xaxis": "x4",
         "yaxis": "y4",
         "type": "histogram"
        },
        {
         "alignmentgroup": "True",
         "bingroup": "x",
         "hovertemplate": "Conjunctiva cluster=True<br>Center S≥155=True<br>Center V≥75=True<br>Center H (Rank)=%{x}<br>count=%{y}<extra></extra>",
         "legendgroup": "True",
         "marker": {
          "color": "#00CC96",
          "opacity": 0.6,
          "pattern": {
           "shape": ""
          }
         },
         "name": "True",
         "offsetgroup": "True",
         "orientation": "v",
         "showlegend": false,
         "x": [
          6
         ],
         "xaxis": "x2",
         "yaxis": "y2",
         "type": "histogram"
        }
       ],
       "layout": {
        "template": {
         "data": {
          "barpolar": [
           {
            "marker": {
             "line": {
              "color": "rgb(17,17,17)",
              "width": 0.5
             },
             "pattern": {
              "fillmode": "overlay",
              "size": 10,
              "solidity": 0.2
             }
            },
            "type": "barpolar"
           }
          ],
          "bar": [
           {
            "error_x": {
             "color": "#f2f5fa"
            },
            "error_y": {
             "color": "#f2f5fa"
            },
            "marker": {
             "line": {
              "color": "rgb(17,17,17)",
              "width": 0.5
             },
             "pattern": {
              "fillmode": "overlay",
              "size": 10,
              "solidity": 0.2
             }
            },
            "type": "bar"
           }
          ],
          "carpet": [
           {
            "aaxis": {
             "endlinecolor": "#A2B1C6",
             "gridcolor": "#506784",
             "linecolor": "#506784",
             "minorgridcolor": "#506784",
             "startlinecolor": "#A2B1C6"
            },
            "baxis": {
             "endlinecolor": "#A2B1C6",
             "gridcolor": "#506784",
             "linecolor": "#506784",
             "minorgridcolor": "#506784",
             "startlinecolor": "#A2B1C6"
            },
            "type": "carpet"
           }
          ],
          "choropleth": [
           {
            "colorbar": {
             "outlinewidth": 0,
             "ticks": ""
            },
            "type": "choropleth"
           }
          ],
          "contourcarpet": [
           {
            "colorbar": {
             "outlinewidth": 0,
             "ticks": ""
            },
            "type": "contourcarpet"
           }
          ],
          "contour": [
           {
            "colorbar": {
             "outlinewidth": 0,
             "ticks": ""
            },
            "colorscale": [
             [
              0.0,
              "#0d0887"
             ],
             [
              0.1111111111111111,
              "#46039f"
             ],
             [
              0.2222222222222222,
              "#7201a8"
             ],
             [
              0.3333333333333333,
              "#9c179e"
             ],
             [
              0.4444444444444444,
              "#bd3786"
             ],
             [
              0.5555555555555556,
              "#d8576b"
             ],
             [
              0.6666666666666666,
              "#ed7953"
             ],
             [
              0.7777777777777778,
              "#fb9f3a"
             ],
             [
              0.8888888888888888,
              "#fdca26"
             ],
             [
              1.0,
              "#f0f921"
             ]
            ],
            "type": "contour"
           }
          ],
          "heatmapgl": [
           {
            "colorbar": {
             "outlinewidth": 0,
             "ticks": ""
            },
            "colorscale": [
             [
              0.0,
              "#0d0887"
             ],
             [
              0.1111111111111111,
              "#46039f"
             ],
             [
              0.2222222222222222,
              "#7201a8"
             ],
             [
              0.3333333333333333,
              "#9c179e"
             ],
             [
              0.4444444444444444,
              "#bd3786"
             ],
             [
              0.5555555555555556,
              "#d8576b"
             ],
             [
              0.6666666666666666,
              "#ed7953"
             ],
             [
              0.7777777777777778,
              "#fb9f3a"
             ],
             [
              0.8888888888888888,
              "#fdca26"
             ],
             [
              1.0,
              "#f0f921"
             ]
            ],
            "type": "heatmapgl"
           }
          ],
          "heatmap": [
           {
            "colorbar": {
             "outlinewidth": 0,
             "ticks": ""
            },
            "colorscale": [
             [
              0.0,
              "#0d0887"
             ],
             [
              0.1111111111111111,
              "#46039f"
             ],
             [
              0.2222222222222222,
              "#7201a8"
             ],
             [
              0.3333333333333333,
              "#9c179e"
             ],
             [
              0.4444444444444444,
              "#bd3786"
             ],
             [
              0.5555555555555556,
              "#d8576b"
             ],
             [
              0.6666666666666666,
              "#ed7953"
             ],
             [
              0.7777777777777778,
              "#fb9f3a"
             ],
             [
              0.8888888888888888,
              "#fdca26"
             ],
             [
              1.0,
              "#f0f921"
             ]
            ],
            "type": "heatmap"
           }
          ],
          "histogram2dcontour": [
           {
            "colorbar": {
             "outlinewidth": 0,
             "ticks": ""
            },
            "colorscale": [
             [
              0.0,
              "#0d0887"
             ],
             [
              0.1111111111111111,
              "#46039f"
             ],
             [
              0.2222222222222222,
              "#7201a8"
             ],
             [
              0.3333333333333333,
              "#9c179e"
             ],
             [
              0.4444444444444444,
              "#bd3786"
             ],
             [
              0.5555555555555556,
              "#d8576b"
             ],
             [
              0.6666666666666666,
              "#ed7953"
             ],
             [
              0.7777777777777778,
              "#fb9f3a"
             ],
             [
              0.8888888888888888,
              "#fdca26"
             ],
             [
              1.0,
              "#f0f921"
             ]
            ],
            "type": "histogram2dcontour"
           }
          ],
          "histogram2d": [
           {
            "colorbar": {
             "outlinewidth": 0,
             "ticks": ""
            },
            "colorscale": [
             [
              0.0,
              "#0d0887"
             ],
             [
              0.1111111111111111,
              "#46039f"
             ],
             [
              0.2222222222222222,
              "#7201a8"
             ],
             [
              0.3333333333333333,
              "#9c179e"
             ],
             [
              0.4444444444444444,
              "#bd3786"
             ],
             [
              0.5555555555555556,
              "#d8576b"
             ],
             [
              0.6666666666666666,
              "#ed7953"
             ],
             [
              0.7777777777777778,
              "#fb9f3a"
             ],
             [
              0.8888888888888888,
              "#fdca26"
             ],
             [
              1.0,
              "#f0f921"
             ]
            ],
            "type": "histogram2d"
           }
          ],
          "histogram": [
           {
            "marker": {
             "pattern": {
              "fillmode": "overlay",
              "size": 10,
              "solidity": 0.2
             }
            },
            "type": "histogram"
           }
          ],
          "mesh3d": [
           {
            "colorbar": {
             "outlinewidth": 0,
             "ticks": ""
            },
            "type": "mesh3d"
           }
          ],
          "parcoords": [
           {
            "line": {
             "colorbar": {
              "outlinewidth": 0,
              "ticks": ""
             }
            },
            "type": "parcoords"
           }
          ],
          "pie": [
           {
            "automargin": true,
            "type": "pie"
           }
          ],
          "scatter3d": [
           {
            "line": {
             "colorbar": {
              "outlinewidth": 0,
              "ticks": ""
             }
            },
            "marker": {
             "colorbar": {
              "outlinewidth": 0,
              "ticks": ""
             }
            },
            "type": "scatter3d"
           }
          ],
          "scattercarpet": [
           {
            "marker": {
             "colorbar": {
              "outlinewidth": 0,
              "ticks": ""
             }
            },
            "type": "scattercarpet"
           }
          ],
          "scattergeo": [
           {
            "marker": {
             "colorbar": {
              "outlinewidth": 0,
              "ticks": ""
             }
            },
            "type": "scattergeo"
           }
          ],
          "scattergl": [
           {
            "marker": {
             "line": {
              "color": "#283442"
             }
            },
            "type": "scattergl"
           }
          ],
          "scattermapbox": [
           {
            "marker": {
             "colorbar": {
              "outlinewidth": 0,
              "ticks": ""
             }
            },
            "type": "scattermapbox"
           }
          ],
          "scatterpolargl": [
           {
            "marker": {
             "colorbar": {
              "outlinewidth": 0,
              "ticks": ""
             }
            },
            "type": "scatterpolargl"
           }
          ],
          "scatterpolar": [
           {
            "marker": {
             "colorbar": {
              "outlinewidth": 0,
              "ticks": ""
             }
            },
            "type": "scatterpolar"
           }
          ],
          "scatter": [
           {
            "marker": {
             "line": {
              "color": "#283442"
             }
            },
            "type": "scatter"
           }
          ],
          "scatterternary": [
           {
            "marker": {
             "colorbar": {
              "outlinewidth": 0,
              "ticks": ""
             }
            },
            "type": "scatterternary"
           }
          ],
          "surface": [
           {
            "colorbar": {
             "outlinewidth": 0,
             "ticks": ""
            },
            "colorscale": [
             [
              0.0,
              "#0d0887"
             ],
             [
              0.1111111111111111,
              "#46039f"
             ],
             [
              0.2222222222222222,
              "#7201a8"
             ],
             [
              0.3333333333333333,
              "#9c179e"
             ],
             [
              0.4444444444444444,
              "#bd3786"
             ],
             [
              0.5555555555555556,
              "#d8576b"
             ],
             [
              0.6666666666666666,
              "#ed7953"
             ],
             [
              0.7777777777777778,
              "#fb9f3a"
             ],
             [
              0.8888888888888888,
              "#fdca26"
             ],
             [
              1.0,
              "#f0f921"
             ]
            ],
            "type": "surface"
           }
          ],
          "table": [
           {
            "cells": {
             "fill": {
              "color": "#506784"
             },
             "line": {
              "color": "rgb(17,17,17)"
             }
            },
            "header": {
             "fill": {
              "color": "#2a3f5f"
             },
             "line": {
              "color": "rgb(17,17,17)"
             }
            },
            "type": "table"
           }
          ]
         },
         "layout": {
          "annotationdefaults": {
           "arrowcolor": "#f2f5fa",
           "arrowhead": 0,
           "arrowwidth": 1
          },
          "autotypenumbers": "strict",
          "coloraxis": {
           "colorbar": {
            "outlinewidth": 0,
            "ticks": ""
           }
          },
          "colorscale": {
           "diverging": [
            [
             0,
             "#8e0152"
            ],
            [
             0.1,
             "#c51b7d"
            ],
            [
             0.2,
             "#de77ae"
            ],
            [
             0.3,
             "#f1b6da"
            ],
            [
             0.4,
             "#fde0ef"
            ],
            [
             0.5,
             "#f7f7f7"
            ],
            [
             0.6,
             "#e6f5d0"
            ],
            [
             0.7,
             "#b8e186"
            ],
            [
             0.8,
             "#7fbc41"
            ],
            [
             0.9,
             "#4d9221"
            ],
            [
             1,
             "#276419"
            ]
           ],
           "sequential": [
            [
             0.0,
             "#0d0887"
            ],
            [
             0.1111111111111111,
             "#46039f"
            ],
            [
             0.2222222222222222,
             "#7201a8"
            ],
            [
             0.3333333333333333,
             "#9c179e"
            ],
            [
             0.4444444444444444,
             "#bd3786"
            ],
            [
             0.5555555555555556,
             "#d8576b"
            ],
            [
             0.6666666666666666,
             "#ed7953"
            ],
            [
             0.7777777777777778,
             "#fb9f3a"
            ],
            [
             0.8888888888888888,
             "#fdca26"
            ],
            [
             1.0,
             "#f0f921"
            ]
           ],
           "sequentialminus": [
            [
             0.0,
             "#0d0887"
            ],
            [
             0.1111111111111111,
             "#46039f"
            ],
            [
             0.2222222222222222,
             "#7201a8"
            ],
            [
             0.3333333333333333,
             "#9c179e"
            ],
            [
             0.4444444444444444,
             "#bd3786"
            ],
            [
             0.5555555555555556,
             "#d8576b"
            ],
            [
             0.6666666666666666,
             "#ed7953"
            ],
            [
             0.7777777777777778,
             "#fb9f3a"
            ],
            [
             0.8888888888888888,
             "#fdca26"
            ],
            [
             1.0,
             "#f0f921"
            ]
           ]
          },
          "colorway": [
           "#636efa",
           "#EF553B",
           "#00cc96",
           "#ab63fa",
           "#FFA15A",
           "#19d3f3",
           "#FF6692",
           "#B6E880",
           "#FF97FF",
           "#FECB52"
          ],
          "font": {
           "color": "#f2f5fa"
          },
          "geo": {
           "bgcolor": "rgb(17,17,17)",
           "lakecolor": "rgb(17,17,17)",
           "landcolor": "rgb(17,17,17)",
           "showlakes": true,
           "showland": true,
           "subunitcolor": "#506784"
          },
          "hoverlabel": {
           "align": "left"
          },
          "hovermode": "closest",
          "mapbox": {
           "style": "dark"
          },
          "paper_bgcolor": "rgb(17,17,17)",
          "plot_bgcolor": "rgb(17,17,17)",
          "polar": {
           "angularaxis": {
            "gridcolor": "#506784",
            "linecolor": "#506784",
            "ticks": ""
           },
           "bgcolor": "rgb(17,17,17)",
           "radialaxis": {
            "gridcolor": "#506784",
            "linecolor": "#506784",
            "ticks": ""
           }
          },
          "scene": {
           "xaxis": {
            "backgroundcolor": "rgb(17,17,17)",
            "gridcolor": "#506784",
            "gridwidth": 2,
            "linecolor": "#506784",
            "showbackground": true,
            "ticks": "",
            "zerolinecolor": "#C8D4E3"
           },
           "yaxis": {
            "backgroundcolor": "rgb(17,17,17)",
            "gridcolor": "#506784",
            "gridwidth": 2,
            "linecolor": "#506784",
            "showbackground": true,
            "ticks": "",
            "zerolinecolor": "#C8D4E3"
           },
           "zaxis": {
            "backgroundcolor": "rgb(17,17,17)",
            "gridcolor": "#506784",
            "gridwidth": 2,
            "linecolor": "#506784",
            "showbackground": true,
            "ticks": "",
            "zerolinecolor": "#C8D4E3"
           }
          },
          "shapedefaults": {
           "line": {
            "color": "#f2f5fa"
           }
          },
          "sliderdefaults": {
           "bgcolor": "#C8D4E3",
           "bordercolor": "rgb(17,17,17)",
           "borderwidth": 1,
           "tickwidth": 0
          },
          "ternary": {
           "aaxis": {
            "gridcolor": "#506784",
            "linecolor": "#506784",
            "ticks": ""
           },
           "baxis": {
            "gridcolor": "#506784",
            "linecolor": "#506784",
            "ticks": ""
           },
           "bgcolor": "rgb(17,17,17)",
           "caxis": {
            "gridcolor": "#506784",
            "linecolor": "#506784",
            "ticks": ""
           }
          },
          "title": {
           "x": 0.05
          },
          "updatemenudefaults": {
           "bgcolor": "#506784",
           "borderwidth": 0
          },
          "xaxis": {
           "automargin": true,
           "gridcolor": "#283442",
           "linecolor": "#506784",
           "ticks": "",
           "title": {
            "standoff": 15
           },
           "zerolinecolor": "#283442",
           "zerolinewidth": 2
          },
          "yaxis": {
           "automargin": true,
           "gridcolor": "#283442",
           "linecolor": "#506784",
           "ticks": "",
           "title": {
            "standoff": 15
           },
           "zerolinecolor": "#283442",
           "zerolinewidth": 2
          }
         }
        },
        "xaxis": {
         "anchor": "y",
         "domain": [
          0.0,
          0.48
         ],
         "title": {
          "text": "Center H (Rank)"
         }
        },
        "yaxis": {
         "anchor": "x",
         "domain": [
          0.0,
          0.485
         ],
         "title": {
          "text": "count"
         }
        },
        "xaxis2": {
         "anchor": "y2",
         "domain": [
          0.5,
          0.98
         ],
         "matches": "x",
         "title": {
          "text": "Center H (Rank)"
         }
        },
        "yaxis2": {
         "anchor": "x2",
         "domain": [
          0.0,
          0.485
         ],
         "matches": "y",
         "showticklabels": false
        },
        "xaxis3": {
         "anchor": "y3",
         "domain": [
          0.0,
          0.48
         ],
         "matches": "x",
         "showticklabels": false
        },
        "yaxis3": {
         "anchor": "x3",
         "domain": [
          0.515,
          1.0
         ],
         "matches": "y",
         "title": {
          "text": "count"
         }
        },
        "xaxis4": {
         "anchor": "y4",
         "domain": [
          0.5,
          0.98
         ],
         "matches": "x",
         "showticklabels": false
        },
        "yaxis4": {
         "anchor": "x4",
         "domain": [
          0.515,
          1.0
         ],
         "matches": "y",
         "showticklabels": false
        },
        "annotations": [
         {
          "font": {},
          "showarrow": false,
          "text": "Center V≥75=False",
          "x": 0.24,
          "xanchor": "center",
          "xref": "paper",
          "y": 1.0,
          "yanchor": "bottom",
          "yref": "paper"
         },
         {
          "font": {},
          "showarrow": false,
          "text": "Center V≥75=True",
          "x": 0.74,
          "xanchor": "center",
          "xref": "paper",
          "y": 1.0,
          "yanchor": "bottom",
          "yref": "paper"
         },
         {
          "font": {},
          "showarrow": false,
          "text": "Center S≥155=True",
          "textangle": 90,
          "x": 0.98,
          "xanchor": "left",
          "xref": "paper",
          "y": 0.2425,
          "yanchor": "middle",
          "yref": "paper"
         },
         {
          "font": {},
          "showarrow": false,
          "text": "Center S≥155=False",
          "textangle": 90,
          "x": 0.98,
          "xanchor": "left",
          "xref": "paper",
          "y": 0.7575000000000001,
          "yanchor": "middle",
          "yref": "paper"
         }
        ],
        "legend": {
         "title": {
          "text": "Conjunctiva cluster"
         },
         "tracegroupgap": 0
        },
        "margin": {
         "t": 20,
         "l": 20,
         "r": 20,
         "b": 20
        },
        "barmode": "group",
        "bargap": 0.04,
        "font": {
         "family": "Arial",
         "size": 16
        }
       },
       "config": {
        "plotlyServerURL": "https://plot.ly"
       }
      },
      "text/html": "<div>                            <div id=\"424fc789-9d55-4c50-9c4c-7bf1296eeb49\" class=\"plotly-graph-div\" style=\"height:525px; width:100%;\"></div>            <script type=\"text/javascript\">                require([\"plotly\"], function(Plotly) {                    window.PLOTLYENV=window.PLOTLYENV || {};                                    if (document.getElementById(\"424fc789-9d55-4c50-9c4c-7bf1296eeb49\")) {                    Plotly.newPlot(                        \"424fc789-9d55-4c50-9c4c-7bf1296eeb49\",                        [{\"alignmentgroup\":\"True\",\"bingroup\":\"x\",\"hovertemplate\":\"Conjunctiva cluster=False<br>Center S\\u2265155=False<br>Center V\\u226575=False<br>Center H (Rank)=%{x}<br>count=%{y}<extra></extra>\",\"legendgroup\":\"False\",\"marker\":{\"color\":\"#EF553B\",\"opacity\":0.6,\"pattern\":{\"shape\":\"\"}},\"name\":\"False\",\"offsetgroup\":\"False\",\"orientation\":\"v\",\"showlegend\":true,\"x\":[9,7,5,8,9,3,4,7,8,7,9,8,6,7,9,8,10,8,10,10,6,9,8,5,10,8,7,10,8,7,10,8,9,8,10,3,7,10,7,9,7,6,8,7,10,7,10,7,6,8,8,9,8,10,7,9,8,6,9,7,2,7,6,8,1,5,10,8,6,7,10,8,7,9,10,6,10,6,7,10,5,1,10,7,3,6,10,4,8,3,10,7,5,5,7,3,10,7,6,7,1,8,10,7,1,9,2,10,6,8,8,10,10,6,7,1,10,8,1,10,8,6,1,8,6,10,3,8,7,9,10,6,10,8,5,9,10,7,4,8,9,10,8,10,8,1,5,6,10,5,8,8,10,10,6,2,10,7,9,7,4,6,4,5,10,9,5,7,10,4,7,9,10,6,1,6,8,1,10,8,4,5,6,7,5,8,6,8,3,10,8,10,6,9,7,6,7,8,8,10,5,6,8,9,7,10,8,10,6,7,9,8,7,9,7,7,4,9,5,9,7,8,9,7,6,9,8,8,7,8,5,8,8,1,5,10,10,4,9,1,7,9,10,8,3,8,1,10,5,8,9,7,3,10,1,4,7,1,1,1,10,1,10,7,5,10,1,6,7,4,1,10,10,8,6,7,10,10,3,7,2,5,10,3,7,10,7,2,5,9,6,1,4,2,5,9,10,1,2,10,4,9,10,9,7,9,1,9,9,2,3,5,10,9,1,4,3],\"xaxis\":\"x3\",\"yaxis\":\"y3\",\"type\":\"histogram\"},{\"alignmentgroup\":\"True\",\"bingroup\":\"x\",\"hovertemplate\":\"Conjunctiva cluster=False<br>Center S\\u2265155=False<br>Center V\\u226575=True<br>Center H (Rank)=%{x}<br>count=%{y}<extra></extra>\",\"legendgroup\":\"False\",\"marker\":{\"color\":\"#EF553B\",\"opacity\":0.6,\"pattern\":{\"shape\":\"\"}},\"name\":\"False\",\"offsetgroup\":\"False\",\"orientation\":\"v\",\"showlegend\":false,\"x\":[3,6,10,8,4,6,7,10,5,1,2,8,5,4,5,9,6,4,3,10,7,5,6,4,8,5,1,10,7,9,4,6,2,5,7,9,4,5,3,6,8,4,2,9,7,1,5,6,4,2,7,3,7,8,6,2,4,1,10,3,9,4,6,2,5,3,9,6,7,5,3,4,1,5,4,6,1,2,5,6,4,3,2,4,8,5,5,3,1,2,9,4,8,1,2,3,5,6,9,1,3,3,2,5,10,6,7,2,4,1,6,3,4,1,5,2,1,3,4,3,6,8,1,3,4,2,5,7,9,5,3,4,7,6,4,9,3,3,4,5,5,3,2,8,4,7,9,3,4,3,8,5,1,7,8,6,9,2,5,8,6,3,9,4,8,4,7,9,2,1,5,9,10,2,7,6,8,9,1,8,9,3,1,9,4,6,1,8,2,4,7,9,3,2,8,4,6,3,2,5,6,3,2,10,7,5,4,9,1,9,4,3,5,2,9,4,5,2,9,4,6,7,5,3,3,7,9,2,10,4,2,8,4,2,4,10,3,5,7,8,4,3,4,7,3,1,9,5,3,10,4,2,6,3,4,7,9,2,6,9,7,2,3,8,3,9,10,4,9,4,3,1,7,4,2,6,3,5,7,9,3,8,2,4,5,8,3,6,6,8,3,9,2,1,9,7,2,1,8,4,6,3,2,8,9,5,2,1,7,8,3,4,10,3,2,4,6,8,9,3,2,5,9,6,2,3,9,3,2,8,9,10,3,4,10,7,2,6,5,10,7,1,5,9,6,2,4,7,2,5,9,8,10,5,6,3,4,1,10,3,4,2,7,4,6,3,5,1,8,3,4,7,7,6,4,3,2,1,6,3,10,5,6,7,4,9,2,1,4,9,3,2,8,3,6,10,2,5,3,5,2,6,3,2,5,1,6,3,8,2,10,2,3,6,1,5,6,3,2,10,5,6,7,2,3,5,2,3,4,1,2,3,1,5,6,7,4,3,1,9,6,10,2,4,7,5,9,10,6,3,4,1,6,10,2,3,1,5,9,4,6,2,3,5,3,4,7,1,10,7,9,6,8,2,8,6,1,5,2,3,9,2,10,7,9,5,8,1,3,10,7,8,5,4,1,8,9,5,4,3,3,5,6,7,1,9,10,6,2,3,5,9,6,5,10,2,1,4,5,4,7,3,6,2,6,4,10,8,10,5,4,1,8,9,6,4,7,1,8,10,6,5,3,2,5,10,9,6,7,2,3,5,10,6,8,4,9,2,10,9,7,4,6,3,2,3,4,2,7,8,5,1,8,3,5,4,2,8,7,3,6,2,4,1,3,10,9,7,5,4,2,2,6,8,3,4,7,10,1,8,9,10,5,2,6,3,2,3,6,7,9,8,2,3,8,6,7,5,9,6,9,5,7,4,1,9,10,3,5,2,2,3,9,7,4,1,9,1,6,2,9,7,6,4,8,1,5,8,4,2,9,1,6,5,3,10,1,2,4,8,1,6,8,1,10,4,7,8,4,3,2,8,10,6,5,7,6,8,7,3,2,8,6,7,4,7,4,8,6,5,9,3,7,4,6,7,5,8,1,7,8,4,6,2,1,2,4,10,5,3,4,6,10,8,2,8,7,6,10,9,3,4,6,2,1,7,5,8,10],\"xaxis\":\"x4\",\"yaxis\":\"y4\",\"type\":\"histogram\"},{\"alignmentgroup\":\"True\",\"bingroup\":\"x\",\"hovertemplate\":\"Conjunctiva cluster=False<br>Center S\\u2265155=True<br>Center V\\u226575=False<br>Center H (Rank)=%{x}<br>count=%{y}<extra></extra>\",\"legendgroup\":\"False\",\"marker\":{\"color\":\"#EF553B\",\"opacity\":0.6,\"pattern\":{\"shape\":\"\"}},\"name\":\"False\",\"offsetgroup\":\"False\",\"orientation\":\"v\",\"showlegend\":false,\"x\":[9,10,9,10,10,9,8,7,9,10,9,10,10,8,10,10,2,9,6,4,6,6,10,8,10,9,5,6,1,10,7,7,5,7,9,7,1,9,6,5,6,1,6,1,5,5,5,4,7,9,5,4,10,10,6,1,5,9,5,7,7,10,1,7,6,9,5,9,8,3,4,8,9,1,9,1,9,4,8,10,6,10,1,9,8,7,1,8,8,10,10,5,2,10,8,9,10,9,3,4,3,6,1,9,5,6,9,4,10,1,5,10,4,9,9,1,10,1,10,4,1,10,1,6,10,1,3,5],\"xaxis\":\"x\",\"yaxis\":\"y\",\"type\":\"histogram\"},{\"alignmentgroup\":\"True\",\"bingroup\":\"x\",\"hovertemplate\":\"Conjunctiva cluster=False<br>Center S\\u2265155=True<br>Center V\\u226575=True<br>Center H (Rank)=%{x}<br>count=%{y}<extra></extra>\",\"legendgroup\":\"False\",\"marker\":{\"color\":\"#EF553B\",\"opacity\":0.6,\"pattern\":{\"shape\":\"\"}},\"name\":\"False\",\"offsetgroup\":\"False\",\"orientation\":\"v\",\"showlegend\":false,\"x\":[6,5,8,9,4,7,8],\"xaxis\":\"x2\",\"yaxis\":\"y2\",\"type\":\"histogram\"},{\"alignmentgroup\":\"True\",\"bingroup\":\"x\",\"hovertemplate\":\"Conjunctiva cluster=Maybe<br>Center S\\u2265155=False<br>Center V\\u226575=True<br>Center H (Rank)=%{x}<br>count=%{y}<extra></extra>\",\"legendgroup\":\"Maybe\",\"marker\":{\"color\":\"#636EFA\",\"opacity\":0.6,\"pattern\":{\"shape\":\"\"}},\"name\":\"Maybe\",\"offsetgroup\":\"Maybe\",\"orientation\":\"v\",\"showlegend\":true,\"x\":[2,4,5,6,2,3,2,5,3,4,8,6,3,3,5,1,6,2,3,7,3,10,8,5,1,4,4,3,2,4,7,7,5,3,8,4,6,3,5,3,3,8,7,7,6],\"xaxis\":\"x4\",\"yaxis\":\"y4\",\"type\":\"histogram\"},{\"alignmentgroup\":\"True\",\"bingroup\":\"x\",\"hovertemplate\":\"Conjunctiva cluster=True<br>Center S\\u2265155=False<br>Center V\\u226575=True<br>Center H (Rank)=%{x}<br>count=%{y}<extra></extra>\",\"legendgroup\":\"True\",\"marker\":{\"color\":\"#00CC96\",\"opacity\":0.6,\"pattern\":{\"shape\":\"\"}},\"name\":\"True\",\"offsetgroup\":\"True\",\"orientation\":\"v\",\"showlegend\":true,\"x\":[2,1,4,2,3,1,10,3,1,1,2,2,3,3,1,2,1,5,3,10,1,3,9,5,1,1,2,6,2,9,2,8,3,1,1,6,4,6,4,2,4,1,3,5,2,5,7,5,4,1,9,2,1,8,2,10,1,4,1,1,2,9,1,3,2,5,1,4,2,4,2,1,5,9,5,4,3,1,1,2,4,5,6,1,2,2,2,8,2,7,3,1,1,7,2,6,1,1,1,5,3,1,8,2,4,5,1,10,1,4,2,4,3,1,2,4,7,1,1,2,5,1,9,2,2,5,10,2,3,7,5,4,1,9,1,8,10,5,4,4,10,1,9,4,8,9,1,5,2,7,4,1,7,2,6,4,7,6,2,6,10,2,4,1,7,9,8,3,2,3,6,2,5,2,9,4,8,7,3,8,9,6,9,9,8,5,1,1,4,2,4,8,6,5,8,3,6,7,2,8,5,3,9,5,7,3,9,9,2,5,9,8,2,3,2,3,5,6,5,4,1,8,2],\"xaxis\":\"x4\",\"yaxis\":\"y4\",\"type\":\"histogram\"},{\"alignmentgroup\":\"True\",\"bingroup\":\"x\",\"hovertemplate\":\"Conjunctiva cluster=True<br>Center S\\u2265155=True<br>Center V\\u226575=True<br>Center H (Rank)=%{x}<br>count=%{y}<extra></extra>\",\"legendgroup\":\"True\",\"marker\":{\"color\":\"#00CC96\",\"opacity\":0.6,\"pattern\":{\"shape\":\"\"}},\"name\":\"True\",\"offsetgroup\":\"True\",\"orientation\":\"v\",\"showlegend\":false,\"x\":[6],\"xaxis\":\"x2\",\"yaxis\":\"y2\",\"type\":\"histogram\"}],                        {\"template\":{\"data\":{\"barpolar\":[{\"marker\":{\"line\":{\"color\":\"rgb(17,17,17)\",\"width\":0.5},\"pattern\":{\"fillmode\":\"overlay\",\"size\":10,\"solidity\":0.2}},\"type\":\"barpolar\"}],\"bar\":[{\"error_x\":{\"color\":\"#f2f5fa\"},\"error_y\":{\"color\":\"#f2f5fa\"},\"marker\":{\"line\":{\"color\":\"rgb(17,17,17)\",\"width\":0.5},\"pattern\":{\"fillmode\":\"overlay\",\"size\":10,\"solidity\":0.2}},\"type\":\"bar\"}],\"carpet\":[{\"aaxis\":{\"endlinecolor\":\"#A2B1C6\",\"gridcolor\":\"#506784\",\"linecolor\":\"#506784\",\"minorgridcolor\":\"#506784\",\"startlinecolor\":\"#A2B1C6\"},\"baxis\":{\"endlinecolor\":\"#A2B1C6\",\"gridcolor\":\"#506784\",\"linecolor\":\"#506784\",\"minorgridcolor\":\"#506784\",\"startlinecolor\":\"#A2B1C6\"},\"type\":\"carpet\"}],\"choropleth\":[{\"colorbar\":{\"outlinewidth\":0,\"ticks\":\"\"},\"type\":\"choropleth\"}],\"contourcarpet\":[{\"colorbar\":{\"outlinewidth\":0,\"ticks\":\"\"},\"type\":\"contourcarpet\"}],\"contour\":[{\"colorbar\":{\"outlinewidth\":0,\"ticks\":\"\"},\"colorscale\":[[0.0,\"#0d0887\"],[0.1111111111111111,\"#46039f\"],[0.2222222222222222,\"#7201a8\"],[0.3333333333333333,\"#9c179e\"],[0.4444444444444444,\"#bd3786\"],[0.5555555555555556,\"#d8576b\"],[0.6666666666666666,\"#ed7953\"],[0.7777777777777778,\"#fb9f3a\"],[0.8888888888888888,\"#fdca26\"],[1.0,\"#f0f921\"]],\"type\":\"contour\"}],\"heatmapgl\":[{\"colorbar\":{\"outlinewidth\":0,\"ticks\":\"\"},\"colorscale\":[[0.0,\"#0d0887\"],[0.1111111111111111,\"#46039f\"],[0.2222222222222222,\"#7201a8\"],[0.3333333333333333,\"#9c179e\"],[0.4444444444444444,\"#bd3786\"],[0.5555555555555556,\"#d8576b\"],[0.6666666666666666,\"#ed7953\"],[0.7777777777777778,\"#fb9f3a\"],[0.8888888888888888,\"#fdca26\"],[1.0,\"#f0f921\"]],\"type\":\"heatmapgl\"}],\"heatmap\":[{\"colorbar\":{\"outlinewidth\":0,\"ticks\":\"\"},\"colorscale\":[[0.0,\"#0d0887\"],[0.1111111111111111,\"#46039f\"],[0.2222222222222222,\"#7201a8\"],[0.3333333333333333,\"#9c179e\"],[0.4444444444444444,\"#bd3786\"],[0.5555555555555556,\"#d8576b\"],[0.6666666666666666,\"#ed7953\"],[0.7777777777777778,\"#fb9f3a\"],[0.8888888888888888,\"#fdca26\"],[1.0,\"#f0f921\"]],\"type\":\"heatmap\"}],\"histogram2dcontour\":[{\"colorbar\":{\"outlinewidth\":0,\"ticks\":\"\"},\"colorscale\":[[0.0,\"#0d0887\"],[0.1111111111111111,\"#46039f\"],[0.2222222222222222,\"#7201a8\"],[0.3333333333333333,\"#9c179e\"],[0.4444444444444444,\"#bd3786\"],[0.5555555555555556,\"#d8576b\"],[0.6666666666666666,\"#ed7953\"],[0.7777777777777778,\"#fb9f3a\"],[0.8888888888888888,\"#fdca26\"],[1.0,\"#f0f921\"]],\"type\":\"histogram2dcontour\"}],\"histogram2d\":[{\"colorbar\":{\"outlinewidth\":0,\"ticks\":\"\"},\"colorscale\":[[0.0,\"#0d0887\"],[0.1111111111111111,\"#46039f\"],[0.2222222222222222,\"#7201a8\"],[0.3333333333333333,\"#9c179e\"],[0.4444444444444444,\"#bd3786\"],[0.5555555555555556,\"#d8576b\"],[0.6666666666666666,\"#ed7953\"],[0.7777777777777778,\"#fb9f3a\"],[0.8888888888888888,\"#fdca26\"],[1.0,\"#f0f921\"]],\"type\":\"histogram2d\"}],\"histogram\":[{\"marker\":{\"pattern\":{\"fillmode\":\"overlay\",\"size\":10,\"solidity\":0.2}},\"type\":\"histogram\"}],\"mesh3d\":[{\"colorbar\":{\"outlinewidth\":0,\"ticks\":\"\"},\"type\":\"mesh3d\"}],\"parcoords\":[{\"line\":{\"colorbar\":{\"outlinewidth\":0,\"ticks\":\"\"}},\"type\":\"parcoords\"}],\"pie\":[{\"automargin\":true,\"type\":\"pie\"}],\"scatter3d\":[{\"line\":{\"colorbar\":{\"outlinewidth\":0,\"ticks\":\"\"}},\"marker\":{\"colorbar\":{\"outlinewidth\":0,\"ticks\":\"\"}},\"type\":\"scatter3d\"}],\"scattercarpet\":[{\"marker\":{\"colorbar\":{\"outlinewidth\":0,\"ticks\":\"\"}},\"type\":\"scattercarpet\"}],\"scattergeo\":[{\"marker\":{\"colorbar\":{\"outlinewidth\":0,\"ticks\":\"\"}},\"type\":\"scattergeo\"}],\"scattergl\":[{\"marker\":{\"line\":{\"color\":\"#283442\"}},\"type\":\"scattergl\"}],\"scattermapbox\":[{\"marker\":{\"colorbar\":{\"outlinewidth\":0,\"ticks\":\"\"}},\"type\":\"scattermapbox\"}],\"scatterpolargl\":[{\"marker\":{\"colorbar\":{\"outlinewidth\":0,\"ticks\":\"\"}},\"type\":\"scatterpolargl\"}],\"scatterpolar\":[{\"marker\":{\"colorbar\":{\"outlinewidth\":0,\"ticks\":\"\"}},\"type\":\"scatterpolar\"}],\"scatter\":[{\"marker\":{\"line\":{\"color\":\"#283442\"}},\"type\":\"scatter\"}],\"scatterternary\":[{\"marker\":{\"colorbar\":{\"outlinewidth\":0,\"ticks\":\"\"}},\"type\":\"scatterternary\"}],\"surface\":[{\"colorbar\":{\"outlinewidth\":0,\"ticks\":\"\"},\"colorscale\":[[0.0,\"#0d0887\"],[0.1111111111111111,\"#46039f\"],[0.2222222222222222,\"#7201a8\"],[0.3333333333333333,\"#9c179e\"],[0.4444444444444444,\"#bd3786\"],[0.5555555555555556,\"#d8576b\"],[0.6666666666666666,\"#ed7953\"],[0.7777777777777778,\"#fb9f3a\"],[0.8888888888888888,\"#fdca26\"],[1.0,\"#f0f921\"]],\"type\":\"surface\"}],\"table\":[{\"cells\":{\"fill\":{\"color\":\"#506784\"},\"line\":{\"color\":\"rgb(17,17,17)\"}},\"header\":{\"fill\":{\"color\":\"#2a3f5f\"},\"line\":{\"color\":\"rgb(17,17,17)\"}},\"type\":\"table\"}]},\"layout\":{\"annotationdefaults\":{\"arrowcolor\":\"#f2f5fa\",\"arrowhead\":0,\"arrowwidth\":1},\"autotypenumbers\":\"strict\",\"coloraxis\":{\"colorbar\":{\"outlinewidth\":0,\"ticks\":\"\"}},\"colorscale\":{\"diverging\":[[0,\"#8e0152\"],[0.1,\"#c51b7d\"],[0.2,\"#de77ae\"],[0.3,\"#f1b6da\"],[0.4,\"#fde0ef\"],[0.5,\"#f7f7f7\"],[0.6,\"#e6f5d0\"],[0.7,\"#b8e186\"],[0.8,\"#7fbc41\"],[0.9,\"#4d9221\"],[1,\"#276419\"]],\"sequential\":[[0.0,\"#0d0887\"],[0.1111111111111111,\"#46039f\"],[0.2222222222222222,\"#7201a8\"],[0.3333333333333333,\"#9c179e\"],[0.4444444444444444,\"#bd3786\"],[0.5555555555555556,\"#d8576b\"],[0.6666666666666666,\"#ed7953\"],[0.7777777777777778,\"#fb9f3a\"],[0.8888888888888888,\"#fdca26\"],[1.0,\"#f0f921\"]],\"sequentialminus\":[[0.0,\"#0d0887\"],[0.1111111111111111,\"#46039f\"],[0.2222222222222222,\"#7201a8\"],[0.3333333333333333,\"#9c179e\"],[0.4444444444444444,\"#bd3786\"],[0.5555555555555556,\"#d8576b\"],[0.6666666666666666,\"#ed7953\"],[0.7777777777777778,\"#fb9f3a\"],[0.8888888888888888,\"#fdca26\"],[1.0,\"#f0f921\"]]},\"colorway\":[\"#636efa\",\"#EF553B\",\"#00cc96\",\"#ab63fa\",\"#FFA15A\",\"#19d3f3\",\"#FF6692\",\"#B6E880\",\"#FF97FF\",\"#FECB52\"],\"font\":{\"color\":\"#f2f5fa\"},\"geo\":{\"bgcolor\":\"rgb(17,17,17)\",\"lakecolor\":\"rgb(17,17,17)\",\"landcolor\":\"rgb(17,17,17)\",\"showlakes\":true,\"showland\":true,\"subunitcolor\":\"#506784\"},\"hoverlabel\":{\"align\":\"left\"},\"hovermode\":\"closest\",\"mapbox\":{\"style\":\"dark\"},\"paper_bgcolor\":\"rgb(17,17,17)\",\"plot_bgcolor\":\"rgb(17,17,17)\",\"polar\":{\"angularaxis\":{\"gridcolor\":\"#506784\",\"linecolor\":\"#506784\",\"ticks\":\"\"},\"bgcolor\":\"rgb(17,17,17)\",\"radialaxis\":{\"gridcolor\":\"#506784\",\"linecolor\":\"#506784\",\"ticks\":\"\"}},\"scene\":{\"xaxis\":{\"backgroundcolor\":\"rgb(17,17,17)\",\"gridcolor\":\"#506784\",\"gridwidth\":2,\"linecolor\":\"#506784\",\"showbackground\":true,\"ticks\":\"\",\"zerolinecolor\":\"#C8D4E3\"},\"yaxis\":{\"backgroundcolor\":\"rgb(17,17,17)\",\"gridcolor\":\"#506784\",\"gridwidth\":2,\"linecolor\":\"#506784\",\"showbackground\":true,\"ticks\":\"\",\"zerolinecolor\":\"#C8D4E3\"},\"zaxis\":{\"backgroundcolor\":\"rgb(17,17,17)\",\"gridcolor\":\"#506784\",\"gridwidth\":2,\"linecolor\":\"#506784\",\"showbackground\":true,\"ticks\":\"\",\"zerolinecolor\":\"#C8D4E3\"}},\"shapedefaults\":{\"line\":{\"color\":\"#f2f5fa\"}},\"sliderdefaults\":{\"bgcolor\":\"#C8D4E3\",\"bordercolor\":\"rgb(17,17,17)\",\"borderwidth\":1,\"tickwidth\":0},\"ternary\":{\"aaxis\":{\"gridcolor\":\"#506784\",\"linecolor\":\"#506784\",\"ticks\":\"\"},\"baxis\":{\"gridcolor\":\"#506784\",\"linecolor\":\"#506784\",\"ticks\":\"\"},\"bgcolor\":\"rgb(17,17,17)\",\"caxis\":{\"gridcolor\":\"#506784\",\"linecolor\":\"#506784\",\"ticks\":\"\"}},\"title\":{\"x\":0.05},\"updatemenudefaults\":{\"bgcolor\":\"#506784\",\"borderwidth\":0},\"xaxis\":{\"automargin\":true,\"gridcolor\":\"#283442\",\"linecolor\":\"#506784\",\"ticks\":\"\",\"title\":{\"standoff\":15},\"zerolinecolor\":\"#283442\",\"zerolinewidth\":2},\"yaxis\":{\"automargin\":true,\"gridcolor\":\"#283442\",\"linecolor\":\"#506784\",\"ticks\":\"\",\"title\":{\"standoff\":15},\"zerolinecolor\":\"#283442\",\"zerolinewidth\":2}}},\"xaxis\":{\"anchor\":\"y\",\"domain\":[0.0,0.48],\"title\":{\"text\":\"Center H (Rank)\"}},\"yaxis\":{\"anchor\":\"x\",\"domain\":[0.0,0.485],\"title\":{\"text\":\"count\"}},\"xaxis2\":{\"anchor\":\"y2\",\"domain\":[0.5,0.98],\"matches\":\"x\",\"title\":{\"text\":\"Center H (Rank)\"}},\"yaxis2\":{\"anchor\":\"x2\",\"domain\":[0.0,0.485],\"matches\":\"y\",\"showticklabels\":false},\"xaxis3\":{\"anchor\":\"y3\",\"domain\":[0.0,0.48],\"matches\":\"x\",\"showticklabels\":false},\"yaxis3\":{\"anchor\":\"x3\",\"domain\":[0.515,1.0],\"matches\":\"y\",\"title\":{\"text\":\"count\"}},\"xaxis4\":{\"anchor\":\"y4\",\"domain\":[0.5,0.98],\"matches\":\"x\",\"showticklabels\":false},\"yaxis4\":{\"anchor\":\"x4\",\"domain\":[0.515,1.0],\"matches\":\"y\",\"showticklabels\":false},\"annotations\":[{\"font\":{},\"showarrow\":false,\"text\":\"Center V\\u226575=False\",\"x\":0.24,\"xanchor\":\"center\",\"xref\":\"paper\",\"y\":1.0,\"yanchor\":\"bottom\",\"yref\":\"paper\"},{\"font\":{},\"showarrow\":false,\"text\":\"Center V\\u226575=True\",\"x\":0.74,\"xanchor\":\"center\",\"xref\":\"paper\",\"y\":1.0,\"yanchor\":\"bottom\",\"yref\":\"paper\"},{\"font\":{},\"showarrow\":false,\"text\":\"Center S\\u2265155=True\",\"textangle\":90,\"x\":0.98,\"xanchor\":\"left\",\"xref\":\"paper\",\"y\":0.2425,\"yanchor\":\"middle\",\"yref\":\"paper\"},{\"font\":{},\"showarrow\":false,\"text\":\"Center S\\u2265155=False\",\"textangle\":90,\"x\":0.98,\"xanchor\":\"left\",\"xref\":\"paper\",\"y\":0.7575000000000001,\"yanchor\":\"middle\",\"yref\":\"paper\"}],\"legend\":{\"title\":{\"text\":\"Conjunctiva cluster\"},\"tracegroupgap\":0},\"margin\":{\"t\":20,\"l\":20,\"r\":20,\"b\":20},\"barmode\":\"group\",\"bargap\":0.04,\"font\":{\"family\":\"Arial\",\"size\":16}},                        {\"responsive\": true}                    ).then(function(){\n                            \nvar gd = document.getElementById('424fc789-9d55-4c50-9c4c-7bf1296eeb49');\nvar x = new MutationObserver(function (mutations, observer) {{\n        var display = window.getComputedStyle(gd).display;\n        if (!display || display === 'none') {{\n            console.log([gd, 'removed!']);\n            Plotly.purge(gd);\n            observer.disconnect();\n        }}\n}});\n\n// Listen for the removal of the full notebook cells\nvar notebookContainer = gd.closest('#notebook-container');\nif (notebookContainer) {{\n    x.observe(notebookContainer, {childList: true});\n}}\n\n// Listen for the clearing of the current output cell\nvar outputEl = gd.closest('.output');\nif (outputEl) {{\n    x.observe(outputEl, {childList: true});\n}}\n\n                        })                };                });            </script>        </div>"
     },
     "metadata": {},
     "output_type": "display_data"
    }
   ],
   "source": [
    "fig = px.histogram(all_metrics_flat, x=\"Ranks-Color-Center-H\", marginal=\"box\", opacity=0.6,\n",
    "                   barmode=\"group\",\n",
    "                   facet_col=\"Values-Color-Center-V>=75\",\n",
    "                   facet_row=\"Values-Color-Center-S>=155\",\n",
    "                   color=\"Labels-Value\", color_discrete_map=color_discrete_map,\n",
    "                   category_orders=category_orders, labels=var_labels, template=plotly_template)\n",
    "fig.update_layout(bargap=0.04)\n",
    "fig.update_layout(font=dict(family=\"Arial\",size=16,), margin=dict(l=20, r=20, t=20, b=20))\n",
    "fig.show()\n",
    "title = \"HSV histogram- H val split at V >=75 and S >=75\"\n",
    "save_plotly_figure(fig, title)"
   ],
   "metadata": {
    "collapsed": false
   }
  },
  {
   "cell_type": "code",
   "execution_count": 208,
   "outputs": [
    {
     "name": "stderr",
     "output_type": "stream",
     "text": [
      "/var/folders/1h/c6vmx9jd2lg6rj_wkfdl22pr0000gn/T/ipykernel_86509/3131581781.py:40: RuntimeWarning:\n",
      "\n",
      "invalid value encountered in divide\n",
      "\n",
      "/var/folders/1h/c6vmx9jd2lg6rj_wkfdl22pr0000gn/T/ipykernel_86509/3131581781.py:42: RuntimeWarning:\n",
      "\n",
      "invalid value encountered in divide\n",
      "\n"
     ]
    },
    {
     "data": {
      "application/vnd.plotly.v1+json": {
       "data": [
        {
         "customdata": [
          [
           0.99
          ],
          [
           2.0
          ],
          [
           4.0
          ],
          [
           6.0
          ],
          [
           7.0
          ],
          [
           7.5
          ],
          [
           8.5
          ],
          [
           9.5
          ],
          [
           10.0
          ],
          [
           10.5
          ],
          [
           11.5
          ],
          [
           12.0
          ],
          [
           12.0
          ],
          [
           12.5
          ],
          [
           13.0
          ],
          [
           13.0
          ],
          [
           13.0
          ],
          [
           13.0
          ],
          [
           13.5
          ],
          [
           14.0
          ],
          [
           14.0
          ],
          [
           14.0
          ],
          [
           14.0
          ],
          [
           14.0
          ],
          [
           14.0
          ],
          [
           14.0
          ],
          [
           14.5
          ],
          [
           15.0
          ],
          [
           15.0
          ],
          [
           15.0
          ],
          [
           15.0
          ],
          [
           15.5
          ],
          [
           16.0
          ],
          [
           16.0
          ],
          [
           16.0
          ],
          [
           16.0
          ],
          [
           16.0
          ],
          [
           16.0
          ],
          [
           16.5
          ],
          [
           17.0
          ],
          [
           17.0
          ],
          [
           17.0
          ],
          [
           17.0
          ],
          [
           17.0
          ],
          [
           17.0
          ],
          [
           17.5
          ],
          [
           18.0
          ],
          [
           18.0
          ],
          [
           18.0
          ],
          [
           18.0
          ],
          [
           18.5
          ],
          [
           19.0
          ],
          [
           19.0
          ],
          [
           19.0
          ],
          [
           19.0
          ],
          [
           19.0
          ],
          [
           19.0
          ],
          [
           19.0
          ],
          [
           19.0
          ],
          [
           19.0
          ],
          [
           19.5
          ],
          [
           20.0
          ],
          [
           20.0
          ],
          [
           20.0
          ],
          [
           20.0
          ],
          [
           20.0
          ],
          [
           20.0
          ],
          [
           20.0
          ],
          [
           20.5
          ],
          [
           21.0
          ],
          [
           21.5
          ],
          [
           22.0
          ],
          [
           22.0
          ],
          [
           22.5
          ],
          [
           23.0
          ],
          [
           23.0
          ],
          [
           23.0
          ],
          [
           23.0
          ],
          [
           23.0
          ],
          [
           23.0
          ],
          [
           23.5
          ],
          [
           24.0
          ],
          [
           24.0
          ],
          [
           24.5
          ],
          [
           25.0
          ],
          [
           25.0
          ],
          [
           25.0
          ],
          [
           25.0
          ],
          [
           25.0
          ],
          [
           25.5
          ],
          [
           26.0
          ],
          [
           26.0
          ],
          [
           26.0
          ],
          [
           26.5
          ],
          [
           27.0
          ],
          [
           27.0
          ],
          [
           27.0
          ],
          [
           27.0
          ],
          [
           27.5
          ],
          [
           28.0
          ],
          [
           28.0
          ],
          [
           28.0
          ],
          [
           28.0
          ],
          [
           28.5
          ],
          [
           29.0
          ],
          [
           29.0
          ],
          [
           29.0
          ],
          [
           29.0
          ],
          [
           29.0
          ],
          [
           29.0
          ],
          [
           29.0
          ],
          [
           29.0
          ],
          [
           29.0
          ],
          [
           29.5
          ],
          [
           30.0
          ],
          [
           30.0
          ],
          [
           30.0
          ],
          [
           30.0
          ],
          [
           30.0
          ],
          [
           30.0
          ],
          [
           30.0
          ],
          [
           30.5
          ],
          [
           31.0
          ],
          [
           31.0
          ],
          [
           31.0
          ],
          [
           31.5
          ],
          [
           32.0
          ],
          [
           32.0
          ],
          [
           32.0
          ],
          [
           32.0
          ],
          [
           32.0
          ],
          [
           32.0
          ],
          [
           32.0
          ],
          [
           32.0
          ],
          [
           32.5
          ],
          [
           33.0
          ],
          [
           33.0
          ],
          [
           33.0
          ],
          [
           33.0
          ],
          [
           33.0
          ],
          [
           33.0
          ],
          [
           33.0
          ],
          [
           33.0
          ],
          [
           33.0
          ],
          [
           33.0
          ],
          [
           33.5
          ],
          [
           34.0
          ],
          [
           34.0
          ],
          [
           34.0
          ],
          [
           34.0
          ],
          [
           34.5
          ],
          [
           35.0
          ],
          [
           35.0
          ],
          [
           35.0
          ],
          [
           35.0
          ],
          [
           35.5
          ],
          [
           36.0
          ],
          [
           36.0
          ],
          [
           36.0
          ],
          [
           36.0
          ],
          [
           36.0
          ],
          [
           36.0
          ],
          [
           36.0
          ],
          [
           36.0
          ],
          [
           36.5
          ],
          [
           37.0
          ],
          [
           37.0
          ],
          [
           37.0
          ],
          [
           37.0
          ],
          [
           37.0
          ],
          [
           37.5
          ],
          [
           38.0
          ],
          [
           38.0
          ],
          [
           38.0
          ],
          [
           38.0
          ],
          [
           38.0
          ],
          [
           38.5
          ],
          [
           39.0
          ],
          [
           39.0
          ],
          [
           39.0
          ],
          [
           39.0
          ],
          [
           39.0
          ],
          [
           39.0
          ],
          [
           39.0
          ],
          [
           39.0
          ],
          [
           39.0
          ],
          [
           39.0
          ],
          [
           39.0
          ],
          [
           39.5
          ],
          [
           40.0
          ],
          [
           40.0
          ],
          [
           40.0
          ],
          [
           40.0
          ],
          [
           40.0
          ],
          [
           40.0
          ],
          [
           40.0
          ],
          [
           40.0
          ],
          [
           40.5
          ],
          [
           41.0
          ],
          [
           41.0
          ],
          [
           41.0
          ],
          [
           41.0
          ],
          [
           41.0
          ],
          [
           41.0
          ],
          [
           41.0
          ],
          [
           41.0
          ],
          [
           41.0
          ],
          [
           41.5
          ],
          [
           42.0
          ],
          [
           42.0
          ],
          [
           42.0
          ],
          [
           42.0
          ],
          [
           42.0
          ],
          [
           42.0
          ],
          [
           42.0
          ],
          [
           42.0
          ],
          [
           42.0
          ],
          [
           42.0
          ],
          [
           42.5
          ],
          [
           43.0
          ],
          [
           43.0
          ],
          [
           43.0
          ],
          [
           43.0
          ],
          [
           43.0
          ],
          [
           43.0
          ],
          [
           43.5
          ],
          [
           44.0
          ],
          [
           44.0
          ],
          [
           44.0
          ],
          [
           44.0
          ],
          [
           44.5
          ],
          [
           45.0
          ],
          [
           45.0
          ],
          [
           45.0
          ],
          [
           45.0
          ],
          [
           45.0
          ],
          [
           45.0
          ],
          [
           45.0
          ],
          [
           45.0
          ],
          [
           45.0
          ],
          [
           45.0
          ],
          [
           45.0
          ],
          [
           45.0
          ],
          [
           45.0
          ],
          [
           45.5
          ],
          [
           46.0
          ],
          [
           46.0
          ],
          [
           46.0
          ],
          [
           46.0
          ],
          [
           46.0
          ],
          [
           46.0
          ],
          [
           46.0
          ],
          [
           46.0
          ],
          [
           46.0
          ],
          [
           46.5
          ],
          [
           47.0
          ],
          [
           47.0
          ],
          [
           47.0
          ],
          [
           47.0
          ],
          [
           47.0
          ],
          [
           47.0
          ],
          [
           47.5
          ],
          [
           48.0
          ],
          [
           48.0
          ],
          [
           48.5
          ],
          [
           49.0
          ],
          [
           49.0
          ],
          [
           49.0
          ],
          [
           49.0
          ],
          [
           49.0
          ],
          [
           49.0
          ],
          [
           49.0
          ],
          [
           49.0
          ],
          [
           49.0
          ],
          [
           49.5
          ],
          [
           50.0
          ],
          [
           50.0
          ],
          [
           50.0
          ],
          [
           50.0
          ],
          [
           50.0
          ],
          [
           50.0
          ],
          [
           50.0
          ],
          [
           50.5
          ],
          [
           51.0
          ],
          [
           51.0
          ],
          [
           51.0
          ],
          [
           51.0
          ],
          [
           51.0
          ],
          [
           51.0
          ],
          [
           51.0
          ],
          [
           51.5
          ],
          [
           52.0
          ],
          [
           52.0
          ],
          [
           52.0
          ],
          [
           52.0
          ],
          [
           52.0
          ],
          [
           52.5
          ],
          [
           53.0
          ],
          [
           53.0
          ],
          [
           53.0
          ],
          [
           53.0
          ],
          [
           53.5
          ],
          [
           54.0
          ],
          [
           54.0
          ],
          [
           54.0
          ],
          [
           54.0
          ],
          [
           54.0
          ],
          [
           54.0
          ],
          [
           54.5
          ],
          [
           55.0
          ],
          [
           55.0
          ],
          [
           55.0
          ],
          [
           55.0
          ],
          [
           55.0
          ],
          [
           55.0
          ],
          [
           55.0
          ],
          [
           55.0
          ],
          [
           55.5
          ],
          [
           56.0
          ],
          [
           56.0
          ],
          [
           56.0
          ],
          [
           56.0
          ],
          [
           56.0
          ],
          [
           56.0
          ],
          [
           56.0
          ],
          [
           56.5
          ],
          [
           57.0
          ],
          [
           57.0
          ],
          [
           57.0
          ],
          [
           57.0
          ],
          [
           57.0
          ],
          [
           57.0
          ],
          [
           57.0
          ],
          [
           57.0
          ],
          [
           57.5
          ],
          [
           58.0
          ],
          [
           58.0
          ],
          [
           58.0
          ],
          [
           58.0
          ],
          [
           58.0
          ],
          [
           58.0
          ],
          [
           58.0
          ],
          [
           58.0
          ],
          [
           58.5
          ],
          [
           59.0
          ],
          [
           59.0
          ],
          [
           59.0
          ],
          [
           59.0
          ],
          [
           59.5
          ],
          [
           60.0
          ],
          [
           60.0
          ],
          [
           60.0
          ],
          [
           60.0
          ],
          [
           60.0
          ],
          [
           60.0
          ],
          [
           60.0
          ],
          [
           60.0
          ],
          [
           60.5
          ],
          [
           61.0
          ],
          [
           61.0
          ],
          [
           61.0
          ],
          [
           61.0
          ],
          [
           61.0
          ],
          [
           61.5
          ],
          [
           62.0
          ],
          [
           62.0
          ],
          [
           62.0
          ],
          [
           62.5
          ],
          [
           63.0
          ],
          [
           63.0
          ],
          [
           63.0
          ],
          [
           63.0
          ],
          [
           63.0
          ],
          [
           63.0
          ],
          [
           63.0
          ],
          [
           63.0
          ],
          [
           63.5
          ],
          [
           64.0
          ],
          [
           64.0
          ],
          [
           64.0
          ],
          [
           64.0
          ],
          [
           64.0
          ],
          [
           64.0
          ],
          [
           64.0
          ],
          [
           64.0
          ],
          [
           64.5
          ],
          [
           65.0
          ],
          [
           65.0
          ],
          [
           65.0
          ],
          [
           65.0
          ],
          [
           65.0
          ],
          [
           65.0
          ],
          [
           65.5
          ],
          [
           66.0
          ],
          [
           66.0
          ],
          [
           66.0
          ],
          [
           66.0
          ],
          [
           66.0
          ],
          [
           66.5
          ],
          [
           67.0
          ],
          [
           67.0
          ],
          [
           67.0
          ],
          [
           67.0
          ],
          [
           67.0
          ],
          [
           67.0
          ],
          [
           67.5
          ],
          [
           68.0
          ],
          [
           68.0
          ],
          [
           68.0
          ],
          [
           68.0
          ],
          [
           68.0
          ],
          [
           68.0
          ],
          [
           68.0
          ],
          [
           68.5
          ],
          [
           69.0
          ],
          [
           69.0
          ],
          [
           69.0
          ],
          [
           69.0
          ],
          [
           69.0
          ],
          [
           69.0
          ],
          [
           69.5
          ],
          [
           70.0
          ],
          [
           70.0
          ],
          [
           70.0
          ],
          [
           70.5
          ],
          [
           71.0
          ],
          [
           71.5
          ],
          [
           72.0
          ],
          [
           72.0
          ],
          [
           72.0
          ],
          [
           72.0
          ],
          [
           72.0
          ],
          [
           72.0
          ],
          [
           72.5
          ],
          [
           73.0
          ],
          [
           73.0
          ],
          [
           73.0
          ],
          [
           73.0
          ],
          [
           73.0
          ],
          [
           73.0
          ],
          [
           73.5
          ],
          [
           74.0
          ],
          [
           74.0
          ],
          [
           74.0
          ],
          [
           74.0
          ],
          [
           74.5
          ],
          [
           75.0
          ],
          [
           75.0
          ],
          [
           75.0
          ],
          [
           75.0
          ],
          [
           75.0
          ],
          [
           75.0
          ],
          [
           75.0
          ],
          [
           75.0
          ],
          [
           75.0
          ],
          [
           75.0
          ],
          [
           75.0
          ],
          [
           75.0
          ],
          [
           75.0
          ],
          [
           75.5
          ],
          [
           76.0
          ],
          [
           76.0
          ],
          [
           76.0
          ],
          [
           76.0
          ],
          [
           76.0
          ],
          [
           76.0
          ],
          [
           76.0
          ],
          [
           76.0
          ],
          [
           76.0
          ],
          [
           76.0
          ],
          [
           76.0
          ],
          [
           76.5
          ],
          [
           77.0
          ],
          [
           77.0
          ],
          [
           77.5
          ],
          [
           78.0
          ],
          [
           78.0
          ],
          [
           78.0
          ],
          [
           78.0
          ],
          [
           78.5
          ],
          [
           79.0
          ],
          [
           79.0
          ],
          [
           79.5
          ],
          [
           80.0
          ],
          [
           80.0
          ],
          [
           80.0
          ],
          [
           80.0
          ],
          [
           80.0
          ],
          [
           80.0
          ],
          [
           80.0
          ],
          [
           80.0
          ],
          [
           80.5
          ],
          [
           81.0
          ],
          [
           81.0
          ],
          [
           81.0
          ],
          [
           81.0
          ],
          [
           81.5
          ],
          [
           82.0
          ],
          [
           82.0
          ],
          [
           82.0
          ],
          [
           82.0
          ],
          [
           82.0
          ],
          [
           82.0
          ],
          [
           82.0
          ],
          [
           82.5
          ],
          [
           83.0
          ],
          [
           83.0
          ],
          [
           83.0
          ],
          [
           83.0
          ],
          [
           83.0
          ],
          [
           83.0
          ],
          [
           83.5
          ],
          [
           84.0
          ],
          [
           84.5
          ],
          [
           85.0
          ],
          [
           85.0
          ],
          [
           85.0
          ],
          [
           85.0
          ],
          [
           85.0
          ],
          [
           85.5
          ],
          [
           86.0
          ],
          [
           86.0
          ],
          [
           86.0
          ],
          [
           86.0
          ],
          [
           86.0
          ],
          [
           86.0
          ],
          [
           86.5
          ],
          [
           87.0
          ],
          [
           87.0
          ],
          [
           87.0
          ],
          [
           87.0
          ],
          [
           87.0
          ],
          [
           87.0
          ],
          [
           87.0
          ],
          [
           87.0
          ],
          [
           87.0
          ],
          [
           87.5
          ],
          [
           88.0
          ],
          [
           88.0
          ],
          [
           88.0
          ],
          [
           88.0
          ],
          [
           88.0
          ],
          [
           88.0
          ],
          [
           88.0
          ],
          [
           88.5
          ],
          [
           89.0
          ],
          [
           89.0
          ],
          [
           89.0
          ],
          [
           89.0
          ],
          [
           89.0
          ],
          [
           89.0
          ],
          [
           89.0
          ],
          [
           89.5
          ],
          [
           90.0
          ],
          [
           90.0
          ],
          [
           90.0
          ],
          [
           90.0
          ],
          [
           90.0
          ],
          [
           90.0
          ],
          [
           90.0
          ],
          [
           90.5
          ],
          [
           91.0
          ],
          [
           91.0
          ],
          [
           91.0
          ],
          [
           91.0
          ],
          [
           91.5
          ],
          [
           92.0
          ],
          [
           92.0
          ],
          [
           92.0
          ],
          [
           92.0
          ],
          [
           92.0
          ],
          [
           92.0
          ],
          [
           92.0
          ],
          [
           92.5
          ],
          [
           93.0
          ],
          [
           93.0
          ],
          [
           93.0
          ],
          [
           93.0
          ],
          [
           93.0
          ],
          [
           93.0
          ],
          [
           93.5
          ],
          [
           94.0
          ],
          [
           94.0
          ],
          [
           94.0
          ],
          [
           94.5
          ],
          [
           95.0
          ],
          [
           95.0
          ],
          [
           95.0
          ],
          [
           95.0
          ],
          [
           95.0
          ],
          [
           95.0
          ],
          [
           95.0
          ],
          [
           95.5
          ],
          [
           96.0
          ],
          [
           96.0
          ],
          [
           96.0
          ],
          [
           96.0
          ],
          [
           96.0
          ],
          [
           96.0
          ],
          [
           96.0
          ],
          [
           96.0
          ],
          [
           96.0
          ],
          [
           96.5
          ],
          [
           97.0
          ],
          [
           97.0
          ],
          [
           97.0
          ],
          [
           97.0
          ],
          [
           97.0
          ],
          [
           97.0
          ],
          [
           97.5
          ],
          [
           98.0
          ],
          [
           98.0
          ],
          [
           98.0
          ],
          [
           98.0
          ],
          [
           98.0
          ],
          [
           98.0
          ],
          [
           98.5
          ],
          [
           99.0
          ],
          [
           99.0
          ],
          [
           99.0
          ],
          [
           99.0
          ],
          [
           99.0
          ],
          [
           99.0
          ],
          [
           99.0
          ],
          [
           99.5
          ],
          [
           100.0
          ],
          [
           100.0
          ],
          [
           100.0
          ],
          [
           100.0
          ],
          [
           100.0
          ],
          [
           100.0
          ],
          [
           100.0
          ],
          [
           100.0
          ],
          [
           100.0
          ],
          [
           100.0
          ],
          [
           100.0
          ],
          [
           100.0
          ],
          [
           100.5
          ],
          [
           101.0
          ],
          [
           101.0
          ],
          [
           101.0
          ],
          [
           101.0
          ],
          [
           101.0
          ],
          [
           101.0
          ],
          [
           101.0
          ],
          [
           101.5
          ],
          [
           102.0
          ],
          [
           102.0
          ],
          [
           102.0
          ],
          [
           102.0
          ],
          [
           102.0
          ],
          [
           102.0
          ],
          [
           102.0
          ],
          [
           102.0
          ],
          [
           102.0
          ],
          [
           102.5
          ],
          [
           103.0
          ],
          [
           103.0
          ],
          [
           103.0
          ],
          [
           103.0
          ],
          [
           103.0
          ],
          [
           103.0
          ],
          [
           103.0
          ],
          [
           103.0
          ],
          [
           103.0
          ],
          [
           103.0
          ],
          [
           103.0
          ],
          [
           103.5
          ],
          [
           104.0
          ],
          [
           104.0
          ],
          [
           104.0
          ],
          [
           104.0
          ],
          [
           104.0
          ],
          [
           104.0
          ],
          [
           104.0
          ],
          [
           104.0
          ],
          [
           104.5
          ],
          [
           105.0
          ],
          [
           105.0
          ],
          [
           105.0
          ],
          [
           105.0
          ],
          [
           105.5
          ],
          [
           106.0
          ],
          [
           106.0
          ],
          [
           106.0
          ],
          [
           106.0
          ],
          [
           106.0
          ],
          [
           106.0
          ],
          [
           106.0
          ],
          [
           106.5
          ],
          [
           107.0
          ],
          [
           107.0
          ],
          [
           107.0
          ],
          [
           107.0
          ],
          [
           107.0
          ],
          [
           107.0
          ],
          [
           107.0
          ],
          [
           107.0
          ],
          [
           107.5
          ],
          [
           108.0
          ],
          [
           108.0
          ],
          [
           108.0
          ],
          [
           108.0
          ],
          [
           108.0
          ],
          [
           108.5
          ],
          [
           109.0
          ],
          [
           109.0
          ],
          [
           109.0
          ],
          [
           109.0
          ],
          [
           109.0
          ],
          [
           109.0
          ],
          [
           109.5
          ],
          [
           110.0
          ],
          [
           110.0
          ],
          [
           110.0
          ],
          [
           110.0
          ],
          [
           110.0
          ],
          [
           110.0
          ],
          [
           110.5
          ],
          [
           111.0
          ],
          [
           111.0
          ],
          [
           111.0
          ],
          [
           111.5
          ],
          [
           112.0
          ],
          [
           112.0
          ],
          [
           112.0
          ],
          [
           112.5
          ],
          [
           113.0
          ],
          [
           113.0
          ],
          [
           113.0
          ],
          [
           113.0
          ],
          [
           113.5
          ],
          [
           114.0
          ],
          [
           114.0
          ],
          [
           114.0
          ],
          [
           114.0
          ],
          [
           114.5
          ],
          [
           115.0
          ],
          [
           115.5
          ],
          [
           116.0
          ],
          [
           116.0
          ],
          [
           116.0
          ],
          [
           116.0
          ],
          [
           116.0
          ],
          [
           116.0
          ],
          [
           116.0
          ],
          [
           116.0
          ],
          [
           116.0
          ],
          [
           116.5
          ],
          [
           117.0
          ],
          [
           117.0
          ],
          [
           117.0
          ],
          [
           117.0
          ],
          [
           117.0
          ],
          [
           117.0
          ],
          [
           117.0
          ],
          [
           117.0
          ],
          [
           117.5
          ],
          [
           118.0
          ],
          [
           118.0
          ],
          [
           118.0
          ],
          [
           118.0
          ],
          [
           118.5
          ],
          [
           119.0
          ],
          [
           119.0
          ],
          [
           119.0
          ],
          [
           119.0
          ],
          [
           119.0
          ],
          [
           119.0
          ],
          [
           119.5
          ],
          [
           120.0
          ],
          [
           120.0
          ],
          [
           120.0
          ],
          [
           120.0
          ],
          [
           120.0
          ],
          [
           120.0
          ],
          [
           120.5
          ],
          [
           121.0
          ],
          [
           121.0
          ],
          [
           121.0
          ],
          [
           121.0
          ],
          [
           121.0
          ],
          [
           121.0
          ],
          [
           121.0
          ],
          [
           121.0
          ],
          [
           121.5
          ],
          [
           122.0
          ],
          [
           122.0
          ],
          [
           122.0
          ],
          [
           122.0
          ],
          [
           122.0
          ],
          [
           122.0
          ],
          [
           122.0
          ],
          [
           122.0
          ],
          [
           122.5
          ],
          [
           123.0
          ],
          [
           123.0
          ],
          [
           123.0
          ],
          [
           123.0
          ],
          [
           123.0
          ],
          [
           123.0
          ],
          [
           123.0
          ],
          [
           123.5
          ],
          [
           124.0
          ],
          [
           124.0
          ],
          [
           124.0
          ],
          [
           124.0
          ],
          [
           124.0
          ],
          [
           124.5
          ],
          [
           125.0
          ],
          [
           125.0
          ],
          [
           125.0
          ],
          [
           125.0
          ],
          [
           125.0
          ],
          [
           125.0
          ],
          [
           125.0
          ],
          [
           125.0
          ],
          [
           125.5
          ],
          [
           126.0
          ],
          [
           126.0
          ],
          [
           126.0
          ],
          [
           126.0
          ],
          [
           126.0
          ],
          [
           126.5
          ],
          [
           127.0
          ],
          [
           127.0
          ],
          [
           127.0
          ],
          [
           127.0
          ],
          [
           127.0
          ],
          [
           127.0
          ],
          [
           127.0
          ],
          [
           127.0
          ],
          [
           127.0
          ],
          [
           127.0
          ],
          [
           127.5
          ],
          [
           0.0
          ],
          [
           0.0
          ],
          [
           0.0
          ],
          [
           0.0
          ],
          [
           0.0
          ],
          [
           0.0
          ],
          [
           0.0
          ],
          [
           0.0
          ],
          [
           0.0
          ],
          [
           0.5
          ],
          [
           1.0
          ],
          [
           1.0
          ],
          [
           1.0
          ],
          [
           1.0
          ],
          [
           1.0
          ],
          [
           1.0
          ],
          [
           1.0
          ],
          [
           1.0
          ],
          [
           1.5
          ],
          [
           2.0
          ],
          [
           2.0
          ],
          [
           2.0
          ],
          [
           2.0
          ],
          [
           2.0
          ],
          [
           2.0
          ],
          [
           2.0
          ],
          [
           2.0
          ],
          [
           2.0
          ],
          [
           2.5
          ],
          [
           3.0
          ],
          [
           3.0
          ],
          [
           3.0
          ],
          [
           3.0
          ],
          [
           3.0
          ],
          [
           3.0
          ],
          [
           3.0
          ],
          [
           3.0
          ],
          [
           3.0
          ],
          [
           3.5
          ],
          [
           4.0
          ],
          [
           4.0
          ],
          [
           4.0
          ],
          [
           4.0
          ],
          [
           4.0
          ],
          [
           4.0
          ],
          [
           4.0
          ],
          [
           4.5
          ],
          [
           5.0
          ],
          [
           5.0
          ],
          [
           5.0
          ],
          [
           5.0
          ],
          [
           5.0
          ],
          [
           5.5
          ],
          [
           6.0
          ],
          [
           6.0
          ],
          [
           6.0
          ],
          [
           6.0
          ],
          [
           6.5
          ],
          [
           7.0
          ],
          [
           7.0
          ],
          [
           7.0
          ],
          [
           7.0
          ],
          [
           7.0
          ],
          [
           7.0
          ],
          [
           7.0
          ],
          [
           7.0
          ],
          [
           7.5
          ],
          [
           8.0
          ],
          [
           8.0
          ],
          [
           8.0
          ],
          [
           8.5
          ],
          [
           9.0
          ],
          [
           9.0
          ],
          [
           9.0
          ],
          [
           9.0
          ],
          [
           9.0
          ],
          [
           9.0
          ],
          [
           9.0
          ],
          [
           9.0
          ],
          [
           9.5
          ],
          [
           10.0
          ],
          [
           10.0
          ],
          [
           10.0
          ],
          [
           10.0
          ],
          [
           10.0
          ],
          [
           10.5
          ],
          [
           11.0
          ],
          [
           11.0
          ],
          [
           11.0
          ],
          [
           11.0
          ],
          [
           11.0
          ],
          [
           11.5
          ],
          [
           12.0
          ],
          [
           12.0
          ],
          [
           12.0
          ],
          [
           12.5
          ],
          [
           13.0
          ],
          [
           13.5
          ],
          [
           14.0
          ],
          [
           14.0
          ],
          [
           14.0
          ],
          [
           14.0
          ],
          [
           14.0
          ],
          [
           14.0
          ],
          [
           14.5
          ],
          [
           15.0
          ],
          [
           15.0
          ],
          [
           15.5
          ],
          [
           16.0
          ],
          [
           16.0
          ],
          [
           16.0
          ],
          [
           16.0
          ],
          [
           16.0
          ],
          [
           16.0
          ],
          [
           16.0
          ],
          [
           16.0
          ],
          [
           16.0
          ],
          [
           16.0
          ],
          [
           16.5
          ],
          [
           17.0
          ],
          [
           17.0
          ],
          [
           17.0
          ],
          [
           17.0
          ],
          [
           17.0
          ],
          [
           17.5
          ],
          [
           18.0
          ],
          [
           18.0
          ],
          [
           18.0
          ],
          [
           18.0
          ],
          [
           18.0
          ],
          [
           18.0
          ],
          [
           18.0
          ],
          [
           18.0
          ],
          [
           18.0
          ],
          [
           18.5
          ],
          [
           19.0
          ],
          [
           19.0
          ],
          [
           19.0
          ],
          [
           19.5
          ],
          [
           20.0
          ],
          [
           20.0
          ],
          [
           20.0
          ],
          [
           20.0
          ],
          [
           20.0
          ],
          [
           20.0
          ],
          [
           20.0
          ],
          [
           20.0
          ],
          [
           20.0
          ],
          [
           20.0
          ],
          [
           20.5
          ],
          [
           21.0
          ],
          [
           21.0
          ],
          [
           21.0
          ],
          [
           21.0
          ],
          [
           21.0
          ],
          [
           21.0
          ],
          [
           21.5
          ],
          [
           22.0
          ],
          [
           22.0
          ],
          [
           22.0
          ],
          [
           22.5
          ],
          [
           23.0
          ],
          [
           23.0
          ],
          [
           23.0
          ],
          [
           23.0
          ],
          [
           23.5
          ],
          [
           24.0
          ],
          [
           24.0
          ],
          [
           24.0
          ],
          [
           24.0
          ],
          [
           24.0
          ],
          [
           24.0
          ],
          [
           24.0
          ],
          [
           24.0
          ],
          [
           24.0
          ],
          [
           24.5
          ],
          [
           25.0
          ],
          [
           25.0
          ],
          [
           25.0
          ],
          [
           25.5
          ],
          [
           26.0
          ],
          [
           26.0
          ],
          [
           26.0
          ],
          [
           26.0
          ],
          [
           26.0
          ],
          [
           26.0
          ],
          [
           26.0
          ],
          [
           26.0
          ],
          [
           26.0
          ],
          [
           26.0
          ],
          [
           26.0
          ],
          [
           26.5
          ],
          [
           27.0
          ],
          [
           27.0
          ],
          [
           27.0
          ],
          [
           27.0
          ],
          [
           27.5
          ],
          [
           28.0
          ],
          [
           28.0
          ],
          [
           28.0
          ],
          [
           28.0
          ],
          [
           28.0
          ],
          [
           28.0
          ],
          [
           28.0
          ],
          [
           28.0
          ],
          [
           28.0
          ],
          [
           28.0
          ],
          [
           28.5
          ],
          [
           29.5
          ],
          [
           30.0
          ],
          [
           30.0
          ],
          [
           30.0
          ],
          [
           30.5
          ],
          [
           31.0
          ],
          [
           31.0
          ],
          [
           31.0
          ],
          [
           31.0
          ],
          [
           31.0
          ],
          [
           31.0
          ],
          [
           31.5
          ],
          [
           32.0
          ],
          [
           32.0
          ],
          [
           32.0
          ],
          [
           32.0
          ],
          [
           32.0
          ],
          [
           32.0
          ],
          [
           32.0
          ],
          [
           32.0
          ],
          [
           32.0
          ],
          [
           32.5
          ],
          [
           33.0
          ],
          [
           33.0
          ],
          [
           33.0
          ],
          [
           33.5
          ],
          [
           34.0
          ],
          [
           34.0
          ],
          [
           34.0
          ],
          [
           34.0
          ],
          [
           34.0
          ],
          [
           34.0
          ],
          [
           34.0
          ],
          [
           34.0
          ],
          [
           34.5
          ],
          [
           35.0
          ],
          [
           35.0
          ],
          [
           35.0
          ],
          [
           35.0
          ],
          [
           35.0
          ],
          [
           35.0
          ],
          [
           35.5
          ],
          [
           36.0
          ],
          [
           36.0
          ],
          [
           36.0
          ],
          [
           36.0
          ],
          [
           36.5
          ],
          [
           37.0
          ],
          [
           37.0
          ],
          [
           37.0
          ],
          [
           37.0
          ],
          [
           37.0
          ],
          [
           37.0
          ],
          [
           37.0
          ],
          [
           37.0
          ],
          [
           37.0
          ],
          [
           37.5
          ],
          [
           38.0
          ],
          [
           38.0
          ],
          [
           38.0
          ],
          [
           38.5
          ],
          [
           39.0
          ],
          [
           39.0
          ],
          [
           39.0
          ],
          [
           39.0
          ],
          [
           39.0
          ],
          [
           39.5
          ],
          [
           40.0
          ],
          [
           40.0
          ],
          [
           40.0
          ],
          [
           40.0
          ],
          [
           40.0
          ],
          [
           40.0
          ],
          [
           40.0
          ],
          [
           40.0
          ],
          [
           40.0
          ],
          [
           40.5
          ],
          [
           41.0
          ],
          [
           41.0
          ],
          [
           41.0
          ],
          [
           41.0
          ],
          [
           41.0
          ],
          [
           41.0
          ],
          [
           41.0
          ],
          [
           41.0
          ],
          [
           41.0
          ],
          [
           41.5
          ],
          [
           42.0
          ],
          [
           42.0
          ],
          [
           42.0
          ],
          [
           42.0
          ],
          [
           42.0
          ],
          [
           42.0
          ],
          [
           42.0
          ],
          [
           42.5
          ],
          [
           43.0
          ],
          [
           43.0
          ],
          [
           43.0
          ],
          [
           43.0
          ],
          [
           43.0
          ],
          [
           43.0
          ],
          [
           43.5
          ],
          [
           44.0
          ],
          [
           44.5
          ],
          [
           45.0
          ],
          [
           45.0
          ],
          [
           45.0
          ],
          [
           45.0
          ],
          [
           45.0
          ],
          [
           45.0
          ],
          [
           45.0
          ],
          [
           45.0
          ],
          [
           45.0
          ],
          [
           45.0
          ],
          [
           45.0
          ],
          [
           45.0
          ],
          [
           45.0
          ],
          [
           45.5
          ],
          [
           46.0
          ],
          [
           46.0
          ],
          [
           46.0
          ],
          [
           46.5
          ],
          [
           47.0
          ],
          [
           47.0
          ],
          [
           47.0
          ],
          [
           47.0
          ],
          [
           47.0
          ],
          [
           47.0
          ],
          [
           47.0
          ],
          [
           47.0
          ],
          [
           47.5
          ],
          [
           48.0
          ],
          [
           48.0
          ],
          [
           48.0
          ],
          [
           48.0
          ],
          [
           48.0
          ],
          [
           48.0
          ],
          [
           48.0
          ],
          [
           48.5
          ],
          [
           49.0
          ],
          [
           49.0
          ],
          [
           49.0
          ],
          [
           49.0
          ],
          [
           49.0
          ],
          [
           49.0
          ],
          [
           49.0
          ],
          [
           49.0
          ],
          [
           49.0
          ],
          [
           49.0
          ],
          [
           49.5
          ],
          [
           50.0
          ],
          [
           50.0
          ],
          [
           50.0
          ],
          [
           50.0
          ],
          [
           50.0
          ],
          [
           50.0
          ],
          [
           50.0
          ],
          [
           50.0
          ],
          [
           50.0
          ],
          [
           50.5
          ],
          [
           51.0
          ],
          [
           51.0
          ],
          [
           51.0
          ],
          [
           51.0
          ],
          [
           51.0
          ],
          [
           51.0
          ],
          [
           51.5
          ],
          [
           52.0
          ],
          [
           52.0
          ],
          [
           52.0
          ],
          [
           52.0
          ],
          [
           52.0
          ],
          [
           52.0
          ],
          [
           52.0
          ],
          [
           52.5
          ],
          [
           53.0
          ],
          [
           53.0
          ],
          [
           53.0
          ],
          [
           53.0
          ],
          [
           53.0
          ],
          [
           53.0
          ],
          [
           53.0
          ],
          [
           53.0
          ],
          [
           53.5
          ],
          [
           54.0
          ],
          [
           54.0
          ],
          [
           54.0
          ],
          [
           54.5
          ],
          [
           55.0
          ],
          [
           55.0
          ],
          [
           55.0
          ],
          [
           55.0
          ],
          [
           55.0
          ],
          [
           55.0
          ],
          [
           55.0
          ],
          [
           55.0
          ],
          [
           55.0
          ],
          [
           55.0
          ],
          [
           55.0
          ],
          [
           55.5
          ],
          [
           56.0
          ],
          [
           56.0
          ],
          [
           56.0
          ],
          [
           56.0
          ],
          [
           56.0
          ],
          [
           56.0
          ],
          [
           56.0
          ],
          [
           56.5
          ],
          [
           57.0
          ],
          [
           57.0
          ],
          [
           57.0
          ],
          [
           57.0
          ],
          [
           57.0
          ],
          [
           57.0
          ],
          [
           57.0
          ],
          [
           57.5
          ],
          [
           58.0
          ],
          [
           58.0
          ],
          [
           58.0
          ],
          [
           58.0
          ],
          [
           58.0
          ],
          [
           58.0
          ],
          [
           58.0
          ],
          [
           58.0
          ],
          [
           58.0
          ],
          [
           58.0
          ],
          [
           58.0
          ],
          [
           58.0
          ],
          [
           58.0
          ],
          [
           58.5
          ],
          [
           59.0
          ],
          [
           59.0
          ],
          [
           59.0
          ],
          [
           59.0
          ],
          [
           59.0
          ],
          [
           59.0
          ],
          [
           59.0
          ],
          [
           59.5
          ],
          [
           60.0
          ],
          [
           60.0
          ],
          [
           60.0
          ],
          [
           60.0
          ],
          [
           60.0
          ],
          [
           60.0
          ],
          [
           60.5
          ],
          [
           61.0
          ],
          [
           61.0
          ],
          [
           61.0
          ],
          [
           61.0
          ],
          [
           61.0
          ],
          [
           61.0
          ],
          [
           61.0
          ],
          [
           61.5
          ],
          [
           62.0
          ],
          [
           62.0
          ],
          [
           62.0
          ],
          [
           62.0
          ],
          [
           62.0
          ],
          [
           62.0
          ],
          [
           62.0
          ],
          [
           62.0
          ],
          [
           62.0
          ],
          [
           62.5
          ],
          [
           63.0
          ],
          [
           63.0
          ],
          [
           63.0
          ],
          [
           63.0
          ],
          [
           63.0
          ],
          [
           63.0
          ],
          [
           63.0
          ],
          [
           63.0
          ],
          [
           63.5
          ],
          [
           64.0
          ],
          [
           64.0
          ],
          [
           64.0
          ],
          [
           64.0
          ],
          [
           64.0
          ],
          [
           64.0
          ],
          [
           64.5
          ],
          [
           65.0
          ],
          [
           65.0
          ],
          [
           65.0
          ],
          [
           65.0
          ],
          [
           65.0
          ],
          [
           65.0
          ],
          [
           65.0
          ],
          [
           65.0
          ],
          [
           65.0
          ],
          [
           65.0
          ],
          [
           65.5
          ],
          [
           66.0
          ],
          [
           66.0
          ],
          [
           66.0
          ],
          [
           66.0
          ],
          [
           66.0
          ],
          [
           66.0
          ],
          [
           66.0
          ],
          [
           66.0
          ],
          [
           66.5
          ],
          [
           67.0
          ],
          [
           67.0
          ],
          [
           67.0
          ],
          [
           67.0
          ],
          [
           67.5
          ],
          [
           68.0
          ],
          [
           68.0
          ],
          [
           68.0
          ],
          [
           68.0
          ],
          [
           68.5
          ],
          [
           69.0
          ],
          [
           69.0
          ],
          [
           69.0
          ],
          [
           69.0
          ],
          [
           69.0
          ],
          [
           69.0
          ],
          [
           69.5
          ],
          [
           70.0
          ],
          [
           70.0
          ],
          [
           70.0
          ],
          [
           70.0
          ],
          [
           70.0
          ],
          [
           70.5
          ],
          [
           71.0
          ],
          [
           71.0
          ],
          [
           71.5
          ],
          [
           72.0
          ],
          [
           72.0
          ],
          [
           72.0
          ],
          [
           72.5
          ],
          [
           73.5
          ],
          [
           74.0
          ],
          [
           74.0
          ],
          [
           74.0
          ],
          [
           74.0
          ],
          [
           74.0
          ],
          [
           74.5
          ],
          [
           75.0
          ],
          [
           75.0
          ],
          [
           75.0
          ],
          [
           75.5
          ],
          [
           76.0
          ],
          [
           76.0
          ],
          [
           76.0
          ],
          [
           76.0
          ],
          [
           76.5
          ],
          [
           77.0
          ],
          [
           77.0
          ],
          [
           77.5
          ],
          [
           78.0
          ],
          [
           78.0
          ],
          [
           78.0
          ],
          [
           78.5
          ],
          [
           79.0
          ],
          [
           79.0
          ],
          [
           79.5
          ],
          [
           80.0
          ],
          [
           80.5
          ],
          [
           81.0
          ],
          [
           81.0
          ],
          [
           81.0
          ],
          [
           81.0
          ],
          [
           81.0
          ],
          [
           81.5
          ],
          [
           82.0
          ],
          [
           82.0
          ],
          [
           82.5
          ],
          [
           83.0
          ],
          [
           83.5
          ],
          [
           84.0
          ],
          [
           84.0
          ],
          [
           84.0
          ],
          [
           84.5
          ],
          [
           85.0
          ],
          [
           85.5
          ],
          [
           86.5
          ],
          [
           87.0
          ],
          [
           88.0
          ],
          [
           89.5
          ],
          [
           90.0
          ],
          [
           90.0
          ],
          [
           90.5
          ],
          [
           91.0
          ],
          [
           91.0
          ],
          [
           91.5
          ],
          [
           93.0
          ],
          [
           94.0
          ],
          [
           94.0
          ],
          [
           94.5
          ],
          [
           95.5
          ],
          [
           96.0
          ],
          [
           96.0
          ],
          [
           96.0
          ],
          [
           96.5
          ],
          [
           97.0
          ],
          [
           97.0
          ],
          [
           97.0
          ],
          [
           97.5
          ],
          [
           98.0
          ],
          [
           98.5
          ],
          [
           100.5
          ],
          [
           103.0
          ],
          [
           105.0
          ],
          [
           107.0
          ],
          [
           108.0
          ],
          [
           109.5
          ],
          [
           111.5
          ],
          [
           118.5
          ],
          [
           253.01
          ]
         ],
         "fillpattern": {
          "shape": ""
         },
         "hovertemplate": "1-specificity=%{x:0.2%}<br>sensitivity=%{y:0.2%}<br>threshold=%{customdata[0]}<extra></extra>",
         "legendgroup": "",
         "line": {
          "color": "#636efa"
         },
         "marker": {
          "symbol": "circle"
         },
         "mode": "lines",
         "name": "",
         "orientation": "v",
         "showlegend": false,
         "stackgroup": "1",
         "x": [
          1.0,
          0.9991843393148451,
          0.99836867862969,
          0.9975530179445351,
          0.9975530179445351,
          0.9959216965742251,
          0.9951060358890701,
          0.9942903752039152,
          0.9942903752039152,
          0.9926590538336052,
          0.9918433931484503,
          0.9918433931484503,
          0.9918433931484503,
          0.9893964110929854,
          0.9893964110929854,
          0.9893964110929854,
          0.9893964110929854,
          0.9893964110929854,
          0.9853181076672104,
          0.9853181076672104,
          0.9853181076672104,
          0.9853181076672104,
          0.9853181076672104,
          0.9853181076672104,
          0.9853181076672104,
          0.9853181076672104,
          0.9787928221859706,
          0.9787928221859706,
          0.9787928221859706,
          0.9787928221859706,
          0.9787928221859706,
          0.9747145187601958,
          0.9747145187601958,
          0.9747145187601958,
          0.9747145187601958,
          0.9747145187601958,
          0.9747145187601958,
          0.9747145187601958,
          0.9690048939641109,
          0.9690048939641109,
          0.9690048939641109,
          0.9690048939641109,
          0.9690048939641109,
          0.9690048939641109,
          0.9690048939641109,
          0.9632952691680261,
          0.9632952691680261,
          0.9632952691680261,
          0.9632952691680261,
          0.9632952691680261,
          0.9592169657422512,
          0.9592169657422512,
          0.9592169657422512,
          0.9592169657422512,
          0.9592169657422512,
          0.9592169657422512,
          0.9592169657422512,
          0.9592169657422512,
          0.9592169657422512,
          0.9592169657422512,
          0.9510603588907015,
          0.9510603588907015,
          0.9510603588907015,
          0.9510603588907015,
          0.9510603588907015,
          0.9510603588907015,
          0.9510603588907015,
          0.9510603588907015,
          0.9445350734094616,
          0.9445350734094616,
          0.9429037520391517,
          0.9429037520391517,
          0.9429037520391517,
          0.9404567699836868,
          0.9404567699836868,
          0.9404567699836868,
          0.9404567699836868,
          0.9404567699836868,
          0.9404567699836868,
          0.9404567699836868,
          0.9347471451876019,
          0.9347471451876019,
          0.9347471451876019,
          0.932300163132137,
          0.932300163132137,
          0.932300163132137,
          0.932300163132137,
          0.932300163132137,
          0.932300163132137,
          0.9274061990212071,
          0.9274061990212071,
          0.9274061990212071,
          0.9274061990212071,
          0.9241435562805873,
          0.9241435562805873,
          0.9241435562805873,
          0.9241435562805873,
          0.9241435562805873,
          0.9200652528548124,
          0.9200652528548124,
          0.9200652528548124,
          0.9200652528548124,
          0.9200652528548124,
          0.9159869494290376,
          0.9159869494290376,
          0.9159869494290376,
          0.9159869494290376,
          0.9159869494290376,
          0.9159869494290376,
          0.9159869494290376,
          0.9159869494290376,
          0.9159869494290376,
          0.9159869494290376,
          0.9078303425774877,
          0.9078303425774877,
          0.9078303425774877,
          0.9078303425774877,
          0.9078303425774877,
          0.9078303425774877,
          0.9078303425774877,
          0.9078303425774877,
          0.901305057096248,
          0.901305057096248,
          0.901305057096248,
          0.901305057096248,
          0.898042414355628,
          0.898042414355628,
          0.898042414355628,
          0.898042414355628,
          0.898042414355628,
          0.898042414355628,
          0.898042414355628,
          0.898042414355628,
          0.898042414355628,
          0.8907014681892332,
          0.8907014681892332,
          0.8907014681892332,
          0.8907014681892332,
          0.8907014681892332,
          0.8907014681892332,
          0.8907014681892332,
          0.8907014681892332,
          0.8907014681892332,
          0.8907014681892332,
          0.8907014681892332,
          0.8817292006525286,
          0.8817292006525286,
          0.8817292006525286,
          0.8817292006525286,
          0.8817292006525286,
          0.8776508972267537,
          0.8776508972267537,
          0.8776508972267537,
          0.8776508972267537,
          0.8776508972267537,
          0.8735725938009788,
          0.8735725938009788,
          0.8735725938009788,
          0.8735725938009788,
          0.8735725938009788,
          0.8735725938009788,
          0.8735725938009788,
          0.8735725938009788,
          0.8735725938009788,
          0.866231647634584,
          0.866231647634584,
          0.866231647634584,
          0.866231647634584,
          0.866231647634584,
          0.866231647634584,
          0.8613376835236541,
          0.8613376835236541,
          0.8613376835236541,
          0.8613376835236541,
          0.8613376835236541,
          0.8613376835236541,
          0.8564437194127243,
          0.8564437194127243,
          0.8564437194127243,
          0.8564437194127243,
          0.8564437194127243,
          0.8564437194127243,
          0.8564437194127243,
          0.8564437194127243,
          0.8564437194127243,
          0.8564437194127243,
          0.8564437194127243,
          0.8564437194127243,
          0.8466557911908645,
          0.8466557911908645,
          0.8466557911908645,
          0.8466557911908645,
          0.8466557911908645,
          0.8466557911908645,
          0.8466557911908645,
          0.8466557911908645,
          0.8466557911908645,
          0.8393148450244698,
          0.8393148450244698,
          0.8393148450244698,
          0.8393148450244698,
          0.8393148450244698,
          0.8393148450244698,
          0.8393148450244698,
          0.8393148450244698,
          0.8393148450244698,
          0.8393148450244698,
          0.8311582381729201,
          0.8311582381729201,
          0.8311582381729201,
          0.8311582381729201,
          0.8311582381729201,
          0.8311582381729201,
          0.8311582381729201,
          0.8311582381729201,
          0.8311582381729201,
          0.8311582381729201,
          0.8311582381729201,
          0.8221859706362153,
          0.8221859706362153,
          0.8221859706362153,
          0.8221859706362153,
          0.8221859706362153,
          0.8221859706362153,
          0.8221859706362153,
          0.8164763458401305,
          0.8164763458401305,
          0.8164763458401305,
          0.8164763458401305,
          0.8164763458401305,
          0.8123980424143556,
          0.8123980424143556,
          0.8123980424143556,
          0.8123980424143556,
          0.8123980424143556,
          0.8123980424143556,
          0.8123980424143556,
          0.8123980424143556,
          0.8123980424143556,
          0.8123980424143556,
          0.8123980424143556,
          0.8123980424143556,
          0.8123980424143556,
          0.8123980424143556,
          0.800978792822186,
          0.800978792822186,
          0.800978792822186,
          0.800978792822186,
          0.800978792822186,
          0.800978792822186,
          0.800978792822186,
          0.800978792822186,
          0.800978792822186,
          0.800978792822186,
          0.7928221859706363,
          0.7928221859706363,
          0.7928221859706363,
          0.7928221859706363,
          0.7928221859706363,
          0.7928221859706363,
          0.7928221859706363,
          0.7871125611745514,
          0.7871125611745514,
          0.7871125611745514,
          0.7846655791190864,
          0.7846655791190864,
          0.7846655791190864,
          0.7846655791190864,
          0.7846655791190864,
          0.7846655791190864,
          0.7846655791190864,
          0.7846655791190864,
          0.7846655791190864,
          0.7846655791190864,
          0.7765089722675367,
          0.7765089722675367,
          0.7765089722675367,
          0.7765089722675367,
          0.7765089722675367,
          0.7765089722675367,
          0.7765089722675367,
          0.7765089722675367,
          0.7699836867862969,
          0.7699836867862969,
          0.7699836867862969,
          0.7699836867862969,
          0.7699836867862969,
          0.7699836867862969,
          0.7699836867862969,
          0.7699836867862969,
          0.7634584013050572,
          0.7634584013050572,
          0.7634584013050572,
          0.7634584013050572,
          0.7634584013050572,
          0.7634584013050572,
          0.7585644371941273,
          0.7585644371941273,
          0.7585644371941273,
          0.7585644371941273,
          0.7585644371941273,
          0.7544861337683524,
          0.7544861337683524,
          0.7544861337683524,
          0.7544861337683524,
          0.7544861337683524,
          0.7544861337683524,
          0.7544861337683524,
          0.7487765089722676,
          0.7487765089722676,
          0.7487765089722676,
          0.7487765089722676,
          0.7487765089722676,
          0.7487765089722676,
          0.7487765089722676,
          0.7487765089722676,
          0.7487765089722676,
          0.7414355628058727,
          0.7414355628058727,
          0.7414355628058727,
          0.7414355628058727,
          0.7414355628058727,
          0.7414355628058727,
          0.7414355628058727,
          0.7414355628058727,
          0.734910277324633,
          0.734910277324633,
          0.734910277324633,
          0.734910277324633,
          0.734910277324633,
          0.734910277324633,
          0.734910277324633,
          0.734910277324633,
          0.734910277324633,
          0.7275693311582382,
          0.7275693311582382,
          0.7275693311582382,
          0.7275693311582382,
          0.7275693311582382,
          0.7275693311582382,
          0.7275693311582382,
          0.7275693311582382,
          0.7275693311582382,
          0.7202283849918434,
          0.7202283849918434,
          0.7202283849918434,
          0.7202283849918434,
          0.7202283849918434,
          0.7161500815660685,
          0.7161500815660685,
          0.7161500815660685,
          0.7161500815660685,
          0.7161500815660685,
          0.7161500815660685,
          0.7161500815660685,
          0.7161500815660685,
          0.7161500815660685,
          0.7088091353996737,
          0.7088091353996737,
          0.7088091353996737,
          0.7088091353996737,
          0.7088091353996737,
          0.7088091353996737,
          0.7039151712887439,
          0.7039151712887439,
          0.7039151712887439,
          0.7039151712887439,
          0.700652528548124,
          0.700652528548124,
          0.700652528548124,
          0.700652528548124,
          0.700652528548124,
          0.700652528548124,
          0.700652528548124,
          0.700652528548124,
          0.700652528548124,
          0.6933115823817292,
          0.6933115823817292,
          0.6933115823817292,
          0.6933115823817292,
          0.6933115823817292,
          0.6933115823817292,
          0.6933115823817292,
          0.6933115823817292,
          0.6933115823817292,
          0.6859706362153344,
          0.6859706362153344,
          0.6859706362153344,
          0.6859706362153344,
          0.6859706362153344,
          0.6859706362153344,
          0.6859706362153344,
          0.6802610114192496,
          0.6802610114192496,
          0.6802610114192496,
          0.6802610114192496,
          0.6802610114192496,
          0.6802610114192496,
          0.6753670473083198,
          0.6753670473083198,
          0.6753670473083198,
          0.6753670473083198,
          0.6753670473083198,
          0.6753670473083198,
          0.6753670473083198,
          0.6696574225122349,
          0.6696574225122349,
          0.6696574225122349,
          0.6696574225122349,
          0.6696574225122349,
          0.6696574225122349,
          0.6696574225122349,
          0.6696574225122349,
          0.663132137030995,
          0.663132137030995,
          0.663132137030995,
          0.663132137030995,
          0.663132137030995,
          0.663132137030995,
          0.663132137030995,
          0.6574225122349102,
          0.6574225122349102,
          0.6574225122349102,
          0.6574225122349102,
          0.6541598694942904,
          0.6541598694942904,
          0.6525285481239804,
          0.6525285481239804,
          0.6525285481239804,
          0.6525285481239804,
          0.6525285481239804,
          0.6525285481239804,
          0.6525285481239804,
          0.6468189233278956,
          0.6468189233278956,
          0.6468189233278956,
          0.6468189233278956,
          0.6468189233278956,
          0.6468189233278956,
          0.6468189233278956,
          0.6411092985318108,
          0.6411092985318108,
          0.6411092985318108,
          0.6411092985318108,
          0.6411092985318108,
          0.6370309951060359,
          0.6370309951060359,
          0.6370309951060359,
          0.6370309951060359,
          0.6370309951060359,
          0.6370309951060359,
          0.6370309951060359,
          0.6370309951060359,
          0.6370309951060359,
          0.6370309951060359,
          0.6370309951060359,
          0.6370309951060359,
          0.6370309951060359,
          0.6370309951060359,
          0.6256117455138662,
          0.6256117455138662,
          0.6256117455138662,
          0.6256117455138662,
          0.6256117455138662,
          0.6256117455138662,
          0.6256117455138662,
          0.6256117455138662,
          0.6256117455138662,
          0.6256117455138662,
          0.6256117455138662,
          0.6256117455138662,
          0.6158238172920065,
          0.6158238172920065,
          0.6158238172920065,
          0.6133768352365416,
          0.6133768352365416,
          0.6133768352365416,
          0.6133768352365416,
          0.6133768352365416,
          0.6092985318107667,
          0.6092985318107667,
          0.6092985318107667,
          0.6068515497553018,
          0.6068515497553018,
          0.6068515497553018,
          0.6068515497553018,
          0.6068515497553018,
          0.6068515497553018,
          0.6068515497553018,
          0.6068515497553018,
          0.6068515497553018,
          0.5995106035889071,
          0.5995106035889071,
          0.5995106035889071,
          0.5995106035889071,
          0.5995106035889071,
          0.5954323001631321,
          0.5954323001631321,
          0.5954323001631321,
          0.5954323001631321,
          0.5954323001631321,
          0.5954323001631321,
          0.5954323001631321,
          0.5954323001631321,
          0.5889070146818923,
          0.5889070146818923,
          0.5889070146818923,
          0.5889070146818923,
          0.5889070146818923,
          0.5889070146818923,
          0.5889070146818923,
          0.5848287112561175,
          0.5848287112561175,
          0.5831973898858075,
          0.5831973898858075,
          0.5831973898858075,
          0.5831973898858075,
          0.5831973898858075,
          0.5831973898858075,
          0.5783034257748776,
          0.5783034257748776,
          0.5783034257748776,
          0.5783034257748776,
          0.5783034257748776,
          0.5783034257748776,
          0.5783034257748776,
          0.5734094616639478,
          0.5734094616639478,
          0.5734094616639478,
          0.5734094616639478,
          0.5734094616639478,
          0.5734094616639478,
          0.5734094616639478,
          0.5734094616639478,
          0.5734094616639478,
          0.5734094616639478,
          0.5652528548123981,
          0.5652528548123981,
          0.5652528548123981,
          0.5652528548123981,
          0.5652528548123981,
          0.5652528548123981,
          0.5652528548123981,
          0.5652528548123981,
          0.5587275693311582,
          0.5587275693311582,
          0.5587275693311582,
          0.5587275693311582,
          0.5587275693311582,
          0.5587275693311582,
          0.5587275693311582,
          0.5587275693311582,
          0.5522022838499184,
          0.5522022838499184,
          0.5522022838499184,
          0.5522022838499184,
          0.5522022838499184,
          0.5522022838499184,
          0.5522022838499184,
          0.5522022838499184,
          0.5456769983686787,
          0.5456769983686787,
          0.5456769983686787,
          0.5456769983686787,
          0.5456769983686787,
          0.5415986949429037,
          0.5415986949429037,
          0.5415986949429037,
          0.5415986949429037,
          0.5415986949429037,
          0.5415986949429037,
          0.5415986949429037,
          0.5415986949429037,
          0.5350734094616639,
          0.5350734094616639,
          0.5350734094616639,
          0.5350734094616639,
          0.5350734094616639,
          0.5350734094616639,
          0.5350734094616639,
          0.5293637846655791,
          0.5293637846655791,
          0.5293637846655791,
          0.5293637846655791,
          0.5277324632952691,
          0.5277324632952691,
          0.5277324632952691,
          0.5277324632952691,
          0.5277324632952691,
          0.5277324632952691,
          0.5277324632952691,
          0.5277324632952691,
          0.5220228384991843,
          0.5220228384991843,
          0.5220228384991843,
          0.5220228384991843,
          0.5220228384991843,
          0.5220228384991843,
          0.5220228384991843,
          0.5220228384991843,
          0.5220228384991843,
          0.5220228384991843,
          0.5138662316476346,
          0.5138662316476346,
          0.5138662316476346,
          0.5138662316476346,
          0.5138662316476346,
          0.5138662316476346,
          0.5138662316476346,
          0.5081566068515497,
          0.5081566068515497,
          0.5081566068515497,
          0.5081566068515497,
          0.5081566068515497,
          0.5081566068515497,
          0.5081566068515497,
          0.5032626427406199,
          0.5032626427406199,
          0.5032626427406199,
          0.5032626427406199,
          0.5032626427406199,
          0.5032626427406199,
          0.5032626427406199,
          0.5032626427406199,
          0.4975530179445351,
          0.4975530179445351,
          0.4975530179445351,
          0.4975530179445351,
          0.4975530179445351,
          0.4975530179445351,
          0.4975530179445351,
          0.4975530179445351,
          0.4975530179445351,
          0.4975530179445351,
          0.4975530179445351,
          0.4975530179445351,
          0.4975530179445351,
          0.4877650897226754,
          0.4877650897226754,
          0.4877650897226754,
          0.4877650897226754,
          0.4877650897226754,
          0.4877650897226754,
          0.4877650897226754,
          0.4877650897226754,
          0.48123980424143553,
          0.48123980424143553,
          0.48123980424143553,
          0.48123980424143553,
          0.48123980424143553,
          0.48123980424143553,
          0.48123980424143553,
          0.48123980424143553,
          0.48123980424143553,
          0.48123980424143553,
          0.47389885807504073,
          0.47389885807504073,
          0.47389885807504073,
          0.47389885807504073,
          0.47389885807504073,
          0.47389885807504073,
          0.47389885807504073,
          0.47389885807504073,
          0.47389885807504073,
          0.47389885807504073,
          0.47389885807504073,
          0.47389885807504073,
          0.46411092985318103,
          0.46411092985318103,
          0.46411092985318103,
          0.46411092985318103,
          0.46411092985318103,
          0.46411092985318103,
          0.46411092985318103,
          0.46411092985318103,
          0.46411092985318103,
          0.45676998368678634,
          0.45676998368678634,
          0.45676998368678634,
          0.45676998368678634,
          0.45676998368678634,
          0.4535073409461664,
          0.4535073409461664,
          0.4535073409461664,
          0.4535073409461664,
          0.4535073409461664,
          0.4535073409461664,
          0.4535073409461664,
          0.4535073409461664,
          0.44698205546492664,
          0.44698205546492664,
          0.44698205546492664,
          0.44698205546492664,
          0.44698205546492664,
          0.44698205546492664,
          0.44698205546492664,
          0.44698205546492664,
          0.44698205546492664,
          0.43964110929853184,
          0.43964110929853184,
          0.43964110929853184,
          0.43964110929853184,
          0.43964110929853184,
          0.43964110929853184,
          0.43474714518760194,
          0.43474714518760194,
          0.43474714518760194,
          0.43474714518760194,
          0.43474714518760194,
          0.43474714518760194,
          0.43474714518760194,
          0.4290375203915171,
          0.4290375203915171,
          0.4290375203915171,
          0.4290375203915171,
          0.4290375203915171,
          0.4290375203915171,
          0.4290375203915171,
          0.42332789559543227,
          0.42332789559543227,
          0.42332789559543227,
          0.42332789559543227,
          0.42006525285481244,
          0.42006525285481244,
          0.42006525285481244,
          0.42006525285481244,
          0.4168026101141925,
          0.4168026101141925,
          0.4168026101141925,
          0.4168026101141925,
          0.4168026101141925,
          0.4143556280587276,
          0.4143556280587276,
          0.4143556280587276,
          0.4143556280587276,
          0.4143556280587276,
          0.41027732463295274,
          0.41027732463295274,
          0.4086460032626428,
          0.4086460032626428,
          0.4086460032626428,
          0.4086460032626428,
          0.4086460032626428,
          0.4086460032626428,
          0.4086460032626428,
          0.4086460032626428,
          0.4086460032626428,
          0.4086460032626428,
          0.4021207177814029,
          0.4021207177814029,
          0.4021207177814029,
          0.4021207177814029,
          0.4021207177814029,
          0.4021207177814029,
          0.4021207177814029,
          0.4021207177814029,
          0.4021207177814029,
          0.3947797716150081,
          0.3947797716150081,
          0.3947797716150081,
          0.3947797716150081,
          0.3947797716150081,
          0.39314845024469824,
          0.39314845024469824,
          0.39314845024469824,
          0.39314845024469824,
          0.39314845024469824,
          0.39314845024469824,
          0.39314845024469824,
          0.38825448613376834,
          0.38825448613376834,
          0.38825448613376834,
          0.38825448613376834,
          0.38825448613376834,
          0.38825448613376834,
          0.38825448613376834,
          0.3825448613376835,
          0.3825448613376835,
          0.3825448613376835,
          0.3825448613376835,
          0.3825448613376835,
          0.3825448613376835,
          0.3825448613376835,
          0.3825448613376835,
          0.3825448613376835,
          0.3752039151712887,
          0.3752039151712887,
          0.3752039151712887,
          0.3752039151712887,
          0.3752039151712887,
          0.3752039151712887,
          0.3752039151712887,
          0.3752039151712887,
          0.3752039151712887,
          0.367862969004894,
          0.367862969004894,
          0.367862969004894,
          0.367862969004894,
          0.367862969004894,
          0.367862969004894,
          0.367862969004894,
          0.367862969004894,
          0.3621533442088092,
          0.3621533442088092,
          0.3621533442088092,
          0.3621533442088092,
          0.3621533442088092,
          0.3621533442088092,
          0.3572593800978793,
          0.3572593800978793,
          0.3572593800978793,
          0.3572593800978793,
          0.3572593800978793,
          0.3572593800978793,
          0.3572593800978793,
          0.3572593800978793,
          0.3572593800978793,
          0.35154975530179444,
          0.35154975530179444,
          0.35154975530179444,
          0.35154975530179444,
          0.35154975530179444,
          0.35154975530179444,
          0.3499184339314845,
          0.3499184339314845,
          0.3499184339314845,
          0.3499184339314845,
          0.3499184339314845,
          0.3499184339314845,
          0.3499184339314845,
          0.3499184339314845,
          0.3499184339314845,
          0.3499184339314845,
          0.3499184339314845,
          0.34257748776508967,
          1.0,
          1.0,
          1.0,
          1.0,
          1.0,
          1.0,
          1.0,
          1.0,
          1.0,
          1.0,
          1.0,
          1.0,
          1.0,
          1.0,
          1.0,
          1.0,
          1.0,
          1.0,
          0.9991843393148451,
          0.9991843393148451,
          0.9991843393148451,
          0.9991843393148451,
          0.9991843393148451,
          0.9991843393148451,
          0.9991843393148451,
          0.9991843393148451,
          0.9991843393148451,
          0.9991843393148451,
          0.9991843393148451,
          0.9991843393148451,
          0.9991843393148451,
          0.9991843393148451,
          0.9991843393148451,
          0.9991843393148451,
          0.9991843393148451,
          0.9991843393148451,
          0.9991843393148451,
          0.9991843393148451,
          0.99836867862969,
          0.99836867862969,
          0.99836867862969,
          0.99836867862969,
          0.99836867862969,
          0.99836867862969,
          0.99836867862969,
          0.99836867862969,
          0.99836867862969,
          0.99836867862969,
          0.99836867862969,
          0.99836867862969,
          0.99836867862969,
          0.99836867862969,
          0.9975530179445351,
          0.9975530179445351,
          0.9975530179445351,
          0.9975530179445351,
          0.9975530179445351,
          0.9975530179445351,
          0.9975530179445351,
          0.9975530179445351,
          0.9975530179445351,
          0.9975530179445351,
          0.9975530179445351,
          0.9975530179445351,
          0.9975530179445351,
          0.9975530179445351,
          0.9959216965742251,
          0.9959216965742251,
          0.9959216965742251,
          0.9959216965742251,
          0.9951060358890701,
          0.9951060358890701,
          0.9951060358890701,
          0.9951060358890701,
          0.9951060358890701,
          0.9951060358890701,
          0.9951060358890701,
          0.9951060358890701,
          0.9951060358890701,
          0.9942903752039152,
          0.9942903752039152,
          0.9942903752039152,
          0.9942903752039152,
          0.9942903752039152,
          0.9942903752039152,
          0.9926590538336052,
          0.9926590538336052,
          0.9926590538336052,
          0.9926590538336052,
          0.9926590538336052,
          0.9926590538336052,
          0.9918433931484503,
          0.9918433931484503,
          0.9918433931484503,
          0.9918433931484503,
          0.9893964110929854,
          0.9893964110929854,
          0.9853181076672104,
          0.9853181076672104,
          0.9853181076672104,
          0.9853181076672104,
          0.9853181076672104,
          0.9853181076672104,
          0.9853181076672104,
          0.9787928221859706,
          0.9787928221859706,
          0.9787928221859706,
          0.9747145187601958,
          0.9747145187601958,
          0.9747145187601958,
          0.9747145187601958,
          0.9747145187601958,
          0.9747145187601958,
          0.9747145187601958,
          0.9747145187601958,
          0.9747145187601958,
          0.9747145187601958,
          0.9747145187601958,
          0.9690048939641109,
          0.9690048939641109,
          0.9690048939641109,
          0.9690048939641109,
          0.9690048939641109,
          0.9690048939641109,
          0.9632952691680261,
          0.9632952691680261,
          0.9632952691680261,
          0.9632952691680261,
          0.9632952691680261,
          0.9632952691680261,
          0.9632952691680261,
          0.9632952691680261,
          0.9632952691680261,
          0.9632952691680261,
          0.9592169657422512,
          0.9592169657422512,
          0.9592169657422512,
          0.9592169657422512,
          0.9510603588907015,
          0.9510603588907015,
          0.9510603588907015,
          0.9510603588907015,
          0.9510603588907015,
          0.9510603588907015,
          0.9510603588907015,
          0.9510603588907015,
          0.9510603588907015,
          0.9510603588907015,
          0.9510603588907015,
          0.9445350734094616,
          0.9445350734094616,
          0.9445350734094616,
          0.9445350734094616,
          0.9445350734094616,
          0.9445350734094616,
          0.9445350734094616,
          0.9429037520391517,
          0.9429037520391517,
          0.9429037520391517,
          0.9429037520391517,
          0.9404567699836868,
          0.9404567699836868,
          0.9404567699836868,
          0.9404567699836868,
          0.9404567699836868,
          0.9347471451876019,
          0.9347471451876019,
          0.9347471451876019,
          0.9347471451876019,
          0.9347471451876019,
          0.9347471451876019,
          0.9347471451876019,
          0.9347471451876019,
          0.9347471451876019,
          0.9347471451876019,
          0.932300163132137,
          0.932300163132137,
          0.932300163132137,
          0.932300163132137,
          0.9274061990212071,
          0.9274061990212071,
          0.9274061990212071,
          0.9274061990212071,
          0.9274061990212071,
          0.9274061990212071,
          0.9274061990212071,
          0.9274061990212071,
          0.9274061990212071,
          0.9274061990212071,
          0.9274061990212071,
          0.9274061990212071,
          0.9241435562805873,
          0.9241435562805873,
          0.9241435562805873,
          0.9241435562805873,
          0.9241435562805873,
          0.9200652528548124,
          0.9200652528548124,
          0.9200652528548124,
          0.9200652528548124,
          0.9200652528548124,
          0.9200652528548124,
          0.9200652528548124,
          0.9200652528548124,
          0.9200652528548124,
          0.9200652528548124,
          0.9200652528548124,
          0.9159869494290376,
          0.9078303425774877,
          0.9078303425774877,
          0.9078303425774877,
          0.9078303425774877,
          0.901305057096248,
          0.901305057096248,
          0.901305057096248,
          0.901305057096248,
          0.901305057096248,
          0.901305057096248,
          0.901305057096248,
          0.898042414355628,
          0.898042414355628,
          0.898042414355628,
          0.898042414355628,
          0.898042414355628,
          0.898042414355628,
          0.898042414355628,
          0.898042414355628,
          0.898042414355628,
          0.898042414355628,
          0.8907014681892332,
          0.8907014681892332,
          0.8907014681892332,
          0.8907014681892332,
          0.8817292006525286,
          0.8817292006525286,
          0.8817292006525286,
          0.8817292006525286,
          0.8817292006525286,
          0.8817292006525286,
          0.8817292006525286,
          0.8817292006525286,
          0.8817292006525286,
          0.8776508972267537,
          0.8776508972267537,
          0.8776508972267537,
          0.8776508972267537,
          0.8776508972267537,
          0.8776508972267537,
          0.8776508972267537,
          0.8735725938009788,
          0.8735725938009788,
          0.8735725938009788,
          0.8735725938009788,
          0.8735725938009788,
          0.866231647634584,
          0.866231647634584,
          0.866231647634584,
          0.866231647634584,
          0.866231647634584,
          0.866231647634584,
          0.866231647634584,
          0.866231647634584,
          0.866231647634584,
          0.866231647634584,
          0.8613376835236541,
          0.8613376835236541,
          0.8613376835236541,
          0.8613376835236541,
          0.8564437194127243,
          0.8564437194127243,
          0.8564437194127243,
          0.8564437194127243,
          0.8564437194127243,
          0.8564437194127243,
          0.8466557911908645,
          0.8466557911908645,
          0.8466557911908645,
          0.8466557911908645,
          0.8466557911908645,
          0.8466557911908645,
          0.8466557911908645,
          0.8466557911908645,
          0.8466557911908645,
          0.8466557911908645,
          0.8393148450244698,
          0.8393148450244698,
          0.8393148450244698,
          0.8393148450244698,
          0.8393148450244698,
          0.8393148450244698,
          0.8393148450244698,
          0.8393148450244698,
          0.8393148450244698,
          0.8393148450244698,
          0.8311582381729201,
          0.8311582381729201,
          0.8311582381729201,
          0.8311582381729201,
          0.8311582381729201,
          0.8311582381729201,
          0.8311582381729201,
          0.8311582381729201,
          0.8221859706362153,
          0.8221859706362153,
          0.8221859706362153,
          0.8221859706362153,
          0.8221859706362153,
          0.8221859706362153,
          0.8221859706362153,
          0.8164763458401305,
          0.8164763458401305,
          0.8123980424143556,
          0.8123980424143556,
          0.8123980424143556,
          0.8123980424143556,
          0.8123980424143556,
          0.8123980424143556,
          0.8123980424143556,
          0.8123980424143556,
          0.8123980424143556,
          0.8123980424143556,
          0.8123980424143556,
          0.8123980424143556,
          0.8123980424143556,
          0.8123980424143556,
          0.800978792822186,
          0.800978792822186,
          0.800978792822186,
          0.800978792822186,
          0.7928221859706363,
          0.7928221859706363,
          0.7928221859706363,
          0.7928221859706363,
          0.7928221859706363,
          0.7928221859706363,
          0.7928221859706363,
          0.7928221859706363,
          0.7928221859706363,
          0.7871125611745514,
          0.7871125611745514,
          0.7871125611745514,
          0.7871125611745514,
          0.7871125611745514,
          0.7871125611745514,
          0.7871125611745514,
          0.7871125611745514,
          0.7846655791190864,
          0.7846655791190864,
          0.7846655791190864,
          0.7846655791190864,
          0.7846655791190864,
          0.7846655791190864,
          0.7846655791190864,
          0.7846655791190864,
          0.7846655791190864,
          0.7846655791190864,
          0.7846655791190864,
          0.7765089722675367,
          0.7765089722675367,
          0.7765089722675367,
          0.7765089722675367,
          0.7765089722675367,
          0.7765089722675367,
          0.7765089722675367,
          0.7765089722675367,
          0.7765089722675367,
          0.7765089722675367,
          0.7699836867862969,
          0.7699836867862969,
          0.7699836867862969,
          0.7699836867862969,
          0.7699836867862969,
          0.7699836867862969,
          0.7699836867862969,
          0.7634584013050572,
          0.7634584013050572,
          0.7634584013050572,
          0.7634584013050572,
          0.7634584013050572,
          0.7634584013050572,
          0.7634584013050572,
          0.7634584013050572,
          0.7585644371941273,
          0.7585644371941273,
          0.7585644371941273,
          0.7585644371941273,
          0.7585644371941273,
          0.7585644371941273,
          0.7585644371941273,
          0.7585644371941273,
          0.7585644371941273,
          0.7544861337683524,
          0.7544861337683524,
          0.7544861337683524,
          0.7544861337683524,
          0.7487765089722676,
          0.7487765089722676,
          0.7487765089722676,
          0.7487765089722676,
          0.7487765089722676,
          0.7487765089722676,
          0.7487765089722676,
          0.7487765089722676,
          0.7487765089722676,
          0.7487765089722676,
          0.7487765089722676,
          0.7487765089722676,
          0.7414355628058727,
          0.7414355628058727,
          0.7414355628058727,
          0.7414355628058727,
          0.7414355628058727,
          0.7414355628058727,
          0.7414355628058727,
          0.7414355628058727,
          0.734910277324633,
          0.734910277324633,
          0.734910277324633,
          0.734910277324633,
          0.734910277324633,
          0.734910277324633,
          0.734910277324633,
          0.734910277324633,
          0.7275693311582382,
          0.7275693311582382,
          0.7275693311582382,
          0.7275693311582382,
          0.7275693311582382,
          0.7275693311582382,
          0.7275693311582382,
          0.7275693311582382,
          0.7275693311582382,
          0.7275693311582382,
          0.7275693311582382,
          0.7275693311582382,
          0.7275693311582382,
          0.7275693311582382,
          0.7202283849918434,
          0.7202283849918434,
          0.7202283849918434,
          0.7202283849918434,
          0.7202283849918434,
          0.7202283849918434,
          0.7202283849918434,
          0.7202283849918434,
          0.7161500815660685,
          0.7161500815660685,
          0.7161500815660685,
          0.7161500815660685,
          0.7161500815660685,
          0.7161500815660685,
          0.7161500815660685,
          0.7088091353996737,
          0.7088091353996737,
          0.7088091353996737,
          0.7088091353996737,
          0.7088091353996737,
          0.7088091353996737,
          0.7088091353996737,
          0.7088091353996737,
          0.7039151712887439,
          0.7039151712887439,
          0.7039151712887439,
          0.7039151712887439,
          0.7039151712887439,
          0.7039151712887439,
          0.7039151712887439,
          0.7039151712887439,
          0.7039151712887439,
          0.7039151712887439,
          0.700652528548124,
          0.700652528548124,
          0.700652528548124,
          0.700652528548124,
          0.700652528548124,
          0.700652528548124,
          0.700652528548124,
          0.700652528548124,
          0.700652528548124,
          0.6933115823817292,
          0.6933115823817292,
          0.6933115823817292,
          0.6933115823817292,
          0.6933115823817292,
          0.6933115823817292,
          0.6933115823817292,
          0.6859706362153344,
          0.6859706362153344,
          0.6859706362153344,
          0.6859706362153344,
          0.6859706362153344,
          0.6859706362153344,
          0.6859706362153344,
          0.6859706362153344,
          0.6859706362153344,
          0.6859706362153344,
          0.6859706362153344,
          0.6802610114192496,
          0.6802610114192496,
          0.6802610114192496,
          0.6802610114192496,
          0.6802610114192496,
          0.6802610114192496,
          0.6802610114192496,
          0.6802610114192496,
          0.6802610114192496,
          0.6753670473083198,
          0.6753670473083198,
          0.6753670473083198,
          0.6753670473083198,
          0.6753670473083198,
          0.6696574225122349,
          0.6696574225122349,
          0.6696574225122349,
          0.6696574225122349,
          0.6696574225122349,
          0.663132137030995,
          0.663132137030995,
          0.663132137030995,
          0.663132137030995,
          0.663132137030995,
          0.663132137030995,
          0.663132137030995,
          0.6574225122349102,
          0.6574225122349102,
          0.6574225122349102,
          0.6574225122349102,
          0.6574225122349102,
          0.6574225122349102,
          0.6541598694942904,
          0.6541598694942904,
          0.6541598694942904,
          0.6525285481239804,
          0.6525285481239804,
          0.6525285481239804,
          0.6525285481239804,
          0.6468189233278956,
          0.6411092985318108,
          0.6411092985318108,
          0.6411092985318108,
          0.6411092985318108,
          0.6411092985318108,
          0.6411092985318108,
          0.6370309951060359,
          0.6370309951060359,
          0.6370309951060359,
          0.6370309951060359,
          0.6256117455138662,
          0.6256117455138662,
          0.6256117455138662,
          0.6256117455138662,
          0.6256117455138662,
          0.6158238172920065,
          0.6158238172920065,
          0.6158238172920065,
          0.6133768352365416,
          0.6133768352365416,
          0.6133768352365416,
          0.6133768352365416,
          0.6092985318107667,
          0.6092985318107667,
          0.6092985318107667,
          0.6068515497553018,
          0.6068515497553018,
          0.5995106035889071,
          0.5995106035889071,
          0.5995106035889071,
          0.5995106035889071,
          0.5995106035889071,
          0.5995106035889071,
          0.5954323001631321,
          0.5954323001631321,
          0.5954323001631321,
          0.5889070146818923,
          0.5889070146818923,
          0.5848287112561175,
          0.5848287112561175,
          0.5848287112561175,
          0.5848287112561175,
          0.5831973898858075,
          0.5831973898858075,
          0.5783034257748776,
          0.5734094616639478,
          0.5734094616639478,
          0.5652528548123981,
          0.5522022838499184,
          0.5522022838499184,
          0.5522022838499184,
          0.5456769983686787,
          0.5456769983686787,
          0.5456769983686787,
          0.5415986949429037,
          0.5350734094616639,
          0.5293637846655791,
          0.5293637846655791,
          0.5277324632952691,
          0.5220228384991843,
          0.5220228384991843,
          0.5220228384991843,
          0.5220228384991843,
          0.5138662316476346,
          0.5138662316476346,
          0.5138662316476346,
          0.5138662316476346,
          0.5081566068515497,
          0.5081566068515497,
          0.5032626427406199,
          0.4877650897226754,
          0.47389885807504073,
          0.45676998368678634,
          0.44698205546492664,
          0.43964110929853184,
          0.4290375203915171,
          0.42006525285481244,
          0.39314845024469824,
          0.0
         ],
         "xaxis": "x",
         "y": [
          1.0,
          1.0,
          1.0,
          1.0,
          1.0,
          1.0,
          1.0,
          1.0,
          1.0,
          1.0,
          1.0,
          1.0,
          1.0,
          1.0,
          1.0,
          1.0,
          1.0,
          1.0,
          1.0,
          1.0,
          1.0,
          1.0,
          1.0,
          1.0,
          1.0,
          1.0,
          1.0,
          1.0,
          1.0,
          1.0,
          1.0,
          1.0,
          1.0,
          1.0,
          1.0,
          1.0,
          1.0,
          1.0,
          1.0,
          1.0,
          1.0,
          1.0,
          1.0,
          1.0,
          1.0,
          1.0,
          1.0,
          1.0,
          1.0,
          1.0,
          1.0,
          1.0,
          1.0,
          1.0,
          1.0,
          1.0,
          1.0,
          1.0,
          1.0,
          1.0,
          1.0,
          1.0,
          1.0,
          1.0,
          1.0,
          1.0,
          1.0,
          1.0,
          1.0,
          1.0,
          1.0,
          1.0,
          1.0,
          1.0,
          1.0,
          1.0,
          1.0,
          1.0,
          1.0,
          1.0,
          1.0,
          1.0,
          1.0,
          1.0,
          1.0,
          1.0,
          1.0,
          1.0,
          1.0,
          1.0,
          1.0,
          1.0,
          1.0,
          1.0,
          1.0,
          1.0,
          1.0,
          1.0,
          1.0,
          1.0,
          1.0,
          1.0,
          1.0,
          1.0,
          1.0,
          1.0,
          1.0,
          1.0,
          1.0,
          1.0,
          1.0,
          1.0,
          1.0,
          1.0,
          1.0,
          1.0,
          1.0,
          1.0,
          1.0,
          1.0,
          1.0,
          1.0,
          1.0,
          1.0,
          1.0,
          1.0,
          1.0,
          1.0,
          1.0,
          1.0,
          1.0,
          1.0,
          1.0,
          1.0,
          1.0,
          1.0,
          1.0,
          1.0,
          1.0,
          1.0,
          1.0,
          1.0,
          1.0,
          1.0,
          1.0,
          1.0,
          1.0,
          1.0,
          1.0,
          1.0,
          1.0,
          1.0,
          1.0,
          1.0,
          1.0,
          1.0,
          1.0,
          1.0,
          1.0,
          1.0,
          1.0,
          1.0,
          1.0,
          1.0,
          1.0,
          1.0,
          1.0,
          1.0,
          1.0,
          1.0,
          1.0,
          1.0,
          1.0,
          1.0,
          1.0,
          1.0,
          1.0,
          1.0,
          1.0,
          1.0,
          1.0,
          1.0,
          1.0,
          1.0,
          1.0,
          1.0,
          1.0,
          1.0,
          1.0,
          1.0,
          1.0,
          1.0,
          1.0,
          1.0,
          1.0,
          1.0,
          1.0,
          1.0,
          1.0,
          1.0,
          1.0,
          1.0,
          1.0,
          1.0,
          1.0,
          1.0,
          1.0,
          1.0,
          1.0,
          1.0,
          1.0,
          1.0,
          1.0,
          1.0,
          1.0,
          1.0,
          1.0,
          1.0,
          1.0,
          1.0,
          1.0,
          1.0,
          1.0,
          1.0,
          1.0,
          1.0,
          1.0,
          1.0,
          1.0,
          1.0,
          1.0,
          1.0,
          1.0,
          1.0,
          1.0,
          1.0,
          1.0,
          1.0,
          1.0,
          1.0,
          1.0,
          1.0,
          1.0,
          1.0,
          1.0,
          1.0,
          1.0,
          1.0,
          1.0,
          1.0,
          1.0,
          1.0,
          1.0,
          1.0,
          1.0,
          1.0,
          1.0,
          1.0,
          1.0,
          1.0,
          1.0,
          1.0,
          1.0,
          1.0,
          1.0,
          1.0,
          1.0,
          1.0,
          1.0,
          1.0,
          1.0,
          1.0,
          1.0,
          1.0,
          1.0,
          1.0,
          1.0,
          1.0,
          1.0,
          1.0,
          1.0,
          1.0,
          1.0,
          1.0,
          1.0,
          1.0,
          1.0,
          1.0,
          1.0,
          1.0,
          1.0,
          1.0,
          1.0,
          1.0,
          1.0,
          1.0,
          1.0,
          1.0,
          1.0,
          1.0,
          1.0,
          1.0,
          1.0,
          1.0,
          1.0,
          1.0,
          1.0,
          1.0,
          1.0,
          1.0,
          1.0,
          1.0,
          1.0,
          1.0,
          1.0,
          1.0,
          1.0,
          1.0,
          1.0,
          1.0,
          1.0,
          1.0,
          1.0,
          1.0,
          1.0,
          1.0,
          1.0,
          1.0,
          1.0,
          1.0,
          1.0,
          1.0,
          1.0,
          1.0,
          1.0,
          1.0,
          1.0,
          1.0,
          1.0,
          1.0,
          1.0,
          1.0,
          1.0,
          1.0,
          1.0,
          1.0,
          1.0,
          1.0,
          1.0,
          1.0,
          1.0,
          1.0,
          1.0,
          1.0,
          1.0,
          1.0,
          1.0,
          1.0,
          1.0,
          1.0,
          1.0,
          1.0,
          1.0,
          1.0,
          1.0,
          1.0,
          1.0,
          1.0,
          1.0,
          1.0,
          1.0,
          1.0,
          1.0,
          1.0,
          1.0,
          1.0,
          1.0,
          1.0,
          1.0,
          1.0,
          1.0,
          1.0,
          1.0,
          1.0,
          1.0,
          1.0,
          1.0,
          1.0,
          1.0,
          1.0,
          1.0,
          1.0,
          1.0,
          1.0,
          1.0,
          1.0,
          1.0,
          1.0,
          1.0,
          1.0,
          1.0,
          1.0,
          1.0,
          1.0,
          1.0,
          1.0,
          1.0,
          1.0,
          1.0,
          1.0,
          1.0,
          1.0,
          1.0,
          1.0,
          1.0,
          1.0,
          1.0,
          1.0,
          1.0,
          1.0,
          1.0,
          1.0,
          1.0,
          1.0,
          1.0,
          1.0,
          1.0,
          1.0,
          1.0,
          1.0,
          1.0,
          1.0,
          1.0,
          1.0,
          1.0,
          1.0,
          1.0,
          1.0,
          1.0,
          1.0,
          1.0,
          1.0,
          1.0,
          1.0,
          1.0,
          1.0,
          1.0,
          1.0,
          1.0,
          1.0,
          1.0,
          1.0,
          1.0,
          1.0,
          1.0,
          1.0,
          1.0,
          1.0,
          1.0,
          1.0,
          1.0,
          1.0,
          1.0,
          1.0,
          1.0,
          1.0,
          1.0,
          1.0,
          1.0,
          1.0,
          1.0,
          1.0,
          1.0,
          1.0,
          1.0,
          1.0,
          1.0,
          1.0,
          1.0,
          1.0,
          1.0,
          1.0,
          1.0,
          1.0,
          1.0,
          1.0,
          1.0,
          1.0,
          1.0,
          1.0,
          1.0,
          1.0,
          1.0,
          1.0,
          1.0,
          1.0,
          1.0,
          1.0,
          1.0,
          1.0,
          1.0,
          1.0,
          1.0,
          1.0,
          1.0,
          1.0,
          1.0,
          1.0,
          1.0,
          1.0,
          1.0,
          0.9910714285714286,
          0.9910714285714286,
          0.9910714285714286,
          0.9910714285714286,
          0.9910714285714286,
          0.9910714285714286,
          0.9910714285714286,
          0.9910714285714286,
          0.9910714285714286,
          0.9910714285714286,
          0.9910714285714286,
          0.9910714285714286,
          0.9910714285714286,
          0.9910714285714286,
          0.9910714285714286,
          0.9866071428571429,
          0.9866071428571429,
          0.9866071428571429,
          0.9866071428571429,
          0.9866071428571429,
          0.9866071428571429,
          0.9866071428571429,
          0.9866071428571429,
          0.9866071428571429,
          0.9866071428571429,
          0.9866071428571429,
          0.9866071428571429,
          0.9866071428571429,
          0.9866071428571429,
          0.9866071428571429,
          0.9866071428571429,
          0.9866071428571429,
          0.9866071428571429,
          0.9866071428571429,
          0.9866071428571429,
          0.9866071428571429,
          0.9866071428571429,
          0.9866071428571429,
          0.9866071428571429,
          0.9866071428571429,
          0.9866071428571429,
          0.9866071428571429,
          0.9866071428571429,
          0.9866071428571429,
          0.9866071428571429,
          0.9866071428571429,
          0.9866071428571429,
          0.9866071428571429,
          0.9866071428571429,
          0.9866071428571429,
          0.9866071428571429,
          0.9866071428571429,
          0.9866071428571429,
          0.9866071428571429,
          0.9866071428571429,
          0.9866071428571429,
          0.9866071428571429,
          0.9866071428571429,
          0.9866071428571429,
          0.9866071428571429,
          0.9866071428571429,
          0.9866071428571429,
          0.9866071428571429,
          0.9866071428571429,
          0.9866071428571429,
          0.9866071428571429,
          0.9866071428571429,
          0.9866071428571429,
          0.9866071428571429,
          0.9866071428571429,
          0.9866071428571429,
          0.9866071428571429,
          0.9866071428571429,
          0.9776785714285714,
          0.9776785714285714,
          0.9776785714285714,
          0.9776785714285714,
          0.9776785714285714,
          0.9776785714285714,
          0.9776785714285714,
          0.9776785714285714,
          0.9732142857142857,
          0.9732142857142857,
          0.9732142857142857,
          0.9732142857142857,
          0.9732142857142857,
          0.9732142857142857,
          0.9732142857142857,
          0.9732142857142857,
          0.9732142857142857,
          0.9732142857142857,
          0.9732142857142857,
          0.9732142857142857,
          0.9732142857142857,
          0.9732142857142857,
          0.9732142857142857,
          0.9732142857142857,
          0.9732142857142857,
          0.9732142857142857,
          0.9732142857142857,
          0.9732142857142857,
          0.9732142857142857,
          0.9732142857142857,
          0.9732142857142857,
          0.9732142857142857,
          0.96875,
          0.96875,
          0.96875,
          0.96875,
          0.96875,
          0.96875,
          0.96875,
          0.96875,
          0.9642857142857143,
          0.9642857142857143,
          0.9642857142857143,
          0.9642857142857143,
          0.9642857142857143,
          0.9642857142857143,
          0.9642857142857143,
          0.9642857142857143,
          0.9642857142857143,
          0.9642857142857143,
          0.9642857142857143,
          0.9642857142857143,
          0.9642857142857143,
          0.9598214285714286,
          0.9598214285714286,
          0.9598214285714286,
          0.9598214285714286,
          0.9598214285714286,
          0.9598214285714286,
          0.9598214285714286,
          0.9598214285714286,
          0.9598214285714286,
          0.9598214285714286,
          0.9598214285714286,
          0.9598214285714286,
          0.9598214285714286,
          0.9598214285714286,
          0.9598214285714286,
          0.9598214285714286,
          0.9598214285714286,
          0.9598214285714286,
          0.9553571428571429,
          0.9553571428571429,
          0.9553571428571429,
          0.9553571428571429,
          0.9553571428571429,
          0.9553571428571429,
          0.9553571428571429,
          0.9553571428571429,
          0.9553571428571429,
          0.9553571428571429,
          0.9553571428571429,
          0.9553571428571429,
          0.9553571428571429,
          0.9553571428571429,
          0.9553571428571429,
          0.9553571428571429,
          0.9553571428571429,
          0.9553571428571429,
          0.9553571428571429,
          0.9553571428571429,
          0.9553571428571429,
          0.9553571428571429,
          0.9553571428571429,
          0.9553571428571429,
          0.9553571428571429,
          0.9553571428571429,
          0.9508928571428571,
          0.9508928571428571,
          0.9508928571428571,
          0.9508928571428571,
          0.9508928571428571,
          0.9508928571428571,
          0.9508928571428571,
          0.9508928571428571,
          0.9508928571428571,
          0.9508928571428571,
          0.9508928571428571,
          0.9508928571428571,
          0.9508928571428571,
          0.9508928571428571,
          0.9508928571428571,
          0.9508928571428571,
          0.9508928571428571,
          0.9508928571428571,
          0.9508928571428571,
          0.9508928571428571,
          0.9508928571428571,
          0.9508928571428571,
          0.9508928571428571,
          0.9508928571428571,
          0.9508928571428571,
          0.9508928571428571,
          0.9508928571428571,
          0.9508928571428571,
          0.9508928571428571,
          0.9508928571428571,
          0.9508928571428571,
          0.9508928571428571,
          0.9508928571428571,
          0.9508928571428571,
          0.9508928571428571,
          0.9508928571428571,
          0.9508928571428571,
          0.9508928571428571,
          0.9508928571428571,
          0.9508928571428571,
          0.9508928571428571,
          0.9508928571428571,
          0.9508928571428571,
          0.9508928571428571,
          0.9508928571428571,
          0.9508928571428571,
          0.9508928571428571,
          0.9508928571428571,
          0.9508928571428571,
          0.9508928571428571,
          0.9419642857142857,
          0.9419642857142857,
          0.9419642857142857,
          0.9419642857142857,
          0.9419642857142857,
          0.9419642857142857,
          0.9419642857142857,
          0.9419642857142857,
          0.9419642857142857,
          0.9419642857142857,
          0.9419642857142857,
          0.9419642857142857,
          0.9419642857142857,
          0.9419642857142857,
          0.9419642857142857,
          0.9419642857142857,
          0.9419642857142857,
          0.9330357142857143,
          0.9330357142857143,
          0.9330357142857143,
          0.9330357142857143,
          0.9330357142857143,
          0.9330357142857143,
          0.9330357142857143,
          0.9330357142857143,
          0.9330357142857143,
          0.9330357142857143,
          0.9330357142857143,
          0.9330357142857143,
          0.9330357142857143,
          0.9330357142857143,
          0.9196428571428571,
          0.9196428571428571,
          0.9196428571428571,
          0.9196428571428571,
          0.9196428571428571,
          0.9196428571428571,
          0.9196428571428571,
          0.9151785714285714,
          0.9151785714285714,
          0.9151785714285714,
          0.9151785714285714,
          0.9151785714285714,
          0.9151785714285714,
          0.9151785714285714,
          0.9151785714285714,
          0.9151785714285714,
          0.9151785714285714,
          0.9151785714285714,
          0.9151785714285714,
          0.9151785714285714,
          0.9151785714285714,
          0.9151785714285714,
          0.9151785714285714,
          0.9151785714285714,
          0.9151785714285714,
          0.9151785714285714,
          0.9151785714285714,
          0.9151785714285714,
          0.9151785714285714,
          0.9151785714285714,
          0.9151785714285714,
          0.9151785714285714,
          0.9151785714285714,
          0.9151785714285714,
          0.9151785714285714,
          0.9151785714285714,
          0.9151785714285714,
          0.9151785714285714,
          0.9151785714285714,
          0.9151785714285714,
          0.9107142857142857,
          0.9107142857142857,
          0.9107142857142857,
          0.9107142857142857,
          0.9107142857142857,
          0.9107142857142857,
          0.9107142857142857,
          0.9107142857142857,
          0.9107142857142857,
          0.9107142857142857,
          0.9107142857142857,
          0.9107142857142857,
          0.9107142857142857,
          0.9107142857142857,
          0.9107142857142857,
          0.9017857142857143,
          0.9017857142857143,
          0.9017857142857143,
          0.9017857142857143,
          0.9017857142857143,
          0.9017857142857143,
          0.8839285714285714,
          0.8839285714285714,
          0.8839285714285714,
          0.8839285714285714,
          0.8839285714285714,
          0.8839285714285714,
          0.8839285714285714,
          0.8839285714285714,
          0.8839285714285714,
          0.8839285714285714,
          0.8839285714285714,
          0.875,
          1.0,
          1.0,
          1.0,
          1.0,
          1.0,
          1.0,
          1.0,
          1.0,
          1.0,
          1.0,
          1.0,
          1.0,
          1.0,
          1.0,
          1.0,
          1.0,
          1.0,
          1.0,
          1.0,
          1.0,
          1.0,
          1.0,
          1.0,
          1.0,
          1.0,
          1.0,
          1.0,
          1.0,
          1.0,
          1.0,
          1.0,
          1.0,
          1.0,
          1.0,
          1.0,
          1.0,
          1.0,
          1.0,
          1.0,
          1.0,
          1.0,
          1.0,
          1.0,
          1.0,
          1.0,
          1.0,
          1.0,
          1.0,
          1.0,
          1.0,
          1.0,
          1.0,
          1.0,
          1.0,
          1.0,
          1.0,
          1.0,
          1.0,
          1.0,
          1.0,
          1.0,
          1.0,
          1.0,
          1.0,
          1.0,
          1.0,
          1.0,
          1.0,
          1.0,
          1.0,
          1.0,
          1.0,
          1.0,
          1.0,
          1.0,
          1.0,
          1.0,
          1.0,
          1.0,
          1.0,
          1.0,
          1.0,
          1.0,
          1.0,
          1.0,
          1.0,
          1.0,
          1.0,
          1.0,
          1.0,
          1.0,
          1.0,
          1.0,
          1.0,
          1.0,
          1.0,
          1.0,
          1.0,
          1.0,
          1.0,
          1.0,
          1.0,
          1.0,
          1.0,
          1.0,
          1.0,
          1.0,
          1.0,
          1.0,
          1.0,
          1.0,
          1.0,
          1.0,
          1.0,
          1.0,
          1.0,
          1.0,
          1.0,
          1.0,
          1.0,
          1.0,
          1.0,
          1.0,
          1.0,
          1.0,
          1.0,
          1.0,
          1.0,
          1.0,
          1.0,
          1.0,
          1.0,
          1.0,
          1.0,
          1.0,
          1.0,
          1.0,
          1.0,
          1.0,
          1.0,
          1.0,
          1.0,
          1.0,
          1.0,
          1.0,
          1.0,
          1.0,
          1.0,
          1.0,
          1.0,
          1.0,
          1.0,
          1.0,
          1.0,
          1.0,
          1.0,
          1.0,
          1.0,
          1.0,
          1.0,
          1.0,
          1.0,
          1.0,
          1.0,
          1.0,
          1.0,
          1.0,
          1.0,
          1.0,
          1.0,
          1.0,
          1.0,
          1.0,
          1.0,
          1.0,
          1.0,
          1.0,
          1.0,
          1.0,
          1.0,
          1.0,
          1.0,
          1.0,
          1.0,
          1.0,
          1.0,
          1.0,
          1.0,
          1.0,
          1.0,
          1.0,
          1.0,
          1.0,
          1.0,
          1.0,
          1.0,
          1.0,
          1.0,
          1.0,
          1.0,
          1.0,
          1.0,
          1.0,
          1.0,
          1.0,
          1.0,
          1.0,
          1.0,
          1.0,
          1.0,
          1.0,
          1.0,
          1.0,
          1.0,
          1.0,
          1.0,
          1.0,
          1.0,
          1.0,
          1.0,
          1.0,
          1.0,
          1.0,
          1.0,
          1.0,
          1.0,
          1.0,
          1.0,
          1.0,
          1.0,
          1.0,
          1.0,
          1.0,
          1.0,
          1.0,
          1.0,
          1.0,
          1.0,
          1.0,
          1.0,
          1.0,
          1.0,
          1.0,
          1.0,
          1.0,
          1.0,
          1.0,
          1.0,
          1.0,
          1.0,
          1.0,
          1.0,
          1.0,
          1.0,
          1.0,
          1.0,
          1.0,
          1.0,
          1.0,
          1.0,
          1.0,
          1.0,
          1.0,
          1.0,
          1.0,
          1.0,
          1.0,
          1.0,
          1.0,
          1.0,
          1.0,
          1.0,
          1.0,
          1.0,
          1.0,
          1.0,
          1.0,
          1.0,
          1.0,
          1.0,
          1.0,
          1.0,
          1.0,
          1.0,
          1.0,
          1.0,
          1.0,
          1.0,
          1.0,
          1.0,
          1.0,
          1.0,
          1.0,
          1.0,
          1.0,
          1.0,
          1.0,
          1.0,
          1.0,
          1.0,
          1.0,
          1.0,
          1.0,
          1.0,
          1.0,
          1.0,
          1.0,
          1.0,
          1.0,
          1.0,
          1.0,
          1.0,
          1.0,
          1.0,
          1.0,
          1.0,
          1.0,
          1.0,
          1.0,
          1.0,
          1.0,
          1.0,
          1.0,
          1.0,
          1.0,
          1.0,
          1.0,
          1.0,
          1.0,
          1.0,
          1.0,
          1.0,
          1.0,
          1.0,
          1.0,
          1.0,
          1.0,
          1.0,
          1.0,
          1.0,
          1.0,
          1.0,
          1.0,
          1.0,
          1.0,
          1.0,
          1.0,
          1.0,
          1.0,
          1.0,
          1.0,
          1.0,
          1.0,
          1.0,
          1.0,
          1.0,
          1.0,
          1.0,
          1.0,
          1.0,
          1.0,
          1.0,
          1.0,
          1.0,
          1.0,
          1.0,
          1.0,
          1.0,
          1.0,
          1.0,
          1.0,
          1.0,
          1.0,
          1.0,
          1.0,
          1.0,
          1.0,
          1.0,
          1.0,
          1.0,
          1.0,
          1.0,
          1.0,
          1.0,
          1.0,
          1.0,
          1.0,
          1.0,
          1.0,
          1.0,
          1.0,
          1.0,
          1.0,
          1.0,
          1.0,
          1.0,
          1.0,
          1.0,
          1.0,
          1.0,
          1.0,
          1.0,
          1.0,
          1.0,
          1.0,
          1.0,
          1.0,
          1.0,
          1.0,
          1.0,
          1.0,
          1.0,
          1.0,
          1.0,
          1.0,
          1.0,
          1.0,
          1.0,
          1.0,
          1.0,
          1.0,
          1.0,
          1.0,
          1.0,
          1.0,
          1.0,
          1.0,
          1.0,
          1.0,
          1.0,
          1.0,
          1.0,
          1.0,
          1.0,
          1.0,
          1.0,
          1.0,
          1.0,
          1.0,
          1.0,
          1.0,
          1.0,
          1.0,
          1.0,
          1.0,
          1.0,
          1.0,
          1.0,
          1.0,
          1.0,
          1.0,
          1.0,
          1.0,
          1.0,
          1.0,
          1.0,
          1.0,
          1.0,
          1.0,
          1.0,
          1.0,
          1.0,
          1.0,
          1.0,
          1.0,
          1.0,
          1.0,
          1.0,
          1.0,
          1.0,
          1.0,
          1.0,
          1.0,
          1.0,
          1.0,
          1.0,
          1.0,
          1.0,
          1.0,
          1.0,
          1.0,
          1.0,
          1.0,
          1.0,
          1.0,
          1.0,
          1.0,
          1.0,
          1.0,
          1.0,
          1.0,
          1.0,
          1.0,
          1.0,
          1.0,
          1.0,
          1.0,
          1.0,
          1.0,
          1.0,
          1.0,
          1.0,
          1.0,
          1.0,
          1.0,
          1.0,
          1.0,
          1.0,
          1.0,
          1.0,
          1.0,
          1.0,
          1.0,
          1.0,
          1.0,
          1.0,
          1.0,
          1.0,
          1.0,
          1.0,
          1.0,
          1.0,
          1.0,
          1.0,
          1.0,
          1.0,
          1.0,
          1.0,
          1.0,
          1.0,
          1.0,
          1.0,
          1.0,
          1.0,
          1.0,
          1.0,
          1.0,
          1.0,
          1.0,
          1.0,
          1.0,
          1.0,
          1.0,
          1.0,
          1.0,
          1.0,
          1.0,
          1.0,
          1.0,
          1.0,
          1.0,
          1.0,
          1.0,
          1.0,
          1.0,
          1.0,
          1.0,
          1.0,
          1.0,
          1.0,
          1.0,
          1.0,
          1.0,
          1.0,
          1.0,
          1.0,
          1.0,
          1.0,
          1.0,
          1.0,
          1.0,
          1.0,
          1.0,
          1.0,
          1.0,
          0.9910714285714286,
          0.9910714285714286,
          0.9910714285714286,
          0.9910714285714286,
          0.9910714285714286,
          0.9910714285714286,
          0.9910714285714286,
          0.9866071428571429,
          0.9866071428571429,
          0.9866071428571429,
          0.9866071428571429,
          0.9866071428571429,
          0.9866071428571429,
          0.9866071428571429,
          0.9866071428571429,
          0.9866071428571429,
          0.9866071428571429,
          0.9866071428571429,
          0.9866071428571429,
          0.9866071428571429,
          0.9776785714285714,
          0.9732142857142857,
          0.9732142857142857,
          0.9732142857142857,
          0.9732142857142857,
          0.9732142857142857,
          0.9732142857142857,
          0.9732142857142857,
          0.9732142857142857,
          0.9732142857142857,
          0.9732142857142857,
          0.96875,
          0.9598214285714286,
          0.9553571428571429,
          0.9553571428571429,
          0.9508928571428571,
          0.9508928571428571,
          0.9508928571428571,
          0.9508928571428571,
          0.9196428571428571,
          0.0
         ],
         "yaxis": "y",
         "type": "scatter"
        }
       ],
       "layout": {
        "template": {
         "data": {
          "barpolar": [
           {
            "marker": {
             "line": {
              "color": "rgb(17,17,17)",
              "width": 0.5
             },
             "pattern": {
              "fillmode": "overlay",
              "size": 10,
              "solidity": 0.2
             }
            },
            "type": "barpolar"
           }
          ],
          "bar": [
           {
            "error_x": {
             "color": "#f2f5fa"
            },
            "error_y": {
             "color": "#f2f5fa"
            },
            "marker": {
             "line": {
              "color": "rgb(17,17,17)",
              "width": 0.5
             },
             "pattern": {
              "fillmode": "overlay",
              "size": 10,
              "solidity": 0.2
             }
            },
            "type": "bar"
           }
          ],
          "carpet": [
           {
            "aaxis": {
             "endlinecolor": "#A2B1C6",
             "gridcolor": "#506784",
             "linecolor": "#506784",
             "minorgridcolor": "#506784",
             "startlinecolor": "#A2B1C6"
            },
            "baxis": {
             "endlinecolor": "#A2B1C6",
             "gridcolor": "#506784",
             "linecolor": "#506784",
             "minorgridcolor": "#506784",
             "startlinecolor": "#A2B1C6"
            },
            "type": "carpet"
           }
          ],
          "choropleth": [
           {
            "colorbar": {
             "outlinewidth": 0,
             "ticks": ""
            },
            "type": "choropleth"
           }
          ],
          "contourcarpet": [
           {
            "colorbar": {
             "outlinewidth": 0,
             "ticks": ""
            },
            "type": "contourcarpet"
           }
          ],
          "contour": [
           {
            "colorbar": {
             "outlinewidth": 0,
             "ticks": ""
            },
            "colorscale": [
             [
              0.0,
              "#0d0887"
             ],
             [
              0.1111111111111111,
              "#46039f"
             ],
             [
              0.2222222222222222,
              "#7201a8"
             ],
             [
              0.3333333333333333,
              "#9c179e"
             ],
             [
              0.4444444444444444,
              "#bd3786"
             ],
             [
              0.5555555555555556,
              "#d8576b"
             ],
             [
              0.6666666666666666,
              "#ed7953"
             ],
             [
              0.7777777777777778,
              "#fb9f3a"
             ],
             [
              0.8888888888888888,
              "#fdca26"
             ],
             [
              1.0,
              "#f0f921"
             ]
            ],
            "type": "contour"
           }
          ],
          "heatmapgl": [
           {
            "colorbar": {
             "outlinewidth": 0,
             "ticks": ""
            },
            "colorscale": [
             [
              0.0,
              "#0d0887"
             ],
             [
              0.1111111111111111,
              "#46039f"
             ],
             [
              0.2222222222222222,
              "#7201a8"
             ],
             [
              0.3333333333333333,
              "#9c179e"
             ],
             [
              0.4444444444444444,
              "#bd3786"
             ],
             [
              0.5555555555555556,
              "#d8576b"
             ],
             [
              0.6666666666666666,
              "#ed7953"
             ],
             [
              0.7777777777777778,
              "#fb9f3a"
             ],
             [
              0.8888888888888888,
              "#fdca26"
             ],
             [
              1.0,
              "#f0f921"
             ]
            ],
            "type": "heatmapgl"
           }
          ],
          "heatmap": [
           {
            "colorbar": {
             "outlinewidth": 0,
             "ticks": ""
            },
            "colorscale": [
             [
              0.0,
              "#0d0887"
             ],
             [
              0.1111111111111111,
              "#46039f"
             ],
             [
              0.2222222222222222,
              "#7201a8"
             ],
             [
              0.3333333333333333,
              "#9c179e"
             ],
             [
              0.4444444444444444,
              "#bd3786"
             ],
             [
              0.5555555555555556,
              "#d8576b"
             ],
             [
              0.6666666666666666,
              "#ed7953"
             ],
             [
              0.7777777777777778,
              "#fb9f3a"
             ],
             [
              0.8888888888888888,
              "#fdca26"
             ],
             [
              1.0,
              "#f0f921"
             ]
            ],
            "type": "heatmap"
           }
          ],
          "histogram2dcontour": [
           {
            "colorbar": {
             "outlinewidth": 0,
             "ticks": ""
            },
            "colorscale": [
             [
              0.0,
              "#0d0887"
             ],
             [
              0.1111111111111111,
              "#46039f"
             ],
             [
              0.2222222222222222,
              "#7201a8"
             ],
             [
              0.3333333333333333,
              "#9c179e"
             ],
             [
              0.4444444444444444,
              "#bd3786"
             ],
             [
              0.5555555555555556,
              "#d8576b"
             ],
             [
              0.6666666666666666,
              "#ed7953"
             ],
             [
              0.7777777777777778,
              "#fb9f3a"
             ],
             [
              0.8888888888888888,
              "#fdca26"
             ],
             [
              1.0,
              "#f0f921"
             ]
            ],
            "type": "histogram2dcontour"
           }
          ],
          "histogram2d": [
           {
            "colorbar": {
             "outlinewidth": 0,
             "ticks": ""
            },
            "colorscale": [
             [
              0.0,
              "#0d0887"
             ],
             [
              0.1111111111111111,
              "#46039f"
             ],
             [
              0.2222222222222222,
              "#7201a8"
             ],
             [
              0.3333333333333333,
              "#9c179e"
             ],
             [
              0.4444444444444444,
              "#bd3786"
             ],
             [
              0.5555555555555556,
              "#d8576b"
             ],
             [
              0.6666666666666666,
              "#ed7953"
             ],
             [
              0.7777777777777778,
              "#fb9f3a"
             ],
             [
              0.8888888888888888,
              "#fdca26"
             ],
             [
              1.0,
              "#f0f921"
             ]
            ],
            "type": "histogram2d"
           }
          ],
          "histogram": [
           {
            "marker": {
             "pattern": {
              "fillmode": "overlay",
              "size": 10,
              "solidity": 0.2
             }
            },
            "type": "histogram"
           }
          ],
          "mesh3d": [
           {
            "colorbar": {
             "outlinewidth": 0,
             "ticks": ""
            },
            "type": "mesh3d"
           }
          ],
          "parcoords": [
           {
            "line": {
             "colorbar": {
              "outlinewidth": 0,
              "ticks": ""
             }
            },
            "type": "parcoords"
           }
          ],
          "pie": [
           {
            "automargin": true,
            "type": "pie"
           }
          ],
          "scatter3d": [
           {
            "line": {
             "colorbar": {
              "outlinewidth": 0,
              "ticks": ""
             }
            },
            "marker": {
             "colorbar": {
              "outlinewidth": 0,
              "ticks": ""
             }
            },
            "type": "scatter3d"
           }
          ],
          "scattercarpet": [
           {
            "marker": {
             "colorbar": {
              "outlinewidth": 0,
              "ticks": ""
             }
            },
            "type": "scattercarpet"
           }
          ],
          "scattergeo": [
           {
            "marker": {
             "colorbar": {
              "outlinewidth": 0,
              "ticks": ""
             }
            },
            "type": "scattergeo"
           }
          ],
          "scattergl": [
           {
            "marker": {
             "line": {
              "color": "#283442"
             }
            },
            "type": "scattergl"
           }
          ],
          "scattermapbox": [
           {
            "marker": {
             "colorbar": {
              "outlinewidth": 0,
              "ticks": ""
             }
            },
            "type": "scattermapbox"
           }
          ],
          "scatterpolargl": [
           {
            "marker": {
             "colorbar": {
              "outlinewidth": 0,
              "ticks": ""
             }
            },
            "type": "scatterpolargl"
           }
          ],
          "scatterpolar": [
           {
            "marker": {
             "colorbar": {
              "outlinewidth": 0,
              "ticks": ""
             }
            },
            "type": "scatterpolar"
           }
          ],
          "scatter": [
           {
            "marker": {
             "line": {
              "color": "#283442"
             }
            },
            "type": "scatter"
           }
          ],
          "scatterternary": [
           {
            "marker": {
             "colorbar": {
              "outlinewidth": 0,
              "ticks": ""
             }
            },
            "type": "scatterternary"
           }
          ],
          "surface": [
           {
            "colorbar": {
             "outlinewidth": 0,
             "ticks": ""
            },
            "colorscale": [
             [
              0.0,
              "#0d0887"
             ],
             [
              0.1111111111111111,
              "#46039f"
             ],
             [
              0.2222222222222222,
              "#7201a8"
             ],
             [
              0.3333333333333333,
              "#9c179e"
             ],
             [
              0.4444444444444444,
              "#bd3786"
             ],
             [
              0.5555555555555556,
              "#d8576b"
             ],
             [
              0.6666666666666666,
              "#ed7953"
             ],
             [
              0.7777777777777778,
              "#fb9f3a"
             ],
             [
              0.8888888888888888,
              "#fdca26"
             ],
             [
              1.0,
              "#f0f921"
             ]
            ],
            "type": "surface"
           }
          ],
          "table": [
           {
            "cells": {
             "fill": {
              "color": "#506784"
             },
             "line": {
              "color": "rgb(17,17,17)"
             }
            },
            "header": {
             "fill": {
              "color": "#2a3f5f"
             },
             "line": {
              "color": "rgb(17,17,17)"
             }
            },
            "type": "table"
           }
          ]
         },
         "layout": {
          "annotationdefaults": {
           "arrowcolor": "#f2f5fa",
           "arrowhead": 0,
           "arrowwidth": 1
          },
          "autotypenumbers": "strict",
          "coloraxis": {
           "colorbar": {
            "outlinewidth": 0,
            "ticks": ""
           }
          },
          "colorscale": {
           "diverging": [
            [
             0,
             "#8e0152"
            ],
            [
             0.1,
             "#c51b7d"
            ],
            [
             0.2,
             "#de77ae"
            ],
            [
             0.3,
             "#f1b6da"
            ],
            [
             0.4,
             "#fde0ef"
            ],
            [
             0.5,
             "#f7f7f7"
            ],
            [
             0.6,
             "#e6f5d0"
            ],
            [
             0.7,
             "#b8e186"
            ],
            [
             0.8,
             "#7fbc41"
            ],
            [
             0.9,
             "#4d9221"
            ],
            [
             1,
             "#276419"
            ]
           ],
           "sequential": [
            [
             0.0,
             "#0d0887"
            ],
            [
             0.1111111111111111,
             "#46039f"
            ],
            [
             0.2222222222222222,
             "#7201a8"
            ],
            [
             0.3333333333333333,
             "#9c179e"
            ],
            [
             0.4444444444444444,
             "#bd3786"
            ],
            [
             0.5555555555555556,
             "#d8576b"
            ],
            [
             0.6666666666666666,
             "#ed7953"
            ],
            [
             0.7777777777777778,
             "#fb9f3a"
            ],
            [
             0.8888888888888888,
             "#fdca26"
            ],
            [
             1.0,
             "#f0f921"
            ]
           ],
           "sequentialminus": [
            [
             0.0,
             "#0d0887"
            ],
            [
             0.1111111111111111,
             "#46039f"
            ],
            [
             0.2222222222222222,
             "#7201a8"
            ],
            [
             0.3333333333333333,
             "#9c179e"
            ],
            [
             0.4444444444444444,
             "#bd3786"
            ],
            [
             0.5555555555555556,
             "#d8576b"
            ],
            [
             0.6666666666666666,
             "#ed7953"
            ],
            [
             0.7777777777777778,
             "#fb9f3a"
            ],
            [
             0.8888888888888888,
             "#fdca26"
            ],
            [
             1.0,
             "#f0f921"
            ]
           ]
          },
          "colorway": [
           "#636efa",
           "#EF553B",
           "#00cc96",
           "#ab63fa",
           "#FFA15A",
           "#19d3f3",
           "#FF6692",
           "#B6E880",
           "#FF97FF",
           "#FECB52"
          ],
          "font": {
           "color": "#f2f5fa"
          },
          "geo": {
           "bgcolor": "rgb(17,17,17)",
           "lakecolor": "rgb(17,17,17)",
           "landcolor": "rgb(17,17,17)",
           "showlakes": true,
           "showland": true,
           "subunitcolor": "#506784"
          },
          "hoverlabel": {
           "align": "left"
          },
          "hovermode": "closest",
          "mapbox": {
           "style": "dark"
          },
          "paper_bgcolor": "rgb(17,17,17)",
          "plot_bgcolor": "rgb(17,17,17)",
          "polar": {
           "angularaxis": {
            "gridcolor": "#506784",
            "linecolor": "#506784",
            "ticks": ""
           },
           "bgcolor": "rgb(17,17,17)",
           "radialaxis": {
            "gridcolor": "#506784",
            "linecolor": "#506784",
            "ticks": ""
           }
          },
          "scene": {
           "xaxis": {
            "backgroundcolor": "rgb(17,17,17)",
            "gridcolor": "#506784",
            "gridwidth": 2,
            "linecolor": "#506784",
            "showbackground": true,
            "ticks": "",
            "zerolinecolor": "#C8D4E3"
           },
           "yaxis": {
            "backgroundcolor": "rgb(17,17,17)",
            "gridcolor": "#506784",
            "gridwidth": 2,
            "linecolor": "#506784",
            "showbackground": true,
            "ticks": "",
            "zerolinecolor": "#C8D4E3"
           },
           "zaxis": {
            "backgroundcolor": "rgb(17,17,17)",
            "gridcolor": "#506784",
            "gridwidth": 2,
            "linecolor": "#506784",
            "showbackground": true,
            "ticks": "",
            "zerolinecolor": "#C8D4E3"
           }
          },
          "shapedefaults": {
           "line": {
            "color": "#f2f5fa"
           }
          },
          "sliderdefaults": {
           "bgcolor": "#C8D4E3",
           "bordercolor": "rgb(17,17,17)",
           "borderwidth": 1,
           "tickwidth": 0
          },
          "ternary": {
           "aaxis": {
            "gridcolor": "#506784",
            "linecolor": "#506784",
            "ticks": ""
           },
           "baxis": {
            "gridcolor": "#506784",
            "linecolor": "#506784",
            "ticks": ""
           },
           "bgcolor": "rgb(17,17,17)",
           "caxis": {
            "gridcolor": "#506784",
            "linecolor": "#506784",
            "ticks": ""
           }
          },
          "title": {
           "x": 0.05
          },
          "updatemenudefaults": {
           "bgcolor": "#506784",
           "borderwidth": 0
          },
          "xaxis": {
           "automargin": true,
           "gridcolor": "#283442",
           "linecolor": "#506784",
           "ticks": "",
           "title": {
            "standoff": 15
           },
           "zerolinecolor": "#283442",
           "zerolinewidth": 2
          },
          "yaxis": {
           "automargin": true,
           "gridcolor": "#283442",
           "linecolor": "#506784",
           "ticks": "",
           "title": {
            "standoff": 15
           },
           "zerolinecolor": "#283442",
           "zerolinewidth": 2
          }
         }
        },
        "xaxis": {
         "anchor": "y",
         "domain": [
          0.0,
          1.0
         ],
         "title": {
          "text": "1-specificity"
         }
        },
        "yaxis": {
         "anchor": "x",
         "domain": [
          0.0,
          1.0
         ],
         "title": {
          "text": "sensitivity"
         }
        },
        "legend": {
         "tracegroupgap": 0
        },
        "margin": {
         "t": 60
        },
        "shapes": [
         {
          "line": {
           "dash": "dash"
          },
          "type": "line",
          "x0": 0,
          "x1": 1,
          "y0": 0,
          "y1": 1
         }
        ]
       },
       "config": {
        "plotlyServerURL": "https://plot.ly"
       }
      },
      "text/html": "<div>                            <div id=\"f31310e5-cf5d-4cf1-8bb7-8374bb7ed3e3\" class=\"plotly-graph-div\" style=\"height:525px; width:100%;\"></div>            <script type=\"text/javascript\">                require([\"plotly\"], function(Plotly) {                    window.PLOTLYENV=window.PLOTLYENV || {};                                    if (document.getElementById(\"f31310e5-cf5d-4cf1-8bb7-8374bb7ed3e3\")) {                    Plotly.newPlot(                        \"f31310e5-cf5d-4cf1-8bb7-8374bb7ed3e3\",                        [{\"customdata\":[[0.99],[2.0],[4.0],[6.0],[7.0],[7.5],[8.5],[9.5],[10.0],[10.5],[11.5],[12.0],[12.0],[12.5],[13.0],[13.0],[13.0],[13.0],[13.5],[14.0],[14.0],[14.0],[14.0],[14.0],[14.0],[14.0],[14.5],[15.0],[15.0],[15.0],[15.0],[15.5],[16.0],[16.0],[16.0],[16.0],[16.0],[16.0],[16.5],[17.0],[17.0],[17.0],[17.0],[17.0],[17.0],[17.5],[18.0],[18.0],[18.0],[18.0],[18.5],[19.0],[19.0],[19.0],[19.0],[19.0],[19.0],[19.0],[19.0],[19.0],[19.5],[20.0],[20.0],[20.0],[20.0],[20.0],[20.0],[20.0],[20.5],[21.0],[21.5],[22.0],[22.0],[22.5],[23.0],[23.0],[23.0],[23.0],[23.0],[23.0],[23.5],[24.0],[24.0],[24.5],[25.0],[25.0],[25.0],[25.0],[25.0],[25.5],[26.0],[26.0],[26.0],[26.5],[27.0],[27.0],[27.0],[27.0],[27.5],[28.0],[28.0],[28.0],[28.0],[28.5],[29.0],[29.0],[29.0],[29.0],[29.0],[29.0],[29.0],[29.0],[29.0],[29.5],[30.0],[30.0],[30.0],[30.0],[30.0],[30.0],[30.0],[30.5],[31.0],[31.0],[31.0],[31.5],[32.0],[32.0],[32.0],[32.0],[32.0],[32.0],[32.0],[32.0],[32.5],[33.0],[33.0],[33.0],[33.0],[33.0],[33.0],[33.0],[33.0],[33.0],[33.0],[33.5],[34.0],[34.0],[34.0],[34.0],[34.5],[35.0],[35.0],[35.0],[35.0],[35.5],[36.0],[36.0],[36.0],[36.0],[36.0],[36.0],[36.0],[36.0],[36.5],[37.0],[37.0],[37.0],[37.0],[37.0],[37.5],[38.0],[38.0],[38.0],[38.0],[38.0],[38.5],[39.0],[39.0],[39.0],[39.0],[39.0],[39.0],[39.0],[39.0],[39.0],[39.0],[39.0],[39.5],[40.0],[40.0],[40.0],[40.0],[40.0],[40.0],[40.0],[40.0],[40.5],[41.0],[41.0],[41.0],[41.0],[41.0],[41.0],[41.0],[41.0],[41.0],[41.5],[42.0],[42.0],[42.0],[42.0],[42.0],[42.0],[42.0],[42.0],[42.0],[42.0],[42.5],[43.0],[43.0],[43.0],[43.0],[43.0],[43.0],[43.5],[44.0],[44.0],[44.0],[44.0],[44.5],[45.0],[45.0],[45.0],[45.0],[45.0],[45.0],[45.0],[45.0],[45.0],[45.0],[45.0],[45.0],[45.0],[45.5],[46.0],[46.0],[46.0],[46.0],[46.0],[46.0],[46.0],[46.0],[46.0],[46.5],[47.0],[47.0],[47.0],[47.0],[47.0],[47.0],[47.5],[48.0],[48.0],[48.5],[49.0],[49.0],[49.0],[49.0],[49.0],[49.0],[49.0],[49.0],[49.0],[49.5],[50.0],[50.0],[50.0],[50.0],[50.0],[50.0],[50.0],[50.5],[51.0],[51.0],[51.0],[51.0],[51.0],[51.0],[51.0],[51.5],[52.0],[52.0],[52.0],[52.0],[52.0],[52.5],[53.0],[53.0],[53.0],[53.0],[53.5],[54.0],[54.0],[54.0],[54.0],[54.0],[54.0],[54.5],[55.0],[55.0],[55.0],[55.0],[55.0],[55.0],[55.0],[55.0],[55.5],[56.0],[56.0],[56.0],[56.0],[56.0],[56.0],[56.0],[56.5],[57.0],[57.0],[57.0],[57.0],[57.0],[57.0],[57.0],[57.0],[57.5],[58.0],[58.0],[58.0],[58.0],[58.0],[58.0],[58.0],[58.0],[58.5],[59.0],[59.0],[59.0],[59.0],[59.5],[60.0],[60.0],[60.0],[60.0],[60.0],[60.0],[60.0],[60.0],[60.5],[61.0],[61.0],[61.0],[61.0],[61.0],[61.5],[62.0],[62.0],[62.0],[62.5],[63.0],[63.0],[63.0],[63.0],[63.0],[63.0],[63.0],[63.0],[63.5],[64.0],[64.0],[64.0],[64.0],[64.0],[64.0],[64.0],[64.0],[64.5],[65.0],[65.0],[65.0],[65.0],[65.0],[65.0],[65.5],[66.0],[66.0],[66.0],[66.0],[66.0],[66.5],[67.0],[67.0],[67.0],[67.0],[67.0],[67.0],[67.5],[68.0],[68.0],[68.0],[68.0],[68.0],[68.0],[68.0],[68.5],[69.0],[69.0],[69.0],[69.0],[69.0],[69.0],[69.5],[70.0],[70.0],[70.0],[70.5],[71.0],[71.5],[72.0],[72.0],[72.0],[72.0],[72.0],[72.0],[72.5],[73.0],[73.0],[73.0],[73.0],[73.0],[73.0],[73.5],[74.0],[74.0],[74.0],[74.0],[74.5],[75.0],[75.0],[75.0],[75.0],[75.0],[75.0],[75.0],[75.0],[75.0],[75.0],[75.0],[75.0],[75.0],[75.5],[76.0],[76.0],[76.0],[76.0],[76.0],[76.0],[76.0],[76.0],[76.0],[76.0],[76.0],[76.5],[77.0],[77.0],[77.5],[78.0],[78.0],[78.0],[78.0],[78.5],[79.0],[79.0],[79.5],[80.0],[80.0],[80.0],[80.0],[80.0],[80.0],[80.0],[80.0],[80.5],[81.0],[81.0],[81.0],[81.0],[81.5],[82.0],[82.0],[82.0],[82.0],[82.0],[82.0],[82.0],[82.5],[83.0],[83.0],[83.0],[83.0],[83.0],[83.0],[83.5],[84.0],[84.5],[85.0],[85.0],[85.0],[85.0],[85.0],[85.5],[86.0],[86.0],[86.0],[86.0],[86.0],[86.0],[86.5],[87.0],[87.0],[87.0],[87.0],[87.0],[87.0],[87.0],[87.0],[87.0],[87.5],[88.0],[88.0],[88.0],[88.0],[88.0],[88.0],[88.0],[88.5],[89.0],[89.0],[89.0],[89.0],[89.0],[89.0],[89.0],[89.5],[90.0],[90.0],[90.0],[90.0],[90.0],[90.0],[90.0],[90.5],[91.0],[91.0],[91.0],[91.0],[91.5],[92.0],[92.0],[92.0],[92.0],[92.0],[92.0],[92.0],[92.5],[93.0],[93.0],[93.0],[93.0],[93.0],[93.0],[93.5],[94.0],[94.0],[94.0],[94.5],[95.0],[95.0],[95.0],[95.0],[95.0],[95.0],[95.0],[95.5],[96.0],[96.0],[96.0],[96.0],[96.0],[96.0],[96.0],[96.0],[96.0],[96.5],[97.0],[97.0],[97.0],[97.0],[97.0],[97.0],[97.5],[98.0],[98.0],[98.0],[98.0],[98.0],[98.0],[98.5],[99.0],[99.0],[99.0],[99.0],[99.0],[99.0],[99.0],[99.5],[100.0],[100.0],[100.0],[100.0],[100.0],[100.0],[100.0],[100.0],[100.0],[100.0],[100.0],[100.0],[100.5],[101.0],[101.0],[101.0],[101.0],[101.0],[101.0],[101.0],[101.5],[102.0],[102.0],[102.0],[102.0],[102.0],[102.0],[102.0],[102.0],[102.0],[102.5],[103.0],[103.0],[103.0],[103.0],[103.0],[103.0],[103.0],[103.0],[103.0],[103.0],[103.0],[103.5],[104.0],[104.0],[104.0],[104.0],[104.0],[104.0],[104.0],[104.0],[104.5],[105.0],[105.0],[105.0],[105.0],[105.5],[106.0],[106.0],[106.0],[106.0],[106.0],[106.0],[106.0],[106.5],[107.0],[107.0],[107.0],[107.0],[107.0],[107.0],[107.0],[107.0],[107.5],[108.0],[108.0],[108.0],[108.0],[108.0],[108.5],[109.0],[109.0],[109.0],[109.0],[109.0],[109.0],[109.5],[110.0],[110.0],[110.0],[110.0],[110.0],[110.0],[110.5],[111.0],[111.0],[111.0],[111.5],[112.0],[112.0],[112.0],[112.5],[113.0],[113.0],[113.0],[113.0],[113.5],[114.0],[114.0],[114.0],[114.0],[114.5],[115.0],[115.5],[116.0],[116.0],[116.0],[116.0],[116.0],[116.0],[116.0],[116.0],[116.0],[116.5],[117.0],[117.0],[117.0],[117.0],[117.0],[117.0],[117.0],[117.0],[117.5],[118.0],[118.0],[118.0],[118.0],[118.5],[119.0],[119.0],[119.0],[119.0],[119.0],[119.0],[119.5],[120.0],[120.0],[120.0],[120.0],[120.0],[120.0],[120.5],[121.0],[121.0],[121.0],[121.0],[121.0],[121.0],[121.0],[121.0],[121.5],[122.0],[122.0],[122.0],[122.0],[122.0],[122.0],[122.0],[122.0],[122.5],[123.0],[123.0],[123.0],[123.0],[123.0],[123.0],[123.0],[123.5],[124.0],[124.0],[124.0],[124.0],[124.0],[124.5],[125.0],[125.0],[125.0],[125.0],[125.0],[125.0],[125.0],[125.0],[125.5],[126.0],[126.0],[126.0],[126.0],[126.0],[126.5],[127.0],[127.0],[127.0],[127.0],[127.0],[127.0],[127.0],[127.0],[127.0],[127.0],[127.5],[0.0],[0.0],[0.0],[0.0],[0.0],[0.0],[0.0],[0.0],[0.0],[0.5],[1.0],[1.0],[1.0],[1.0],[1.0],[1.0],[1.0],[1.0],[1.5],[2.0],[2.0],[2.0],[2.0],[2.0],[2.0],[2.0],[2.0],[2.0],[2.5],[3.0],[3.0],[3.0],[3.0],[3.0],[3.0],[3.0],[3.0],[3.0],[3.5],[4.0],[4.0],[4.0],[4.0],[4.0],[4.0],[4.0],[4.5],[5.0],[5.0],[5.0],[5.0],[5.0],[5.5],[6.0],[6.0],[6.0],[6.0],[6.5],[7.0],[7.0],[7.0],[7.0],[7.0],[7.0],[7.0],[7.0],[7.5],[8.0],[8.0],[8.0],[8.5],[9.0],[9.0],[9.0],[9.0],[9.0],[9.0],[9.0],[9.0],[9.5],[10.0],[10.0],[10.0],[10.0],[10.0],[10.5],[11.0],[11.0],[11.0],[11.0],[11.0],[11.5],[12.0],[12.0],[12.0],[12.5],[13.0],[13.5],[14.0],[14.0],[14.0],[14.0],[14.0],[14.0],[14.5],[15.0],[15.0],[15.5],[16.0],[16.0],[16.0],[16.0],[16.0],[16.0],[16.0],[16.0],[16.0],[16.0],[16.5],[17.0],[17.0],[17.0],[17.0],[17.0],[17.5],[18.0],[18.0],[18.0],[18.0],[18.0],[18.0],[18.0],[18.0],[18.0],[18.5],[19.0],[19.0],[19.0],[19.5],[20.0],[20.0],[20.0],[20.0],[20.0],[20.0],[20.0],[20.0],[20.0],[20.0],[20.5],[21.0],[21.0],[21.0],[21.0],[21.0],[21.0],[21.5],[22.0],[22.0],[22.0],[22.5],[23.0],[23.0],[23.0],[23.0],[23.5],[24.0],[24.0],[24.0],[24.0],[24.0],[24.0],[24.0],[24.0],[24.0],[24.5],[25.0],[25.0],[25.0],[25.5],[26.0],[26.0],[26.0],[26.0],[26.0],[26.0],[26.0],[26.0],[26.0],[26.0],[26.0],[26.5],[27.0],[27.0],[27.0],[27.0],[27.5],[28.0],[28.0],[28.0],[28.0],[28.0],[28.0],[28.0],[28.0],[28.0],[28.0],[28.5],[29.5],[30.0],[30.0],[30.0],[30.5],[31.0],[31.0],[31.0],[31.0],[31.0],[31.0],[31.5],[32.0],[32.0],[32.0],[32.0],[32.0],[32.0],[32.0],[32.0],[32.0],[32.5],[33.0],[33.0],[33.0],[33.5],[34.0],[34.0],[34.0],[34.0],[34.0],[34.0],[34.0],[34.0],[34.5],[35.0],[35.0],[35.0],[35.0],[35.0],[35.0],[35.5],[36.0],[36.0],[36.0],[36.0],[36.5],[37.0],[37.0],[37.0],[37.0],[37.0],[37.0],[37.0],[37.0],[37.0],[37.5],[38.0],[38.0],[38.0],[38.5],[39.0],[39.0],[39.0],[39.0],[39.0],[39.5],[40.0],[40.0],[40.0],[40.0],[40.0],[40.0],[40.0],[40.0],[40.0],[40.5],[41.0],[41.0],[41.0],[41.0],[41.0],[41.0],[41.0],[41.0],[41.0],[41.5],[42.0],[42.0],[42.0],[42.0],[42.0],[42.0],[42.0],[42.5],[43.0],[43.0],[43.0],[43.0],[43.0],[43.0],[43.5],[44.0],[44.5],[45.0],[45.0],[45.0],[45.0],[45.0],[45.0],[45.0],[45.0],[45.0],[45.0],[45.0],[45.0],[45.0],[45.5],[46.0],[46.0],[46.0],[46.5],[47.0],[47.0],[47.0],[47.0],[47.0],[47.0],[47.0],[47.0],[47.5],[48.0],[48.0],[48.0],[48.0],[48.0],[48.0],[48.0],[48.5],[49.0],[49.0],[49.0],[49.0],[49.0],[49.0],[49.0],[49.0],[49.0],[49.0],[49.5],[50.0],[50.0],[50.0],[50.0],[50.0],[50.0],[50.0],[50.0],[50.0],[50.5],[51.0],[51.0],[51.0],[51.0],[51.0],[51.0],[51.5],[52.0],[52.0],[52.0],[52.0],[52.0],[52.0],[52.0],[52.5],[53.0],[53.0],[53.0],[53.0],[53.0],[53.0],[53.0],[53.0],[53.5],[54.0],[54.0],[54.0],[54.5],[55.0],[55.0],[55.0],[55.0],[55.0],[55.0],[55.0],[55.0],[55.0],[55.0],[55.0],[55.5],[56.0],[56.0],[56.0],[56.0],[56.0],[56.0],[56.0],[56.5],[57.0],[57.0],[57.0],[57.0],[57.0],[57.0],[57.0],[57.5],[58.0],[58.0],[58.0],[58.0],[58.0],[58.0],[58.0],[58.0],[58.0],[58.0],[58.0],[58.0],[58.0],[58.5],[59.0],[59.0],[59.0],[59.0],[59.0],[59.0],[59.0],[59.5],[60.0],[60.0],[60.0],[60.0],[60.0],[60.0],[60.5],[61.0],[61.0],[61.0],[61.0],[61.0],[61.0],[61.0],[61.5],[62.0],[62.0],[62.0],[62.0],[62.0],[62.0],[62.0],[62.0],[62.0],[62.5],[63.0],[63.0],[63.0],[63.0],[63.0],[63.0],[63.0],[63.0],[63.5],[64.0],[64.0],[64.0],[64.0],[64.0],[64.0],[64.5],[65.0],[65.0],[65.0],[65.0],[65.0],[65.0],[65.0],[65.0],[65.0],[65.0],[65.5],[66.0],[66.0],[66.0],[66.0],[66.0],[66.0],[66.0],[66.0],[66.5],[67.0],[67.0],[67.0],[67.0],[67.5],[68.0],[68.0],[68.0],[68.0],[68.5],[69.0],[69.0],[69.0],[69.0],[69.0],[69.0],[69.5],[70.0],[70.0],[70.0],[70.0],[70.0],[70.5],[71.0],[71.0],[71.5],[72.0],[72.0],[72.0],[72.5],[73.5],[74.0],[74.0],[74.0],[74.0],[74.0],[74.5],[75.0],[75.0],[75.0],[75.5],[76.0],[76.0],[76.0],[76.0],[76.5],[77.0],[77.0],[77.5],[78.0],[78.0],[78.0],[78.5],[79.0],[79.0],[79.5],[80.0],[80.5],[81.0],[81.0],[81.0],[81.0],[81.0],[81.5],[82.0],[82.0],[82.5],[83.0],[83.5],[84.0],[84.0],[84.0],[84.5],[85.0],[85.5],[86.5],[87.0],[88.0],[89.5],[90.0],[90.0],[90.5],[91.0],[91.0],[91.5],[93.0],[94.0],[94.0],[94.5],[95.5],[96.0],[96.0],[96.0],[96.5],[97.0],[97.0],[97.0],[97.5],[98.0],[98.5],[100.5],[103.0],[105.0],[107.0],[108.0],[109.5],[111.5],[118.5],[253.01]],\"fillpattern\":{\"shape\":\"\"},\"hovertemplate\":\"1-specificity=%{x:0.2%}<br>sensitivity=%{y:0.2%}<br>threshold=%{customdata[0]}<extra></extra>\",\"legendgroup\":\"\",\"line\":{\"color\":\"#636efa\"},\"marker\":{\"symbol\":\"circle\"},\"mode\":\"lines\",\"name\":\"\",\"orientation\":\"v\",\"showlegend\":false,\"stackgroup\":\"1\",\"x\":[1.0,0.9991843393148451,0.99836867862969,0.9975530179445351,0.9975530179445351,0.9959216965742251,0.9951060358890701,0.9942903752039152,0.9942903752039152,0.9926590538336052,0.9918433931484503,0.9918433931484503,0.9918433931484503,0.9893964110929854,0.9893964110929854,0.9893964110929854,0.9893964110929854,0.9893964110929854,0.9853181076672104,0.9853181076672104,0.9853181076672104,0.9853181076672104,0.9853181076672104,0.9853181076672104,0.9853181076672104,0.9853181076672104,0.9787928221859706,0.9787928221859706,0.9787928221859706,0.9787928221859706,0.9787928221859706,0.9747145187601958,0.9747145187601958,0.9747145187601958,0.9747145187601958,0.9747145187601958,0.9747145187601958,0.9747145187601958,0.9690048939641109,0.9690048939641109,0.9690048939641109,0.9690048939641109,0.9690048939641109,0.9690048939641109,0.9690048939641109,0.9632952691680261,0.9632952691680261,0.9632952691680261,0.9632952691680261,0.9632952691680261,0.9592169657422512,0.9592169657422512,0.9592169657422512,0.9592169657422512,0.9592169657422512,0.9592169657422512,0.9592169657422512,0.9592169657422512,0.9592169657422512,0.9592169657422512,0.9510603588907015,0.9510603588907015,0.9510603588907015,0.9510603588907015,0.9510603588907015,0.9510603588907015,0.9510603588907015,0.9510603588907015,0.9445350734094616,0.9445350734094616,0.9429037520391517,0.9429037520391517,0.9429037520391517,0.9404567699836868,0.9404567699836868,0.9404567699836868,0.9404567699836868,0.9404567699836868,0.9404567699836868,0.9404567699836868,0.9347471451876019,0.9347471451876019,0.9347471451876019,0.932300163132137,0.932300163132137,0.932300163132137,0.932300163132137,0.932300163132137,0.932300163132137,0.9274061990212071,0.9274061990212071,0.9274061990212071,0.9274061990212071,0.9241435562805873,0.9241435562805873,0.9241435562805873,0.9241435562805873,0.9241435562805873,0.9200652528548124,0.9200652528548124,0.9200652528548124,0.9200652528548124,0.9200652528548124,0.9159869494290376,0.9159869494290376,0.9159869494290376,0.9159869494290376,0.9159869494290376,0.9159869494290376,0.9159869494290376,0.9159869494290376,0.9159869494290376,0.9159869494290376,0.9078303425774877,0.9078303425774877,0.9078303425774877,0.9078303425774877,0.9078303425774877,0.9078303425774877,0.9078303425774877,0.9078303425774877,0.901305057096248,0.901305057096248,0.901305057096248,0.901305057096248,0.898042414355628,0.898042414355628,0.898042414355628,0.898042414355628,0.898042414355628,0.898042414355628,0.898042414355628,0.898042414355628,0.898042414355628,0.8907014681892332,0.8907014681892332,0.8907014681892332,0.8907014681892332,0.8907014681892332,0.8907014681892332,0.8907014681892332,0.8907014681892332,0.8907014681892332,0.8907014681892332,0.8907014681892332,0.8817292006525286,0.8817292006525286,0.8817292006525286,0.8817292006525286,0.8817292006525286,0.8776508972267537,0.8776508972267537,0.8776508972267537,0.8776508972267537,0.8776508972267537,0.8735725938009788,0.8735725938009788,0.8735725938009788,0.8735725938009788,0.8735725938009788,0.8735725938009788,0.8735725938009788,0.8735725938009788,0.8735725938009788,0.866231647634584,0.866231647634584,0.866231647634584,0.866231647634584,0.866231647634584,0.866231647634584,0.8613376835236541,0.8613376835236541,0.8613376835236541,0.8613376835236541,0.8613376835236541,0.8613376835236541,0.8564437194127243,0.8564437194127243,0.8564437194127243,0.8564437194127243,0.8564437194127243,0.8564437194127243,0.8564437194127243,0.8564437194127243,0.8564437194127243,0.8564437194127243,0.8564437194127243,0.8564437194127243,0.8466557911908645,0.8466557911908645,0.8466557911908645,0.8466557911908645,0.8466557911908645,0.8466557911908645,0.8466557911908645,0.8466557911908645,0.8466557911908645,0.8393148450244698,0.8393148450244698,0.8393148450244698,0.8393148450244698,0.8393148450244698,0.8393148450244698,0.8393148450244698,0.8393148450244698,0.8393148450244698,0.8393148450244698,0.8311582381729201,0.8311582381729201,0.8311582381729201,0.8311582381729201,0.8311582381729201,0.8311582381729201,0.8311582381729201,0.8311582381729201,0.8311582381729201,0.8311582381729201,0.8311582381729201,0.8221859706362153,0.8221859706362153,0.8221859706362153,0.8221859706362153,0.8221859706362153,0.8221859706362153,0.8221859706362153,0.8164763458401305,0.8164763458401305,0.8164763458401305,0.8164763458401305,0.8164763458401305,0.8123980424143556,0.8123980424143556,0.8123980424143556,0.8123980424143556,0.8123980424143556,0.8123980424143556,0.8123980424143556,0.8123980424143556,0.8123980424143556,0.8123980424143556,0.8123980424143556,0.8123980424143556,0.8123980424143556,0.8123980424143556,0.800978792822186,0.800978792822186,0.800978792822186,0.800978792822186,0.800978792822186,0.800978792822186,0.800978792822186,0.800978792822186,0.800978792822186,0.800978792822186,0.7928221859706363,0.7928221859706363,0.7928221859706363,0.7928221859706363,0.7928221859706363,0.7928221859706363,0.7928221859706363,0.7871125611745514,0.7871125611745514,0.7871125611745514,0.7846655791190864,0.7846655791190864,0.7846655791190864,0.7846655791190864,0.7846655791190864,0.7846655791190864,0.7846655791190864,0.7846655791190864,0.7846655791190864,0.7846655791190864,0.7765089722675367,0.7765089722675367,0.7765089722675367,0.7765089722675367,0.7765089722675367,0.7765089722675367,0.7765089722675367,0.7765089722675367,0.7699836867862969,0.7699836867862969,0.7699836867862969,0.7699836867862969,0.7699836867862969,0.7699836867862969,0.7699836867862969,0.7699836867862969,0.7634584013050572,0.7634584013050572,0.7634584013050572,0.7634584013050572,0.7634584013050572,0.7634584013050572,0.7585644371941273,0.7585644371941273,0.7585644371941273,0.7585644371941273,0.7585644371941273,0.7544861337683524,0.7544861337683524,0.7544861337683524,0.7544861337683524,0.7544861337683524,0.7544861337683524,0.7544861337683524,0.7487765089722676,0.7487765089722676,0.7487765089722676,0.7487765089722676,0.7487765089722676,0.7487765089722676,0.7487765089722676,0.7487765089722676,0.7487765089722676,0.7414355628058727,0.7414355628058727,0.7414355628058727,0.7414355628058727,0.7414355628058727,0.7414355628058727,0.7414355628058727,0.7414355628058727,0.734910277324633,0.734910277324633,0.734910277324633,0.734910277324633,0.734910277324633,0.734910277324633,0.734910277324633,0.734910277324633,0.734910277324633,0.7275693311582382,0.7275693311582382,0.7275693311582382,0.7275693311582382,0.7275693311582382,0.7275693311582382,0.7275693311582382,0.7275693311582382,0.7275693311582382,0.7202283849918434,0.7202283849918434,0.7202283849918434,0.7202283849918434,0.7202283849918434,0.7161500815660685,0.7161500815660685,0.7161500815660685,0.7161500815660685,0.7161500815660685,0.7161500815660685,0.7161500815660685,0.7161500815660685,0.7161500815660685,0.7088091353996737,0.7088091353996737,0.7088091353996737,0.7088091353996737,0.7088091353996737,0.7088091353996737,0.7039151712887439,0.7039151712887439,0.7039151712887439,0.7039151712887439,0.700652528548124,0.700652528548124,0.700652528548124,0.700652528548124,0.700652528548124,0.700652528548124,0.700652528548124,0.700652528548124,0.700652528548124,0.6933115823817292,0.6933115823817292,0.6933115823817292,0.6933115823817292,0.6933115823817292,0.6933115823817292,0.6933115823817292,0.6933115823817292,0.6933115823817292,0.6859706362153344,0.6859706362153344,0.6859706362153344,0.6859706362153344,0.6859706362153344,0.6859706362153344,0.6859706362153344,0.6802610114192496,0.6802610114192496,0.6802610114192496,0.6802610114192496,0.6802610114192496,0.6802610114192496,0.6753670473083198,0.6753670473083198,0.6753670473083198,0.6753670473083198,0.6753670473083198,0.6753670473083198,0.6753670473083198,0.6696574225122349,0.6696574225122349,0.6696574225122349,0.6696574225122349,0.6696574225122349,0.6696574225122349,0.6696574225122349,0.6696574225122349,0.663132137030995,0.663132137030995,0.663132137030995,0.663132137030995,0.663132137030995,0.663132137030995,0.663132137030995,0.6574225122349102,0.6574225122349102,0.6574225122349102,0.6574225122349102,0.6541598694942904,0.6541598694942904,0.6525285481239804,0.6525285481239804,0.6525285481239804,0.6525285481239804,0.6525285481239804,0.6525285481239804,0.6525285481239804,0.6468189233278956,0.6468189233278956,0.6468189233278956,0.6468189233278956,0.6468189233278956,0.6468189233278956,0.6468189233278956,0.6411092985318108,0.6411092985318108,0.6411092985318108,0.6411092985318108,0.6411092985318108,0.6370309951060359,0.6370309951060359,0.6370309951060359,0.6370309951060359,0.6370309951060359,0.6370309951060359,0.6370309951060359,0.6370309951060359,0.6370309951060359,0.6370309951060359,0.6370309951060359,0.6370309951060359,0.6370309951060359,0.6370309951060359,0.6256117455138662,0.6256117455138662,0.6256117455138662,0.6256117455138662,0.6256117455138662,0.6256117455138662,0.6256117455138662,0.6256117455138662,0.6256117455138662,0.6256117455138662,0.6256117455138662,0.6256117455138662,0.6158238172920065,0.6158238172920065,0.6158238172920065,0.6133768352365416,0.6133768352365416,0.6133768352365416,0.6133768352365416,0.6133768352365416,0.6092985318107667,0.6092985318107667,0.6092985318107667,0.6068515497553018,0.6068515497553018,0.6068515497553018,0.6068515497553018,0.6068515497553018,0.6068515497553018,0.6068515497553018,0.6068515497553018,0.6068515497553018,0.5995106035889071,0.5995106035889071,0.5995106035889071,0.5995106035889071,0.5995106035889071,0.5954323001631321,0.5954323001631321,0.5954323001631321,0.5954323001631321,0.5954323001631321,0.5954323001631321,0.5954323001631321,0.5954323001631321,0.5889070146818923,0.5889070146818923,0.5889070146818923,0.5889070146818923,0.5889070146818923,0.5889070146818923,0.5889070146818923,0.5848287112561175,0.5848287112561175,0.5831973898858075,0.5831973898858075,0.5831973898858075,0.5831973898858075,0.5831973898858075,0.5831973898858075,0.5783034257748776,0.5783034257748776,0.5783034257748776,0.5783034257748776,0.5783034257748776,0.5783034257748776,0.5783034257748776,0.5734094616639478,0.5734094616639478,0.5734094616639478,0.5734094616639478,0.5734094616639478,0.5734094616639478,0.5734094616639478,0.5734094616639478,0.5734094616639478,0.5734094616639478,0.5652528548123981,0.5652528548123981,0.5652528548123981,0.5652528548123981,0.5652528548123981,0.5652528548123981,0.5652528548123981,0.5652528548123981,0.5587275693311582,0.5587275693311582,0.5587275693311582,0.5587275693311582,0.5587275693311582,0.5587275693311582,0.5587275693311582,0.5587275693311582,0.5522022838499184,0.5522022838499184,0.5522022838499184,0.5522022838499184,0.5522022838499184,0.5522022838499184,0.5522022838499184,0.5522022838499184,0.5456769983686787,0.5456769983686787,0.5456769983686787,0.5456769983686787,0.5456769983686787,0.5415986949429037,0.5415986949429037,0.5415986949429037,0.5415986949429037,0.5415986949429037,0.5415986949429037,0.5415986949429037,0.5415986949429037,0.5350734094616639,0.5350734094616639,0.5350734094616639,0.5350734094616639,0.5350734094616639,0.5350734094616639,0.5350734094616639,0.5293637846655791,0.5293637846655791,0.5293637846655791,0.5293637846655791,0.5277324632952691,0.5277324632952691,0.5277324632952691,0.5277324632952691,0.5277324632952691,0.5277324632952691,0.5277324632952691,0.5277324632952691,0.5220228384991843,0.5220228384991843,0.5220228384991843,0.5220228384991843,0.5220228384991843,0.5220228384991843,0.5220228384991843,0.5220228384991843,0.5220228384991843,0.5220228384991843,0.5138662316476346,0.5138662316476346,0.5138662316476346,0.5138662316476346,0.5138662316476346,0.5138662316476346,0.5138662316476346,0.5081566068515497,0.5081566068515497,0.5081566068515497,0.5081566068515497,0.5081566068515497,0.5081566068515497,0.5081566068515497,0.5032626427406199,0.5032626427406199,0.5032626427406199,0.5032626427406199,0.5032626427406199,0.5032626427406199,0.5032626427406199,0.5032626427406199,0.4975530179445351,0.4975530179445351,0.4975530179445351,0.4975530179445351,0.4975530179445351,0.4975530179445351,0.4975530179445351,0.4975530179445351,0.4975530179445351,0.4975530179445351,0.4975530179445351,0.4975530179445351,0.4975530179445351,0.4877650897226754,0.4877650897226754,0.4877650897226754,0.4877650897226754,0.4877650897226754,0.4877650897226754,0.4877650897226754,0.4877650897226754,0.48123980424143553,0.48123980424143553,0.48123980424143553,0.48123980424143553,0.48123980424143553,0.48123980424143553,0.48123980424143553,0.48123980424143553,0.48123980424143553,0.48123980424143553,0.47389885807504073,0.47389885807504073,0.47389885807504073,0.47389885807504073,0.47389885807504073,0.47389885807504073,0.47389885807504073,0.47389885807504073,0.47389885807504073,0.47389885807504073,0.47389885807504073,0.47389885807504073,0.46411092985318103,0.46411092985318103,0.46411092985318103,0.46411092985318103,0.46411092985318103,0.46411092985318103,0.46411092985318103,0.46411092985318103,0.46411092985318103,0.45676998368678634,0.45676998368678634,0.45676998368678634,0.45676998368678634,0.45676998368678634,0.4535073409461664,0.4535073409461664,0.4535073409461664,0.4535073409461664,0.4535073409461664,0.4535073409461664,0.4535073409461664,0.4535073409461664,0.44698205546492664,0.44698205546492664,0.44698205546492664,0.44698205546492664,0.44698205546492664,0.44698205546492664,0.44698205546492664,0.44698205546492664,0.44698205546492664,0.43964110929853184,0.43964110929853184,0.43964110929853184,0.43964110929853184,0.43964110929853184,0.43964110929853184,0.43474714518760194,0.43474714518760194,0.43474714518760194,0.43474714518760194,0.43474714518760194,0.43474714518760194,0.43474714518760194,0.4290375203915171,0.4290375203915171,0.4290375203915171,0.4290375203915171,0.4290375203915171,0.4290375203915171,0.4290375203915171,0.42332789559543227,0.42332789559543227,0.42332789559543227,0.42332789559543227,0.42006525285481244,0.42006525285481244,0.42006525285481244,0.42006525285481244,0.4168026101141925,0.4168026101141925,0.4168026101141925,0.4168026101141925,0.4168026101141925,0.4143556280587276,0.4143556280587276,0.4143556280587276,0.4143556280587276,0.4143556280587276,0.41027732463295274,0.41027732463295274,0.4086460032626428,0.4086460032626428,0.4086460032626428,0.4086460032626428,0.4086460032626428,0.4086460032626428,0.4086460032626428,0.4086460032626428,0.4086460032626428,0.4086460032626428,0.4021207177814029,0.4021207177814029,0.4021207177814029,0.4021207177814029,0.4021207177814029,0.4021207177814029,0.4021207177814029,0.4021207177814029,0.4021207177814029,0.3947797716150081,0.3947797716150081,0.3947797716150081,0.3947797716150081,0.3947797716150081,0.39314845024469824,0.39314845024469824,0.39314845024469824,0.39314845024469824,0.39314845024469824,0.39314845024469824,0.39314845024469824,0.38825448613376834,0.38825448613376834,0.38825448613376834,0.38825448613376834,0.38825448613376834,0.38825448613376834,0.38825448613376834,0.3825448613376835,0.3825448613376835,0.3825448613376835,0.3825448613376835,0.3825448613376835,0.3825448613376835,0.3825448613376835,0.3825448613376835,0.3825448613376835,0.3752039151712887,0.3752039151712887,0.3752039151712887,0.3752039151712887,0.3752039151712887,0.3752039151712887,0.3752039151712887,0.3752039151712887,0.3752039151712887,0.367862969004894,0.367862969004894,0.367862969004894,0.367862969004894,0.367862969004894,0.367862969004894,0.367862969004894,0.367862969004894,0.3621533442088092,0.3621533442088092,0.3621533442088092,0.3621533442088092,0.3621533442088092,0.3621533442088092,0.3572593800978793,0.3572593800978793,0.3572593800978793,0.3572593800978793,0.3572593800978793,0.3572593800978793,0.3572593800978793,0.3572593800978793,0.3572593800978793,0.35154975530179444,0.35154975530179444,0.35154975530179444,0.35154975530179444,0.35154975530179444,0.35154975530179444,0.3499184339314845,0.3499184339314845,0.3499184339314845,0.3499184339314845,0.3499184339314845,0.3499184339314845,0.3499184339314845,0.3499184339314845,0.3499184339314845,0.3499184339314845,0.3499184339314845,0.34257748776508967,1.0,1.0,1.0,1.0,1.0,1.0,1.0,1.0,1.0,1.0,1.0,1.0,1.0,1.0,1.0,1.0,1.0,1.0,0.9991843393148451,0.9991843393148451,0.9991843393148451,0.9991843393148451,0.9991843393148451,0.9991843393148451,0.9991843393148451,0.9991843393148451,0.9991843393148451,0.9991843393148451,0.9991843393148451,0.9991843393148451,0.9991843393148451,0.9991843393148451,0.9991843393148451,0.9991843393148451,0.9991843393148451,0.9991843393148451,0.9991843393148451,0.9991843393148451,0.99836867862969,0.99836867862969,0.99836867862969,0.99836867862969,0.99836867862969,0.99836867862969,0.99836867862969,0.99836867862969,0.99836867862969,0.99836867862969,0.99836867862969,0.99836867862969,0.99836867862969,0.99836867862969,0.9975530179445351,0.9975530179445351,0.9975530179445351,0.9975530179445351,0.9975530179445351,0.9975530179445351,0.9975530179445351,0.9975530179445351,0.9975530179445351,0.9975530179445351,0.9975530179445351,0.9975530179445351,0.9975530179445351,0.9975530179445351,0.9959216965742251,0.9959216965742251,0.9959216965742251,0.9959216965742251,0.9951060358890701,0.9951060358890701,0.9951060358890701,0.9951060358890701,0.9951060358890701,0.9951060358890701,0.9951060358890701,0.9951060358890701,0.9951060358890701,0.9942903752039152,0.9942903752039152,0.9942903752039152,0.9942903752039152,0.9942903752039152,0.9942903752039152,0.9926590538336052,0.9926590538336052,0.9926590538336052,0.9926590538336052,0.9926590538336052,0.9926590538336052,0.9918433931484503,0.9918433931484503,0.9918433931484503,0.9918433931484503,0.9893964110929854,0.9893964110929854,0.9853181076672104,0.9853181076672104,0.9853181076672104,0.9853181076672104,0.9853181076672104,0.9853181076672104,0.9853181076672104,0.9787928221859706,0.9787928221859706,0.9787928221859706,0.9747145187601958,0.9747145187601958,0.9747145187601958,0.9747145187601958,0.9747145187601958,0.9747145187601958,0.9747145187601958,0.9747145187601958,0.9747145187601958,0.9747145187601958,0.9747145187601958,0.9690048939641109,0.9690048939641109,0.9690048939641109,0.9690048939641109,0.9690048939641109,0.9690048939641109,0.9632952691680261,0.9632952691680261,0.9632952691680261,0.9632952691680261,0.9632952691680261,0.9632952691680261,0.9632952691680261,0.9632952691680261,0.9632952691680261,0.9632952691680261,0.9592169657422512,0.9592169657422512,0.9592169657422512,0.9592169657422512,0.9510603588907015,0.9510603588907015,0.9510603588907015,0.9510603588907015,0.9510603588907015,0.9510603588907015,0.9510603588907015,0.9510603588907015,0.9510603588907015,0.9510603588907015,0.9510603588907015,0.9445350734094616,0.9445350734094616,0.9445350734094616,0.9445350734094616,0.9445350734094616,0.9445350734094616,0.9445350734094616,0.9429037520391517,0.9429037520391517,0.9429037520391517,0.9429037520391517,0.9404567699836868,0.9404567699836868,0.9404567699836868,0.9404567699836868,0.9404567699836868,0.9347471451876019,0.9347471451876019,0.9347471451876019,0.9347471451876019,0.9347471451876019,0.9347471451876019,0.9347471451876019,0.9347471451876019,0.9347471451876019,0.9347471451876019,0.932300163132137,0.932300163132137,0.932300163132137,0.932300163132137,0.9274061990212071,0.9274061990212071,0.9274061990212071,0.9274061990212071,0.9274061990212071,0.9274061990212071,0.9274061990212071,0.9274061990212071,0.9274061990212071,0.9274061990212071,0.9274061990212071,0.9274061990212071,0.9241435562805873,0.9241435562805873,0.9241435562805873,0.9241435562805873,0.9241435562805873,0.9200652528548124,0.9200652528548124,0.9200652528548124,0.9200652528548124,0.9200652528548124,0.9200652528548124,0.9200652528548124,0.9200652528548124,0.9200652528548124,0.9200652528548124,0.9200652528548124,0.9159869494290376,0.9078303425774877,0.9078303425774877,0.9078303425774877,0.9078303425774877,0.901305057096248,0.901305057096248,0.901305057096248,0.901305057096248,0.901305057096248,0.901305057096248,0.901305057096248,0.898042414355628,0.898042414355628,0.898042414355628,0.898042414355628,0.898042414355628,0.898042414355628,0.898042414355628,0.898042414355628,0.898042414355628,0.898042414355628,0.8907014681892332,0.8907014681892332,0.8907014681892332,0.8907014681892332,0.8817292006525286,0.8817292006525286,0.8817292006525286,0.8817292006525286,0.8817292006525286,0.8817292006525286,0.8817292006525286,0.8817292006525286,0.8817292006525286,0.8776508972267537,0.8776508972267537,0.8776508972267537,0.8776508972267537,0.8776508972267537,0.8776508972267537,0.8776508972267537,0.8735725938009788,0.8735725938009788,0.8735725938009788,0.8735725938009788,0.8735725938009788,0.866231647634584,0.866231647634584,0.866231647634584,0.866231647634584,0.866231647634584,0.866231647634584,0.866231647634584,0.866231647634584,0.866231647634584,0.866231647634584,0.8613376835236541,0.8613376835236541,0.8613376835236541,0.8613376835236541,0.8564437194127243,0.8564437194127243,0.8564437194127243,0.8564437194127243,0.8564437194127243,0.8564437194127243,0.8466557911908645,0.8466557911908645,0.8466557911908645,0.8466557911908645,0.8466557911908645,0.8466557911908645,0.8466557911908645,0.8466557911908645,0.8466557911908645,0.8466557911908645,0.8393148450244698,0.8393148450244698,0.8393148450244698,0.8393148450244698,0.8393148450244698,0.8393148450244698,0.8393148450244698,0.8393148450244698,0.8393148450244698,0.8393148450244698,0.8311582381729201,0.8311582381729201,0.8311582381729201,0.8311582381729201,0.8311582381729201,0.8311582381729201,0.8311582381729201,0.8311582381729201,0.8221859706362153,0.8221859706362153,0.8221859706362153,0.8221859706362153,0.8221859706362153,0.8221859706362153,0.8221859706362153,0.8164763458401305,0.8164763458401305,0.8123980424143556,0.8123980424143556,0.8123980424143556,0.8123980424143556,0.8123980424143556,0.8123980424143556,0.8123980424143556,0.8123980424143556,0.8123980424143556,0.8123980424143556,0.8123980424143556,0.8123980424143556,0.8123980424143556,0.8123980424143556,0.800978792822186,0.800978792822186,0.800978792822186,0.800978792822186,0.7928221859706363,0.7928221859706363,0.7928221859706363,0.7928221859706363,0.7928221859706363,0.7928221859706363,0.7928221859706363,0.7928221859706363,0.7928221859706363,0.7871125611745514,0.7871125611745514,0.7871125611745514,0.7871125611745514,0.7871125611745514,0.7871125611745514,0.7871125611745514,0.7871125611745514,0.7846655791190864,0.7846655791190864,0.7846655791190864,0.7846655791190864,0.7846655791190864,0.7846655791190864,0.7846655791190864,0.7846655791190864,0.7846655791190864,0.7846655791190864,0.7846655791190864,0.7765089722675367,0.7765089722675367,0.7765089722675367,0.7765089722675367,0.7765089722675367,0.7765089722675367,0.7765089722675367,0.7765089722675367,0.7765089722675367,0.7765089722675367,0.7699836867862969,0.7699836867862969,0.7699836867862969,0.7699836867862969,0.7699836867862969,0.7699836867862969,0.7699836867862969,0.7634584013050572,0.7634584013050572,0.7634584013050572,0.7634584013050572,0.7634584013050572,0.7634584013050572,0.7634584013050572,0.7634584013050572,0.7585644371941273,0.7585644371941273,0.7585644371941273,0.7585644371941273,0.7585644371941273,0.7585644371941273,0.7585644371941273,0.7585644371941273,0.7585644371941273,0.7544861337683524,0.7544861337683524,0.7544861337683524,0.7544861337683524,0.7487765089722676,0.7487765089722676,0.7487765089722676,0.7487765089722676,0.7487765089722676,0.7487765089722676,0.7487765089722676,0.7487765089722676,0.7487765089722676,0.7487765089722676,0.7487765089722676,0.7487765089722676,0.7414355628058727,0.7414355628058727,0.7414355628058727,0.7414355628058727,0.7414355628058727,0.7414355628058727,0.7414355628058727,0.7414355628058727,0.734910277324633,0.734910277324633,0.734910277324633,0.734910277324633,0.734910277324633,0.734910277324633,0.734910277324633,0.734910277324633,0.7275693311582382,0.7275693311582382,0.7275693311582382,0.7275693311582382,0.7275693311582382,0.7275693311582382,0.7275693311582382,0.7275693311582382,0.7275693311582382,0.7275693311582382,0.7275693311582382,0.7275693311582382,0.7275693311582382,0.7275693311582382,0.7202283849918434,0.7202283849918434,0.7202283849918434,0.7202283849918434,0.7202283849918434,0.7202283849918434,0.7202283849918434,0.7202283849918434,0.7161500815660685,0.7161500815660685,0.7161500815660685,0.7161500815660685,0.7161500815660685,0.7161500815660685,0.7161500815660685,0.7088091353996737,0.7088091353996737,0.7088091353996737,0.7088091353996737,0.7088091353996737,0.7088091353996737,0.7088091353996737,0.7088091353996737,0.7039151712887439,0.7039151712887439,0.7039151712887439,0.7039151712887439,0.7039151712887439,0.7039151712887439,0.7039151712887439,0.7039151712887439,0.7039151712887439,0.7039151712887439,0.700652528548124,0.700652528548124,0.700652528548124,0.700652528548124,0.700652528548124,0.700652528548124,0.700652528548124,0.700652528548124,0.700652528548124,0.6933115823817292,0.6933115823817292,0.6933115823817292,0.6933115823817292,0.6933115823817292,0.6933115823817292,0.6933115823817292,0.6859706362153344,0.6859706362153344,0.6859706362153344,0.6859706362153344,0.6859706362153344,0.6859706362153344,0.6859706362153344,0.6859706362153344,0.6859706362153344,0.6859706362153344,0.6859706362153344,0.6802610114192496,0.6802610114192496,0.6802610114192496,0.6802610114192496,0.6802610114192496,0.6802610114192496,0.6802610114192496,0.6802610114192496,0.6802610114192496,0.6753670473083198,0.6753670473083198,0.6753670473083198,0.6753670473083198,0.6753670473083198,0.6696574225122349,0.6696574225122349,0.6696574225122349,0.6696574225122349,0.6696574225122349,0.663132137030995,0.663132137030995,0.663132137030995,0.663132137030995,0.663132137030995,0.663132137030995,0.663132137030995,0.6574225122349102,0.6574225122349102,0.6574225122349102,0.6574225122349102,0.6574225122349102,0.6574225122349102,0.6541598694942904,0.6541598694942904,0.6541598694942904,0.6525285481239804,0.6525285481239804,0.6525285481239804,0.6525285481239804,0.6468189233278956,0.6411092985318108,0.6411092985318108,0.6411092985318108,0.6411092985318108,0.6411092985318108,0.6411092985318108,0.6370309951060359,0.6370309951060359,0.6370309951060359,0.6370309951060359,0.6256117455138662,0.6256117455138662,0.6256117455138662,0.6256117455138662,0.6256117455138662,0.6158238172920065,0.6158238172920065,0.6158238172920065,0.6133768352365416,0.6133768352365416,0.6133768352365416,0.6133768352365416,0.6092985318107667,0.6092985318107667,0.6092985318107667,0.6068515497553018,0.6068515497553018,0.5995106035889071,0.5995106035889071,0.5995106035889071,0.5995106035889071,0.5995106035889071,0.5995106035889071,0.5954323001631321,0.5954323001631321,0.5954323001631321,0.5889070146818923,0.5889070146818923,0.5848287112561175,0.5848287112561175,0.5848287112561175,0.5848287112561175,0.5831973898858075,0.5831973898858075,0.5783034257748776,0.5734094616639478,0.5734094616639478,0.5652528548123981,0.5522022838499184,0.5522022838499184,0.5522022838499184,0.5456769983686787,0.5456769983686787,0.5456769983686787,0.5415986949429037,0.5350734094616639,0.5293637846655791,0.5293637846655791,0.5277324632952691,0.5220228384991843,0.5220228384991843,0.5220228384991843,0.5220228384991843,0.5138662316476346,0.5138662316476346,0.5138662316476346,0.5138662316476346,0.5081566068515497,0.5081566068515497,0.5032626427406199,0.4877650897226754,0.47389885807504073,0.45676998368678634,0.44698205546492664,0.43964110929853184,0.4290375203915171,0.42006525285481244,0.39314845024469824,0.0],\"xaxis\":\"x\",\"y\":[1.0,1.0,1.0,1.0,1.0,1.0,1.0,1.0,1.0,1.0,1.0,1.0,1.0,1.0,1.0,1.0,1.0,1.0,1.0,1.0,1.0,1.0,1.0,1.0,1.0,1.0,1.0,1.0,1.0,1.0,1.0,1.0,1.0,1.0,1.0,1.0,1.0,1.0,1.0,1.0,1.0,1.0,1.0,1.0,1.0,1.0,1.0,1.0,1.0,1.0,1.0,1.0,1.0,1.0,1.0,1.0,1.0,1.0,1.0,1.0,1.0,1.0,1.0,1.0,1.0,1.0,1.0,1.0,1.0,1.0,1.0,1.0,1.0,1.0,1.0,1.0,1.0,1.0,1.0,1.0,1.0,1.0,1.0,1.0,1.0,1.0,1.0,1.0,1.0,1.0,1.0,1.0,1.0,1.0,1.0,1.0,1.0,1.0,1.0,1.0,1.0,1.0,1.0,1.0,1.0,1.0,1.0,1.0,1.0,1.0,1.0,1.0,1.0,1.0,1.0,1.0,1.0,1.0,1.0,1.0,1.0,1.0,1.0,1.0,1.0,1.0,1.0,1.0,1.0,1.0,1.0,1.0,1.0,1.0,1.0,1.0,1.0,1.0,1.0,1.0,1.0,1.0,1.0,1.0,1.0,1.0,1.0,1.0,1.0,1.0,1.0,1.0,1.0,1.0,1.0,1.0,1.0,1.0,1.0,1.0,1.0,1.0,1.0,1.0,1.0,1.0,1.0,1.0,1.0,1.0,1.0,1.0,1.0,1.0,1.0,1.0,1.0,1.0,1.0,1.0,1.0,1.0,1.0,1.0,1.0,1.0,1.0,1.0,1.0,1.0,1.0,1.0,1.0,1.0,1.0,1.0,1.0,1.0,1.0,1.0,1.0,1.0,1.0,1.0,1.0,1.0,1.0,1.0,1.0,1.0,1.0,1.0,1.0,1.0,1.0,1.0,1.0,1.0,1.0,1.0,1.0,1.0,1.0,1.0,1.0,1.0,1.0,1.0,1.0,1.0,1.0,1.0,1.0,1.0,1.0,1.0,1.0,1.0,1.0,1.0,1.0,1.0,1.0,1.0,1.0,1.0,1.0,1.0,1.0,1.0,1.0,1.0,1.0,1.0,1.0,1.0,1.0,1.0,1.0,1.0,1.0,1.0,1.0,1.0,1.0,1.0,1.0,1.0,1.0,1.0,1.0,1.0,1.0,1.0,1.0,1.0,1.0,1.0,1.0,1.0,1.0,1.0,1.0,1.0,1.0,1.0,1.0,1.0,1.0,1.0,1.0,1.0,1.0,1.0,1.0,1.0,1.0,1.0,1.0,1.0,1.0,1.0,1.0,1.0,1.0,1.0,1.0,1.0,1.0,1.0,1.0,1.0,1.0,1.0,1.0,1.0,1.0,1.0,1.0,1.0,1.0,1.0,1.0,1.0,1.0,1.0,1.0,1.0,1.0,1.0,1.0,1.0,1.0,1.0,1.0,1.0,1.0,1.0,1.0,1.0,1.0,1.0,1.0,1.0,1.0,1.0,1.0,1.0,1.0,1.0,1.0,1.0,1.0,1.0,1.0,1.0,1.0,1.0,1.0,1.0,1.0,1.0,1.0,1.0,1.0,1.0,1.0,1.0,1.0,1.0,1.0,1.0,1.0,1.0,1.0,1.0,1.0,1.0,1.0,1.0,1.0,1.0,1.0,1.0,1.0,1.0,1.0,1.0,1.0,1.0,1.0,1.0,1.0,1.0,1.0,1.0,1.0,1.0,1.0,1.0,1.0,1.0,1.0,1.0,1.0,1.0,1.0,1.0,1.0,1.0,1.0,1.0,1.0,1.0,1.0,1.0,1.0,1.0,1.0,1.0,1.0,1.0,1.0,1.0,1.0,1.0,1.0,1.0,1.0,1.0,1.0,1.0,1.0,1.0,1.0,1.0,1.0,1.0,1.0,1.0,1.0,1.0,1.0,1.0,1.0,1.0,1.0,1.0,1.0,1.0,1.0,1.0,1.0,1.0,1.0,1.0,1.0,1.0,1.0,1.0,1.0,1.0,1.0,1.0,1.0,1.0,1.0,1.0,1.0,1.0,1.0,1.0,1.0,1.0,1.0,1.0,1.0,1.0,1.0,1.0,1.0,1.0,1.0,1.0,1.0,1.0,1.0,1.0,1.0,1.0,1.0,1.0,1.0,1.0,1.0,1.0,1.0,1.0,1.0,1.0,1.0,1.0,1.0,1.0,1.0,1.0,1.0,1.0,1.0,1.0,1.0,0.9910714285714286,0.9910714285714286,0.9910714285714286,0.9910714285714286,0.9910714285714286,0.9910714285714286,0.9910714285714286,0.9910714285714286,0.9910714285714286,0.9910714285714286,0.9910714285714286,0.9910714285714286,0.9910714285714286,0.9910714285714286,0.9910714285714286,0.9866071428571429,0.9866071428571429,0.9866071428571429,0.9866071428571429,0.9866071428571429,0.9866071428571429,0.9866071428571429,0.9866071428571429,0.9866071428571429,0.9866071428571429,0.9866071428571429,0.9866071428571429,0.9866071428571429,0.9866071428571429,0.9866071428571429,0.9866071428571429,0.9866071428571429,0.9866071428571429,0.9866071428571429,0.9866071428571429,0.9866071428571429,0.9866071428571429,0.9866071428571429,0.9866071428571429,0.9866071428571429,0.9866071428571429,0.9866071428571429,0.9866071428571429,0.9866071428571429,0.9866071428571429,0.9866071428571429,0.9866071428571429,0.9866071428571429,0.9866071428571429,0.9866071428571429,0.9866071428571429,0.9866071428571429,0.9866071428571429,0.9866071428571429,0.9866071428571429,0.9866071428571429,0.9866071428571429,0.9866071428571429,0.9866071428571429,0.9866071428571429,0.9866071428571429,0.9866071428571429,0.9866071428571429,0.9866071428571429,0.9866071428571429,0.9866071428571429,0.9866071428571429,0.9866071428571429,0.9866071428571429,0.9866071428571429,0.9866071428571429,0.9866071428571429,0.9866071428571429,0.9776785714285714,0.9776785714285714,0.9776785714285714,0.9776785714285714,0.9776785714285714,0.9776785714285714,0.9776785714285714,0.9776785714285714,0.9732142857142857,0.9732142857142857,0.9732142857142857,0.9732142857142857,0.9732142857142857,0.9732142857142857,0.9732142857142857,0.9732142857142857,0.9732142857142857,0.9732142857142857,0.9732142857142857,0.9732142857142857,0.9732142857142857,0.9732142857142857,0.9732142857142857,0.9732142857142857,0.9732142857142857,0.9732142857142857,0.9732142857142857,0.9732142857142857,0.9732142857142857,0.9732142857142857,0.9732142857142857,0.9732142857142857,0.96875,0.96875,0.96875,0.96875,0.96875,0.96875,0.96875,0.96875,0.9642857142857143,0.9642857142857143,0.9642857142857143,0.9642857142857143,0.9642857142857143,0.9642857142857143,0.9642857142857143,0.9642857142857143,0.9642857142857143,0.9642857142857143,0.9642857142857143,0.9642857142857143,0.9642857142857143,0.9598214285714286,0.9598214285714286,0.9598214285714286,0.9598214285714286,0.9598214285714286,0.9598214285714286,0.9598214285714286,0.9598214285714286,0.9598214285714286,0.9598214285714286,0.9598214285714286,0.9598214285714286,0.9598214285714286,0.9598214285714286,0.9598214285714286,0.9598214285714286,0.9598214285714286,0.9598214285714286,0.9553571428571429,0.9553571428571429,0.9553571428571429,0.9553571428571429,0.9553571428571429,0.9553571428571429,0.9553571428571429,0.9553571428571429,0.9553571428571429,0.9553571428571429,0.9553571428571429,0.9553571428571429,0.9553571428571429,0.9553571428571429,0.9553571428571429,0.9553571428571429,0.9553571428571429,0.9553571428571429,0.9553571428571429,0.9553571428571429,0.9553571428571429,0.9553571428571429,0.9553571428571429,0.9553571428571429,0.9553571428571429,0.9553571428571429,0.9508928571428571,0.9508928571428571,0.9508928571428571,0.9508928571428571,0.9508928571428571,0.9508928571428571,0.9508928571428571,0.9508928571428571,0.9508928571428571,0.9508928571428571,0.9508928571428571,0.9508928571428571,0.9508928571428571,0.9508928571428571,0.9508928571428571,0.9508928571428571,0.9508928571428571,0.9508928571428571,0.9508928571428571,0.9508928571428571,0.9508928571428571,0.9508928571428571,0.9508928571428571,0.9508928571428571,0.9508928571428571,0.9508928571428571,0.9508928571428571,0.9508928571428571,0.9508928571428571,0.9508928571428571,0.9508928571428571,0.9508928571428571,0.9508928571428571,0.9508928571428571,0.9508928571428571,0.9508928571428571,0.9508928571428571,0.9508928571428571,0.9508928571428571,0.9508928571428571,0.9508928571428571,0.9508928571428571,0.9508928571428571,0.9508928571428571,0.9508928571428571,0.9508928571428571,0.9508928571428571,0.9508928571428571,0.9508928571428571,0.9508928571428571,0.9419642857142857,0.9419642857142857,0.9419642857142857,0.9419642857142857,0.9419642857142857,0.9419642857142857,0.9419642857142857,0.9419642857142857,0.9419642857142857,0.9419642857142857,0.9419642857142857,0.9419642857142857,0.9419642857142857,0.9419642857142857,0.9419642857142857,0.9419642857142857,0.9419642857142857,0.9330357142857143,0.9330357142857143,0.9330357142857143,0.9330357142857143,0.9330357142857143,0.9330357142857143,0.9330357142857143,0.9330357142857143,0.9330357142857143,0.9330357142857143,0.9330357142857143,0.9330357142857143,0.9330357142857143,0.9330357142857143,0.9196428571428571,0.9196428571428571,0.9196428571428571,0.9196428571428571,0.9196428571428571,0.9196428571428571,0.9196428571428571,0.9151785714285714,0.9151785714285714,0.9151785714285714,0.9151785714285714,0.9151785714285714,0.9151785714285714,0.9151785714285714,0.9151785714285714,0.9151785714285714,0.9151785714285714,0.9151785714285714,0.9151785714285714,0.9151785714285714,0.9151785714285714,0.9151785714285714,0.9151785714285714,0.9151785714285714,0.9151785714285714,0.9151785714285714,0.9151785714285714,0.9151785714285714,0.9151785714285714,0.9151785714285714,0.9151785714285714,0.9151785714285714,0.9151785714285714,0.9151785714285714,0.9151785714285714,0.9151785714285714,0.9151785714285714,0.9151785714285714,0.9151785714285714,0.9151785714285714,0.9107142857142857,0.9107142857142857,0.9107142857142857,0.9107142857142857,0.9107142857142857,0.9107142857142857,0.9107142857142857,0.9107142857142857,0.9107142857142857,0.9107142857142857,0.9107142857142857,0.9107142857142857,0.9107142857142857,0.9107142857142857,0.9107142857142857,0.9017857142857143,0.9017857142857143,0.9017857142857143,0.9017857142857143,0.9017857142857143,0.9017857142857143,0.8839285714285714,0.8839285714285714,0.8839285714285714,0.8839285714285714,0.8839285714285714,0.8839285714285714,0.8839285714285714,0.8839285714285714,0.8839285714285714,0.8839285714285714,0.8839285714285714,0.875,1.0,1.0,1.0,1.0,1.0,1.0,1.0,1.0,1.0,1.0,1.0,1.0,1.0,1.0,1.0,1.0,1.0,1.0,1.0,1.0,1.0,1.0,1.0,1.0,1.0,1.0,1.0,1.0,1.0,1.0,1.0,1.0,1.0,1.0,1.0,1.0,1.0,1.0,1.0,1.0,1.0,1.0,1.0,1.0,1.0,1.0,1.0,1.0,1.0,1.0,1.0,1.0,1.0,1.0,1.0,1.0,1.0,1.0,1.0,1.0,1.0,1.0,1.0,1.0,1.0,1.0,1.0,1.0,1.0,1.0,1.0,1.0,1.0,1.0,1.0,1.0,1.0,1.0,1.0,1.0,1.0,1.0,1.0,1.0,1.0,1.0,1.0,1.0,1.0,1.0,1.0,1.0,1.0,1.0,1.0,1.0,1.0,1.0,1.0,1.0,1.0,1.0,1.0,1.0,1.0,1.0,1.0,1.0,1.0,1.0,1.0,1.0,1.0,1.0,1.0,1.0,1.0,1.0,1.0,1.0,1.0,1.0,1.0,1.0,1.0,1.0,1.0,1.0,1.0,1.0,1.0,1.0,1.0,1.0,1.0,1.0,1.0,1.0,1.0,1.0,1.0,1.0,1.0,1.0,1.0,1.0,1.0,1.0,1.0,1.0,1.0,1.0,1.0,1.0,1.0,1.0,1.0,1.0,1.0,1.0,1.0,1.0,1.0,1.0,1.0,1.0,1.0,1.0,1.0,1.0,1.0,1.0,1.0,1.0,1.0,1.0,1.0,1.0,1.0,1.0,1.0,1.0,1.0,1.0,1.0,1.0,1.0,1.0,1.0,1.0,1.0,1.0,1.0,1.0,1.0,1.0,1.0,1.0,1.0,1.0,1.0,1.0,1.0,1.0,1.0,1.0,1.0,1.0,1.0,1.0,1.0,1.0,1.0,1.0,1.0,1.0,1.0,1.0,1.0,1.0,1.0,1.0,1.0,1.0,1.0,1.0,1.0,1.0,1.0,1.0,1.0,1.0,1.0,1.0,1.0,1.0,1.0,1.0,1.0,1.0,1.0,1.0,1.0,1.0,1.0,1.0,1.0,1.0,1.0,1.0,1.0,1.0,1.0,1.0,1.0,1.0,1.0,1.0,1.0,1.0,1.0,1.0,1.0,1.0,1.0,1.0,1.0,1.0,1.0,1.0,1.0,1.0,1.0,1.0,1.0,1.0,1.0,1.0,1.0,1.0,1.0,1.0,1.0,1.0,1.0,1.0,1.0,1.0,1.0,1.0,1.0,1.0,1.0,1.0,1.0,1.0,1.0,1.0,1.0,1.0,1.0,1.0,1.0,1.0,1.0,1.0,1.0,1.0,1.0,1.0,1.0,1.0,1.0,1.0,1.0,1.0,1.0,1.0,1.0,1.0,1.0,1.0,1.0,1.0,1.0,1.0,1.0,1.0,1.0,1.0,1.0,1.0,1.0,1.0,1.0,1.0,1.0,1.0,1.0,1.0,1.0,1.0,1.0,1.0,1.0,1.0,1.0,1.0,1.0,1.0,1.0,1.0,1.0,1.0,1.0,1.0,1.0,1.0,1.0,1.0,1.0,1.0,1.0,1.0,1.0,1.0,1.0,1.0,1.0,1.0,1.0,1.0,1.0,1.0,1.0,1.0,1.0,1.0,1.0,1.0,1.0,1.0,1.0,1.0,1.0,1.0,1.0,1.0,1.0,1.0,1.0,1.0,1.0,1.0,1.0,1.0,1.0,1.0,1.0,1.0,1.0,1.0,1.0,1.0,1.0,1.0,1.0,1.0,1.0,1.0,1.0,1.0,1.0,1.0,1.0,1.0,1.0,1.0,1.0,1.0,1.0,1.0,1.0,1.0,1.0,1.0,1.0,1.0,1.0,1.0,1.0,1.0,1.0,1.0,1.0,1.0,1.0,1.0,1.0,1.0,1.0,1.0,1.0,1.0,1.0,1.0,1.0,1.0,1.0,1.0,1.0,1.0,1.0,1.0,1.0,1.0,1.0,1.0,1.0,1.0,1.0,1.0,1.0,1.0,1.0,1.0,1.0,1.0,1.0,1.0,1.0,1.0,1.0,1.0,1.0,1.0,1.0,1.0,1.0,1.0,1.0,1.0,1.0,1.0,1.0,1.0,1.0,1.0,1.0,1.0,1.0,1.0,1.0,1.0,1.0,1.0,1.0,1.0,1.0,1.0,1.0,1.0,1.0,1.0,1.0,1.0,1.0,1.0,1.0,1.0,1.0,1.0,1.0,1.0,1.0,1.0,1.0,1.0,1.0,1.0,1.0,1.0,1.0,1.0,1.0,1.0,1.0,1.0,1.0,1.0,1.0,1.0,1.0,1.0,1.0,1.0,1.0,1.0,1.0,1.0,1.0,1.0,1.0,1.0,1.0,1.0,1.0,1.0,1.0,1.0,1.0,1.0,1.0,1.0,1.0,1.0,1.0,1.0,1.0,1.0,1.0,1.0,1.0,1.0,1.0,1.0,1.0,1.0,1.0,1.0,1.0,1.0,1.0,1.0,1.0,0.9910714285714286,0.9910714285714286,0.9910714285714286,0.9910714285714286,0.9910714285714286,0.9910714285714286,0.9910714285714286,0.9866071428571429,0.9866071428571429,0.9866071428571429,0.9866071428571429,0.9866071428571429,0.9866071428571429,0.9866071428571429,0.9866071428571429,0.9866071428571429,0.9866071428571429,0.9866071428571429,0.9866071428571429,0.9866071428571429,0.9776785714285714,0.9732142857142857,0.9732142857142857,0.9732142857142857,0.9732142857142857,0.9732142857142857,0.9732142857142857,0.9732142857142857,0.9732142857142857,0.9732142857142857,0.9732142857142857,0.96875,0.9598214285714286,0.9553571428571429,0.9553571428571429,0.9508928571428571,0.9508928571428571,0.9508928571428571,0.9508928571428571,0.9196428571428571,0.0],\"yaxis\":\"y\",\"type\":\"scatter\"}],                        {\"template\":{\"data\":{\"barpolar\":[{\"marker\":{\"line\":{\"color\":\"rgb(17,17,17)\",\"width\":0.5},\"pattern\":{\"fillmode\":\"overlay\",\"size\":10,\"solidity\":0.2}},\"type\":\"barpolar\"}],\"bar\":[{\"error_x\":{\"color\":\"#f2f5fa\"},\"error_y\":{\"color\":\"#f2f5fa\"},\"marker\":{\"line\":{\"color\":\"rgb(17,17,17)\",\"width\":0.5},\"pattern\":{\"fillmode\":\"overlay\",\"size\":10,\"solidity\":0.2}},\"type\":\"bar\"}],\"carpet\":[{\"aaxis\":{\"endlinecolor\":\"#A2B1C6\",\"gridcolor\":\"#506784\",\"linecolor\":\"#506784\",\"minorgridcolor\":\"#506784\",\"startlinecolor\":\"#A2B1C6\"},\"baxis\":{\"endlinecolor\":\"#A2B1C6\",\"gridcolor\":\"#506784\",\"linecolor\":\"#506784\",\"minorgridcolor\":\"#506784\",\"startlinecolor\":\"#A2B1C6\"},\"type\":\"carpet\"}],\"choropleth\":[{\"colorbar\":{\"outlinewidth\":0,\"ticks\":\"\"},\"type\":\"choropleth\"}],\"contourcarpet\":[{\"colorbar\":{\"outlinewidth\":0,\"ticks\":\"\"},\"type\":\"contourcarpet\"}],\"contour\":[{\"colorbar\":{\"outlinewidth\":0,\"ticks\":\"\"},\"colorscale\":[[0.0,\"#0d0887\"],[0.1111111111111111,\"#46039f\"],[0.2222222222222222,\"#7201a8\"],[0.3333333333333333,\"#9c179e\"],[0.4444444444444444,\"#bd3786\"],[0.5555555555555556,\"#d8576b\"],[0.6666666666666666,\"#ed7953\"],[0.7777777777777778,\"#fb9f3a\"],[0.8888888888888888,\"#fdca26\"],[1.0,\"#f0f921\"]],\"type\":\"contour\"}],\"heatmapgl\":[{\"colorbar\":{\"outlinewidth\":0,\"ticks\":\"\"},\"colorscale\":[[0.0,\"#0d0887\"],[0.1111111111111111,\"#46039f\"],[0.2222222222222222,\"#7201a8\"],[0.3333333333333333,\"#9c179e\"],[0.4444444444444444,\"#bd3786\"],[0.5555555555555556,\"#d8576b\"],[0.6666666666666666,\"#ed7953\"],[0.7777777777777778,\"#fb9f3a\"],[0.8888888888888888,\"#fdca26\"],[1.0,\"#f0f921\"]],\"type\":\"heatmapgl\"}],\"heatmap\":[{\"colorbar\":{\"outlinewidth\":0,\"ticks\":\"\"},\"colorscale\":[[0.0,\"#0d0887\"],[0.1111111111111111,\"#46039f\"],[0.2222222222222222,\"#7201a8\"],[0.3333333333333333,\"#9c179e\"],[0.4444444444444444,\"#bd3786\"],[0.5555555555555556,\"#d8576b\"],[0.6666666666666666,\"#ed7953\"],[0.7777777777777778,\"#fb9f3a\"],[0.8888888888888888,\"#fdca26\"],[1.0,\"#f0f921\"]],\"type\":\"heatmap\"}],\"histogram2dcontour\":[{\"colorbar\":{\"outlinewidth\":0,\"ticks\":\"\"},\"colorscale\":[[0.0,\"#0d0887\"],[0.1111111111111111,\"#46039f\"],[0.2222222222222222,\"#7201a8\"],[0.3333333333333333,\"#9c179e\"],[0.4444444444444444,\"#bd3786\"],[0.5555555555555556,\"#d8576b\"],[0.6666666666666666,\"#ed7953\"],[0.7777777777777778,\"#fb9f3a\"],[0.8888888888888888,\"#fdca26\"],[1.0,\"#f0f921\"]],\"type\":\"histogram2dcontour\"}],\"histogram2d\":[{\"colorbar\":{\"outlinewidth\":0,\"ticks\":\"\"},\"colorscale\":[[0.0,\"#0d0887\"],[0.1111111111111111,\"#46039f\"],[0.2222222222222222,\"#7201a8\"],[0.3333333333333333,\"#9c179e\"],[0.4444444444444444,\"#bd3786\"],[0.5555555555555556,\"#d8576b\"],[0.6666666666666666,\"#ed7953\"],[0.7777777777777778,\"#fb9f3a\"],[0.8888888888888888,\"#fdca26\"],[1.0,\"#f0f921\"]],\"type\":\"histogram2d\"}],\"histogram\":[{\"marker\":{\"pattern\":{\"fillmode\":\"overlay\",\"size\":10,\"solidity\":0.2}},\"type\":\"histogram\"}],\"mesh3d\":[{\"colorbar\":{\"outlinewidth\":0,\"ticks\":\"\"},\"type\":\"mesh3d\"}],\"parcoords\":[{\"line\":{\"colorbar\":{\"outlinewidth\":0,\"ticks\":\"\"}},\"type\":\"parcoords\"}],\"pie\":[{\"automargin\":true,\"type\":\"pie\"}],\"scatter3d\":[{\"line\":{\"colorbar\":{\"outlinewidth\":0,\"ticks\":\"\"}},\"marker\":{\"colorbar\":{\"outlinewidth\":0,\"ticks\":\"\"}},\"type\":\"scatter3d\"}],\"scattercarpet\":[{\"marker\":{\"colorbar\":{\"outlinewidth\":0,\"ticks\":\"\"}},\"type\":\"scattercarpet\"}],\"scattergeo\":[{\"marker\":{\"colorbar\":{\"outlinewidth\":0,\"ticks\":\"\"}},\"type\":\"scattergeo\"}],\"scattergl\":[{\"marker\":{\"line\":{\"color\":\"#283442\"}},\"type\":\"scattergl\"}],\"scattermapbox\":[{\"marker\":{\"colorbar\":{\"outlinewidth\":0,\"ticks\":\"\"}},\"type\":\"scattermapbox\"}],\"scatterpolargl\":[{\"marker\":{\"colorbar\":{\"outlinewidth\":0,\"ticks\":\"\"}},\"type\":\"scatterpolargl\"}],\"scatterpolar\":[{\"marker\":{\"colorbar\":{\"outlinewidth\":0,\"ticks\":\"\"}},\"type\":\"scatterpolar\"}],\"scatter\":[{\"marker\":{\"line\":{\"color\":\"#283442\"}},\"type\":\"scatter\"}],\"scatterternary\":[{\"marker\":{\"colorbar\":{\"outlinewidth\":0,\"ticks\":\"\"}},\"type\":\"scatterternary\"}],\"surface\":[{\"colorbar\":{\"outlinewidth\":0,\"ticks\":\"\"},\"colorscale\":[[0.0,\"#0d0887\"],[0.1111111111111111,\"#46039f\"],[0.2222222222222222,\"#7201a8\"],[0.3333333333333333,\"#9c179e\"],[0.4444444444444444,\"#bd3786\"],[0.5555555555555556,\"#d8576b\"],[0.6666666666666666,\"#ed7953\"],[0.7777777777777778,\"#fb9f3a\"],[0.8888888888888888,\"#fdca26\"],[1.0,\"#f0f921\"]],\"type\":\"surface\"}],\"table\":[{\"cells\":{\"fill\":{\"color\":\"#506784\"},\"line\":{\"color\":\"rgb(17,17,17)\"}},\"header\":{\"fill\":{\"color\":\"#2a3f5f\"},\"line\":{\"color\":\"rgb(17,17,17)\"}},\"type\":\"table\"}]},\"layout\":{\"annotationdefaults\":{\"arrowcolor\":\"#f2f5fa\",\"arrowhead\":0,\"arrowwidth\":1},\"autotypenumbers\":\"strict\",\"coloraxis\":{\"colorbar\":{\"outlinewidth\":0,\"ticks\":\"\"}},\"colorscale\":{\"diverging\":[[0,\"#8e0152\"],[0.1,\"#c51b7d\"],[0.2,\"#de77ae\"],[0.3,\"#f1b6da\"],[0.4,\"#fde0ef\"],[0.5,\"#f7f7f7\"],[0.6,\"#e6f5d0\"],[0.7,\"#b8e186\"],[0.8,\"#7fbc41\"],[0.9,\"#4d9221\"],[1,\"#276419\"]],\"sequential\":[[0.0,\"#0d0887\"],[0.1111111111111111,\"#46039f\"],[0.2222222222222222,\"#7201a8\"],[0.3333333333333333,\"#9c179e\"],[0.4444444444444444,\"#bd3786\"],[0.5555555555555556,\"#d8576b\"],[0.6666666666666666,\"#ed7953\"],[0.7777777777777778,\"#fb9f3a\"],[0.8888888888888888,\"#fdca26\"],[1.0,\"#f0f921\"]],\"sequentialminus\":[[0.0,\"#0d0887\"],[0.1111111111111111,\"#46039f\"],[0.2222222222222222,\"#7201a8\"],[0.3333333333333333,\"#9c179e\"],[0.4444444444444444,\"#bd3786\"],[0.5555555555555556,\"#d8576b\"],[0.6666666666666666,\"#ed7953\"],[0.7777777777777778,\"#fb9f3a\"],[0.8888888888888888,\"#fdca26\"],[1.0,\"#f0f921\"]]},\"colorway\":[\"#636efa\",\"#EF553B\",\"#00cc96\",\"#ab63fa\",\"#FFA15A\",\"#19d3f3\",\"#FF6692\",\"#B6E880\",\"#FF97FF\",\"#FECB52\"],\"font\":{\"color\":\"#f2f5fa\"},\"geo\":{\"bgcolor\":\"rgb(17,17,17)\",\"lakecolor\":\"rgb(17,17,17)\",\"landcolor\":\"rgb(17,17,17)\",\"showlakes\":true,\"showland\":true,\"subunitcolor\":\"#506784\"},\"hoverlabel\":{\"align\":\"left\"},\"hovermode\":\"closest\",\"mapbox\":{\"style\":\"dark\"},\"paper_bgcolor\":\"rgb(17,17,17)\",\"plot_bgcolor\":\"rgb(17,17,17)\",\"polar\":{\"angularaxis\":{\"gridcolor\":\"#506784\",\"linecolor\":\"#506784\",\"ticks\":\"\"},\"bgcolor\":\"rgb(17,17,17)\",\"radialaxis\":{\"gridcolor\":\"#506784\",\"linecolor\":\"#506784\",\"ticks\":\"\"}},\"scene\":{\"xaxis\":{\"backgroundcolor\":\"rgb(17,17,17)\",\"gridcolor\":\"#506784\",\"gridwidth\":2,\"linecolor\":\"#506784\",\"showbackground\":true,\"ticks\":\"\",\"zerolinecolor\":\"#C8D4E3\"},\"yaxis\":{\"backgroundcolor\":\"rgb(17,17,17)\",\"gridcolor\":\"#506784\",\"gridwidth\":2,\"linecolor\":\"#506784\",\"showbackground\":true,\"ticks\":\"\",\"zerolinecolor\":\"#C8D4E3\"},\"zaxis\":{\"backgroundcolor\":\"rgb(17,17,17)\",\"gridcolor\":\"#506784\",\"gridwidth\":2,\"linecolor\":\"#506784\",\"showbackground\":true,\"ticks\":\"\",\"zerolinecolor\":\"#C8D4E3\"}},\"shapedefaults\":{\"line\":{\"color\":\"#f2f5fa\"}},\"sliderdefaults\":{\"bgcolor\":\"#C8D4E3\",\"bordercolor\":\"rgb(17,17,17)\",\"borderwidth\":1,\"tickwidth\":0},\"ternary\":{\"aaxis\":{\"gridcolor\":\"#506784\",\"linecolor\":\"#506784\",\"ticks\":\"\"},\"baxis\":{\"gridcolor\":\"#506784\",\"linecolor\":\"#506784\",\"ticks\":\"\"},\"bgcolor\":\"rgb(17,17,17)\",\"caxis\":{\"gridcolor\":\"#506784\",\"linecolor\":\"#506784\",\"ticks\":\"\"}},\"title\":{\"x\":0.05},\"updatemenudefaults\":{\"bgcolor\":\"#506784\",\"borderwidth\":0},\"xaxis\":{\"automargin\":true,\"gridcolor\":\"#283442\",\"linecolor\":\"#506784\",\"ticks\":\"\",\"title\":{\"standoff\":15},\"zerolinecolor\":\"#283442\",\"zerolinewidth\":2},\"yaxis\":{\"automargin\":true,\"gridcolor\":\"#283442\",\"linecolor\":\"#506784\",\"ticks\":\"\",\"title\":{\"standoff\":15},\"zerolinecolor\":\"#283442\",\"zerolinewidth\":2}}},\"xaxis\":{\"anchor\":\"y\",\"domain\":[0.0,1.0],\"title\":{\"text\":\"1-specificity\"}},\"yaxis\":{\"anchor\":\"x\",\"domain\":[0.0,1.0],\"title\":{\"text\":\"sensitivity\"}},\"legend\":{\"tracegroupgap\":0},\"margin\":{\"t\":60},\"shapes\":[{\"line\":{\"dash\":\"dash\"},\"type\":\"line\",\"x0\":0,\"x1\":1,\"y0\":0,\"y1\":1}]},                        {\"responsive\": true}                    ).then(function(){\n                            \nvar gd = document.getElementById('f31310e5-cf5d-4cf1-8bb7-8374bb7ed3e3');\nvar x = new MutationObserver(function (mutations, observer) {{\n        var display = window.getComputedStyle(gd).display;\n        if (!display || display === 'none') {{\n            console.log([gd, 'removed!']);\n            Plotly.purge(gd);\n            observer.disconnect();\n        }}\n}});\n\n// Listen for the removal of the full notebook cells\nvar notebookContainer = gd.closest('#notebook-container');\nif (notebookContainer) {{\n    x.observe(notebookContainer, {childList: true});\n}}\n\n// Listen for the clearing of the current output cell\nvar outputEl = gd.closest('.output');\nif (outputEl) {{\n    x.observe(outputEl, {childList: true});\n}}\n\n                        })                };                });            </script>        </div>"
     },
     "metadata": {},
     "output_type": "display_data"
    }
   ],
   "source": [
    "roc_df = calculate_roc(all_metrics_flat[\"Labels-Value\"],\n",
    "                       all_metrics_flat[\"Values-Color-Center-V\"], true_value=\"True\")\n",
    "fig = px.area(roc_df,\n",
    "              x=\"1-specificity\", y=\"sensitivity\",\n",
    "              hover_data=roc_hover_data,\n",
    "                 category_orders=category_orders, labels=var_labels, template=plotly_template,\n",
    ")\n",
    "fig.add_shape( type=\"line\", line=dict(dash=\"dash\"), x0=0, x1=1, y0=0, y1=1 )\n",
    "fig.show()\n",
    "title = \"HSV ROC curve - V value\"\n",
    "save_plotly_figure(fig, title)"
   ],
   "metadata": {
    "collapsed": false
   }
  },
  {
   "cell_type": "code",
   "execution_count": 222,
   "outputs": [
    {
     "name": "stderr",
     "output_type": "stream",
     "text": [
      "/var/folders/1h/c6vmx9jd2lg6rj_wkfdl22pr0000gn/T/ipykernel_86509/1754324536.py:40: RuntimeWarning:\n",
      "\n",
      "invalid value encountered in divide\n",
      "\n",
      "/var/folders/1h/c6vmx9jd2lg6rj_wkfdl22pr0000gn/T/ipykernel_86509/1754324536.py:42: RuntimeWarning:\n",
      "\n",
      "invalid value encountered in divide\n",
      "\n"
     ]
    },
    {
     "data": {
      "application/vnd.plotly.v1+json": {
       "data": [
        {
         "customdata": [
          [
           0.99
          ],
          [
           1.5
          ],
          [
           2.5
          ],
          [
           3.5
          ],
          [
           4.5
          ],
          [
           5.5
          ],
          [
           6.5
          ],
          [
           7.5
          ],
          [
           8.5
          ],
          [
           9.5
          ],
          [
           10.01
          ]
         ],
         "fillpattern": {
          "shape": ""
         },
         "hovertemplate": "1-specificity=%{x:0.2%}<br>sensitivity=%{y:0.2%}<br>threshold=%{customdata[0]}<extra></extra>",
         "legendgroup": "",
         "line": {
          "color": "#636efa"
         },
         "marker": {
          "symbol": "circle"
         },
         "mode": "text+lines+markers",
         "name": "",
         "orientation": "v",
         "showlegend": false,
         "stackgroup": "1",
         "text": [
          0.99,
          1.5,
          2.5,
          3.5,
          4.5,
          5.5,
          6.5,
          7.5,
          8.5,
          9.5,
          10.01
         ],
         "x": [
          1.0,
          0.8817292006525286,
          0.7634584013050572,
          0.6451876019575856,
          0.5285481239804242,
          0.42088091353996737,
          0.3230016313213703,
          0.23327895595432302,
          0.1370309951060359,
          0.07422512234910272,
          0.0
         ],
         "xaxis": "x",
         "y": [
          1.0,
          1.0,
          1.0,
          1.0,
          0.9910714285714286,
          0.9330357142857143,
          0.8214285714285714,
          0.6651785714285714,
          0.5446428571428571,
          0.24107142857142858,
          0.0
         ],
         "yaxis": "y",
         "type": "scatter"
        }
       ],
       "layout": {
        "template": {
         "data": {
          "barpolar": [
           {
            "marker": {
             "line": {
              "color": "rgb(17,17,17)",
              "width": 0.5
             },
             "pattern": {
              "fillmode": "overlay",
              "size": 10,
              "solidity": 0.2
             }
            },
            "type": "barpolar"
           }
          ],
          "bar": [
           {
            "error_x": {
             "color": "#f2f5fa"
            },
            "error_y": {
             "color": "#f2f5fa"
            },
            "marker": {
             "line": {
              "color": "rgb(17,17,17)",
              "width": 0.5
             },
             "pattern": {
              "fillmode": "overlay",
              "size": 10,
              "solidity": 0.2
             }
            },
            "type": "bar"
           }
          ],
          "carpet": [
           {
            "aaxis": {
             "endlinecolor": "#A2B1C6",
             "gridcolor": "#506784",
             "linecolor": "#506784",
             "minorgridcolor": "#506784",
             "startlinecolor": "#A2B1C6"
            },
            "baxis": {
             "endlinecolor": "#A2B1C6",
             "gridcolor": "#506784",
             "linecolor": "#506784",
             "minorgridcolor": "#506784",
             "startlinecolor": "#A2B1C6"
            },
            "type": "carpet"
           }
          ],
          "choropleth": [
           {
            "colorbar": {
             "outlinewidth": 0,
             "ticks": ""
            },
            "type": "choropleth"
           }
          ],
          "contourcarpet": [
           {
            "colorbar": {
             "outlinewidth": 0,
             "ticks": ""
            },
            "type": "contourcarpet"
           }
          ],
          "contour": [
           {
            "colorbar": {
             "outlinewidth": 0,
             "ticks": ""
            },
            "colorscale": [
             [
              0.0,
              "#0d0887"
             ],
             [
              0.1111111111111111,
              "#46039f"
             ],
             [
              0.2222222222222222,
              "#7201a8"
             ],
             [
              0.3333333333333333,
              "#9c179e"
             ],
             [
              0.4444444444444444,
              "#bd3786"
             ],
             [
              0.5555555555555556,
              "#d8576b"
             ],
             [
              0.6666666666666666,
              "#ed7953"
             ],
             [
              0.7777777777777778,
              "#fb9f3a"
             ],
             [
              0.8888888888888888,
              "#fdca26"
             ],
             [
              1.0,
              "#f0f921"
             ]
            ],
            "type": "contour"
           }
          ],
          "heatmapgl": [
           {
            "colorbar": {
             "outlinewidth": 0,
             "ticks": ""
            },
            "colorscale": [
             [
              0.0,
              "#0d0887"
             ],
             [
              0.1111111111111111,
              "#46039f"
             ],
             [
              0.2222222222222222,
              "#7201a8"
             ],
             [
              0.3333333333333333,
              "#9c179e"
             ],
             [
              0.4444444444444444,
              "#bd3786"
             ],
             [
              0.5555555555555556,
              "#d8576b"
             ],
             [
              0.6666666666666666,
              "#ed7953"
             ],
             [
              0.7777777777777778,
              "#fb9f3a"
             ],
             [
              0.8888888888888888,
              "#fdca26"
             ],
             [
              1.0,
              "#f0f921"
             ]
            ],
            "type": "heatmapgl"
           }
          ],
          "heatmap": [
           {
            "colorbar": {
             "outlinewidth": 0,
             "ticks": ""
            },
            "colorscale": [
             [
              0.0,
              "#0d0887"
             ],
             [
              0.1111111111111111,
              "#46039f"
             ],
             [
              0.2222222222222222,
              "#7201a8"
             ],
             [
              0.3333333333333333,
              "#9c179e"
             ],
             [
              0.4444444444444444,
              "#bd3786"
             ],
             [
              0.5555555555555556,
              "#d8576b"
             ],
             [
              0.6666666666666666,
              "#ed7953"
             ],
             [
              0.7777777777777778,
              "#fb9f3a"
             ],
             [
              0.8888888888888888,
              "#fdca26"
             ],
             [
              1.0,
              "#f0f921"
             ]
            ],
            "type": "heatmap"
           }
          ],
          "histogram2dcontour": [
           {
            "colorbar": {
             "outlinewidth": 0,
             "ticks": ""
            },
            "colorscale": [
             [
              0.0,
              "#0d0887"
             ],
             [
              0.1111111111111111,
              "#46039f"
             ],
             [
              0.2222222222222222,
              "#7201a8"
             ],
             [
              0.3333333333333333,
              "#9c179e"
             ],
             [
              0.4444444444444444,
              "#bd3786"
             ],
             [
              0.5555555555555556,
              "#d8576b"
             ],
             [
              0.6666666666666666,
              "#ed7953"
             ],
             [
              0.7777777777777778,
              "#fb9f3a"
             ],
             [
              0.8888888888888888,
              "#fdca26"
             ],
             [
              1.0,
              "#f0f921"
             ]
            ],
            "type": "histogram2dcontour"
           }
          ],
          "histogram2d": [
           {
            "colorbar": {
             "outlinewidth": 0,
             "ticks": ""
            },
            "colorscale": [
             [
              0.0,
              "#0d0887"
             ],
             [
              0.1111111111111111,
              "#46039f"
             ],
             [
              0.2222222222222222,
              "#7201a8"
             ],
             [
              0.3333333333333333,
              "#9c179e"
             ],
             [
              0.4444444444444444,
              "#bd3786"
             ],
             [
              0.5555555555555556,
              "#d8576b"
             ],
             [
              0.6666666666666666,
              "#ed7953"
             ],
             [
              0.7777777777777778,
              "#fb9f3a"
             ],
             [
              0.8888888888888888,
              "#fdca26"
             ],
             [
              1.0,
              "#f0f921"
             ]
            ],
            "type": "histogram2d"
           }
          ],
          "histogram": [
           {
            "marker": {
             "pattern": {
              "fillmode": "overlay",
              "size": 10,
              "solidity": 0.2
             }
            },
            "type": "histogram"
           }
          ],
          "mesh3d": [
           {
            "colorbar": {
             "outlinewidth": 0,
             "ticks": ""
            },
            "type": "mesh3d"
           }
          ],
          "parcoords": [
           {
            "line": {
             "colorbar": {
              "outlinewidth": 0,
              "ticks": ""
             }
            },
            "type": "parcoords"
           }
          ],
          "pie": [
           {
            "automargin": true,
            "type": "pie"
           }
          ],
          "scatter3d": [
           {
            "line": {
             "colorbar": {
              "outlinewidth": 0,
              "ticks": ""
             }
            },
            "marker": {
             "colorbar": {
              "outlinewidth": 0,
              "ticks": ""
             }
            },
            "type": "scatter3d"
           }
          ],
          "scattercarpet": [
           {
            "marker": {
             "colorbar": {
              "outlinewidth": 0,
              "ticks": ""
             }
            },
            "type": "scattercarpet"
           }
          ],
          "scattergeo": [
           {
            "marker": {
             "colorbar": {
              "outlinewidth": 0,
              "ticks": ""
             }
            },
            "type": "scattergeo"
           }
          ],
          "scattergl": [
           {
            "marker": {
             "line": {
              "color": "#283442"
             }
            },
            "type": "scattergl"
           }
          ],
          "scattermapbox": [
           {
            "marker": {
             "colorbar": {
              "outlinewidth": 0,
              "ticks": ""
             }
            },
            "type": "scattermapbox"
           }
          ],
          "scatterpolargl": [
           {
            "marker": {
             "colorbar": {
              "outlinewidth": 0,
              "ticks": ""
             }
            },
            "type": "scatterpolargl"
           }
          ],
          "scatterpolar": [
           {
            "marker": {
             "colorbar": {
              "outlinewidth": 0,
              "ticks": ""
             }
            },
            "type": "scatterpolar"
           }
          ],
          "scatter": [
           {
            "marker": {
             "line": {
              "color": "#283442"
             }
            },
            "type": "scatter"
           }
          ],
          "scatterternary": [
           {
            "marker": {
             "colorbar": {
              "outlinewidth": 0,
              "ticks": ""
             }
            },
            "type": "scatterternary"
           }
          ],
          "surface": [
           {
            "colorbar": {
             "outlinewidth": 0,
             "ticks": ""
            },
            "colorscale": [
             [
              0.0,
              "#0d0887"
             ],
             [
              0.1111111111111111,
              "#46039f"
             ],
             [
              0.2222222222222222,
              "#7201a8"
             ],
             [
              0.3333333333333333,
              "#9c179e"
             ],
             [
              0.4444444444444444,
              "#bd3786"
             ],
             [
              0.5555555555555556,
              "#d8576b"
             ],
             [
              0.6666666666666666,
              "#ed7953"
             ],
             [
              0.7777777777777778,
              "#fb9f3a"
             ],
             [
              0.8888888888888888,
              "#fdca26"
             ],
             [
              1.0,
              "#f0f921"
             ]
            ],
            "type": "surface"
           }
          ],
          "table": [
           {
            "cells": {
             "fill": {
              "color": "#506784"
             },
             "line": {
              "color": "rgb(17,17,17)"
             }
            },
            "header": {
             "fill": {
              "color": "#2a3f5f"
             },
             "line": {
              "color": "rgb(17,17,17)"
             }
            },
            "type": "table"
           }
          ]
         },
         "layout": {
          "annotationdefaults": {
           "arrowcolor": "#f2f5fa",
           "arrowhead": 0,
           "arrowwidth": 1
          },
          "autotypenumbers": "strict",
          "coloraxis": {
           "colorbar": {
            "outlinewidth": 0,
            "ticks": ""
           }
          },
          "colorscale": {
           "diverging": [
            [
             0,
             "#8e0152"
            ],
            [
             0.1,
             "#c51b7d"
            ],
            [
             0.2,
             "#de77ae"
            ],
            [
             0.3,
             "#f1b6da"
            ],
            [
             0.4,
             "#fde0ef"
            ],
            [
             0.5,
             "#f7f7f7"
            ],
            [
             0.6,
             "#e6f5d0"
            ],
            [
             0.7,
             "#b8e186"
            ],
            [
             0.8,
             "#7fbc41"
            ],
            [
             0.9,
             "#4d9221"
            ],
            [
             1,
             "#276419"
            ]
           ],
           "sequential": [
            [
             0.0,
             "#0d0887"
            ],
            [
             0.1111111111111111,
             "#46039f"
            ],
            [
             0.2222222222222222,
             "#7201a8"
            ],
            [
             0.3333333333333333,
             "#9c179e"
            ],
            [
             0.4444444444444444,
             "#bd3786"
            ],
            [
             0.5555555555555556,
             "#d8576b"
            ],
            [
             0.6666666666666666,
             "#ed7953"
            ],
            [
             0.7777777777777778,
             "#fb9f3a"
            ],
            [
             0.8888888888888888,
             "#fdca26"
            ],
            [
             1.0,
             "#f0f921"
            ]
           ],
           "sequentialminus": [
            [
             0.0,
             "#0d0887"
            ],
            [
             0.1111111111111111,
             "#46039f"
            ],
            [
             0.2222222222222222,
             "#7201a8"
            ],
            [
             0.3333333333333333,
             "#9c179e"
            ],
            [
             0.4444444444444444,
             "#bd3786"
            ],
            [
             0.5555555555555556,
             "#d8576b"
            ],
            [
             0.6666666666666666,
             "#ed7953"
            ],
            [
             0.7777777777777778,
             "#fb9f3a"
            ],
            [
             0.8888888888888888,
             "#fdca26"
            ],
            [
             1.0,
             "#f0f921"
            ]
           ]
          },
          "colorway": [
           "#636efa",
           "#EF553B",
           "#00cc96",
           "#ab63fa",
           "#FFA15A",
           "#19d3f3",
           "#FF6692",
           "#B6E880",
           "#FF97FF",
           "#FECB52"
          ],
          "font": {
           "color": "#f2f5fa"
          },
          "geo": {
           "bgcolor": "rgb(17,17,17)",
           "lakecolor": "rgb(17,17,17)",
           "landcolor": "rgb(17,17,17)",
           "showlakes": true,
           "showland": true,
           "subunitcolor": "#506784"
          },
          "hoverlabel": {
           "align": "left"
          },
          "hovermode": "closest",
          "mapbox": {
           "style": "dark"
          },
          "paper_bgcolor": "rgb(17,17,17)",
          "plot_bgcolor": "rgb(17,17,17)",
          "polar": {
           "angularaxis": {
            "gridcolor": "#506784",
            "linecolor": "#506784",
            "ticks": ""
           },
           "bgcolor": "rgb(17,17,17)",
           "radialaxis": {
            "gridcolor": "#506784",
            "linecolor": "#506784",
            "ticks": ""
           }
          },
          "scene": {
           "xaxis": {
            "backgroundcolor": "rgb(17,17,17)",
            "gridcolor": "#506784",
            "gridwidth": 2,
            "linecolor": "#506784",
            "showbackground": true,
            "ticks": "",
            "zerolinecolor": "#C8D4E3"
           },
           "yaxis": {
            "backgroundcolor": "rgb(17,17,17)",
            "gridcolor": "#506784",
            "gridwidth": 2,
            "linecolor": "#506784",
            "showbackground": true,
            "ticks": "",
            "zerolinecolor": "#C8D4E3"
           },
           "zaxis": {
            "backgroundcolor": "rgb(17,17,17)",
            "gridcolor": "#506784",
            "gridwidth": 2,
            "linecolor": "#506784",
            "showbackground": true,
            "ticks": "",
            "zerolinecolor": "#C8D4E3"
           }
          },
          "shapedefaults": {
           "line": {
            "color": "#f2f5fa"
           }
          },
          "sliderdefaults": {
           "bgcolor": "#C8D4E3",
           "bordercolor": "rgb(17,17,17)",
           "borderwidth": 1,
           "tickwidth": 0
          },
          "ternary": {
           "aaxis": {
            "gridcolor": "#506784",
            "linecolor": "#506784",
            "ticks": ""
           },
           "baxis": {
            "gridcolor": "#506784",
            "linecolor": "#506784",
            "ticks": ""
           },
           "bgcolor": "rgb(17,17,17)",
           "caxis": {
            "gridcolor": "#506784",
            "linecolor": "#506784",
            "ticks": ""
           }
          },
          "title": {
           "x": 0.05
          },
          "updatemenudefaults": {
           "bgcolor": "#506784",
           "borderwidth": 0
          },
          "xaxis": {
           "automargin": true,
           "gridcolor": "#283442",
           "linecolor": "#506784",
           "ticks": "",
           "title": {
            "standoff": 15
           },
           "zerolinecolor": "#283442",
           "zerolinewidth": 2
          },
          "yaxis": {
           "automargin": true,
           "gridcolor": "#283442",
           "linecolor": "#506784",
           "ticks": "",
           "title": {
            "standoff": 15
           },
           "zerolinecolor": "#283442",
           "zerolinewidth": 2
          }
         }
        },
        "xaxis": {
         "anchor": "y",
         "domain": [
          0.0,
          1.0
         ],
         "title": {
          "text": "1-specificity"
         }
        },
        "yaxis": {
         "anchor": "x",
         "domain": [
          0.0,
          1.0
         ],
         "title": {
          "text": "sensitivity"
         }
        },
        "legend": {
         "tracegroupgap": 0
        },
        "margin": {
         "t": 60
        },
        "shapes": [
         {
          "line": {
           "dash": "dash"
          },
          "type": "line",
          "x0": 0,
          "x1": 1,
          "y0": 0,
          "y1": 1
         }
        ]
       },
       "config": {
        "plotlyServerURL": "https://plot.ly"
       }
      },
      "text/html": "<div>                            <div id=\"6e1afb8f-f4a1-4966-ad66-f15a133bd857\" class=\"plotly-graph-div\" style=\"height:525px; width:100%;\"></div>            <script type=\"text/javascript\">                require([\"plotly\"], function(Plotly) {                    window.PLOTLYENV=window.PLOTLYENV || {};                                    if (document.getElementById(\"6e1afb8f-f4a1-4966-ad66-f15a133bd857\")) {                    Plotly.newPlot(                        \"6e1afb8f-f4a1-4966-ad66-f15a133bd857\",                        [{\"customdata\":[[0.99],[1.5],[2.5],[3.5],[4.5],[5.5],[6.5],[7.5],[8.5],[9.5],[10.01]],\"fillpattern\":{\"shape\":\"\"},\"hovertemplate\":\"1-specificity=%{x:0.2%}<br>sensitivity=%{y:0.2%}<br>threshold=%{customdata[0]}<extra></extra>\",\"legendgroup\":\"\",\"line\":{\"color\":\"#636efa\"},\"marker\":{\"symbol\":\"circle\"},\"mode\":\"text+lines+markers\",\"name\":\"\",\"orientation\":\"v\",\"showlegend\":false,\"stackgroup\":\"1\",\"text\":[0.99,1.5,2.5,3.5,4.5,5.5,6.5,7.5,8.5,9.5,10.01],\"x\":[1.0,0.8817292006525286,0.7634584013050572,0.6451876019575856,0.5285481239804242,0.42088091353996737,0.3230016313213703,0.23327895595432302,0.1370309951060359,0.07422512234910272,0.0],\"xaxis\":\"x\",\"y\":[1.0,1.0,1.0,1.0,0.9910714285714286,0.9330357142857143,0.8214285714285714,0.6651785714285714,0.5446428571428571,0.24107142857142858,0.0],\"yaxis\":\"y\",\"type\":\"scatter\"}],                        {\"template\":{\"data\":{\"barpolar\":[{\"marker\":{\"line\":{\"color\":\"rgb(17,17,17)\",\"width\":0.5},\"pattern\":{\"fillmode\":\"overlay\",\"size\":10,\"solidity\":0.2}},\"type\":\"barpolar\"}],\"bar\":[{\"error_x\":{\"color\":\"#f2f5fa\"},\"error_y\":{\"color\":\"#f2f5fa\"},\"marker\":{\"line\":{\"color\":\"rgb(17,17,17)\",\"width\":0.5},\"pattern\":{\"fillmode\":\"overlay\",\"size\":10,\"solidity\":0.2}},\"type\":\"bar\"}],\"carpet\":[{\"aaxis\":{\"endlinecolor\":\"#A2B1C6\",\"gridcolor\":\"#506784\",\"linecolor\":\"#506784\",\"minorgridcolor\":\"#506784\",\"startlinecolor\":\"#A2B1C6\"},\"baxis\":{\"endlinecolor\":\"#A2B1C6\",\"gridcolor\":\"#506784\",\"linecolor\":\"#506784\",\"minorgridcolor\":\"#506784\",\"startlinecolor\":\"#A2B1C6\"},\"type\":\"carpet\"}],\"choropleth\":[{\"colorbar\":{\"outlinewidth\":0,\"ticks\":\"\"},\"type\":\"choropleth\"}],\"contourcarpet\":[{\"colorbar\":{\"outlinewidth\":0,\"ticks\":\"\"},\"type\":\"contourcarpet\"}],\"contour\":[{\"colorbar\":{\"outlinewidth\":0,\"ticks\":\"\"},\"colorscale\":[[0.0,\"#0d0887\"],[0.1111111111111111,\"#46039f\"],[0.2222222222222222,\"#7201a8\"],[0.3333333333333333,\"#9c179e\"],[0.4444444444444444,\"#bd3786\"],[0.5555555555555556,\"#d8576b\"],[0.6666666666666666,\"#ed7953\"],[0.7777777777777778,\"#fb9f3a\"],[0.8888888888888888,\"#fdca26\"],[1.0,\"#f0f921\"]],\"type\":\"contour\"}],\"heatmapgl\":[{\"colorbar\":{\"outlinewidth\":0,\"ticks\":\"\"},\"colorscale\":[[0.0,\"#0d0887\"],[0.1111111111111111,\"#46039f\"],[0.2222222222222222,\"#7201a8\"],[0.3333333333333333,\"#9c179e\"],[0.4444444444444444,\"#bd3786\"],[0.5555555555555556,\"#d8576b\"],[0.6666666666666666,\"#ed7953\"],[0.7777777777777778,\"#fb9f3a\"],[0.8888888888888888,\"#fdca26\"],[1.0,\"#f0f921\"]],\"type\":\"heatmapgl\"}],\"heatmap\":[{\"colorbar\":{\"outlinewidth\":0,\"ticks\":\"\"},\"colorscale\":[[0.0,\"#0d0887\"],[0.1111111111111111,\"#46039f\"],[0.2222222222222222,\"#7201a8\"],[0.3333333333333333,\"#9c179e\"],[0.4444444444444444,\"#bd3786\"],[0.5555555555555556,\"#d8576b\"],[0.6666666666666666,\"#ed7953\"],[0.7777777777777778,\"#fb9f3a\"],[0.8888888888888888,\"#fdca26\"],[1.0,\"#f0f921\"]],\"type\":\"heatmap\"}],\"histogram2dcontour\":[{\"colorbar\":{\"outlinewidth\":0,\"ticks\":\"\"},\"colorscale\":[[0.0,\"#0d0887\"],[0.1111111111111111,\"#46039f\"],[0.2222222222222222,\"#7201a8\"],[0.3333333333333333,\"#9c179e\"],[0.4444444444444444,\"#bd3786\"],[0.5555555555555556,\"#d8576b\"],[0.6666666666666666,\"#ed7953\"],[0.7777777777777778,\"#fb9f3a\"],[0.8888888888888888,\"#fdca26\"],[1.0,\"#f0f921\"]],\"type\":\"histogram2dcontour\"}],\"histogram2d\":[{\"colorbar\":{\"outlinewidth\":0,\"ticks\":\"\"},\"colorscale\":[[0.0,\"#0d0887\"],[0.1111111111111111,\"#46039f\"],[0.2222222222222222,\"#7201a8\"],[0.3333333333333333,\"#9c179e\"],[0.4444444444444444,\"#bd3786\"],[0.5555555555555556,\"#d8576b\"],[0.6666666666666666,\"#ed7953\"],[0.7777777777777778,\"#fb9f3a\"],[0.8888888888888888,\"#fdca26\"],[1.0,\"#f0f921\"]],\"type\":\"histogram2d\"}],\"histogram\":[{\"marker\":{\"pattern\":{\"fillmode\":\"overlay\",\"size\":10,\"solidity\":0.2}},\"type\":\"histogram\"}],\"mesh3d\":[{\"colorbar\":{\"outlinewidth\":0,\"ticks\":\"\"},\"type\":\"mesh3d\"}],\"parcoords\":[{\"line\":{\"colorbar\":{\"outlinewidth\":0,\"ticks\":\"\"}},\"type\":\"parcoords\"}],\"pie\":[{\"automargin\":true,\"type\":\"pie\"}],\"scatter3d\":[{\"line\":{\"colorbar\":{\"outlinewidth\":0,\"ticks\":\"\"}},\"marker\":{\"colorbar\":{\"outlinewidth\":0,\"ticks\":\"\"}},\"type\":\"scatter3d\"}],\"scattercarpet\":[{\"marker\":{\"colorbar\":{\"outlinewidth\":0,\"ticks\":\"\"}},\"type\":\"scattercarpet\"}],\"scattergeo\":[{\"marker\":{\"colorbar\":{\"outlinewidth\":0,\"ticks\":\"\"}},\"type\":\"scattergeo\"}],\"scattergl\":[{\"marker\":{\"line\":{\"color\":\"#283442\"}},\"type\":\"scattergl\"}],\"scattermapbox\":[{\"marker\":{\"colorbar\":{\"outlinewidth\":0,\"ticks\":\"\"}},\"type\":\"scattermapbox\"}],\"scatterpolargl\":[{\"marker\":{\"colorbar\":{\"outlinewidth\":0,\"ticks\":\"\"}},\"type\":\"scatterpolargl\"}],\"scatterpolar\":[{\"marker\":{\"colorbar\":{\"outlinewidth\":0,\"ticks\":\"\"}},\"type\":\"scatterpolar\"}],\"scatter\":[{\"marker\":{\"line\":{\"color\":\"#283442\"}},\"type\":\"scatter\"}],\"scatterternary\":[{\"marker\":{\"colorbar\":{\"outlinewidth\":0,\"ticks\":\"\"}},\"type\":\"scatterternary\"}],\"surface\":[{\"colorbar\":{\"outlinewidth\":0,\"ticks\":\"\"},\"colorscale\":[[0.0,\"#0d0887\"],[0.1111111111111111,\"#46039f\"],[0.2222222222222222,\"#7201a8\"],[0.3333333333333333,\"#9c179e\"],[0.4444444444444444,\"#bd3786\"],[0.5555555555555556,\"#d8576b\"],[0.6666666666666666,\"#ed7953\"],[0.7777777777777778,\"#fb9f3a\"],[0.8888888888888888,\"#fdca26\"],[1.0,\"#f0f921\"]],\"type\":\"surface\"}],\"table\":[{\"cells\":{\"fill\":{\"color\":\"#506784\"},\"line\":{\"color\":\"rgb(17,17,17)\"}},\"header\":{\"fill\":{\"color\":\"#2a3f5f\"},\"line\":{\"color\":\"rgb(17,17,17)\"}},\"type\":\"table\"}]},\"layout\":{\"annotationdefaults\":{\"arrowcolor\":\"#f2f5fa\",\"arrowhead\":0,\"arrowwidth\":1},\"autotypenumbers\":\"strict\",\"coloraxis\":{\"colorbar\":{\"outlinewidth\":0,\"ticks\":\"\"}},\"colorscale\":{\"diverging\":[[0,\"#8e0152\"],[0.1,\"#c51b7d\"],[0.2,\"#de77ae\"],[0.3,\"#f1b6da\"],[0.4,\"#fde0ef\"],[0.5,\"#f7f7f7\"],[0.6,\"#e6f5d0\"],[0.7,\"#b8e186\"],[0.8,\"#7fbc41\"],[0.9,\"#4d9221\"],[1,\"#276419\"]],\"sequential\":[[0.0,\"#0d0887\"],[0.1111111111111111,\"#46039f\"],[0.2222222222222222,\"#7201a8\"],[0.3333333333333333,\"#9c179e\"],[0.4444444444444444,\"#bd3786\"],[0.5555555555555556,\"#d8576b\"],[0.6666666666666666,\"#ed7953\"],[0.7777777777777778,\"#fb9f3a\"],[0.8888888888888888,\"#fdca26\"],[1.0,\"#f0f921\"]],\"sequentialminus\":[[0.0,\"#0d0887\"],[0.1111111111111111,\"#46039f\"],[0.2222222222222222,\"#7201a8\"],[0.3333333333333333,\"#9c179e\"],[0.4444444444444444,\"#bd3786\"],[0.5555555555555556,\"#d8576b\"],[0.6666666666666666,\"#ed7953\"],[0.7777777777777778,\"#fb9f3a\"],[0.8888888888888888,\"#fdca26\"],[1.0,\"#f0f921\"]]},\"colorway\":[\"#636efa\",\"#EF553B\",\"#00cc96\",\"#ab63fa\",\"#FFA15A\",\"#19d3f3\",\"#FF6692\",\"#B6E880\",\"#FF97FF\",\"#FECB52\"],\"font\":{\"color\":\"#f2f5fa\"},\"geo\":{\"bgcolor\":\"rgb(17,17,17)\",\"lakecolor\":\"rgb(17,17,17)\",\"landcolor\":\"rgb(17,17,17)\",\"showlakes\":true,\"showland\":true,\"subunitcolor\":\"#506784\"},\"hoverlabel\":{\"align\":\"left\"},\"hovermode\":\"closest\",\"mapbox\":{\"style\":\"dark\"},\"paper_bgcolor\":\"rgb(17,17,17)\",\"plot_bgcolor\":\"rgb(17,17,17)\",\"polar\":{\"angularaxis\":{\"gridcolor\":\"#506784\",\"linecolor\":\"#506784\",\"ticks\":\"\"},\"bgcolor\":\"rgb(17,17,17)\",\"radialaxis\":{\"gridcolor\":\"#506784\",\"linecolor\":\"#506784\",\"ticks\":\"\"}},\"scene\":{\"xaxis\":{\"backgroundcolor\":\"rgb(17,17,17)\",\"gridcolor\":\"#506784\",\"gridwidth\":2,\"linecolor\":\"#506784\",\"showbackground\":true,\"ticks\":\"\",\"zerolinecolor\":\"#C8D4E3\"},\"yaxis\":{\"backgroundcolor\":\"rgb(17,17,17)\",\"gridcolor\":\"#506784\",\"gridwidth\":2,\"linecolor\":\"#506784\",\"showbackground\":true,\"ticks\":\"\",\"zerolinecolor\":\"#C8D4E3\"},\"zaxis\":{\"backgroundcolor\":\"rgb(17,17,17)\",\"gridcolor\":\"#506784\",\"gridwidth\":2,\"linecolor\":\"#506784\",\"showbackground\":true,\"ticks\":\"\",\"zerolinecolor\":\"#C8D4E3\"}},\"shapedefaults\":{\"line\":{\"color\":\"#f2f5fa\"}},\"sliderdefaults\":{\"bgcolor\":\"#C8D4E3\",\"bordercolor\":\"rgb(17,17,17)\",\"borderwidth\":1,\"tickwidth\":0},\"ternary\":{\"aaxis\":{\"gridcolor\":\"#506784\",\"linecolor\":\"#506784\",\"ticks\":\"\"},\"baxis\":{\"gridcolor\":\"#506784\",\"linecolor\":\"#506784\",\"ticks\":\"\"},\"bgcolor\":\"rgb(17,17,17)\",\"caxis\":{\"gridcolor\":\"#506784\",\"linecolor\":\"#506784\",\"ticks\":\"\"}},\"title\":{\"x\":0.05},\"updatemenudefaults\":{\"bgcolor\":\"#506784\",\"borderwidth\":0},\"xaxis\":{\"automargin\":true,\"gridcolor\":\"#283442\",\"linecolor\":\"#506784\",\"ticks\":\"\",\"title\":{\"standoff\":15},\"zerolinecolor\":\"#283442\",\"zerolinewidth\":2},\"yaxis\":{\"automargin\":true,\"gridcolor\":\"#283442\",\"linecolor\":\"#506784\",\"ticks\":\"\",\"title\":{\"standoff\":15},\"zerolinecolor\":\"#283442\",\"zerolinewidth\":2}}},\"xaxis\":{\"anchor\":\"y\",\"domain\":[0.0,1.0],\"title\":{\"text\":\"1-specificity\"}},\"yaxis\":{\"anchor\":\"x\",\"domain\":[0.0,1.0],\"title\":{\"text\":\"sensitivity\"}},\"legend\":{\"tracegroupgap\":0},\"margin\":{\"t\":60},\"shapes\":[{\"line\":{\"dash\":\"dash\"},\"type\":\"line\",\"x0\":0,\"x1\":1,\"y0\":0,\"y1\":1}]},                        {\"responsive\": true}                    ).then(function(){\n                            \nvar gd = document.getElementById('6e1afb8f-f4a1-4966-ad66-f15a133bd857');\nvar x = new MutationObserver(function (mutations, observer) {{\n        var display = window.getComputedStyle(gd).display;\n        if (!display || display === 'none') {{\n            console.log([gd, 'removed!']);\n            Plotly.purge(gd);\n            observer.disconnect();\n        }}\n}});\n\n// Listen for the removal of the full notebook cells\nvar notebookContainer = gd.closest('#notebook-container');\nif (notebookContainer) {{\n    x.observe(notebookContainer, {childList: true});\n}}\n\n// Listen for the clearing of the current output cell\nvar outputEl = gd.closest('.output');\nif (outputEl) {{\n    x.observe(outputEl, {childList: true});\n}}\n\n                        })                };                });            </script>        </div>"
     },
     "metadata": {},
     "output_type": "display_data"
    }
   ],
   "source": [
    "roc_df = calculate_roc(all_metrics_flat[\"Labels-Value\"],\n",
    "                       all_metrics_flat[\"Ranks-Color-Center-V\"], true_value=\"True\")\n",
    "fig = px.area(roc_df,\n",
    "              x=\"1-specificity\", y=\"sensitivity\",\n",
    "              hover_data=roc_hover_data, text=\"threshold\",\n",
    "                 category_orders=category_orders, labels=var_labels, template=plotly_template,\n",
    ")\n",
    "fig.add_shape( type=\"line\", line=dict(dash=\"dash\"), x0=0, x1=1, y0=0, y1=1 )\n",
    "fig.show()\n",
    "title = \"HSV ROC curve - V rank\"\n",
    "save_plotly_figure(fig, title)"
   ],
   "metadata": {
    "collapsed": false
   }
  },
  {
   "cell_type": "code",
   "execution_count": 224,
   "outputs": [
    {
     "name": "stderr",
     "output_type": "stream",
     "text": [
      "/var/folders/1h/c6vmx9jd2lg6rj_wkfdl22pr0000gn/T/ipykernel_86509/1754324536.py:40: RuntimeWarning:\n",
      "\n",
      "invalid value encountered in divide\n",
      "\n",
      "/var/folders/1h/c6vmx9jd2lg6rj_wkfdl22pr0000gn/T/ipykernel_86509/1754324536.py:42: RuntimeWarning:\n",
      "\n",
      "invalid value encountered in divide\n",
      "\n"
     ]
    },
    {
     "data": {
      "application/vnd.plotly.v1+json": {
       "data": [
        {
         "customdata": [
          [
           0.99
          ],
          [
           1.5
          ],
          [
           2.5
          ],
          [
           3.5
          ],
          [
           4.5
          ],
          [
           5.5
          ],
          [
           6.5
          ],
          [
           7.5
          ],
          [
           8.5
          ],
          [
           9.5
          ],
          [
           10.01
          ]
         ],
         "hovertemplate": "1-specificity=%{x:0.2%}<br>sensitivity=%{y:0.2%}<br>threshold=%{customdata[0]}<extra></extra>",
         "legendgroup": "",
         "line": {
          "color": "#636efa",
          "dash": "solid"
         },
         "marker": {
          "symbol": "circle"
         },
         "mode": "text+lines+markers",
         "name": "",
         "orientation": "v",
         "showlegend": false,
         "text": [
          0.99,
          1.5,
          2.5,
          3.5,
          4.5,
          5.5,
          6.5,
          7.5,
          8.5,
          9.5,
          10.01
         ],
         "x": [
          1.0,
          0.9176182707993474,
          0.833605220228385,
          0.733278955954323,
          0.6353996737357259,
          0.5367047308319739,
          0.42985318107667214,
          0.3213703099510603,
          0.2153344208809136,
          0.11174551386623166,
          0.0
         ],
         "xaxis": "x",
         "y": [
          1.0,
          0.8035714285714286,
          0.6160714285714286,
          0.5178571428571429,
          0.40625,
          0.29910714285714285,
          0.23660714285714285,
          0.18303571428571427,
          0.11607142857142858,
          0.03571428571428571,
          0.0
         ],
         "yaxis": "y",
         "type": "scatter"
        }
       ],
       "layout": {
        "template": {
         "data": {
          "barpolar": [
           {
            "marker": {
             "line": {
              "color": "rgb(17,17,17)",
              "width": 0.5
             },
             "pattern": {
              "fillmode": "overlay",
              "size": 10,
              "solidity": 0.2
             }
            },
            "type": "barpolar"
           }
          ],
          "bar": [
           {
            "error_x": {
             "color": "#f2f5fa"
            },
            "error_y": {
             "color": "#f2f5fa"
            },
            "marker": {
             "line": {
              "color": "rgb(17,17,17)",
              "width": 0.5
             },
             "pattern": {
              "fillmode": "overlay",
              "size": 10,
              "solidity": 0.2
             }
            },
            "type": "bar"
           }
          ],
          "carpet": [
           {
            "aaxis": {
             "endlinecolor": "#A2B1C6",
             "gridcolor": "#506784",
             "linecolor": "#506784",
             "minorgridcolor": "#506784",
             "startlinecolor": "#A2B1C6"
            },
            "baxis": {
             "endlinecolor": "#A2B1C6",
             "gridcolor": "#506784",
             "linecolor": "#506784",
             "minorgridcolor": "#506784",
             "startlinecolor": "#A2B1C6"
            },
            "type": "carpet"
           }
          ],
          "choropleth": [
           {
            "colorbar": {
             "outlinewidth": 0,
             "ticks": ""
            },
            "type": "choropleth"
           }
          ],
          "contourcarpet": [
           {
            "colorbar": {
             "outlinewidth": 0,
             "ticks": ""
            },
            "type": "contourcarpet"
           }
          ],
          "contour": [
           {
            "colorbar": {
             "outlinewidth": 0,
             "ticks": ""
            },
            "colorscale": [
             [
              0.0,
              "#0d0887"
             ],
             [
              0.1111111111111111,
              "#46039f"
             ],
             [
              0.2222222222222222,
              "#7201a8"
             ],
             [
              0.3333333333333333,
              "#9c179e"
             ],
             [
              0.4444444444444444,
              "#bd3786"
             ],
             [
              0.5555555555555556,
              "#d8576b"
             ],
             [
              0.6666666666666666,
              "#ed7953"
             ],
             [
              0.7777777777777778,
              "#fb9f3a"
             ],
             [
              0.8888888888888888,
              "#fdca26"
             ],
             [
              1.0,
              "#f0f921"
             ]
            ],
            "type": "contour"
           }
          ],
          "heatmapgl": [
           {
            "colorbar": {
             "outlinewidth": 0,
             "ticks": ""
            },
            "colorscale": [
             [
              0.0,
              "#0d0887"
             ],
             [
              0.1111111111111111,
              "#46039f"
             ],
             [
              0.2222222222222222,
              "#7201a8"
             ],
             [
              0.3333333333333333,
              "#9c179e"
             ],
             [
              0.4444444444444444,
              "#bd3786"
             ],
             [
              0.5555555555555556,
              "#d8576b"
             ],
             [
              0.6666666666666666,
              "#ed7953"
             ],
             [
              0.7777777777777778,
              "#fb9f3a"
             ],
             [
              0.8888888888888888,
              "#fdca26"
             ],
             [
              1.0,
              "#f0f921"
             ]
            ],
            "type": "heatmapgl"
           }
          ],
          "heatmap": [
           {
            "colorbar": {
             "outlinewidth": 0,
             "ticks": ""
            },
            "colorscale": [
             [
              0.0,
              "#0d0887"
             ],
             [
              0.1111111111111111,
              "#46039f"
             ],
             [
              0.2222222222222222,
              "#7201a8"
             ],
             [
              0.3333333333333333,
              "#9c179e"
             ],
             [
              0.4444444444444444,
              "#bd3786"
             ],
             [
              0.5555555555555556,
              "#d8576b"
             ],
             [
              0.6666666666666666,
              "#ed7953"
             ],
             [
              0.7777777777777778,
              "#fb9f3a"
             ],
             [
              0.8888888888888888,
              "#fdca26"
             ],
             [
              1.0,
              "#f0f921"
             ]
            ],
            "type": "heatmap"
           }
          ],
          "histogram2dcontour": [
           {
            "colorbar": {
             "outlinewidth": 0,
             "ticks": ""
            },
            "colorscale": [
             [
              0.0,
              "#0d0887"
             ],
             [
              0.1111111111111111,
              "#46039f"
             ],
             [
              0.2222222222222222,
              "#7201a8"
             ],
             [
              0.3333333333333333,
              "#9c179e"
             ],
             [
              0.4444444444444444,
              "#bd3786"
             ],
             [
              0.5555555555555556,
              "#d8576b"
             ],
             [
              0.6666666666666666,
              "#ed7953"
             ],
             [
              0.7777777777777778,
              "#fb9f3a"
             ],
             [
              0.8888888888888888,
              "#fdca26"
             ],
             [
              1.0,
              "#f0f921"
             ]
            ],
            "type": "histogram2dcontour"
           }
          ],
          "histogram2d": [
           {
            "colorbar": {
             "outlinewidth": 0,
             "ticks": ""
            },
            "colorscale": [
             [
              0.0,
              "#0d0887"
             ],
             [
              0.1111111111111111,
              "#46039f"
             ],
             [
              0.2222222222222222,
              "#7201a8"
             ],
             [
              0.3333333333333333,
              "#9c179e"
             ],
             [
              0.4444444444444444,
              "#bd3786"
             ],
             [
              0.5555555555555556,
              "#d8576b"
             ],
             [
              0.6666666666666666,
              "#ed7953"
             ],
             [
              0.7777777777777778,
              "#fb9f3a"
             ],
             [
              0.8888888888888888,
              "#fdca26"
             ],
             [
              1.0,
              "#f0f921"
             ]
            ],
            "type": "histogram2d"
           }
          ],
          "histogram": [
           {
            "marker": {
             "pattern": {
              "fillmode": "overlay",
              "size": 10,
              "solidity": 0.2
             }
            },
            "type": "histogram"
           }
          ],
          "mesh3d": [
           {
            "colorbar": {
             "outlinewidth": 0,
             "ticks": ""
            },
            "type": "mesh3d"
           }
          ],
          "parcoords": [
           {
            "line": {
             "colorbar": {
              "outlinewidth": 0,
              "ticks": ""
             }
            },
            "type": "parcoords"
           }
          ],
          "pie": [
           {
            "automargin": true,
            "type": "pie"
           }
          ],
          "scatter3d": [
           {
            "line": {
             "colorbar": {
              "outlinewidth": 0,
              "ticks": ""
             }
            },
            "marker": {
             "colorbar": {
              "outlinewidth": 0,
              "ticks": ""
             }
            },
            "type": "scatter3d"
           }
          ],
          "scattercarpet": [
           {
            "marker": {
             "colorbar": {
              "outlinewidth": 0,
              "ticks": ""
             }
            },
            "type": "scattercarpet"
           }
          ],
          "scattergeo": [
           {
            "marker": {
             "colorbar": {
              "outlinewidth": 0,
              "ticks": ""
             }
            },
            "type": "scattergeo"
           }
          ],
          "scattergl": [
           {
            "marker": {
             "line": {
              "color": "#283442"
             }
            },
            "type": "scattergl"
           }
          ],
          "scattermapbox": [
           {
            "marker": {
             "colorbar": {
              "outlinewidth": 0,
              "ticks": ""
             }
            },
            "type": "scattermapbox"
           }
          ],
          "scatterpolargl": [
           {
            "marker": {
             "colorbar": {
              "outlinewidth": 0,
              "ticks": ""
             }
            },
            "type": "scatterpolargl"
           }
          ],
          "scatterpolar": [
           {
            "marker": {
             "colorbar": {
              "outlinewidth": 0,
              "ticks": ""
             }
            },
            "type": "scatterpolar"
           }
          ],
          "scatter": [
           {
            "marker": {
             "line": {
              "color": "#283442"
             }
            },
            "type": "scatter"
           }
          ],
          "scatterternary": [
           {
            "marker": {
             "colorbar": {
              "outlinewidth": 0,
              "ticks": ""
             }
            },
            "type": "scatterternary"
           }
          ],
          "surface": [
           {
            "colorbar": {
             "outlinewidth": 0,
             "ticks": ""
            },
            "colorscale": [
             [
              0.0,
              "#0d0887"
             ],
             [
              0.1111111111111111,
              "#46039f"
             ],
             [
              0.2222222222222222,
              "#7201a8"
             ],
             [
              0.3333333333333333,
              "#9c179e"
             ],
             [
              0.4444444444444444,
              "#bd3786"
             ],
             [
              0.5555555555555556,
              "#d8576b"
             ],
             [
              0.6666666666666666,
              "#ed7953"
             ],
             [
              0.7777777777777778,
              "#fb9f3a"
             ],
             [
              0.8888888888888888,
              "#fdca26"
             ],
             [
              1.0,
              "#f0f921"
             ]
            ],
            "type": "surface"
           }
          ],
          "table": [
           {
            "cells": {
             "fill": {
              "color": "#506784"
             },
             "line": {
              "color": "rgb(17,17,17)"
             }
            },
            "header": {
             "fill": {
              "color": "#2a3f5f"
             },
             "line": {
              "color": "rgb(17,17,17)"
             }
            },
            "type": "table"
           }
          ]
         },
         "layout": {
          "annotationdefaults": {
           "arrowcolor": "#f2f5fa",
           "arrowhead": 0,
           "arrowwidth": 1
          },
          "autotypenumbers": "strict",
          "coloraxis": {
           "colorbar": {
            "outlinewidth": 0,
            "ticks": ""
           }
          },
          "colorscale": {
           "diverging": [
            [
             0,
             "#8e0152"
            ],
            [
             0.1,
             "#c51b7d"
            ],
            [
             0.2,
             "#de77ae"
            ],
            [
             0.3,
             "#f1b6da"
            ],
            [
             0.4,
             "#fde0ef"
            ],
            [
             0.5,
             "#f7f7f7"
            ],
            [
             0.6,
             "#e6f5d0"
            ],
            [
             0.7,
             "#b8e186"
            ],
            [
             0.8,
             "#7fbc41"
            ],
            [
             0.9,
             "#4d9221"
            ],
            [
             1,
             "#276419"
            ]
           ],
           "sequential": [
            [
             0.0,
             "#0d0887"
            ],
            [
             0.1111111111111111,
             "#46039f"
            ],
            [
             0.2222222222222222,
             "#7201a8"
            ],
            [
             0.3333333333333333,
             "#9c179e"
            ],
            [
             0.4444444444444444,
             "#bd3786"
            ],
            [
             0.5555555555555556,
             "#d8576b"
            ],
            [
             0.6666666666666666,
             "#ed7953"
            ],
            [
             0.7777777777777778,
             "#fb9f3a"
            ],
            [
             0.8888888888888888,
             "#fdca26"
            ],
            [
             1.0,
             "#f0f921"
            ]
           ],
           "sequentialminus": [
            [
             0.0,
             "#0d0887"
            ],
            [
             0.1111111111111111,
             "#46039f"
            ],
            [
             0.2222222222222222,
             "#7201a8"
            ],
            [
             0.3333333333333333,
             "#9c179e"
            ],
            [
             0.4444444444444444,
             "#bd3786"
            ],
            [
             0.5555555555555556,
             "#d8576b"
            ],
            [
             0.6666666666666666,
             "#ed7953"
            ],
            [
             0.7777777777777778,
             "#fb9f3a"
            ],
            [
             0.8888888888888888,
             "#fdca26"
            ],
            [
             1.0,
             "#f0f921"
            ]
           ]
          },
          "colorway": [
           "#636efa",
           "#EF553B",
           "#00cc96",
           "#ab63fa",
           "#FFA15A",
           "#19d3f3",
           "#FF6692",
           "#B6E880",
           "#FF97FF",
           "#FECB52"
          ],
          "font": {
           "color": "#f2f5fa"
          },
          "geo": {
           "bgcolor": "rgb(17,17,17)",
           "lakecolor": "rgb(17,17,17)",
           "landcolor": "rgb(17,17,17)",
           "showlakes": true,
           "showland": true,
           "subunitcolor": "#506784"
          },
          "hoverlabel": {
           "align": "left"
          },
          "hovermode": "closest",
          "mapbox": {
           "style": "dark"
          },
          "paper_bgcolor": "rgb(17,17,17)",
          "plot_bgcolor": "rgb(17,17,17)",
          "polar": {
           "angularaxis": {
            "gridcolor": "#506784",
            "linecolor": "#506784",
            "ticks": ""
           },
           "bgcolor": "rgb(17,17,17)",
           "radialaxis": {
            "gridcolor": "#506784",
            "linecolor": "#506784",
            "ticks": ""
           }
          },
          "scene": {
           "xaxis": {
            "backgroundcolor": "rgb(17,17,17)",
            "gridcolor": "#506784",
            "gridwidth": 2,
            "linecolor": "#506784",
            "showbackground": true,
            "ticks": "",
            "zerolinecolor": "#C8D4E3"
           },
           "yaxis": {
            "backgroundcolor": "rgb(17,17,17)",
            "gridcolor": "#506784",
            "gridwidth": 2,
            "linecolor": "#506784",
            "showbackground": true,
            "ticks": "",
            "zerolinecolor": "#C8D4E3"
           },
           "zaxis": {
            "backgroundcolor": "rgb(17,17,17)",
            "gridcolor": "#506784",
            "gridwidth": 2,
            "linecolor": "#506784",
            "showbackground": true,
            "ticks": "",
            "zerolinecolor": "#C8D4E3"
           }
          },
          "shapedefaults": {
           "line": {
            "color": "#f2f5fa"
           }
          },
          "sliderdefaults": {
           "bgcolor": "#C8D4E3",
           "bordercolor": "rgb(17,17,17)",
           "borderwidth": 1,
           "tickwidth": 0
          },
          "ternary": {
           "aaxis": {
            "gridcolor": "#506784",
            "linecolor": "#506784",
            "ticks": ""
           },
           "baxis": {
            "gridcolor": "#506784",
            "linecolor": "#506784",
            "ticks": ""
           },
           "bgcolor": "rgb(17,17,17)",
           "caxis": {
            "gridcolor": "#506784",
            "linecolor": "#506784",
            "ticks": ""
           }
          },
          "title": {
           "x": 0.05
          },
          "updatemenudefaults": {
           "bgcolor": "#506784",
           "borderwidth": 0
          },
          "xaxis": {
           "automargin": true,
           "gridcolor": "#283442",
           "linecolor": "#506784",
           "ticks": "",
           "title": {
            "standoff": 15
           },
           "zerolinecolor": "#283442",
           "zerolinewidth": 2
          },
          "yaxis": {
           "automargin": true,
           "gridcolor": "#283442",
           "linecolor": "#506784",
           "ticks": "",
           "title": {
            "standoff": 15
           },
           "zerolinecolor": "#283442",
           "zerolinewidth": 2
          }
         }
        },
        "xaxis": {
         "anchor": "y",
         "domain": [
          0.0,
          1.0
         ],
         "title": {
          "text": "1-specificity"
         },
         "range": [
          0,
          1
         ]
        },
        "yaxis": {
         "anchor": "x",
         "domain": [
          0.0,
          1.0
         ],
         "title": {
          "text": "sensitivity"
         },
         "range": [
          0,
          1
         ]
        },
        "legend": {
         "tracegroupgap": 0
        },
        "margin": {
         "t": 60
        },
        "shapes": [
         {
          "line": {
           "dash": "dash"
          },
          "type": "line",
          "x0": 0,
          "x1": 1,
          "y0": 0,
          "y1": 1
         }
        ]
       },
       "config": {
        "plotlyServerURL": "https://plot.ly"
       }
      },
      "text/html": "<div>                            <div id=\"d33563c3-2ce7-415e-b171-407d1d952b21\" class=\"plotly-graph-div\" style=\"height:525px; width:100%;\"></div>            <script type=\"text/javascript\">                require([\"plotly\"], function(Plotly) {                    window.PLOTLYENV=window.PLOTLYENV || {};                                    if (document.getElementById(\"d33563c3-2ce7-415e-b171-407d1d952b21\")) {                    Plotly.newPlot(                        \"d33563c3-2ce7-415e-b171-407d1d952b21\",                        [{\"customdata\":[[0.99],[1.5],[2.5],[3.5],[4.5],[5.5],[6.5],[7.5],[8.5],[9.5],[10.01]],\"hovertemplate\":\"1-specificity=%{x:0.2%}<br>sensitivity=%{y:0.2%}<br>threshold=%{customdata[0]}<extra></extra>\",\"legendgroup\":\"\",\"line\":{\"color\":\"#636efa\",\"dash\":\"solid\"},\"marker\":{\"symbol\":\"circle\"},\"mode\":\"text+lines+markers\",\"name\":\"\",\"orientation\":\"v\",\"showlegend\":false,\"text\":[0.99,1.5,2.5,3.5,4.5,5.5,6.5,7.5,8.5,9.5,10.01],\"x\":[1.0,0.9176182707993474,0.833605220228385,0.733278955954323,0.6353996737357259,0.5367047308319739,0.42985318107667214,0.3213703099510603,0.2153344208809136,0.11174551386623166,0.0],\"xaxis\":\"x\",\"y\":[1.0,0.8035714285714286,0.6160714285714286,0.5178571428571429,0.40625,0.29910714285714285,0.23660714285714285,0.18303571428571427,0.11607142857142858,0.03571428571428571,0.0],\"yaxis\":\"y\",\"type\":\"scatter\"}],                        {\"template\":{\"data\":{\"barpolar\":[{\"marker\":{\"line\":{\"color\":\"rgb(17,17,17)\",\"width\":0.5},\"pattern\":{\"fillmode\":\"overlay\",\"size\":10,\"solidity\":0.2}},\"type\":\"barpolar\"}],\"bar\":[{\"error_x\":{\"color\":\"#f2f5fa\"},\"error_y\":{\"color\":\"#f2f5fa\"},\"marker\":{\"line\":{\"color\":\"rgb(17,17,17)\",\"width\":0.5},\"pattern\":{\"fillmode\":\"overlay\",\"size\":10,\"solidity\":0.2}},\"type\":\"bar\"}],\"carpet\":[{\"aaxis\":{\"endlinecolor\":\"#A2B1C6\",\"gridcolor\":\"#506784\",\"linecolor\":\"#506784\",\"minorgridcolor\":\"#506784\",\"startlinecolor\":\"#A2B1C6\"},\"baxis\":{\"endlinecolor\":\"#A2B1C6\",\"gridcolor\":\"#506784\",\"linecolor\":\"#506784\",\"minorgridcolor\":\"#506784\",\"startlinecolor\":\"#A2B1C6\"},\"type\":\"carpet\"}],\"choropleth\":[{\"colorbar\":{\"outlinewidth\":0,\"ticks\":\"\"},\"type\":\"choropleth\"}],\"contourcarpet\":[{\"colorbar\":{\"outlinewidth\":0,\"ticks\":\"\"},\"type\":\"contourcarpet\"}],\"contour\":[{\"colorbar\":{\"outlinewidth\":0,\"ticks\":\"\"},\"colorscale\":[[0.0,\"#0d0887\"],[0.1111111111111111,\"#46039f\"],[0.2222222222222222,\"#7201a8\"],[0.3333333333333333,\"#9c179e\"],[0.4444444444444444,\"#bd3786\"],[0.5555555555555556,\"#d8576b\"],[0.6666666666666666,\"#ed7953\"],[0.7777777777777778,\"#fb9f3a\"],[0.8888888888888888,\"#fdca26\"],[1.0,\"#f0f921\"]],\"type\":\"contour\"}],\"heatmapgl\":[{\"colorbar\":{\"outlinewidth\":0,\"ticks\":\"\"},\"colorscale\":[[0.0,\"#0d0887\"],[0.1111111111111111,\"#46039f\"],[0.2222222222222222,\"#7201a8\"],[0.3333333333333333,\"#9c179e\"],[0.4444444444444444,\"#bd3786\"],[0.5555555555555556,\"#d8576b\"],[0.6666666666666666,\"#ed7953\"],[0.7777777777777778,\"#fb9f3a\"],[0.8888888888888888,\"#fdca26\"],[1.0,\"#f0f921\"]],\"type\":\"heatmapgl\"}],\"heatmap\":[{\"colorbar\":{\"outlinewidth\":0,\"ticks\":\"\"},\"colorscale\":[[0.0,\"#0d0887\"],[0.1111111111111111,\"#46039f\"],[0.2222222222222222,\"#7201a8\"],[0.3333333333333333,\"#9c179e\"],[0.4444444444444444,\"#bd3786\"],[0.5555555555555556,\"#d8576b\"],[0.6666666666666666,\"#ed7953\"],[0.7777777777777778,\"#fb9f3a\"],[0.8888888888888888,\"#fdca26\"],[1.0,\"#f0f921\"]],\"type\":\"heatmap\"}],\"histogram2dcontour\":[{\"colorbar\":{\"outlinewidth\":0,\"ticks\":\"\"},\"colorscale\":[[0.0,\"#0d0887\"],[0.1111111111111111,\"#46039f\"],[0.2222222222222222,\"#7201a8\"],[0.3333333333333333,\"#9c179e\"],[0.4444444444444444,\"#bd3786\"],[0.5555555555555556,\"#d8576b\"],[0.6666666666666666,\"#ed7953\"],[0.7777777777777778,\"#fb9f3a\"],[0.8888888888888888,\"#fdca26\"],[1.0,\"#f0f921\"]],\"type\":\"histogram2dcontour\"}],\"histogram2d\":[{\"colorbar\":{\"outlinewidth\":0,\"ticks\":\"\"},\"colorscale\":[[0.0,\"#0d0887\"],[0.1111111111111111,\"#46039f\"],[0.2222222222222222,\"#7201a8\"],[0.3333333333333333,\"#9c179e\"],[0.4444444444444444,\"#bd3786\"],[0.5555555555555556,\"#d8576b\"],[0.6666666666666666,\"#ed7953\"],[0.7777777777777778,\"#fb9f3a\"],[0.8888888888888888,\"#fdca26\"],[1.0,\"#f0f921\"]],\"type\":\"histogram2d\"}],\"histogram\":[{\"marker\":{\"pattern\":{\"fillmode\":\"overlay\",\"size\":10,\"solidity\":0.2}},\"type\":\"histogram\"}],\"mesh3d\":[{\"colorbar\":{\"outlinewidth\":0,\"ticks\":\"\"},\"type\":\"mesh3d\"}],\"parcoords\":[{\"line\":{\"colorbar\":{\"outlinewidth\":0,\"ticks\":\"\"}},\"type\":\"parcoords\"}],\"pie\":[{\"automargin\":true,\"type\":\"pie\"}],\"scatter3d\":[{\"line\":{\"colorbar\":{\"outlinewidth\":0,\"ticks\":\"\"}},\"marker\":{\"colorbar\":{\"outlinewidth\":0,\"ticks\":\"\"}},\"type\":\"scatter3d\"}],\"scattercarpet\":[{\"marker\":{\"colorbar\":{\"outlinewidth\":0,\"ticks\":\"\"}},\"type\":\"scattercarpet\"}],\"scattergeo\":[{\"marker\":{\"colorbar\":{\"outlinewidth\":0,\"ticks\":\"\"}},\"type\":\"scattergeo\"}],\"scattergl\":[{\"marker\":{\"line\":{\"color\":\"#283442\"}},\"type\":\"scattergl\"}],\"scattermapbox\":[{\"marker\":{\"colorbar\":{\"outlinewidth\":0,\"ticks\":\"\"}},\"type\":\"scattermapbox\"}],\"scatterpolargl\":[{\"marker\":{\"colorbar\":{\"outlinewidth\":0,\"ticks\":\"\"}},\"type\":\"scatterpolargl\"}],\"scatterpolar\":[{\"marker\":{\"colorbar\":{\"outlinewidth\":0,\"ticks\":\"\"}},\"type\":\"scatterpolar\"}],\"scatter\":[{\"marker\":{\"line\":{\"color\":\"#283442\"}},\"type\":\"scatter\"}],\"scatterternary\":[{\"marker\":{\"colorbar\":{\"outlinewidth\":0,\"ticks\":\"\"}},\"type\":\"scatterternary\"}],\"surface\":[{\"colorbar\":{\"outlinewidth\":0,\"ticks\":\"\"},\"colorscale\":[[0.0,\"#0d0887\"],[0.1111111111111111,\"#46039f\"],[0.2222222222222222,\"#7201a8\"],[0.3333333333333333,\"#9c179e\"],[0.4444444444444444,\"#bd3786\"],[0.5555555555555556,\"#d8576b\"],[0.6666666666666666,\"#ed7953\"],[0.7777777777777778,\"#fb9f3a\"],[0.8888888888888888,\"#fdca26\"],[1.0,\"#f0f921\"]],\"type\":\"surface\"}],\"table\":[{\"cells\":{\"fill\":{\"color\":\"#506784\"},\"line\":{\"color\":\"rgb(17,17,17)\"}},\"header\":{\"fill\":{\"color\":\"#2a3f5f\"},\"line\":{\"color\":\"rgb(17,17,17)\"}},\"type\":\"table\"}]},\"layout\":{\"annotationdefaults\":{\"arrowcolor\":\"#f2f5fa\",\"arrowhead\":0,\"arrowwidth\":1},\"autotypenumbers\":\"strict\",\"coloraxis\":{\"colorbar\":{\"outlinewidth\":0,\"ticks\":\"\"}},\"colorscale\":{\"diverging\":[[0,\"#8e0152\"],[0.1,\"#c51b7d\"],[0.2,\"#de77ae\"],[0.3,\"#f1b6da\"],[0.4,\"#fde0ef\"],[0.5,\"#f7f7f7\"],[0.6,\"#e6f5d0\"],[0.7,\"#b8e186\"],[0.8,\"#7fbc41\"],[0.9,\"#4d9221\"],[1,\"#276419\"]],\"sequential\":[[0.0,\"#0d0887\"],[0.1111111111111111,\"#46039f\"],[0.2222222222222222,\"#7201a8\"],[0.3333333333333333,\"#9c179e\"],[0.4444444444444444,\"#bd3786\"],[0.5555555555555556,\"#d8576b\"],[0.6666666666666666,\"#ed7953\"],[0.7777777777777778,\"#fb9f3a\"],[0.8888888888888888,\"#fdca26\"],[1.0,\"#f0f921\"]],\"sequentialminus\":[[0.0,\"#0d0887\"],[0.1111111111111111,\"#46039f\"],[0.2222222222222222,\"#7201a8\"],[0.3333333333333333,\"#9c179e\"],[0.4444444444444444,\"#bd3786\"],[0.5555555555555556,\"#d8576b\"],[0.6666666666666666,\"#ed7953\"],[0.7777777777777778,\"#fb9f3a\"],[0.8888888888888888,\"#fdca26\"],[1.0,\"#f0f921\"]]},\"colorway\":[\"#636efa\",\"#EF553B\",\"#00cc96\",\"#ab63fa\",\"#FFA15A\",\"#19d3f3\",\"#FF6692\",\"#B6E880\",\"#FF97FF\",\"#FECB52\"],\"font\":{\"color\":\"#f2f5fa\"},\"geo\":{\"bgcolor\":\"rgb(17,17,17)\",\"lakecolor\":\"rgb(17,17,17)\",\"landcolor\":\"rgb(17,17,17)\",\"showlakes\":true,\"showland\":true,\"subunitcolor\":\"#506784\"},\"hoverlabel\":{\"align\":\"left\"},\"hovermode\":\"closest\",\"mapbox\":{\"style\":\"dark\"},\"paper_bgcolor\":\"rgb(17,17,17)\",\"plot_bgcolor\":\"rgb(17,17,17)\",\"polar\":{\"angularaxis\":{\"gridcolor\":\"#506784\",\"linecolor\":\"#506784\",\"ticks\":\"\"},\"bgcolor\":\"rgb(17,17,17)\",\"radialaxis\":{\"gridcolor\":\"#506784\",\"linecolor\":\"#506784\",\"ticks\":\"\"}},\"scene\":{\"xaxis\":{\"backgroundcolor\":\"rgb(17,17,17)\",\"gridcolor\":\"#506784\",\"gridwidth\":2,\"linecolor\":\"#506784\",\"showbackground\":true,\"ticks\":\"\",\"zerolinecolor\":\"#C8D4E3\"},\"yaxis\":{\"backgroundcolor\":\"rgb(17,17,17)\",\"gridcolor\":\"#506784\",\"gridwidth\":2,\"linecolor\":\"#506784\",\"showbackground\":true,\"ticks\":\"\",\"zerolinecolor\":\"#C8D4E3\"},\"zaxis\":{\"backgroundcolor\":\"rgb(17,17,17)\",\"gridcolor\":\"#506784\",\"gridwidth\":2,\"linecolor\":\"#506784\",\"showbackground\":true,\"ticks\":\"\",\"zerolinecolor\":\"#C8D4E3\"}},\"shapedefaults\":{\"line\":{\"color\":\"#f2f5fa\"}},\"sliderdefaults\":{\"bgcolor\":\"#C8D4E3\",\"bordercolor\":\"rgb(17,17,17)\",\"borderwidth\":1,\"tickwidth\":0},\"ternary\":{\"aaxis\":{\"gridcolor\":\"#506784\",\"linecolor\":\"#506784\",\"ticks\":\"\"},\"baxis\":{\"gridcolor\":\"#506784\",\"linecolor\":\"#506784\",\"ticks\":\"\"},\"bgcolor\":\"rgb(17,17,17)\",\"caxis\":{\"gridcolor\":\"#506784\",\"linecolor\":\"#506784\",\"ticks\":\"\"}},\"title\":{\"x\":0.05},\"updatemenudefaults\":{\"bgcolor\":\"#506784\",\"borderwidth\":0},\"xaxis\":{\"automargin\":true,\"gridcolor\":\"#283442\",\"linecolor\":\"#506784\",\"ticks\":\"\",\"title\":{\"standoff\":15},\"zerolinecolor\":\"#283442\",\"zerolinewidth\":2},\"yaxis\":{\"automargin\":true,\"gridcolor\":\"#283442\",\"linecolor\":\"#506784\",\"ticks\":\"\",\"title\":{\"standoff\":15},\"zerolinecolor\":\"#283442\",\"zerolinewidth\":2}}},\"xaxis\":{\"anchor\":\"y\",\"domain\":[0.0,1.0],\"title\":{\"text\":\"1-specificity\"},\"range\":[0,1]},\"yaxis\":{\"anchor\":\"x\",\"domain\":[0.0,1.0],\"title\":{\"text\":\"sensitivity\"},\"range\":[0,1]},\"legend\":{\"tracegroupgap\":0},\"margin\":{\"t\":60},\"shapes\":[{\"line\":{\"dash\":\"dash\"},\"type\":\"line\",\"x0\":0,\"x1\":1,\"y0\":0,\"y1\":1}]},                        {\"responsive\": true}                    ).then(function(){\n                            \nvar gd = document.getElementById('d33563c3-2ce7-415e-b171-407d1d952b21');\nvar x = new MutationObserver(function (mutations, observer) {{\n        var display = window.getComputedStyle(gd).display;\n        if (!display || display === 'none') {{\n            console.log([gd, 'removed!']);\n            Plotly.purge(gd);\n            observer.disconnect();\n        }}\n}});\n\n// Listen for the removal of the full notebook cells\nvar notebookContainer = gd.closest('#notebook-container');\nif (notebookContainer) {{\n    x.observe(notebookContainer, {childList: true});\n}}\n\n// Listen for the clearing of the current output cell\nvar outputEl = gd.closest('.output');\nif (outputEl) {{\n    x.observe(outputEl, {childList: true});\n}}\n\n                        })                };                });            </script>        </div>"
     },
     "metadata": {},
     "output_type": "display_data"
    },
    {
     "data": {
      "application/vnd.plotly.v1+json": {
       "data": [
        {
         "customdata": [
          [
           0.99
          ],
          [
           1.5
          ],
          [
           2.5
          ],
          [
           3.5
          ],
          [
           4.5
          ],
          [
           5.5
          ],
          [
           6.5
          ],
          [
           7.5
          ],
          [
           8.5
          ],
          [
           9.5
          ],
          [
           10.01
          ]
         ],
         "hovertemplate": "1-specificity=%{x:0.2%}<br>sensitivity=%{y:0.2%}<br>threshold=%{customdata[0]}<extra></extra>",
         "legendgroup": "",
         "line": {
          "color": "#636efa",
          "dash": "solid"
         },
         "marker": {
          "symbol": "circle"
         },
         "mode": "text+lines+markers",
         "name": "",
         "orientation": "v",
         "showlegend": false,
         "text": [
          0.99,
          1.5,
          2.5,
          3.5,
          4.5,
          5.5,
          6.5,
          7.5,
          8.5,
          9.5,
          10.01
         ],
         "x": [
          1.0,
          0.9070146818923328,
          0.8189233278955954,
          0.7218597063621534,
          0.6247960848287113,
          0.5309951060358891,
          0.4363784665579119,
          0.3360522022838499,
          0.22593800978792822,
          0.1150081566068516,
          0.0
         ],
         "xaxis": "x",
         "y": [
          1.0,
          0.8616071428571429,
          0.6964285714285714,
          0.5803571428571429,
          0.4642857142857143,
          0.33035714285714285,
          0.20089285714285715,
          0.10267857142857142,
          0.05803571428571429,
          0.017857142857142856,
          0.0
         ],
         "yaxis": "y",
         "type": "scatter"
        }
       ],
       "layout": {
        "template": {
         "data": {
          "barpolar": [
           {
            "marker": {
             "line": {
              "color": "rgb(17,17,17)",
              "width": 0.5
             },
             "pattern": {
              "fillmode": "overlay",
              "size": 10,
              "solidity": 0.2
             }
            },
            "type": "barpolar"
           }
          ],
          "bar": [
           {
            "error_x": {
             "color": "#f2f5fa"
            },
            "error_y": {
             "color": "#f2f5fa"
            },
            "marker": {
             "line": {
              "color": "rgb(17,17,17)",
              "width": 0.5
             },
             "pattern": {
              "fillmode": "overlay",
              "size": 10,
              "solidity": 0.2
             }
            },
            "type": "bar"
           }
          ],
          "carpet": [
           {
            "aaxis": {
             "endlinecolor": "#A2B1C6",
             "gridcolor": "#506784",
             "linecolor": "#506784",
             "minorgridcolor": "#506784",
             "startlinecolor": "#A2B1C6"
            },
            "baxis": {
             "endlinecolor": "#A2B1C6",
             "gridcolor": "#506784",
             "linecolor": "#506784",
             "minorgridcolor": "#506784",
             "startlinecolor": "#A2B1C6"
            },
            "type": "carpet"
           }
          ],
          "choropleth": [
           {
            "colorbar": {
             "outlinewidth": 0,
             "ticks": ""
            },
            "type": "choropleth"
           }
          ],
          "contourcarpet": [
           {
            "colorbar": {
             "outlinewidth": 0,
             "ticks": ""
            },
            "type": "contourcarpet"
           }
          ],
          "contour": [
           {
            "colorbar": {
             "outlinewidth": 0,
             "ticks": ""
            },
            "colorscale": [
             [
              0.0,
              "#0d0887"
             ],
             [
              0.1111111111111111,
              "#46039f"
             ],
             [
              0.2222222222222222,
              "#7201a8"
             ],
             [
              0.3333333333333333,
              "#9c179e"
             ],
             [
              0.4444444444444444,
              "#bd3786"
             ],
             [
              0.5555555555555556,
              "#d8576b"
             ],
             [
              0.6666666666666666,
              "#ed7953"
             ],
             [
              0.7777777777777778,
              "#fb9f3a"
             ],
             [
              0.8888888888888888,
              "#fdca26"
             ],
             [
              1.0,
              "#f0f921"
             ]
            ],
            "type": "contour"
           }
          ],
          "heatmapgl": [
           {
            "colorbar": {
             "outlinewidth": 0,
             "ticks": ""
            },
            "colorscale": [
             [
              0.0,
              "#0d0887"
             ],
             [
              0.1111111111111111,
              "#46039f"
             ],
             [
              0.2222222222222222,
              "#7201a8"
             ],
             [
              0.3333333333333333,
              "#9c179e"
             ],
             [
              0.4444444444444444,
              "#bd3786"
             ],
             [
              0.5555555555555556,
              "#d8576b"
             ],
             [
              0.6666666666666666,
              "#ed7953"
             ],
             [
              0.7777777777777778,
              "#fb9f3a"
             ],
             [
              0.8888888888888888,
              "#fdca26"
             ],
             [
              1.0,
              "#f0f921"
             ]
            ],
            "type": "heatmapgl"
           }
          ],
          "heatmap": [
           {
            "colorbar": {
             "outlinewidth": 0,
             "ticks": ""
            },
            "colorscale": [
             [
              0.0,
              "#0d0887"
             ],
             [
              0.1111111111111111,
              "#46039f"
             ],
             [
              0.2222222222222222,
              "#7201a8"
             ],
             [
              0.3333333333333333,
              "#9c179e"
             ],
             [
              0.4444444444444444,
              "#bd3786"
             ],
             [
              0.5555555555555556,
              "#d8576b"
             ],
             [
              0.6666666666666666,
              "#ed7953"
             ],
             [
              0.7777777777777778,
              "#fb9f3a"
             ],
             [
              0.8888888888888888,
              "#fdca26"
             ],
             [
              1.0,
              "#f0f921"
             ]
            ],
            "type": "heatmap"
           }
          ],
          "histogram2dcontour": [
           {
            "colorbar": {
             "outlinewidth": 0,
             "ticks": ""
            },
            "colorscale": [
             [
              0.0,
              "#0d0887"
             ],
             [
              0.1111111111111111,
              "#46039f"
             ],
             [
              0.2222222222222222,
              "#7201a8"
             ],
             [
              0.3333333333333333,
              "#9c179e"
             ],
             [
              0.4444444444444444,
              "#bd3786"
             ],
             [
              0.5555555555555556,
              "#d8576b"
             ],
             [
              0.6666666666666666,
              "#ed7953"
             ],
             [
              0.7777777777777778,
              "#fb9f3a"
             ],
             [
              0.8888888888888888,
              "#fdca26"
             ],
             [
              1.0,
              "#f0f921"
             ]
            ],
            "type": "histogram2dcontour"
           }
          ],
          "histogram2d": [
           {
            "colorbar": {
             "outlinewidth": 0,
             "ticks": ""
            },
            "colorscale": [
             [
              0.0,
              "#0d0887"
             ],
             [
              0.1111111111111111,
              "#46039f"
             ],
             [
              0.2222222222222222,
              "#7201a8"
             ],
             [
              0.3333333333333333,
              "#9c179e"
             ],
             [
              0.4444444444444444,
              "#bd3786"
             ],
             [
              0.5555555555555556,
              "#d8576b"
             ],
             [
              0.6666666666666666,
              "#ed7953"
             ],
             [
              0.7777777777777778,
              "#fb9f3a"
             ],
             [
              0.8888888888888888,
              "#fdca26"
             ],
             [
              1.0,
              "#f0f921"
             ]
            ],
            "type": "histogram2d"
           }
          ],
          "histogram": [
           {
            "marker": {
             "pattern": {
              "fillmode": "overlay",
              "size": 10,
              "solidity": 0.2
             }
            },
            "type": "histogram"
           }
          ],
          "mesh3d": [
           {
            "colorbar": {
             "outlinewidth": 0,
             "ticks": ""
            },
            "type": "mesh3d"
           }
          ],
          "parcoords": [
           {
            "line": {
             "colorbar": {
              "outlinewidth": 0,
              "ticks": ""
             }
            },
            "type": "parcoords"
           }
          ],
          "pie": [
           {
            "automargin": true,
            "type": "pie"
           }
          ],
          "scatter3d": [
           {
            "line": {
             "colorbar": {
              "outlinewidth": 0,
              "ticks": ""
             }
            },
            "marker": {
             "colorbar": {
              "outlinewidth": 0,
              "ticks": ""
             }
            },
            "type": "scatter3d"
           }
          ],
          "scattercarpet": [
           {
            "marker": {
             "colorbar": {
              "outlinewidth": 0,
              "ticks": ""
             }
            },
            "type": "scattercarpet"
           }
          ],
          "scattergeo": [
           {
            "marker": {
             "colorbar": {
              "outlinewidth": 0,
              "ticks": ""
             }
            },
            "type": "scattergeo"
           }
          ],
          "scattergl": [
           {
            "marker": {
             "line": {
              "color": "#283442"
             }
            },
            "type": "scattergl"
           }
          ],
          "scattermapbox": [
           {
            "marker": {
             "colorbar": {
              "outlinewidth": 0,
              "ticks": ""
             }
            },
            "type": "scattermapbox"
           }
          ],
          "scatterpolargl": [
           {
            "marker": {
             "colorbar": {
              "outlinewidth": 0,
              "ticks": ""
             }
            },
            "type": "scatterpolargl"
           }
          ],
          "scatterpolar": [
           {
            "marker": {
             "colorbar": {
              "outlinewidth": 0,
              "ticks": ""
             }
            },
            "type": "scatterpolar"
           }
          ],
          "scatter": [
           {
            "marker": {
             "line": {
              "color": "#283442"
             }
            },
            "type": "scatter"
           }
          ],
          "scatterternary": [
           {
            "marker": {
             "colorbar": {
              "outlinewidth": 0,
              "ticks": ""
             }
            },
            "type": "scatterternary"
           }
          ],
          "surface": [
           {
            "colorbar": {
             "outlinewidth": 0,
             "ticks": ""
            },
            "colorscale": [
             [
              0.0,
              "#0d0887"
             ],
             [
              0.1111111111111111,
              "#46039f"
             ],
             [
              0.2222222222222222,
              "#7201a8"
             ],
             [
              0.3333333333333333,
              "#9c179e"
             ],
             [
              0.4444444444444444,
              "#bd3786"
             ],
             [
              0.5555555555555556,
              "#d8576b"
             ],
             [
              0.6666666666666666,
              "#ed7953"
             ],
             [
              0.7777777777777778,
              "#fb9f3a"
             ],
             [
              0.8888888888888888,
              "#fdca26"
             ],
             [
              1.0,
              "#f0f921"
             ]
            ],
            "type": "surface"
           }
          ],
          "table": [
           {
            "cells": {
             "fill": {
              "color": "#506784"
             },
             "line": {
              "color": "rgb(17,17,17)"
             }
            },
            "header": {
             "fill": {
              "color": "#2a3f5f"
             },
             "line": {
              "color": "rgb(17,17,17)"
             }
            },
            "type": "table"
           }
          ]
         },
         "layout": {
          "annotationdefaults": {
           "arrowcolor": "#f2f5fa",
           "arrowhead": 0,
           "arrowwidth": 1
          },
          "autotypenumbers": "strict",
          "coloraxis": {
           "colorbar": {
            "outlinewidth": 0,
            "ticks": ""
           }
          },
          "colorscale": {
           "diverging": [
            [
             0,
             "#8e0152"
            ],
            [
             0.1,
             "#c51b7d"
            ],
            [
             0.2,
             "#de77ae"
            ],
            [
             0.3,
             "#f1b6da"
            ],
            [
             0.4,
             "#fde0ef"
            ],
            [
             0.5,
             "#f7f7f7"
            ],
            [
             0.6,
             "#e6f5d0"
            ],
            [
             0.7,
             "#b8e186"
            ],
            [
             0.8,
             "#7fbc41"
            ],
            [
             0.9,
             "#4d9221"
            ],
            [
             1,
             "#276419"
            ]
           ],
           "sequential": [
            [
             0.0,
             "#0d0887"
            ],
            [
             0.1111111111111111,
             "#46039f"
            ],
            [
             0.2222222222222222,
             "#7201a8"
            ],
            [
             0.3333333333333333,
             "#9c179e"
            ],
            [
             0.4444444444444444,
             "#bd3786"
            ],
            [
             0.5555555555555556,
             "#d8576b"
            ],
            [
             0.6666666666666666,
             "#ed7953"
            ],
            [
             0.7777777777777778,
             "#fb9f3a"
            ],
            [
             0.8888888888888888,
             "#fdca26"
            ],
            [
             1.0,
             "#f0f921"
            ]
           ],
           "sequentialminus": [
            [
             0.0,
             "#0d0887"
            ],
            [
             0.1111111111111111,
             "#46039f"
            ],
            [
             0.2222222222222222,
             "#7201a8"
            ],
            [
             0.3333333333333333,
             "#9c179e"
            ],
            [
             0.4444444444444444,
             "#bd3786"
            ],
            [
             0.5555555555555556,
             "#d8576b"
            ],
            [
             0.6666666666666666,
             "#ed7953"
            ],
            [
             0.7777777777777778,
             "#fb9f3a"
            ],
            [
             0.8888888888888888,
             "#fdca26"
            ],
            [
             1.0,
             "#f0f921"
            ]
           ]
          },
          "colorway": [
           "#636efa",
           "#EF553B",
           "#00cc96",
           "#ab63fa",
           "#FFA15A",
           "#19d3f3",
           "#FF6692",
           "#B6E880",
           "#FF97FF",
           "#FECB52"
          ],
          "font": {
           "color": "#f2f5fa"
          },
          "geo": {
           "bgcolor": "rgb(17,17,17)",
           "lakecolor": "rgb(17,17,17)",
           "landcolor": "rgb(17,17,17)",
           "showlakes": true,
           "showland": true,
           "subunitcolor": "#506784"
          },
          "hoverlabel": {
           "align": "left"
          },
          "hovermode": "closest",
          "mapbox": {
           "style": "dark"
          },
          "paper_bgcolor": "rgb(17,17,17)",
          "plot_bgcolor": "rgb(17,17,17)",
          "polar": {
           "angularaxis": {
            "gridcolor": "#506784",
            "linecolor": "#506784",
            "ticks": ""
           },
           "bgcolor": "rgb(17,17,17)",
           "radialaxis": {
            "gridcolor": "#506784",
            "linecolor": "#506784",
            "ticks": ""
           }
          },
          "scene": {
           "xaxis": {
            "backgroundcolor": "rgb(17,17,17)",
            "gridcolor": "#506784",
            "gridwidth": 2,
            "linecolor": "#506784",
            "showbackground": true,
            "ticks": "",
            "zerolinecolor": "#C8D4E3"
           },
           "yaxis": {
            "backgroundcolor": "rgb(17,17,17)",
            "gridcolor": "#506784",
            "gridwidth": 2,
            "linecolor": "#506784",
            "showbackground": true,
            "ticks": "",
            "zerolinecolor": "#C8D4E3"
           },
           "zaxis": {
            "backgroundcolor": "rgb(17,17,17)",
            "gridcolor": "#506784",
            "gridwidth": 2,
            "linecolor": "#506784",
            "showbackground": true,
            "ticks": "",
            "zerolinecolor": "#C8D4E3"
           }
          },
          "shapedefaults": {
           "line": {
            "color": "#f2f5fa"
           }
          },
          "sliderdefaults": {
           "bgcolor": "#C8D4E3",
           "bordercolor": "rgb(17,17,17)",
           "borderwidth": 1,
           "tickwidth": 0
          },
          "ternary": {
           "aaxis": {
            "gridcolor": "#506784",
            "linecolor": "#506784",
            "ticks": ""
           },
           "baxis": {
            "gridcolor": "#506784",
            "linecolor": "#506784",
            "ticks": ""
           },
           "bgcolor": "rgb(17,17,17)",
           "caxis": {
            "gridcolor": "#506784",
            "linecolor": "#506784",
            "ticks": ""
           }
          },
          "title": {
           "x": 0.05
          },
          "updatemenudefaults": {
           "bgcolor": "#506784",
           "borderwidth": 0
          },
          "xaxis": {
           "automargin": true,
           "gridcolor": "#283442",
           "linecolor": "#506784",
           "ticks": "",
           "title": {
            "standoff": 15
           },
           "zerolinecolor": "#283442",
           "zerolinewidth": 2
          },
          "yaxis": {
           "automargin": true,
           "gridcolor": "#283442",
           "linecolor": "#506784",
           "ticks": "",
           "title": {
            "standoff": 15
           },
           "zerolinecolor": "#283442",
           "zerolinewidth": 2
          }
         }
        },
        "xaxis": {
         "anchor": "y",
         "domain": [
          0.0,
          1.0
         ],
         "title": {
          "text": "1-specificity"
         },
         "range": [
          0,
          1
         ]
        },
        "yaxis": {
         "anchor": "x",
         "domain": [
          0.0,
          1.0
         ],
         "title": {
          "text": "sensitivity"
         },
         "range": [
          0,
          1
         ]
        },
        "legend": {
         "tracegroupgap": 0
        },
        "margin": {
         "t": 60
        },
        "shapes": [
         {
          "line": {
           "dash": "dash"
          },
          "type": "line",
          "x0": 0,
          "x1": 1,
          "y0": 0,
          "y1": 1
         }
        ]
       },
       "config": {
        "plotlyServerURL": "https://plot.ly"
       }
      },
      "text/html": "<div>                            <div id=\"01269c90-c39f-4222-bb2e-5cd6480d930a\" class=\"plotly-graph-div\" style=\"height:525px; width:100%;\"></div>            <script type=\"text/javascript\">                require([\"plotly\"], function(Plotly) {                    window.PLOTLYENV=window.PLOTLYENV || {};                                    if (document.getElementById(\"01269c90-c39f-4222-bb2e-5cd6480d930a\")) {                    Plotly.newPlot(                        \"01269c90-c39f-4222-bb2e-5cd6480d930a\",                        [{\"customdata\":[[0.99],[1.5],[2.5],[3.5],[4.5],[5.5],[6.5],[7.5],[8.5],[9.5],[10.01]],\"hovertemplate\":\"1-specificity=%{x:0.2%}<br>sensitivity=%{y:0.2%}<br>threshold=%{customdata[0]}<extra></extra>\",\"legendgroup\":\"\",\"line\":{\"color\":\"#636efa\",\"dash\":\"solid\"},\"marker\":{\"symbol\":\"circle\"},\"mode\":\"text+lines+markers\",\"name\":\"\",\"orientation\":\"v\",\"showlegend\":false,\"text\":[0.99,1.5,2.5,3.5,4.5,5.5,6.5,7.5,8.5,9.5,10.01],\"x\":[1.0,0.9070146818923328,0.8189233278955954,0.7218597063621534,0.6247960848287113,0.5309951060358891,0.4363784665579119,0.3360522022838499,0.22593800978792822,0.1150081566068516,0.0],\"xaxis\":\"x\",\"y\":[1.0,0.8616071428571429,0.6964285714285714,0.5803571428571429,0.4642857142857143,0.33035714285714285,0.20089285714285715,0.10267857142857142,0.05803571428571429,0.017857142857142856,0.0],\"yaxis\":\"y\",\"type\":\"scatter\"}],                        {\"template\":{\"data\":{\"barpolar\":[{\"marker\":{\"line\":{\"color\":\"rgb(17,17,17)\",\"width\":0.5},\"pattern\":{\"fillmode\":\"overlay\",\"size\":10,\"solidity\":0.2}},\"type\":\"barpolar\"}],\"bar\":[{\"error_x\":{\"color\":\"#f2f5fa\"},\"error_y\":{\"color\":\"#f2f5fa\"},\"marker\":{\"line\":{\"color\":\"rgb(17,17,17)\",\"width\":0.5},\"pattern\":{\"fillmode\":\"overlay\",\"size\":10,\"solidity\":0.2}},\"type\":\"bar\"}],\"carpet\":[{\"aaxis\":{\"endlinecolor\":\"#A2B1C6\",\"gridcolor\":\"#506784\",\"linecolor\":\"#506784\",\"minorgridcolor\":\"#506784\",\"startlinecolor\":\"#A2B1C6\"},\"baxis\":{\"endlinecolor\":\"#A2B1C6\",\"gridcolor\":\"#506784\",\"linecolor\":\"#506784\",\"minorgridcolor\":\"#506784\",\"startlinecolor\":\"#A2B1C6\"},\"type\":\"carpet\"}],\"choropleth\":[{\"colorbar\":{\"outlinewidth\":0,\"ticks\":\"\"},\"type\":\"choropleth\"}],\"contourcarpet\":[{\"colorbar\":{\"outlinewidth\":0,\"ticks\":\"\"},\"type\":\"contourcarpet\"}],\"contour\":[{\"colorbar\":{\"outlinewidth\":0,\"ticks\":\"\"},\"colorscale\":[[0.0,\"#0d0887\"],[0.1111111111111111,\"#46039f\"],[0.2222222222222222,\"#7201a8\"],[0.3333333333333333,\"#9c179e\"],[0.4444444444444444,\"#bd3786\"],[0.5555555555555556,\"#d8576b\"],[0.6666666666666666,\"#ed7953\"],[0.7777777777777778,\"#fb9f3a\"],[0.8888888888888888,\"#fdca26\"],[1.0,\"#f0f921\"]],\"type\":\"contour\"}],\"heatmapgl\":[{\"colorbar\":{\"outlinewidth\":0,\"ticks\":\"\"},\"colorscale\":[[0.0,\"#0d0887\"],[0.1111111111111111,\"#46039f\"],[0.2222222222222222,\"#7201a8\"],[0.3333333333333333,\"#9c179e\"],[0.4444444444444444,\"#bd3786\"],[0.5555555555555556,\"#d8576b\"],[0.6666666666666666,\"#ed7953\"],[0.7777777777777778,\"#fb9f3a\"],[0.8888888888888888,\"#fdca26\"],[1.0,\"#f0f921\"]],\"type\":\"heatmapgl\"}],\"heatmap\":[{\"colorbar\":{\"outlinewidth\":0,\"ticks\":\"\"},\"colorscale\":[[0.0,\"#0d0887\"],[0.1111111111111111,\"#46039f\"],[0.2222222222222222,\"#7201a8\"],[0.3333333333333333,\"#9c179e\"],[0.4444444444444444,\"#bd3786\"],[0.5555555555555556,\"#d8576b\"],[0.6666666666666666,\"#ed7953\"],[0.7777777777777778,\"#fb9f3a\"],[0.8888888888888888,\"#fdca26\"],[1.0,\"#f0f921\"]],\"type\":\"heatmap\"}],\"histogram2dcontour\":[{\"colorbar\":{\"outlinewidth\":0,\"ticks\":\"\"},\"colorscale\":[[0.0,\"#0d0887\"],[0.1111111111111111,\"#46039f\"],[0.2222222222222222,\"#7201a8\"],[0.3333333333333333,\"#9c179e\"],[0.4444444444444444,\"#bd3786\"],[0.5555555555555556,\"#d8576b\"],[0.6666666666666666,\"#ed7953\"],[0.7777777777777778,\"#fb9f3a\"],[0.8888888888888888,\"#fdca26\"],[1.0,\"#f0f921\"]],\"type\":\"histogram2dcontour\"}],\"histogram2d\":[{\"colorbar\":{\"outlinewidth\":0,\"ticks\":\"\"},\"colorscale\":[[0.0,\"#0d0887\"],[0.1111111111111111,\"#46039f\"],[0.2222222222222222,\"#7201a8\"],[0.3333333333333333,\"#9c179e\"],[0.4444444444444444,\"#bd3786\"],[0.5555555555555556,\"#d8576b\"],[0.6666666666666666,\"#ed7953\"],[0.7777777777777778,\"#fb9f3a\"],[0.8888888888888888,\"#fdca26\"],[1.0,\"#f0f921\"]],\"type\":\"histogram2d\"}],\"histogram\":[{\"marker\":{\"pattern\":{\"fillmode\":\"overlay\",\"size\":10,\"solidity\":0.2}},\"type\":\"histogram\"}],\"mesh3d\":[{\"colorbar\":{\"outlinewidth\":0,\"ticks\":\"\"},\"type\":\"mesh3d\"}],\"parcoords\":[{\"line\":{\"colorbar\":{\"outlinewidth\":0,\"ticks\":\"\"}},\"type\":\"parcoords\"}],\"pie\":[{\"automargin\":true,\"type\":\"pie\"}],\"scatter3d\":[{\"line\":{\"colorbar\":{\"outlinewidth\":0,\"ticks\":\"\"}},\"marker\":{\"colorbar\":{\"outlinewidth\":0,\"ticks\":\"\"}},\"type\":\"scatter3d\"}],\"scattercarpet\":[{\"marker\":{\"colorbar\":{\"outlinewidth\":0,\"ticks\":\"\"}},\"type\":\"scattercarpet\"}],\"scattergeo\":[{\"marker\":{\"colorbar\":{\"outlinewidth\":0,\"ticks\":\"\"}},\"type\":\"scattergeo\"}],\"scattergl\":[{\"marker\":{\"line\":{\"color\":\"#283442\"}},\"type\":\"scattergl\"}],\"scattermapbox\":[{\"marker\":{\"colorbar\":{\"outlinewidth\":0,\"ticks\":\"\"}},\"type\":\"scattermapbox\"}],\"scatterpolargl\":[{\"marker\":{\"colorbar\":{\"outlinewidth\":0,\"ticks\":\"\"}},\"type\":\"scatterpolargl\"}],\"scatterpolar\":[{\"marker\":{\"colorbar\":{\"outlinewidth\":0,\"ticks\":\"\"}},\"type\":\"scatterpolar\"}],\"scatter\":[{\"marker\":{\"line\":{\"color\":\"#283442\"}},\"type\":\"scatter\"}],\"scatterternary\":[{\"marker\":{\"colorbar\":{\"outlinewidth\":0,\"ticks\":\"\"}},\"type\":\"scatterternary\"}],\"surface\":[{\"colorbar\":{\"outlinewidth\":0,\"ticks\":\"\"},\"colorscale\":[[0.0,\"#0d0887\"],[0.1111111111111111,\"#46039f\"],[0.2222222222222222,\"#7201a8\"],[0.3333333333333333,\"#9c179e\"],[0.4444444444444444,\"#bd3786\"],[0.5555555555555556,\"#d8576b\"],[0.6666666666666666,\"#ed7953\"],[0.7777777777777778,\"#fb9f3a\"],[0.8888888888888888,\"#fdca26\"],[1.0,\"#f0f921\"]],\"type\":\"surface\"}],\"table\":[{\"cells\":{\"fill\":{\"color\":\"#506784\"},\"line\":{\"color\":\"rgb(17,17,17)\"}},\"header\":{\"fill\":{\"color\":\"#2a3f5f\"},\"line\":{\"color\":\"rgb(17,17,17)\"}},\"type\":\"table\"}]},\"layout\":{\"annotationdefaults\":{\"arrowcolor\":\"#f2f5fa\",\"arrowhead\":0,\"arrowwidth\":1},\"autotypenumbers\":\"strict\",\"coloraxis\":{\"colorbar\":{\"outlinewidth\":0,\"ticks\":\"\"}},\"colorscale\":{\"diverging\":[[0,\"#8e0152\"],[0.1,\"#c51b7d\"],[0.2,\"#de77ae\"],[0.3,\"#f1b6da\"],[0.4,\"#fde0ef\"],[0.5,\"#f7f7f7\"],[0.6,\"#e6f5d0\"],[0.7,\"#b8e186\"],[0.8,\"#7fbc41\"],[0.9,\"#4d9221\"],[1,\"#276419\"]],\"sequential\":[[0.0,\"#0d0887\"],[0.1111111111111111,\"#46039f\"],[0.2222222222222222,\"#7201a8\"],[0.3333333333333333,\"#9c179e\"],[0.4444444444444444,\"#bd3786\"],[0.5555555555555556,\"#d8576b\"],[0.6666666666666666,\"#ed7953\"],[0.7777777777777778,\"#fb9f3a\"],[0.8888888888888888,\"#fdca26\"],[1.0,\"#f0f921\"]],\"sequentialminus\":[[0.0,\"#0d0887\"],[0.1111111111111111,\"#46039f\"],[0.2222222222222222,\"#7201a8\"],[0.3333333333333333,\"#9c179e\"],[0.4444444444444444,\"#bd3786\"],[0.5555555555555556,\"#d8576b\"],[0.6666666666666666,\"#ed7953\"],[0.7777777777777778,\"#fb9f3a\"],[0.8888888888888888,\"#fdca26\"],[1.0,\"#f0f921\"]]},\"colorway\":[\"#636efa\",\"#EF553B\",\"#00cc96\",\"#ab63fa\",\"#FFA15A\",\"#19d3f3\",\"#FF6692\",\"#B6E880\",\"#FF97FF\",\"#FECB52\"],\"font\":{\"color\":\"#f2f5fa\"},\"geo\":{\"bgcolor\":\"rgb(17,17,17)\",\"lakecolor\":\"rgb(17,17,17)\",\"landcolor\":\"rgb(17,17,17)\",\"showlakes\":true,\"showland\":true,\"subunitcolor\":\"#506784\"},\"hoverlabel\":{\"align\":\"left\"},\"hovermode\":\"closest\",\"mapbox\":{\"style\":\"dark\"},\"paper_bgcolor\":\"rgb(17,17,17)\",\"plot_bgcolor\":\"rgb(17,17,17)\",\"polar\":{\"angularaxis\":{\"gridcolor\":\"#506784\",\"linecolor\":\"#506784\",\"ticks\":\"\"},\"bgcolor\":\"rgb(17,17,17)\",\"radialaxis\":{\"gridcolor\":\"#506784\",\"linecolor\":\"#506784\",\"ticks\":\"\"}},\"scene\":{\"xaxis\":{\"backgroundcolor\":\"rgb(17,17,17)\",\"gridcolor\":\"#506784\",\"gridwidth\":2,\"linecolor\":\"#506784\",\"showbackground\":true,\"ticks\":\"\",\"zerolinecolor\":\"#C8D4E3\"},\"yaxis\":{\"backgroundcolor\":\"rgb(17,17,17)\",\"gridcolor\":\"#506784\",\"gridwidth\":2,\"linecolor\":\"#506784\",\"showbackground\":true,\"ticks\":\"\",\"zerolinecolor\":\"#C8D4E3\"},\"zaxis\":{\"backgroundcolor\":\"rgb(17,17,17)\",\"gridcolor\":\"#506784\",\"gridwidth\":2,\"linecolor\":\"#506784\",\"showbackground\":true,\"ticks\":\"\",\"zerolinecolor\":\"#C8D4E3\"}},\"shapedefaults\":{\"line\":{\"color\":\"#f2f5fa\"}},\"sliderdefaults\":{\"bgcolor\":\"#C8D4E3\",\"bordercolor\":\"rgb(17,17,17)\",\"borderwidth\":1,\"tickwidth\":0},\"ternary\":{\"aaxis\":{\"gridcolor\":\"#506784\",\"linecolor\":\"#506784\",\"ticks\":\"\"},\"baxis\":{\"gridcolor\":\"#506784\",\"linecolor\":\"#506784\",\"ticks\":\"\"},\"bgcolor\":\"rgb(17,17,17)\",\"caxis\":{\"gridcolor\":\"#506784\",\"linecolor\":\"#506784\",\"ticks\":\"\"}},\"title\":{\"x\":0.05},\"updatemenudefaults\":{\"bgcolor\":\"#506784\",\"borderwidth\":0},\"xaxis\":{\"automargin\":true,\"gridcolor\":\"#283442\",\"linecolor\":\"#506784\",\"ticks\":\"\",\"title\":{\"standoff\":15},\"zerolinecolor\":\"#283442\",\"zerolinewidth\":2},\"yaxis\":{\"automargin\":true,\"gridcolor\":\"#283442\",\"linecolor\":\"#506784\",\"ticks\":\"\",\"title\":{\"standoff\":15},\"zerolinecolor\":\"#283442\",\"zerolinewidth\":2}}},\"xaxis\":{\"anchor\":\"y\",\"domain\":[0.0,1.0],\"title\":{\"text\":\"1-specificity\"},\"range\":[0,1]},\"yaxis\":{\"anchor\":\"x\",\"domain\":[0.0,1.0],\"title\":{\"text\":\"sensitivity\"},\"range\":[0,1]},\"legend\":{\"tracegroupgap\":0},\"margin\":{\"t\":60},\"shapes\":[{\"line\":{\"dash\":\"dash\"},\"type\":\"line\",\"x0\":0,\"x1\":1,\"y0\":0,\"y1\":1}]},                        {\"responsive\": true}                    ).then(function(){\n                            \nvar gd = document.getElementById('01269c90-c39f-4222-bb2e-5cd6480d930a');\nvar x = new MutationObserver(function (mutations, observer) {{\n        var display = window.getComputedStyle(gd).display;\n        if (!display || display === 'none') {{\n            console.log([gd, 'removed!']);\n            Plotly.purge(gd);\n            observer.disconnect();\n        }}\n}});\n\n// Listen for the removal of the full notebook cells\nvar notebookContainer = gd.closest('#notebook-container');\nif (notebookContainer) {{\n    x.observe(notebookContainer, {childList: true});\n}}\n\n// Listen for the clearing of the current output cell\nvar outputEl = gd.closest('.output');\nif (outputEl) {{\n    x.observe(outputEl, {childList: true});\n}}\n\n                        })                };                });            </script>        </div>"
     },
     "metadata": {},
     "output_type": "display_data"
    },
    {
     "data": {
      "application/vnd.plotly.v1+json": {
       "data": [
        {
         "customdata": [
          [
           0.99
          ],
          [
           1.5
          ],
          [
           2.5
          ],
          [
           3.5
          ],
          [
           4.5
          ],
          [
           5.5
          ],
          [
           6.5
          ],
          [
           7.5
          ],
          [
           8.5
          ],
          [
           9.5
          ],
          [
           10.01
          ]
         ],
         "hovertemplate": "1-specificity=%{x:0.2%}<br>sensitivity=%{y:0.2%}<br>threshold=%{customdata[0]}<extra></extra>",
         "legendgroup": "",
         "line": {
          "color": "#636efa",
          "dash": "solid"
         },
         "marker": {
          "symbol": "circle"
         },
         "mode": "text+lines+markers",
         "name": "",
         "orientation": "v",
         "showlegend": false,
         "text": [
          0.99,
          1.5,
          2.5,
          3.5,
          4.5,
          5.5,
          6.5,
          7.5,
          8.5,
          9.5,
          10.01
         ],
         "x": [
          1.0,
          0.8817292006525286,
          0.7634584013050572,
          0.6451876019575856,
          0.5285481239804242,
          0.42088091353996737,
          0.3230016313213703,
          0.23327895595432302,
          0.1370309951060359,
          0.07422512234910272,
          0.0
         ],
         "xaxis": "x",
         "y": [
          1.0,
          1.0,
          1.0,
          1.0,
          0.9910714285714286,
          0.9330357142857143,
          0.8214285714285714,
          0.6651785714285714,
          0.5446428571428571,
          0.24107142857142858,
          0.0
         ],
         "yaxis": "y",
         "type": "scatter"
        }
       ],
       "layout": {
        "template": {
         "data": {
          "barpolar": [
           {
            "marker": {
             "line": {
              "color": "rgb(17,17,17)",
              "width": 0.5
             },
             "pattern": {
              "fillmode": "overlay",
              "size": 10,
              "solidity": 0.2
             }
            },
            "type": "barpolar"
           }
          ],
          "bar": [
           {
            "error_x": {
             "color": "#f2f5fa"
            },
            "error_y": {
             "color": "#f2f5fa"
            },
            "marker": {
             "line": {
              "color": "rgb(17,17,17)",
              "width": 0.5
             },
             "pattern": {
              "fillmode": "overlay",
              "size": 10,
              "solidity": 0.2
             }
            },
            "type": "bar"
           }
          ],
          "carpet": [
           {
            "aaxis": {
             "endlinecolor": "#A2B1C6",
             "gridcolor": "#506784",
             "linecolor": "#506784",
             "minorgridcolor": "#506784",
             "startlinecolor": "#A2B1C6"
            },
            "baxis": {
             "endlinecolor": "#A2B1C6",
             "gridcolor": "#506784",
             "linecolor": "#506784",
             "minorgridcolor": "#506784",
             "startlinecolor": "#A2B1C6"
            },
            "type": "carpet"
           }
          ],
          "choropleth": [
           {
            "colorbar": {
             "outlinewidth": 0,
             "ticks": ""
            },
            "type": "choropleth"
           }
          ],
          "contourcarpet": [
           {
            "colorbar": {
             "outlinewidth": 0,
             "ticks": ""
            },
            "type": "contourcarpet"
           }
          ],
          "contour": [
           {
            "colorbar": {
             "outlinewidth": 0,
             "ticks": ""
            },
            "colorscale": [
             [
              0.0,
              "#0d0887"
             ],
             [
              0.1111111111111111,
              "#46039f"
             ],
             [
              0.2222222222222222,
              "#7201a8"
             ],
             [
              0.3333333333333333,
              "#9c179e"
             ],
             [
              0.4444444444444444,
              "#bd3786"
             ],
             [
              0.5555555555555556,
              "#d8576b"
             ],
             [
              0.6666666666666666,
              "#ed7953"
             ],
             [
              0.7777777777777778,
              "#fb9f3a"
             ],
             [
              0.8888888888888888,
              "#fdca26"
             ],
             [
              1.0,
              "#f0f921"
             ]
            ],
            "type": "contour"
           }
          ],
          "heatmapgl": [
           {
            "colorbar": {
             "outlinewidth": 0,
             "ticks": ""
            },
            "colorscale": [
             [
              0.0,
              "#0d0887"
             ],
             [
              0.1111111111111111,
              "#46039f"
             ],
             [
              0.2222222222222222,
              "#7201a8"
             ],
             [
              0.3333333333333333,
              "#9c179e"
             ],
             [
              0.4444444444444444,
              "#bd3786"
             ],
             [
              0.5555555555555556,
              "#d8576b"
             ],
             [
              0.6666666666666666,
              "#ed7953"
             ],
             [
              0.7777777777777778,
              "#fb9f3a"
             ],
             [
              0.8888888888888888,
              "#fdca26"
             ],
             [
              1.0,
              "#f0f921"
             ]
            ],
            "type": "heatmapgl"
           }
          ],
          "heatmap": [
           {
            "colorbar": {
             "outlinewidth": 0,
             "ticks": ""
            },
            "colorscale": [
             [
              0.0,
              "#0d0887"
             ],
             [
              0.1111111111111111,
              "#46039f"
             ],
             [
              0.2222222222222222,
              "#7201a8"
             ],
             [
              0.3333333333333333,
              "#9c179e"
             ],
             [
              0.4444444444444444,
              "#bd3786"
             ],
             [
              0.5555555555555556,
              "#d8576b"
             ],
             [
              0.6666666666666666,
              "#ed7953"
             ],
             [
              0.7777777777777778,
              "#fb9f3a"
             ],
             [
              0.8888888888888888,
              "#fdca26"
             ],
             [
              1.0,
              "#f0f921"
             ]
            ],
            "type": "heatmap"
           }
          ],
          "histogram2dcontour": [
           {
            "colorbar": {
             "outlinewidth": 0,
             "ticks": ""
            },
            "colorscale": [
             [
              0.0,
              "#0d0887"
             ],
             [
              0.1111111111111111,
              "#46039f"
             ],
             [
              0.2222222222222222,
              "#7201a8"
             ],
             [
              0.3333333333333333,
              "#9c179e"
             ],
             [
              0.4444444444444444,
              "#bd3786"
             ],
             [
              0.5555555555555556,
              "#d8576b"
             ],
             [
              0.6666666666666666,
              "#ed7953"
             ],
             [
              0.7777777777777778,
              "#fb9f3a"
             ],
             [
              0.8888888888888888,
              "#fdca26"
             ],
             [
              1.0,
              "#f0f921"
             ]
            ],
            "type": "histogram2dcontour"
           }
          ],
          "histogram2d": [
           {
            "colorbar": {
             "outlinewidth": 0,
             "ticks": ""
            },
            "colorscale": [
             [
              0.0,
              "#0d0887"
             ],
             [
              0.1111111111111111,
              "#46039f"
             ],
             [
              0.2222222222222222,
              "#7201a8"
             ],
             [
              0.3333333333333333,
              "#9c179e"
             ],
             [
              0.4444444444444444,
              "#bd3786"
             ],
             [
              0.5555555555555556,
              "#d8576b"
             ],
             [
              0.6666666666666666,
              "#ed7953"
             ],
             [
              0.7777777777777778,
              "#fb9f3a"
             ],
             [
              0.8888888888888888,
              "#fdca26"
             ],
             [
              1.0,
              "#f0f921"
             ]
            ],
            "type": "histogram2d"
           }
          ],
          "histogram": [
           {
            "marker": {
             "pattern": {
              "fillmode": "overlay",
              "size": 10,
              "solidity": 0.2
             }
            },
            "type": "histogram"
           }
          ],
          "mesh3d": [
           {
            "colorbar": {
             "outlinewidth": 0,
             "ticks": ""
            },
            "type": "mesh3d"
           }
          ],
          "parcoords": [
           {
            "line": {
             "colorbar": {
              "outlinewidth": 0,
              "ticks": ""
             }
            },
            "type": "parcoords"
           }
          ],
          "pie": [
           {
            "automargin": true,
            "type": "pie"
           }
          ],
          "scatter3d": [
           {
            "line": {
             "colorbar": {
              "outlinewidth": 0,
              "ticks": ""
             }
            },
            "marker": {
             "colorbar": {
              "outlinewidth": 0,
              "ticks": ""
             }
            },
            "type": "scatter3d"
           }
          ],
          "scattercarpet": [
           {
            "marker": {
             "colorbar": {
              "outlinewidth": 0,
              "ticks": ""
             }
            },
            "type": "scattercarpet"
           }
          ],
          "scattergeo": [
           {
            "marker": {
             "colorbar": {
              "outlinewidth": 0,
              "ticks": ""
             }
            },
            "type": "scattergeo"
           }
          ],
          "scattergl": [
           {
            "marker": {
             "line": {
              "color": "#283442"
             }
            },
            "type": "scattergl"
           }
          ],
          "scattermapbox": [
           {
            "marker": {
             "colorbar": {
              "outlinewidth": 0,
              "ticks": ""
             }
            },
            "type": "scattermapbox"
           }
          ],
          "scatterpolargl": [
           {
            "marker": {
             "colorbar": {
              "outlinewidth": 0,
              "ticks": ""
             }
            },
            "type": "scatterpolargl"
           }
          ],
          "scatterpolar": [
           {
            "marker": {
             "colorbar": {
              "outlinewidth": 0,
              "ticks": ""
             }
            },
            "type": "scatterpolar"
           }
          ],
          "scatter": [
           {
            "marker": {
             "line": {
              "color": "#283442"
             }
            },
            "type": "scatter"
           }
          ],
          "scatterternary": [
           {
            "marker": {
             "colorbar": {
              "outlinewidth": 0,
              "ticks": ""
             }
            },
            "type": "scatterternary"
           }
          ],
          "surface": [
           {
            "colorbar": {
             "outlinewidth": 0,
             "ticks": ""
            },
            "colorscale": [
             [
              0.0,
              "#0d0887"
             ],
             [
              0.1111111111111111,
              "#46039f"
             ],
             [
              0.2222222222222222,
              "#7201a8"
             ],
             [
              0.3333333333333333,
              "#9c179e"
             ],
             [
              0.4444444444444444,
              "#bd3786"
             ],
             [
              0.5555555555555556,
              "#d8576b"
             ],
             [
              0.6666666666666666,
              "#ed7953"
             ],
             [
              0.7777777777777778,
              "#fb9f3a"
             ],
             [
              0.8888888888888888,
              "#fdca26"
             ],
             [
              1.0,
              "#f0f921"
             ]
            ],
            "type": "surface"
           }
          ],
          "table": [
           {
            "cells": {
             "fill": {
              "color": "#506784"
             },
             "line": {
              "color": "rgb(17,17,17)"
             }
            },
            "header": {
             "fill": {
              "color": "#2a3f5f"
             },
             "line": {
              "color": "rgb(17,17,17)"
             }
            },
            "type": "table"
           }
          ]
         },
         "layout": {
          "annotationdefaults": {
           "arrowcolor": "#f2f5fa",
           "arrowhead": 0,
           "arrowwidth": 1
          },
          "autotypenumbers": "strict",
          "coloraxis": {
           "colorbar": {
            "outlinewidth": 0,
            "ticks": ""
           }
          },
          "colorscale": {
           "diverging": [
            [
             0,
             "#8e0152"
            ],
            [
             0.1,
             "#c51b7d"
            ],
            [
             0.2,
             "#de77ae"
            ],
            [
             0.3,
             "#f1b6da"
            ],
            [
             0.4,
             "#fde0ef"
            ],
            [
             0.5,
             "#f7f7f7"
            ],
            [
             0.6,
             "#e6f5d0"
            ],
            [
             0.7,
             "#b8e186"
            ],
            [
             0.8,
             "#7fbc41"
            ],
            [
             0.9,
             "#4d9221"
            ],
            [
             1,
             "#276419"
            ]
           ],
           "sequential": [
            [
             0.0,
             "#0d0887"
            ],
            [
             0.1111111111111111,
             "#46039f"
            ],
            [
             0.2222222222222222,
             "#7201a8"
            ],
            [
             0.3333333333333333,
             "#9c179e"
            ],
            [
             0.4444444444444444,
             "#bd3786"
            ],
            [
             0.5555555555555556,
             "#d8576b"
            ],
            [
             0.6666666666666666,
             "#ed7953"
            ],
            [
             0.7777777777777778,
             "#fb9f3a"
            ],
            [
             0.8888888888888888,
             "#fdca26"
            ],
            [
             1.0,
             "#f0f921"
            ]
           ],
           "sequentialminus": [
            [
             0.0,
             "#0d0887"
            ],
            [
             0.1111111111111111,
             "#46039f"
            ],
            [
             0.2222222222222222,
             "#7201a8"
            ],
            [
             0.3333333333333333,
             "#9c179e"
            ],
            [
             0.4444444444444444,
             "#bd3786"
            ],
            [
             0.5555555555555556,
             "#d8576b"
            ],
            [
             0.6666666666666666,
             "#ed7953"
            ],
            [
             0.7777777777777778,
             "#fb9f3a"
            ],
            [
             0.8888888888888888,
             "#fdca26"
            ],
            [
             1.0,
             "#f0f921"
            ]
           ]
          },
          "colorway": [
           "#636efa",
           "#EF553B",
           "#00cc96",
           "#ab63fa",
           "#FFA15A",
           "#19d3f3",
           "#FF6692",
           "#B6E880",
           "#FF97FF",
           "#FECB52"
          ],
          "font": {
           "color": "#f2f5fa"
          },
          "geo": {
           "bgcolor": "rgb(17,17,17)",
           "lakecolor": "rgb(17,17,17)",
           "landcolor": "rgb(17,17,17)",
           "showlakes": true,
           "showland": true,
           "subunitcolor": "#506784"
          },
          "hoverlabel": {
           "align": "left"
          },
          "hovermode": "closest",
          "mapbox": {
           "style": "dark"
          },
          "paper_bgcolor": "rgb(17,17,17)",
          "plot_bgcolor": "rgb(17,17,17)",
          "polar": {
           "angularaxis": {
            "gridcolor": "#506784",
            "linecolor": "#506784",
            "ticks": ""
           },
           "bgcolor": "rgb(17,17,17)",
           "radialaxis": {
            "gridcolor": "#506784",
            "linecolor": "#506784",
            "ticks": ""
           }
          },
          "scene": {
           "xaxis": {
            "backgroundcolor": "rgb(17,17,17)",
            "gridcolor": "#506784",
            "gridwidth": 2,
            "linecolor": "#506784",
            "showbackground": true,
            "ticks": "",
            "zerolinecolor": "#C8D4E3"
           },
           "yaxis": {
            "backgroundcolor": "rgb(17,17,17)",
            "gridcolor": "#506784",
            "gridwidth": 2,
            "linecolor": "#506784",
            "showbackground": true,
            "ticks": "",
            "zerolinecolor": "#C8D4E3"
           },
           "zaxis": {
            "backgroundcolor": "rgb(17,17,17)",
            "gridcolor": "#506784",
            "gridwidth": 2,
            "linecolor": "#506784",
            "showbackground": true,
            "ticks": "",
            "zerolinecolor": "#C8D4E3"
           }
          },
          "shapedefaults": {
           "line": {
            "color": "#f2f5fa"
           }
          },
          "sliderdefaults": {
           "bgcolor": "#C8D4E3",
           "bordercolor": "rgb(17,17,17)",
           "borderwidth": 1,
           "tickwidth": 0
          },
          "ternary": {
           "aaxis": {
            "gridcolor": "#506784",
            "linecolor": "#506784",
            "ticks": ""
           },
           "baxis": {
            "gridcolor": "#506784",
            "linecolor": "#506784",
            "ticks": ""
           },
           "bgcolor": "rgb(17,17,17)",
           "caxis": {
            "gridcolor": "#506784",
            "linecolor": "#506784",
            "ticks": ""
           }
          },
          "title": {
           "x": 0.05
          },
          "updatemenudefaults": {
           "bgcolor": "#506784",
           "borderwidth": 0
          },
          "xaxis": {
           "automargin": true,
           "gridcolor": "#283442",
           "linecolor": "#506784",
           "ticks": "",
           "title": {
            "standoff": 15
           },
           "zerolinecolor": "#283442",
           "zerolinewidth": 2
          },
          "yaxis": {
           "automargin": true,
           "gridcolor": "#283442",
           "linecolor": "#506784",
           "ticks": "",
           "title": {
            "standoff": 15
           },
           "zerolinecolor": "#283442",
           "zerolinewidth": 2
          }
         }
        },
        "xaxis": {
         "anchor": "y",
         "domain": [
          0.0,
          1.0
         ],
         "title": {
          "text": "1-specificity"
         },
         "range": [
          0,
          1
         ]
        },
        "yaxis": {
         "anchor": "x",
         "domain": [
          0.0,
          1.0
         ],
         "title": {
          "text": "sensitivity"
         },
         "range": [
          0,
          1
         ]
        },
        "legend": {
         "tracegroupgap": 0
        },
        "margin": {
         "t": 60
        },
        "shapes": [
         {
          "line": {
           "dash": "dash"
          },
          "type": "line",
          "x0": 0,
          "x1": 1,
          "y0": 0,
          "y1": 1
         }
        ]
       },
       "config": {
        "plotlyServerURL": "https://plot.ly"
       }
      },
      "text/html": "<div>                            <div id=\"a264043c-5440-489b-8bcb-5ba3d0f78fa9\" class=\"plotly-graph-div\" style=\"height:525px; width:100%;\"></div>            <script type=\"text/javascript\">                require([\"plotly\"], function(Plotly) {                    window.PLOTLYENV=window.PLOTLYENV || {};                                    if (document.getElementById(\"a264043c-5440-489b-8bcb-5ba3d0f78fa9\")) {                    Plotly.newPlot(                        \"a264043c-5440-489b-8bcb-5ba3d0f78fa9\",                        [{\"customdata\":[[0.99],[1.5],[2.5],[3.5],[4.5],[5.5],[6.5],[7.5],[8.5],[9.5],[10.01]],\"hovertemplate\":\"1-specificity=%{x:0.2%}<br>sensitivity=%{y:0.2%}<br>threshold=%{customdata[0]}<extra></extra>\",\"legendgroup\":\"\",\"line\":{\"color\":\"#636efa\",\"dash\":\"solid\"},\"marker\":{\"symbol\":\"circle\"},\"mode\":\"text+lines+markers\",\"name\":\"\",\"orientation\":\"v\",\"showlegend\":false,\"text\":[0.99,1.5,2.5,3.5,4.5,5.5,6.5,7.5,8.5,9.5,10.01],\"x\":[1.0,0.8817292006525286,0.7634584013050572,0.6451876019575856,0.5285481239804242,0.42088091353996737,0.3230016313213703,0.23327895595432302,0.1370309951060359,0.07422512234910272,0.0],\"xaxis\":\"x\",\"y\":[1.0,1.0,1.0,1.0,0.9910714285714286,0.9330357142857143,0.8214285714285714,0.6651785714285714,0.5446428571428571,0.24107142857142858,0.0],\"yaxis\":\"y\",\"type\":\"scatter\"}],                        {\"template\":{\"data\":{\"barpolar\":[{\"marker\":{\"line\":{\"color\":\"rgb(17,17,17)\",\"width\":0.5},\"pattern\":{\"fillmode\":\"overlay\",\"size\":10,\"solidity\":0.2}},\"type\":\"barpolar\"}],\"bar\":[{\"error_x\":{\"color\":\"#f2f5fa\"},\"error_y\":{\"color\":\"#f2f5fa\"},\"marker\":{\"line\":{\"color\":\"rgb(17,17,17)\",\"width\":0.5},\"pattern\":{\"fillmode\":\"overlay\",\"size\":10,\"solidity\":0.2}},\"type\":\"bar\"}],\"carpet\":[{\"aaxis\":{\"endlinecolor\":\"#A2B1C6\",\"gridcolor\":\"#506784\",\"linecolor\":\"#506784\",\"minorgridcolor\":\"#506784\",\"startlinecolor\":\"#A2B1C6\"},\"baxis\":{\"endlinecolor\":\"#A2B1C6\",\"gridcolor\":\"#506784\",\"linecolor\":\"#506784\",\"minorgridcolor\":\"#506784\",\"startlinecolor\":\"#A2B1C6\"},\"type\":\"carpet\"}],\"choropleth\":[{\"colorbar\":{\"outlinewidth\":0,\"ticks\":\"\"},\"type\":\"choropleth\"}],\"contourcarpet\":[{\"colorbar\":{\"outlinewidth\":0,\"ticks\":\"\"},\"type\":\"contourcarpet\"}],\"contour\":[{\"colorbar\":{\"outlinewidth\":0,\"ticks\":\"\"},\"colorscale\":[[0.0,\"#0d0887\"],[0.1111111111111111,\"#46039f\"],[0.2222222222222222,\"#7201a8\"],[0.3333333333333333,\"#9c179e\"],[0.4444444444444444,\"#bd3786\"],[0.5555555555555556,\"#d8576b\"],[0.6666666666666666,\"#ed7953\"],[0.7777777777777778,\"#fb9f3a\"],[0.8888888888888888,\"#fdca26\"],[1.0,\"#f0f921\"]],\"type\":\"contour\"}],\"heatmapgl\":[{\"colorbar\":{\"outlinewidth\":0,\"ticks\":\"\"},\"colorscale\":[[0.0,\"#0d0887\"],[0.1111111111111111,\"#46039f\"],[0.2222222222222222,\"#7201a8\"],[0.3333333333333333,\"#9c179e\"],[0.4444444444444444,\"#bd3786\"],[0.5555555555555556,\"#d8576b\"],[0.6666666666666666,\"#ed7953\"],[0.7777777777777778,\"#fb9f3a\"],[0.8888888888888888,\"#fdca26\"],[1.0,\"#f0f921\"]],\"type\":\"heatmapgl\"}],\"heatmap\":[{\"colorbar\":{\"outlinewidth\":0,\"ticks\":\"\"},\"colorscale\":[[0.0,\"#0d0887\"],[0.1111111111111111,\"#46039f\"],[0.2222222222222222,\"#7201a8\"],[0.3333333333333333,\"#9c179e\"],[0.4444444444444444,\"#bd3786\"],[0.5555555555555556,\"#d8576b\"],[0.6666666666666666,\"#ed7953\"],[0.7777777777777778,\"#fb9f3a\"],[0.8888888888888888,\"#fdca26\"],[1.0,\"#f0f921\"]],\"type\":\"heatmap\"}],\"histogram2dcontour\":[{\"colorbar\":{\"outlinewidth\":0,\"ticks\":\"\"},\"colorscale\":[[0.0,\"#0d0887\"],[0.1111111111111111,\"#46039f\"],[0.2222222222222222,\"#7201a8\"],[0.3333333333333333,\"#9c179e\"],[0.4444444444444444,\"#bd3786\"],[0.5555555555555556,\"#d8576b\"],[0.6666666666666666,\"#ed7953\"],[0.7777777777777778,\"#fb9f3a\"],[0.8888888888888888,\"#fdca26\"],[1.0,\"#f0f921\"]],\"type\":\"histogram2dcontour\"}],\"histogram2d\":[{\"colorbar\":{\"outlinewidth\":0,\"ticks\":\"\"},\"colorscale\":[[0.0,\"#0d0887\"],[0.1111111111111111,\"#46039f\"],[0.2222222222222222,\"#7201a8\"],[0.3333333333333333,\"#9c179e\"],[0.4444444444444444,\"#bd3786\"],[0.5555555555555556,\"#d8576b\"],[0.6666666666666666,\"#ed7953\"],[0.7777777777777778,\"#fb9f3a\"],[0.8888888888888888,\"#fdca26\"],[1.0,\"#f0f921\"]],\"type\":\"histogram2d\"}],\"histogram\":[{\"marker\":{\"pattern\":{\"fillmode\":\"overlay\",\"size\":10,\"solidity\":0.2}},\"type\":\"histogram\"}],\"mesh3d\":[{\"colorbar\":{\"outlinewidth\":0,\"ticks\":\"\"},\"type\":\"mesh3d\"}],\"parcoords\":[{\"line\":{\"colorbar\":{\"outlinewidth\":0,\"ticks\":\"\"}},\"type\":\"parcoords\"}],\"pie\":[{\"automargin\":true,\"type\":\"pie\"}],\"scatter3d\":[{\"line\":{\"colorbar\":{\"outlinewidth\":0,\"ticks\":\"\"}},\"marker\":{\"colorbar\":{\"outlinewidth\":0,\"ticks\":\"\"}},\"type\":\"scatter3d\"}],\"scattercarpet\":[{\"marker\":{\"colorbar\":{\"outlinewidth\":0,\"ticks\":\"\"}},\"type\":\"scattercarpet\"}],\"scattergeo\":[{\"marker\":{\"colorbar\":{\"outlinewidth\":0,\"ticks\":\"\"}},\"type\":\"scattergeo\"}],\"scattergl\":[{\"marker\":{\"line\":{\"color\":\"#283442\"}},\"type\":\"scattergl\"}],\"scattermapbox\":[{\"marker\":{\"colorbar\":{\"outlinewidth\":0,\"ticks\":\"\"}},\"type\":\"scattermapbox\"}],\"scatterpolargl\":[{\"marker\":{\"colorbar\":{\"outlinewidth\":0,\"ticks\":\"\"}},\"type\":\"scatterpolargl\"}],\"scatterpolar\":[{\"marker\":{\"colorbar\":{\"outlinewidth\":0,\"ticks\":\"\"}},\"type\":\"scatterpolar\"}],\"scatter\":[{\"marker\":{\"line\":{\"color\":\"#283442\"}},\"type\":\"scatter\"}],\"scatterternary\":[{\"marker\":{\"colorbar\":{\"outlinewidth\":0,\"ticks\":\"\"}},\"type\":\"scatterternary\"}],\"surface\":[{\"colorbar\":{\"outlinewidth\":0,\"ticks\":\"\"},\"colorscale\":[[0.0,\"#0d0887\"],[0.1111111111111111,\"#46039f\"],[0.2222222222222222,\"#7201a8\"],[0.3333333333333333,\"#9c179e\"],[0.4444444444444444,\"#bd3786\"],[0.5555555555555556,\"#d8576b\"],[0.6666666666666666,\"#ed7953\"],[0.7777777777777778,\"#fb9f3a\"],[0.8888888888888888,\"#fdca26\"],[1.0,\"#f0f921\"]],\"type\":\"surface\"}],\"table\":[{\"cells\":{\"fill\":{\"color\":\"#506784\"},\"line\":{\"color\":\"rgb(17,17,17)\"}},\"header\":{\"fill\":{\"color\":\"#2a3f5f\"},\"line\":{\"color\":\"rgb(17,17,17)\"}},\"type\":\"table\"}]},\"layout\":{\"annotationdefaults\":{\"arrowcolor\":\"#f2f5fa\",\"arrowhead\":0,\"arrowwidth\":1},\"autotypenumbers\":\"strict\",\"coloraxis\":{\"colorbar\":{\"outlinewidth\":0,\"ticks\":\"\"}},\"colorscale\":{\"diverging\":[[0,\"#8e0152\"],[0.1,\"#c51b7d\"],[0.2,\"#de77ae\"],[0.3,\"#f1b6da\"],[0.4,\"#fde0ef\"],[0.5,\"#f7f7f7\"],[0.6,\"#e6f5d0\"],[0.7,\"#b8e186\"],[0.8,\"#7fbc41\"],[0.9,\"#4d9221\"],[1,\"#276419\"]],\"sequential\":[[0.0,\"#0d0887\"],[0.1111111111111111,\"#46039f\"],[0.2222222222222222,\"#7201a8\"],[0.3333333333333333,\"#9c179e\"],[0.4444444444444444,\"#bd3786\"],[0.5555555555555556,\"#d8576b\"],[0.6666666666666666,\"#ed7953\"],[0.7777777777777778,\"#fb9f3a\"],[0.8888888888888888,\"#fdca26\"],[1.0,\"#f0f921\"]],\"sequentialminus\":[[0.0,\"#0d0887\"],[0.1111111111111111,\"#46039f\"],[0.2222222222222222,\"#7201a8\"],[0.3333333333333333,\"#9c179e\"],[0.4444444444444444,\"#bd3786\"],[0.5555555555555556,\"#d8576b\"],[0.6666666666666666,\"#ed7953\"],[0.7777777777777778,\"#fb9f3a\"],[0.8888888888888888,\"#fdca26\"],[1.0,\"#f0f921\"]]},\"colorway\":[\"#636efa\",\"#EF553B\",\"#00cc96\",\"#ab63fa\",\"#FFA15A\",\"#19d3f3\",\"#FF6692\",\"#B6E880\",\"#FF97FF\",\"#FECB52\"],\"font\":{\"color\":\"#f2f5fa\"},\"geo\":{\"bgcolor\":\"rgb(17,17,17)\",\"lakecolor\":\"rgb(17,17,17)\",\"landcolor\":\"rgb(17,17,17)\",\"showlakes\":true,\"showland\":true,\"subunitcolor\":\"#506784\"},\"hoverlabel\":{\"align\":\"left\"},\"hovermode\":\"closest\",\"mapbox\":{\"style\":\"dark\"},\"paper_bgcolor\":\"rgb(17,17,17)\",\"plot_bgcolor\":\"rgb(17,17,17)\",\"polar\":{\"angularaxis\":{\"gridcolor\":\"#506784\",\"linecolor\":\"#506784\",\"ticks\":\"\"},\"bgcolor\":\"rgb(17,17,17)\",\"radialaxis\":{\"gridcolor\":\"#506784\",\"linecolor\":\"#506784\",\"ticks\":\"\"}},\"scene\":{\"xaxis\":{\"backgroundcolor\":\"rgb(17,17,17)\",\"gridcolor\":\"#506784\",\"gridwidth\":2,\"linecolor\":\"#506784\",\"showbackground\":true,\"ticks\":\"\",\"zerolinecolor\":\"#C8D4E3\"},\"yaxis\":{\"backgroundcolor\":\"rgb(17,17,17)\",\"gridcolor\":\"#506784\",\"gridwidth\":2,\"linecolor\":\"#506784\",\"showbackground\":true,\"ticks\":\"\",\"zerolinecolor\":\"#C8D4E3\"},\"zaxis\":{\"backgroundcolor\":\"rgb(17,17,17)\",\"gridcolor\":\"#506784\",\"gridwidth\":2,\"linecolor\":\"#506784\",\"showbackground\":true,\"ticks\":\"\",\"zerolinecolor\":\"#C8D4E3\"}},\"shapedefaults\":{\"line\":{\"color\":\"#f2f5fa\"}},\"sliderdefaults\":{\"bgcolor\":\"#C8D4E3\",\"bordercolor\":\"rgb(17,17,17)\",\"borderwidth\":1,\"tickwidth\":0},\"ternary\":{\"aaxis\":{\"gridcolor\":\"#506784\",\"linecolor\":\"#506784\",\"ticks\":\"\"},\"baxis\":{\"gridcolor\":\"#506784\",\"linecolor\":\"#506784\",\"ticks\":\"\"},\"bgcolor\":\"rgb(17,17,17)\",\"caxis\":{\"gridcolor\":\"#506784\",\"linecolor\":\"#506784\",\"ticks\":\"\"}},\"title\":{\"x\":0.05},\"updatemenudefaults\":{\"bgcolor\":\"#506784\",\"borderwidth\":0},\"xaxis\":{\"automargin\":true,\"gridcolor\":\"#283442\",\"linecolor\":\"#506784\",\"ticks\":\"\",\"title\":{\"standoff\":15},\"zerolinecolor\":\"#283442\",\"zerolinewidth\":2},\"yaxis\":{\"automargin\":true,\"gridcolor\":\"#283442\",\"linecolor\":\"#506784\",\"ticks\":\"\",\"title\":{\"standoff\":15},\"zerolinecolor\":\"#283442\",\"zerolinewidth\":2}}},\"xaxis\":{\"anchor\":\"y\",\"domain\":[0.0,1.0],\"title\":{\"text\":\"1-specificity\"},\"range\":[0,1]},\"yaxis\":{\"anchor\":\"x\",\"domain\":[0.0,1.0],\"title\":{\"text\":\"sensitivity\"},\"range\":[0,1]},\"legend\":{\"tracegroupgap\":0},\"margin\":{\"t\":60},\"shapes\":[{\"line\":{\"dash\":\"dash\"},\"type\":\"line\",\"x0\":0,\"x1\":1,\"y0\":0,\"y1\":1}]},                        {\"responsive\": true}                    ).then(function(){\n                            \nvar gd = document.getElementById('a264043c-5440-489b-8bcb-5ba3d0f78fa9');\nvar x = new MutationObserver(function (mutations, observer) {{\n        var display = window.getComputedStyle(gd).display;\n        if (!display || display === 'none') {{\n            console.log([gd, 'removed!']);\n            Plotly.purge(gd);\n            observer.disconnect();\n        }}\n}});\n\n// Listen for the removal of the full notebook cells\nvar notebookContainer = gd.closest('#notebook-container');\nif (notebookContainer) {{\n    x.observe(notebookContainer, {childList: true});\n}}\n\n// Listen for the clearing of the current output cell\nvar outputEl = gd.closest('.output');\nif (outputEl) {{\n    x.observe(outputEl, {childList: true});\n}}\n\n                        })                };                });            </script>        </div>"
     },
     "metadata": {},
     "output_type": "display_data"
    }
   ],
   "source": [
    "roc_df = calculate_roc(all_metrics_flat[\"Labels-Value\"],\n",
    "                       all_metrics_flat[\"Ranks-Color-Center-H\"], true_value=\"True\")\n",
    "roc_df.sort_values(by=\"1-specificity\")\n",
    "fig = px.line(roc_df,\n",
    "              x=\"1-specificity\", y=\"sensitivity\",\n",
    "              hover_data=roc_hover_data, text=\"threshold\", markers=True,\n",
    "              range_y=[0,1], range_x=[0,1],\n",
    "                 category_orders=category_orders, labels=var_labels, template=plotly_template,\n",
    ")\n",
    "fig.add_shape( type=\"line\", line=dict(dash=\"dash\"), x0=0, x1=1, y0=0, y1=1 )\n",
    "fig.show()\n",
    "title = \"HSV ROC curve - H rank\"\n",
    "save_plotly_figure(fig, title)\n",
    "\n",
    "roc_df = calculate_roc(all_metrics_flat[\"Labels-Value\"],\n",
    "                       all_metrics_flat[\"Ranks-Color-Center-S\"], true_value=\"True\")\n",
    "roc_df.sort_values(by=\"1-specificity\")\n",
    "fig = px.line(roc_df,\n",
    "              x=\"1-specificity\", y=\"sensitivity\",\n",
    "              hover_data=roc_hover_data, text=\"threshold\", markers=True,\n",
    "              range_y=[0,1], range_x=[0,1],\n",
    "                 category_orders=category_orders, labels=var_labels, template=plotly_template,\n",
    ")\n",
    "fig.add_shape( type=\"line\", line=dict(dash=\"dash\"), x0=0, x1=1, y0=0, y1=1 )\n",
    "fig.show()\n",
    "title = \"HSV ROC curve - S rank\"\n",
    "save_plotly_figure(fig, title)\n",
    "\n",
    "roc_df = calculate_roc(all_metrics_flat[\"Labels-Value\"],\n",
    "                       all_metrics_flat[\"Ranks-Color-Center-V\"], true_value=\"True\")\n",
    "roc_df.sort_values(by=\"1-specificity\")\n",
    "fig = px.line(roc_df,\n",
    "              x=\"1-specificity\", y=\"sensitivity\",\n",
    "              hover_data=roc_hover_data, text=\"threshold\", markers=True,\n",
    "              range_y=[0,1], range_x=[0,1],\n",
    "                 category_orders=category_orders, labels=var_labels, template=plotly_template,\n",
    ")\n",
    "fig.add_shape( type=\"line\", line=dict(dash=\"dash\"), x0=0, x1=1, y0=0, y1=1 )\n",
    "fig.show()\n",
    "title = \"HSV ROC curve - V rank\"\n",
    "save_plotly_figure(fig, title)"
   ],
   "metadata": {
    "collapsed": false
   }
  },
  {
   "cell_type": "code",
   "execution_count": 59,
   "outputs": [
    {
     "data": {
      "text/plain": "array([1, 2])"
     },
     "execution_count": 59,
     "metadata": {},
     "output_type": "execute_result"
    }
   ],
   "source": [
    "np.concatenate([[1],[2]])"
   ],
   "metadata": {
    "collapsed": false
   }
  },
  {
   "cell_type": "code",
   "execution_count": 123,
   "outputs": [
    {
     "data": {
      "text/plain": "array([[False, False,  True],\n       [False,  True,  True],\n       [False,  True,  True],\n       [False,  True,  True]])"
     },
     "execution_count": 123,
     "metadata": {},
     "output_type": "execute_result"
    }
   ],
   "source": [
    "a = np.array([0,5,10])\n",
    "b = np.array([6,5,4,3])\n",
    "c = a >= b[...,np.newaxis]\n",
    "c"
   ],
   "metadata": {
    "collapsed": false
   }
  },
  {
   "cell_type": "code",
   "execution_count": 104,
   "outputs": [
    {
     "data": {
      "text/plain": "array([[False, False, False, False],\n       [False,  True, False,  True],\n       [False,  True, False,  True]])"
     },
     "execution_count": 104,
     "metadata": {},
     "output_type": "execute_result"
    }
   ],
   "source": [
    "(~np.array([True,False,True,False]) & c)"
   ],
   "metadata": {
    "collapsed": false
   }
  },
  {
   "cell_type": "code",
   "execution_count": 141,
   "outputs": [
    {
     "data": {
      "text/plain": "array([ True,  True,  True,  True])"
     },
     "execution_count": 141,
     "metadata": {},
     "output_type": "execute_result"
    }
   ],
   "source": [
    "np.array(pd.Series([1,2,3,\"False\"]),dtype=bool)"
   ],
   "metadata": {
    "collapsed": false
   }
  },
  {
   "cell_type": "code",
   "execution_count": 136,
   "outputs": [],
   "source": [],
   "metadata": {
    "collapsed": false
   }
  },
  {
   "cell_type": "code",
   "execution_count": 190,
   "outputs": [
    {
     "name": "stderr",
     "output_type": "stream",
     "text": [
      "/var/folders/1h/c6vmx9jd2lg6rj_wkfdl22pr0000gn/T/ipykernel_86509/3897382256.py:5: FutureWarning:\n",
      "\n",
      "elementwise comparison failed; returning scalar instead, but in the future will perform elementwise comparison\n",
      "\n"
     ]
    },
    {
     "ename": "AttributeError",
     "evalue": "'bool' object has no attribute 'shape'",
     "output_type": "error",
     "traceback": [
      "\u001B[0;31m---------------------------------------------------------------------------\u001B[0m",
      "\u001B[0;31mAttributeError\u001B[0m                            Traceback (most recent call last)",
      "Input \u001B[0;32mIn [190]\u001B[0m, in \u001B[0;36m<cell line: 1>\u001B[0;34m()\u001B[0m\n\u001B[0;32m----> 1\u001B[0m \u001B[43mcalculate_roc\u001B[49m\u001B[43m(\u001B[49m\u001B[43m[\u001B[49m\u001B[38;5;241;43m0\u001B[39;49m\u001B[43m,\u001B[49m\u001B[38;5;241;43m0\u001B[39;49m\u001B[43m,\u001B[49m\u001B[38;5;241;43m1\u001B[39;49m\u001B[43m,\u001B[49m\u001B[38;5;241;43m1\u001B[39;49m\u001B[43m,\u001B[49m\u001B[38;5;241;43m1\u001B[39;49m\u001B[43m]\u001B[49m\u001B[43m,\u001B[49m\u001B[43m[\u001B[49m\u001B[38;5;241;43m0.1\u001B[39;49m\u001B[43m,\u001B[49m\u001B[38;5;241;43m0.2\u001B[39;49m\u001B[43m,\u001B[49m\u001B[38;5;241;43m0.3\u001B[39;49m\u001B[43m,\u001B[49m\u001B[38;5;241;43m0.4\u001B[39;49m\u001B[43m,\u001B[49m\u001B[38;5;241;43m0.5\u001B[39;49m\u001B[43m]\u001B[49m\u001B[43m,\u001B[49m\u001B[43mtrue_value\u001B[49m\u001B[38;5;241;43m=\u001B[39;49m\u001B[43m[\u001B[49m\u001B[38;5;124;43m\"\u001B[39;49m\u001B[38;5;124;43ma\u001B[39;49m\u001B[38;5;124;43m\"\u001B[39;49m\u001B[43m]\u001B[49m\u001B[43m)\u001B[49m\n",
      "Input \u001B[0;32mIn [184]\u001B[0m, in \u001B[0;36mcalculate_roc\u001B[0;34m(truths, predict_scores, true_value)\u001B[0m\n\u001B[1;32m      4\u001B[0m \u001B[38;5;28;01melif\u001B[39;00m \u001B[38;5;28misinstance\u001B[39m(true_value,(\u001B[38;5;28mlist\u001B[39m,\u001B[38;5;28mdict\u001B[39m,\u001B[38;5;28mtuple\u001B[39m,\u001B[38;5;28mset\u001B[39m,pd\u001B[38;5;241m.\u001B[39mSeries,pd\u001B[38;5;241m.\u001B[39mDataFrame,np\u001B[38;5;241m.\u001B[39mndarray)):\n\u001B[1;32m      5\u001B[0m     truths \u001B[38;5;241m=\u001B[39m np\u001B[38;5;241m.\u001B[39marray(truths) \u001B[38;5;241m==\u001B[39m true_value  \u001B[38;5;66;03m# check if values equal the whole collection\u001B[39;00m\n\u001B[0;32m----> 6\u001B[0m     truths_temp \u001B[38;5;241m=\u001B[39m np\u001B[38;5;241m.\u001B[39mzeros(\u001B[43mtruths\u001B[49m\u001B[38;5;241;43m.\u001B[39;49m\u001B[43mshape\u001B[49m, dtype\u001B[38;5;241m=\u001B[39m\u001B[38;5;28mbool\u001B[39m)  \u001B[38;5;66;03m# start with false and then apply the | (or) operator\u001B[39;00m\n\u001B[1;32m      7\u001B[0m     \u001B[38;5;28;01mfor\u001B[39;00m each_true_value \u001B[38;5;129;01min\u001B[39;00m true_value:  \u001B[38;5;66;03m# check if values equal any of the elements in the collection\u001B[39;00m\n\u001B[1;32m      8\u001B[0m         truths_temp \u001B[38;5;241m=\u001B[39m truths_temp \u001B[38;5;241m|\u001B[39m (truths \u001B[38;5;241m==\u001B[39m each_true_value)\n",
      "\u001B[0;31mAttributeError\u001B[0m: 'bool' object has no attribute 'shape'"
     ]
    }
   ],
   "source": [
    "calculate_roc([0,0,1,1,1],[0.1,0.2,0.3,0.4,0.5],true_value=[\"a\"])"
   ],
   "metadata": {
    "collapsed": false
   }
  },
  {
   "cell_type": "code",
   "execution_count": null,
   "outputs": [],
   "source": [],
   "metadata": {
    "collapsed": false
   }
  }
 ],
 "metadata": {
  "kernelspec": {
   "display_name": "Python 3",
   "language": "python",
   "name": "python3"
  },
  "language_info": {
   "codemirror_mode": {
    "name": "ipython",
    "version": 2
   },
   "file_extension": ".py",
   "mimetype": "text/x-python",
   "name": "python",
   "nbconvert_exporter": "python",
   "pygments_lexer": "ipython2",
   "version": "2.7.6"
  }
 },
 "nbformat": 4,
 "nbformat_minor": 0
}
