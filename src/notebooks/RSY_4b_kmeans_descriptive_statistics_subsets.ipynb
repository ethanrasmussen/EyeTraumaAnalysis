{
 "cells": [
  {
   "cell_type": "code",
   "execution_count": 13,
   "metadata": {
    "collapsed": true
   },
   "outputs": [
    {
     "name": "stdout",
     "output_type": "stream",
     "text": [
      "/Users/ryerrabelli/Library/CloudStorage/GoogleDrive-ryerrabelli@gmail.com/My Drive/Computer Backups/Rahul Yerrabelli drive/PythonProjects/EyeTraumaAnalysis/src\n"
     ]
    }
   ],
   "source": [
    "import os\n",
    "import sys\n",
    "import importlib\n",
    "import json\n",
    "import numpy as np\n",
    "import pandas as pd\n",
    "import scipy.ndimage as snd\n",
    "import skimage\n",
    "import uuid\n",
    "\n",
    "if os.getcwd().split(\"/\")[-1] == \"notebooks\":\n",
    "    os.chdir(\"../..\")\n",
    "directory_path = os.path.abspath(os.path.join(\"src\"))\n",
    "if directory_path not in sys.path:\n",
    "    sys.path.append(directory_path)\n",
    "\n",
    "import EyeTraumaAnalysis\n",
    "\n",
    "print(directory_path)\n",
    "importlib.reload(EyeTraumaAnalysis);\n",
    "import numpy as np\n",
    "import pandas as pd\n",
    "from matplotlib import pyplot as plt\n",
    "import matplotlib as mpl\n",
    "import cv2\n",
    "\n",
    "import plotly.express as px\n",
    "import plotly\n"
   ]
  },
  {
   "cell_type": "markdown",
   "source": [
    "# Load metrics"
   ],
   "metadata": {
    "collapsed": false
   }
  },
  {
   "cell_type": "code",
   "execution_count": 14,
   "outputs": [],
   "source": [
    "all_metrics = pd.read_pickle(\"data/03_first_25percent_metrics/color_and_spatial_metrics\" + \".pkl\")\n",
    "all_metrics_flat = pd.read_pickle(\"data/03_first_25percent_metrics/color_and_spatial_metrics_flat\" + \".pkl\")\n",
    "all_metrics_agg = pd.read_pickle(\"data/03_first_25percent_metrics/color_and_spatial_metrics_agg\" + \".pkl\")"
   ],
   "metadata": {
    "collapsed": false
   }
  },
  {
   "cell_type": "markdown",
   "source": [
    "# Prepare for plotting"
   ],
   "metadata": {
    "collapsed": false
   }
  },
  {
   "cell_type": "code",
   "execution_count": null,
   "outputs": [],
   "source": [
    "def save_plotly_figure(fig: plotly.graph_objs.Figure, title: str):\n",
    "    fig.write_image(\"outputs/kmeans-descriptive-subsets/\" + title + \".png\")\n",
    "    fig.write_html( \"outputs/kmeans-descriptive-subsets/\" + title + \".html\",\n",
    "                        full_html=True, include_plotlyjs=\"directory\" )"
   ],
   "metadata": {
    "collapsed": false
   }
  },
  {
   "cell_type": "code",
   "execution_count": 7,
   "outputs": [],
   "source": [
    "color_discrete_map = {\n",
    "    \"True\":           px.colors.qualitative.Plotly[2], # green\n",
    "    \"Maybe\":          px.colors.qualitative.Plotly[0], # blue\n",
    "    \"False\":          px.colors.qualitative.Plotly[1], # red\n",
    "}\n",
    "pattern_shape_map = {}\n",
    "category_orders = {\n",
    "    \"Labels-Value\": [\"False\", \"Maybe\", \"True\"],\n",
    "}\n",
    "\n",
    "# This is only the start. It will be added to programmatically later\n",
    "var_labels = {\n",
    "    \"Labels-Value\": \"Conjunctiva cluster\",\n",
    "    \"Values-Color-Center-H\": \"Center H\",\n",
    "    \"Values-Color-Center-S\": \"Center S\",\n",
    "    \"Values-Color-Center-V\": \"Center V\",\n",
    "    \"Values-Color-Range-H\": \"Range H\",\n",
    "    \"Values-Color-Range-S\": \"Range S\",\n",
    "    \"Values-Color-Range-V\": \"Range V\",\n",
    "    \"Values-Location-Mean-x\": \"Mean x\",\n",
    "    \"Values-Location-Mean-y\": \"Mean y\",\n",
    "    \"Values-Location-SD-x\": \"SD x\",\n",
    "    \"Values-Location-SD-y\": \"SD y\",\n",
    "    \"Ranks-Color-Mean-V>4\": \"V Rank >4\",\n",
    "    \"Ranks-Color-Mean-V>5\": \"V Rank >5\"\n",
    "}\n",
    "\n",
    "var_labels_copy = var_labels.copy()\n",
    "suffixes = [\"-H\",\"-x\"]\n",
    "for var_label_key in var_labels_copy:\n",
    "    for suffix in suffixes:\n",
    "        if var_label_key.endswith(suffix):\n",
    "            sep = suffix[:1]  # should be \"-\"\n",
    "            suffix_letter = suffix[1:]  # should be \"-H\" or \"-x\"\n",
    "            # Get name up to suffix letter e.g. \"Values-Color-Center-\"\n",
    "            var_label_key_prefix = var_label_key[0:-len(suffix_letter)]\n",
    "            # Get all possible suffixes for the prefix i.e. \"H\", \"S\", \"V\"\n",
    "            suffix_letter_options = [var_label_key[len(var_label_key_prefix):] for var_label_key in var_labels_copy\n",
    "                                          if var_label_key.startswith(var_label_key_prefix)]\n",
    "            combined_suffix_letters = \"\".join(suffix_letter_options)\n",
    "            # Get combined value\n",
    "            var_label_val_prefix = var_labels[var_label_key_prefix + suffix_letter][:-len(suffix_letter)]\n",
    "            combined_var_label_key = var_label_key_prefix + combined_suffix_letters\n",
    "            combined_var_label_val = var_label_val_prefix + combined_suffix_letters\n",
    "            var_labels[combined_var_label_key] = combined_var_label_val\n",
    "\n",
    "\n",
    "# Add labels for ranks\n",
    "var_labels_copy = var_labels.copy()\n",
    "for var_label_key in var_labels_copy:\n",
    "    if var_label_key.startswith(\"Values-\"):\n",
    "        var_label_key_suffix = var_label_key.split(\"Values-\",maxsplit=1)[-1]\n",
    "        var_labels[f\"Ranks-{var_label_key_suffix}\"] = var_labels[var_label_key] + \" (Rank)\"\n",
    "\n",
    "#point_hover_data = [\"Values-Color-Center-HSV\",\"Ranks-Color-Center-HSV\",\n",
    "#                    \"Values-Location-Mean-xy\",\"Ranks-Location-Mean-xy\",\n",
    "#                    \"Values-Location-SD-xy\",\"Ranks-Location-SD-xy\"]\n",
    "point_hover_data = {\n",
    "    \"Values-Color-Center-H\": False,\n",
    "    \"Values-Color-Center-S\": False,\n",
    "    \"Values-Color-Center-V\": False,\n",
    "    \"Ranks-Color-Center-H\": False,\n",
    "    \"Ranks-Color-Center-S\": False,\n",
    "    \"Ranks-Color-Center-V\": False,\n",
    "    \"Values-Color-Center-HSV\":True,\n",
    "    \"Ranks-Color-Center-HSV\":True,\n",
    "    \"Values-Location-Mean-xy\":True,\n",
    "    \"Ranks-Location-Mean-xy\":True,\n",
    "    \"Values-Location-SD-xy\":True,\n",
    "    \"Ranks-Location-SD-xy\":True,\n",
    "}\n",
    "\n",
    "plotly_template = \"plotly_dark\"  #\"simple_white\"\n"
   ],
   "metadata": {
    "collapsed": false
   }
  },
  {
   "cell_type": "markdown",
   "source": [
    "# Plot"
   ],
   "metadata": {
    "collapsed": false
   }
  },
  {
   "cell_type": "code",
   "execution_count": 14,
   "outputs": [],
   "source": [],
   "metadata": {
    "collapsed": false
   }
  },
  {
   "cell_type": "markdown",
   "source": [],
   "metadata": {
    "collapsed": false
   }
  }
 ],
 "metadata": {
  "kernelspec": {
   "display_name": "Python 3",
   "language": "python",
   "name": "python3"
  },
  "language_info": {
   "codemirror_mode": {
    "name": "ipython",
    "version": 2
   },
   "file_extension": ".py",
   "mimetype": "text/x-python",
   "name": "python",
   "nbconvert_exporter": "python",
   "pygments_lexer": "ipython2",
   "version": "2.7.6"
  }
 },
 "nbformat": 4,
 "nbformat_minor": 0
}
