{
 "cells": [
  {
   "cell_type": "code",
   "execution_count": 1,
   "metadata": {
    "collapsed": true
   },
   "outputs": [],
   "source": [
    "import os\n",
    "import sys\n",
    "import importlib\n",
    "import json\n",
    "import numpy as np\n",
    "import pandas as pd\n",
    "import scipy\n",
    "import scipy.ndimage as snd\n",
    "import skimage\n",
    "import uuid\n",
    "from matplotlib import pyplot as plt\n",
    "import matplotlib as mpl\n",
    "import cv2\n",
    "import plotly\n",
    "import plotly.express as px\n",
    "import plotly.graph_objects as go\n",
    "\n",
    "\n",
    "if os.getcwd().split(\"/\")[-1] == \"notebooks\":  # if cwd is located where this file is\n",
    "    os.chdir(\"../..\")  # go two folders upward (the if statement prevents error if cell is rerun)\n",
    "directory_path = os.path.abspath(os.path.join(\"src\"))\n",
    "if directory_path not in sys.path:\n",
    "    sys.path.append(directory_path)\n",
    "\n",
    "import src.EyeTraumaAnalysis"
   ]
  },
  {
   "cell_type": "code",
   "execution_count": 2,
   "outputs": [],
   "source": [
    "importlib.reload(src.EyeTraumaAnalysis);"
   ],
   "metadata": {
    "collapsed": false,
    "pycharm": {
     "name": "#%%\n"
    }
   }
  },
  {
   "cell_type": "markdown",
   "source": [
    "## Load racially stratified metrics"
   ],
   "metadata": {
    "collapsed": false,
    "pycharm": {
     "name": "#%% md\n"
    }
   }
  },
  {
   "cell_type": "code",
   "execution_count": 3,
   "outputs": [
    {
     "name": "stdout",
     "output_type": "stream",
     "text": [
      "Requirement already satisfied: pickle5 in c:\\users\\ethan\\pycharmprojects\\eyetraumaanalysis\\venv\\lib\\site-packages (0.0.12)\n"
     ]
    }
   ],
   "source": [
    "!pip3 install pickle5\n",
    "import pickle5 as pickle"
   ],
   "metadata": {
    "collapsed": false,
    "pycharm": {
     "name": "#%%\n"
    }
   }
  },
  {
   "cell_type": "code",
   "execution_count": 4,
   "outputs": [],
   "source": [
    "with open(\"../../data/03_first_25percent_metrics/metrics_AE\" + \".xlsx\", \"rb\") as fh:\n",
    "  data = pd.read_excel(fh)\n",
    "  data.to_pickle(\"../../data/03_first_25percent_metrics/metrics_AE\" + \"_p4\" + \".pkl\")\n",
    "\n",
    "with open(\"../../data/03_first_25percent_metrics/metrics_BE\" + \".xlsx\", \"rb\") as fh:\n",
    "  data = pd.read_excel(fh)\n",
    "  data.to_pickle(\"../../data/03_first_25percent_metrics/metrics_BE\" + \"_p4\" + \".pkl\")\n",
    "\n",
    "with open(\"../../data/03_first_25percent_metrics/metrics_LE\" + \".xlsx\", \"rb\") as fh:\n",
    "  data = pd.read_excel(fh)\n",
    "  data.to_pickle(\"../../data/03_first_25percent_metrics/metrics_LE\" + \"_p4\" + \".pkl\")\n",
    "\n",
    "with open(\"../../data/03_first_25percent_metrics/metrics_WE\" + \".xlsx\", \"rb\") as fh:\n",
    "  data = pd.read_excel(fh)\n",
    "  data.to_pickle(\"../../data/03_first_25percent_metrics/metrics_WE\" + \"_p4\" + \".pkl\")"
   ],
   "metadata": {
    "collapsed": false,
    "pycharm": {
     "name": "#%%\n"
    }
   }
  },
  {
   "cell_type": "code",
   "execution_count": 5,
   "outputs": [],
   "source": [
    "metrics_AE = pd.read_pickle(\"../../data/03_first_25percent_metrics/metrics_AE\" + \"_p4\" + \".pkl\")\n",
    "metrics_BE = pd.read_pickle(\"../../data/03_first_25percent_metrics/metrics_BE\" + \"_p4\" + \".pkl\")\n",
    "metrics_LE = pd.read_pickle(\"../../data/03_first_25percent_metrics/metrics_LE\" + \"_p4\" + \".pkl\")\n",
    "metrics_WE = pd.read_pickle(\"../../data/03_first_25percent_metrics/metrics_WE\" + \"_p4\" + \".pkl\")"
   ],
   "metadata": {
    "collapsed": false,
    "pycharm": {
     "name": "#%%\n"
    }
   }
  },
  {
   "cell_type": "code",
   "execution_count": 6,
   "outputs": [],
   "source": [
    "def save_plotly_figure(fig: plotly.graph_objs.Figure, title: str, directory=\"outputs/kmeans-descriptive-subsets/\"):\n",
    "    fig.write_image(os.path.join(directory, title + \".png\"))\n",
    "    fig.write_html( os.path.join(directory, title + \".html\"),\n",
    "                    full_html=True, include_plotlyjs=\"directory\" )"
   ],
   "metadata": {
    "collapsed": false,
    "pycharm": {
     "name": "#%%\n"
    }
   }
  },
  {
   "cell_type": "code",
   "execution_count": 7,
   "outputs": [],
   "source": [
    "color_discrete_map = {\n",
    "    \"True\":           px.colors.qualitative.Plotly[2], # green\n",
    "    \"Maybe\":          px.colors.qualitative.Plotly[0], # blue\n",
    "    \"False\":          px.colors.qualitative.Plotly[1], # red\n",
    "}\n",
    "pattern_shape_map = {}\n",
    "category_orders = {\n",
    "    \"Labels-Value\": [\"False\", \"Maybe\", \"True\"],\n",
    "    \"facet_col\": [False, True],\n",
    "    \"facet_row\": [False, True],\n",
    "}\n",
    "\n",
    "# This is only the start. It will be added to programmatically later\n",
    "\n",
    "## VAR LABELS - AE\n",
    "#----------------------\n",
    "var_labels_AE = {\n",
    "    \"Labels-Value\": \"Conjunctiva cluster\",\n",
    "    \"Values-Color-Center-H\": \"Center H\",\n",
    "    \"Values-Color-Center-S\": \"Center S\",\n",
    "    \"Values-Color-Center-V\": \"Center V\",\n",
    "    \"Values-Color-Range-H\": \"Range H\",\n",
    "    \"Values-Color-Range-S\": \"Range S\",\n",
    "    \"Values-Color-Range-V\": \"Range V\",\n",
    "    \"Values-Location-Mean-x\": \"Mean x\",\n",
    "    \"Values-Location-Mean-y\": \"Mean y\",\n",
    "    \"Values-Location-SD-x\": \"SD x\",\n",
    "    \"Values-Location-SD-y\": \"SD y\",\n",
    "}\n",
    "\n",
    "var_labels_copy = var_labels_AE.copy()\n",
    "suffixes = [\"-H\",\"-x\"]\n",
    "for var_label_key in var_labels_copy:\n",
    "    for suffix in suffixes:\n",
    "        if var_label_key.endswith(suffix):\n",
    "            sep = suffix[:1]  # should be \"-\"\n",
    "            suffix_letter = suffix[1:]  # should be \"-H\" or \"-x\"\n",
    "            # Get name up to suffix letter e.g. \"Values-Color-Center-\"\n",
    "            var_label_key_prefix = var_label_key[0:-len(suffix_letter)]\n",
    "            # Get all possible suffixes for the prefix i.e. \"H\", \"S\", \"V\"\n",
    "            suffix_letter_options = [var_label_key[len(var_label_key_prefix):] for var_label_key in var_labels_copy\n",
    "                                          if var_label_key.startswith(var_label_key_prefix)]\n",
    "            combined_suffix_letters = \"\".join(suffix_letter_options)\n",
    "            # Get combined value\n",
    "            var_label_val_prefix = var_labels_AE[var_label_key_prefix + suffix_letter][:-len(suffix_letter)]\n",
    "            combined_var_label_key = var_label_key_prefix + combined_suffix_letters\n",
    "            combined_var_label_val = var_label_val_prefix + combined_suffix_letters\n",
    "            var_labels_AE[combined_var_label_key] = combined_var_label_val\n",
    "\n",
    "\n",
    "# Add labels for ranks\n",
    "var_labels_copy = var_labels_AE.copy()\n",
    "for var_label_key in var_labels_copy:\n",
    "    if var_label_key.startswith(\"Values-\"):\n",
    "        var_label_key_suffix = var_label_key.split(\"Values-\",maxsplit=1)[-1]\n",
    "        var_labels_AE[f\"Ranks-{var_label_key_suffix}\"] = var_labels_AE[var_label_key] + \" (Rank)\"\n",
    "\n",
    "# Add labels\n",
    "for var_label_key in metrics_AE.columns:\n",
    "    for comparator in [\">\",\"<\"]:\n",
    "        if comparator in var_label_key:\n",
    "            stem, comparison = var_label_key.split(comparator, maxsplit=1)\n",
    "            if stem in var_labels_AE:\n",
    "                var_labels_AE[var_label_key] = \\\n",
    "                    (var_labels_AE[stem] + comparator + comparison).replace(\">=\",\"≥\").replace(\"<=\",\"≤\")\n",
    "            else:\n",
    "                print(var_label_key, stem)\n",
    "                print(var_labels_copy)\n",
    "                raise KeyError\n",
    "\n",
    "#point_hover_data = [\"Values-Color-Center-HSV\",\"Ranks-Color-Center-HSV\",\n",
    "#                    \"Values-Location-Mean-xy\",\"Ranks-Location-Mean-xy\",\n",
    "#                    \"Values-Location-SD-xy\",\"Ranks-Location-SD-xy\"]\n",
    "point_hover_data = {\n",
    "    \"Values-Color-Center-H\": False,\n",
    "    \"Values-Color-Center-S\": False,\n",
    "    \"Values-Color-Center-V\": False,\n",
    "    \"Ranks-Color-Center-H\": False,\n",
    "    \"Ranks-Color-Center-S\": False,\n",
    "    \"Ranks-Color-Center-V\": False,\n",
    "    \"Values-Color-Center-HSV\":True,\n",
    "    \"Ranks-Color-Center-HSV\":True,\n",
    "    \"Values-Location-Mean-xy\":True,\n",
    "    \"Ranks-Location-Mean-xy\":True,\n",
    "    \"Values-Location-SD-xy\":True,\n",
    "    \"Ranks-Location-SD-xy\":True,\n",
    "}\n",
    "roc_hover_data = {\n",
    "    \"sensitivity\":\":0.2%\",\n",
    "    \"1-specificity\":\":0.2%\",\n",
    "    \"threshold\":True\n",
    "}\n",
    "\n",
    "## VAR LABELS - BE\n",
    "#------------------------------\n",
    "var_labels_BE = {\n",
    "    \"Labels-Value\": \"Conjunctiva cluster\",\n",
    "    \"Values-Color-Center-H\": \"Center H\",\n",
    "    \"Values-Color-Center-S\": \"Center S\",\n",
    "    \"Values-Color-Center-V\": \"Center V\",\n",
    "    \"Values-Color-Range-H\": \"Range H\",\n",
    "    \"Values-Color-Range-S\": \"Range S\",\n",
    "    \"Values-Color-Range-V\": \"Range V\",\n",
    "    \"Values-Location-Mean-x\": \"Mean x\",\n",
    "    \"Values-Location-Mean-y\": \"Mean y\",\n",
    "    \"Values-Location-SD-x\": \"SD x\",\n",
    "    \"Values-Location-SD-y\": \"SD y\",\n",
    "}\n",
    "\n",
    "var_labels_copy = var_labels_BE.copy()\n",
    "suffixes = [\"-H\",\"-x\"]\n",
    "for var_label_key in var_labels_copy:\n",
    "    for suffix in suffixes:\n",
    "        if var_label_key.endswith(suffix):\n",
    "            sep = suffix[:1]  # should be \"-\"\n",
    "            suffix_letter = suffix[1:]  # should be \"-H\" or \"-x\"\n",
    "            # Get name up to suffix letter e.g. \"Values-Color-Center-\"\n",
    "            var_label_key_prefix = var_label_key[0:-len(suffix_letter)]\n",
    "            # Get all possible suffixes for the prefix i.e. \"H\", \"S\", \"V\"\n",
    "            suffix_letter_options = [var_label_key[len(var_label_key_prefix):] for var_label_key in var_labels_copy\n",
    "                                          if var_label_key.startswith(var_label_key_prefix)]\n",
    "            combined_suffix_letters = \"\".join(suffix_letter_options)\n",
    "            # Get combined value\n",
    "            var_label_val_prefix = var_labels_BE[var_label_key_prefix + suffix_letter][:-len(suffix_letter)]\n",
    "            combined_var_label_key = var_label_key_prefix + combined_suffix_letters\n",
    "            combined_var_label_val = var_label_val_prefix + combined_suffix_letters\n",
    "            var_labels_BE[combined_var_label_key] = combined_var_label_val\n",
    "\n",
    "\n",
    "# Add labels for ranks\n",
    "var_labels_copy = var_labels_BE.copy()\n",
    "for var_label_key in var_labels_copy:\n",
    "    if var_label_key.startswith(\"Values-\"):\n",
    "        var_label_key_suffix = var_label_key.split(\"Values-\",maxsplit=1)[-1]\n",
    "        var_labels_BE[f\"Ranks-{var_label_key_suffix}\"] = var_labels_BE[var_label_key] + \" (Rank)\"\n",
    "\n",
    "# Add labels\n",
    "for var_label_key in metrics_BE.columns:\n",
    "    for comparator in [\">\",\"<\"]:\n",
    "        if comparator in var_label_key:\n",
    "            stem, comparison = var_label_key.split(comparator, maxsplit=1)\n",
    "            if stem in var_labels_BE:\n",
    "                var_labels_BE[var_label_key] = \\\n",
    "                    (var_labels_BE[stem] + comparator + comparison).replace(\">=\",\"≥\").replace(\"<=\",\"≤\")\n",
    "            else:\n",
    "                print(var_label_key, stem)\n",
    "                print(var_labels_copy)\n",
    "                raise KeyError\n",
    "\n",
    "\n",
    "## VAR LABELS - LE\n",
    "#------------------------------\n",
    "var_labels_LE = {\n",
    "    \"Labels-Value\": \"Conjunctiva cluster\",\n",
    "    \"Values-Color-Center-H\": \"Center H\",\n",
    "    \"Values-Color-Center-S\": \"Center S\",\n",
    "    \"Values-Color-Center-V\": \"Center V\",\n",
    "    \"Values-Color-Range-H\": \"Range H\",\n",
    "    \"Values-Color-Range-S\": \"Range S\",\n",
    "    \"Values-Color-Range-V\": \"Range V\",\n",
    "    \"Values-Location-Mean-x\": \"Mean x\",\n",
    "    \"Values-Location-Mean-y\": \"Mean y\",\n",
    "    \"Values-Location-SD-x\": \"SD x\",\n",
    "    \"Values-Location-SD-y\": \"SD y\",\n",
    "}\n",
    "\n",
    "var_labels_copy = var_labels_LE.copy()\n",
    "suffixes = [\"-H\",\"-x\"]\n",
    "for var_label_key in var_labels_copy:\n",
    "    for suffix in suffixes:\n",
    "        if var_label_key.endswith(suffix):\n",
    "            sep = suffix[:1]  # should be \"-\"\n",
    "            suffix_letter = suffix[1:]  # should be \"-H\" or \"-x\"\n",
    "            # Get name up to suffix letter e.g. \"Values-Color-Center-\"\n",
    "            var_label_key_prefix = var_label_key[0:-len(suffix_letter)]\n",
    "            # Get all possible suffixes for the prefix i.e. \"H\", \"S\", \"V\"\n",
    "            suffix_letter_options = [var_label_key[len(var_label_key_prefix):] for var_label_key in var_labels_copy\n",
    "                                          if var_label_key.startswith(var_label_key_prefix)]\n",
    "            combined_suffix_letters = \"\".join(suffix_letter_options)\n",
    "            # Get combined value\n",
    "            var_label_val_prefix = var_labels_LE[var_label_key_prefix + suffix_letter][:-len(suffix_letter)]\n",
    "            combined_var_label_key = var_label_key_prefix + combined_suffix_letters\n",
    "            combined_var_label_val = var_label_val_prefix + combined_suffix_letters\n",
    "            var_labels_LE[combined_var_label_key] = combined_var_label_val\n",
    "\n",
    "\n",
    "# Add labels for ranks\n",
    "var_labels_copy = var_labels_LE.copy()\n",
    "for var_label_key in var_labels_copy:\n",
    "    if var_label_key.startswith(\"Values-\"):\n",
    "        var_label_key_suffix = var_label_key.split(\"Values-\",maxsplit=1)[-1]\n",
    "        var_labels_LE[f\"Ranks-{var_label_key_suffix}\"] = var_labels_LE[var_label_key] + \" (Rank)\"\n",
    "\n",
    "# Add labels\n",
    "for var_label_key in metrics_LE.columns:\n",
    "    for comparator in [\">\",\"<\"]:\n",
    "        if comparator in var_label_key:\n",
    "            stem, comparison = var_label_key.split(comparator, maxsplit=1)\n",
    "            if stem in var_labels_LE:\n",
    "                var_labels_LE[var_label_key] = \\\n",
    "                    (var_labels_LE[stem] + comparator + comparison).replace(\">=\",\"≥\").replace(\"<=\",\"≤\")\n",
    "            else:\n",
    "                print(var_label_key, stem)\n",
    "                print(var_labels_copy)\n",
    "                raise KeyError\n",
    "\n",
    "\n",
    "## VAR LABELS - WE\n",
    "#------------------------------\n",
    "var_labels_WE = {\n",
    "    \"Labels-Value\": \"Conjunctiva cluster\",\n",
    "    \"Values-Color-Center-H\": \"Center H\",\n",
    "    \"Values-Color-Center-S\": \"Center S\",\n",
    "    \"Values-Color-Center-V\": \"Center V\",\n",
    "    \"Values-Color-Range-H\": \"Range H\",\n",
    "    \"Values-Color-Range-S\": \"Range S\",\n",
    "    \"Values-Color-Range-V\": \"Range V\",\n",
    "    \"Values-Location-Mean-x\": \"Mean x\",\n",
    "    \"Values-Location-Mean-y\": \"Mean y\",\n",
    "    \"Values-Location-SD-x\": \"SD x\",\n",
    "    \"Values-Location-SD-y\": \"SD y\",\n",
    "}\n",
    "\n",
    "var_labels_copy = var_labels_WE.copy()\n",
    "suffixes = [\"-H\",\"-x\"]\n",
    "for var_label_key in var_labels_copy:\n",
    "    for suffix in suffixes:\n",
    "        if var_label_key.endswith(suffix):\n",
    "            sep = suffix[:1]  # should be \"-\"\n",
    "            suffix_letter = suffix[1:]  # should be \"-H\" or \"-x\"\n",
    "            # Get name up to suffix letter e.g. \"Values-Color-Center-\"\n",
    "            var_label_key_prefix = var_label_key[0:-len(suffix_letter)]\n",
    "            # Get all possible suffixes for the prefix i.e. \"H\", \"S\", \"V\"\n",
    "            suffix_letter_options = [var_label_key[len(var_label_key_prefix):] for var_label_key in var_labels_copy\n",
    "                                          if var_label_key.startswith(var_label_key_prefix)]\n",
    "            combined_suffix_letters = \"\".join(suffix_letter_options)\n",
    "            # Get combined value\n",
    "            var_label_val_prefix = var_labels_WE[var_label_key_prefix + suffix_letter][:-len(suffix_letter)]\n",
    "            combined_var_label_key = var_label_key_prefix + combined_suffix_letters\n",
    "            combined_var_label_val = var_label_val_prefix + combined_suffix_letters\n",
    "            var_labels_WE[combined_var_label_key] = combined_var_label_val\n",
    "\n",
    "\n",
    "# Add labels for ranks\n",
    "var_labels_copy = var_labels_WE.copy()\n",
    "for var_label_key in var_labels_copy:\n",
    "    if var_label_key.startswith(\"Values-\"):\n",
    "        var_label_key_suffix = var_label_key.split(\"Values-\",maxsplit=1)[-1]\n",
    "        var_labels_WE[f\"Ranks-{var_label_key_suffix}\"] = var_labels_WE[var_label_key] + \" (Rank)\"\n",
    "\n",
    "# Add labels\n",
    "for var_label_key in metrics_WE.columns:\n",
    "    for comparator in [\">\",\"<\"]:\n",
    "        if comparator in var_label_key:\n",
    "            stem, comparison = var_label_key.split(comparator, maxsplit=1)\n",
    "            if stem in var_labels_WE:\n",
    "                var_labels_WE[var_label_key] = \\\n",
    "                    (var_labels_WE[stem] + comparator + comparison).replace(\">=\",\"≥\").replace(\"<=\",\"≤\")\n",
    "            else:\n",
    "                print(var_label_key, stem)\n",
    "                print(var_labels_copy)\n",
    "                raise KeyError"
   ],
   "metadata": {
    "collapsed": false,
    "pycharm": {
     "name": "#%%\n"
    }
   }
  },
  {
   "cell_type": "markdown",
   "source": [
    "## Plotting"
   ],
   "metadata": {
    "collapsed": false,
    "pycharm": {
     "name": "#%% md\n"
    }
   }
  },
  {
   "cell_type": "code",
   "execution_count": 10,
   "outputs": [],
   "source": [
    "from plotly.subplots import make_subplots\n",
    "plotly_template = \"plotly_dark\"  #\"simple_white\""
   ],
   "metadata": {
    "collapsed": false,
    "pycharm": {
     "name": "#%%\n"
    }
   }
  },
  {
   "cell_type": "code",
   "execution_count": 11,
   "outputs": [
    {
     "ename": "ValueError",
     "evalue": "Value of 'x' is not the name of a column in 'data_frame'. Expected one of ['Unnamed: 0', 'Unnamed: 1', 'Labels', 'Unnamed: 3', 'Unnamed: 4', 'Ranks', 'Unnamed: 6', 'Unnamed: 7', 'Unnamed: 8', 'Unnamed: 9', 'Unnamed: 10', 'Unnamed: 11', 'Unnamed: 12', 'Unnamed: 13', 'Unnamed: 14', 'Unnamed: 15', 'Values', 'Unnamed: 17', 'Unnamed: 18', 'Unnamed: 19', 'Unnamed: 20', 'Unnamed: 21', 'Unnamed: 22', 'Unnamed: 23', 'Unnamed: 24', 'Unnamed: 25', 'Unnamed: 26'] but received: Values-Color-Center-H",
     "output_type": "error",
     "traceback": [
      "\u001B[1;31m---------------------------------------------------------------------------\u001B[0m",
      "\u001B[1;31mValueError\u001B[0m                                Traceback (most recent call last)",
      "\u001B[1;32m~\\AppData\\Local\\Temp\\ipykernel_9328\\472530255.py\u001B[0m in \u001B[0;36m<module>\u001B[1;34m\u001B[0m\n\u001B[0;32m      6\u001B[0m                    \u001B[0mfacet_col\u001B[0m\u001B[1;33m=\u001B[0m\u001B[1;34m\"Values-Color-Center-H>=100\"\u001B[0m\u001B[1;33m,\u001B[0m\u001B[1;33m\u001B[0m\u001B[1;33m\u001B[0m\u001B[0m\n\u001B[0;32m      7\u001B[0m                    \u001B[0mcolor\u001B[0m\u001B[1;33m=\u001B[0m\u001B[1;34m\"Labels-Value\"\u001B[0m\u001B[1;33m,\u001B[0m \u001B[0mcolor_discrete_map\u001B[0m\u001B[1;33m=\u001B[0m\u001B[0mcolor_discrete_map\u001B[0m\u001B[1;33m,\u001B[0m\u001B[1;33m\u001B[0m\u001B[1;33m\u001B[0m\u001B[0m\n\u001B[1;32m----> 8\u001B[1;33m                     category_orders=category_orders, labels=var_labels_AE, template=plotly_template),\n\u001B[0m\u001B[0;32m      9\u001B[0m     \u001B[0mrow\u001B[0m\u001B[1;33m=\u001B[0m\u001B[1;36m1\u001B[0m\u001B[1;33m,\u001B[0m \u001B[0mcol\u001B[0m\u001B[1;33m=\u001B[0m\u001B[1;36m1\u001B[0m\u001B[1;33m\u001B[0m\u001B[1;33m\u001B[0m\u001B[0m\n\u001B[0;32m     10\u001B[0m )\n",
      "\u001B[1;32mc:\\users\\ethan\\pycharmprojects\\eyetraumaanalysis\\venv\\lib\\site-packages\\plotly\\express\\_chart_types.py\u001B[0m in \u001B[0;36mhistogram\u001B[1;34m(data_frame, x, y, color, pattern_shape, facet_row, facet_col, facet_col_wrap, facet_row_spacing, facet_col_spacing, hover_name, hover_data, animation_frame, animation_group, category_orders, labels, color_discrete_sequence, color_discrete_map, pattern_shape_sequence, pattern_shape_map, marginal, opacity, orientation, barmode, barnorm, histnorm, log_x, log_y, range_x, range_y, histfunc, cumulative, nbins, text_auto, title, template, width, height)\u001B[0m\n\u001B[0;32m    483\u001B[0m             \u001B[0mcumulative\u001B[0m\u001B[1;33m=\u001B[0m\u001B[0mdict\u001B[0m\u001B[1;33m(\u001B[0m\u001B[0menabled\u001B[0m\u001B[1;33m=\u001B[0m\u001B[0mcumulative\u001B[0m\u001B[1;33m)\u001B[0m\u001B[1;33m,\u001B[0m\u001B[1;33m\u001B[0m\u001B[1;33m\u001B[0m\u001B[0m\n\u001B[0;32m    484\u001B[0m         ),\n\u001B[1;32m--> 485\u001B[1;33m         \u001B[0mlayout_patch\u001B[0m\u001B[1;33m=\u001B[0m\u001B[0mdict\u001B[0m\u001B[1;33m(\u001B[0m\u001B[0mbarmode\u001B[0m\u001B[1;33m=\u001B[0m\u001B[0mbarmode\u001B[0m\u001B[1;33m,\u001B[0m \u001B[0mbarnorm\u001B[0m\u001B[1;33m=\u001B[0m\u001B[0mbarnorm\u001B[0m\u001B[1;33m)\u001B[0m\u001B[1;33m,\u001B[0m\u001B[1;33m\u001B[0m\u001B[1;33m\u001B[0m\u001B[0m\n\u001B[0m\u001B[0;32m    486\u001B[0m     )\n\u001B[0;32m    487\u001B[0m \u001B[1;33m\u001B[0m\u001B[0m\n",
      "\u001B[1;32mc:\\users\\ethan\\pycharmprojects\\eyetraumaanalysis\\venv\\lib\\site-packages\\plotly\\express\\_core.py\u001B[0m in \u001B[0;36mmake_figure\u001B[1;34m(args, constructor, trace_patch, layout_patch)\u001B[0m\n\u001B[0;32m   1946\u001B[0m     \u001B[0mapply_default_cascade\u001B[0m\u001B[1;33m(\u001B[0m\u001B[0margs\u001B[0m\u001B[1;33m)\u001B[0m\u001B[1;33m\u001B[0m\u001B[1;33m\u001B[0m\u001B[0m\n\u001B[0;32m   1947\u001B[0m \u001B[1;33m\u001B[0m\u001B[0m\n\u001B[1;32m-> 1948\u001B[1;33m     \u001B[0margs\u001B[0m \u001B[1;33m=\u001B[0m \u001B[0mbuild_dataframe\u001B[0m\u001B[1;33m(\u001B[0m\u001B[0margs\u001B[0m\u001B[1;33m,\u001B[0m \u001B[0mconstructor\u001B[0m\u001B[1;33m)\u001B[0m\u001B[1;33m\u001B[0m\u001B[1;33m\u001B[0m\u001B[0m\n\u001B[0m\u001B[0;32m   1949\u001B[0m     \u001B[1;32mif\u001B[0m \u001B[0mconstructor\u001B[0m \u001B[1;32min\u001B[0m \u001B[1;33m[\u001B[0m\u001B[0mgo\u001B[0m\u001B[1;33m.\u001B[0m\u001B[0mTreemap\u001B[0m\u001B[1;33m,\u001B[0m \u001B[0mgo\u001B[0m\u001B[1;33m.\u001B[0m\u001B[0mSunburst\u001B[0m\u001B[1;33m,\u001B[0m \u001B[0mgo\u001B[0m\u001B[1;33m.\u001B[0m\u001B[0mIcicle\u001B[0m\u001B[1;33m]\u001B[0m \u001B[1;32mand\u001B[0m \u001B[0margs\u001B[0m\u001B[1;33m[\u001B[0m\u001B[1;34m\"path\"\u001B[0m\u001B[1;33m]\u001B[0m \u001B[1;32mis\u001B[0m \u001B[1;32mnot\u001B[0m \u001B[1;32mNone\u001B[0m\u001B[1;33m:\u001B[0m\u001B[1;33m\u001B[0m\u001B[1;33m\u001B[0m\u001B[0m\n\u001B[0;32m   1950\u001B[0m         \u001B[0margs\u001B[0m \u001B[1;33m=\u001B[0m \u001B[0mprocess_dataframe_hierarchy\u001B[0m\u001B[1;33m(\u001B[0m\u001B[0margs\u001B[0m\u001B[1;33m)\u001B[0m\u001B[1;33m\u001B[0m\u001B[1;33m\u001B[0m\u001B[0m\n",
      "\u001B[1;32mc:\\users\\ethan\\pycharmprojects\\eyetraumaanalysis\\venv\\lib\\site-packages\\plotly\\express\\_core.py\u001B[0m in \u001B[0;36mbuild_dataframe\u001B[1;34m(args, constructor)\u001B[0m\n\u001B[0;32m   1404\u001B[0m \u001B[1;33m\u001B[0m\u001B[0m\n\u001B[0;32m   1405\u001B[0m     df_output, wide_id_vars = process_args_into_dataframe(\n\u001B[1;32m-> 1406\u001B[1;33m         \u001B[0margs\u001B[0m\u001B[1;33m,\u001B[0m \u001B[0mwide_mode\u001B[0m\u001B[1;33m,\u001B[0m \u001B[0mvar_name\u001B[0m\u001B[1;33m,\u001B[0m \u001B[0mvalue_name\u001B[0m\u001B[1;33m\u001B[0m\u001B[1;33m\u001B[0m\u001B[0m\n\u001B[0m\u001B[0;32m   1407\u001B[0m     )\n\u001B[0;32m   1408\u001B[0m \u001B[1;33m\u001B[0m\u001B[0m\n",
      "\u001B[1;32mc:\\users\\ethan\\pycharmprojects\\eyetraumaanalysis\\venv\\lib\\site-packages\\plotly\\express\\_core.py\u001B[0m in \u001B[0;36mprocess_args_into_dataframe\u001B[1;34m(args, wide_mode, var_name, value_name)\u001B[0m\n\u001B[0;32m   1205\u001B[0m                         \u001B[1;32mif\u001B[0m \u001B[0margument\u001B[0m \u001B[1;33m==\u001B[0m \u001B[1;34m\"index\"\u001B[0m\u001B[1;33m:\u001B[0m\u001B[1;33m\u001B[0m\u001B[1;33m\u001B[0m\u001B[0m\n\u001B[0;32m   1206\u001B[0m                             \u001B[0merr_msg\u001B[0m \u001B[1;33m+=\u001B[0m \u001B[1;34m\"\\n To use the index, pass it in directly as `df.index`.\"\u001B[0m\u001B[1;33m\u001B[0m\u001B[1;33m\u001B[0m\u001B[0m\n\u001B[1;32m-> 1207\u001B[1;33m                         \u001B[1;32mraise\u001B[0m \u001B[0mValueError\u001B[0m\u001B[1;33m(\u001B[0m\u001B[0merr_msg\u001B[0m\u001B[1;33m)\u001B[0m\u001B[1;33m\u001B[0m\u001B[1;33m\u001B[0m\u001B[0m\n\u001B[0m\u001B[0;32m   1208\u001B[0m                 \u001B[1;32melif\u001B[0m \u001B[0mlength\u001B[0m \u001B[1;32mand\u001B[0m \u001B[0mlen\u001B[0m\u001B[1;33m(\u001B[0m\u001B[0mdf_input\u001B[0m\u001B[1;33m[\u001B[0m\u001B[0margument\u001B[0m\u001B[1;33m]\u001B[0m\u001B[1;33m)\u001B[0m \u001B[1;33m!=\u001B[0m \u001B[0mlength\u001B[0m\u001B[1;33m:\u001B[0m\u001B[1;33m\u001B[0m\u001B[1;33m\u001B[0m\u001B[0m\n\u001B[0;32m   1209\u001B[0m                     raise ValueError(\n",
      "\u001B[1;31mValueError\u001B[0m: Value of 'x' is not the name of a column in 'data_frame'. Expected one of ['Unnamed: 0', 'Unnamed: 1', 'Labels', 'Unnamed: 3', 'Unnamed: 4', 'Ranks', 'Unnamed: 6', 'Unnamed: 7', 'Unnamed: 8', 'Unnamed: 9', 'Unnamed: 10', 'Unnamed: 11', 'Unnamed: 12', 'Unnamed: 13', 'Unnamed: 14', 'Unnamed: 15', 'Values', 'Unnamed: 17', 'Unnamed: 18', 'Unnamed: 19', 'Unnamed: 20', 'Unnamed: 21', 'Unnamed: 22', 'Unnamed: 23', 'Unnamed: 24', 'Unnamed: 25', 'Unnamed: 26'] but received: Values-Color-Center-H"
     ]
    }
   ],
   "source": [
    "fig = make_subplots(rows=2, cols=2)\n",
    "\n",
    "fig.add_trace(\n",
    "    px.histogram(metrics_AE, x=\"Values-Color-Center-H\", marginal=\"box\", opacity=0.6,\n",
    "                   barmode=\"group\", histnorm=\"percent\",\n",
    "                   facet_col=\"Values-Color-Center-H>=100\",\n",
    "                   color=\"Labels-Value\", color_discrete_map=color_discrete_map,\n",
    "                    category_orders=category_orders, labels=var_labels_AE, template=plotly_template),\n",
    "    row=1, col=1\n",
    ")\n",
    "fig.add_trace(\n",
    "    px.histogram(metrics_BE, x=\"Values-Color-Center-H\", marginal=\"box\", opacity=0.6,\n",
    "                   barmode=\"group\", histnorm=\"percent\",\n",
    "                   facet_col=\"Values-Color-Center-H>=100\",\n",
    "                   color=\"Labels-Value\", color_discrete_map=color_discrete_map,\n",
    "                    category_orders=category_orders, labels=var_labels_BE, template=plotly_template),\n",
    "    row=1, col=2\n",
    ")\n",
    "fig.add_trace(\n",
    "    px.histogram(metrics_LE, x=\"Values-Color-Center-H\", marginal=\"box\", opacity=0.6,\n",
    "                   barmode=\"group\", histnorm=\"percent\",\n",
    "                   facet_col=\"Values-Color-Center-H>=100\",\n",
    "                   color=\"Labels-Value\", color_discrete_map=color_discrete_map,\n",
    "                    category_orders=category_orders, labels=var_labels_LE, template=plotly_template),\n",
    "    row=2, col=1\n",
    ")\n",
    "fig.add_trace(\n",
    "    px.histogram(metrics_WE, x=\"Values-Color-Center-H\", marginal=\"box\", opacity=0.6,\n",
    "                   barmode=\"group\", histnorm=\"percent\",\n",
    "                   facet_col=\"Values-Color-Center-H>=100\",\n",
    "                   color=\"Labels-Value\", color_discrete_map=color_discrete_map,\n",
    "                    category_orders=category_orders, labels=var_labels_WE, template=plotly_template),\n",
    "    row=2, col=2\n",
    ")\n",
    "\n",
    "fig.update_layout(bargap=0.04)\n",
    "fig.update_layout(font=dict(family=\"Arial\",size=16,), margin=dict(l=20, r=20, t=20, b=20))\n",
    "fig.update_xaxes(matches=None)\n",
    "fig.for_each_xaxis(lambda axis: axis.update(showticklabels=True))\n",
    "\n",
    "fig.show()"
   ],
   "metadata": {
    "collapsed": false,
    "pycharm": {
     "name": "#%%\n"
    }
   }
  }
 ],
 "metadata": {
  "kernelspec": {
   "display_name": "Python 3",
   "language": "python",
   "name": "python3"
  },
  "language_info": {
   "codemirror_mode": {
    "name": "ipython",
    "version": 2
   },
   "file_extension": ".py",
   "mimetype": "text/x-python",
   "name": "python",
   "nbconvert_exporter": "python",
   "pygments_lexer": "ipython2",
   "version": "2.7.6"
  }
 },
 "nbformat": 4,
 "nbformat_minor": 0
}