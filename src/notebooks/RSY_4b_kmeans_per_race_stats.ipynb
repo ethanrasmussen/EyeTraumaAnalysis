{
 "cells": [
  {
   "cell_type": "code",
   "execution_count": 1,
   "metadata": {
    "collapsed": true
   },
   "outputs": [],
   "source": [
    "import os\n",
    "import sys\n",
    "import importlib\n",
    "import json\n",
    "import numpy as np\n",
    "import pandas as pd\n",
    "import scipy\n",
    "import scipy.ndimage as snd\n",
    "import skimage\n",
    "import uuid\n",
    "from matplotlib import pyplot as plt\n",
    "import matplotlib as mpl\n",
    "import cv2\n",
    "import plotly\n",
    "import plotly.express as px\n",
    "import plotly.graph_objects as go\n",
    "\n",
    "\n",
    "if os.getcwd().split(\"/\")[-1] == \"notebooks\":  # if cwd is located where this file is\n",
    "    os.chdir(\"../..\")  # go two folders upward (the if statement prevents error if cell is rerun)\n",
    "directory_path = os.path.abspath(os.path.join(\"src\"))\n",
    "if directory_path not in sys.path:\n",
    "    sys.path.append(directory_path)\n",
    "\n",
    "import src.EyeTraumaAnalysis"
   ]
  },
  {
   "cell_type": "code",
   "execution_count": 2,
   "outputs": [],
   "source": [
    "importlib.reload(src.EyeTraumaAnalysis);"
   ],
   "metadata": {
    "collapsed": false,
    "pycharm": {
     "name": "#%%\n"
    }
   }
  },
  {
   "cell_type": "markdown",
   "source": [
    "## Load racially stratified metrics"
   ],
   "metadata": {
    "collapsed": false,
    "pycharm": {
     "name": "#%% md\n"
    }
   }
  },
  {
   "cell_type": "code",
   "execution_count": 3,
   "outputs": [
    {
     "name": "stdout",
     "output_type": "stream",
     "text": [
      "Requirement already satisfied: pickle5 in c:\\users\\ethan\\pycharmprojects\\eyetraumaanalysis\\venv\\lib\\site-packages (0.0.12)\n"
     ]
    }
   ],
   "source": [
    "!pip3 install pickle5\n",
    "import pickle5 as pickle"
   ],
   "metadata": {
    "collapsed": false,
    "pycharm": {
     "name": "#%%\n"
    }
   }
  },
  {
   "cell_type": "code",
   "execution_count": 4,
   "outputs": [],
   "source": [
    "with open(\"../../data/03_first_25percent_metrics/metrics_AE\" + \".xlsx\", \"rb\") as fh:\n",
    "  data = pd.read_excel(fh)\n",
    "  data.to_pickle(\"../../data/03_first_25percent_metrics/metrics_AE\" + \"_p4\" + \".pkl\")\n",
    "\n",
    "with open(\"../../data/03_first_25percent_metrics/metrics_BE\" + \".xlsx\", \"rb\") as fh:\n",
    "  data = pd.read_excel(fh)\n",
    "  data.to_pickle(\"../../data/03_first_25percent_metrics/metrics_BE\" + \"_p4\" + \".pkl\")\n",
    "\n",
    "with open(\"../../data/03_first_25percent_metrics/metrics_LE\" + \".xlsx\", \"rb\") as fh:\n",
    "  data = pd.read_excel(fh)\n",
    "  data.to_pickle(\"../../data/03_first_25percent_metrics/metrics_LE\" + \"_p4\" + \".pkl\")\n",
    "\n",
    "with open(\"../../data/03_first_25percent_metrics/metrics_WE\" + \".xlsx\", \"rb\") as fh:\n",
    "  data = pd.read_excel(fh)\n",
    "  data.to_pickle(\"../../data/03_first_25percent_metrics/metrics_WE\" + \"_p4\" + \".pkl\")"
   ],
   "metadata": {
    "collapsed": false,
    "pycharm": {
     "name": "#%%\n"
    }
   }
  },
  {
   "cell_type": "code",
   "execution_count": 5,
   "outputs": [],
   "source": [
    "metrics_AE = pd.read_pickle(\"../../data/03_first_25percent_metrics/metrics_AE\" + \"_p4\" + \".pkl\")\n",
    "metrics_BE = pd.read_pickle(\"../../data/03_first_25percent_metrics/metrics_BE\" + \"_p4\" + \".pkl\")\n",
    "metrics_LE = pd.read_pickle(\"../../data/03_first_25percent_metrics/metrics_LE\" + \"_p4\" + \".pkl\")\n",
    "metrics_WE = pd.read_pickle(\"../../data/03_first_25percent_metrics/metrics_WE\" + \"_p4\" + \".pkl\")"
   ],
   "metadata": {
    "collapsed": false,
    "pycharm": {
     "name": "#%%\n"
    }
   }
  },
  {
   "cell_type": "code",
   "execution_count": 6,
   "outputs": [],
   "source": [
    "def save_plotly_figure(fig: plotly.graph_objs.Figure, title: str, directory=\"outputs/kmeans-descriptive-subsets/\"):\n",
    "    fig.write_image(os.path.join(directory, title + \".png\"))\n",
    "    fig.write_html( os.path.join(directory, title + \".html\"),\n",
    "                    full_html=True, include_plotlyjs=\"directory\" )"
   ],
   "metadata": {
    "collapsed": false,
    "pycharm": {
     "name": "#%%\n"
    }
   }
  },
  {
   "cell_type": "code",
   "execution_count": 7,
   "outputs": [],
   "source": [
    "color_discrete_map = {\n",
    "    \"True\":           px.colors.qualitative.Plotly[2], # green\n",
    "    \"Maybe\":          px.colors.qualitative.Plotly[0], # blue\n",
    "    \"False\":          px.colors.qualitative.Plotly[1], # red\n",
    "}\n",
    "pattern_shape_map = {}\n",
    "category_orders = {\n",
    "    \"Labels-Value\": [\"False\", \"Maybe\", \"True\"],\n",
    "    \"facet_col\": [False, True],\n",
    "    \"facet_row\": [False, True],\n",
    "}\n",
    "\n",
    "# This is only the start. It will be added to programmatically later\n",
    "var_labels = {\n",
    "    \"Labels-Value\": \"Conjunctiva cluster\",\n",
    "    \"Values-Color-Center-H\": \"Center H\",\n",
    "    \"Values-Color-Center-S\": \"Center S\",\n",
    "    \"Values-Color-Center-V\": \"Center V\",\n",
    "    \"Values-Color-Range-H\": \"Range H\",\n",
    "    \"Values-Color-Range-S\": \"Range S\",\n",
    "    \"Values-Color-Range-V\": \"Range V\",\n",
    "    \"Values-Location-Mean-x\": \"Mean x\",\n",
    "    \"Values-Location-Mean-y\": \"Mean y\",\n",
    "    \"Values-Location-SD-x\": \"SD x\",\n",
    "    \"Values-Location-SD-y\": \"SD y\",\n",
    "}\n",
    "\n",
    "var_labels_copy = var_labels.copy()\n",
    "suffixes = [\"-H\",\"-x\"]\n",
    "for var_label_key in var_labels_copy:\n",
    "    for suffix in suffixes:\n",
    "        if var_label_key.endswith(suffix):\n",
    "            sep = suffix[:1]  # should be \"-\"\n",
    "            suffix_letter = suffix[1:]  # should be \"-H\" or \"-x\"\n",
    "            # Get name up to suffix letter e.g. \"Values-Color-Center-\"\n",
    "            var_label_key_prefix = var_label_key[0:-len(suffix_letter)]\n",
    "            # Get all possible suffixes for the prefix i.e. \"H\", \"S\", \"V\"\n",
    "            suffix_letter_options = [var_label_key[len(var_label_key_prefix):] for var_label_key in var_labels_copy\n",
    "                                          if var_label_key.startswith(var_label_key_prefix)]\n",
    "            combined_suffix_letters = \"\".join(suffix_letter_options)\n",
    "            # Get combined value\n",
    "            var_label_val_prefix = var_labels[var_label_key_prefix + suffix_letter][:-len(suffix_letter)]\n",
    "            combined_var_label_key = var_label_key_prefix + combined_suffix_letters\n",
    "            combined_var_label_val = var_label_val_prefix + combined_suffix_letters\n",
    "            var_labels[combined_var_label_key] = combined_var_label_val\n",
    "\n",
    "\n",
    "# Add labels for ranks\n",
    "var_labels_copy = var_labels.copy()\n",
    "for var_label_key in var_labels_copy:\n",
    "    if var_label_key.startswith(\"Values-\"):\n",
    "        var_label_key_suffix = var_label_key.split(\"Values-\",maxsplit=1)[-1]\n",
    "        var_labels[f\"Ranks-{var_label_key_suffix}\"] = var_labels[var_label_key] + \" (Rank)\"\n",
    "\n",
    "# Add labels\n",
    "for var_label_key in metrics_AE.columns:\n",
    "    for comparator in [\">\",\"<\"]:\n",
    "        if comparator in var_label_key:\n",
    "            stem, comparison = var_label_key.split(comparator, maxsplit=1)\n",
    "            if stem in var_labels:\n",
    "                var_labels[var_label_key] = \\\n",
    "                    (var_labels[stem] + comparator + comparison).replace(\">=\",\"≥\").replace(\"<=\",\"≤\")\n",
    "            else:\n",
    "                print(var_label_key, stem)\n",
    "                print(var_labels_copy)\n",
    "                raise KeyError\n",
    "# Add labels\n",
    "for var_label_key in metrics_BE.columns:\n",
    "    for comparator in [\">\",\"<\"]:\n",
    "        if comparator in var_label_key:\n",
    "            stem, comparison = var_label_key.split(comparator, maxsplit=1)\n",
    "            if stem in var_labels:\n",
    "                var_labels[var_label_key] = \\\n",
    "                    (var_labels[stem] + comparator + comparison).replace(\">=\",\"≥\").replace(\"<=\",\"≤\")\n",
    "            else:\n",
    "                print(var_label_key, stem)\n",
    "                print(var_labels_copy)\n",
    "                raise KeyError\n",
    "# Add labels\n",
    "for var_label_key in metrics_LE.columns:\n",
    "    for comparator in [\">\",\"<\"]:\n",
    "        if comparator in var_label_key:\n",
    "            stem, comparison = var_label_key.split(comparator, maxsplit=1)\n",
    "            if stem in var_labels:\n",
    "                var_labels[var_label_key] = \\\n",
    "                    (var_labels[stem] + comparator + comparison).replace(\">=\",\"≥\").replace(\"<=\",\"≤\")\n",
    "            else:\n",
    "                print(var_label_key, stem)\n",
    "                print(var_labels_copy)\n",
    "                raise KeyError\n",
    "# Add labels\n",
    "for var_label_key in metrics_WE.columns:\n",
    "    for comparator in [\">\",\"<\"]:\n",
    "        if comparator in var_label_key:\n",
    "            stem, comparison = var_label_key.split(comparator, maxsplit=1)\n",
    "            if stem in var_labels:\n",
    "                var_labels[var_label_key] = \\\n",
    "                    (var_labels[stem] + comparator + comparison).replace(\">=\",\"≥\").replace(\"<=\",\"≤\")\n",
    "            else:\n",
    "                print(var_label_key, stem)\n",
    "                print(var_labels_copy)\n",
    "                raise KeyError\n",
    "\n",
    "#point_hover_data = [\"Values-Color-Center-HSV\",\"Ranks-Color-Center-HSV\",\n",
    "#                    \"Values-Location-Mean-xy\",\"Ranks-Location-Mean-xy\",\n",
    "#                    \"Values-Location-SD-xy\",\"Ranks-Location-SD-xy\"]\n",
    "point_hover_data = {\n",
    "    \"Values-Color-Center-H\": False,\n",
    "    \"Values-Color-Center-S\": False,\n",
    "    \"Values-Color-Center-V\": False,\n",
    "    \"Ranks-Color-Center-H\": False,\n",
    "    \"Ranks-Color-Center-S\": False,\n",
    "    \"Ranks-Color-Center-V\": False,\n",
    "    \"Values-Color-Center-HSV\":True,\n",
    "    \"Ranks-Color-Center-HSV\":True,\n",
    "    \"Values-Location-Mean-xy\":True,\n",
    "    \"Ranks-Location-Mean-xy\":True,\n",
    "    \"Values-Location-SD-xy\":True,\n",
    "    \"Ranks-Location-SD-xy\":True,\n",
    "}\n",
    "roc_hover_data = {\n",
    "    \"sensitivity\":\":0.2%\",\n",
    "    \"1-specificity\":\":0.2%\",\n",
    "    \"threshold\":True\n",
    "}\n",
    "\n",
    "plotly_template = \"plotly_dark\"  #\"simple_white\""
   ],
   "metadata": {
    "collapsed": false,
    "pycharm": {
     "name": "#%%\n"
    }
   }
  },
  {
   "cell_type": "markdown",
   "source": [
    "## Plotting"
   ],
   "metadata": {
    "collapsed": false,
    "pycharm": {
     "name": "#%% md\n"
    }
   }
  },
  {
   "cell_type": "code",
   "execution_count": null,
   "outputs": [],
   "source": [],
   "metadata": {
    "collapsed": false,
    "pycharm": {
     "name": "#%%\n"
    }
   }
  }
 ],
 "metadata": {
  "kernelspec": {
   "display_name": "Python 3",
   "language": "python",
   "name": "python3"
  },
  "language_info": {
   "codemirror_mode": {
    "name": "ipython",
    "version": 2
   },
   "file_extension": ".py",
   "mimetype": "text/x-python",
   "name": "python",
   "nbconvert_exporter": "python",
   "pygments_lexer": "ipython2",
   "version": "2.7.6"
  }
 },
 "nbformat": 4,
 "nbformat_minor": 0
}