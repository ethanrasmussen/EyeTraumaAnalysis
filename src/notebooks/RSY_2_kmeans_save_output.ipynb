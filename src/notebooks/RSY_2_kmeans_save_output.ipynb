{
 "cells": [
  {
   "cell_type": "code",
   "execution_count": null,
   "metadata": {},
   "outputs": [],
   "source": [
    "import os\n",
    "import sys\n",
    "import importlib\n",
    "\n",
    "# !py -m pip install scipy\n",
    "# !py -m pip install matplotlib\n",
    "# !py -m pip install opencv-python\n",
    "# !py -m pip install plotly\n",
    "# !py -m pip install pandas\n",
    "# !py -m pip install numpy\n",
    "\n",
    "import scipy.ndimage as snd\n",
    "\n",
    "os.chdir(\"../..\")\n",
    "directory_path = os.path.abspath(os.path.join(\"src\"))\n",
    "if directory_path not in sys.path:\n",
    "    sys.path.append(directory_path)\n",
    "\n",
    "import EyeTraumaAnalysis"
   ]
  },
  {
   "cell_type": "code",
   "execution_count": null,
   "metadata": {},
   "outputs": [],
   "source": [
    "print(directory_path)"
   ]
  },
  {
   "cell_type": "code",
   "execution_count": null,
   "metadata": {},
   "outputs": [],
   "source": [
    "importlib.reload(EyeTraumaAnalysis);"
   ]
  },
  {
   "cell_type": "code",
   "execution_count": null,
   "metadata": {},
   "outputs": [],
   "source": [
    "import numpy as np\n",
    "import pandas as pd\n",
    "from matplotlib import pyplot as plt\n",
    "import matplotlib as mpl\n",
    "import cv2"
   ]
  },
  {
   "cell_type": "code",
   "execution_count": null,
   "metadata": {},
   "outputs": [],
   "source": [
    "# images = [\"10030.jpg\", \"10031.jpg\", \"10032.jpg\", \"10033.jpg\", \"10034.jpg\", \"10035.jpg\", \"10036.jpg\", \"10037.jpg\", \"10038.jpg\", \"10039.jpg\", \"10040.jpg\", \"10041.jpg\", \"10042.jpg\"]"
   ]
  },
  {
   "cell_type": "code",
   "execution_count": null,
   "metadata": {},
   "outputs": [],
   "source": [
    "# images = os.listdir('./data/01_raw/Ergonautus/Full Dataset/')\n",
    "images = os.listdir('C:/Users/ethan/PycharmProjects/EyeTraumaAnalysis/data/01_raw/Ergonautus/Full Dataset/')"
   ]
  },
  {
   "cell_type": "code",
   "execution_count": null,
   "outputs": [],
   "source": [
    "images[0]"
   ],
   "metadata": {
    "collapsed": false
   }
  },
  {
   "cell_type": "code",
   "execution_count": null,
   "metadata": {},
   "outputs": [],
   "source": [
    "def get_spatial_metrics(mask):\n",
    "    # scipy can perform the mean (center of mass), but not the standard deviation\n",
    "    # spatial_means = snd.center_of_mass(mask)\n",
    "    x = np.linspace(0, 1, mask.shape[1])\n",
    "    y = np.linspace(0, 1, mask.shape[0])\n",
    "    xgrid, ygrid = np.meshgrid(x, y)\n",
    "    grids = {\"x\": xgrid, \"y\":ygrid}\n",
    "    to_return = {\"x\":{}, \"y\":{}}\n",
    "    for ind, grid in grids.items():\n",
    "        to_return[ind][\"mean\"] = np.mean(grids[ind], where=mask.astype(bool))\n",
    "        to_return[ind][\"sd\"] = np.std(grids[ind], where=mask.astype(bool))\n",
    "    return to_return\n"
   ]
  },
  {
   "cell_type": "code",
   "execution_count": null,
   "metadata": {},
   "outputs": [],
   "source": [
    "### Create K means clusters and masks\n",
    "image = EyeTraumaAnalysis.Image(\"C:/Users/ethan/PycharmProjects/EyeTraumaAnalysis/data/01_raw/11000.jpg\")\n",
    "img_bgr = image.img\n",
    "img_hsv = cv2.cvtColor(img_bgr, cv2.COLOR_BGR2HSV)\n",
    "Z_hsv = img_hsv.reshape((-1,3))\n",
    "# convert to np.float32\n",
    "Z_hsv = np.float32(Z_hsv)\n",
    "# define criteria, number of clusters(K) and apply kmeans()\n",
    "criteria = (cv2.TERM_CRITERIA_EPS + cv2.TERM_CRITERIA_MAX_ITER, 10, 1.0)\n",
    "K = 10\n",
    "ret,label,centers=cv2.kmeans(Z_hsv,K,None,criteria,10,cv2.KMEANS_RANDOM_CENTERS)\n",
    "# Now convert back into uint8, and make original image\n",
    "centers = np.uint8(centers)\n",
    "res_hsv = centers[label.flatten()]\n",
    "res_hsv2 = res_hsv.reshape(img_hsv.shape)\n",
    "res_bgr = cv2.cvtColor(res_hsv2, cv2.COLOR_HSV2BGR)\n",
    "# res2 = cv2.cvtColor(res2, cv2.COLOR_RGB2GRAY)\n",
    "\n",
    "\n",
    "# sort centers by HSV \"value\" - aka sort by grayscale\n",
    "centers_sorted = centers[centers[:, 2].argsort()]\n",
    "\n",
    "kmeans_thresholds = []\n",
    "for ind in range(K):\n",
    "    kmeans_thresholds.append(cv2.inRange(res_hsv2,centers_sorted[ind],centers_sorted[ind]))\n",
    "\n",
    "summed_image = np.zeros(kmeans_thresholds[0].shape)\n",
    "for ind in range(K):\n",
    "    # summed_image += int(ind/K*255) * kmeans_thresholds[ind]\n",
    "    summed_image += int(ind * 25) * kmeans_thresholds[ind]\n",
    "centers_indices = centers_sorted.argsort(axis=0)   # sorts each column separately"
   ]
  },
  {
   "cell_type": "code",
   "execution_count": null,
   "outputs": [],
   "source": [
    "summed_image"
   ],
   "metadata": {
    "collapsed": false
   }
  },
  {
   "cell_type": "code",
   "execution_count": null,
   "outputs": [],
   "source": [
    "plt.imsave(\"test.png\", summed_image)"
   ],
   "metadata": {
    "collapsed": false
   }
  },
  {
   "cell_type": "code",
   "execution_count": null,
   "metadata": {},
   "outputs": [],
   "source": [
    "### Clustered View ### <-- for individual image use\n",
    "fig, axs = plt.subplots(2, 2, figsize=(12,6))\n",
    "im0=axs.flat[0].imshow(img_bgr)\n",
    "im1=axs.flat[1].imshow(res_bgr)\n",
    "im2=axs.flat[2].imshow(summed_image, cmap=\"gray\")\n",
    "im3=axs.flat[3].imshow(summed_image, cmap=\"terrain\")\n",
    "plt.colorbar(im3,ax=axs.flat[3], shrink=0.8)"
   ]
  },
  {
   "cell_type": "code",
   "execution_count": null,
   "metadata": {},
   "outputs": [],
   "source": [
    "get_spatial_metrics(kmeans_thresholds[0])"
   ]
  },
  {
   "cell_type": "code",
   "execution_count": null,
   "metadata": {},
   "outputs": [],
   "source": []
  },
  {
   "cell_type": "code",
   "execution_count": null,
   "metadata": {},
   "outputs": [],
   "source": [
    "### Per Cluster Masking ### <-- for individual image use\n",
    "\n",
    "def draw_cluster_masking(img):\n",
    "    row_ct = int(np.sqrt(K))\n",
    "    col_ct = int(np.ceil(K/row_ct))\n",
    "    fig, axs = plt.subplots(row_ct, col_ct, figsize=(12,6), sharex=True, sharey=True)\n",
    "    for ind in range(row_ct*col_ct):\n",
    "        if ind < K:\n",
    "            #target1 = cv2.bitwise_and(image.img,image.img, mask=~kmeans_thresholds[ind])\n",
    "            target1 = img.copy()\n",
    "            target1[kmeans_thresholds[ind].astype(bool)] = [127,255,127,255]\n",
    "            axs.flat[ind].imshow(target1)\n",
    "            spatial_metrics = get_spatial_metrics(kmeans_thresholds[ind])\n",
    "            hsv_rank = centers_indices[ind]\n",
    "            hsv_center = centers_sorted[ind]\n",
    "            # Draw left title\n",
    "            axs.flat[ind].set_title(\n",
    "                \"HSV \\n\"+\n",
    "                f\"#{hsv_rank[0]+1}, #{hsv_rank[1]+1}, #{hsv_rank[2]+1}\" + \"\\n\" +\n",
    "                f\"({hsv_center[0]}, {hsv_center[1]}, {hsv_center[2]})\",\n",
    "                fontsize=8, loc=\"left\"\n",
    "            )\n",
    "            # Draw right title\n",
    "            axs.flat[ind].set_title(\n",
    "                f\"Location:\" + \"\\n\"+\n",
    "                f\"({spatial_metrics['x']['mean']*100:.1f}, {spatial_metrics['y']['mean']:.1%})\" + \"\\n\" +\n",
    "                f\"({spatial_metrics['x']['sd']*100:.1f}, {spatial_metrics['y']['sd']:.1%})\",\n",
    "                fontsize=8, loc=\"right\", fontfamily=\"monospace\",\n",
    "            )\n",
    "            # axs.flat[ind].set_title(\n",
    "            #     f\"HSV center: [{centers_sorted[ind,0]},{centers_sorted[ind,1]},{centers_sorted[ind,2]}]\" )\n",
    "            #axs.flat[ind].imshow(kmeans_thresholds[ind], cmap=\"gray\")\n",
    "        else:\n",
    "            # remove axes for empty cells\n",
    "            axs.flat[ind].axis(\"off\")"
   ]
  },
  {
   "cell_type": "code",
   "execution_count": null,
   "outputs": [],
   "source": [
    "def draw_separate_clusters(img, filename=None, labelled=True, K_val=10):\n",
    "    img_bgr = image.img\n",
    "    img_hsv = cv2.cvtColor(img_bgr, cv2.COLOR_BGR2HSV)\n",
    "    Z_hsv = img_hsv.reshape((-1,3))\n",
    "    # convert to np.float32\n",
    "    Z_hsv = np.float32(Z_hsv)\n",
    "    # calculate K-means segmentation\n",
    "    criteria = (cv2.TERM_CRITERIA_EPS + cv2.TERM_CRITERIA_MAX_ITER, 10, 1.0)\n",
    "    ret,label,centers=cv2.kmeans(Z_hsv,K_val,None,criteria,10,cv2.KMEANS_RANDOM_CENTERS)\n",
    "    # Now convert back into uint8, and make original image\n",
    "    centers = np.uint8(centers)\n",
    "    res_hsv = centers[label.flatten()]\n",
    "    res_hsv2 = res_hsv.reshape(img_hsv.shape)\n",
    "    res_bgr = cv2.cvtColor(res_hsv2, cv2.COLOR_HSV2BGR)\n",
    "    centers_sorted = centers[centers[:, 2].argsort()]\n",
    "    kmeans_thresholds = []\n",
    "    for ind in range(K_val):\n",
    "        kmeans_thresholds.append(cv2.inRange(res_hsv2,centers_sorted[ind],centers_sorted[ind]))\n",
    "    centers_indices = centers_sorted.argsort(axis=0)\n",
    "    for i in range(K_val):\n",
    "        # propogate variables\n",
    "        target = img.copy()\n",
    "        # target[kmeans_thresholds[i].astype(bool)] = [127,255,127,255]\n",
    "        target[np.where(kmeans_thresholds[i])] = [127,255,127,255]\n",
    "        spatial_metrics = get_spatial_metrics(kmeans_thresholds[i])\n",
    "        hsv_rank, hsv_center = centers_indices[i], centers_sorted[i]\n",
    "        # generate plot\n",
    "        if labelled:\n",
    "            plt.title(\n",
    "                    \"HSV \\n\"+\n",
    "                    f\"#{hsv_rank[0]+1}, #{hsv_rank[1]+1}, #{hsv_rank[2]+1}\" + \"\\n\" +\n",
    "                    f\"({hsv_center[0]}, {hsv_center[1]}, {hsv_center[2]})\",\n",
    "                    fontsize=8, loc=\"left\"\n",
    "                )\n",
    "            plt.title(\n",
    "                    f\"Location:\" + \"\\n\"+\n",
    "                    f\"({spatial_metrics['x']['mean']*100:.1f}, {spatial_metrics['y']['mean']:.1%})\" + \"\\n\" +\n",
    "                    f\"({spatial_metrics['x']['sd']*100:.1f}, {spatial_metrics['y']['sd']:.1%})\",\n",
    "                    fontsize=8, loc=\"right\", fontfamily=\"monospace\",\n",
    "                )\n",
    "        plt.imshow(target)\n",
    "        # save plot as PNG\n",
    "        if filename is not None:\n",
    "            if labelled:\n",
    "                fpath = \"C:/Users/ethan/PycharmProjects/EyeTraumaAnalysis/data/kmeans_indiv_clusters/labelled/\"\n",
    "            else:\n",
    "                fpath = \"C:/Users/ethan/PycharmProjects/EyeTraumaAnalysis/data/kmeans_indiv_clusters/non-labelled/\"\n",
    "            plt.savefig(f\"{fpath}{filename}_v{i}.png\", format=\"png\")\n",
    "        # plt.clf()"
   ],
   "metadata": {
    "collapsed": false
   }
  },
  {
   "cell_type": "code",
   "execution_count": null,
   "outputs": [],
   "source": [
    "def reverse_clustered_image(image_path, K=10):\n",
    "    # Load the image\n",
    "    summed_image = plt.imread(image_path)\n",
    "\n",
    "    # Split the image into its component masks\n",
    "    masks = []\n",
    "    for ind in range(K):\n",
    "        mask = np.zeros(summed_image.shape[:2], dtype=np.uint8)\n",
    "        mask[summed_image[:,:,0] == ind*25] = 255\n",
    "        masks.append(mask)\n",
    "\n",
    "    return masks"
   ],
   "metadata": {
    "collapsed": false
   }
  },
  {
   "cell_type": "code",
   "execution_count": null,
   "outputs": [],
   "source": [
    "np.unique(reverse_clustered_image(\"C:/Users/ethan/PycharmProjects/EyeTraumaAnalysis/data/all_clusters_indicated/000.png\")[0])"
   ],
   "metadata": {
    "collapsed": false
   }
  },
  {
   "cell_type": "code",
   "execution_count": null,
   "outputs": [],
   "source": [
    "image = EyeTraumaAnalysis.Image(f\"data/01_raw/Ergonautus/Full Dataset/000.png\")\n",
    "K = 10\n",
    "## Clustered View\n",
    "img_bgr = image.img\n",
    "img_hsv = cv2.cvtColor(img_bgr, cv2.COLOR_BGR2HSV)\n",
    "Z_hsv = img_hsv.reshape((-1,3))\n",
    "Z_hsv = np.float32(Z_hsv)\n",
    "criteria = (cv2.TERM_CRITERIA_EPS + cv2.TERM_CRITERIA_MAX_ITER, 10, 1.0)\n",
    "ret,label,centers=cv2.kmeans(Z_hsv,K,None,criteria,10,cv2.KMEANS_RANDOM_CENTERS)\n",
    "centers = np.uint8(centers)\n",
    "res_hsv = centers[label.flatten()]\n",
    "res_hsv2 = res_hsv.reshape(img_hsv.shape)\n",
    "res_bgr = cv2.cvtColor(res_hsv2, cv2.COLOR_HSV2BGR)\n",
    "centers_sorted = centers[centers[:, 2].argsort()]\n",
    "kmeans_thresholds = []\n",
    "for ind in range(K):\n",
    "    kmeans_thresholds.append(cv2.inRange(res_hsv2,centers_sorted[ind],centers_sorted[ind]))\n",
    "# center indices\n",
    "centers_indices = centers_sorted.argsort(axis=0)\n",
    "##\n",
    "summed_image = np.zeros(kmeans_thresholds[0].shape)\n",
    "for ind in range(K):\n",
    "    summed_image += int(ind * 25) * kmeans_thresholds[ind]"
   ],
   "metadata": {
    "collapsed": false
   }
  },
  {
   "cell_type": "code",
   "execution_count": null,
   "outputs": [],
   "source": [
    "summed_image"
   ],
   "metadata": {
    "collapsed": false
   }
  },
  {
   "cell_type": "code",
   "execution_count": null,
   "metadata": {},
   "outputs": [],
   "source": [
    "draw_cluster_masking(image.img)"
   ]
  },
  {
   "cell_type": "code",
   "execution_count": null,
   "metadata": {},
   "outputs": [],
   "source": [
    "image = EyeTraumaAnalysis.Image(\"C:/Users/ethan/PycharmProjects/EyeTraumaAnalysis/data/01_raw/11000.jpg\")\n",
    "draw_separate_clusters(image.img, filename=None)"
   ]
  },
  {
   "cell_type": "code",
   "execution_count": null,
   "outputs": [],
   "source": [
    "draw_separate_clusters(image.img, filename=None, labelled=False)"
   ],
   "metadata": {
    "collapsed": false
   }
  },
  {
   "cell_type": "code",
   "execution_count": null,
   "outputs": [],
   "source": [
    "draw_separate_clusters(EyeTraumaAnalysis.Image(\"C:/Users/ethan/PycharmProjects/EyeTraumaAnalysis/data/01_raw/Ergonautus/Full Dataset/000.PNG\").img,\n",
    "                       filename=\"000\",\n",
    "                       labelled=True)"
   ],
   "metadata": {
    "collapsed": false
   }
  },
  {
   "cell_type": "code",
   "execution_count": null,
   "outputs": [],
   "source": [
    "# create all the labelled data\n",
    "for sample in images:\n",
    "    filepath = f\"C:/Users/ethan/PycharmProjects/EyeTraumaAnalysis/data/01_raw/Ergonautus/Full Dataset/{sample}\"\n",
    "    name = sample.split(\".\")[0]\n",
    "    image_obj = EyeTraumaAnalysis.Image(filepath)\n",
    "    draw_separate_clusters(image_obj.img, filename=name, labelled=True, K_val=10)"
   ],
   "metadata": {
    "collapsed": false
   }
  },
  {
   "cell_type": "code",
   "execution_count": null,
   "metadata": {},
   "outputs": [],
   "source": [
    "target1[kmeans_thresholds[ind].astype(bool)]"
   ]
  },
  {
   "cell_type": "code",
   "execution_count": null,
   "metadata": {},
   "outputs": [],
   "source": [
    "image.img.shape"
   ]
  },
  {
   "cell_type": "code",
   "execution_count": null,
   "metadata": {},
   "outputs": [],
   "source": [
    "kmeans_thresholds[0].dtype"
   ]
  },
  {
   "cell_type": "code",
   "execution_count": null,
   "metadata": {},
   "outputs": [],
   "source": [
    "xgrid"
   ]
  },
  {
   "cell_type": "code",
   "execution_count": null,
   "metadata": {},
   "outputs": [],
   "source": [
    "type(xgrid)"
   ]
  },
  {
   "cell_type": "code",
   "execution_count": null,
   "outputs": [],
   "source": [
    "type(image.img.copy())"
   ],
   "metadata": {
    "collapsed": false
   }
  },
  {
   "cell_type": "code",
   "execution_count": null,
   "metadata": {},
   "outputs": [],
   "source": [
    "### Running Code on Several Images ###\n",
    "from PIL import Image as PILimg\n",
    "\n",
    "K = 10\n",
    "# save_directory = \"C:\\\\Users\\\\ethan\\\\PycharmProjects\\\\EyeTraumaAnalysis\\\\data\\\\kmeans_clustering_applied\" # data/kmeans_clustering_applied; hard coded for PC\n",
    "# NOTE: While this isn't a preferable implementation, the previous code, which was flexible per system, ran into PermissionError [Errno 13]\n",
    "\n",
    "for image_sample in images:\n",
    "    # image = EyeTraumaAnalysis.Image(f\"data/01_raw/{image_sample}\")\n",
    "    image = EyeTraumaAnalysis.Image(f\"data/01_raw/Ergonautus/Full Dataset/{image_sample}\")\n",
    "\n",
    "    ## Clustered View\n",
    "    img_bgr = image.img\n",
    "    img_hsv = cv2.cvtColor(img_bgr, cv2.COLOR_BGR2HSV)\n",
    "    Z_hsv = img_hsv.reshape((-1,3))\n",
    "    Z_hsv = np.float32(Z_hsv)\n",
    "    criteria = (cv2.TERM_CRITERIA_EPS + cv2.TERM_CRITERIA_MAX_ITER, 10, 1.0)\n",
    "    ret,label,centers=cv2.kmeans(Z_hsv,K,None,criteria,10,cv2.KMEANS_RANDOM_CENTERS)\n",
    "    centers = np.uint8(centers)\n",
    "    res_hsv = centers[label.flatten()]\n",
    "    res_hsv2 = res_hsv.reshape(img_hsv.shape)\n",
    "    res_bgr = cv2.cvtColor(res_hsv2, cv2.COLOR_HSV2BGR)\n",
    "    centers_sorted = centers[centers[:, 2].argsort()]\n",
    "    kmeans_thresholds = []\n",
    "    for ind in range(K):\n",
    "        kmeans_thresholds.append(cv2.inRange(res_hsv2,centers_sorted[ind],centers_sorted[ind]))\n",
    "    # center indices\n",
    "    centers_indices = centers_sorted.argsort(axis=0)\n",
    "    ##\n",
    "    summed_image = np.zeros(kmeans_thresholds[0].shape)\n",
    "    for ind in range(K):\n",
    "        summed_image += int(ind * 25) * kmeans_thresholds[ind] / 255\n",
    "    plt.imsave(f\"C:/Users/ethan/PycharmProjects/EyeTraumaAnalysis/data/all_clusters_indicated/{image_sample.split('.PNG')[0]}.png\", summed_image)\n",
    "    fig, axs = plt.subplots(2, 2, figsize=(12,6))\n",
    "    im0=axs.flat[0].imshow(img_bgr)\n",
    "    im1=axs.flat[1].imshow(res_bgr)\n",
    "    im2=axs.flat[2].imshow(summed_image, cmap=\"gray\")\n",
    "    im3=axs.flat[3].imshow(summed_image, cmap=\"terrain\")\n",
    "    plt.colorbar(im3,ax=axs.flat[3], shrink=0.8)\n",
    "    save_directory = f\"{directory_path}\".replace(\"src\", \"data\")\n",
    "    # plt.savefig(f\"{save_directory}\\\\kmeans_clustering_applied\\\\ergonautus-10k\\\\clustered_view\\\\{image_sample.split('.PNG')[0]}.png\",\n",
    "    #             format='png')\n",
    "\n",
    "    ## Per Cluster Masking\n",
    "    row_ct = int(np.sqrt(K))\n",
    "    col_ct = int(np.ceil(K/row_ct))\n",
    "    fig, axs = plt.subplots(row_ct, col_ct, figsize=(12,6), sharex=True, sharey=True)\n",
    "    for ind in range(row_ct*col_ct):\n",
    "        if ind < K:\n",
    "            #target1 = cv2.bitwise_and(image.img,image.img, mask=~kmeans_thresholds[ind])\n",
    "            target1 = image.img.copy()\n",
    "            target1[kmeans_thresholds[ind].astype(bool)] = [127,255,127,255]\n",
    "            axs.flat[ind].imshow(target1)\n",
    "            spatial_metrics = get_spatial_metrics(kmeans_thresholds[ind])\n",
    "            hsv_rank = centers_indices[ind]\n",
    "            hsv_center = centers_sorted[ind]\n",
    "            # Draw left title\n",
    "            axs.flat[ind].set_title(\n",
    "                \"HSV \\n\"+\n",
    "                f\"#{hsv_rank[0]+1}, #{hsv_rank[1]+1}, #{hsv_rank[2]+1}\" + \"\\n\" +\n",
    "                f\"({hsv_center[0]}, {hsv_center[1]}, {hsv_center[2]})\",\n",
    "                fontsize=8, loc=\"left\"\n",
    "            )\n",
    "            # Draw right title\n",
    "            axs.flat[ind].set_title(\n",
    "                f\"Location:\" + \"\\n\"+\n",
    "                f\"({spatial_metrics['x']['mean']*100:.1f}, {spatial_metrics['y']['mean']:.1%})\" + \"\\n\" +\n",
    "                f\"({spatial_metrics['x']['sd']*100:.1f}, {spatial_metrics['y']['sd']:.1%})\",\n",
    "                fontsize=8, loc=\"right\", fontfamily=\"monospace\",\n",
    "            )\n",
    "            # axs.flat[ind].set_title(\n",
    "            #     f\"HSV center: [{centers_sorted[ind,0]},{centers_sorted[ind,1]},{centers_sorted[ind,2]}]\" )\n",
    "            #axs.flat[ind].imshow(kmeans_thresholds[ind], cmap=\"gray\")\n",
    "        else:\n",
    "            # remove axes for empty cells\n",
    "            axs.flat[ind].axis(\"off\")\n",
    "        # save axis as singular image\n",
    "        if (ind < 10):\n",
    "            extent = axs.flat[ind].get_window_extent().transformed(fig.dpi_scale_trans.inverted())\n",
    "            # fig.savefig(f\"C:/Users/ethan/PycharmProjects/EyeTraumaAnalysis/data/kmeans_indiv_clusters/{image_sample.split('.PNG')[0]}_v{ind}.png\", format=\"png\", bbox_inches = extent.expanded(1.1, 1.2))\n",
    "    save_dir = \"C:/Users/ethan/PycharmProjects/EyeTraumaAnalysis/data\"\n",
    "    # plt.savefig(f\"{save_dir}\\\\kmeans_clustering_applied\\\\ergonautus-10k\\\\per_cluster_mask\\\\{image_sample.split('.PNG')[0]}.png\", format='png')\n",
    "\n",
    "    # row_ct = int(np.sqrt(K))\n",
    "    # col_ct = int(np.ceil(K/row_ct))\n",
    "    # fig, axs = plt.subplots(row_ct, col_ct, figsize=(12,6), sharex=True, sharey=True)\n",
    "    # for ind in range(row_ct*col_ct):\n",
    "    #     if ind < K:\n",
    "    #         target1 = cv2.bitwise_and(image.img,image.img, mask=~kmeans_thresholds[ind])\n",
    "    #         axs.flat[ind].imshow(target1)\n",
    "    #         axs.flat[ind].set_title(\n",
    "    #         f\"Mean: {round(snd.mean(target1), 3)}\\nStd: {round(snd.standard_deviation(target1), 3)}\"\n",
    "    #     )\n",
    "    #         # axs.flat[ind].set_title(\n",
    "    #         #     f\"HSV center: [{centers_sorted[ind,0]},{centers_sorted[ind,1]},{centers_sorted[ind,2]}]\" )\n",
    "    #         #axs.flat[ind].imshow(kmeans_thresholds[ind], cmap=\"gray\")\n",
    "    #     else:\n",
    "    #         # remove axes for empty cells\n",
    "    #         axs.flat[ind].axis(\"off\")\n",
    "    # # plt.savefig(f\"{save_directory}\\\\kmeans_clustering_applied\\\\K-{K}\\\\per_cluster_mask\\\\{image_sample.split('.jpg')[0]}.png\", format='png')\n",
    "    # plt.savefig(f\"{save_directory}\\\\kmeans_clustering_applied\\\\ergonautus-10k\\\\per_cluster_mask\\\\{image_sample.split('.PNG')[0]}.png\", format='png')\n",
    "\n",
    "    # close to prevent overconsumption of memory\n",
    "    plt.close()"
   ]
  },
  {
   "cell_type": "code",
   "execution_count": null,
   "outputs": [],
   "source": [],
   "metadata": {
    "collapsed": false
   }
  }
 ],
 "metadata": {
  "kernelspec": {
   "display_name": "Python 3 (ipykernel)",
   "language": "python",
   "name": "python3"
  },
  "language_info": {
   "codemirror_mode": {
    "name": "ipython",
    "version": 3
   },
   "file_extension": ".py",
   "mimetype": "text/x-python",
   "name": "python",
   "nbconvert_exporter": "python",
   "pygments_lexer": "ipython3",
   "version": "3.11.2"
  }
 },
 "nbformat": 4,
 "nbformat_minor": 1
}
