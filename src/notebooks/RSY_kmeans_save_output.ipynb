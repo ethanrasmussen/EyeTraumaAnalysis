{
 "cells": [
  {
   "cell_type": "code",
   "execution_count": 1,
   "outputs": [],
   "source": [
    "import os\n",
    "import sys\n",
    "import importlib\n",
    "os.chdir(\"../..\")\n",
    "directory_path = os.path.abspath(os.path.join(\"src\"))\n",
    "if directory_path not in sys.path:\n",
    "    sys.path.append(directory_path)\n",
    "\n",
    "import EyeTraumaAnalysis"
   ],
   "metadata": {
    "collapsed": false,
    "pycharm": {
     "name": "#%%\n"
    }
   }
  },
  {
   "cell_type": "code",
   "execution_count": 2,
   "outputs": [],
   "source": [
    "importlib.reload(EyeTraumaAnalysis);"
   ],
   "metadata": {
    "collapsed": false,
    "pycharm": {
     "name": "#%%\n"
    }
   }
  },
  {
   "cell_type": "code",
   "execution_count": 3,
   "outputs": [],
   "source": [
    "import numpy as np\n",
    "import pandas as pd\n",
    "from matplotlib import pyplot as plt\n",
    "import matplotlib as mpl\n",
    "import cv2"
   ],
   "metadata": {
    "collapsed": false,
    "pycharm": {
     "name": "#%%\n"
    }
   }
  },
  {
   "cell_type": "code",
   "execution_count": null,
   "outputs": [],
   "source": [
    "### Clustered View ###\n",
    "\n",
    "image = EyeTraumaAnalysis.Image(\"data/01_raw/11000.jpg\")\n",
    "img_bgr = image.img\n",
    "img_hsv = cv2.cvtColor(img_bgr, cv2.COLOR_BGR2HSV)\n",
    "Z_hsv = img_hsv.reshape((-1,3))\n",
    "# convert to np.float32\n",
    "Z_hsv = np.float32(Z_hsv)\n",
    "# define criteria, number of clusters(K) and apply kmeans()\n",
    "criteria = (cv2.TERM_CRITERIA_EPS + cv2.TERM_CRITERIA_MAX_ITER, 10, 1.0)\n",
    "K = 10\n",
    "ret,label,centers=cv2.kmeans(Z_hsv,K,None,criteria,10,cv2.KMEANS_RANDOM_CENTERS)\n",
    "# Now convert back into uint8, and make original image\n",
    "centers = np.uint8(centers)\n",
    "res_hsv = centers[label.flatten()]\n",
    "res_hsv2 = res_hsv.reshape(img_hsv.shape)\n",
    "res_bgr = cv2.cvtColor(res_hsv2, cv2.COLOR_HSV2BGR)\n",
    "# res2 = cv2.cvtColor(res2, cv2.COLOR_RGB2GRAY)\n",
    "\n",
    "\n",
    "# sort centers by HSV \"value\" - aka sort by grascale\n",
    "centers_sorted = centers[centers[:, 2].argsort()]\n",
    "kmeans_thresholds = []\n",
    "for ind in range(K):\n",
    "    kmeans_thresholds.append(cv2.inRange(res_hsv2,centers_sorted[ind],centers_sorted[ind]))\n",
    "summed_image = np.zeros(kmeans_thresholds[0].shape)\n",
    "for ind in range(K):\n",
    "    summed_image += int(ind/K*255) * kmeans_thresholds[ind]\n",
    "\n",
    "fig, axs = plt.subplots(2, 2, figsize=(12,6))\n",
    "im0=axs.flat[0].imshow(img_bgr)\n",
    "im1=axs.flat[1].imshow(res_bgr)\n",
    "im2=axs.flat[2].imshow(summed_image, cmap=\"gray\")\n",
    "im3=axs.flat[3].imshow(summed_image, cmap=\"terrain\")\n",
    "plt.colorbar(im3,ax=axs.flat[3], shrink=0.8)"
   ],
   "metadata": {
    "collapsed": false,
    "pycharm": {
     "name": "#%%\n"
    }
   }
  },
  {
   "cell_type": "code",
   "execution_count": null,
   "outputs": [],
   "source": [
    "### Per Cluster Masking ###\n",
    "\n",
    "row_ct = int(np.sqrt(K))\n",
    "col_ct = int(np.ceil(K/row_ct))\n",
    "fig, axs = plt.subplots(row_ct, col_ct, figsize=(12,6), sharex=True, sharey=True)\n",
    "for ind in range(row_ct*col_ct):\n",
    "    if ind < K:\n",
    "        target1 = cv2.bitwise_and(image.img,image.img, mask=~kmeans_thresholds[ind])\n",
    "        axs.flat[ind].imshow(target1)\n",
    "        axs.flat[ind].set_title(\n",
    "            f\"HSV center: [{centers_sorted[ind,0]},{centers_sorted[ind,1]},{centers_sorted[ind,2]}]\" )\n",
    "        #axs.flat[ind].imshow(kmeans_thresholds[ind], cmap=\"gray\")\n",
    "    else:\n",
    "        # remove axes for empty cells\n",
    "        axs.flat[ind].axis(\"off\")\n"
   ],
   "metadata": {
    "collapsed": false,
    "pycharm": {
     "name": "#%%\n"
    }
   }
  }
 ],
 "metadata": {
  "kernelspec": {
   "display_name": "Python 3",
   "language": "python",
   "name": "python3"
  },
  "language_info": {
   "codemirror_mode": {
    "name": "ipython",
    "version": 2
   },
   "file_extension": ".py",
   "mimetype": "text/x-python",
   "name": "python",
   "nbconvert_exporter": "python",
   "pygments_lexer": "ipython2",
   "version": "2.7.6"
  }
 },
 "nbformat": 4,
 "nbformat_minor": 0
}